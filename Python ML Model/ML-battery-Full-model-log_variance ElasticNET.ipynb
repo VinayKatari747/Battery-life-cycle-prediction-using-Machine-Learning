{
 "cells": [
  {
   "cell_type": "code",
   "execution_count": 1,
   "metadata": {
    "executionInfo": {
     "elapsed": 1975,
     "status": "ok",
     "timestamp": 1685337279719,
     "user": {
      "displayName": "Vani Nigam",
      "userId": "17076642279981811764"
     },
     "user_tz": -330
    },
    "id": "aL-dvJbtJcHw"
   },
   "outputs": [],
   "source": [
    "%%capture --no-display\n",
    "import pandas as pd\n",
    "import numpy as np\n",
    "from sklearn.model_selection import train_test_split\n",
    "from sklearn import metrics\n",
    "from sklearn.model_selection import cross_val_score\n",
    "from sklearn.metrics import mean_squared_error\n",
    "from sklearn import preprocessing\n",
    "import matplotlib.pyplot as plt\n",
    "#-----------------------------------------------------##\n",
    "from sklearn.linear_model import LinearRegression\n",
    "from sklearn.linear_model import Ridge\n",
    "from sklearn.linear_model import Lasso\n",
    "from sklearn.linear_model import ElasticNet\n",
    "from sklearn.kernel_ridge import KernelRidge\n",
    "from sklearn import ensemble\n",
    "from scipy import stats \n",
    "from sklearn.metrics import mean_squared_error\n",
    "from sklearn.metrics import r2_score\n",
    "from sklearn.model_selection import GridSearchCV\n",
    "from scipy.stats import kurtosis\n",
    "from scipy.stats import skew\n",
    "from sklearn.model_selection import cross_validate\n",
    "from sklearn.preprocessing import *\n",
    "from sklearn.preprocessing import MinMaxScaler"
   ]
  },
  {
   "cell_type": "code",
   "execution_count": 2,
   "metadata": {
    "colab": {
     "base_uri": "https://localhost:8080/",
     "height": 346
    },
    "executionInfo": {
     "elapsed": 1952,
     "status": "error",
     "timestamp": 1685337285436,
     "user": {
      "displayName": "Vani Nigam",
      "userId": "17076642279981811764"
     },
     "user_tz": -330
    },
    "id": "mRaCt-s2JcH1",
    "outputId": "62c642d3-e872-425c-96f3-c1e177fe70c1"
   },
   "outputs": [
    {
     "data": {
      "text/html": [
       "<div>\n",
       "<style scoped>\n",
       "    .dataframe tbody tr th:only-of-type {\n",
       "        vertical-align: middle;\n",
       "    }\n",
       "\n",
       "    .dataframe tbody tr th {\n",
       "        vertical-align: top;\n",
       "    }\n",
       "\n",
       "    .dataframe thead th {\n",
       "        text-align: right;\n",
       "    }\n",
       "</style>\n",
       "<table border=\"1\" class=\"dataframe\">\n",
       "  <thead>\n",
       "    <tr style=\"text-align: right;\">\n",
       "      <th></th>\n",
       "      <th>Unnamed: 0</th>\n",
       "      <th>dq_min</th>\n",
       "      <th>dq_mean</th>\n",
       "      <th>dq_variance</th>\n",
       "      <th>dq_skewness</th>\n",
       "      <th>dq_kurtosis</th>\n",
       "      <th>slope_100_2</th>\n",
       "      <th>intercept_100_2</th>\n",
       "      <th>discharge_capacity_2</th>\n",
       "      <th>discharge_capacity_100</th>\n",
       "      <th>...</th>\n",
       "      <th>slope_100_91</th>\n",
       "      <th>intercept_100_91</th>\n",
       "      <th>ave_chg_time_5_1</th>\n",
       "      <th>max_temp_100_2</th>\n",
       "      <th>min_temp_100_2</th>\n",
       "      <th>Integral_temp_100_2</th>\n",
       "      <th>integral_resistance_2</th>\n",
       "      <th>minimum_IR</th>\n",
       "      <th>difference_IR_100_2</th>\n",
       "      <th>cycle_life</th>\n",
       "    </tr>\n",
       "  </thead>\n",
       "  <tbody>\n",
       "    <tr>\n",
       "      <th>0</th>\n",
       "      <td>0</td>\n",
       "      <td>-0.008460</td>\n",
       "      <td>-0.002873</td>\n",
       "      <td>0.000010</td>\n",
       "      <td>-0.532058</td>\n",
       "      <td>-1.348312</td>\n",
       "      <td>-0.000214</td>\n",
       "      <td>1.091381</td>\n",
       "      <td>1.070689</td>\n",
       "      <td>1.075913</td>\n",
       "      <td>...</td>\n",
       "      <td>0.000046</td>\n",
       "      <td>1.071447</td>\n",
       "      <td>13.374894</td>\n",
       "      <td>31.632496</td>\n",
       "      <td>31.266918</td>\n",
       "      <td>18.742036</td>\n",
       "      <td>0.016742</td>\n",
       "      <td>0.0</td>\n",
       "      <td>-0.000075</td>\n",
       "      <td>1852</td>\n",
       "    </tr>\n",
       "    <tr>\n",
       "      <th>1</th>\n",
       "      <td>1</td>\n",
       "      <td>-0.011004</td>\n",
       "      <td>-0.004100</td>\n",
       "      <td>0.000010</td>\n",
       "      <td>-0.429375</td>\n",
       "      <td>-1.029116</td>\n",
       "      <td>0.000007</td>\n",
       "      <td>1.080926</td>\n",
       "      <td>1.075301</td>\n",
       "      <td>1.080630</td>\n",
       "      <td>...</td>\n",
       "      <td>-0.000037</td>\n",
       "      <td>1.084382</td>\n",
       "      <td>13.409150</td>\n",
       "      <td>31.376623</td>\n",
       "      <td>31.076239</td>\n",
       "      <td>19.743747</td>\n",
       "      <td>0.017039</td>\n",
       "      <td>0.0</td>\n",
       "      <td>-0.000042</td>\n",
       "      <td>2160</td>\n",
       "    </tr>\n",
       "    <tr>\n",
       "      <th>2</th>\n",
       "      <td>2</td>\n",
       "      <td>-0.017216</td>\n",
       "      <td>-0.004487</td>\n",
       "      <td>0.000018</td>\n",
       "      <td>-1.080194</td>\n",
       "      <td>0.348637</td>\n",
       "      <td>0.000011</td>\n",
       "      <td>1.084805</td>\n",
       "      <td>1.079922</td>\n",
       "      <td>1.084940</td>\n",
       "      <td>...</td>\n",
       "      <td>-0.000040</td>\n",
       "      <td>1.088961</td>\n",
       "      <td>13.358242</td>\n",
       "      <td>31.447081</td>\n",
       "      <td>31.146742</td>\n",
       "      <td>19.985985</td>\n",
       "      <td>0.016868</td>\n",
       "      <td>0.0</td>\n",
       "      <td>-0.000014</td>\n",
       "      <td>2237</td>\n",
       "    </tr>\n",
       "    <tr>\n",
       "      <th>3</th>\n",
       "      <td>3</td>\n",
       "      <td>-0.018961</td>\n",
       "      <td>-0.007456</td>\n",
       "      <td>0.000036</td>\n",
       "      <td>-0.439050</td>\n",
       "      <td>-1.095416</td>\n",
       "      <td>0.000018</td>\n",
       "      <td>1.084030</td>\n",
       "      <td>1.079723</td>\n",
       "      <td>1.084750</td>\n",
       "      <td>...</td>\n",
       "      <td>-0.000002</td>\n",
       "      <td>1.084960</td>\n",
       "      <td>12.025140</td>\n",
       "      <td>29.982986</td>\n",
       "      <td>29.857000</td>\n",
       "      <td>18.640968</td>\n",
       "      <td>0.016370</td>\n",
       "      <td>0.0</td>\n",
       "      <td>0.000039</td>\n",
       "      <td>1434</td>\n",
       "    </tr>\n",
       "    <tr>\n",
       "      <th>4</th>\n",
       "      <td>4</td>\n",
       "      <td>-0.013958</td>\n",
       "      <td>-0.005750</td>\n",
       "      <td>0.000023</td>\n",
       "      <td>-0.362548</td>\n",
       "      <td>-1.333831</td>\n",
       "      <td>0.000020</td>\n",
       "      <td>1.081825</td>\n",
       "      <td>1.078417</td>\n",
       "      <td>1.082646</td>\n",
       "      <td>...</td>\n",
       "      <td>-0.000034</td>\n",
       "      <td>1.085988</td>\n",
       "      <td>12.041851</td>\n",
       "      <td>31.433310</td>\n",
       "      <td>31.181360</td>\n",
       "      <td>21.154489</td>\n",
       "      <td>0.016787</td>\n",
       "      <td>0.0</td>\n",
       "      <td>-0.000053</td>\n",
       "      <td>1709</td>\n",
       "    </tr>\n",
       "  </tbody>\n",
       "</table>\n",
       "<p>5 rows × 21 columns</p>\n",
       "</div>"
      ],
      "text/plain": [
       "   Unnamed: 0    dq_min   dq_mean  dq_variance  dq_skewness  dq_kurtosis  \\\n",
       "0           0 -0.008460 -0.002873     0.000010    -0.532058    -1.348312   \n",
       "1           1 -0.011004 -0.004100     0.000010    -0.429375    -1.029116   \n",
       "2           2 -0.017216 -0.004487     0.000018    -1.080194     0.348637   \n",
       "3           3 -0.018961 -0.007456     0.000036    -0.439050    -1.095416   \n",
       "4           4 -0.013958 -0.005750     0.000023    -0.362548    -1.333831   \n",
       "\n",
       "   slope_100_2  intercept_100_2  discharge_capacity_2  discharge_capacity_100  \\\n",
       "0    -0.000214         1.091381              1.070689                1.075913   \n",
       "1     0.000007         1.080926              1.075301                1.080630   \n",
       "2     0.000011         1.084805              1.079922                1.084940   \n",
       "3     0.000018         1.084030              1.079723                1.084750   \n",
       "4     0.000020         1.081825              1.078417                1.082646   \n",
       "\n",
       "   ...  slope_100_91  intercept_100_91  ave_chg_time_5_1  max_temp_100_2  \\\n",
       "0  ...      0.000046          1.071447         13.374894       31.632496   \n",
       "1  ...     -0.000037          1.084382         13.409150       31.376623   \n",
       "2  ...     -0.000040          1.088961         13.358242       31.447081   \n",
       "3  ...     -0.000002          1.084960         12.025140       29.982986   \n",
       "4  ...     -0.000034          1.085988         12.041851       31.433310   \n",
       "\n",
       "   min_temp_100_2  Integral_temp_100_2  integral_resistance_2  minimum_IR  \\\n",
       "0       31.266918            18.742036               0.016742         0.0   \n",
       "1       31.076239            19.743747               0.017039         0.0   \n",
       "2       31.146742            19.985985               0.016868         0.0   \n",
       "3       29.857000            18.640968               0.016370         0.0   \n",
       "4       31.181360            21.154489               0.016787         0.0   \n",
       "\n",
       "   difference_IR_100_2  cycle_life  \n",
       "0            -0.000075        1852  \n",
       "1            -0.000042        2160  \n",
       "2            -0.000014        2237  \n",
       "3             0.000039        1434  \n",
       "4            -0.000053        1709  \n",
       "\n",
       "[5 rows x 21 columns]"
      ]
     },
     "execution_count": 2,
     "metadata": {},
     "output_type": "execute_result"
    }
   ],
   "source": [
    "dataset = pd.read_csv(\"battery_ml (1).csv\")\n",
    "dataset.head()"
   ]
  },
  {
   "cell_type": "code",
   "execution_count": 3,
   "metadata": {
    "colab": {
     "base_uri": "https://localhost:8080/"
    },
    "executionInfo": {
     "elapsed": 422,
     "status": "ok",
     "timestamp": 1682055614689,
     "user": {
      "displayName": "Vani Nigam",
      "userId": "17076642279981811764"
     },
     "user_tz": -330
    },
    "id": "ORWs0xISJcH2",
    "outputId": "868623a3-f7d4-4b1b-a355-ecf46b119b4d"
   },
   "outputs": [
    {
     "data": {
      "text/plain": [
       "0      1852\n",
       "1      2160\n",
       "2      2237\n",
       "3      1434\n",
       "4      1709\n",
       "       ... \n",
       "119    1156\n",
       "120     796\n",
       "121     786\n",
       "122     940\n",
       "123    1801\n",
       "Name: cycle_life, Length: 124, dtype: int64"
      ]
     },
     "execution_count": 3,
     "metadata": {},
     "output_type": "execute_result"
    }
   ],
   "source": [
    "dataset[\"cycle_life\"]\n"
   ]
  },
  {
   "cell_type": "code",
   "execution_count": 4,
   "metadata": {
    "id": "jQqTBUdBJcH3",
    "outputId": "c2c40efc-5b39-4345-fb01-68eb21cc87fd"
   },
   "outputs": [
    {
     "data": {
      "image/png": "[encoded data removed]",
      "text/plain": [
       "<Figure size 640x480 with 1 Axes>"
      ]
     },
     "metadata": {},
     "output_type": "display_data"
    }
   ],
   "source": [
    "ax=dataset.hist(column='cycle_life',bins=25)\n",
    "ax = ax[0] \n",
    "for x in ax:\n",
    "    x.set_title(\"\")\n",
    "    x.set_xlabel(\" Life cycle\", labelpad=10, size=13)\n",
    "    x.set_ylabel(\"Frequency\", labelpad=10, size=13)\n",
    "\n",
    "    x.spines['right'].set_visible(False)\n",
    "    x.spines['top'].set_visible(False)\n",
    "    x.spines['left'].set_visible(False)"
   ]
  },
  {
   "cell_type": "code",
   "execution_count": 5,
   "metadata": {
    "id": "AN7xq9dTJcH4"
   },
   "outputs": [],
   "source": [
    "import seaborn as sns"
   ]
  },
  {
   "cell_type": "code",
   "execution_count": 6,
   "metadata": {
    "id": "aNaZpnZjJcH4",
    "outputId": "491871e9-d593-4973-d207-39afb408a1de"
   },
   "outputs": [
    {
     "name": "stderr",
     "output_type": "stream",
     "text": [
      "C:\\Users\\Samarthya's Laptop\\AppData\\Local\\Temp\\ipykernel_15400\\2787820880.py:1: UserWarning: \n",
      "\n",
      "`distplot` is a deprecated function and will be removed in seaborn v0.14.0.\n",
      "\n",
      "Please adapt your code to use either `displot` (a figure-level function with\n",
      "similar flexibility) or `histplot` (an axes-level function for histograms).\n",
      "\n",
      "For a guide to updating your code to use the new functions, please see\n",
      "https://gist.github.com/mwaskom/de44147ed2974457ad6372750bbe5751\n",
      "\n",
      "  sns.distplot(dataset['cycle_life'],bins=25,kde=True,color='k')\n"
     ]
    },
    {
     "data": {
      "text/plain": [
       "<Axes: xlabel='cycle_life', ylabel='Density'>"
      ]
     },
     "execution_count": 6,
     "metadata": {},
     "output_type": "execute_result"
    },
    {
     "data": {
      "image/png": "[encoded data removed]",
      "text/plain": [
       "<Figure size 640x480 with 1 Axes>"
      ]
     },
     "metadata": {},
     "output_type": "display_data"
    }
   ],
   "source": [
    "sns.distplot(dataset['cycle_life'],bins=25,kde=True,color='k')"
   ]
  },
  {
   "cell_type": "code",
   "execution_count": 7,
   "metadata": {
    "id": "rwoeFs8kJcH5",
    "outputId": "45fe2313-676d-4e55-dc92-36f891f8382f"
   },
   "outputs": [
    {
     "data": {
      "text/plain": [
       "<matplotlib.collections.PathCollection at 0x1ec5f11bc50>"
      ]
     },
     "execution_count": 7,
     "metadata": {},
     "output_type": "execute_result"
    },
    {
     "data": {
      "image/png": "[encoded data removed]",
      "text/plain": [
       "<Figure size 640x480 with 1 Axes>"
      ]
     },
     "metadata": {},
     "output_type": "display_data"
    }
   ],
   "source": [
    "#dq_variance\n",
    "plt.scatter(np.log10(dataset['dq_variance']),dataset['cycle_life'])\n"
   ]
  },
  {
   "cell_type": "code",
   "execution_count": 8,
   "metadata": {
    "id": "bOttV27fJcH5",
    "outputId": "4239a194-2bdc-459a-eeec-771e6c5a5e72"
   },
   "outputs": [
    {
     "data": {
      "text/plain": [
       "array([[ 1.        , -0.88974274],\n",
       "       [-0.88974274,  1.        ]])"
      ]
     },
     "execution_count": 8,
     "metadata": {},
     "output_type": "execute_result"
    }
   ],
   "source": [
    "np.corrcoef(np.log10(dataset['dq_variance']),dataset['cycle_life'])"
   ]
  },
  {
   "cell_type": "code",
   "execution_count": 9,
   "metadata": {
    "id": "S5XLq1XEJcH6",
    "outputId": "de369daa-4f4f-4167-ee70-4f3b3ef1f307"
   },
   "outputs": [
    {
     "data": {
      "text/plain": [
       "<matplotlib.collections.PathCollection at 0x1ec5fa21490>"
      ]
     },
     "execution_count": 9,
     "metadata": {},
     "output_type": "execute_result"
    },
    {
     "data": {
      "image/png": "[encoded data removed]",
      "text/plain": [
       "<Figure size 640x480 with 1 Axes>"
      ]
     },
     "metadata": {},
     "output_type": "display_data"
    }
   ],
   "source": [
    "plt.scatter(np.cbrt(dataset['dq_variance']),dataset['cycle_life'])"
   ]
  },
  {
   "cell_type": "code",
   "execution_count": 10,
   "metadata": {
    "id": "bET7WyK5JcH7",
    "outputId": "ac8d8ba9-1784-4586-96dd-d26b80a37d9f"
   },
   "outputs": [
    {
     "data": {
      "text/plain": [
       "array([[ 1.        , -0.80846817],\n",
       "       [-0.80846817,  1.        ]])"
      ]
     },
     "execution_count": 10,
     "metadata": {},
     "output_type": "execute_result"
    }
   ],
   "source": [
    "np.corrcoef(np.cbrt(dataset['dq_variance']),dataset['cycle_life'])"
   ]
  },
  {
   "cell_type": "code",
   "execution_count": 11,
   "metadata": {
    "id": "Pnsk2DLtJcH7"
   },
   "outputs": [],
   "source": [
    "#plt.scatter(np.log(dataset['dq_variance']),np.log10(dataset['cycle_life']))"
   ]
  },
  {
   "cell_type": "code",
   "execution_count": 12,
   "metadata": {
    "id": "8TUEB5u6JcH8"
   },
   "outputs": [],
   "source": [
    "#plt.scatter(((dataset['dq_variance']-np.mean(dataset['dq_variance'])/np.std(dataset['dq_variance']))),np.log10(dataset['cycle_life']))"
   ]
  },
  {
   "cell_type": "code",
   "execution_count": 13,
   "metadata": {
    "id": "DXKs6CNmJcH8",
    "outputId": "8a6b36d9-ef54-48c6-d193-419fe441380d"
   },
   "outputs": [
    {
     "name": "stdout",
     "output_type": "stream",
     "text": [
      "*********** Original data*******************\n",
      "count     124.000000\n",
      "mean      801.637097\n",
      "std       379.717082\n",
      "min       148.000000\n",
      "25%       498.750000\n",
      "50%       736.500000\n",
      "75%       946.500000\n",
      "max      2237.000000\n",
      "Name: cycle_life, dtype: float64\n",
      "skew :  1.5722118774617826\n",
      "kurt :  2.9001076537372352\n"
     ]
    }
   ],
   "source": [
    "print(\"*********** Original data*******************\")\n",
    "print(dataset['cycle_life'].describe())\n",
    "print(\"skew : \",skew(dataset['cycle_life']))\n",
    "print(\"kurt : \",kurtosis(dataset['cycle_life']))"
   ]
  },
  {
   "cell_type": "code",
   "execution_count": null,
   "metadata": {
    "id": "BAE_zIemJcH8"
   },
   "outputs": [],
   "source": []
  },
  {
   "cell_type": "code",
   "execution_count": null,
   "metadata": {
    "id": "eN9T0pl0JcH8"
   },
   "outputs": [],
   "source": []
  },
  {
   "cell_type": "code",
   "execution_count": null,
   "metadata": {
    "id": "frIyUW0vJcH9"
   },
   "outputs": [],
   "source": []
  },
  {
   "cell_type": "code",
   "execution_count": 14,
   "metadata": {
    "id": "NenjeDnyJcH9"
   },
   "outputs": [],
   "source": [
    "#Selecting Features and Target,  X1=features, Y1=Target\n",
    "X1=dataset.drop([\"cycle_life\",'Unnamed: 0'],axis=1)"
   ]
  },
  {
   "cell_type": "code",
   "execution_count": 15,
   "metadata": {
    "id": "tEh2bGdgJcH9",
    "outputId": "f8ea7398-5fed-45e9-bde3-f6e934f80e52"
   },
   "outputs": [
    {
     "data": {
      "text/html": [
       "<div>\n",
       "<style scoped>\n",
       "    .dataframe tbody tr th:only-of-type {\n",
       "        vertical-align: middle;\n",
       "    }\n",
       "\n",
       "    .dataframe tbody tr th {\n",
       "        vertical-align: top;\n",
       "    }\n",
       "\n",
       "    .dataframe thead th {\n",
       "        text-align: right;\n",
       "    }\n",
       "</style>\n",
       "<table border=\"1\" class=\"dataframe\">\n",
       "  <thead>\n",
       "    <tr style=\"text-align: right;\">\n",
       "      <th></th>\n",
       "      <th>dq_min</th>\n",
       "      <th>dq_mean</th>\n",
       "      <th>dq_variance</th>\n",
       "      <th>dq_skewness</th>\n",
       "      <th>dq_kurtosis</th>\n",
       "      <th>slope_100_2</th>\n",
       "      <th>intercept_100_2</th>\n",
       "      <th>discharge_capacity_2</th>\n",
       "      <th>discharge_capacity_100</th>\n",
       "      <th>diff_QD_n_2</th>\n",
       "      <th>slope_100_91</th>\n",
       "      <th>intercept_100_91</th>\n",
       "      <th>ave_chg_time_5_1</th>\n",
       "      <th>max_temp_100_2</th>\n",
       "      <th>min_temp_100_2</th>\n",
       "      <th>Integral_temp_100_2</th>\n",
       "      <th>integral_resistance_2</th>\n",
       "      <th>minimum_IR</th>\n",
       "      <th>difference_IR_100_2</th>\n",
       "    </tr>\n",
       "  </thead>\n",
       "  <tbody>\n",
       "    <tr>\n",
       "      <th>0</th>\n",
       "      <td>-0.008460</td>\n",
       "      <td>-0.002873</td>\n",
       "      <td>0.000010</td>\n",
       "      <td>-0.532058</td>\n",
       "      <td>-1.348312</td>\n",
       "      <td>-2.137460e-04</td>\n",
       "      <td>1.091381</td>\n",
       "      <td>1.070689</td>\n",
       "      <td>1.075913</td>\n",
       "      <td>0.468365</td>\n",
       "      <td>0.000046</td>\n",
       "      <td>1.071447</td>\n",
       "      <td>13.374894</td>\n",
       "      <td>31.632496</td>\n",
       "      <td>31.266918</td>\n",
       "      <td>18.742036</td>\n",
       "      <td>0.016742</td>\n",
       "      <td>0.000000</td>\n",
       "      <td>-0.000075</td>\n",
       "    </tr>\n",
       "    <tr>\n",
       "      <th>1</th>\n",
       "      <td>-0.011004</td>\n",
       "      <td>-0.004100</td>\n",
       "      <td>0.000010</td>\n",
       "      <td>-0.429375</td>\n",
       "      <td>-1.029116</td>\n",
       "      <td>6.676023e-06</td>\n",
       "      <td>1.080926</td>\n",
       "      <td>1.075301</td>\n",
       "      <td>1.080630</td>\n",
       "      <td>0.009288</td>\n",
       "      <td>-0.000037</td>\n",
       "      <td>1.084382</td>\n",
       "      <td>13.409150</td>\n",
       "      <td>31.376623</td>\n",
       "      <td>31.076239</td>\n",
       "      <td>19.743747</td>\n",
       "      <td>0.017039</td>\n",
       "      <td>0.000000</td>\n",
       "      <td>-0.000042</td>\n",
       "    </tr>\n",
       "    <tr>\n",
       "      <th>2</th>\n",
       "      <td>-0.017216</td>\n",
       "      <td>-0.004487</td>\n",
       "      <td>0.000018</td>\n",
       "      <td>-1.080194</td>\n",
       "      <td>0.348637</td>\n",
       "      <td>1.149798e-05</td>\n",
       "      <td>1.084805</td>\n",
       "      <td>1.079922</td>\n",
       "      <td>1.084940</td>\n",
       "      <td>0.008131</td>\n",
       "      <td>-0.000040</td>\n",
       "      <td>1.088961</td>\n",
       "      <td>13.358242</td>\n",
       "      <td>31.447081</td>\n",
       "      <td>31.146742</td>\n",
       "      <td>19.985985</td>\n",
       "      <td>0.016868</td>\n",
       "      <td>0.000000</td>\n",
       "      <td>-0.000014</td>\n",
       "    </tr>\n",
       "    <tr>\n",
       "      <th>3</th>\n",
       "      <td>-0.018961</td>\n",
       "      <td>-0.007456</td>\n",
       "      <td>0.000036</td>\n",
       "      <td>-0.439050</td>\n",
       "      <td>-1.095416</td>\n",
       "      <td>1.846790e-05</td>\n",
       "      <td>1.084030</td>\n",
       "      <td>1.079723</td>\n",
       "      <td>1.084750</td>\n",
       "      <td>0.006530</td>\n",
       "      <td>-0.000002</td>\n",
       "      <td>1.084960</td>\n",
       "      <td>12.025140</td>\n",
       "      <td>29.982986</td>\n",
       "      <td>29.857000</td>\n",
       "      <td>18.640968</td>\n",
       "      <td>0.016370</td>\n",
       "      <td>0.000000</td>\n",
       "      <td>0.000039</td>\n",
       "    </tr>\n",
       "    <tr>\n",
       "      <th>4</th>\n",
       "      <td>-0.013958</td>\n",
       "      <td>-0.005750</td>\n",
       "      <td>0.000023</td>\n",
       "      <td>-0.362548</td>\n",
       "      <td>-1.333831</td>\n",
       "      <td>2.046078e-05</td>\n",
       "      <td>1.081825</td>\n",
       "      <td>1.078417</td>\n",
       "      <td>1.082646</td>\n",
       "      <td>0.005900</td>\n",
       "      <td>-0.000034</td>\n",
       "      <td>1.085988</td>\n",
       "      <td>12.041851</td>\n",
       "      <td>31.433310</td>\n",
       "      <td>31.181360</td>\n",
       "      <td>21.154489</td>\n",
       "      <td>0.016787</td>\n",
       "      <td>0.000000</td>\n",
       "      <td>-0.000053</td>\n",
       "    </tr>\n",
       "    <tr>\n",
       "      <th>...</th>\n",
       "      <td>...</td>\n",
       "      <td>...</td>\n",
       "      <td>...</td>\n",
       "      <td>...</td>\n",
       "      <td>...</td>\n",
       "      <td>...</td>\n",
       "      <td>...</td>\n",
       "      <td>...</td>\n",
       "      <td>...</td>\n",
       "      <td>...</td>\n",
       "      <td>...</td>\n",
       "      <td>...</td>\n",
       "      <td>...</td>\n",
       "      <td>...</td>\n",
       "      <td>...</td>\n",
       "      <td>...</td>\n",
       "      <td>...</td>\n",
       "      <td>...</td>\n",
       "      <td>...</td>\n",
       "    </tr>\n",
       "    <tr>\n",
       "      <th>119</th>\n",
       "      <td>-0.017458</td>\n",
       "      <td>-0.006428</td>\n",
       "      <td>0.000035</td>\n",
       "      <td>-0.292539</td>\n",
       "      <td>-1.003013</td>\n",
       "      <td>-5.631454e-06</td>\n",
       "      <td>1.050886</td>\n",
       "      <td>1.047404</td>\n",
       "      <td>1.049504</td>\n",
       "      <td>0.004107</td>\n",
       "      <td>-0.000005</td>\n",
       "      <td>1.050216</td>\n",
       "      <td>10.043833</td>\n",
       "      <td>34.218964</td>\n",
       "      <td>33.899652</td>\n",
       "      <td>51.489886</td>\n",
       "      <td>0.015741</td>\n",
       "      <td>0.015481</td>\n",
       "      <td>-0.000155</td>\n",
       "    </tr>\n",
       "    <tr>\n",
       "      <th>120</th>\n",
       "      <td>-0.022054</td>\n",
       "      <td>-0.009079</td>\n",
       "      <td>0.000051</td>\n",
       "      <td>-0.315431</td>\n",
       "      <td>-1.138513</td>\n",
       "      <td>-6.625013e-06</td>\n",
       "      <td>1.063355</td>\n",
       "      <td>1.059324</td>\n",
       "      <td>1.061757</td>\n",
       "      <td>0.004510</td>\n",
       "      <td>-0.000042</td>\n",
       "      <td>1.066049</td>\n",
       "      <td>10.043563</td>\n",
       "      <td>33.911189</td>\n",
       "      <td>32.981926</td>\n",
       "      <td>66.841951</td>\n",
       "      <td>0.015562</td>\n",
       "      <td>0.014996</td>\n",
       "      <td>-0.000234</td>\n",
       "    </tr>\n",
       "    <tr>\n",
       "      <th>121</th>\n",
       "      <td>-0.024193</td>\n",
       "      <td>-0.009748</td>\n",
       "      <td>0.000060</td>\n",
       "      <td>-0.357134</td>\n",
       "      <td>-1.063130</td>\n",
       "      <td>1.066398e-05</td>\n",
       "      <td>1.053846</td>\n",
       "      <td>1.050522</td>\n",
       "      <td>1.054153</td>\n",
       "      <td>0.004362</td>\n",
       "      <td>-0.000057</td>\n",
       "      <td>1.059706</td>\n",
       "      <td>10.042974</td>\n",
       "      <td>33.621746</td>\n",
       "      <td>32.648149</td>\n",
       "      <td>72.070386</td>\n",
       "      <td>0.018542</td>\n",
       "      <td>0.017007</td>\n",
       "      <td>-0.000173</td>\n",
       "    </tr>\n",
       "    <tr>\n",
       "      <th>122</th>\n",
       "      <td>-0.025985</td>\n",
       "      <td>-0.011231</td>\n",
       "      <td>0.000074</td>\n",
       "      <td>-0.244616</td>\n",
       "      <td>-1.238396</td>\n",
       "      <td>5.494642e-06</td>\n",
       "      <td>1.073051</td>\n",
       "      <td>1.069720</td>\n",
       "      <td>1.072928</td>\n",
       "      <td>0.004185</td>\n",
       "      <td>-0.000028</td>\n",
       "      <td>1.075614</td>\n",
       "      <td>10.043436</td>\n",
       "      <td>33.111576</td>\n",
       "      <td>32.626095</td>\n",
       "      <td>64.641417</td>\n",
       "      <td>0.015723</td>\n",
       "      <td>0.015505</td>\n",
       "      <td>-0.000106</td>\n",
       "    </tr>\n",
       "    <tr>\n",
       "      <th>123</th>\n",
       "      <td>-0.016478</td>\n",
       "      <td>-0.007132</td>\n",
       "      <td>0.000030</td>\n",
       "      <td>-0.328143</td>\n",
       "      <td>-1.177129</td>\n",
       "      <td>4.360338e-07</td>\n",
       "      <td>1.071453</td>\n",
       "      <td>1.069549</td>\n",
       "      <td>1.071125</td>\n",
       "      <td>0.002596</td>\n",
       "      <td>-0.000011</td>\n",
       "      <td>1.072108</td>\n",
       "      <td>11.037650</td>\n",
       "      <td>32.682870</td>\n",
       "      <td>32.265186</td>\n",
       "      <td>77.553560</td>\n",
       "      <td>0.015742</td>\n",
       "      <td>0.015389</td>\n",
       "      <td>-0.000080</td>\n",
       "    </tr>\n",
       "  </tbody>\n",
       "</table>\n",
       "<p>124 rows × 19 columns</p>\n",
       "</div>"
      ],
      "text/plain": [
       "       dq_min   dq_mean  dq_variance  dq_skewness  dq_kurtosis   slope_100_2  \\\n",
       "0   -0.008460 -0.002873     0.000010    -0.532058    -1.348312 -2.137460e-04   \n",
       "1   -0.011004 -0.004100     0.000010    -0.429375    -1.029116  6.676023e-06   \n",
       "2   -0.017216 -0.004487     0.000018    -1.080194     0.348637  1.149798e-05   \n",
       "3   -0.018961 -0.007456     0.000036    -0.439050    -1.095416  1.846790e-05   \n",
       "4   -0.013958 -0.005750     0.000023    -0.362548    -1.333831  2.046078e-05   \n",
       "..        ...       ...          ...          ...          ...           ...   \n",
       "119 -0.017458 -0.006428     0.000035    -0.292539    -1.003013 -5.631454e-06   \n",
       "120 -0.022054 -0.009079     0.000051    -0.315431    -1.138513 -6.625013e-06   \n",
       "121 -0.024193 -0.009748     0.000060    -0.357134    -1.063130  1.066398e-05   \n",
       "122 -0.025985 -0.011231     0.000074    -0.244616    -1.238396  5.494642e-06   \n",
       "123 -0.016478 -0.007132     0.000030    -0.328143    -1.177129  4.360338e-07   \n",
       "\n",
       "     intercept_100_2  discharge_capacity_2  discharge_capacity_100  \\\n",
       "0           1.091381              1.070689                1.075913   \n",
       "1           1.080926              1.075301                1.080630   \n",
       "2           1.084805              1.079922                1.084940   \n",
       "3           1.084030              1.079723                1.084750   \n",
       "4           1.081825              1.078417                1.082646   \n",
       "..               ...                   ...                     ...   \n",
       "119         1.050886              1.047404                1.049504   \n",
       "120         1.063355              1.059324                1.061757   \n",
       "121         1.053846              1.050522                1.054153   \n",
       "122         1.073051              1.069720                1.072928   \n",
       "123         1.071453              1.069549                1.071125   \n",
       "\n",
       "     diff_QD_n_2  slope_100_91  intercept_100_91  ave_chg_time_5_1  \\\n",
       "0       0.468365      0.000046          1.071447         13.374894   \n",
       "1       0.009288     -0.000037          1.084382         13.409150   \n",
       "2       0.008131     -0.000040          1.088961         13.358242   \n",
       "3       0.006530     -0.000002          1.084960         12.025140   \n",
       "4       0.005900     -0.000034          1.085988         12.041851   \n",
       "..           ...           ...               ...               ...   \n",
       "119     0.004107     -0.000005          1.050216         10.043833   \n",
       "120     0.004510     -0.000042          1.066049         10.043563   \n",
       "121     0.004362     -0.000057          1.059706         10.042974   \n",
       "122     0.004185     -0.000028          1.075614         10.043436   \n",
       "123     0.002596     -0.000011          1.072108         11.037650   \n",
       "\n",
       "     max_temp_100_2  min_temp_100_2  Integral_temp_100_2  \\\n",
       "0         31.632496       31.266918            18.742036   \n",
       "1         31.376623       31.076239            19.743747   \n",
       "2         31.447081       31.146742            19.985985   \n",
       "3         29.982986       29.857000            18.640968   \n",
       "4         31.433310       31.181360            21.154489   \n",
       "..              ...             ...                  ...   \n",
       "119       34.218964       33.899652            51.489886   \n",
       "120       33.911189       32.981926            66.841951   \n",
       "121       33.621746       32.648149            72.070386   \n",
       "122       33.111576       32.626095            64.641417   \n",
       "123       32.682870       32.265186            77.553560   \n",
       "\n",
       "     integral_resistance_2  minimum_IR  difference_IR_100_2  \n",
       "0                 0.016742    0.000000            -0.000075  \n",
       "1                 0.017039    0.000000            -0.000042  \n",
       "2                 0.016868    0.000000            -0.000014  \n",
       "3                 0.016370    0.000000             0.000039  \n",
       "4                 0.016787    0.000000            -0.000053  \n",
       "..                     ...         ...                  ...  \n",
       "119               0.015741    0.015481            -0.000155  \n",
       "120               0.015562    0.014996            -0.000234  \n",
       "121               0.018542    0.017007            -0.000173  \n",
       "122               0.015723    0.015505            -0.000106  \n",
       "123               0.015742    0.015389            -0.000080  \n",
       "\n",
       "[124 rows x 19 columns]"
      ]
     },
     "execution_count": 15,
     "metadata": {},
     "output_type": "execute_result"
    }
   ],
   "source": [
    "X1"
   ]
  },
  {
   "cell_type": "code",
   "execution_count": null,
   "metadata": {
    "id": "88WAcEQMJcH9"
   },
   "outputs": [],
   "source": []
  },
  {
   "cell_type": "code",
   "execution_count": 16,
   "metadata": {
    "id": "0h1zIKzlJcH9"
   },
   "outputs": [],
   "source": [
    "X1=X1[['dq_min','dq_variance','slope_100_2','intercept_100_2',\n",
    "    'discharge_capacity_2','ave_chg_time_5_1','Integral_temp_100_2',\n",
    "   'minimum_IR','difference_IR_100_2']]"
   ]
  },
  {
   "cell_type": "code",
   "execution_count": 17,
   "metadata": {
    "id": "gPAMXmAVJcH-",
    "outputId": "7fb783e0-e0cc-451c-9604-b34d88c8f2d4"
   },
   "outputs": [
    {
     "data": {
      "text/html": [
       "<div>\n",
       "<style scoped>\n",
       "    .dataframe tbody tr th:only-of-type {\n",
       "        vertical-align: middle;\n",
       "    }\n",
       "\n",
       "    .dataframe tbody tr th {\n",
       "        vertical-align: top;\n",
       "    }\n",
       "\n",
       "    .dataframe thead th {\n",
       "        text-align: right;\n",
       "    }\n",
       "</style>\n",
       "<table border=\"1\" class=\"dataframe\">\n",
       "  <thead>\n",
       "    <tr style=\"text-align: right;\">\n",
       "      <th></th>\n",
       "      <th>dq_min</th>\n",
       "      <th>dq_variance</th>\n",
       "      <th>slope_100_2</th>\n",
       "      <th>intercept_100_2</th>\n",
       "      <th>discharge_capacity_2</th>\n",
       "      <th>ave_chg_time_5_1</th>\n",
       "      <th>Integral_temp_100_2</th>\n",
       "      <th>minimum_IR</th>\n",
       "      <th>difference_IR_100_2</th>\n",
       "    </tr>\n",
       "  </thead>\n",
       "  <tbody>\n",
       "    <tr>\n",
       "      <th>0</th>\n",
       "      <td>-0.008460</td>\n",
       "      <td>0.000010</td>\n",
       "      <td>-2.137460e-04</td>\n",
       "      <td>1.091381</td>\n",
       "      <td>1.070689</td>\n",
       "      <td>13.374894</td>\n",
       "      <td>18.742036</td>\n",
       "      <td>0.000000</td>\n",
       "      <td>-0.000075</td>\n",
       "    </tr>\n",
       "    <tr>\n",
       "      <th>1</th>\n",
       "      <td>-0.011004</td>\n",
       "      <td>0.000010</td>\n",
       "      <td>6.676023e-06</td>\n",
       "      <td>1.080926</td>\n",
       "      <td>1.075301</td>\n",
       "      <td>13.409150</td>\n",
       "      <td>19.743747</td>\n",
       "      <td>0.000000</td>\n",
       "      <td>-0.000042</td>\n",
       "    </tr>\n",
       "    <tr>\n",
       "      <th>2</th>\n",
       "      <td>-0.017216</td>\n",
       "      <td>0.000018</td>\n",
       "      <td>1.149798e-05</td>\n",
       "      <td>1.084805</td>\n",
       "      <td>1.079922</td>\n",
       "      <td>13.358242</td>\n",
       "      <td>19.985985</td>\n",
       "      <td>0.000000</td>\n",
       "      <td>-0.000014</td>\n",
       "    </tr>\n",
       "    <tr>\n",
       "      <th>3</th>\n",
       "      <td>-0.018961</td>\n",
       "      <td>0.000036</td>\n",
       "      <td>1.846790e-05</td>\n",
       "      <td>1.084030</td>\n",
       "      <td>1.079723</td>\n",
       "      <td>12.025140</td>\n",
       "      <td>18.640968</td>\n",
       "      <td>0.000000</td>\n",
       "      <td>0.000039</td>\n",
       "    </tr>\n",
       "    <tr>\n",
       "      <th>4</th>\n",
       "      <td>-0.013958</td>\n",
       "      <td>0.000023</td>\n",
       "      <td>2.046078e-05</td>\n",
       "      <td>1.081825</td>\n",
       "      <td>1.078417</td>\n",
       "      <td>12.041851</td>\n",
       "      <td>21.154489</td>\n",
       "      <td>0.000000</td>\n",
       "      <td>-0.000053</td>\n",
       "    </tr>\n",
       "    <tr>\n",
       "      <th>...</th>\n",
       "      <td>...</td>\n",
       "      <td>...</td>\n",
       "      <td>...</td>\n",
       "      <td>...</td>\n",
       "      <td>...</td>\n",
       "      <td>...</td>\n",
       "      <td>...</td>\n",
       "      <td>...</td>\n",
       "      <td>...</td>\n",
       "    </tr>\n",
       "    <tr>\n",
       "      <th>119</th>\n",
       "      <td>-0.017458</td>\n",
       "      <td>0.000035</td>\n",
       "      <td>-5.631454e-06</td>\n",
       "      <td>1.050886</td>\n",
       "      <td>1.047404</td>\n",
       "      <td>10.043833</td>\n",
       "      <td>51.489886</td>\n",
       "      <td>0.015481</td>\n",
       "      <td>-0.000155</td>\n",
       "    </tr>\n",
       "    <tr>\n",
       "      <th>120</th>\n",
       "      <td>-0.022054</td>\n",
       "      <td>0.000051</td>\n",
       "      <td>-6.625013e-06</td>\n",
       "      <td>1.063355</td>\n",
       "      <td>1.059324</td>\n",
       "      <td>10.043563</td>\n",
       "      <td>66.841951</td>\n",
       "      <td>0.014996</td>\n",
       "      <td>-0.000234</td>\n",
       "    </tr>\n",
       "    <tr>\n",
       "      <th>121</th>\n",
       "      <td>-0.024193</td>\n",
       "      <td>0.000060</td>\n",
       "      <td>1.066398e-05</td>\n",
       "      <td>1.053846</td>\n",
       "      <td>1.050522</td>\n",
       "      <td>10.042974</td>\n",
       "      <td>72.070386</td>\n",
       "      <td>0.017007</td>\n",
       "      <td>-0.000173</td>\n",
       "    </tr>\n",
       "    <tr>\n",
       "      <th>122</th>\n",
       "      <td>-0.025985</td>\n",
       "      <td>0.000074</td>\n",
       "      <td>5.494642e-06</td>\n",
       "      <td>1.073051</td>\n",
       "      <td>1.069720</td>\n",
       "      <td>10.043436</td>\n",
       "      <td>64.641417</td>\n",
       "      <td>0.015505</td>\n",
       "      <td>-0.000106</td>\n",
       "    </tr>\n",
       "    <tr>\n",
       "      <th>123</th>\n",
       "      <td>-0.016478</td>\n",
       "      <td>0.000030</td>\n",
       "      <td>4.360338e-07</td>\n",
       "      <td>1.071453</td>\n",
       "      <td>1.069549</td>\n",
       "      <td>11.037650</td>\n",
       "      <td>77.553560</td>\n",
       "      <td>0.015389</td>\n",
       "      <td>-0.000080</td>\n",
       "    </tr>\n",
       "  </tbody>\n",
       "</table>\n",
       "<p>124 rows × 9 columns</p>\n",
       "</div>"
      ],
      "text/plain": [
       "       dq_min  dq_variance   slope_100_2  intercept_100_2  \\\n",
       "0   -0.008460     0.000010 -2.137460e-04         1.091381   \n",
       "1   -0.011004     0.000010  6.676023e-06         1.080926   \n",
       "2   -0.017216     0.000018  1.149798e-05         1.084805   \n",
       "3   -0.018961     0.000036  1.846790e-05         1.084030   \n",
       "4   -0.013958     0.000023  2.046078e-05         1.081825   \n",
       "..        ...          ...           ...              ...   \n",
       "119 -0.017458     0.000035 -5.631454e-06         1.050886   \n",
       "120 -0.022054     0.000051 -6.625013e-06         1.063355   \n",
       "121 -0.024193     0.000060  1.066398e-05         1.053846   \n",
       "122 -0.025985     0.000074  5.494642e-06         1.073051   \n",
       "123 -0.016478     0.000030  4.360338e-07         1.071453   \n",
       "\n",
       "     discharge_capacity_2  ave_chg_time_5_1  Integral_temp_100_2  minimum_IR  \\\n",
       "0                1.070689         13.374894            18.742036    0.000000   \n",
       "1                1.075301         13.409150            19.743747    0.000000   \n",
       "2                1.079922         13.358242            19.985985    0.000000   \n",
       "3                1.079723         12.025140            18.640968    0.000000   \n",
       "4                1.078417         12.041851            21.154489    0.000000   \n",
       "..                    ...               ...                  ...         ...   \n",
       "119              1.047404         10.043833            51.489886    0.015481   \n",
       "120              1.059324         10.043563            66.841951    0.014996   \n",
       "121              1.050522         10.042974            72.070386    0.017007   \n",
       "122              1.069720         10.043436            64.641417    0.015505   \n",
       "123              1.069549         11.037650            77.553560    0.015389   \n",
       "\n",
       "     difference_IR_100_2  \n",
       "0              -0.000075  \n",
       "1              -0.000042  \n",
       "2              -0.000014  \n",
       "3               0.000039  \n",
       "4              -0.000053  \n",
       "..                   ...  \n",
       "119            -0.000155  \n",
       "120            -0.000234  \n",
       "121            -0.000173  \n",
       "122            -0.000106  \n",
       "123            -0.000080  \n",
       "\n",
       "[124 rows x 9 columns]"
      ]
     },
     "execution_count": 17,
     "metadata": {},
     "output_type": "execute_result"
    }
   ],
   "source": [
    "X1"
   ]
  },
  {
   "cell_type": "code",
   "execution_count": 18,
   "metadata": {
    "id": "9NOpg0DWJcH-"
   },
   "outputs": [],
   "source": [
    "export=pd.concat([X1,dataset[\"cycle_life\"]],axis=1)"
   ]
  },
  {
   "cell_type": "code",
   "execution_count": 19,
   "metadata": {
    "id": "d2esHE_QJcH-"
   },
   "outputs": [],
   "source": [
    "export.to_csv('sisso.csv',sep=' ')"
   ]
  },
  {
   "cell_type": "code",
   "execution_count": null,
   "metadata": {
    "id": "LJrOi4ipJcH-"
   },
   "outputs": [],
   "source": []
  },
  {
   "cell_type": "code",
   "execution_count": 20,
   "metadata": {
    "id": "LS4st6JUJcH-",
    "outputId": "592e14ec-eb08-4642-fd52-cdf759c47b58"
   },
   "outputs": [
    {
     "name": "stderr",
     "output_type": "stream",
     "text": [
      "C:\\Users\\Samarthya's Laptop\\AppData\\Local\\Temp\\ipykernel_15400\\3541331533.py:1: SettingWithCopyWarning: \n",
      "A value is trying to be set on a copy of a slice from a DataFrame.\n",
      "Try using .loc[row_indexer,col_indexer] = value instead\n",
      "\n",
      "See the caveats in the documentation: https://pandas.pydata.org/pandas-docs/stable/user_guide/indexing.html#returning-a-view-versus-a-copy\n",
      "  X1['dq_variance']=np.log10(X1['dq_variance'])\n"
     ]
    }
   ],
   "source": [
    "X1['dq_variance']=np.log10(X1['dq_variance'])"
   ]
  },
  {
   "cell_type": "code",
   "execution_count": null,
   "metadata": {
    "id": "ygufMQayJcH-"
   },
   "outputs": [],
   "source": []
  },
  {
   "cell_type": "code",
   "execution_count": 21,
   "metadata": {
    "id": "sJUrIZ2vJcH-"
   },
   "outputs": [],
   "source": [
    "#X1 = preprocessing.scale(X1)"
   ]
  },
  {
   "cell_type": "code",
   "execution_count": 22,
   "metadata": {
    "id": "RGUlalOuJcH_"
   },
   "outputs": [],
   "source": [
    "Y1=dataset[\"cycle_life\"]"
   ]
  },
  {
   "cell_type": "code",
   "execution_count": 23,
   "metadata": {
    "id": "-JlwCIzdJcH_"
   },
   "outputs": [],
   "source": [
    "#Y1=Y.apply(lambda x: np.sqrt(x))\n",
    "#Y1=Y.apply(lambda x: x**(1/3))\n",
    "#Y1=Y.apply(lambda x: np.log(x))\n",
    "#Y1=Y.apply(lambda x: x**(-0.375))\n",
    "#Y1=Y\n",
    "#Y1.hist(bins=20)\n",
    "#print(\"*********** Original data*******************\")\n",
    "#print(Y1.describe())\n",
    "#print(\"skew : \",skew(Y1))\n",
    "#print(\"kurt : \",kurtosis(Y1))"
   ]
  },
  {
   "cell_type": "code",
   "execution_count": null,
   "metadata": {
    "id": "mvdzPJGUJcH_"
   },
   "outputs": [],
   "source": []
  },
  {
   "cell_type": "code",
   "execution_count": 24,
   "metadata": {
    "id": "YdjoaNHMJcH_"
   },
   "outputs": [],
   "source": [
    "X_train, X_test, Y_train, Y_test = train_test_split(X1[0:82], Y1[0:82],\n",
    "                                                    test_size = 0.4, random_state=1000)"
   ]
  },
  {
   "cell_type": "code",
   "execution_count": 25,
   "metadata": {
    "id": "rlmDjxYOJcH_"
   },
   "outputs": [],
   "source": [
    "#X_train=X1[0:40]\n",
    "#Y_train=Y1[0:40]"
   ]
  },
  {
   "cell_type": "code",
   "execution_count": 26,
   "metadata": {
    "id": "YI9skETxJcH_"
   },
   "outputs": [],
   "source": [
    "#X_test=X1[41:83]\n",
    "#Y_test=Y1[41:83]"
   ]
  },
  {
   "cell_type": "code",
   "execution_count": 27,
   "metadata": {
    "id": "_bAc-qzSJcIA"
   },
   "outputs": [],
   "source": [
    "X_val=X1[84:123]\n",
    "Y_val=Y1[84:123]"
   ]
  },
  {
   "cell_type": "markdown",
   "metadata": {
    "id": "jdhoe75bJcIA"
   },
   "source": [
    "# Regression with ElasticNet"
   ]
  },
  {
   "cell_type": "code",
   "execution_count": 28,
   "metadata": {
    "id": "af5tCbiLJcIB"
   },
   "outputs": [],
   "source": [
    "model=ElasticNet()"
   ]
  },
  {
   "cell_type": "code",
   "execution_count": 29,
   "metadata": {
    "id": "bSp1RPdKJcIB",
    "outputId": "bcb90a28-f52f-43ed-8b0f-368ed2d89489"
   },
   "outputs": [
    {
     "data": {
      "text/html": [
       "<style>#sk-container-id-1 {color: black;background-color: white;}#sk-container-id-1 pre{padding: 0;}#sk-container-id-1 div.sk-toggleable {background-color: white;}#sk-container-id-1 label.sk-toggleable__label {cursor: pointer;display: block;width: 100%;margin-bottom: 0;padding: 0.3em;box-sizing: border-box;text-align: center;}#sk-container-id-1 label.sk-toggleable__label-arrow:before {content: \"▸\";float: left;margin-right: 0.25em;color: #696969;}#sk-container-id-1 label.sk-toggleable__label-arrow:hover:before {color: black;}#sk-container-id-1 div.sk-estimator:hover label.sk-toggleable__label-arrow:before {color: black;}#sk-container-id-1 div.sk-toggleable__content {max-height: 0;max-width: 0;overflow: hidden;text-align: left;background-color: #f0f8ff;}#sk-container-id-1 div.sk-toggleable__content pre {margin: 0.2em;color: black;border-radius: 0.25em;background-color: #f0f8ff;}#sk-container-id-1 input.sk-toggleable__control:checked~div.sk-toggleable__content {max-height: 200px;max-width: 100%;overflow: auto;}#sk-container-id-1 input.sk-toggleable__control:checked~label.sk-toggleable__label-arrow:before {content: \"▾\";}#sk-container-id-1 div.sk-estimator input.sk-toggleable__control:checked~label.sk-toggleable__label {background-color: #d4ebff;}#sk-container-id-1 div.sk-label input.sk-toggleable__control:checked~label.sk-toggleable__label {background-color: #d4ebff;}#sk-container-id-1 input.sk-hidden--visually {border: 0;clip: rect(1px 1px 1px 1px);clip: rect(1px, 1px, 1px, 1px);height: 1px;margin: -1px;overflow: hidden;padding: 0;position: absolute;width: 1px;}#sk-container-id-1 div.sk-estimator {font-family: monospace;background-color: #f0f8ff;border: 1px dotted black;border-radius: 0.25em;box-sizing: border-box;margin-bottom: 0.5em;}#sk-container-id-1 div.sk-estimator:hover {background-color: #d4ebff;}#sk-container-id-1 div.sk-parallel-item::after {content: \"\";width: 100%;border-bottom: 1px solid gray;flex-grow: 1;}#sk-container-id-1 div.sk-label:hover label.sk-toggleable__label {background-color: #d4ebff;}#sk-container-id-1 div.sk-serial::before {content: \"\";position: absolute;border-left: 1px solid gray;box-sizing: border-box;top: 0;bottom: 0;left: 50%;z-index: 0;}#sk-container-id-1 div.sk-serial {display: flex;flex-direction: column;align-items: center;background-color: white;padding-right: 0.2em;padding-left: 0.2em;position: relative;}#sk-container-id-1 div.sk-item {position: relative;z-index: 1;}#sk-container-id-1 div.sk-parallel {display: flex;align-items: stretch;justify-content: center;background-color: white;position: relative;}#sk-container-id-1 div.sk-item::before, #sk-container-id-1 div.sk-parallel-item::before {content: \"\";position: absolute;border-left: 1px solid gray;box-sizing: border-box;top: 0;bottom: 0;left: 50%;z-index: -1;}#sk-container-id-1 div.sk-parallel-item {display: flex;flex-direction: column;z-index: 1;position: relative;background-color: white;}#sk-container-id-1 div.sk-parallel-item:first-child::after {align-self: flex-end;width: 50%;}#sk-container-id-1 div.sk-parallel-item:last-child::after {align-self: flex-start;width: 50%;}#sk-container-id-1 div.sk-parallel-item:only-child::after {width: 0;}#sk-container-id-1 div.sk-dashed-wrapped {border: 1px dashed gray;margin: 0 0.4em 0.5em 0.4em;box-sizing: border-box;padding-bottom: 0.4em;background-color: white;}#sk-container-id-1 div.sk-label label {font-family: monospace;font-weight: bold;display: inline-block;line-height: 1.2em;}#sk-container-id-1 div.sk-label-container {text-align: center;}#sk-container-id-1 div.sk-container {/* jupyter's `normalize.less` sets `[hidden] { display: none; }` but bootstrap.min.css set `[hidden] { display: none !important; }` so we also need the `!important` here to be able to override the default hidden behavior on the sphinx rendered scikit-learn.org. See: https://github.com/scikit-learn/scikit-learn/issues/21755 */display: inline-block !important;position: relative;}#sk-container-id-1 div.sk-text-repr-fallback {display: none;}</style><div id=\"sk-container-id-1\" class=\"sk-top-container\"><div class=\"sk-text-repr-fallback\"><pre>ElasticNet()</pre><b>In a Jupyter environment, please rerun this cell to show the HTML representation or trust the notebook. <br />On GitHub, the HTML representation is unable to render, please try loading this page with nbviewer.org.</b></div><div class=\"sk-container\" hidden><div class=\"sk-item\"><div class=\"sk-estimator sk-toggleable\"><input class=\"sk-toggleable__control sk-hidden--visually\" id=\"sk-estimator-id-1\" type=\"checkbox\" checked><label for=\"sk-estimator-id-1\" class=\"sk-toggleable__label sk-toggleable__label-arrow\">ElasticNet</label><div class=\"sk-toggleable__content\"><pre>ElasticNet()</pre></div></div></div></div></div>"
      ],
      "text/plain": [
       "ElasticNet()"
      ]
     },
     "execution_count": 29,
     "metadata": {},
     "output_type": "execute_result"
    }
   ],
   "source": [
    "model.fit(X_train,Y_train)"
   ]
  },
  {
   "cell_type": "code",
   "execution_count": 30,
   "metadata": {
    "id": "4iqtlsFfJcIB",
    "outputId": "fc3a6285-d69a-4e8b-8170-14e5f26eaa19"
   },
   "outputs": [
    {
     "name": "stdout",
     "output_type": "stream",
     "text": [
      "The model performance for training set\n",
      "--------------------------------------\n",
      "RMSE is 190.92541176821882\n",
      "R2 score is 0.6854173680537726\n"
     ]
    }
   ],
   "source": [
    "##### model evaluation for training set\n",
    "y_train_predict = model.predict(X_train)\n",
    "rmse = (np.sqrt(mean_squared_error(Y_train, y_train_predict)))\n",
    "r2 = r2_score(Y_train, y_train_predict)\n",
    "print(\"The model performance for training set\")\n",
    "print(\"--------------------------------------\")\n",
    "print('RMSE is {}'.format(rmse))\n",
    "print('R2 score is {}'.format(r2))"
   ]
  },
  {
   "cell_type": "code",
   "execution_count": 31,
   "metadata": {
    "id": "qEdFKv78JcIC",
    "outputId": "0ba5c033-41f0-4a09-cab0-ff8e25332aed"
   },
   "outputs": [
    {
     "name": "stdout",
     "output_type": "stream",
     "text": [
      "The model performance for testing set\n",
      "--------------------------------------\n",
      "RMSE is 243.51318979896763\n",
      "R2 score is 0.6165777800090464\n"
     ]
    }
   ],
   "source": [
    "# model evaluation for test set\n",
    "y_test_predict = model.predict(X_test)\n",
    "rmse_test = (np.sqrt(mean_squared_error(Y_test, y_test_predict)))\n",
    "r2_test = r2_score(Y_test, y_test_predict)\n",
    "print(\"The model performance for testing set\")\n",
    "print(\"--------------------------------------\")\n",
    "print('RMSE is {}'.format(rmse_test))\n",
    "print('R2 score is {}'.format(r2_test))"
   ]
  },
  {
   "cell_type": "code",
   "execution_count": 32,
   "metadata": {
    "id": "IdgsR_f9JcIC",
    "outputId": "12bd89f1-8232-45da-bac8-b03b0da680e8"
   },
   "outputs": [
    {
     "name": "stderr",
     "output_type": "stream",
     "text": [
      "C:\\Users\\Samarthya's Laptop\\AppData\\Local\\Temp\\ipykernel_15400\\2881953538.py:19: UserWarning: linestyle is redundantly defined by the 'linestyle' keyword argument and the fmt string \"r-\" (-> linestyle='-'). The keyword argument will take precedence.\n",
      "  plt.plot((0,2500),(0,2500), 'r-',linestyle='dashed',label='y=x line')\n"
     ]
    },
    {
     "data": {
      "image/png": "[encoded data removed]",
      "text/plain": [
       "<Figure size 400x400 with 1 Axes>"
      ]
     },
     "metadata": {},
     "output_type": "display_data"
    }
   ],
   "source": [
    "#### define your data plot here       \n",
    "plt.figure(figsize=(4,4),dpi=100)\n",
    "plt.title(' ', fontsize=13) \n",
    "#### define your data plot here       \n",
    "plt.xlim((0,2500))\n",
    "# plt.xticks(np.linspace(0,2,0.5,endpoint=True))\n",
    "plt.ylim((0,2500))\n",
    "# plt.yticks(np.linspace(0,2,0.5,endpoint=True))\n",
    "plt.tick_params(axis='both', which='major', labelsize=13)\n",
    "plt.scatter(Y_train, y_train_predict, label='Training',\n",
    "            s=60,marker='o')\n",
    "plt.scatter(Y_test,y_test_predict, label='Testing',\n",
    "            facecolors='red',alpha=1, edgecolors='none',s=60, marker='s')\n",
    "plt.xlabel(\"Observed cycle life\",fontsize=13)\n",
    "plt.ylabel(\"Predicted cycle life\",fontsize=13)\n",
    "\n",
    "#####fitting with a y=x line here (polynomial approach)\n",
    "#p1 = np.polyfit(Y_train, y_train_predict,1)\n",
    "plt.plot((0,2500),(0,2500), 'r-',linestyle='dashed',label='y=x line')\n",
    "plt.tight_layout()\n",
    "leg = plt.legend()\n",
    "leg.get_frame().set_edgecolor('black')"
   ]
  },
  {
   "cell_type": "code",
   "execution_count": 33,
   "metadata": {
    "id": "ohF-EcoyJcIC",
    "outputId": "2cb5d450-20ff-4a6c-d3e0-42f9c5cba956"
   },
   "outputs": [
    {
     "name": "stdout",
     "output_type": "stream",
     "text": [
      "The model performance for validation set\n",
      "--------------------------------------\n",
      "RMSE is 674.4035784382901\n",
      "R2 score is -4.7080077125544575\n"
     ]
    }
   ],
   "source": [
    "# model evaluation for Validation set\n",
    "y_val_predict = model.predict(X_val)\n",
    "rmse_val = (np.sqrt(mean_squared_error(Y_val, y_val_predict)))\n",
    "r2_val = r2_score(Y_val, y_val_predict)\n",
    "print(\"The model performance for validation set\")\n",
    "print(\"--------------------------------------\")\n",
    "print('RMSE is {}'.format(rmse_val))\n",
    "print('R2 score is {}'.format(r2_val))"
   ]
  },
  {
   "cell_type": "code",
   "execution_count": 34,
   "metadata": {
    "id": "zzyJUqydJcIC",
    "outputId": "607453e6-d46c-4a03-fc19-6823b59c702d",
    "scrolled": false
   },
   "outputs": [
    {
     "name": "stderr",
     "output_type": "stream",
     "text": [
      "C:\\Users\\Samarthya's Laptop\\AppData\\Local\\Temp\\ipykernel_15400\\3761464373.py:21: UserWarning: linestyle is redundantly defined by the 'linestyle' keyword argument and the fmt string \"r-\" (-> linestyle='-'). The keyword argument will take precedence.\n",
      "  plt.plot((0,2500),(0,2500), 'r-',linestyle='dashed',label='y=x line')\n"
     ]
    },
    {
     "data": {
      "image/png": "[encoded data removed]",
      "text/plain": [
       "<Figure size 400x400 with 1 Axes>"
      ]
     },
     "metadata": {},
     "output_type": "display_data"
    }
   ],
   "source": [
    "#### define your data plot here       \n",
    "plt.figure(figsize=(4,4),dpi=100)\n",
    "plt.title(' ', fontsize=13) \n",
    "#### define your data plot here       \n",
    "plt.xlim((0,2500))\n",
    "# plt.xticks(np.linspace(0,2,0.5,endpoint=True))\n",
    "plt.ylim((0,2500))\n",
    "# plt.yticks(np.linspace(0,2,0.5,endpoint=True))\n",
    "plt.tick_params(axis='both', which='major', labelsize=13)\n",
    "plt.scatter(Y_train, y_train_predict, label='Training',\n",
    "            s=60,marker='o')\n",
    "plt.scatter(Y_test,y_test_predict, label='Testing',\n",
    "            facecolors='red',alpha=1, edgecolors='none',s=60, marker='s')\n",
    "plt.scatter(Y_val, y_val_predict, label='Validation',\n",
    "            facecolors='orange',alpha=1, edgecolors='none',s=60, marker='^')\n",
    "plt.xlabel(\"Observed cycle life\",fontsize=13)\n",
    "plt.ylabel(\"Predicted cycle life\",fontsize=13)\n",
    "\n",
    "#####fitting with a y=x line here (polynomial approach)\n",
    "#p1 = np.polyfit(Y_train, y_train_predict,1)\n",
    "plt.plot((0,2500),(0,2500), 'r-',linestyle='dashed',label='y=x line')\n",
    "plt.tight_layout()\n",
    "leg = plt.legend()\n",
    "leg.get_frame().set_edgecolor('black')"
   ]
  },
  {
   "cell_type": "code",
   "execution_count": null,
   "metadata": {
    "id": "-4ON5FkxJcID"
   },
   "outputs": [],
   "source": []
  },
  {
   "cell_type": "code",
   "execution_count": null,
   "metadata": {
    "id": "9X6P4nToJcID"
   },
   "outputs": [],
   "source": []
  },
  {
   "cell_type": "markdown",
   "metadata": {
    "id": "GTSiVl3qJcID"
   },
   "source": []
  },
  {
   "cell_type": "markdown",
   "metadata": {
    "id": "8JwfnRFlJcID"
   },
   "source": [
    "### Optimization of Hyperparameters, e.g., alpha, and l1_ratio\n",
    "$ 1/(2*n_{samples}) * ||y - Xw||^2\n",
    "+ \\alpha * L1_{ratio} * ||w||\n",
    "+ 0.5 * \\alpha * (1 - L1_{ratio}) * ||w||^2 $\n",
    "1. Here I am using GridSearchCV/ElasticNetCV tools of sklearn"
   ]
  },
  {
   "cell_type": "code",
   "execution_count": 35,
   "metadata": {
    "id": "I70iNOcAJcIE"
   },
   "outputs": [],
   "source": [
    "from sklearn.linear_model import ElasticNetCV"
   ]
  },
  {
   "cell_type": "code",
   "execution_count": null,
   "metadata": {
    "id": "NYOkCI7rJcIE"
   },
   "outputs": [],
   "source": []
  },
  {
   "cell_type": "code",
   "execution_count": 36,
   "metadata": {
    "id": "yMG0f9pXJcIE"
   },
   "outputs": [],
   "source": [
    "alpha_x=np.linspace(0.01,1,100)\n",
    "l1_ratio_x=np.linspace(0,0.5,1000)"
   ]
  },
  {
   "cell_type": "code",
   "execution_count": 37,
   "metadata": {
    "id": "YDqFr0kqJcIF",
    "outputId": "05942b3c-4da4-4fa4-d946-64b3b0cf5139"
   },
   "outputs": [
    {
     "name": "stderr",
     "output_type": "stream",
     "text": [
      "D:\\Anaconda\\Lib\\site-packages\\sklearn\\linear_model\\_coordinate_descent.py:617: UserWarning: Coordinate descent without L1 regularization may lead to unexpected results and is discouraged. Set l1_ratio > 0 to add L1 regularization.\n",
      "  model = cd_fast.enet_coordinate_descent_gram(\n",
      "D:\\Anaconda\\Lib\\site-packages\\sklearn\\linear_model\\_coordinate_descent.py:617: ConvergenceWarning: Objective did not converge. You might want to increase the number of iterations. Duality gap: 1271263.6050212062, tolerance: 528.2524974358976\n",
      "  model = cd_fast.enet_coordinate_descent_gram(\n",
      "D:\\Anaconda\\Lib\\site-packages\\sklearn\\linear_model\\_coordinate_descent.py:617: UserWarning: Coordinate descent without L1 regularization may lead to unexpected results and is discouraged. Set l1_ratio > 0 to add L1 regularization.\n",
      "  model = cd_fast.enet_coordinate_descent_gram(\n",
      "D:\\Anaconda\\Lib\\site-packages\\sklearn\\linear_model\\_coordinate_descent.py:617: ConvergenceWarning: Objective did not converge. You might want to increase the number of iterations. Duality gap: 1267968.6706907852, tolerance: 528.2524974358976\n",
      "  model = cd_fast.enet_coordinate_descent_gram(\n",
      "D:\\Anaconda\\Lib\\site-packages\\sklearn\\linear_model\\_coordinate_descent.py:617: UserWarning: Coordinate descent without L1 regularization may lead to unexpected results and is discouraged. Set l1_ratio > 0 to add L1 regularization.\n",
      "  model = cd_fast.enet_coordinate_descent_gram(\n",
      "D:\\Anaconda\\Lib\\site-packages\\sklearn\\linear_model\\_coordinate_descent.py:617: ConvergenceWarning: Objective did not converge. You might want to increase the number of iterations. Duality gap: 1264635.0861258726, tolerance: 528.2524974358976\n",
      "  model = cd_fast.enet_coordinate_descent_gram(\n",
      "D:\\Anaconda\\Lib\\site-packages\\sklearn\\linear_model\\_coordinate_descent.py:617: UserWarning: Coordinate descent without L1 regularization may lead to unexpected results and is discouraged. Set l1_ratio > 0 to add L1 regularization.\n",
      "  model = cd_fast.enet_coordinate_descent_gram(\n",
      "D:\\Anaconda\\Lib\\site-packages\\sklearn\\linear_model\\_coordinate_descent.py:617: ConvergenceWarning: Objective did not converge. You might want to increase the number of iterations. Duality gap: 1261262.1505561399, tolerance: 528.2524974358976\n",
      "  model = cd_fast.enet_coordinate_descent_gram(\n",
      "D:\\Anaconda\\Lib\\site-packages\\sklearn\\linear_model\\_coordinate_descent.py:617: UserWarning: Coordinate descent without L1 regularization may lead to unexpected results and is discouraged. Set l1_ratio > 0 to add L1 regularization.\n",
      "  model = cd_fast.enet_coordinate_descent_gram(\n",
      "D:\\Anaconda\\Lib\\site-packages\\sklearn\\linear_model\\_coordinate_descent.py:617: ConvergenceWarning: Objective did not converge. You might want to increase the number of iterations. Duality gap: 1257849.145713882, tolerance: 528.2524974358976\n",
      "  model = cd_fast.enet_coordinate_descent_gram(\n",
      "D:\\Anaconda\\Lib\\site-packages\\sklearn\\linear_model\\_coordinate_descent.py:617: UserWarning: Coordinate descent without L1 regularization may lead to unexpected results and is discouraged. Set l1_ratio > 0 to add L1 regularization.\n",
      "  model = cd_fast.enet_coordinate_descent_gram(\n",
      "D:\\Anaconda\\Lib\\site-packages\\sklearn\\linear_model\\_coordinate_descent.py:617: ConvergenceWarning: Objective did not converge. You might want to increase the number of iterations. Duality gap: 1254395.3352625598, tolerance: 528.2524974358976\n",
      "  model = cd_fast.enet_coordinate_descent_gram(\n",
      "D:\\Anaconda\\Lib\\site-packages\\sklearn\\linear_model\\_coordinate_descent.py:617: UserWarning: Coordinate descent without L1 regularization may lead to unexpected results and is discouraged. Set l1_ratio > 0 to add L1 regularization.\n",
      "  model = cd_fast.enet_coordinate_descent_gram(\n",
      "D:\\Anaconda\\Lib\\site-packages\\sklearn\\linear_model\\_coordinate_descent.py:617: ConvergenceWarning: Objective did not converge. You might want to increase the number of iterations. Duality gap: 1250899.9642015302, tolerance: 528.2524974358976\n",
      "  model = cd_fast.enet_coordinate_descent_gram(\n",
      "D:\\Anaconda\\Lib\\site-packages\\sklearn\\linear_model\\_coordinate_descent.py:617: UserWarning: Coordinate descent without L1 regularization may lead to unexpected results and is discouraged. Set l1_ratio > 0 to add L1 regularization.\n",
      "  model = cd_fast.enet_coordinate_descent_gram(\n",
      "D:\\Anaconda\\Lib\\site-packages\\sklearn\\linear_model\\_coordinate_descent.py:617: ConvergenceWarning: Objective did not converge. You might want to increase the number of iterations. Duality gap: 1247362.258245742, tolerance: 528.2524974358976\n",
      "  model = cd_fast.enet_coordinate_descent_gram(\n",
      "D:\\Anaconda\\Lib\\site-packages\\sklearn\\linear_model\\_coordinate_descent.py:617: UserWarning: Coordinate descent without L1 regularization may lead to unexpected results and is discouraged. Set l1_ratio > 0 to add L1 regularization.\n",
      "  model = cd_fast.enet_coordinate_descent_gram(\n",
      "D:\\Anaconda\\Lib\\site-packages\\sklearn\\linear_model\\_coordinate_descent.py:617: ConvergenceWarning: Objective did not converge. You might want to increase the number of iterations. Duality gap: 1243781.423179058, tolerance: 528.2524974358976\n",
      "  model = cd_fast.enet_coordinate_descent_gram(\n",
      "D:\\Anaconda\\Lib\\site-packages\\sklearn\\linear_model\\_coordinate_descent.py:617: UserWarning: Coordinate descent without L1 regularization may lead to unexpected results and is discouraged. Set l1_ratio > 0 to add L1 regularization.\n",
      "  model = cd_fast.enet_coordinate_descent_gram(\n",
      "D:\\Anaconda\\Lib\\site-packages\\sklearn\\linear_model\\_coordinate_descent.py:617: ConvergenceWarning: Objective did not converge. You might want to increase the number of iterations. Duality gap: 1240156.6441797921, tolerance: 528.2524974358976\n",
      "  model = cd_fast.enet_coordinate_descent_gram(\n",
      "D:\\Anaconda\\Lib\\site-packages\\sklearn\\linear_model\\_coordinate_descent.py:617: UserWarning: Coordinate descent without L1 regularization may lead to unexpected results and is discouraged. Set l1_ratio > 0 to add L1 regularization.\n",
      "  model = cd_fast.enet_coordinate_descent_gram(\n",
      "D:\\Anaconda\\Lib\\site-packages\\sklearn\\linear_model\\_coordinate_descent.py:617: ConvergenceWarning: Objective did not converge. You might want to increase the number of iterations. Duality gap: 1236487.0851169615, tolerance: 528.2524974358976\n",
      "  model = cd_fast.enet_coordinate_descent_gram(\n",
      "D:\\Anaconda\\Lib\\site-packages\\sklearn\\linear_model\\_coordinate_descent.py:617: UserWarning: Coordinate descent without L1 regularization may lead to unexpected results and is discouraged. Set l1_ratio > 0 to add L1 regularization.\n",
      "  model = cd_fast.enet_coordinate_descent_gram(\n",
      "D:\\Anaconda\\Lib\\site-packages\\sklearn\\linear_model\\_coordinate_descent.py:617: ConvergenceWarning: Objective did not converge. You might want to increase the number of iterations. Duality gap: 1232771.8878156326, tolerance: 528.2524974358976\n",
      "  model = cd_fast.enet_coordinate_descent_gram(\n",
      "D:\\Anaconda\\Lib\\site-packages\\sklearn\\linear_model\\_coordinate_descent.py:617: UserWarning: Coordinate descent without L1 regularization may lead to unexpected results and is discouraged. Set l1_ratio > 0 to add L1 regularization.\n",
      "  model = cd_fast.enet_coordinate_descent_gram(\n",
      "D:\\Anaconda\\Lib\\site-packages\\sklearn\\linear_model\\_coordinate_descent.py:617: ConvergenceWarning: Objective did not converge. You might want to increase the number of iterations. Duality gap: 1229010.1712896517, tolerance: 528.2524974358976\n",
      "  model = cd_fast.enet_coordinate_descent_gram(\n",
      "D:\\Anaconda\\Lib\\site-packages\\sklearn\\linear_model\\_coordinate_descent.py:617: UserWarning: Coordinate descent without L1 regularization may lead to unexpected results and is discouraged. Set l1_ratio > 0 to add L1 regularization.\n",
      "  model = cd_fast.enet_coordinate_descent_gram(\n",
      "D:\\Anaconda\\Lib\\site-packages\\sklearn\\linear_model\\_coordinate_descent.py:617: ConvergenceWarning: Objective did not converge. You might want to increase the number of iterations. Duality gap: 1225201.0309399124, tolerance: 528.2524974358976\n",
      "  model = cd_fast.enet_coordinate_descent_gram(\n",
      "D:\\Anaconda\\Lib\\site-packages\\sklearn\\linear_model\\_coordinate_descent.py:617: UserWarning: Coordinate descent without L1 regularization may lead to unexpected results and is discouraged. Set l1_ratio > 0 to add L1 regularization.\n",
      "  model = cd_fast.enet_coordinate_descent_gram(\n",
      "D:\\Anaconda\\Lib\\site-packages\\sklearn\\linear_model\\_coordinate_descent.py:617: ConvergenceWarning: Objective did not converge. You might want to increase the number of iterations. Duality gap: 1221343.537716198, tolerance: 528.2524974358976\n",
      "  model = cd_fast.enet_coordinate_descent_gram(\n",
      "D:\\Anaconda\\Lib\\site-packages\\sklearn\\linear_model\\_coordinate_descent.py:617: UserWarning: Coordinate descent without L1 regularization may lead to unexpected results and is discouraged. Set l1_ratio > 0 to add L1 regularization.\n",
      "  model = cd_fast.enet_coordinate_descent_gram(\n",
      "D:\\Anaconda\\Lib\\site-packages\\sklearn\\linear_model\\_coordinate_descent.py:617: ConvergenceWarning: Objective did not converge. You might want to increase the number of iterations. Duality gap: 1217436.7372404854, tolerance: 528.2524974358976\n",
      "  model = cd_fast.enet_coordinate_descent_gram(\n",
      "D:\\Anaconda\\Lib\\site-packages\\sklearn\\linear_model\\_coordinate_descent.py:617: UserWarning: Coordinate descent without L1 regularization may lead to unexpected results and is discouraged. Set l1_ratio > 0 to add L1 regularization.\n",
      "  model = cd_fast.enet_coordinate_descent_gram(\n",
      "D:\\Anaconda\\Lib\\site-packages\\sklearn\\linear_model\\_coordinate_descent.py:617: ConvergenceWarning: Objective did not converge. You might want to increase the number of iterations. Duality gap: 1213479.6488894543, tolerance: 528.2524974358976\n",
      "  model = cd_fast.enet_coordinate_descent_gram(\n",
      "D:\\Anaconda\\Lib\\site-packages\\sklearn\\linear_model\\_coordinate_descent.py:617: UserWarning: Coordinate descent without L1 regularization may lead to unexpected results and is discouraged. Set l1_ratio > 0 to add L1 regularization.\n",
      "  model = cd_fast.enet_coordinate_descent_gram(\n",
      "D:\\Anaconda\\Lib\\site-packages\\sklearn\\linear_model\\_coordinate_descent.py:617: ConvergenceWarning: Objective did not converge. You might want to increase the number of iterations. Duality gap: 1209471.2648337607, tolerance: 528.2524974358976\n",
      "  model = cd_fast.enet_coordinate_descent_gram(\n",
      "D:\\Anaconda\\Lib\\site-packages\\sklearn\\linear_model\\_coordinate_descent.py:617: UserWarning: Coordinate descent without L1 regularization may lead to unexpected results and is discouraged. Set l1_ratio > 0 to add L1 regularization.\n",
      "  model = cd_fast.enet_coordinate_descent_gram(\n",
      "D:\\Anaconda\\Lib\\site-packages\\sklearn\\linear_model\\_coordinate_descent.py:617: ConvergenceWarning: Objective did not converge. You might want to increase the number of iterations. Duality gap: 1205410.5490314846, tolerance: 528.2524974358976\n",
      "  model = cd_fast.enet_coordinate_descent_gram(\n",
      "D:\\Anaconda\\Lib\\site-packages\\sklearn\\linear_model\\_coordinate_descent.py:617: UserWarning: Coordinate descent without L1 regularization may lead to unexpected results and is discouraged. Set l1_ratio > 0 to add L1 regularization.\n",
      "  model = cd_fast.enet_coordinate_descent_gram(\n",
      "D:\\Anaconda\\Lib\\site-packages\\sklearn\\linear_model\\_coordinate_descent.py:617: ConvergenceWarning: Objective did not converge. You might want to increase the number of iterations. Duality gap: 1201296.4361729226, tolerance: 528.2524974358976\n",
      "  model = cd_fast.enet_coordinate_descent_gram(\n",
      "D:\\Anaconda\\Lib\\site-packages\\sklearn\\linear_model\\_coordinate_descent.py:617: UserWarning: Coordinate descent without L1 regularization may lead to unexpected results and is discouraged. Set l1_ratio > 0 to add L1 regularization.\n",
      "  model = cd_fast.enet_coordinate_descent_gram(\n",
      "D:\\Anaconda\\Lib\\site-packages\\sklearn\\linear_model\\_coordinate_descent.py:617: ConvergenceWarning: Objective did not converge. You might want to increase the number of iterations. Duality gap: 1197127.8305737176, tolerance: 528.2524974358976\n",
      "  model = cd_fast.enet_coordinate_descent_gram(\n",
      "D:\\Anaconda\\Lib\\site-packages\\sklearn\\linear_model\\_coordinate_descent.py:617: UserWarning: Coordinate descent without L1 regularization may lead to unexpected results and is discouraged. Set l1_ratio > 0 to add L1 regularization.\n",
      "  model = cd_fast.enet_coordinate_descent_gram(\n",
      "D:\\Anaconda\\Lib\\site-packages\\sklearn\\linear_model\\_coordinate_descent.py:617: ConvergenceWarning: Objective did not converge. You might want to increase the number of iterations. Duality gap: 1192903.6050130627, tolerance: 528.2524974358976\n",
      "  model = cd_fast.enet_coordinate_descent_gram(\n",
      "D:\\Anaconda\\Lib\\site-packages\\sklearn\\linear_model\\_coordinate_descent.py:617: UserWarning: Coordinate descent without L1 regularization may lead to unexpected results and is discouraged. Set l1_ratio > 0 to add L1 regularization.\n",
      "  model = cd_fast.enet_coordinate_descent_gram(\n",
      "D:\\Anaconda\\Lib\\site-packages\\sklearn\\linear_model\\_coordinate_descent.py:617: ConvergenceWarning: Objective did not converge. You might want to increase the number of iterations. Duality gap: 1188622.5995134418, tolerance: 528.2524974358976\n",
      "  model = cd_fast.enet_coordinate_descent_gram(\n",
      "D:\\Anaconda\\Lib\\site-packages\\sklearn\\linear_model\\_coordinate_descent.py:617: UserWarning: Coordinate descent without L1 regularization may lead to unexpected results and is discouraged. Set l1_ratio > 0 to add L1 regularization.\n",
      "  model = cd_fast.enet_coordinate_descent_gram(\n",
      "D:\\Anaconda\\Lib\\site-packages\\sklearn\\linear_model\\_coordinate_descent.py:617: ConvergenceWarning: Objective did not converge. You might want to increase the number of iterations. Duality gap: 1184283.620058142, tolerance: 528.2524974358976\n",
      "  model = cd_fast.enet_coordinate_descent_gram(\n",
      "D:\\Anaconda\\Lib\\site-packages\\sklearn\\linear_model\\_coordinate_descent.py:617: UserWarning: Coordinate descent without L1 regularization may lead to unexpected results and is discouraged. Set l1_ratio > 0 to add L1 regularization.\n",
      "  model = cd_fast.enet_coordinate_descent_gram(\n",
      "D:\\Anaconda\\Lib\\site-packages\\sklearn\\linear_model\\_coordinate_descent.py:617: ConvergenceWarning: Objective did not converge. You might want to increase the number of iterations. Duality gap: 1179885.4372423731, tolerance: 528.2524974358976\n",
      "  model = cd_fast.enet_coordinate_descent_gram(\n",
      "D:\\Anaconda\\Lib\\site-packages\\sklearn\\linear_model\\_coordinate_descent.py:617: UserWarning: Coordinate descent without L1 regularization may lead to unexpected results and is discouraged. Set l1_ratio > 0 to add L1 regularization.\n",
      "  model = cd_fast.enet_coordinate_descent_gram(\n",
      "D:\\Anaconda\\Lib\\site-packages\\sklearn\\linear_model\\_coordinate_descent.py:617: ConvergenceWarning: Objective did not converge. You might want to increase the number of iterations. Duality gap: 1175426.7848535764, tolerance: 528.2524974358976\n",
      "  model = cd_fast.enet_coordinate_descent_gram(\n",
      "D:\\Anaconda\\Lib\\site-packages\\sklearn\\linear_model\\_coordinate_descent.py:617: UserWarning: Coordinate descent without L1 regularization may lead to unexpected results and is discouraged. Set l1_ratio > 0 to add L1 regularization.\n",
      "  model = cd_fast.enet_coordinate_descent_gram(\n",
      "D:\\Anaconda\\Lib\\site-packages\\sklearn\\linear_model\\_coordinate_descent.py:617: ConvergenceWarning: Objective did not converge. You might want to increase the number of iterations. Duality gap: 1170906.3583760592, tolerance: 528.2524974358976\n",
      "  model = cd_fast.enet_coordinate_descent_gram(\n",
      "D:\\Anaconda\\Lib\\site-packages\\sklearn\\linear_model\\_coordinate_descent.py:617: UserWarning: Coordinate descent without L1 regularization may lead to unexpected results and is discouraged. Set l1_ratio > 0 to add L1 regularization.\n",
      "  model = cd_fast.enet_coordinate_descent_gram(\n",
      "D:\\Anaconda\\Lib\\site-packages\\sklearn\\linear_model\\_coordinate_descent.py:617: ConvergenceWarning: Objective did not converge. You might want to increase the number of iterations. Duality gap: 1166322.8134147057, tolerance: 528.2524974358976\n",
      "  model = cd_fast.enet_coordinate_descent_gram(\n",
      "D:\\Anaconda\\Lib\\site-packages\\sklearn\\linear_model\\_coordinate_descent.py:617: UserWarning: Coordinate descent without L1 regularization may lead to unexpected results and is discouraged. Set l1_ratio > 0 to add L1 regularization.\n",
      "  model = cd_fast.enet_coordinate_descent_gram(\n",
      "D:\\Anaconda\\Lib\\site-packages\\sklearn\\linear_model\\_coordinate_descent.py:617: ConvergenceWarning: Objective did not converge. You might want to increase the number of iterations. Duality gap: 1161674.764032062, tolerance: 528.2524974358976\n",
      "  model = cd_fast.enet_coordinate_descent_gram(\n",
      "D:\\Anaconda\\Lib\\site-packages\\sklearn\\linear_model\\_coordinate_descent.py:617: UserWarning: Coordinate descent without L1 regularization may lead to unexpected results and is discouraged. Set l1_ratio > 0 to add L1 regularization.\n",
      "  model = cd_fast.enet_coordinate_descent_gram(\n",
      "D:\\Anaconda\\Lib\\site-packages\\sklearn\\linear_model\\_coordinate_descent.py:617: ConvergenceWarning: Objective did not converge. You might want to increase the number of iterations. Duality gap: 1156960.7809925266, tolerance: 528.2524974358976\n",
      "  model = cd_fast.enet_coordinate_descent_gram(\n",
      "D:\\Anaconda\\Lib\\site-packages\\sklearn\\linear_model\\_coordinate_descent.py:617: UserWarning: Coordinate descent without L1 regularization may lead to unexpected results and is discouraged. Set l1_ratio > 0 to add L1 regularization.\n",
      "  model = cd_fast.enet_coordinate_descent_gram(\n",
      "D:\\Anaconda\\Lib\\site-packages\\sklearn\\linear_model\\_coordinate_descent.py:617: ConvergenceWarning: Objective did not converge. You might want to increase the number of iterations. Duality gap: 1152179.3899069054, tolerance: 528.2524974358976\n",
      "  model = cd_fast.enet_coordinate_descent_gram(\n",
      "D:\\Anaconda\\Lib\\site-packages\\sklearn\\linear_model\\_coordinate_descent.py:617: UserWarning: Coordinate descent without L1 regularization may lead to unexpected results and is discouraged. Set l1_ratio > 0 to add L1 regularization.\n",
      "  model = cd_fast.enet_coordinate_descent_gram(\n",
      "D:\\Anaconda\\Lib\\site-packages\\sklearn\\linear_model\\_coordinate_descent.py:617: ConvergenceWarning: Objective did not converge. You might want to increase the number of iterations. Duality gap: 1147329.0692698555, tolerance: 528.2524974358976\n",
      "  model = cd_fast.enet_coordinate_descent_gram(\n",
      "D:\\Anaconda\\Lib\\site-packages\\sklearn\\linear_model\\_coordinate_descent.py:617: UserWarning: Coordinate descent without L1 regularization may lead to unexpected results and is discouraged. Set l1_ratio > 0 to add L1 regularization.\n",
      "  model = cd_fast.enet_coordinate_descent_gram(\n",
      "D:\\Anaconda\\Lib\\site-packages\\sklearn\\linear_model\\_coordinate_descent.py:617: ConvergenceWarning: Objective did not converge. You might want to increase the number of iterations. Duality gap: 1142408.248382126, tolerance: 528.2524974358976\n",
      "  model = cd_fast.enet_coordinate_descent_gram(\n",
      "D:\\Anaconda\\Lib\\site-packages\\sklearn\\linear_model\\_coordinate_descent.py:617: UserWarning: Coordinate descent without L1 regularization may lead to unexpected results and is discouraged. Set l1_ratio > 0 to add L1 regularization.\n",
      "  model = cd_fast.enet_coordinate_descent_gram(\n",
      "D:\\Anaconda\\Lib\\site-packages\\sklearn\\linear_model\\_coordinate_descent.py:617: ConvergenceWarning: Objective did not converge. You might want to increase the number of iterations. Duality gap: 1137415.3051486723, tolerance: 528.2524974358976\n",
      "  model = cd_fast.enet_coordinate_descent_gram(\n",
      "D:\\Anaconda\\Lib\\site-packages\\sklearn\\linear_model\\_coordinate_descent.py:617: UserWarning: Coordinate descent without L1 regularization may lead to unexpected results and is discouraged. Set l1_ratio > 0 to add L1 regularization.\n",
      "  model = cd_fast.enet_coordinate_descent_gram(\n",
      "D:\\Anaconda\\Lib\\site-packages\\sklearn\\linear_model\\_coordinate_descent.py:617: ConvergenceWarning: Objective did not converge. You might want to increase the number of iterations. Duality gap: 1132348.56374287, tolerance: 528.2524974358976\n",
      "  model = cd_fast.enet_coordinate_descent_gram(\n",
      "D:\\Anaconda\\Lib\\site-packages\\sklearn\\linear_model\\_coordinate_descent.py:617: UserWarning: Coordinate descent without L1 regularization may lead to unexpected results and is discouraged. Set l1_ratio > 0 to add L1 regularization.\n",
      "  model = cd_fast.enet_coordinate_descent_gram(\n",
      "D:\\Anaconda\\Lib\\site-packages\\sklearn\\linear_model\\_coordinate_descent.py:617: ConvergenceWarning: Objective did not converge. You might want to increase the number of iterations. Duality gap: 1127206.2921260856, tolerance: 528.2524974358976\n",
      "  model = cd_fast.enet_coordinate_descent_gram(\n",
      "D:\\Anaconda\\Lib\\site-packages\\sklearn\\linear_model\\_coordinate_descent.py:617: UserWarning: Coordinate descent without L1 regularization may lead to unexpected results and is discouraged. Set l1_ratio > 0 to add L1 regularization.\n",
      "  model = cd_fast.enet_coordinate_descent_gram(\n",
      "D:\\Anaconda\\Lib\\site-packages\\sklearn\\linear_model\\_coordinate_descent.py:617: ConvergenceWarning: Objective did not converge. You might want to increase the number of iterations. Duality gap: 1121986.6994107305, tolerance: 528.2524974358976\n",
      "  model = cd_fast.enet_coordinate_descent_gram(\n",
      "D:\\Anaconda\\Lib\\site-packages\\sklearn\\linear_model\\_coordinate_descent.py:617: UserWarning: Coordinate descent without L1 regularization may lead to unexpected results and is discouraged. Set l1_ratio > 0 to add L1 regularization.\n",
      "  model = cd_fast.enet_coordinate_descent_gram(\n",
      "D:\\Anaconda\\Lib\\site-packages\\sklearn\\linear_model\\_coordinate_descent.py:617: ConvergenceWarning: Objective did not converge. You might want to increase the number of iterations. Duality gap: 1116687.933053761, tolerance: 528.2524974358976\n",
      "  model = cd_fast.enet_coordinate_descent_gram(\n",
      "D:\\Anaconda\\Lib\\site-packages\\sklearn\\linear_model\\_coordinate_descent.py:617: UserWarning: Coordinate descent without L1 regularization may lead to unexpected results and is discouraged. Set l1_ratio > 0 to add L1 regularization.\n",
      "  model = cd_fast.enet_coordinate_descent_gram(\n",
      "D:\\Anaconda\\Lib\\site-packages\\sklearn\\linear_model\\_coordinate_descent.py:617: ConvergenceWarning: Objective did not converge. You might want to increase the number of iterations. Duality gap: 1111308.0758661353, tolerance: 528.2524974358976\n",
      "  model = cd_fast.enet_coordinate_descent_gram(\n",
      "D:\\Anaconda\\Lib\\site-packages\\sklearn\\linear_model\\_coordinate_descent.py:617: UserWarning: Coordinate descent without L1 regularization may lead to unexpected results and is discouraged. Set l1_ratio > 0 to add L1 regularization.\n",
      "  model = cd_fast.enet_coordinate_descent_gram(\n",
      "D:\\Anaconda\\Lib\\site-packages\\sklearn\\linear_model\\_coordinate_descent.py:617: ConvergenceWarning: Objective did not converge. You might want to increase the number of iterations. Duality gap: 1105845.1428222358, tolerance: 528.2524974358976\n",
      "  model = cd_fast.enet_coordinate_descent_gram(\n",
      "D:\\Anaconda\\Lib\\site-packages\\sklearn\\linear_model\\_coordinate_descent.py:617: UserWarning: Coordinate descent without L1 regularization may lead to unexpected results and is discouraged. Set l1_ratio > 0 to add L1 regularization.\n",
      "  model = cd_fast.enet_coordinate_descent_gram(\n",
      "D:\\Anaconda\\Lib\\site-packages\\sklearn\\linear_model\\_coordinate_descent.py:617: ConvergenceWarning: Objective did not converge. You might want to increase the number of iterations. Duality gap: 1100297.0776514725, tolerance: 528.2524974358976\n",
      "  model = cd_fast.enet_coordinate_descent_gram(\n",
      "D:\\Anaconda\\Lib\\site-packages\\sklearn\\linear_model\\_coordinate_descent.py:617: UserWarning: Coordinate descent without L1 regularization may lead to unexpected results and is discouraged. Set l1_ratio > 0 to add L1 regularization.\n",
      "  model = cd_fast.enet_coordinate_descent_gram(\n",
      "D:\\Anaconda\\Lib\\site-packages\\sklearn\\linear_model\\_coordinate_descent.py:617: ConvergenceWarning: Objective did not converge. You might want to increase the number of iterations. Duality gap: 1094661.7491923089, tolerance: 528.2524974358976\n",
      "  model = cd_fast.enet_coordinate_descent_gram(\n",
      "D:\\Anaconda\\Lib\\site-packages\\sklearn\\linear_model\\_coordinate_descent.py:617: UserWarning: Coordinate descent without L1 regularization may lead to unexpected results and is discouraged. Set l1_ratio > 0 to add L1 regularization.\n",
      "  model = cd_fast.enet_coordinate_descent_gram(\n",
      "D:\\Anaconda\\Lib\\site-packages\\sklearn\\linear_model\\_coordinate_descent.py:617: ConvergenceWarning: Objective did not converge. You might want to increase the number of iterations. Duality gap: 1088936.9474866702, tolerance: 528.2524974358976\n",
      "  model = cd_fast.enet_coordinate_descent_gram(\n",
      "D:\\Anaconda\\Lib\\site-packages\\sklearn\\linear_model\\_coordinate_descent.py:617: UserWarning: Coordinate descent without L1 regularization may lead to unexpected results and is discouraged. Set l1_ratio > 0 to add L1 regularization.\n",
      "  model = cd_fast.enet_coordinate_descent_gram(\n",
      "D:\\Anaconda\\Lib\\site-packages\\sklearn\\linear_model\\_coordinate_descent.py:617: ConvergenceWarning: Objective did not converge. You might want to increase the number of iterations. Duality gap: 1083120.379590144, tolerance: 528.2524974358976\n",
      "  model = cd_fast.enet_coordinate_descent_gram(\n",
      "D:\\Anaconda\\Lib\\site-packages\\sklearn\\linear_model\\_coordinate_descent.py:617: UserWarning: Coordinate descent without L1 regularization may lead to unexpected results and is discouraged. Set l1_ratio > 0 to add L1 regularization.\n",
      "  model = cd_fast.enet_coordinate_descent_gram(\n",
      "D:\\Anaconda\\Lib\\site-packages\\sklearn\\linear_model\\_coordinate_descent.py:617: ConvergenceWarning: Objective did not converge. You might want to increase the number of iterations. Duality gap: 1077209.6650704292, tolerance: 528.2524974358976\n",
      "  model = cd_fast.enet_coordinate_descent_gram(\n",
      "D:\\Anaconda\\Lib\\site-packages\\sklearn\\linear_model\\_coordinate_descent.py:617: UserWarning: Coordinate descent without L1 regularization may lead to unexpected results and is discouraged. Set l1_ratio > 0 to add L1 regularization.\n",
      "  model = cd_fast.enet_coordinate_descent_gram(\n",
      "D:\\Anaconda\\Lib\\site-packages\\sklearn\\linear_model\\_coordinate_descent.py:617: ConvergenceWarning: Objective did not converge. You might want to increase the number of iterations. Duality gap: 1071202.3311631414, tolerance: 528.2524974358976\n",
      "  model = cd_fast.enet_coordinate_descent_gram(\n",
      "D:\\Anaconda\\Lib\\site-packages\\sklearn\\linear_model\\_coordinate_descent.py:617: UserWarning: Coordinate descent without L1 regularization may lead to unexpected results and is discouraged. Set l1_ratio > 0 to add L1 regularization.\n",
      "  model = cd_fast.enet_coordinate_descent_gram(\n",
      "D:\\Anaconda\\Lib\\site-packages\\sklearn\\linear_model\\_coordinate_descent.py:617: ConvergenceWarning: Objective did not converge. You might want to increase the number of iterations. Duality gap: 1065095.8075502526, tolerance: 528.2524974358976\n",
      "  model = cd_fast.enet_coordinate_descent_gram(\n",
      "D:\\Anaconda\\Lib\\site-packages\\sklearn\\linear_model\\_coordinate_descent.py:617: UserWarning: Coordinate descent without L1 regularization may lead to unexpected results and is discouraged. Set l1_ratio > 0 to add L1 regularization.\n",
      "  model = cd_fast.enet_coordinate_descent_gram(\n",
      "D:\\Anaconda\\Lib\\site-packages\\sklearn\\linear_model\\_coordinate_descent.py:617: ConvergenceWarning: Objective did not converge. You might want to increase the number of iterations. Duality gap: 1058887.4207220036, tolerance: 528.2524974358976\n",
      "  model = cd_fast.enet_coordinate_descent_gram(\n",
      "D:\\Anaconda\\Lib\\site-packages\\sklearn\\linear_model\\_coordinate_descent.py:617: UserWarning: Coordinate descent without L1 regularization may lead to unexpected results and is discouraged. Set l1_ratio > 0 to add L1 regularization.\n",
      "  model = cd_fast.enet_coordinate_descent_gram(\n",
      "D:\\Anaconda\\Lib\\site-packages\\sklearn\\linear_model\\_coordinate_descent.py:617: ConvergenceWarning: Objective did not converge. You might want to increase the number of iterations. Duality gap: 1052574.3878780727, tolerance: 528.2524974358976\n",
      "  model = cd_fast.enet_coordinate_descent_gram(\n",
      "D:\\Anaconda\\Lib\\site-packages\\sklearn\\linear_model\\_coordinate_descent.py:617: UserWarning: Coordinate descent without L1 regularization may lead to unexpected results and is discouraged. Set l1_ratio > 0 to add L1 regularization.\n",
      "  model = cd_fast.enet_coordinate_descent_gram(\n",
      "D:\\Anaconda\\Lib\\site-packages\\sklearn\\linear_model\\_coordinate_descent.py:617: ConvergenceWarning: Objective did not converge. You might want to increase the number of iterations. Duality gap: 1046153.8103178954, tolerance: 528.2524974358976\n",
      "  model = cd_fast.enet_coordinate_descent_gram(\n",
      "D:\\Anaconda\\Lib\\site-packages\\sklearn\\linear_model\\_coordinate_descent.py:617: UserWarning: Coordinate descent without L1 regularization may lead to unexpected results and is discouraged. Set l1_ratio > 0 to add L1 regularization.\n",
      "  model = cd_fast.enet_coordinate_descent_gram(\n",
      "D:\\Anaconda\\Lib\\site-packages\\sklearn\\linear_model\\_coordinate_descent.py:617: ConvergenceWarning: Objective did not converge. You might want to increase the number of iterations. Duality gap: 1039622.6662632306, tolerance: 528.2524974358976\n",
      "  model = cd_fast.enet_coordinate_descent_gram(\n",
      "D:\\Anaconda\\Lib\\site-packages\\sklearn\\linear_model\\_coordinate_descent.py:617: UserWarning: Coordinate descent without L1 regularization may lead to unexpected results and is discouraged. Set l1_ratio > 0 to add L1 regularization.\n",
      "  model = cd_fast.enet_coordinate_descent_gram(\n",
      "D:\\Anaconda\\Lib\\site-packages\\sklearn\\linear_model\\_coordinate_descent.py:617: ConvergenceWarning: Objective did not converge. You might want to increase the number of iterations. Duality gap: 1032977.803048209, tolerance: 528.2524974358976\n",
      "  model = cd_fast.enet_coordinate_descent_gram(\n",
      "D:\\Anaconda\\Lib\\site-packages\\sklearn\\linear_model\\_coordinate_descent.py:617: UserWarning: Coordinate descent without L1 regularization may lead to unexpected results and is discouraged. Set l1_ratio > 0 to add L1 regularization.\n",
      "  model = cd_fast.enet_coordinate_descent_gram(\n",
      "D:\\Anaconda\\Lib\\site-packages\\sklearn\\linear_model\\_coordinate_descent.py:617: ConvergenceWarning: Objective did not converge. You might want to increase the number of iterations. Duality gap: 1026215.9286028469, tolerance: 528.2524974358976\n",
      "  model = cd_fast.enet_coordinate_descent_gram(\n",
      "D:\\Anaconda\\Lib\\site-packages\\sklearn\\linear_model\\_coordinate_descent.py:617: UserWarning: Coordinate descent without L1 regularization may lead to unexpected results and is discouraged. Set l1_ratio > 0 to add L1 regularization.\n",
      "  model = cd_fast.enet_coordinate_descent_gram(\n",
      "D:\\Anaconda\\Lib\\site-packages\\sklearn\\linear_model\\_coordinate_descent.py:617: ConvergenceWarning: Objective did not converge. You might want to increase the number of iterations. Duality gap: 1019333.6021453252, tolerance: 528.2524974358976\n",
      "  model = cd_fast.enet_coordinate_descent_gram(\n",
      "D:\\Anaconda\\Lib\\site-packages\\sklearn\\linear_model\\_coordinate_descent.py:617: UserWarning: Coordinate descent without L1 regularization may lead to unexpected results and is discouraged. Set l1_ratio > 0 to add L1 regularization.\n",
      "  model = cd_fast.enet_coordinate_descent_gram(\n",
      "D:\\Anaconda\\Lib\\site-packages\\sklearn\\linear_model\\_coordinate_descent.py:617: ConvergenceWarning: Objective did not converge. You might want to increase the number of iterations. Duality gap: 1012327.2239857279, tolerance: 528.2524974358976\n",
      "  model = cd_fast.enet_coordinate_descent_gram(\n",
      "D:\\Anaconda\\Lib\\site-packages\\sklearn\\linear_model\\_coordinate_descent.py:617: UserWarning: Coordinate descent without L1 regularization may lead to unexpected results and is discouraged. Set l1_ratio > 0 to add L1 regularization.\n",
      "  model = cd_fast.enet_coordinate_descent_gram(\n",
      "D:\\Anaconda\\Lib\\site-packages\\sklearn\\linear_model\\_coordinate_descent.py:617: ConvergenceWarning: Objective did not converge. You might want to increase the number of iterations. Duality gap: 1005193.0243291395, tolerance: 528.2524974358976\n",
      "  model = cd_fast.enet_coordinate_descent_gram(\n",
      "D:\\Anaconda\\Lib\\site-packages\\sklearn\\linear_model\\_coordinate_descent.py:617: UserWarning: Coordinate descent without L1 regularization may lead to unexpected results and is discouraged. Set l1_ratio > 0 to add L1 regularization.\n",
      "  model = cd_fast.enet_coordinate_descent_gram(\n",
      "D:\\Anaconda\\Lib\\site-packages\\sklearn\\linear_model\\_coordinate_descent.py:617: ConvergenceWarning: Objective did not converge. You might want to increase the number of iterations. Duality gap: 997927.050948527, tolerance: 528.2524974358976\n",
      "  model = cd_fast.enet_coordinate_descent_gram(\n",
      "D:\\Anaconda\\Lib\\site-packages\\sklearn\\linear_model\\_coordinate_descent.py:617: UserWarning: Coordinate descent without L1 regularization may lead to unexpected results and is discouraged. Set l1_ratio > 0 to add L1 regularization.\n",
      "  model = cd_fast.enet_coordinate_descent_gram(\n",
      "D:\\Anaconda\\Lib\\site-packages\\sklearn\\linear_model\\_coordinate_descent.py:617: ConvergenceWarning: Objective did not converge. You might want to increase the number of iterations. Duality gap: 990525.155577252, tolerance: 528.2524974358976\n",
      "  model = cd_fast.enet_coordinate_descent_gram(\n",
      "D:\\Anaconda\\Lib\\site-packages\\sklearn\\linear_model\\_coordinate_descent.py:617: UserWarning: Coordinate descent without L1 regularization may lead to unexpected results and is discouraged. Set l1_ratio > 0 to add L1 regularization.\n",
      "  model = cd_fast.enet_coordinate_descent_gram(\n",
      "D:\\Anaconda\\Lib\\site-packages\\sklearn\\linear_model\\_coordinate_descent.py:617: ConvergenceWarning: Objective did not converge. You might want to increase the number of iterations. Duality gap: 982982.9788464382, tolerance: 528.2524974358976\n",
      "  model = cd_fast.enet_coordinate_descent_gram(\n",
      "D:\\Anaconda\\Lib\\site-packages\\sklearn\\linear_model\\_coordinate_descent.py:617: UserWarning: Coordinate descent without L1 regularization may lead to unexpected results and is discouraged. Set l1_ratio > 0 to add L1 regularization.\n",
      "  model = cd_fast.enet_coordinate_descent_gram(\n",
      "D:\\Anaconda\\Lib\\site-packages\\sklearn\\linear_model\\_coordinate_descent.py:617: ConvergenceWarning: Objective did not converge. You might want to increase the number of iterations. Duality gap: 975295.9335632334, tolerance: 528.2524974358976\n",
      "  model = cd_fast.enet_coordinate_descent_gram(\n",
      "D:\\Anaconda\\Lib\\site-packages\\sklearn\\linear_model\\_coordinate_descent.py:617: UserWarning: Coordinate descent without L1 regularization may lead to unexpected results and is discouraged. Set l1_ratio > 0 to add L1 regularization.\n",
      "  model = cd_fast.enet_coordinate_descent_gram(\n",
      "D:\\Anaconda\\Lib\\site-packages\\sklearn\\linear_model\\_coordinate_descent.py:617: ConvergenceWarning: Objective did not converge. You might want to increase the number of iterations. Duality gap: 967459.1860909837, tolerance: 528.2524974358976\n",
      "  model = cd_fast.enet_coordinate_descent_gram(\n",
      "D:\\Anaconda\\Lib\\site-packages\\sklearn\\linear_model\\_coordinate_descent.py:617: UserWarning: Coordinate descent without L1 regularization may lead to unexpected results and is discouraged. Set l1_ratio > 0 to add L1 regularization.\n",
      "  model = cd_fast.enet_coordinate_descent_gram(\n",
      "D:\\Anaconda\\Lib\\site-packages\\sklearn\\linear_model\\_coordinate_descent.py:617: ConvergenceWarning: Objective did not converge. You might want to increase the number of iterations. Duality gap: 959467.6355503032, tolerance: 528.2524974358976\n",
      "  model = cd_fast.enet_coordinate_descent_gram(\n",
      "D:\\Anaconda\\Lib\\site-packages\\sklearn\\linear_model\\_coordinate_descent.py:617: UserWarning: Coordinate descent without L1 regularization may lead to unexpected results and is discouraged. Set l1_ratio > 0 to add L1 regularization.\n",
      "  model = cd_fast.enet_coordinate_descent_gram(\n",
      "D:\\Anaconda\\Lib\\site-packages\\sklearn\\linear_model\\_coordinate_descent.py:617: ConvergenceWarning: Objective did not converge. You might want to increase the number of iterations. Duality gap: 951315.8905092609, tolerance: 528.2524974358976\n",
      "  model = cd_fast.enet_coordinate_descent_gram(\n",
      "D:\\Anaconda\\Lib\\site-packages\\sklearn\\linear_model\\_coordinate_descent.py:617: UserWarning: Coordinate descent without L1 regularization may lead to unexpected results and is discouraged. Set l1_ratio > 0 to add L1 regularization.\n",
      "  model = cd_fast.enet_coordinate_descent_gram(\n",
      "D:\\Anaconda\\Lib\\site-packages\\sklearn\\linear_model\\_coordinate_descent.py:617: ConvergenceWarning: Objective did not converge. You might want to increase the number of iterations. Duality gap: 942998.2427695044, tolerance: 528.2524974358976\n",
      "  model = cd_fast.enet_coordinate_descent_gram(\n",
      "D:\\Anaconda\\Lib\\site-packages\\sklearn\\linear_model\\_coordinate_descent.py:617: UserWarning: Coordinate descent without L1 regularization may lead to unexpected results and is discouraged. Set l1_ratio > 0 to add L1 regularization.\n",
      "  model = cd_fast.enet_coordinate_descent_gram(\n",
      "D:\\Anaconda\\Lib\\site-packages\\sklearn\\linear_model\\_coordinate_descent.py:617: ConvergenceWarning: Objective did not converge. You might want to increase the number of iterations. Duality gap: 934508.637780267, tolerance: 528.2524974358976\n",
      "  model = cd_fast.enet_coordinate_descent_gram(\n",
      "D:\\Anaconda\\Lib\\site-packages\\sklearn\\linear_model\\_coordinate_descent.py:617: UserWarning: Coordinate descent without L1 regularization may lead to unexpected results and is discouraged. Set l1_ratio > 0 to add L1 regularization.\n",
      "  model = cd_fast.enet_coordinate_descent_gram(\n",
      "D:\\Anaconda\\Lib\\site-packages\\sklearn\\linear_model\\_coordinate_descent.py:617: ConvergenceWarning: Objective did not converge. You might want to increase the number of iterations. Duality gap: 925840.6411208084, tolerance: 528.2524974358976\n",
      "  model = cd_fast.enet_coordinate_descent_gram(\n",
      "D:\\Anaconda\\Lib\\site-packages\\sklearn\\linear_model\\_coordinate_descent.py:617: UserWarning: Coordinate descent without L1 regularization may lead to unexpected results and is discouraged. Set l1_ratio > 0 to add L1 regularization.\n",
      "  model = cd_fast.enet_coordinate_descent_gram(\n",
      "D:\\Anaconda\\Lib\\site-packages\\sklearn\\linear_model\\_coordinate_descent.py:617: ConvergenceWarning: Objective did not converge. You might want to increase the number of iterations. Duality gap: 916987.4003794803, tolerance: 528.2524974358976\n",
      "  model = cd_fast.enet_coordinate_descent_gram(\n",
      "D:\\Anaconda\\Lib\\site-packages\\sklearn\\linear_model\\_coordinate_descent.py:617: UserWarning: Coordinate descent without L1 regularization may lead to unexpected results and is discouraged. Set l1_ratio > 0 to add L1 regularization.\n",
      "  model = cd_fast.enet_coordinate_descent_gram(\n",
      "D:\\Anaconda\\Lib\\site-packages\\sklearn\\linear_model\\_coordinate_descent.py:617: ConvergenceWarning: Objective did not converge. You might want to increase the number of iterations. Duality gap: 907941.6016188372, tolerance: 528.2524974358976\n",
      "  model = cd_fast.enet_coordinate_descent_gram(\n",
      "D:\\Anaconda\\Lib\\site-packages\\sklearn\\linear_model\\_coordinate_descent.py:617: UserWarning: Coordinate descent without L1 regularization may lead to unexpected results and is discouraged. Set l1_ratio > 0 to add L1 regularization.\n",
      "  model = cd_fast.enet_coordinate_descent_gram(\n",
      "D:\\Anaconda\\Lib\\site-packages\\sklearn\\linear_model\\_coordinate_descent.py:617: ConvergenceWarning: Objective did not converge. You might want to increase the number of iterations. Duality gap: 898695.4194440688, tolerance: 528.2524974358976\n",
      "  model = cd_fast.enet_coordinate_descent_gram(\n",
      "D:\\Anaconda\\Lib\\site-packages\\sklearn\\linear_model\\_coordinate_descent.py:617: UserWarning: Coordinate descent without L1 regularization may lead to unexpected results and is discouraged. Set l1_ratio > 0 to add L1 regularization.\n",
      "  model = cd_fast.enet_coordinate_descent_gram(\n",
      "D:\\Anaconda\\Lib\\site-packages\\sklearn\\linear_model\\_coordinate_descent.py:617: ConvergenceWarning: Objective did not converge. You might want to increase the number of iterations. Duality gap: 889240.4594770153, tolerance: 528.2524974358976\n",
      "  model = cd_fast.enet_coordinate_descent_gram(\n",
      "D:\\Anaconda\\Lib\\site-packages\\sklearn\\linear_model\\_coordinate_descent.py:617: UserWarning: Coordinate descent without L1 regularization may lead to unexpected results and is discouraged. Set l1_ratio > 0 to add L1 regularization.\n",
      "  model = cd_fast.enet_coordinate_descent_gram(\n",
      "D:\\Anaconda\\Lib\\site-packages\\sklearn\\linear_model\\_coordinate_descent.py:617: ConvergenceWarning: Objective did not converge. You might want to increase the number of iterations. Duality gap: 879567.691768202, tolerance: 528.2524974358976\n",
      "  model = cd_fast.enet_coordinate_descent_gram(\n",
      "D:\\Anaconda\\Lib\\site-packages\\sklearn\\linear_model\\_coordinate_descent.py:617: UserWarning: Coordinate descent without L1 regularization may lead to unexpected results and is discouraged. Set l1_ratio > 0 to add L1 regularization.\n",
      "  model = cd_fast.enet_coordinate_descent_gram(\n",
      "D:\\Anaconda\\Lib\\site-packages\\sklearn\\linear_model\\_coordinate_descent.py:617: ConvergenceWarning: Objective did not converge. You might want to increase the number of iterations. Duality gap: 869667.3733384735, tolerance: 528.2524974358976\n",
      "  model = cd_fast.enet_coordinate_descent_gram(\n",
      "D:\\Anaconda\\Lib\\site-packages\\sklearn\\linear_model\\_coordinate_descent.py:617: UserWarning: Coordinate descent without L1 regularization may lead to unexpected results and is discouraged. Set l1_ratio > 0 to add L1 regularization.\n",
      "  model = cd_fast.enet_coordinate_descent_gram(\n",
      "D:\\Anaconda\\Lib\\site-packages\\sklearn\\linear_model\\_coordinate_descent.py:617: ConvergenceWarning: Objective did not converge. You might want to increase the number of iterations. Duality gap: 859528.9576083962, tolerance: 528.2524974358976\n",
      "  model = cd_fast.enet_coordinate_descent_gram(\n",
      "D:\\Anaconda\\Lib\\site-packages\\sklearn\\linear_model\\_coordinate_descent.py:617: UserWarning: Coordinate descent without L1 regularization may lead to unexpected results and is discouraged. Set l1_ratio > 0 to add L1 regularization.\n",
      "  model = cd_fast.enet_coordinate_descent_gram(\n",
      "D:\\Anaconda\\Lib\\site-packages\\sklearn\\linear_model\\_coordinate_descent.py:617: ConvergenceWarning: Objective did not converge. You might want to increase the number of iterations. Duality gap: 849140.9879191167, tolerance: 528.2524974358976\n",
      "  model = cd_fast.enet_coordinate_descent_gram(\n",
      "D:\\Anaconda\\Lib\\site-packages\\sklearn\\linear_model\\_coordinate_descent.py:617: UserWarning: Coordinate descent without L1 regularization may lead to unexpected results and is discouraged. Set l1_ratio > 0 to add L1 regularization.\n",
      "  model = cd_fast.enet_coordinate_descent_gram(\n",
      "D:\\Anaconda\\Lib\\site-packages\\sklearn\\linear_model\\_coordinate_descent.py:617: ConvergenceWarning: Objective did not converge. You might want to increase the number of iterations. Duality gap: 838490.9716333224, tolerance: 528.2524974358976\n",
      "  model = cd_fast.enet_coordinate_descent_gram(\n",
      "D:\\Anaconda\\Lib\\site-packages\\sklearn\\linear_model\\_coordinate_descent.py:617: UserWarning: Coordinate descent without L1 regularization may lead to unexpected results and is discouraged. Set l1_ratio > 0 to add L1 regularization.\n",
      "  model = cd_fast.enet_coordinate_descent_gram(\n",
      "D:\\Anaconda\\Lib\\site-packages\\sklearn\\linear_model\\_coordinate_descent.py:617: ConvergenceWarning: Objective did not converge. You might want to increase the number of iterations. Duality gap: 827565.230376556, tolerance: 528.2524974358976\n",
      "  model = cd_fast.enet_coordinate_descent_gram(\n",
      "D:\\Anaconda\\Lib\\site-packages\\sklearn\\linear_model\\_coordinate_descent.py:617: UserWarning: Coordinate descent without L1 regularization may lead to unexpected results and is discouraged. Set l1_ratio > 0 to add L1 regularization.\n",
      "  model = cd_fast.enet_coordinate_descent_gram(\n",
      "D:\\Anaconda\\Lib\\site-packages\\sklearn\\linear_model\\_coordinate_descent.py:617: ConvergenceWarning: Objective did not converge. You might want to increase the number of iterations. Duality gap: 816348.7207635095, tolerance: 528.2524974358976\n",
      "  model = cd_fast.enet_coordinate_descent_gram(\n",
      "D:\\Anaconda\\Lib\\site-packages\\sklearn\\linear_model\\_coordinate_descent.py:617: UserWarning: Coordinate descent without L1 regularization may lead to unexpected results and is discouraged. Set l1_ratio > 0 to add L1 regularization.\n",
      "  model = cd_fast.enet_coordinate_descent_gram(\n",
      "D:\\Anaconda\\Lib\\site-packages\\sklearn\\linear_model\\_coordinate_descent.py:617: ConvergenceWarning: Objective did not converge. You might want to increase the number of iterations. Duality gap: 804824.8183489833, tolerance: 528.2524974358976\n",
      "  model = cd_fast.enet_coordinate_descent_gram(\n",
      "D:\\Anaconda\\Lib\\site-packages\\sklearn\\linear_model\\_coordinate_descent.py:617: UserWarning: Coordinate descent without L1 regularization may lead to unexpected results and is discouraged. Set l1_ratio > 0 to add L1 regularization.\n",
      "  model = cd_fast.enet_coordinate_descent_gram(\n",
      "D:\\Anaconda\\Lib\\site-packages\\sklearn\\linear_model\\_coordinate_descent.py:617: ConvergenceWarning: Objective did not converge. You might want to increase the number of iterations. Duality gap: 792975.0554048913, tolerance: 528.2524974358976\n",
      "  model = cd_fast.enet_coordinate_descent_gram(\n",
      "D:\\Anaconda\\Lib\\site-packages\\sklearn\\linear_model\\_coordinate_descent.py:617: UserWarning: Coordinate descent without L1 regularization may lead to unexpected results and is discouraged. Set l1_ratio > 0 to add L1 regularization.\n",
      "  model = cd_fast.enet_coordinate_descent_gram(\n",
      "D:\\Anaconda\\Lib\\site-packages\\sklearn\\linear_model\\_coordinate_descent.py:617: ConvergenceWarning: Objective did not converge. You might want to increase the number of iterations. Duality gap: 780778.8002483782, tolerance: 528.2524974358976\n",
      "  model = cd_fast.enet_coordinate_descent_gram(\n",
      "D:\\Anaconda\\Lib\\site-packages\\sklearn\\linear_model\\_coordinate_descent.py:617: UserWarning: Coordinate descent without L1 regularization may lead to unexpected results and is discouraged. Set l1_ratio > 0 to add L1 regularization.\n",
      "  model = cd_fast.enet_coordinate_descent_gram(\n",
      "D:\\Anaconda\\Lib\\site-packages\\sklearn\\linear_model\\_coordinate_descent.py:617: ConvergenceWarning: Objective did not converge. You might want to increase the number of iterations. Duality gap: 768212.8619369606, tolerance: 528.2524974358976\n",
      "  model = cd_fast.enet_coordinate_descent_gram(\n",
      "D:\\Anaconda\\Lib\\site-packages\\sklearn\\linear_model\\_coordinate_descent.py:617: UserWarning: Coordinate descent without L1 regularization may lead to unexpected results and is discouraged. Set l1_ratio > 0 to add L1 regularization.\n",
      "  model = cd_fast.enet_coordinate_descent_gram(\n",
      "D:\\Anaconda\\Lib\\site-packages\\sklearn\\linear_model\\_coordinate_descent.py:617: ConvergenceWarning: Objective did not converge. You might want to increase the number of iterations. Duality gap: 755250.9987750011, tolerance: 528.2524974358976\n",
      "  model = cd_fast.enet_coordinate_descent_gram(\n",
      "D:\\Anaconda\\Lib\\site-packages\\sklearn\\linear_model\\_coordinate_descent.py:617: UserWarning: Coordinate descent without L1 regularization may lead to unexpected results and is discouraged. Set l1_ratio > 0 to add L1 regularization.\n",
      "  model = cd_fast.enet_coordinate_descent_gram(\n",
      "D:\\Anaconda\\Lib\\site-packages\\sklearn\\linear_model\\_coordinate_descent.py:617: ConvergenceWarning: Objective did not converge. You might want to increase the number of iterations. Duality gap: 741863.3016065988, tolerance: 528.2524974358976\n",
      "  model = cd_fast.enet_coordinate_descent_gram(\n",
      "D:\\Anaconda\\Lib\\site-packages\\sklearn\\linear_model\\_coordinate_descent.py:617: UserWarning: Coordinate descent without L1 regularization may lead to unexpected results and is discouraged. Set l1_ratio > 0 to add L1 regularization.\n",
      "  model = cd_fast.enet_coordinate_descent_gram(\n",
      "D:\\Anaconda\\Lib\\site-packages\\sklearn\\linear_model\\_coordinate_descent.py:617: ConvergenceWarning: Objective did not converge. You might want to increase the number of iterations. Duality gap: 728015.4123509128, tolerance: 528.2524974358976\n",
      "  model = cd_fast.enet_coordinate_descent_gram(\n",
      "D:\\Anaconda\\Lib\\site-packages\\sklearn\\linear_model\\_coordinate_descent.py:617: UserWarning: Coordinate descent without L1 regularization may lead to unexpected results and is discouraged. Set l1_ratio > 0 to add L1 regularization.\n",
      "  model = cd_fast.enet_coordinate_descent_gram(\n",
      "D:\\Anaconda\\Lib\\site-packages\\sklearn\\linear_model\\_coordinate_descent.py:617: ConvergenceWarning: Objective did not converge. You might want to increase the number of iterations. Duality gap: 713667.5232150975, tolerance: 528.2524974358976\n",
      "  model = cd_fast.enet_coordinate_descent_gram(\n",
      "D:\\Anaconda\\Lib\\site-packages\\sklearn\\linear_model\\_coordinate_descent.py:617: UserWarning: Coordinate descent without L1 regularization may lead to unexpected results and is discouraged. Set l1_ratio > 0 to add L1 regularization.\n",
      "  model = cd_fast.enet_coordinate_descent_gram(\n",
      "D:\\Anaconda\\Lib\\site-packages\\sklearn\\linear_model\\_coordinate_descent.py:617: ConvergenceWarning: Objective did not converge. You might want to increase the number of iterations. Duality gap: 698773.0802478319, tolerance: 528.2524974358976\n",
      "  model = cd_fast.enet_coordinate_descent_gram(\n",
      "D:\\Anaconda\\Lib\\site-packages\\sklearn\\linear_model\\_coordinate_descent.py:617: UserWarning: Coordinate descent without L1 regularization may lead to unexpected results and is discouraged. Set l1_ratio > 0 to add L1 regularization.\n",
      "  model = cd_fast.enet_coordinate_descent_gram(\n",
      "D:\\Anaconda\\Lib\\site-packages\\sklearn\\linear_model\\_coordinate_descent.py:617: ConvergenceWarning: Objective did not converge. You might want to increase the number of iterations. Duality gap: 683277.0828173438, tolerance: 528.2524974358976\n",
      "  model = cd_fast.enet_coordinate_descent_gram(\n",
      "D:\\Anaconda\\Lib\\site-packages\\sklearn\\linear_model\\_coordinate_descent.py:617: UserWarning: Coordinate descent without L1 regularization may lead to unexpected results and is discouraged. Set l1_ratio > 0 to add L1 regularization.\n",
      "  model = cd_fast.enet_coordinate_descent_gram(\n",
      "D:\\Anaconda\\Lib\\site-packages\\sklearn\\linear_model\\_coordinate_descent.py:617: ConvergenceWarning: Objective did not converge. You might want to increase the number of iterations. Duality gap: 667113.8224796124, tolerance: 528.2524974358976\n",
      "  model = cd_fast.enet_coordinate_descent_gram(\n",
      "D:\\Anaconda\\Lib\\site-packages\\sklearn\\linear_model\\_coordinate_descent.py:617: UserWarning: Coordinate descent without L1 regularization may lead to unexpected results and is discouraged. Set l1_ratio > 0 to add L1 regularization.\n",
      "  model = cd_fast.enet_coordinate_descent_gram(\n",
      "D:\\Anaconda\\Lib\\site-packages\\sklearn\\linear_model\\_coordinate_descent.py:617: ConvergenceWarning: Objective did not converge. You might want to increase the number of iterations. Duality gap: 650203.8310883457, tolerance: 528.2524974358976\n",
      "  model = cd_fast.enet_coordinate_descent_gram(\n",
      "D:\\Anaconda\\Lib\\site-packages\\sklearn\\linear_model\\_coordinate_descent.py:617: UserWarning: Coordinate descent without L1 regularization may lead to unexpected results and is discouraged. Set l1_ratio > 0 to add L1 regularization.\n",
      "  model = cd_fast.enet_coordinate_descent_gram(\n"
     ]
    },
    {
     "name": "stderr",
     "output_type": "stream",
     "text": [
      "D:\\Anaconda\\Lib\\site-packages\\sklearn\\linear_model\\_coordinate_descent.py:617: ConvergenceWarning: Objective did not converge. You might want to increase the number of iterations. Duality gap: 632449.6928912802, tolerance: 528.2524974358976\n",
      "  model = cd_fast.enet_coordinate_descent_gram(\n",
      "D:\\Anaconda\\Lib\\site-packages\\sklearn\\linear_model\\_coordinate_descent.py:617: UserWarning: Coordinate descent without L1 regularization may lead to unexpected results and is discouraged. Set l1_ratio > 0 to add L1 regularization.\n",
      "  model = cd_fast.enet_coordinate_descent_gram(\n",
      "D:\\Anaconda\\Lib\\site-packages\\sklearn\\linear_model\\_coordinate_descent.py:617: ConvergenceWarning: Objective did not converge. You might want to increase the number of iterations. Duality gap: 613730.1909224419, tolerance: 528.2524974358976\n",
      "  model = cd_fast.enet_coordinate_descent_gram(\n",
      "D:\\Anaconda\\Lib\\site-packages\\sklearn\\linear_model\\_coordinate_descent.py:617: UserWarning: Coordinate descent without L1 regularization may lead to unexpected results and is discouraged. Set l1_ratio > 0 to add L1 regularization.\n",
      "  model = cd_fast.enet_coordinate_descent_gram(\n",
      "D:\\Anaconda\\Lib\\site-packages\\sklearn\\linear_model\\_coordinate_descent.py:617: ConvergenceWarning: Objective did not converge. You might want to increase the number of iterations. Duality gap: 593891.9542335016, tolerance: 528.2524974358976\n",
      "  model = cd_fast.enet_coordinate_descent_gram(\n",
      "D:\\Anaconda\\Lib\\site-packages\\sklearn\\linear_model\\_coordinate_descent.py:617: UserWarning: Coordinate descent without L1 regularization may lead to unexpected results and is discouraged. Set l1_ratio > 0 to add L1 regularization.\n",
      "  model = cd_fast.enet_coordinate_descent_gram(\n",
      "D:\\Anaconda\\Lib\\site-packages\\sklearn\\linear_model\\_coordinate_descent.py:617: ConvergenceWarning: Objective did not converge. You might want to increase the number of iterations. Duality gap: 572737.2562054795, tolerance: 528.2524974358976\n",
      "  model = cd_fast.enet_coordinate_descent_gram(\n",
      "D:\\Anaconda\\Lib\\site-packages\\sklearn\\linear_model\\_coordinate_descent.py:617: UserWarning: Coordinate descent without L1 regularization may lead to unexpected results and is discouraged. Set l1_ratio > 0 to add L1 regularization.\n",
      "  model = cd_fast.enet_coordinate_descent_gram(\n",
      "D:\\Anaconda\\Lib\\site-packages\\sklearn\\linear_model\\_coordinate_descent.py:617: ConvergenceWarning: Objective did not converge. You might want to increase the number of iterations. Duality gap: 550005.7038955899, tolerance: 528.2524974358976\n",
      "  model = cd_fast.enet_coordinate_descent_gram(\n",
      "D:\\Anaconda\\Lib\\site-packages\\sklearn\\linear_model\\_coordinate_descent.py:617: UserWarning: Coordinate descent without L1 regularization may lead to unexpected results and is discouraged. Set l1_ratio > 0 to add L1 regularization.\n",
      "  model = cd_fast.enet_coordinate_descent_gram(\n",
      "D:\\Anaconda\\Lib\\site-packages\\sklearn\\linear_model\\_coordinate_descent.py:617: ConvergenceWarning: Objective did not converge. You might want to increase the number of iterations. Duality gap: 525345.881425482, tolerance: 528.2524974358976\n",
      "  model = cd_fast.enet_coordinate_descent_gram(\n",
      "D:\\Anaconda\\Lib\\site-packages\\sklearn\\linear_model\\_coordinate_descent.py:617: UserWarning: Coordinate descent without L1 regularization may lead to unexpected results and is discouraged. Set l1_ratio > 0 to add L1 regularization.\n",
      "  model = cd_fast.enet_coordinate_descent_gram(\n",
      "D:\\Anaconda\\Lib\\site-packages\\sklearn\\linear_model\\_coordinate_descent.py:617: ConvergenceWarning: Objective did not converge. You might want to increase the number of iterations. Duality gap: 498269.74595610413, tolerance: 528.2524974358976\n",
      "  model = cd_fast.enet_coordinate_descent_gram(\n",
      "D:\\Anaconda\\Lib\\site-packages\\sklearn\\linear_model\\_coordinate_descent.py:617: UserWarning: Coordinate descent without L1 regularization may lead to unexpected results and is discouraged. Set l1_ratio > 0 to add L1 regularization.\n",
      "  model = cd_fast.enet_coordinate_descent_gram(\n",
      "D:\\Anaconda\\Lib\\site-packages\\sklearn\\linear_model\\_coordinate_descent.py:617: ConvergenceWarning: Objective did not converge. You might want to increase the number of iterations. Duality gap: 468075.7232274306, tolerance: 528.2524974358976\n",
      "  model = cd_fast.enet_coordinate_descent_gram(\n",
      "D:\\Anaconda\\Lib\\site-packages\\sklearn\\linear_model\\_coordinate_descent.py:617: UserWarning: Coordinate descent without L1 regularization may lead to unexpected results and is discouraged. Set l1_ratio > 0 to add L1 regularization.\n",
      "  model = cd_fast.enet_coordinate_descent_gram(\n",
      "D:\\Anaconda\\Lib\\site-packages\\sklearn\\linear_model\\_coordinate_descent.py:617: ConvergenceWarning: Objective did not converge. You might want to increase the number of iterations. Duality gap: 433710.254661153, tolerance: 528.2524974358976\n",
      "  model = cd_fast.enet_coordinate_descent_gram(\n",
      "D:\\Anaconda\\Lib\\site-packages\\sklearn\\linear_model\\_coordinate_descent.py:617: UserWarning: Coordinate descent without L1 regularization may lead to unexpected results and is discouraged. Set l1_ratio > 0 to add L1 regularization.\n",
      "  model = cd_fast.enet_coordinate_descent_gram(\n",
      "D:\\Anaconda\\Lib\\site-packages\\sklearn\\linear_model\\_coordinate_descent.py:617: ConvergenceWarning: Objective did not converge. You might want to increase the number of iterations. Duality gap: 393489.07316126965, tolerance: 528.2524974358976\n",
      "  model = cd_fast.enet_coordinate_descent_gram(\n",
      "D:\\Anaconda\\Lib\\site-packages\\sklearn\\linear_model\\_coordinate_descent.py:617: UserWarning: Coordinate descent without L1 regularization may lead to unexpected results and is discouraged. Set l1_ratio > 0 to add L1 regularization.\n",
      "  model = cd_fast.enet_coordinate_descent_gram(\n",
      "D:\\Anaconda\\Lib\\site-packages\\sklearn\\linear_model\\_coordinate_descent.py:617: ConvergenceWarning: Objective did not converge. You might want to increase the number of iterations. Duality gap: 344330.7080022251, tolerance: 528.2524974358976\n",
      "  model = cd_fast.enet_coordinate_descent_gram(\n",
      "D:\\Anaconda\\Lib\\site-packages\\sklearn\\linear_model\\_coordinate_descent.py:617: UserWarning: Coordinate descent without L1 regularization may lead to unexpected results and is discouraged. Set l1_ratio > 0 to add L1 regularization.\n",
      "  model = cd_fast.enet_coordinate_descent_gram(\n",
      "D:\\Anaconda\\Lib\\site-packages\\sklearn\\linear_model\\_coordinate_descent.py:617: ConvergenceWarning: Objective did not converge. You might want to increase the number of iterations. Duality gap: 1352269.7163301448, tolerance: 541.6349230769231\n",
      "  model = cd_fast.enet_coordinate_descent_gram(\n",
      "D:\\Anaconda\\Lib\\site-packages\\sklearn\\linear_model\\_coordinate_descent.py:617: UserWarning: Coordinate descent without L1 regularization may lead to unexpected results and is discouraged. Set l1_ratio > 0 to add L1 regularization.\n",
      "  model = cd_fast.enet_coordinate_descent_gram(\n",
      "D:\\Anaconda\\Lib\\site-packages\\sklearn\\linear_model\\_coordinate_descent.py:617: ConvergenceWarning: Objective did not converge. You might want to increase the number of iterations. Duality gap: 1348405.1185043189, tolerance: 541.6349230769231\n",
      "  model = cd_fast.enet_coordinate_descent_gram(\n",
      "D:\\Anaconda\\Lib\\site-packages\\sklearn\\linear_model\\_coordinate_descent.py:617: UserWarning: Coordinate descent without L1 regularization may lead to unexpected results and is discouraged. Set l1_ratio > 0 to add L1 regularization.\n",
      "  model = cd_fast.enet_coordinate_descent_gram(\n",
      "D:\\Anaconda\\Lib\\site-packages\\sklearn\\linear_model\\_coordinate_descent.py:617: ConvergenceWarning: Objective did not converge. You might want to increase the number of iterations. Duality gap: 1344496.6612936528, tolerance: 541.6349230769231\n",
      "  model = cd_fast.enet_coordinate_descent_gram(\n",
      "D:\\Anaconda\\Lib\\site-packages\\sklearn\\linear_model\\_coordinate_descent.py:617: UserWarning: Coordinate descent without L1 regularization may lead to unexpected results and is discouraged. Set l1_ratio > 0 to add L1 regularization.\n",
      "  model = cd_fast.enet_coordinate_descent_gram(\n",
      "D:\\Anaconda\\Lib\\site-packages\\sklearn\\linear_model\\_coordinate_descent.py:617: ConvergenceWarning: Objective did not converge. You might want to increase the number of iterations. Duality gap: 1340543.5789416446, tolerance: 541.6349230769231\n",
      "  model = cd_fast.enet_coordinate_descent_gram(\n",
      "D:\\Anaconda\\Lib\\site-packages\\sklearn\\linear_model\\_coordinate_descent.py:617: UserWarning: Coordinate descent without L1 regularization may lead to unexpected results and is discouraged. Set l1_ratio > 0 to add L1 regularization.\n",
      "  model = cd_fast.enet_coordinate_descent_gram(\n",
      "D:\\Anaconda\\Lib\\site-packages\\sklearn\\linear_model\\_coordinate_descent.py:617: ConvergenceWarning: Objective did not converge. You might want to increase the number of iterations. Duality gap: 1336545.0873344047, tolerance: 541.6349230769231\n",
      "  model = cd_fast.enet_coordinate_descent_gram(\n",
      "D:\\Anaconda\\Lib\\site-packages\\sklearn\\linear_model\\_coordinate_descent.py:617: UserWarning: Coordinate descent without L1 regularization may lead to unexpected results and is discouraged. Set l1_ratio > 0 to add L1 regularization.\n",
      "  model = cd_fast.enet_coordinate_descent_gram(\n",
      "D:\\Anaconda\\Lib\\site-packages\\sklearn\\linear_model\\_coordinate_descent.py:617: ConvergenceWarning: Objective did not converge. You might want to increase the number of iterations. Duality gap: 1332500.3834264483, tolerance: 541.6349230769231\n",
      "  model = cd_fast.enet_coordinate_descent_gram(\n",
      "D:\\Anaconda\\Lib\\site-packages\\sklearn\\linear_model\\_coordinate_descent.py:617: UserWarning: Coordinate descent without L1 regularization may lead to unexpected results and is discouraged. Set l1_ratio > 0 to add L1 regularization.\n",
      "  model = cd_fast.enet_coordinate_descent_gram(\n",
      "D:\\Anaconda\\Lib\\site-packages\\sklearn\\linear_model\\_coordinate_descent.py:617: ConvergenceWarning: Objective did not converge. You might want to increase the number of iterations. Duality gap: 1328408.644643595, tolerance: 541.6349230769231\n",
      "  model = cd_fast.enet_coordinate_descent_gram(\n",
      "D:\\Anaconda\\Lib\\site-packages\\sklearn\\linear_model\\_coordinate_descent.py:617: UserWarning: Coordinate descent without L1 regularization may lead to unexpected results and is discouraged. Set l1_ratio > 0 to add L1 regularization.\n",
      "  model = cd_fast.enet_coordinate_descent_gram(\n",
      "D:\\Anaconda\\Lib\\site-packages\\sklearn\\linear_model\\_coordinate_descent.py:617: ConvergenceWarning: Objective did not converge. You might want to increase the number of iterations. Duality gap: 1324269.028261837, tolerance: 541.6349230769231\n",
      "  model = cd_fast.enet_coordinate_descent_gram(\n",
      "D:\\Anaconda\\Lib\\site-packages\\sklearn\\linear_model\\_coordinate_descent.py:617: UserWarning: Coordinate descent without L1 regularization may lead to unexpected results and is discouraged. Set l1_ratio > 0 to add L1 regularization.\n",
      "  model = cd_fast.enet_coordinate_descent_gram(\n",
      "D:\\Anaconda\\Lib\\site-packages\\sklearn\\linear_model\\_coordinate_descent.py:617: ConvergenceWarning: Objective did not converge. You might want to increase the number of iterations. Duality gap: 1320080.6707609426, tolerance: 541.6349230769231\n",
      "  model = cd_fast.enet_coordinate_descent_gram(\n",
      "D:\\Anaconda\\Lib\\site-packages\\sklearn\\linear_model\\_coordinate_descent.py:617: UserWarning: Coordinate descent without L1 regularization may lead to unexpected results and is discouraged. Set l1_ratio > 0 to add L1 regularization.\n",
      "  model = cd_fast.enet_coordinate_descent_gram(\n",
      "D:\\Anaconda\\Lib\\site-packages\\sklearn\\linear_model\\_coordinate_descent.py:617: ConvergenceWarning: Objective did not converge. You might want to increase the number of iterations. Duality gap: 1315842.687151491, tolerance: 541.6349230769231\n",
      "  model = cd_fast.enet_coordinate_descent_gram(\n",
      "D:\\Anaconda\\Lib\\site-packages\\sklearn\\linear_model\\_coordinate_descent.py:617: UserWarning: Coordinate descent without L1 regularization may lead to unexpected results and is discouraged. Set l1_ratio > 0 to add L1 regularization.\n",
      "  model = cd_fast.enet_coordinate_descent_gram(\n",
      "D:\\Anaconda\\Lib\\site-packages\\sklearn\\linear_model\\_coordinate_descent.py:617: ConvergenceWarning: Objective did not converge. You might want to increase the number of iterations. Duality gap: 1311554.1702739694, tolerance: 541.6349230769231\n",
      "  model = cd_fast.enet_coordinate_descent_gram(\n",
      "D:\\Anaconda\\Lib\\site-packages\\sklearn\\linear_model\\_coordinate_descent.py:617: UserWarning: Coordinate descent without L1 regularization may lead to unexpected results and is discouraged. Set l1_ratio > 0 to add L1 regularization.\n",
      "  model = cd_fast.enet_coordinate_descent_gram(\n",
      "D:\\Anaconda\\Lib\\site-packages\\sklearn\\linear_model\\_coordinate_descent.py:617: ConvergenceWarning: Objective did not converge. You might want to increase the number of iterations. Duality gap: 1307214.1900684494, tolerance: 541.6349230769231\n",
      "  model = cd_fast.enet_coordinate_descent_gram(\n",
      "D:\\Anaconda\\Lib\\site-packages\\sklearn\\linear_model\\_coordinate_descent.py:617: UserWarning: Coordinate descent without L1 regularization may lead to unexpected results and is discouraged. Set l1_ratio > 0 to add L1 regularization.\n",
      "  model = cd_fast.enet_coordinate_descent_gram(\n",
      "D:\\Anaconda\\Lib\\site-packages\\sklearn\\linear_model\\_coordinate_descent.py:617: ConvergenceWarning: Objective did not converge. You might want to increase the number of iterations. Duality gap: 1302821.7928132662, tolerance: 541.6349230769231\n",
      "  model = cd_fast.enet_coordinate_descent_gram(\n",
      "D:\\Anaconda\\Lib\\site-packages\\sklearn\\linear_model\\_coordinate_descent.py:617: UserWarning: Coordinate descent without L1 regularization may lead to unexpected results and is discouraged. Set l1_ratio > 0 to add L1 regularization.\n",
      "  model = cd_fast.enet_coordinate_descent_gram(\n",
      "D:\\Anaconda\\Lib\\site-packages\\sklearn\\linear_model\\_coordinate_descent.py:617: ConvergenceWarning: Objective did not converge. You might want to increase the number of iterations. Duality gap: 1298376.0003310246, tolerance: 541.6349230769231\n",
      "  model = cd_fast.enet_coordinate_descent_gram(\n",
      "D:\\Anaconda\\Lib\\site-packages\\sklearn\\linear_model\\_coordinate_descent.py:617: UserWarning: Coordinate descent without L1 regularization may lead to unexpected results and is discouraged. Set l1_ratio > 0 to add L1 regularization.\n",
      "  model = cd_fast.enet_coordinate_descent_gram(\n",
      "D:\\Anaconda\\Lib\\site-packages\\sklearn\\linear_model\\_coordinate_descent.py:617: ConvergenceWarning: Objective did not converge. You might want to increase the number of iterations. Duality gap: 1293875.809160153, tolerance: 541.6349230769231\n",
      "  model = cd_fast.enet_coordinate_descent_gram(\n",
      "D:\\Anaconda\\Lib\\site-packages\\sklearn\\linear_model\\_coordinate_descent.py:617: UserWarning: Coordinate descent without L1 regularization may lead to unexpected results and is discouraged. Set l1_ratio > 0 to add L1 regularization.\n",
      "  model = cd_fast.enet_coordinate_descent_gram(\n",
      "D:\\Anaconda\\Lib\\site-packages\\sklearn\\linear_model\\_coordinate_descent.py:617: ConvergenceWarning: Objective did not converge. You might want to increase the number of iterations. Duality gap: 1289320.1896900642, tolerance: 541.6349230769231\n",
      "  model = cd_fast.enet_coordinate_descent_gram(\n",
      "D:\\Anaconda\\Lib\\site-packages\\sklearn\\linear_model\\_coordinate_descent.py:617: UserWarning: Coordinate descent without L1 regularization may lead to unexpected results and is discouraged. Set l1_ratio > 0 to add L1 regularization.\n",
      "  model = cd_fast.enet_coordinate_descent_gram(\n",
      "D:\\Anaconda\\Lib\\site-packages\\sklearn\\linear_model\\_coordinate_descent.py:617: ConvergenceWarning: Objective did not converge. You might want to increase the number of iterations. Duality gap: 1284708.0852578948, tolerance: 541.6349230769231\n",
      "  model = cd_fast.enet_coordinate_descent_gram(\n",
      "D:\\Anaconda\\Lib\\site-packages\\sklearn\\linear_model\\_coordinate_descent.py:617: UserWarning: Coordinate descent without L1 regularization may lead to unexpected results and is discouraged. Set l1_ratio > 0 to add L1 regularization.\n",
      "  model = cd_fast.enet_coordinate_descent_gram(\n",
      "D:\\Anaconda\\Lib\\site-packages\\sklearn\\linear_model\\_coordinate_descent.py:617: ConvergenceWarning: Objective did not converge. You might want to increase the number of iterations. Duality gap: 1280038.411204606, tolerance: 541.6349230769231\n",
      "  model = cd_fast.enet_coordinate_descent_gram(\n",
      "D:\\Anaconda\\Lib\\site-packages\\sklearn\\linear_model\\_coordinate_descent.py:617: UserWarning: Coordinate descent without L1 regularization may lead to unexpected results and is discouraged. Set l1_ratio > 0 to add L1 regularization.\n",
      "  model = cd_fast.enet_coordinate_descent_gram(\n",
      "D:\\Anaconda\\Lib\\site-packages\\sklearn\\linear_model\\_coordinate_descent.py:617: ConvergenceWarning: Objective did not converge. You might want to increase the number of iterations. Duality gap: 1275310.0538881093, tolerance: 541.6349230769231\n",
      "  model = cd_fast.enet_coordinate_descent_gram(\n",
      "D:\\Anaconda\\Lib\\site-packages\\sklearn\\linear_model\\_coordinate_descent.py:617: UserWarning: Coordinate descent without L1 regularization may lead to unexpected results and is discouraged. Set l1_ratio > 0 to add L1 regularization.\n",
      "  model = cd_fast.enet_coordinate_descent_gram(\n",
      "D:\\Anaconda\\Lib\\site-packages\\sklearn\\linear_model\\_coordinate_descent.py:617: ConvergenceWarning: Objective did not converge. You might want to increase the number of iterations. Duality gap: 1270521.8696508608, tolerance: 541.6349230769231\n",
      "  model = cd_fast.enet_coordinate_descent_gram(\n",
      "D:\\Anaconda\\Lib\\site-packages\\sklearn\\linear_model\\_coordinate_descent.py:617: UserWarning: Coordinate descent without L1 regularization may lead to unexpected results and is discouraged. Set l1_ratio > 0 to add L1 regularization.\n",
      "  model = cd_fast.enet_coordinate_descent_gram(\n",
      "D:\\Anaconda\\Lib\\site-packages\\sklearn\\linear_model\\_coordinate_descent.py:617: ConvergenceWarning: Objective did not converge. You might want to increase the number of iterations. Duality gap: 1265672.6837392312, tolerance: 541.6349230769231\n",
      "  model = cd_fast.enet_coordinate_descent_gram(\n",
      "D:\\Anaconda\\Lib\\site-packages\\sklearn\\linear_model\\_coordinate_descent.py:617: UserWarning: Coordinate descent without L1 regularization may lead to unexpected results and is discouraged. Set l1_ratio > 0 to add L1 regularization.\n",
      "  model = cd_fast.enet_coordinate_descent_gram(\n",
      "D:\\Anaconda\\Lib\\site-packages\\sklearn\\linear_model\\_coordinate_descent.py:617: ConvergenceWarning: Objective did not converge. You might want to increase the number of iterations. Duality gap: 1260761.2891717032, tolerance: 541.6349230769231\n",
      "  model = cd_fast.enet_coordinate_descent_gram(\n",
      "D:\\Anaconda\\Lib\\site-packages\\sklearn\\linear_model\\_coordinate_descent.py:617: UserWarning: Coordinate descent without L1 regularization may lead to unexpected results and is discouraged. Set l1_ratio > 0 to add L1 regularization.\n",
      "  model = cd_fast.enet_coordinate_descent_gram(\n",
      "D:\\Anaconda\\Lib\\site-packages\\sklearn\\linear_model\\_coordinate_descent.py:617: ConvergenceWarning: Objective did not converge. You might want to increase the number of iterations. Duality gap: 1255786.4455527517, tolerance: 541.6349230769231\n",
      "  model = cd_fast.enet_coordinate_descent_gram(\n",
      "D:\\Anaconda\\Lib\\site-packages\\sklearn\\linear_model\\_coordinate_descent.py:617: UserWarning: Coordinate descent without L1 regularization may lead to unexpected results and is discouraged. Set l1_ratio > 0 to add L1 regularization.\n",
      "  model = cd_fast.enet_coordinate_descent_gram(\n",
      "D:\\Anaconda\\Lib\\site-packages\\sklearn\\linear_model\\_coordinate_descent.py:617: ConvergenceWarning: Objective did not converge. You might want to increase the number of iterations. Duality gap: 1250746.877829008, tolerance: 541.6349230769231\n",
      "  model = cd_fast.enet_coordinate_descent_gram(\n",
      "D:\\Anaconda\\Lib\\site-packages\\sklearn\\linear_model\\_coordinate_descent.py:617: UserWarning: Coordinate descent without L1 regularization may lead to unexpected results and is discouraged. Set l1_ratio > 0 to add L1 regularization.\n",
      "  model = cd_fast.enet_coordinate_descent_gram(\n",
      "D:\\Anaconda\\Lib\\site-packages\\sklearn\\linear_model\\_coordinate_descent.py:617: ConvergenceWarning: Objective did not converge. You might want to increase the number of iterations. Duality gap: 1245641.27498403, tolerance: 541.6349230769231\n",
      "  model = cd_fast.enet_coordinate_descent_gram(\n",
      "D:\\Anaconda\\Lib\\site-packages\\sklearn\\linear_model\\_coordinate_descent.py:617: UserWarning: Coordinate descent without L1 regularization may lead to unexpected results and is discouraged. Set l1_ratio > 0 to add L1 regularization.\n",
      "  model = cd_fast.enet_coordinate_descent_gram(\n",
      "D:\\Anaconda\\Lib\\site-packages\\sklearn\\linear_model\\_coordinate_descent.py:617: ConvergenceWarning: Objective did not converge. You might want to increase the number of iterations. Duality gap: 1240468.2886677019, tolerance: 541.6349230769231\n",
      "  model = cd_fast.enet_coordinate_descent_gram(\n",
      "D:\\Anaconda\\Lib\\site-packages\\sklearn\\linear_model\\_coordinate_descent.py:617: UserWarning: Coordinate descent without L1 regularization may lead to unexpected results and is discouraged. Set l1_ratio > 0 to add L1 regularization.\n",
      "  model = cd_fast.enet_coordinate_descent_gram(\n",
      "D:\\Anaconda\\Lib\\site-packages\\sklearn\\linear_model\\_coordinate_descent.py:617: ConvergenceWarning: Objective did not converge. You might want to increase the number of iterations. Duality gap: 1235226.5317559808, tolerance: 541.6349230769231\n",
      "  model = cd_fast.enet_coordinate_descent_gram(\n",
      "D:\\Anaconda\\Lib\\site-packages\\sklearn\\linear_model\\_coordinate_descent.py:617: UserWarning: Coordinate descent without L1 regularization may lead to unexpected results and is discouraged. Set l1_ratio > 0 to add L1 regularization.\n",
      "  model = cd_fast.enet_coordinate_descent_gram(\n",
      "D:\\Anaconda\\Lib\\site-packages\\sklearn\\linear_model\\_coordinate_descent.py:617: ConvergenceWarning: Objective did not converge. You might want to increase the number of iterations. Duality gap: 1229914.5768363033, tolerance: 541.6349230769231\n",
      "  model = cd_fast.enet_coordinate_descent_gram(\n",
      "D:\\Anaconda\\Lib\\site-packages\\sklearn\\linear_model\\_coordinate_descent.py:617: UserWarning: Coordinate descent without L1 regularization may lead to unexpected results and is discouraged. Set l1_ratio > 0 to add L1 regularization.\n",
      "  model = cd_fast.enet_coordinate_descent_gram(\n",
      "D:\\Anaconda\\Lib\\site-packages\\sklearn\\linear_model\\_coordinate_descent.py:617: ConvergenceWarning: Objective did not converge. You might want to increase the number of iterations. Duality gap: 1224530.9546136034, tolerance: 541.6349230769231\n",
      "  model = cd_fast.enet_coordinate_descent_gram(\n",
      "D:\\Anaconda\\Lib\\site-packages\\sklearn\\linear_model\\_coordinate_descent.py:617: UserWarning: Coordinate descent without L1 regularization may lead to unexpected results and is discouraged. Set l1_ratio > 0 to add L1 regularization.\n",
      "  model = cd_fast.enet_coordinate_descent_gram(\n",
      "D:\\Anaconda\\Lib\\site-packages\\sklearn\\linear_model\\_coordinate_descent.py:617: ConvergenceWarning: Objective did not converge. You might want to increase the number of iterations. Duality gap: 1219074.152231436, tolerance: 541.6349230769231\n",
      "  model = cd_fast.enet_coordinate_descent_gram(\n",
      "D:\\Anaconda\\Lib\\site-packages\\sklearn\\linear_model\\_coordinate_descent.py:617: UserWarning: Coordinate descent without L1 regularization may lead to unexpected results and is discouraged. Set l1_ratio > 0 to add L1 regularization.\n",
      "  model = cd_fast.enet_coordinate_descent_gram(\n",
      "D:\\Anaconda\\Lib\\site-packages\\sklearn\\linear_model\\_coordinate_descent.py:617: ConvergenceWarning: Objective did not converge. You might want to increase the number of iterations. Duality gap: 1213542.6115022036, tolerance: 541.6349230769231\n",
      "  model = cd_fast.enet_coordinate_descent_gram(\n",
      "D:\\Anaconda\\Lib\\site-packages\\sklearn\\linear_model\\_coordinate_descent.py:617: UserWarning: Coordinate descent without L1 regularization may lead to unexpected results and is discouraged. Set l1_ratio > 0 to add L1 regularization.\n",
      "  model = cd_fast.enet_coordinate_descent_gram(\n",
      "D:\\Anaconda\\Lib\\site-packages\\sklearn\\linear_model\\_coordinate_descent.py:617: ConvergenceWarning: Objective did not converge. You might want to increase the number of iterations. Duality gap: 1207934.7270399542, tolerance: 541.6349230769231\n",
      "  model = cd_fast.enet_coordinate_descent_gram(\n",
      "D:\\Anaconda\\Lib\\site-packages\\sklearn\\linear_model\\_coordinate_descent.py:617: UserWarning: Coordinate descent without L1 regularization may lead to unexpected results and is discouraged. Set l1_ratio > 0 to add L1 regularization.\n",
      "  model = cd_fast.enet_coordinate_descent_gram(\n",
      "D:\\Anaconda\\Lib\\site-packages\\sklearn\\linear_model\\_coordinate_descent.py:617: ConvergenceWarning: Objective did not converge. You might want to increase the number of iterations. Duality gap: 1202248.844288608, tolerance: 541.6349230769231\n",
      "  model = cd_fast.enet_coordinate_descent_gram(\n",
      "D:\\Anaconda\\Lib\\site-packages\\sklearn\\linear_model\\_coordinate_descent.py:617: UserWarning: Coordinate descent without L1 regularization may lead to unexpected results and is discouraged. Set l1_ratio > 0 to add L1 regularization.\n",
      "  model = cd_fast.enet_coordinate_descent_gram(\n",
      "D:\\Anaconda\\Lib\\site-packages\\sklearn\\linear_model\\_coordinate_descent.py:617: ConvergenceWarning: Objective did not converge. You might want to increase the number of iterations. Duality gap: 1196483.2574377856, tolerance: 541.6349230769231\n",
      "  model = cd_fast.enet_coordinate_descent_gram(\n",
      "D:\\Anaconda\\Lib\\site-packages\\sklearn\\linear_model\\_coordinate_descent.py:617: UserWarning: Coordinate descent without L1 regularization may lead to unexpected results and is discouraged. Set l1_ratio > 0 to add L1 regularization.\n",
      "  model = cd_fast.enet_coordinate_descent_gram(\n",
      "D:\\Anaconda\\Lib\\site-packages\\sklearn\\linear_model\\_coordinate_descent.py:617: ConvergenceWarning: Objective did not converge. You might want to increase the number of iterations. Duality gap: 1190636.2072176975, tolerance: 541.6349230769231\n",
      "  model = cd_fast.enet_coordinate_descent_gram(\n",
      "D:\\Anaconda\\Lib\\site-packages\\sklearn\\linear_model\\_coordinate_descent.py:617: UserWarning: Coordinate descent without L1 regularization may lead to unexpected results and is discouraged. Set l1_ratio > 0 to add L1 regularization.\n",
      "  model = cd_fast.enet_coordinate_descent_gram(\n",
      "D:\\Anaconda\\Lib\\site-packages\\sklearn\\linear_model\\_coordinate_descent.py:617: ConvergenceWarning: Objective did not converge. You might want to increase the number of iterations. Duality gap: 1184705.8785636637, tolerance: 541.6349230769231\n",
      "  model = cd_fast.enet_coordinate_descent_gram(\n",
      "D:\\Anaconda\\Lib\\site-packages\\sklearn\\linear_model\\_coordinate_descent.py:617: UserWarning: Coordinate descent without L1 regularization may lead to unexpected results and is discouraged. Set l1_ratio > 0 to add L1 regularization.\n",
      "  model = cd_fast.enet_coordinate_descent_gram(\n",
      "D:\\Anaconda\\Lib\\site-packages\\sklearn\\linear_model\\_coordinate_descent.py:617: ConvergenceWarning: Objective did not converge. You might want to increase the number of iterations. Duality gap: 1178690.3981399462, tolerance: 541.6349230769231\n",
      "  model = cd_fast.enet_coordinate_descent_gram(\n",
      "D:\\Anaconda\\Lib\\site-packages\\sklearn\\linear_model\\_coordinate_descent.py:617: UserWarning: Coordinate descent without L1 regularization may lead to unexpected results and is discouraged. Set l1_ratio > 0 to add L1 regularization.\n",
      "  model = cd_fast.enet_coordinate_descent_gram(\n",
      "D:\\Anaconda\\Lib\\site-packages\\sklearn\\linear_model\\_coordinate_descent.py:617: ConvergenceWarning: Objective did not converge. You might want to increase the number of iterations. Duality gap: 1172587.8317114846, tolerance: 541.6349230769231\n",
      "  model = cd_fast.enet_coordinate_descent_gram(\n",
      "D:\\Anaconda\\Lib\\site-packages\\sklearn\\linear_model\\_coordinate_descent.py:617: UserWarning: Coordinate descent without L1 regularization may lead to unexpected results and is discouraged. Set l1_ratio > 0 to add L1 regularization.\n",
      "  model = cd_fast.enet_coordinate_descent_gram(\n",
      "D:\\Anaconda\\Lib\\site-packages\\sklearn\\linear_model\\_coordinate_descent.py:617: ConvergenceWarning: Objective did not converge. You might want to increase the number of iterations. Duality gap: 1166396.181350958, tolerance: 541.6349230769231\n",
      "  model = cd_fast.enet_coordinate_descent_gram(\n",
      "D:\\Anaconda\\Lib\\site-packages\\sklearn\\linear_model\\_coordinate_descent.py:617: UserWarning: Coordinate descent without L1 regularization may lead to unexpected results and is discouraged. Set l1_ratio > 0 to add L1 regularization.\n",
      "  model = cd_fast.enet_coordinate_descent_gram(\n",
      "D:\\Anaconda\\Lib\\site-packages\\sklearn\\linear_model\\_coordinate_descent.py:617: ConvergenceWarning: Objective did not converge. You might want to increase the number of iterations. Duality gap: 1160113.3824672778, tolerance: 541.6349230769231\n",
      "  model = cd_fast.enet_coordinate_descent_gram(\n",
      "D:\\Anaconda\\Lib\\site-packages\\sklearn\\linear_model\\_coordinate_descent.py:617: UserWarning: Coordinate descent without L1 regularization may lead to unexpected results and is discouraged. Set l1_ratio > 0 to add L1 regularization.\n",
      "  model = cd_fast.enet_coordinate_descent_gram(\n",
      "D:\\Anaconda\\Lib\\site-packages\\sklearn\\linear_model\\_coordinate_descent.py:617: ConvergenceWarning: Objective did not converge. You might want to increase the number of iterations. Duality gap: 1153737.3006400669, tolerance: 541.6349230769231\n",
      "  model = cd_fast.enet_coordinate_descent_gram(\n",
      "D:\\Anaconda\\Lib\\site-packages\\sklearn\\linear_model\\_coordinate_descent.py:617: UserWarning: Coordinate descent without L1 regularization may lead to unexpected results and is discouraged. Set l1_ratio > 0 to add L1 regularization.\n",
      "  model = cd_fast.enet_coordinate_descent_gram(\n",
      "D:\\Anaconda\\Lib\\site-packages\\sklearn\\linear_model\\_coordinate_descent.py:617: ConvergenceWarning: Objective did not converge. You might want to increase the number of iterations. Duality gap: 1147265.728243034, tolerance: 541.6349230769231\n",
      "  model = cd_fast.enet_coordinate_descent_gram(\n",
      "D:\\Anaconda\\Lib\\site-packages\\sklearn\\linear_model\\_coordinate_descent.py:617: UserWarning: Coordinate descent without L1 regularization may lead to unexpected results and is discouraged. Set l1_ratio > 0 to add L1 regularization.\n",
      "  model = cd_fast.enet_coordinate_descent_gram(\n",
      "D:\\Anaconda\\Lib\\site-packages\\sklearn\\linear_model\\_coordinate_descent.py:617: ConvergenceWarning: Objective did not converge. You might want to increase the number of iterations. Duality gap: 1140696.3808371583, tolerance: 541.6349230769231\n",
      "  model = cd_fast.enet_coordinate_descent_gram(\n",
      "D:\\Anaconda\\Lib\\site-packages\\sklearn\\linear_model\\_coordinate_descent.py:617: UserWarning: Coordinate descent without L1 regularization may lead to unexpected results and is discouraged. Set l1_ratio > 0 to add L1 regularization.\n",
      "  model = cd_fast.enet_coordinate_descent_gram(\n",
      "D:\\Anaconda\\Lib\\site-packages\\sklearn\\linear_model\\_coordinate_descent.py:617: ConvergenceWarning: Objective did not converge. You might want to increase the number of iterations. Duality gap: 1134026.8933124717, tolerance: 541.6349230769231\n",
      "  model = cd_fast.enet_coordinate_descent_gram(\n",
      "D:\\Anaconda\\Lib\\site-packages\\sklearn\\linear_model\\_coordinate_descent.py:617: UserWarning: Coordinate descent without L1 regularization may lead to unexpected results and is discouraged. Set l1_ratio > 0 to add L1 regularization.\n",
      "  model = cd_fast.enet_coordinate_descent_gram(\n",
      "D:\\Anaconda\\Lib\\site-packages\\sklearn\\linear_model\\_coordinate_descent.py:617: ConvergenceWarning: Objective did not converge. You might want to increase the number of iterations. Duality gap: 1127254.8157546488, tolerance: 541.6349230769231\n",
      "  model = cd_fast.enet_coordinate_descent_gram(\n",
      "D:\\Anaconda\\Lib\\site-packages\\sklearn\\linear_model\\_coordinate_descent.py:617: UserWarning: Coordinate descent without L1 regularization may lead to unexpected results and is discouraged. Set l1_ratio > 0 to add L1 regularization.\n",
      "  model = cd_fast.enet_coordinate_descent_gram(\n",
      "D:\\Anaconda\\Lib\\site-packages\\sklearn\\linear_model\\_coordinate_descent.py:617: ConvergenceWarning: Objective did not converge. You might want to increase the number of iterations. Duality gap: 1120377.6090098303, tolerance: 541.6349230769231\n",
      "  model = cd_fast.enet_coordinate_descent_gram(\n",
      "D:\\Anaconda\\Lib\\site-packages\\sklearn\\linear_model\\_coordinate_descent.py:617: UserWarning: Coordinate descent without L1 regularization may lead to unexpected results and is discouraged. Set l1_ratio > 0 to add L1 regularization.\n",
      "  model = cd_fast.enet_coordinate_descent_gram(\n",
      "D:\\Anaconda\\Lib\\site-packages\\sklearn\\linear_model\\_coordinate_descent.py:617: ConvergenceWarning: Objective did not converge. You might want to increase the number of iterations. Duality gap: 1113392.639917772, tolerance: 541.6349230769231\n",
      "  model = cd_fast.enet_coordinate_descent_gram(\n",
      "D:\\Anaconda\\Lib\\site-packages\\sklearn\\linear_model\\_coordinate_descent.py:617: UserWarning: Coordinate descent without L1 regularization may lead to unexpected results and is discouraged. Set l1_ratio > 0 to add L1 regularization.\n",
      "  model = cd_fast.enet_coordinate_descent_gram(\n",
      "D:\\Anaconda\\Lib\\site-packages\\sklearn\\linear_model\\_coordinate_descent.py:617: ConvergenceWarning: Objective did not converge. You might want to increase the number of iterations. Duality gap: 1106297.1761796956, tolerance: 541.6349230769231\n",
      "  model = cd_fast.enet_coordinate_descent_gram(\n",
      "D:\\Anaconda\\Lib\\site-packages\\sklearn\\linear_model\\_coordinate_descent.py:617: UserWarning: Coordinate descent without L1 regularization may lead to unexpected results and is discouraged. Set l1_ratio > 0 to add L1 regularization.\n",
      "  model = cd_fast.enet_coordinate_descent_gram(\n",
      "D:\\Anaconda\\Lib\\site-packages\\sklearn\\linear_model\\_coordinate_descent.py:617: ConvergenceWarning: Objective did not converge. You might want to increase the number of iterations. Duality gap: 1099088.3808228797, tolerance: 541.6349230769231\n",
      "  model = cd_fast.enet_coordinate_descent_gram(\n",
      "D:\\Anaconda\\Lib\\site-packages\\sklearn\\linear_model\\_coordinate_descent.py:617: UserWarning: Coordinate descent without L1 regularization may lead to unexpected results and is discouraged. Set l1_ratio > 0 to add L1 regularization.\n",
      "  model = cd_fast.enet_coordinate_descent_gram(\n",
      "D:\\Anaconda\\Lib\\site-packages\\sklearn\\linear_model\\_coordinate_descent.py:617: ConvergenceWarning: Objective did not converge. You might want to increase the number of iterations. Duality gap: 1091763.3062190276, tolerance: 541.6349230769231\n",
      "  model = cd_fast.enet_coordinate_descent_gram(\n",
      "D:\\Anaconda\\Lib\\site-packages\\sklearn\\linear_model\\_coordinate_descent.py:617: UserWarning: Coordinate descent without L1 regularization may lead to unexpected results and is discouraged. Set l1_ratio > 0 to add L1 regularization.\n",
      "  model = cd_fast.enet_coordinate_descent_gram(\n",
      "D:\\Anaconda\\Lib\\site-packages\\sklearn\\linear_model\\_coordinate_descent.py:617: ConvergenceWarning: Objective did not converge. You might want to increase the number of iterations. Duality gap: 1084318.8876077046, tolerance: 541.6349230769231\n",
      "  model = cd_fast.enet_coordinate_descent_gram(\n",
      "D:\\Anaconda\\Lib\\site-packages\\sklearn\\linear_model\\_coordinate_descent.py:617: UserWarning: Coordinate descent without L1 regularization may lead to unexpected results and is discouraged. Set l1_ratio > 0 to add L1 regularization.\n",
      "  model = cd_fast.enet_coordinate_descent_gram(\n",
      "D:\\Anaconda\\Lib\\site-packages\\sklearn\\linear_model\\_coordinate_descent.py:617: ConvergenceWarning: Objective did not converge. You might want to increase the number of iterations. Duality gap: 1076751.936069398, tolerance: 541.6349230769231\n",
      "  model = cd_fast.enet_coordinate_descent_gram(\n",
      "D:\\Anaconda\\Lib\\site-packages\\sklearn\\linear_model\\_coordinate_descent.py:617: UserWarning: Coordinate descent without L1 regularization may lead to unexpected results and is discouraged. Set l1_ratio > 0 to add L1 regularization.\n",
      "  model = cd_fast.enet_coordinate_descent_gram(\n",
      "D:\\Anaconda\\Lib\\site-packages\\sklearn\\linear_model\\_coordinate_descent.py:617: ConvergenceWarning: Objective did not converge. You might want to increase the number of iterations. Duality gap: 1069059.1308849845, tolerance: 541.6349230769231\n",
      "  model = cd_fast.enet_coordinate_descent_gram(\n",
      "D:\\Anaconda\\Lib\\site-packages\\sklearn\\linear_model\\_coordinate_descent.py:617: UserWarning: Coordinate descent without L1 regularization may lead to unexpected results and is discouraged. Set l1_ratio > 0 to add L1 regularization.\n",
      "  model = cd_fast.enet_coordinate_descent_gram(\n",
      "D:\\Anaconda\\Lib\\site-packages\\sklearn\\linear_model\\_coordinate_descent.py:617: ConvergenceWarning: Objective did not converge. You might want to increase the number of iterations. Duality gap: 1061237.0112092549, tolerance: 541.6349230769231\n",
      "  model = cd_fast.enet_coordinate_descent_gram(\n",
      "D:\\Anaconda\\Lib\\site-packages\\sklearn\\linear_model\\_coordinate_descent.py:617: UserWarning: Coordinate descent without L1 regularization may lead to unexpected results and is discouraged. Set l1_ratio > 0 to add L1 regularization.\n",
      "  model = cd_fast.enet_coordinate_descent_gram(\n",
      "D:\\Anaconda\\Lib\\site-packages\\sklearn\\linear_model\\_coordinate_descent.py:617: ConvergenceWarning: Objective did not converge. You might want to increase the number of iterations. Duality gap: 1053281.9669754962, tolerance: 541.6349230769231\n",
      "  model = cd_fast.enet_coordinate_descent_gram(\n",
      "D:\\Anaconda\\Lib\\site-packages\\sklearn\\linear_model\\_coordinate_descent.py:617: UserWarning: Coordinate descent without L1 regularization may lead to unexpected results and is discouraged. Set l1_ratio > 0 to add L1 regularization.\n",
      "  model = cd_fast.enet_coordinate_descent_gram(\n",
      "D:\\Anaconda\\Lib\\site-packages\\sklearn\\linear_model\\_coordinate_descent.py:617: ConvergenceWarning: Objective did not converge. You might want to increase the number of iterations. Duality gap: 1045190.2289355726, tolerance: 541.6349230769231\n",
      "  model = cd_fast.enet_coordinate_descent_gram(\n",
      "D:\\Anaconda\\Lib\\site-packages\\sklearn\\linear_model\\_coordinate_descent.py:617: UserWarning: Coordinate descent without L1 regularization may lead to unexpected results and is discouraged. Set l1_ratio > 0 to add L1 regularization.\n",
      "  model = cd_fast.enet_coordinate_descent_gram(\n",
      "D:\\Anaconda\\Lib\\site-packages\\sklearn\\linear_model\\_coordinate_descent.py:617: ConvergenceWarning: Objective did not converge. You might want to increase the number of iterations. Duality gap: 1036957.8577251881, tolerance: 541.6349230769231\n",
      "  model = cd_fast.enet_coordinate_descent_gram(\n",
      "D:\\Anaconda\\Lib\\site-packages\\sklearn\\linear_model\\_coordinate_descent.py:617: UserWarning: Coordinate descent without L1 regularization may lead to unexpected results and is discouraged. Set l1_ratio > 0 to add L1 regularization.\n",
      "  model = cd_fast.enet_coordinate_descent_gram(\n",
      "D:\\Anaconda\\Lib\\site-packages\\sklearn\\linear_model\\_coordinate_descent.py:617: ConvergenceWarning: Objective did not converge. You might want to increase the number of iterations. Duality gap: 1028580.7318265118, tolerance: 541.6349230769231\n",
      "  model = cd_fast.enet_coordinate_descent_gram(\n",
      "D:\\Anaconda\\Lib\\site-packages\\sklearn\\linear_model\\_coordinate_descent.py:617: UserWarning: Coordinate descent without L1 regularization may lead to unexpected results and is discouraged. Set l1_ratio > 0 to add L1 regularization.\n",
      "  model = cd_fast.enet_coordinate_descent_gram(\n",
      "D:\\Anaconda\\Lib\\site-packages\\sklearn\\linear_model\\_coordinate_descent.py:617: ConvergenceWarning: Objective did not converge. You might want to increase the number of iterations. Duality gap: 1020054.5342795895, tolerance: 541.6349230769231\n",
      "  model = cd_fast.enet_coordinate_descent_gram(\n",
      "D:\\Anaconda\\Lib\\site-packages\\sklearn\\linear_model\\_coordinate_descent.py:617: UserWarning: Coordinate descent without L1 regularization may lead to unexpected results and is discouraged. Set l1_ratio > 0 to add L1 regularization.\n",
      "  model = cd_fast.enet_coordinate_descent_gram(\n",
      "D:\\Anaconda\\Lib\\site-packages\\sklearn\\linear_model\\_coordinate_descent.py:617: ConvergenceWarning: Objective did not converge. You might want to increase the number of iterations. Duality gap: 1011374.7379692169, tolerance: 541.6349230769231\n",
      "  model = cd_fast.enet_coordinate_descent_gram(\n",
      "D:\\Anaconda\\Lib\\site-packages\\sklearn\\linear_model\\_coordinate_descent.py:617: UserWarning: Coordinate descent without L1 regularization may lead to unexpected results and is discouraged. Set l1_ratio > 0 to add L1 regularization.\n",
      "  model = cd_fast.enet_coordinate_descent_gram(\n",
      "D:\\Anaconda\\Lib\\site-packages\\sklearn\\linear_model\\_coordinate_descent.py:617: ConvergenceWarning: Objective did not converge. You might want to increase the number of iterations. Duality gap: 1002536.5892843744, tolerance: 541.6349230769231\n",
      "  model = cd_fast.enet_coordinate_descent_gram(\n",
      "D:\\Anaconda\\Lib\\site-packages\\sklearn\\linear_model\\_coordinate_descent.py:617: UserWarning: Coordinate descent without L1 regularization may lead to unexpected results and is discouraged. Set l1_ratio > 0 to add L1 regularization.\n",
      "  model = cd_fast.enet_coordinate_descent_gram(\n",
      "D:\\Anaconda\\Lib\\site-packages\\sklearn\\linear_model\\_coordinate_descent.py:617: ConvergenceWarning: Objective did not converge. You might want to increase the number of iterations. Duality gap: 993535.0899117533, tolerance: 541.6349230769231\n",
      "  model = cd_fast.enet_coordinate_descent_gram(\n",
      "D:\\Anaconda\\Lib\\site-packages\\sklearn\\linear_model\\_coordinate_descent.py:617: UserWarning: Coordinate descent without L1 regularization may lead to unexpected results and is discouraged. Set l1_ratio > 0 to add L1 regularization.\n",
      "  model = cd_fast.enet_coordinate_descent_gram(\n",
      "D:\\Anaconda\\Lib\\site-packages\\sklearn\\linear_model\\_coordinate_descent.py:617: ConvergenceWarning: Objective did not converge. You might want to increase the number of iterations. Duality gap: 984364.976482059, tolerance: 541.6349230769231\n",
      "  model = cd_fast.enet_coordinate_descent_gram(\n",
      "D:\\Anaconda\\Lib\\site-packages\\sklearn\\linear_model\\_coordinate_descent.py:617: UserWarning: Coordinate descent without L1 regularization may lead to unexpected results and is discouraged. Set l1_ratio > 0 to add L1 regularization.\n",
      "  model = cd_fast.enet_coordinate_descent_gram(\n",
      "D:\\Anaconda\\Lib\\site-packages\\sklearn\\linear_model\\_coordinate_descent.py:617: ConvergenceWarning: Objective did not converge. You might want to increase the number of iterations. Duality gap: 975020.6977358686, tolerance: 541.6349230769231\n",
      "  model = cd_fast.enet_coordinate_descent_gram(\n",
      "D:\\Anaconda\\Lib\\site-packages\\sklearn\\linear_model\\_coordinate_descent.py:617: UserWarning: Coordinate descent without L1 regularization may lead to unexpected results and is discouraged. Set l1_ratio > 0 to add L1 regularization.\n",
      "  model = cd_fast.enet_coordinate_descent_gram(\n",
      "D:\\Anaconda\\Lib\\site-packages\\sklearn\\linear_model\\_coordinate_descent.py:617: ConvergenceWarning: Objective did not converge. You might want to increase the number of iterations. Duality gap: 965496.3888126604, tolerance: 541.6349230769231\n",
      "  model = cd_fast.enet_coordinate_descent_gram(\n",
      "D:\\Anaconda\\Lib\\site-packages\\sklearn\\linear_model\\_coordinate_descent.py:617: UserWarning: Coordinate descent without L1 regularization may lead to unexpected results and is discouraged. Set l1_ratio > 0 to add L1 regularization.\n",
      "  model = cd_fast.enet_coordinate_descent_gram(\n",
      "D:\\Anaconda\\Lib\\site-packages\\sklearn\\linear_model\\_coordinate_descent.py:617: ConvergenceWarning: Objective did not converge. You might want to increase the number of iterations. Duality gap: 955785.8421894861, tolerance: 541.6349230769231\n",
      "  model = cd_fast.enet_coordinate_descent_gram(\n",
      "D:\\Anaconda\\Lib\\site-packages\\sklearn\\linear_model\\_coordinate_descent.py:617: UserWarning: Coordinate descent without L1 regularization may lead to unexpected results and is discouraged. Set l1_ratio > 0 to add L1 regularization.\n",
      "  model = cd_fast.enet_coordinate_descent_gram(\n",
      "D:\\Anaconda\\Lib\\site-packages\\sklearn\\linear_model\\_coordinate_descent.py:617: ConvergenceWarning: Objective did not converge. You might want to increase the number of iterations. Duality gap: 945882.4747009426, tolerance: 541.6349230769231\n",
      "  model = cd_fast.enet_coordinate_descent_gram(\n",
      "D:\\Anaconda\\Lib\\site-packages\\sklearn\\linear_model\\_coordinate_descent.py:617: UserWarning: Coordinate descent without L1 regularization may lead to unexpected results and is discouraged. Set l1_ratio > 0 to add L1 regularization.\n",
      "  model = cd_fast.enet_coordinate_descent_gram(\n",
      "D:\\Anaconda\\Lib\\site-packages\\sklearn\\linear_model\\_coordinate_descent.py:617: ConvergenceWarning: Objective did not converge. You might want to increase the number of iterations. Duality gap: 935779.2899552305, tolerance: 541.6349230769231\n",
      "  model = cd_fast.enet_coordinate_descent_gram(\n",
      "D:\\Anaconda\\Lib\\site-packages\\sklearn\\linear_model\\_coordinate_descent.py:617: UserWarning: Coordinate descent without L1 regularization may lead to unexpected results and is discouraged. Set l1_ratio > 0 to add L1 regularization.\n",
      "  model = cd_fast.enet_coordinate_descent_gram(\n",
      "D:\\Anaconda\\Lib\\site-packages\\sklearn\\linear_model\\_coordinate_descent.py:617: ConvergenceWarning: Objective did not converge. You might want to increase the number of iterations. Duality gap: 925468.8353158496, tolerance: 541.6349230769231\n",
      "  model = cd_fast.enet_coordinate_descent_gram(\n",
      "D:\\Anaconda\\Lib\\site-packages\\sklearn\\linear_model\\_coordinate_descent.py:617: UserWarning: Coordinate descent without L1 regularization may lead to unexpected results and is discouraged. Set l1_ratio > 0 to add L1 regularization.\n",
      "  model = cd_fast.enet_coordinate_descent_gram(\n",
      "D:\\Anaconda\\Lib\\site-packages\\sklearn\\linear_model\\_coordinate_descent.py:617: ConvergenceWarning: Objective did not converge. You might want to increase the number of iterations. Duality gap: 914943.1524375224, tolerance: 541.6349230769231\n",
      "  model = cd_fast.enet_coordinate_descent_gram(\n",
      "D:\\Anaconda\\Lib\\site-packages\\sklearn\\linear_model\\_coordinate_descent.py:617: UserWarning: Coordinate descent without L1 regularization may lead to unexpected results and is discouraged. Set l1_ratio > 0 to add L1 regularization.\n",
      "  model = cd_fast.enet_coordinate_descent_gram(\n",
      "D:\\Anaconda\\Lib\\site-packages\\sklearn\\linear_model\\_coordinate_descent.py:617: ConvergenceWarning: Objective did not converge. You might want to increase the number of iterations. Duality gap: 904193.720117703, tolerance: 541.6349230769231\n",
      "  model = cd_fast.enet_coordinate_descent_gram(\n",
      "D:\\Anaconda\\Lib\\site-packages\\sklearn\\linear_model\\_coordinate_descent.py:617: UserWarning: Coordinate descent without L1 regularization may lead to unexpected results and is discouraged. Set l1_ratio > 0 to add L1 regularization.\n",
      "  model = cd_fast.enet_coordinate_descent_gram(\n",
      "D:\\Anaconda\\Lib\\site-packages\\sklearn\\linear_model\\_coordinate_descent.py:617: ConvergenceWarning: Objective did not converge. You might want to increase the number of iterations. Duality gap: 893211.3879382864, tolerance: 541.6349230769231\n",
      "  model = cd_fast.enet_coordinate_descent_gram(\n",
      "D:\\Anaconda\\Lib\\site-packages\\sklearn\\linear_model\\_coordinate_descent.py:617: UserWarning: Coordinate descent without L1 regularization may lead to unexpected results and is discouraged. Set l1_ratio > 0 to add L1 regularization.\n",
      "  model = cd_fast.enet_coordinate_descent_gram(\n"
     ]
    },
    {
     "name": "stderr",
     "output_type": "stream",
     "text": [
      "D:\\Anaconda\\Lib\\site-packages\\sklearn\\linear_model\\_coordinate_descent.py:617: ConvergenceWarning: Objective did not converge. You might want to increase the number of iterations. Duality gap: 881986.2988075418, tolerance: 541.6349230769231\n",
      "  model = cd_fast.enet_coordinate_descent_gram(\n",
      "D:\\Anaconda\\Lib\\site-packages\\sklearn\\linear_model\\_coordinate_descent.py:617: UserWarning: Coordinate descent without L1 regularization may lead to unexpected results and is discouraged. Set l1_ratio > 0 to add L1 regularization.\n",
      "  model = cd_fast.enet_coordinate_descent_gram(\n",
      "D:\\Anaconda\\Lib\\site-packages\\sklearn\\linear_model\\_coordinate_descent.py:617: ConvergenceWarning: Objective did not converge. You might want to increase the number of iterations. Duality gap: 870507.7980464681, tolerance: 541.6349230769231\n",
      "  model = cd_fast.enet_coordinate_descent_gram(\n",
      "D:\\Anaconda\\Lib\\site-packages\\sklearn\\linear_model\\_coordinate_descent.py:617: UserWarning: Coordinate descent without L1 regularization may lead to unexpected results and is discouraged. Set l1_ratio > 0 to add L1 regularization.\n",
      "  model = cd_fast.enet_coordinate_descent_gram(\n",
      "D:\\Anaconda\\Lib\\site-packages\\sklearn\\linear_model\\_coordinate_descent.py:617: ConvergenceWarning: Objective did not converge. You might want to increase the number of iterations. Duality gap: 858764.326062947, tolerance: 541.6349230769231\n",
      "  model = cd_fast.enet_coordinate_descent_gram(\n",
      "D:\\Anaconda\\Lib\\site-packages\\sklearn\\linear_model\\_coordinate_descent.py:617: UserWarning: Coordinate descent without L1 regularization may lead to unexpected results and is discouraged. Set l1_ratio > 0 to add L1 regularization.\n",
      "  model = cd_fast.enet_coordinate_descent_gram(\n",
      "D:\\Anaconda\\Lib\\site-packages\\sklearn\\linear_model\\_coordinate_descent.py:617: ConvergenceWarning: Objective did not converge. You might want to increase the number of iterations. Duality gap: 846743.2908779886, tolerance: 541.6349230769231\n",
      "  model = cd_fast.enet_coordinate_descent_gram(\n",
      "D:\\Anaconda\\Lib\\site-packages\\sklearn\\linear_model\\_coordinate_descent.py:617: UserWarning: Coordinate descent without L1 regularization may lead to unexpected results and is discouraged. Set l1_ratio > 0 to add L1 regularization.\n",
      "  model = cd_fast.enet_coordinate_descent_gram(\n",
      "D:\\Anaconda\\Lib\\site-packages\\sklearn\\linear_model\\_coordinate_descent.py:617: ConvergenceWarning: Objective did not converge. You might want to increase the number of iterations. Duality gap: 834430.9157485218, tolerance: 541.6349230769231\n",
      "  model = cd_fast.enet_coordinate_descent_gram(\n",
      "D:\\Anaconda\\Lib\\site-packages\\sklearn\\linear_model\\_coordinate_descent.py:617: UserWarning: Coordinate descent without L1 regularization may lead to unexpected results and is discouraged. Set l1_ratio > 0 to add L1 regularization.\n",
      "  model = cd_fast.enet_coordinate_descent_gram(\n",
      "D:\\Anaconda\\Lib\\site-packages\\sklearn\\linear_model\\_coordinate_descent.py:617: ConvergenceWarning: Objective did not converge. You might want to increase the number of iterations. Duality gap: 821812.0557860213, tolerance: 541.6349230769231\n",
      "  model = cd_fast.enet_coordinate_descent_gram(\n",
      "D:\\Anaconda\\Lib\\site-packages\\sklearn\\linear_model\\_coordinate_descent.py:617: UserWarning: Coordinate descent without L1 regularization may lead to unexpected results and is discouraged. Set l1_ratio > 0 to add L1 regularization.\n",
      "  model = cd_fast.enet_coordinate_descent_gram(\n",
      "D:\\Anaconda\\Lib\\site-packages\\sklearn\\linear_model\\_coordinate_descent.py:617: ConvergenceWarning: Objective did not converge. You might want to increase the number of iterations. Duality gap: 808869.9756793119, tolerance: 541.6349230769231\n",
      "  model = cd_fast.enet_coordinate_descent_gram(\n",
      "D:\\Anaconda\\Lib\\site-packages\\sklearn\\linear_model\\_coordinate_descent.py:617: UserWarning: Coordinate descent without L1 regularization may lead to unexpected results and is discouraged. Set l1_ratio > 0 to add L1 regularization.\n",
      "  model = cd_fast.enet_coordinate_descent_gram(\n",
      "D:\\Anaconda\\Lib\\site-packages\\sklearn\\linear_model\\_coordinate_descent.py:617: ConvergenceWarning: Objective did not converge. You might want to increase the number of iterations. Duality gap: 795586.078222954, tolerance: 541.6349230769231\n",
      "  model = cd_fast.enet_coordinate_descent_gram(\n",
      "D:\\Anaconda\\Lib\\site-packages\\sklearn\\linear_model\\_coordinate_descent.py:617: UserWarning: Coordinate descent without L1 regularization may lead to unexpected results and is discouraged. Set l1_ratio > 0 to add L1 regularization.\n",
      "  model = cd_fast.enet_coordinate_descent_gram(\n",
      "D:\\Anaconda\\Lib\\site-packages\\sklearn\\linear_model\\_coordinate_descent.py:617: ConvergenceWarning: Objective did not converge. You might want to increase the number of iterations. Duality gap: 781939.5700842103, tolerance: 541.6349230769231\n",
      "  model = cd_fast.enet_coordinate_descent_gram(\n",
      "D:\\Anaconda\\Lib\\site-packages\\sklearn\\linear_model\\_coordinate_descent.py:617: UserWarning: Coordinate descent without L1 regularization may lead to unexpected results and is discouraged. Set l1_ratio > 0 to add L1 regularization.\n",
      "  model = cd_fast.enet_coordinate_descent_gram(\n",
      "D:\\Anaconda\\Lib\\site-packages\\sklearn\\linear_model\\_coordinate_descent.py:617: ConvergenceWarning: Objective did not converge. You might want to increase the number of iterations. Duality gap: 767907.0467548692, tolerance: 541.6349230769231\n",
      "  model = cd_fast.enet_coordinate_descent_gram(\n",
      "D:\\Anaconda\\Lib\\site-packages\\sklearn\\linear_model\\_coordinate_descent.py:617: UserWarning: Coordinate descent without L1 regularization may lead to unexpected results and is discouraged. Set l1_ratio > 0 to add L1 regularization.\n",
      "  model = cd_fast.enet_coordinate_descent_gram(\n",
      "D:\\Anaconda\\Lib\\site-packages\\sklearn\\linear_model\\_coordinate_descent.py:617: ConvergenceWarning: Objective did not converge. You might want to increase the number of iterations. Duality gap: 753461.9724027051, tolerance: 541.6349230769231\n",
      "  model = cd_fast.enet_coordinate_descent_gram(\n",
      "D:\\Anaconda\\Lib\\site-packages\\sklearn\\linear_model\\_coordinate_descent.py:617: UserWarning: Coordinate descent without L1 regularization may lead to unexpected results and is discouraged. Set l1_ratio > 0 to add L1 regularization.\n",
      "  model = cd_fast.enet_coordinate_descent_gram(\n",
      "D:\\Anaconda\\Lib\\site-packages\\sklearn\\linear_model\\_coordinate_descent.py:617: ConvergenceWarning: Objective did not converge. You might want to increase the number of iterations. Duality gap: 738574.0215692259, tolerance: 541.6349230769231\n",
      "  model = cd_fast.enet_coordinate_descent_gram(\n",
      "D:\\Anaconda\\Lib\\site-packages\\sklearn\\linear_model\\_coordinate_descent.py:617: UserWarning: Coordinate descent without L1 regularization may lead to unexpected results and is discouraged. Set l1_ratio > 0 to add L1 regularization.\n",
      "  model = cd_fast.enet_coordinate_descent_gram(\n",
      "D:\\Anaconda\\Lib\\site-packages\\sklearn\\linear_model\\_coordinate_descent.py:617: ConvergenceWarning: Objective did not converge. You might want to increase the number of iterations. Duality gap: 723208.2371592019, tolerance: 541.6349230769231\n",
      "  model = cd_fast.enet_coordinate_descent_gram(\n",
      "D:\\Anaconda\\Lib\\site-packages\\sklearn\\linear_model\\_coordinate_descent.py:617: UserWarning: Coordinate descent without L1 regularization may lead to unexpected results and is discouraged. Set l1_ratio > 0 to add L1 regularization.\n",
      "  model = cd_fast.enet_coordinate_descent_gram(\n",
      "D:\\Anaconda\\Lib\\site-packages\\sklearn\\linear_model\\_coordinate_descent.py:617: ConvergenceWarning: Objective did not converge. You might want to increase the number of iterations. Duality gap: 707323.9410681678, tolerance: 541.6349230769231\n",
      "  model = cd_fast.enet_coordinate_descent_gram(\n",
      "D:\\Anaconda\\Lib\\site-packages\\sklearn\\linear_model\\_coordinate_descent.py:617: UserWarning: Coordinate descent without L1 regularization may lead to unexpected results and is discouraged. Set l1_ratio > 0 to add L1 regularization.\n",
      "  model = cd_fast.enet_coordinate_descent_gram(\n",
      "D:\\Anaconda\\Lib\\site-packages\\sklearn\\linear_model\\_coordinate_descent.py:617: ConvergenceWarning: Objective did not converge. You might want to increase the number of iterations. Duality gap: 690873.3071696161, tolerance: 541.6349230769231\n",
      "  model = cd_fast.enet_coordinate_descent_gram(\n",
      "D:\\Anaconda\\Lib\\site-packages\\sklearn\\linear_model\\_coordinate_descent.py:617: UserWarning: Coordinate descent without L1 regularization may lead to unexpected results and is discouraged. Set l1_ratio > 0 to add L1 regularization.\n",
      "  model = cd_fast.enet_coordinate_descent_gram(\n",
      "D:\\Anaconda\\Lib\\site-packages\\sklearn\\linear_model\\_coordinate_descent.py:617: ConvergenceWarning: Objective did not converge. You might want to increase the number of iterations. Duality gap: 673799.4665122651, tolerance: 541.6349230769231\n",
      "  model = cd_fast.enet_coordinate_descent_gram(\n",
      "D:\\Anaconda\\Lib\\site-packages\\sklearn\\linear_model\\_coordinate_descent.py:617: UserWarning: Coordinate descent without L1 regularization may lead to unexpected results and is discouraged. Set l1_ratio > 0 to add L1 regularization.\n",
      "  model = cd_fast.enet_coordinate_descent_gram(\n",
      "D:\\Anaconda\\Lib\\site-packages\\sklearn\\linear_model\\_coordinate_descent.py:617: ConvergenceWarning: Objective did not converge. You might want to increase the number of iterations. Duality gap: 656033.9536935019, tolerance: 541.6349230769231\n",
      "  model = cd_fast.enet_coordinate_descent_gram(\n",
      "D:\\Anaconda\\Lib\\site-packages\\sklearn\\linear_model\\_coordinate_descent.py:617: UserWarning: Coordinate descent without L1 regularization may lead to unexpected results and is discouraged. Set l1_ratio > 0 to add L1 regularization.\n",
      "  model = cd_fast.enet_coordinate_descent_gram(\n",
      "D:\\Anaconda\\Lib\\site-packages\\sklearn\\linear_model\\_coordinate_descent.py:617: ConvergenceWarning: Objective did not converge. You might want to increase the number of iterations. Duality gap: 637493.2083707389, tolerance: 541.6349230769231\n",
      "  model = cd_fast.enet_coordinate_descent_gram(\n",
      "D:\\Anaconda\\Lib\\site-packages\\sklearn\\linear_model\\_coordinate_descent.py:617: UserWarning: Coordinate descent without L1 regularization may lead to unexpected results and is discouraged. Set l1_ratio > 0 to add L1 regularization.\n",
      "  model = cd_fast.enet_coordinate_descent_gram(\n",
      "D:\\Anaconda\\Lib\\site-packages\\sklearn\\linear_model\\_coordinate_descent.py:617: ConvergenceWarning: Objective did not converge. You might want to increase the number of iterations. Duality gap: 618073.694006455, tolerance: 541.6349230769231\n",
      "  model = cd_fast.enet_coordinate_descent_gram(\n",
      "D:\\Anaconda\\Lib\\site-packages\\sklearn\\linear_model\\_coordinate_descent.py:617: UserWarning: Coordinate descent without L1 regularization may lead to unexpected results and is discouraged. Set l1_ratio > 0 to add L1 regularization.\n",
      "  model = cd_fast.enet_coordinate_descent_gram(\n",
      "D:\\Anaconda\\Lib\\site-packages\\sklearn\\linear_model\\_coordinate_descent.py:617: ConvergenceWarning: Objective did not converge. You might want to increase the number of iterations. Duality gap: 597644.9464932426, tolerance: 541.6349230769231\n",
      "  model = cd_fast.enet_coordinate_descent_gram(\n",
      "D:\\Anaconda\\Lib\\site-packages\\sklearn\\linear_model\\_coordinate_descent.py:617: UserWarning: Coordinate descent without L1 regularization may lead to unexpected results and is discouraged. Set l1_ratio > 0 to add L1 regularization.\n",
      "  model = cd_fast.enet_coordinate_descent_gram(\n",
      "D:\\Anaconda\\Lib\\site-packages\\sklearn\\linear_model\\_coordinate_descent.py:617: ConvergenceWarning: Objective did not converge. You might want to increase the number of iterations. Duality gap: 576039.4426618314, tolerance: 541.6349230769231\n",
      "  model = cd_fast.enet_coordinate_descent_gram(\n",
      "D:\\Anaconda\\Lib\\site-packages\\sklearn\\linear_model\\_coordinate_descent.py:617: UserWarning: Coordinate descent without L1 regularization may lead to unexpected results and is discouraged. Set l1_ratio > 0 to add L1 regularization.\n",
      "  model = cd_fast.enet_coordinate_descent_gram(\n",
      "D:\\Anaconda\\Lib\\site-packages\\sklearn\\linear_model\\_coordinate_descent.py:617: ConvergenceWarning: Objective did not converge. You might want to increase the number of iterations. Duality gap: 553037.4363165495, tolerance: 541.6349230769231\n",
      "  model = cd_fast.enet_coordinate_descent_gram(\n",
      "D:\\Anaconda\\Lib\\site-packages\\sklearn\\linear_model\\_coordinate_descent.py:617: UserWarning: Coordinate descent without L1 regularization may lead to unexpected results and is discouraged. Set l1_ratio > 0 to add L1 regularization.\n",
      "  model = cd_fast.enet_coordinate_descent_gram(\n",
      "D:\\Anaconda\\Lib\\site-packages\\sklearn\\linear_model\\_coordinate_descent.py:617: ConvergenceWarning: Objective did not converge. You might want to increase the number of iterations. Duality gap: 528343.5481669705, tolerance: 541.6349230769231\n",
      "  model = cd_fast.enet_coordinate_descent_gram(\n",
      "D:\\Anaconda\\Lib\\site-packages\\sklearn\\linear_model\\_coordinate_descent.py:617: UserWarning: Coordinate descent without L1 regularization may lead to unexpected results and is discouraged. Set l1_ratio > 0 to add L1 regularization.\n",
      "  model = cd_fast.enet_coordinate_descent_gram(\n",
      "D:\\Anaconda\\Lib\\site-packages\\sklearn\\linear_model\\_coordinate_descent.py:617: ConvergenceWarning: Objective did not converge. You might want to increase the number of iterations. Duality gap: 501549.2617518241, tolerance: 541.6349230769231\n",
      "  model = cd_fast.enet_coordinate_descent_gram(\n",
      "D:\\Anaconda\\Lib\\site-packages\\sklearn\\linear_model\\_coordinate_descent.py:617: UserWarning: Coordinate descent without L1 regularization may lead to unexpected results and is discouraged. Set l1_ratio > 0 to add L1 regularization.\n",
      "  model = cd_fast.enet_coordinate_descent_gram(\n",
      "D:\\Anaconda\\Lib\\site-packages\\sklearn\\linear_model\\_coordinate_descent.py:617: ConvergenceWarning: Objective did not converge. You might want to increase the number of iterations. Duality gap: 472069.99304998876, tolerance: 541.6349230769231\n",
      "  model = cd_fast.enet_coordinate_descent_gram(\n",
      "D:\\Anaconda\\Lib\\site-packages\\sklearn\\linear_model\\_coordinate_descent.py:617: UserWarning: Coordinate descent without L1 regularization may lead to unexpected results and is discouraged. Set l1_ratio > 0 to add L1 regularization.\n",
      "  model = cd_fast.enet_coordinate_descent_gram(\n",
      "D:\\Anaconda\\Lib\\site-packages\\sklearn\\linear_model\\_coordinate_descent.py:617: ConvergenceWarning: Objective did not converge. You might want to increase the number of iterations. Duality gap: 439032.59155228356, tolerance: 541.6349230769231\n",
      "  model = cd_fast.enet_coordinate_descent_gram(\n",
      "D:\\Anaconda\\Lib\\site-packages\\sklearn\\linear_model\\_coordinate_descent.py:617: UserWarning: Coordinate descent without L1 regularization may lead to unexpected results and is discouraged. Set l1_ratio > 0 to add L1 regularization.\n",
      "  model = cd_fast.enet_coordinate_descent_gram(\n",
      "D:\\Anaconda\\Lib\\site-packages\\sklearn\\linear_model\\_coordinate_descent.py:617: ConvergenceWarning: Objective did not converge. You might want to increase the number of iterations. Duality gap: 401051.4965962067, tolerance: 541.6349230769231\n",
      "  model = cd_fast.enet_coordinate_descent_gram(\n",
      "D:\\Anaconda\\Lib\\site-packages\\sklearn\\linear_model\\_coordinate_descent.py:617: UserWarning: Coordinate descent without L1 regularization may lead to unexpected results and is discouraged. Set l1_ratio > 0 to add L1 regularization.\n",
      "  model = cd_fast.enet_coordinate_descent_gram(\n",
      "D:\\Anaconda\\Lib\\site-packages\\sklearn\\linear_model\\_coordinate_descent.py:617: ConvergenceWarning: Objective did not converge. You might want to increase the number of iterations. Duality gap: 355628.3338115139, tolerance: 541.6349230769231\n",
      "  model = cd_fast.enet_coordinate_descent_gram(\n",
      "D:\\Anaconda\\Lib\\site-packages\\sklearn\\linear_model\\_coordinate_descent.py:617: UserWarning: Coordinate descent without L1 regularization may lead to unexpected results and is discouraged. Set l1_ratio > 0 to add L1 regularization.\n",
      "  model = cd_fast.enet_coordinate_descent_gram(\n",
      "D:\\Anaconda\\Lib\\site-packages\\sklearn\\linear_model\\_coordinate_descent.py:617: ConvergenceWarning: Objective did not converge. You might want to increase the number of iterations. Duality gap: 1341397.3367763567, tolerance: 514.5795743589745\n",
      "  model = cd_fast.enet_coordinate_descent_gram(\n",
      "D:\\Anaconda\\Lib\\site-packages\\sklearn\\linear_model\\_coordinate_descent.py:617: UserWarning: Coordinate descent without L1 regularization may lead to unexpected results and is discouraged. Set l1_ratio > 0 to add L1 regularization.\n",
      "  model = cd_fast.enet_coordinate_descent_gram(\n",
      "D:\\Anaconda\\Lib\\site-packages\\sklearn\\linear_model\\_coordinate_descent.py:617: ConvergenceWarning: Objective did not converge. You might want to increase the number of iterations. Duality gap: 1337925.2724563149, tolerance: 514.5795743589745\n",
      "  model = cd_fast.enet_coordinate_descent_gram(\n",
      "D:\\Anaconda\\Lib\\site-packages\\sklearn\\linear_model\\_coordinate_descent.py:617: UserWarning: Coordinate descent without L1 regularization may lead to unexpected results and is discouraged. Set l1_ratio > 0 to add L1 regularization.\n",
      "  model = cd_fast.enet_coordinate_descent_gram(\n",
      "D:\\Anaconda\\Lib\\site-packages\\sklearn\\linear_model\\_coordinate_descent.py:617: ConvergenceWarning: Objective did not converge. You might want to increase the number of iterations. Duality gap: 1334414.7855054748, tolerance: 514.5795743589745\n",
      "  model = cd_fast.enet_coordinate_descent_gram(\n",
      "D:\\Anaconda\\Lib\\site-packages\\sklearn\\linear_model\\_coordinate_descent.py:617: UserWarning: Coordinate descent without L1 regularization may lead to unexpected results and is discouraged. Set l1_ratio > 0 to add L1 regularization.\n",
      "  model = cd_fast.enet_coordinate_descent_gram(\n",
      "D:\\Anaconda\\Lib\\site-packages\\sklearn\\linear_model\\_coordinate_descent.py:617: ConvergenceWarning: Objective did not converge. You might want to increase the number of iterations. Duality gap: 1330865.2181778252, tolerance: 514.5795743589745\n",
      "  model = cd_fast.enet_coordinate_descent_gram(\n",
      "D:\\Anaconda\\Lib\\site-packages\\sklearn\\linear_model\\_coordinate_descent.py:617: UserWarning: Coordinate descent without L1 regularization may lead to unexpected results and is discouraged. Set l1_ratio > 0 to add L1 regularization.\n",
      "  model = cd_fast.enet_coordinate_descent_gram(\n",
      "D:\\Anaconda\\Lib\\site-packages\\sklearn\\linear_model\\_coordinate_descent.py:617: ConvergenceWarning: Objective did not converge. You might want to increase the number of iterations. Duality gap: 1327275.8971236066, tolerance: 514.5795743589745\n",
      "  model = cd_fast.enet_coordinate_descent_gram(\n",
      "D:\\Anaconda\\Lib\\site-packages\\sklearn\\linear_model\\_coordinate_descent.py:617: UserWarning: Coordinate descent without L1 regularization may lead to unexpected results and is discouraged. Set l1_ratio > 0 to add L1 regularization.\n",
      "  model = cd_fast.enet_coordinate_descent_gram(\n",
      "D:\\Anaconda\\Lib\\site-packages\\sklearn\\linear_model\\_coordinate_descent.py:617: ConvergenceWarning: Objective did not converge. You might want to increase the number of iterations. Duality gap: 1323646.1328994283, tolerance: 514.5795743589745\n",
      "  model = cd_fast.enet_coordinate_descent_gram(\n",
      "D:\\Anaconda\\Lib\\site-packages\\sklearn\\linear_model\\_coordinate_descent.py:617: UserWarning: Coordinate descent without L1 regularization may lead to unexpected results and is discouraged. Set l1_ratio > 0 to add L1 regularization.\n",
      "  model = cd_fast.enet_coordinate_descent_gram(\n",
      "D:\\Anaconda\\Lib\\site-packages\\sklearn\\linear_model\\_coordinate_descent.py:617: ConvergenceWarning: Objective did not converge. You might want to increase the number of iterations. Duality gap: 1319975.2194584075, tolerance: 514.5795743589745\n",
      "  model = cd_fast.enet_coordinate_descent_gram(\n",
      "D:\\Anaconda\\Lib\\site-packages\\sklearn\\linear_model\\_coordinate_descent.py:617: UserWarning: Coordinate descent without L1 regularization may lead to unexpected results and is discouraged. Set l1_ratio > 0 to add L1 regularization.\n",
      "  model = cd_fast.enet_coordinate_descent_gram(\n",
      "D:\\Anaconda\\Lib\\site-packages\\sklearn\\linear_model\\_coordinate_descent.py:617: ConvergenceWarning: Objective did not converge. You might want to increase the number of iterations. Duality gap: 1316262.4336193195, tolerance: 514.5795743589745\n",
      "  model = cd_fast.enet_coordinate_descent_gram(\n",
      "D:\\Anaconda\\Lib\\site-packages\\sklearn\\linear_model\\_coordinate_descent.py:617: UserWarning: Coordinate descent without L1 regularization may lead to unexpected results and is discouraged. Set l1_ratio > 0 to add L1 regularization.\n",
      "  model = cd_fast.enet_coordinate_descent_gram(\n",
      "D:\\Anaconda\\Lib\\site-packages\\sklearn\\linear_model\\_coordinate_descent.py:617: ConvergenceWarning: Objective did not converge. You might want to increase the number of iterations. Duality gap: 1312507.0345136223, tolerance: 514.5795743589745\n",
      "  model = cd_fast.enet_coordinate_descent_gram(\n",
      "D:\\Anaconda\\Lib\\site-packages\\sklearn\\linear_model\\_coordinate_descent.py:617: UserWarning: Coordinate descent without L1 regularization may lead to unexpected results and is discouraged. Set l1_ratio > 0 to add L1 regularization.\n",
      "  model = cd_fast.enet_coordinate_descent_gram(\n",
      "D:\\Anaconda\\Lib\\site-packages\\sklearn\\linear_model\\_coordinate_descent.py:617: ConvergenceWarning: Objective did not converge. You might want to increase the number of iterations. Duality gap: 1308708.26300918, tolerance: 514.5795743589745\n",
      "  model = cd_fast.enet_coordinate_descent_gram(\n",
      "D:\\Anaconda\\Lib\\site-packages\\sklearn\\linear_model\\_coordinate_descent.py:617: UserWarning: Coordinate descent without L1 regularization may lead to unexpected results and is discouraged. Set l1_ratio > 0 to add L1 regularization.\n",
      "  model = cd_fast.enet_coordinate_descent_gram(\n",
      "D:\\Anaconda\\Lib\\site-packages\\sklearn\\linear_model\\_coordinate_descent.py:617: ConvergenceWarning: Objective did not converge. You might want to increase the number of iterations. Duality gap: 1304865.3411094148, tolerance: 514.5795743589745\n",
      "  model = cd_fast.enet_coordinate_descent_gram(\n",
      "D:\\Anaconda\\Lib\\site-packages\\sklearn\\linear_model\\_coordinate_descent.py:617: UserWarning: Coordinate descent without L1 regularization may lead to unexpected results and is discouraged. Set l1_ratio > 0 to add L1 regularization.\n",
      "  model = cd_fast.enet_coordinate_descent_gram(\n",
      "D:\\Anaconda\\Lib\\site-packages\\sklearn\\linear_model\\_coordinate_descent.py:617: ConvergenceWarning: Objective did not converge. You might want to increase the number of iterations. Duality gap: 1300977.471326534, tolerance: 514.5795743589745\n",
      "  model = cd_fast.enet_coordinate_descent_gram(\n",
      "D:\\Anaconda\\Lib\\site-packages\\sklearn\\linear_model\\_coordinate_descent.py:617: UserWarning: Coordinate descent without L1 regularization may lead to unexpected results and is discouraged. Set l1_ratio > 0 to add L1 regularization.\n",
      "  model = cd_fast.enet_coordinate_descent_gram(\n",
      "D:\\Anaconda\\Lib\\site-packages\\sklearn\\linear_model\\_coordinate_descent.py:617: ConvergenceWarning: Objective did not converge. You might want to increase the number of iterations. Duality gap: 1297043.8360273778, tolerance: 514.5795743589745\n",
      "  model = cd_fast.enet_coordinate_descent_gram(\n",
      "D:\\Anaconda\\Lib\\site-packages\\sklearn\\linear_model\\_coordinate_descent.py:617: UserWarning: Coordinate descent without L1 regularization may lead to unexpected results and is discouraged. Set l1_ratio > 0 to add L1 regularization.\n",
      "  model = cd_fast.enet_coordinate_descent_gram(\n",
      "D:\\Anaconda\\Lib\\site-packages\\sklearn\\linear_model\\_coordinate_descent.py:617: ConvergenceWarning: Objective did not converge. You might want to increase the number of iterations. Duality gap: 1293063.5967503483, tolerance: 514.5795743589745\n",
      "  model = cd_fast.enet_coordinate_descent_gram(\n",
      "D:\\Anaconda\\Lib\\site-packages\\sklearn\\linear_model\\_coordinate_descent.py:617: UserWarning: Coordinate descent without L1 regularization may lead to unexpected results and is discouraged. Set l1_ratio > 0 to add L1 regularization.\n",
      "  model = cd_fast.enet_coordinate_descent_gram(\n",
      "D:\\Anaconda\\Lib\\site-packages\\sklearn\\linear_model\\_coordinate_descent.py:617: ConvergenceWarning: Objective did not converge. You might want to increase the number of iterations. Duality gap: 1289035.893491734, tolerance: 514.5795743589745\n",
      "  model = cd_fast.enet_coordinate_descent_gram(\n",
      "D:\\Anaconda\\Lib\\site-packages\\sklearn\\linear_model\\_coordinate_descent.py:617: UserWarning: Coordinate descent without L1 regularization may lead to unexpected results and is discouraged. Set l1_ratio > 0 to add L1 regularization.\n",
      "  model = cd_fast.enet_coordinate_descent_gram(\n",
      "D:\\Anaconda\\Lib\\site-packages\\sklearn\\linear_model\\_coordinate_descent.py:617: ConvergenceWarning: Objective did not converge. You might want to increase the number of iterations. Duality gap: 1284959.843959669, tolerance: 514.5795743589745\n",
      "  model = cd_fast.enet_coordinate_descent_gram(\n",
      "D:\\Anaconda\\Lib\\site-packages\\sklearn\\linear_model\\_coordinate_descent.py:617: UserWarning: Coordinate descent without L1 regularization may lead to unexpected results and is discouraged. Set l1_ratio > 0 to add L1 regularization.\n",
      "  model = cd_fast.enet_coordinate_descent_gram(\n",
      "D:\\Anaconda\\Lib\\site-packages\\sklearn\\linear_model\\_coordinate_descent.py:617: ConvergenceWarning: Objective did not converge. You might want to increase the number of iterations. Duality gap: 1280834.5427937892, tolerance: 514.5795743589745\n",
      "  model = cd_fast.enet_coordinate_descent_gram(\n",
      "D:\\Anaconda\\Lib\\site-packages\\sklearn\\linear_model\\_coordinate_descent.py:617: UserWarning: Coordinate descent without L1 regularization may lead to unexpected results and is discouraged. Set l1_ratio > 0 to add L1 regularization.\n",
      "  model = cd_fast.enet_coordinate_descent_gram(\n",
      "D:\\Anaconda\\Lib\\site-packages\\sklearn\\linear_model\\_coordinate_descent.py:617: ConvergenceWarning: Objective did not converge. You might want to increase the number of iterations. Duality gap: 1276659.0607485368, tolerance: 514.5795743589745\n",
      "  model = cd_fast.enet_coordinate_descent_gram(\n",
      "D:\\Anaconda\\Lib\\site-packages\\sklearn\\linear_model\\_coordinate_descent.py:617: UserWarning: Coordinate descent without L1 regularization may lead to unexpected results and is discouraged. Set l1_ratio > 0 to add L1 regularization.\n",
      "  model = cd_fast.enet_coordinate_descent_gram(\n",
      "D:\\Anaconda\\Lib\\site-packages\\sklearn\\linear_model\\_coordinate_descent.py:617: ConvergenceWarning: Objective did not converge. You might want to increase the number of iterations. Duality gap: 1272432.443837878, tolerance: 514.5795743589745\n",
      "  model = cd_fast.enet_coordinate_descent_gram(\n",
      "D:\\Anaconda\\Lib\\site-packages\\sklearn\\linear_model\\_coordinate_descent.py:617: UserWarning: Coordinate descent without L1 regularization may lead to unexpected results and is discouraged. Set l1_ratio > 0 to add L1 regularization.\n",
      "  model = cd_fast.enet_coordinate_descent_gram(\n",
      "D:\\Anaconda\\Lib\\site-packages\\sklearn\\linear_model\\_coordinate_descent.py:617: ConvergenceWarning: Objective did not converge. You might want to increase the number of iterations. Duality gap: 1268153.712439056, tolerance: 514.5795743589745\n",
      "  model = cd_fast.enet_coordinate_descent_gram(\n",
      "D:\\Anaconda\\Lib\\site-packages\\sklearn\\linear_model\\_coordinate_descent.py:617: UserWarning: Coordinate descent without L1 regularization may lead to unexpected results and is discouraged. Set l1_ratio > 0 to add L1 regularization.\n",
      "  model = cd_fast.enet_coordinate_descent_gram(\n",
      "D:\\Anaconda\\Lib\\site-packages\\sklearn\\linear_model\\_coordinate_descent.py:617: ConvergenceWarning: Objective did not converge. You might want to increase the number of iterations. Duality gap: 1263821.8603527886, tolerance: 514.5795743589745\n",
      "  model = cd_fast.enet_coordinate_descent_gram(\n",
      "D:\\Anaconda\\Lib\\site-packages\\sklearn\\linear_model\\_coordinate_descent.py:617: UserWarning: Coordinate descent without L1 regularization may lead to unexpected results and is discouraged. Set l1_ratio > 0 to add L1 regularization.\n",
      "  model = cd_fast.enet_coordinate_descent_gram(\n",
      "D:\\Anaconda\\Lib\\site-packages\\sklearn\\linear_model\\_coordinate_descent.py:617: ConvergenceWarning: Objective did not converge. You might want to increase the number of iterations. Duality gap: 1259435.8538171106, tolerance: 514.5795743589745\n",
      "  model = cd_fast.enet_coordinate_descent_gram(\n",
      "D:\\Anaconda\\Lib\\site-packages\\sklearn\\linear_model\\_coordinate_descent.py:617: UserWarning: Coordinate descent without L1 regularization may lead to unexpected results and is discouraged. Set l1_ratio > 0 to add L1 regularization.\n",
      "  model = cd_fast.enet_coordinate_descent_gram(\n",
      "D:\\Anaconda\\Lib\\site-packages\\sklearn\\linear_model\\_coordinate_descent.py:617: ConvergenceWarning: Objective did not converge. You might want to increase the number of iterations. Duality gap: 1254994.6304718629, tolerance: 514.5795743589745\n",
      "  model = cd_fast.enet_coordinate_descent_gram(\n",
      "D:\\Anaconda\\Lib\\site-packages\\sklearn\\linear_model\\_coordinate_descent.py:617: UserWarning: Coordinate descent without L1 regularization may lead to unexpected results and is discouraged. Set l1_ratio > 0 to add L1 regularization.\n",
      "  model = cd_fast.enet_coordinate_descent_gram(\n",
      "D:\\Anaconda\\Lib\\site-packages\\sklearn\\linear_model\\_coordinate_descent.py:617: ConvergenceWarning: Objective did not converge. You might want to increase the number of iterations. Duality gap: 1250497.0982705439, tolerance: 514.5795743589745\n",
      "  model = cd_fast.enet_coordinate_descent_gram(\n",
      "D:\\Anaconda\\Lib\\site-packages\\sklearn\\linear_model\\_coordinate_descent.py:617: UserWarning: Coordinate descent without L1 regularization may lead to unexpected results and is discouraged. Set l1_ratio > 0 to add L1 regularization.\n",
      "  model = cd_fast.enet_coordinate_descent_gram(\n",
      "D:\\Anaconda\\Lib\\site-packages\\sklearn\\linear_model\\_coordinate_descent.py:617: ConvergenceWarning: Objective did not converge. You might want to increase the number of iterations. Duality gap: 1245942.1343359775, tolerance: 514.5795743589745\n",
      "  model = cd_fast.enet_coordinate_descent_gram(\n",
      "D:\\Anaconda\\Lib\\site-packages\\sklearn\\linear_model\\_coordinate_descent.py:617: UserWarning: Coordinate descent without L1 regularization may lead to unexpected results and is discouraged. Set l1_ratio > 0 to add L1 regularization.\n",
      "  model = cd_fast.enet_coordinate_descent_gram(\n",
      "D:\\Anaconda\\Lib\\site-packages\\sklearn\\linear_model\\_coordinate_descent.py:617: ConvergenceWarning: Objective did not converge. You might want to increase the number of iterations. Duality gap: 1241328.583755955, tolerance: 514.5795743589745\n",
      "  model = cd_fast.enet_coordinate_descent_gram(\n",
      "D:\\Anaconda\\Lib\\site-packages\\sklearn\\linear_model\\_coordinate_descent.py:617: UserWarning: Coordinate descent without L1 regularization may lead to unexpected results and is discouraged. Set l1_ratio > 0 to add L1 regularization.\n",
      "  model = cd_fast.enet_coordinate_descent_gram(\n",
      "D:\\Anaconda\\Lib\\site-packages\\sklearn\\linear_model\\_coordinate_descent.py:617: ConvergenceWarning: Objective did not converge. You might want to increase the number of iterations. Duality gap: 1236655.2583146559, tolerance: 514.5795743589745\n",
      "  model = cd_fast.enet_coordinate_descent_gram(\n",
      "D:\\Anaconda\\Lib\\site-packages\\sklearn\\linear_model\\_coordinate_descent.py:617: UserWarning: Coordinate descent without L1 regularization may lead to unexpected results and is discouraged. Set l1_ratio > 0 to add L1 regularization.\n",
      "  model = cd_fast.enet_coordinate_descent_gram(\n",
      "D:\\Anaconda\\Lib\\site-packages\\sklearn\\linear_model\\_coordinate_descent.py:617: ConvergenceWarning: Objective did not converge. You might want to increase the number of iterations. Duality gap: 1231920.935155293, tolerance: 514.5795743589745\n",
      "  model = cd_fast.enet_coordinate_descent_gram(\n",
      "D:\\Anaconda\\Lib\\site-packages\\sklearn\\linear_model\\_coordinate_descent.py:617: UserWarning: Coordinate descent without L1 regularization may lead to unexpected results and is discouraged. Set l1_ratio > 0 to add L1 regularization.\n",
      "  model = cd_fast.enet_coordinate_descent_gram(\n",
      "D:\\Anaconda\\Lib\\site-packages\\sklearn\\linear_model\\_coordinate_descent.py:617: ConvergenceWarning: Objective did not converge. You might want to increase the number of iterations. Duality gap: 1227124.355368995, tolerance: 514.5795743589745\n",
      "  model = cd_fast.enet_coordinate_descent_gram(\n",
      "D:\\Anaconda\\Lib\\site-packages\\sklearn\\linear_model\\_coordinate_descent.py:617: UserWarning: Coordinate descent without L1 regularization may lead to unexpected results and is discouraged. Set l1_ratio > 0 to add L1 regularization.\n",
      "  model = cd_fast.enet_coordinate_descent_gram(\n",
      "D:\\Anaconda\\Lib\\site-packages\\sklearn\\linear_model\\_coordinate_descent.py:617: ConvergenceWarning: Objective did not converge. You might want to increase the number of iterations. Duality gap: 1222264.2225045194, tolerance: 514.5795743589745\n",
      "  model = cd_fast.enet_coordinate_descent_gram(\n",
      "D:\\Anaconda\\Lib\\site-packages\\sklearn\\linear_model\\_coordinate_descent.py:617: UserWarning: Coordinate descent without L1 regularization may lead to unexpected results and is discouraged. Set l1_ratio > 0 to add L1 regularization.\n",
      "  model = cd_fast.enet_coordinate_descent_gram(\n",
      "D:\\Anaconda\\Lib\\site-packages\\sklearn\\linear_model\\_coordinate_descent.py:617: ConvergenceWarning: Objective did not converge. You might want to increase the number of iterations. Duality gap: 1217339.2009928175, tolerance: 514.5795743589745\n",
      "  model = cd_fast.enet_coordinate_descent_gram(\n",
      "D:\\Anaconda\\Lib\\site-packages\\sklearn\\linear_model\\_coordinate_descent.py:617: UserWarning: Coordinate descent without L1 regularization may lead to unexpected results and is discouraged. Set l1_ratio > 0 to add L1 regularization.\n",
      "  model = cd_fast.enet_coordinate_descent_gram(\n",
      "D:\\Anaconda\\Lib\\site-packages\\sklearn\\linear_model\\_coordinate_descent.py:617: ConvergenceWarning: Objective did not converge. You might want to increase the number of iterations. Duality gap: 1212347.914479979, tolerance: 514.5795743589745\n",
      "  model = cd_fast.enet_coordinate_descent_gram(\n",
      "D:\\Anaconda\\Lib\\site-packages\\sklearn\\linear_model\\_coordinate_descent.py:617: UserWarning: Coordinate descent without L1 regularization may lead to unexpected results and is discouraged. Set l1_ratio > 0 to add L1 regularization.\n",
      "  model = cd_fast.enet_coordinate_descent_gram(\n",
      "D:\\Anaconda\\Lib\\site-packages\\sklearn\\linear_model\\_coordinate_descent.py:617: ConvergenceWarning: Objective did not converge. You might want to increase the number of iterations. Duality gap: 1207288.944061377, tolerance: 514.5795743589745\n",
      "  model = cd_fast.enet_coordinate_descent_gram(\n",
      "D:\\Anaconda\\Lib\\site-packages\\sklearn\\linear_model\\_coordinate_descent.py:617: UserWarning: Coordinate descent without L1 regularization may lead to unexpected results and is discouraged. Set l1_ratio > 0 to add L1 regularization.\n",
      "  model = cd_fast.enet_coordinate_descent_gram(\n",
      "D:\\Anaconda\\Lib\\site-packages\\sklearn\\linear_model\\_coordinate_descent.py:617: ConvergenceWarning: Objective did not converge. You might want to increase the number of iterations. Duality gap: 1202160.826409181, tolerance: 514.5795743589745\n",
      "  model = cd_fast.enet_coordinate_descent_gram(\n",
      "D:\\Anaconda\\Lib\\site-packages\\sklearn\\linear_model\\_coordinate_descent.py:617: UserWarning: Coordinate descent without L1 regularization may lead to unexpected results and is discouraged. Set l1_ratio > 0 to add L1 regularization.\n",
      "  model = cd_fast.enet_coordinate_descent_gram(\n",
      "D:\\Anaconda\\Lib\\site-packages\\sklearn\\linear_model\\_coordinate_descent.py:617: ConvergenceWarning: Objective did not converge. You might want to increase the number of iterations. Duality gap: 1196962.05178458, tolerance: 514.5795743589745\n",
      "  model = cd_fast.enet_coordinate_descent_gram(\n",
      "D:\\Anaconda\\Lib\\site-packages\\sklearn\\linear_model\\_coordinate_descent.py:617: UserWarning: Coordinate descent without L1 regularization may lead to unexpected results and is discouraged. Set l1_ratio > 0 to add L1 regularization.\n",
      "  model = cd_fast.enet_coordinate_descent_gram(\n",
      "D:\\Anaconda\\Lib\\site-packages\\sklearn\\linear_model\\_coordinate_descent.py:617: ConvergenceWarning: Objective did not converge. You might want to increase the number of iterations. Duality gap: 1191691.0619251828, tolerance: 514.5795743589745\n",
      "  model = cd_fast.enet_coordinate_descent_gram(\n",
      "D:\\Anaconda\\Lib\\site-packages\\sklearn\\linear_model\\_coordinate_descent.py:617: UserWarning: Coordinate descent without L1 regularization may lead to unexpected results and is discouraged. Set l1_ratio > 0 to add L1 regularization.\n",
      "  model = cd_fast.enet_coordinate_descent_gram(\n",
      "D:\\Anaconda\\Lib\\site-packages\\sklearn\\linear_model\\_coordinate_descent.py:617: ConvergenceWarning: Objective did not converge. You might want to increase the number of iterations. Duality gap: 1186346.2477970438, tolerance: 514.5795743589745\n",
      "  model = cd_fast.enet_coordinate_descent_gram(\n",
      "D:\\Anaconda\\Lib\\site-packages\\sklearn\\linear_model\\_coordinate_descent.py:617: UserWarning: Coordinate descent without L1 regularization may lead to unexpected results and is discouraged. Set l1_ratio > 0 to add L1 regularization.\n",
      "  model = cd_fast.enet_coordinate_descent_gram(\n",
      "D:\\Anaconda\\Lib\\site-packages\\sklearn\\linear_model\\_coordinate_descent.py:617: ConvergenceWarning: Objective did not converge. You might want to increase the number of iterations. Duality gap: 1180925.947199665, tolerance: 514.5795743589745\n",
      "  model = cd_fast.enet_coordinate_descent_gram(\n",
      "D:\\Anaconda\\Lib\\site-packages\\sklearn\\linear_model\\_coordinate_descent.py:617: UserWarning: Coordinate descent without L1 regularization may lead to unexpected results and is discouraged. Set l1_ratio > 0 to add L1 regularization.\n",
      "  model = cd_fast.enet_coordinate_descent_gram(\n",
      "D:\\Anaconda\\Lib\\site-packages\\sklearn\\linear_model\\_coordinate_descent.py:617: ConvergenceWarning: Objective did not converge. You might want to increase the number of iterations. Duality gap: 1175428.4422110135, tolerance: 514.5795743589745\n",
      "  model = cd_fast.enet_coordinate_descent_gram(\n",
      "D:\\Anaconda\\Lib\\site-packages\\sklearn\\linear_model\\_coordinate_descent.py:617: UserWarning: Coordinate descent without L1 regularization may lead to unexpected results and is discouraged. Set l1_ratio > 0 to add L1 regularization.\n",
      "  model = cd_fast.enet_coordinate_descent_gram(\n",
      "D:\\Anaconda\\Lib\\site-packages\\sklearn\\linear_model\\_coordinate_descent.py:617: ConvergenceWarning: Objective did not converge. You might want to increase the number of iterations. Duality gap: 1169851.9564581858, tolerance: 514.5795743589745\n",
      "  model = cd_fast.enet_coordinate_descent_gram(\n",
      "D:\\Anaconda\\Lib\\site-packages\\sklearn\\linear_model\\_coordinate_descent.py:617: UserWarning: Coordinate descent without L1 regularization may lead to unexpected results and is discouraged. Set l1_ratio > 0 to add L1 regularization.\n",
      "  model = cd_fast.enet_coordinate_descent_gram(\n",
      "D:\\Anaconda\\Lib\\site-packages\\sklearn\\linear_model\\_coordinate_descent.py:617: ConvergenceWarning: Objective did not converge. You might want to increase the number of iterations. Duality gap: 1164194.6521977067, tolerance: 514.5795743589745\n",
      "  model = cd_fast.enet_coordinate_descent_gram(\n",
      "D:\\Anaconda\\Lib\\site-packages\\sklearn\\linear_model\\_coordinate_descent.py:617: UserWarning: Coordinate descent without L1 regularization may lead to unexpected results and is discouraged. Set l1_ratio > 0 to add L1 regularization.\n",
      "  model = cd_fast.enet_coordinate_descent_gram(\n",
      "D:\\Anaconda\\Lib\\site-packages\\sklearn\\linear_model\\_coordinate_descent.py:617: ConvergenceWarning: Objective did not converge. You might want to increase the number of iterations. Duality gap: 1158454.6271875906, tolerance: 514.5795743589745\n",
      "  model = cd_fast.enet_coordinate_descent_gram(\n",
      "D:\\Anaconda\\Lib\\site-packages\\sklearn\\linear_model\\_coordinate_descent.py:617: UserWarning: Coordinate descent without L1 regularization may lead to unexpected results and is discouraged. Set l1_ratio > 0 to add L1 regularization.\n",
      "  model = cd_fast.enet_coordinate_descent_gram(\n",
      "D:\\Anaconda\\Lib\\site-packages\\sklearn\\linear_model\\_coordinate_descent.py:617: ConvergenceWarning: Objective did not converge. You might want to increase the number of iterations. Duality gap: 1152629.9113311963, tolerance: 514.5795743589745\n",
      "  model = cd_fast.enet_coordinate_descent_gram(\n",
      "D:\\Anaconda\\Lib\\site-packages\\sklearn\\linear_model\\_coordinate_descent.py:617: UserWarning: Coordinate descent without L1 regularization may lead to unexpected results and is discouraged. Set l1_ratio > 0 to add L1 regularization.\n",
      "  model = cd_fast.enet_coordinate_descent_gram(\n",
      "D:\\Anaconda\\Lib\\site-packages\\sklearn\\linear_model\\_coordinate_descent.py:617: ConvergenceWarning: Objective did not converge. You might want to increase the number of iterations. Duality gap: 1146718.4630705053, tolerance: 514.5795743589745\n",
      "  model = cd_fast.enet_coordinate_descent_gram(\n",
      "D:\\Anaconda\\Lib\\site-packages\\sklearn\\linear_model\\_coordinate_descent.py:617: UserWarning: Coordinate descent without L1 regularization may lead to unexpected results and is discouraged. Set l1_ratio > 0 to add L1 regularization.\n",
      "  model = cd_fast.enet_coordinate_descent_gram(\n",
      "D:\\Anaconda\\Lib\\site-packages\\sklearn\\linear_model\\_coordinate_descent.py:617: ConvergenceWarning: Objective did not converge. You might want to increase the number of iterations. Duality gap: 1140718.1655036702, tolerance: 514.5795743589745\n",
      "  model = cd_fast.enet_coordinate_descent_gram(\n",
      "D:\\Anaconda\\Lib\\site-packages\\sklearn\\linear_model\\_coordinate_descent.py:617: UserWarning: Coordinate descent without L1 regularization may lead to unexpected results and is discouraged. Set l1_ratio > 0 to add L1 regularization.\n",
      "  model = cd_fast.enet_coordinate_descent_gram(\n",
      "D:\\Anaconda\\Lib\\site-packages\\sklearn\\linear_model\\_coordinate_descent.py:617: ConvergenceWarning: Objective did not converge. You might want to increase the number of iterations. Duality gap: 1134626.8221985768, tolerance: 514.5795743589745\n",
      "  model = cd_fast.enet_coordinate_descent_gram(\n",
      "D:\\Anaconda\\Lib\\site-packages\\sklearn\\linear_model\\_coordinate_descent.py:617: UserWarning: Coordinate descent without L1 regularization may lead to unexpected results and is discouraged. Set l1_ratio > 0 to add L1 regularization.\n",
      "  model = cd_fast.enet_coordinate_descent_gram(\n",
      "D:\\Anaconda\\Lib\\site-packages\\sklearn\\linear_model\\_coordinate_descent.py:617: ConvergenceWarning: Objective did not converge. You might want to increase the number of iterations. Duality gap: 1128442.152670491, tolerance: 514.5795743589745\n",
      "  model = cd_fast.enet_coordinate_descent_gram(\n",
      "D:\\Anaconda\\Lib\\site-packages\\sklearn\\linear_model\\_coordinate_descent.py:617: UserWarning: Coordinate descent without L1 regularization may lead to unexpected results and is discouraged. Set l1_ratio > 0 to add L1 regularization.\n",
      "  model = cd_fast.enet_coordinate_descent_gram(\n",
      "D:\\Anaconda\\Lib\\site-packages\\sklearn\\linear_model\\_coordinate_descent.py:617: ConvergenceWarning: Objective did not converge. You might want to increase the number of iterations. Duality gap: 1122161.787487727, tolerance: 514.5795743589745\n",
      "  model = cd_fast.enet_coordinate_descent_gram(\n",
      "D:\\Anaconda\\Lib\\site-packages\\sklearn\\linear_model\\_coordinate_descent.py:617: UserWarning: Coordinate descent without L1 regularization may lead to unexpected results and is discouraged. Set l1_ratio > 0 to add L1 regularization.\n",
      "  model = cd_fast.enet_coordinate_descent_gram(\n",
      "D:\\Anaconda\\Lib\\site-packages\\sklearn\\linear_model\\_coordinate_descent.py:617: ConvergenceWarning: Objective did not converge. You might want to increase the number of iterations. Duality gap: 1115783.262964424, tolerance: 514.5795743589745\n",
      "  model = cd_fast.enet_coordinate_descent_gram(\n",
      "D:\\Anaconda\\Lib\\site-packages\\sklearn\\linear_model\\_coordinate_descent.py:617: UserWarning: Coordinate descent without L1 regularization may lead to unexpected results and is discouraged. Set l1_ratio > 0 to add L1 regularization.\n",
      "  model = cd_fast.enet_coordinate_descent_gram(\n",
      "D:\\Anaconda\\Lib\\site-packages\\sklearn\\linear_model\\_coordinate_descent.py:617: ConvergenceWarning: Objective did not converge. You might want to increase the number of iterations. Duality gap: 1109304.0153939715, tolerance: 514.5795743589745\n",
      "  model = cd_fast.enet_coordinate_descent_gram(\n",
      "D:\\Anaconda\\Lib\\site-packages\\sklearn\\linear_model\\_coordinate_descent.py:617: UserWarning: Coordinate descent without L1 regularization may lead to unexpected results and is discouraged. Set l1_ratio > 0 to add L1 regularization.\n",
      "  model = cd_fast.enet_coordinate_descent_gram(\n",
      "D:\\Anaconda\\Lib\\site-packages\\sklearn\\linear_model\\_coordinate_descent.py:617: ConvergenceWarning: Objective did not converge. You might want to increase the number of iterations. Duality gap: 1102721.3747700937, tolerance: 514.5795743589745\n",
      "  model = cd_fast.enet_coordinate_descent_gram(\n",
      "D:\\Anaconda\\Lib\\site-packages\\sklearn\\linear_model\\_coordinate_descent.py:617: UserWarning: Coordinate descent without L1 regularization may lead to unexpected results and is discouraged. Set l1_ratio > 0 to add L1 regularization.\n",
      "  model = cd_fast.enet_coordinate_descent_gram(\n",
      "D:\\Anaconda\\Lib\\site-packages\\sklearn\\linear_model\\_coordinate_descent.py:617: ConvergenceWarning: Objective did not converge. You might want to increase the number of iterations. Duality gap: 1096032.5579351243, tolerance: 514.5795743589745\n",
      "  model = cd_fast.enet_coordinate_descent_gram(\n",
      "D:\\Anaconda\\Lib\\site-packages\\sklearn\\linear_model\\_coordinate_descent.py:617: UserWarning: Coordinate descent without L1 regularization may lead to unexpected results and is discouraged. Set l1_ratio > 0 to add L1 regularization.\n",
      "  model = cd_fast.enet_coordinate_descent_gram(\n"
     ]
    },
    {
     "name": "stderr",
     "output_type": "stream",
     "text": [
      "D:\\Anaconda\\Lib\\site-packages\\sklearn\\linear_model\\_coordinate_descent.py:617: ConvergenceWarning: Objective did not converge. You might want to increase the number of iterations. Duality gap: 1089234.6610861167, tolerance: 514.5795743589745\n",
      "  model = cd_fast.enet_coordinate_descent_gram(\n",
      "D:\\Anaconda\\Lib\\site-packages\\sklearn\\linear_model\\_coordinate_descent.py:617: UserWarning: Coordinate descent without L1 regularization may lead to unexpected results and is discouraged. Set l1_ratio > 0 to add L1 regularization.\n",
      "  model = cd_fast.enet_coordinate_descent_gram(\n",
      "D:\\Anaconda\\Lib\\site-packages\\sklearn\\linear_model\\_coordinate_descent.py:617: ConvergenceWarning: Objective did not converge. You might want to increase the number of iterations. Duality gap: 1082324.651559187, tolerance: 514.5795743589745\n",
      "  model = cd_fast.enet_coordinate_descent_gram(\n",
      "D:\\Anaconda\\Lib\\site-packages\\sklearn\\linear_model\\_coordinate_descent.py:617: UserWarning: Coordinate descent without L1 regularization may lead to unexpected results and is discouraged. Set l1_ratio > 0 to add L1 regularization.\n",
      "  model = cd_fast.enet_coordinate_descent_gram(\n",
      "D:\\Anaconda\\Lib\\site-packages\\sklearn\\linear_model\\_coordinate_descent.py:617: ConvergenceWarning: Objective did not converge. You might want to increase the number of iterations. Duality gap: 1075299.3588002925, tolerance: 514.5795743589745\n",
      "  model = cd_fast.enet_coordinate_descent_gram(\n",
      "D:\\Anaconda\\Lib\\site-packages\\sklearn\\linear_model\\_coordinate_descent.py:617: UserWarning: Coordinate descent without L1 regularization may lead to unexpected results and is discouraged. Set l1_ratio > 0 to add L1 regularization.\n",
      "  model = cd_fast.enet_coordinate_descent_gram(\n",
      "D:\\Anaconda\\Lib\\site-packages\\sklearn\\linear_model\\_coordinate_descent.py:617: ConvergenceWarning: Objective did not converge. You might want to increase the number of iterations. Duality gap: 1068155.4644164166, tolerance: 514.5795743589745\n",
      "  model = cd_fast.enet_coordinate_descent_gram(\n",
      "D:\\Anaconda\\Lib\\site-packages\\sklearn\\linear_model\\_coordinate_descent.py:617: UserWarning: Coordinate descent without L1 regularization may lead to unexpected results and is discouraged. Set l1_ratio > 0 to add L1 regularization.\n",
      "  model = cd_fast.enet_coordinate_descent_gram(\n",
      "D:\\Anaconda\\Lib\\site-packages\\sklearn\\linear_model\\_coordinate_descent.py:617: ConvergenceWarning: Objective did not converge. You might want to increase the number of iterations. Duality gap: 1060889.491184175, tolerance: 514.5795743589745\n",
      "  model = cd_fast.enet_coordinate_descent_gram(\n",
      "D:\\Anaconda\\Lib\\site-packages\\sklearn\\linear_model\\_coordinate_descent.py:617: UserWarning: Coordinate descent without L1 regularization may lead to unexpected results and is discouraged. Set l1_ratio > 0 to add L1 regularization.\n",
      "  model = cd_fast.enet_coordinate_descent_gram(\n",
      "D:\\Anaconda\\Lib\\site-packages\\sklearn\\linear_model\\_coordinate_descent.py:617: ConvergenceWarning: Objective did not converge. You might want to increase the number of iterations. Duality gap: 1053497.7908728174, tolerance: 514.5795743589745\n",
      "  model = cd_fast.enet_coordinate_descent_gram(\n",
      "D:\\Anaconda\\Lib\\site-packages\\sklearn\\linear_model\\_coordinate_descent.py:617: UserWarning: Coordinate descent without L1 regularization may lead to unexpected results and is discouraged. Set l1_ratio > 0 to add L1 regularization.\n",
      "  model = cd_fast.enet_coordinate_descent_gram(\n",
      "D:\\Anaconda\\Lib\\site-packages\\sklearn\\linear_model\\_coordinate_descent.py:617: ConvergenceWarning: Objective did not converge. You might want to increase the number of iterations. Duality gap: 1045976.5307147303, tolerance: 514.5795743589745\n",
      "  model = cd_fast.enet_coordinate_descent_gram(\n",
      "D:\\Anaconda\\Lib\\site-packages\\sklearn\\linear_model\\_coordinate_descent.py:617: UserWarning: Coordinate descent without L1 regularization may lead to unexpected results and is discouraged. Set l1_ratio > 0 to add L1 regularization.\n",
      "  model = cd_fast.enet_coordinate_descent_gram(\n",
      "D:\\Anaconda\\Lib\\site-packages\\sklearn\\linear_model\\_coordinate_descent.py:617: ConvergenceWarning: Objective did not converge. You might want to increase the number of iterations. Duality gap: 1038321.6783279427, tolerance: 514.5795743589745\n",
      "  model = cd_fast.enet_coordinate_descent_gram(\n",
      "D:\\Anaconda\\Lib\\site-packages\\sklearn\\linear_model\\_coordinate_descent.py:617: UserWarning: Coordinate descent without L1 regularization may lead to unexpected results and is discouraged. Set l1_ratio > 0 to add L1 regularization.\n",
      "  model = cd_fast.enet_coordinate_descent_gram(\n",
      "D:\\Anaconda\\Lib\\site-packages\\sklearn\\linear_model\\_coordinate_descent.py:617: ConvergenceWarning: Objective did not converge. You might want to increase the number of iterations. Duality gap: 1030528.9848609075, tolerance: 514.5795743589745\n",
      "  model = cd_fast.enet_coordinate_descent_gram(\n",
      "D:\\Anaconda\\Lib\\site-packages\\sklearn\\linear_model\\_coordinate_descent.py:617: UserWarning: Coordinate descent without L1 regularization may lead to unexpected results and is discouraged. Set l1_ratio > 0 to add L1 regularization.\n",
      "  model = cd_fast.enet_coordinate_descent_gram(\n",
      "D:\\Anaconda\\Lib\\site-packages\\sklearn\\linear_model\\_coordinate_descent.py:617: ConvergenceWarning: Objective did not converge. You might want to increase the number of iterations. Duality gap: 1022593.9660885544, tolerance: 514.5795743589745\n",
      "  model = cd_fast.enet_coordinate_descent_gram(\n",
      "D:\\Anaconda\\Lib\\site-packages\\sklearn\\linear_model\\_coordinate_descent.py:617: UserWarning: Coordinate descent without L1 regularization may lead to unexpected results and is discouraged. Set l1_ratio > 0 to add L1 regularization.\n",
      "  model = cd_fast.enet_coordinate_descent_gram(\n",
      "D:\\Anaconda\\Lib\\site-packages\\sklearn\\linear_model\\_coordinate_descent.py:617: ConvergenceWarning: Objective did not converge. You might want to increase the number of iterations. Duality gap: 1014511.8811386547, tolerance: 514.5795743589745\n",
      "  model = cd_fast.enet_coordinate_descent_gram(\n",
      "D:\\Anaconda\\Lib\\site-packages\\sklearn\\linear_model\\_coordinate_descent.py:617: UserWarning: Coordinate descent without L1 regularization may lead to unexpected results and is discouraged. Set l1_ratio > 0 to add L1 regularization.\n",
      "  model = cd_fast.enet_coordinate_descent_gram(\n",
      "D:\\Anaconda\\Lib\\site-packages\\sklearn\\linear_model\\_coordinate_descent.py:617: ConvergenceWarning: Objective did not converge. You might want to increase the number of iterations. Duality gap: 1006277.7084669056, tolerance: 514.5795743589745\n",
      "  model = cd_fast.enet_coordinate_descent_gram(\n",
      "D:\\Anaconda\\Lib\\site-packages\\sklearn\\linear_model\\_coordinate_descent.py:617: UserWarning: Coordinate descent without L1 regularization may lead to unexpected results and is discouraged. Set l1_ratio > 0 to add L1 regularization.\n",
      "  model = cd_fast.enet_coordinate_descent_gram(\n",
      "D:\\Anaconda\\Lib\\site-packages\\sklearn\\linear_model\\_coordinate_descent.py:617: ConvergenceWarning: Objective did not converge. You might want to increase the number of iterations. Duality gap: 997886.1186251272, tolerance: 514.5795743589745\n",
      "  model = cd_fast.enet_coordinate_descent_gram(\n",
      "D:\\Anaconda\\Lib\\site-packages\\sklearn\\linear_model\\_coordinate_descent.py:617: UserWarning: Coordinate descent without L1 regularization may lead to unexpected results and is discouraged. Set l1_ratio > 0 to add L1 regularization.\n",
      "  model = cd_fast.enet_coordinate_descent_gram(\n",
      "D:\\Anaconda\\Lib\\site-packages\\sklearn\\linear_model\\_coordinate_descent.py:617: ConvergenceWarning: Objective did not converge. You might want to increase the number of iterations. Duality gap: 989331.443276203, tolerance: 514.5795743589745\n",
      "  model = cd_fast.enet_coordinate_descent_gram(\n",
      "D:\\Anaconda\\Lib\\site-packages\\sklearn\\linear_model\\_coordinate_descent.py:617: UserWarning: Coordinate descent without L1 regularization may lead to unexpected results and is discouraged. Set l1_ratio > 0 to add L1 regularization.\n",
      "  model = cd_fast.enet_coordinate_descent_gram(\n",
      "D:\\Anaconda\\Lib\\site-packages\\sklearn\\linear_model\\_coordinate_descent.py:617: ConvergenceWarning: Objective did not converge. You might want to increase the number of iterations. Duality gap: 980607.6397976201, tolerance: 514.5795743589745\n",
      "  model = cd_fast.enet_coordinate_descent_gram(\n",
      "D:\\Anaconda\\Lib\\site-packages\\sklearn\\linear_model\\_coordinate_descent.py:617: UserWarning: Coordinate descent without L1 regularization may lead to unexpected results and is discouraged. Set l1_ratio > 0 to add L1 regularization.\n",
      "  model = cd_fast.enet_coordinate_descent_gram(\n",
      "D:\\Anaconda\\Lib\\site-packages\\sklearn\\linear_model\\_coordinate_descent.py:617: ConvergenceWarning: Objective did not converge. You might want to increase the number of iterations. Duality gap: 971708.250677007, tolerance: 514.5795743589745\n",
      "  model = cd_fast.enet_coordinate_descent_gram(\n",
      "D:\\Anaconda\\Lib\\site-packages\\sklearn\\linear_model\\_coordinate_descent.py:617: UserWarning: Coordinate descent without L1 regularization may lead to unexpected results and is discouraged. Set l1_ratio > 0 to add L1 regularization.\n",
      "  model = cd_fast.enet_coordinate_descent_gram(\n",
      "D:\\Anaconda\\Lib\\site-packages\\sklearn\\linear_model\\_coordinate_descent.py:617: ConvergenceWarning: Objective did not converge. You might want to increase the number of iterations. Duality gap: 962626.3567307782, tolerance: 514.5795743589745\n",
      "  model = cd_fast.enet_coordinate_descent_gram(\n",
      "D:\\Anaconda\\Lib\\site-packages\\sklearn\\linear_model\\_coordinate_descent.py:617: UserWarning: Coordinate descent without L1 regularization may lead to unexpected results and is discouraged. Set l1_ratio > 0 to add L1 regularization.\n",
      "  model = cd_fast.enet_coordinate_descent_gram(\n",
      "D:\\Anaconda\\Lib\\site-packages\\sklearn\\linear_model\\_coordinate_descent.py:617: ConvergenceWarning: Objective did not converge. You might want to increase the number of iterations. Duality gap: 953354.5229611706, tolerance: 514.5795743589745\n",
      "  model = cd_fast.enet_coordinate_descent_gram(\n",
      "D:\\Anaconda\\Lib\\site-packages\\sklearn\\linear_model\\_coordinate_descent.py:617: UserWarning: Coordinate descent without L1 regularization may lead to unexpected results and is discouraged. Set l1_ratio > 0 to add L1 regularization.\n",
      "  model = cd_fast.enet_coordinate_descent_gram(\n",
      "D:\\Anaconda\\Lib\\site-packages\\sklearn\\linear_model\\_coordinate_descent.py:617: ConvergenceWarning: Objective did not converge. You might want to increase the number of iterations. Duality gap: 943884.7355953308, tolerance: 514.5795743589745\n",
      "  model = cd_fast.enet_coordinate_descent_gram(\n",
      "D:\\Anaconda\\Lib\\site-packages\\sklearn\\linear_model\\_coordinate_descent.py:617: UserWarning: Coordinate descent without L1 regularization may lead to unexpected results and is discouraged. Set l1_ratio > 0 to add L1 regularization.\n",
      "  model = cd_fast.enet_coordinate_descent_gram(\n",
      "D:\\Anaconda\\Lib\\site-packages\\sklearn\\linear_model\\_coordinate_descent.py:617: ConvergenceWarning: Objective did not converge. You might want to increase the number of iterations. Duality gap: 934208.3285057861, tolerance: 514.5795743589745\n",
      "  model = cd_fast.enet_coordinate_descent_gram(\n",
      "D:\\Anaconda\\Lib\\site-packages\\sklearn\\linear_model\\_coordinate_descent.py:617: UserWarning: Coordinate descent without L1 regularization may lead to unexpected results and is discouraged. Set l1_ratio > 0 to add L1 regularization.\n",
      "  model = cd_fast.enet_coordinate_descent_gram(\n",
      "D:\\Anaconda\\Lib\\site-packages\\sklearn\\linear_model\\_coordinate_descent.py:617: ConvergenceWarning: Objective did not converge. You might want to increase the number of iterations. Duality gap: 924315.8967725723, tolerance: 514.5795743589745\n",
      "  model = cd_fast.enet_coordinate_descent_gram(\n",
      "D:\\Anaconda\\Lib\\site-packages\\sklearn\\linear_model\\_coordinate_descent.py:617: UserWarning: Coordinate descent without L1 regularization may lead to unexpected results and is discouraged. Set l1_ratio > 0 to add L1 regularization.\n",
      "  model = cd_fast.enet_coordinate_descent_gram(\n",
      "D:\\Anaconda\\Lib\\site-packages\\sklearn\\linear_model\\_coordinate_descent.py:617: ConvergenceWarning: Objective did not converge. You might want to increase the number of iterations. Duality gap: 914197.1945834046, tolerance: 514.5795743589745\n",
      "  model = cd_fast.enet_coordinate_descent_gram(\n",
      "D:\\Anaconda\\Lib\\site-packages\\sklearn\\linear_model\\_coordinate_descent.py:617: UserWarning: Coordinate descent without L1 regularization may lead to unexpected results and is discouraged. Set l1_ratio > 0 to add L1 regularization.\n",
      "  model = cd_fast.enet_coordinate_descent_gram(\n",
      "D:\\Anaconda\\Lib\\site-packages\\sklearn\\linear_model\\_coordinate_descent.py:617: ConvergenceWarning: Objective did not converge. You might want to increase the number of iterations. Duality gap: 903841.0139387988, tolerance: 514.5795743589745\n",
      "  model = cd_fast.enet_coordinate_descent_gram(\n",
      "D:\\Anaconda\\Lib\\site-packages\\sklearn\\linear_model\\_coordinate_descent.py:617: UserWarning: Coordinate descent without L1 regularization may lead to unexpected results and is discouraged. Set l1_ratio > 0 to add L1 regularization.\n",
      "  model = cd_fast.enet_coordinate_descent_gram(\n",
      "D:\\Anaconda\\Lib\\site-packages\\sklearn\\linear_model\\_coordinate_descent.py:617: ConvergenceWarning: Objective did not converge. You might want to increase the number of iterations. Duality gap: 893235.0396782664, tolerance: 514.5795743589745\n",
      "  model = cd_fast.enet_coordinate_descent_gram(\n",
      "D:\\Anaconda\\Lib\\site-packages\\sklearn\\linear_model\\_coordinate_descent.py:617: UserWarning: Coordinate descent without L1 regularization may lead to unexpected results and is discouraged. Set l1_ratio > 0 to add L1 regularization.\n",
      "  model = cd_fast.enet_coordinate_descent_gram(\n",
      "D:\\Anaconda\\Lib\\site-packages\\sklearn\\linear_model\\_coordinate_descent.py:617: ConvergenceWarning: Objective did not converge. You might want to increase the number of iterations. Duality gap: 882365.6750938209, tolerance: 514.5795743589745\n",
      "  model = cd_fast.enet_coordinate_descent_gram(\n",
      "D:\\Anaconda\\Lib\\site-packages\\sklearn\\linear_model\\_coordinate_descent.py:617: UserWarning: Coordinate descent without L1 regularization may lead to unexpected results and is discouraged. Set l1_ratio > 0 to add L1 regularization.\n",
      "  model = cd_fast.enet_coordinate_descent_gram(\n",
      "D:\\Anaconda\\Lib\\site-packages\\sklearn\\linear_model\\_coordinate_descent.py:617: ConvergenceWarning: Objective did not converge. You might want to increase the number of iterations. Duality gap: 871217.8307403894, tolerance: 514.5795743589745\n",
      "  model = cd_fast.enet_coordinate_descent_gram(\n",
      "D:\\Anaconda\\Lib\\site-packages\\sklearn\\linear_model\\_coordinate_descent.py:617: UserWarning: Coordinate descent without L1 regularization may lead to unexpected results and is discouraged. Set l1_ratio > 0 to add L1 regularization.\n",
      "  model = cd_fast.enet_coordinate_descent_gram(\n",
      "D:\\Anaconda\\Lib\\site-packages\\sklearn\\linear_model\\_coordinate_descent.py:617: ConvergenceWarning: Objective did not converge. You might want to increase the number of iterations. Duality gap: 859774.6668356752, tolerance: 514.5795743589745\n",
      "  model = cd_fast.enet_coordinate_descent_gram(\n",
      "D:\\Anaconda\\Lib\\site-packages\\sklearn\\linear_model\\_coordinate_descent.py:617: UserWarning: Coordinate descent without L1 regularization may lead to unexpected results and is discouraged. Set l1_ratio > 0 to add L1 regularization.\n",
      "  model = cd_fast.enet_coordinate_descent_gram(\n",
      "D:\\Anaconda\\Lib\\site-packages\\sklearn\\linear_model\\_coordinate_descent.py:617: ConvergenceWarning: Objective did not converge. You might want to increase the number of iterations. Duality gap: 848017.2766461547, tolerance: 514.5795743589745\n",
      "  model = cd_fast.enet_coordinate_descent_gram(\n",
      "D:\\Anaconda\\Lib\\site-packages\\sklearn\\linear_model\\_coordinate_descent.py:617: UserWarning: Coordinate descent without L1 regularization may lead to unexpected results and is discouraged. Set l1_ratio > 0 to add L1 regularization.\n",
      "  model = cd_fast.enet_coordinate_descent_gram(\n",
      "D:\\Anaconda\\Lib\\site-packages\\sklearn\\linear_model\\_coordinate_descent.py:617: ConvergenceWarning: Objective did not converge. You might want to increase the number of iterations. Duality gap: 835924.2941644564, tolerance: 514.5795743589745\n",
      "  model = cd_fast.enet_coordinate_descent_gram(\n",
      "D:\\Anaconda\\Lib\\site-packages\\sklearn\\linear_model\\_coordinate_descent.py:617: UserWarning: Coordinate descent without L1 regularization may lead to unexpected results and is discouraged. Set l1_ratio > 0 to add L1 regularization.\n",
      "  model = cd_fast.enet_coordinate_descent_gram(\n",
      "D:\\Anaconda\\Lib\\site-packages\\sklearn\\linear_model\\_coordinate_descent.py:617: ConvergenceWarning: Objective did not converge. You might want to increase the number of iterations. Duality gap: 823471.4037316879, tolerance: 514.5795743589745\n",
      "  model = cd_fast.enet_coordinate_descent_gram(\n",
      "D:\\Anaconda\\Lib\\site-packages\\sklearn\\linear_model\\_coordinate_descent.py:617: UserWarning: Coordinate descent without L1 regularization may lead to unexpected results and is discouraged. Set l1_ratio > 0 to add L1 regularization.\n",
      "  model = cd_fast.enet_coordinate_descent_gram(\n",
      "D:\\Anaconda\\Lib\\site-packages\\sklearn\\linear_model\\_coordinate_descent.py:617: ConvergenceWarning: Objective did not converge. You might want to increase the number of iterations. Duality gap: 810630.7213555845, tolerance: 514.5795743589745\n",
      "  model = cd_fast.enet_coordinate_descent_gram(\n",
      "D:\\Anaconda\\Lib\\site-packages\\sklearn\\linear_model\\_coordinate_descent.py:617: UserWarning: Coordinate descent without L1 regularization may lead to unexpected results and is discouraged. Set l1_ratio > 0 to add L1 regularization.\n",
      "  model = cd_fast.enet_coordinate_descent_gram(\n",
      "D:\\Anaconda\\Lib\\site-packages\\sklearn\\linear_model\\_coordinate_descent.py:617: ConvergenceWarning: Objective did not converge. You might want to increase the number of iterations. Duality gap: 797370.006278507, tolerance: 514.5795743589745\n",
      "  model = cd_fast.enet_coordinate_descent_gram(\n",
      "D:\\Anaconda\\Lib\\site-packages\\sklearn\\linear_model\\_coordinate_descent.py:617: UserWarning: Coordinate descent without L1 regularization may lead to unexpected results and is discouraged. Set l1_ratio > 0 to add L1 regularization.\n",
      "  model = cd_fast.enet_coordinate_descent_gram(\n",
      "D:\\Anaconda\\Lib\\site-packages\\sklearn\\linear_model\\_coordinate_descent.py:617: ConvergenceWarning: Objective did not converge. You might want to increase the number of iterations. Duality gap: 783651.6452562066, tolerance: 514.5795743589745\n",
      "  model = cd_fast.enet_coordinate_descent_gram(\n",
      "D:\\Anaconda\\Lib\\site-packages\\sklearn\\linear_model\\_coordinate_descent.py:617: UserWarning: Coordinate descent without L1 regularization may lead to unexpected results and is discouraged. Set l1_ratio > 0 to add L1 regularization.\n",
      "  model = cd_fast.enet_coordinate_descent_gram(\n",
      "D:\\Anaconda\\Lib\\site-packages\\sklearn\\linear_model\\_coordinate_descent.py:617: ConvergenceWarning: Objective did not converge. You might want to increase the number of iterations. Duality gap: 769431.3285161868, tolerance: 514.5795743589745\n",
      "  model = cd_fast.enet_coordinate_descent_gram(\n",
      "D:\\Anaconda\\Lib\\site-packages\\sklearn\\linear_model\\_coordinate_descent.py:617: UserWarning: Coordinate descent without L1 regularization may lead to unexpected results and is discouraged. Set l1_ratio > 0 to add L1 regularization.\n",
      "  model = cd_fast.enet_coordinate_descent_gram(\n",
      "D:\\Anaconda\\Lib\\site-packages\\sklearn\\linear_model\\_coordinate_descent.py:617: ConvergenceWarning: Objective did not converge. You might want to increase the number of iterations. Duality gap: 754656.3014834728, tolerance: 514.5795743589745\n",
      "  model = cd_fast.enet_coordinate_descent_gram(\n",
      "D:\\Anaconda\\Lib\\site-packages\\sklearn\\linear_model\\_coordinate_descent.py:617: UserWarning: Coordinate descent without L1 regularization may lead to unexpected results and is discouraged. Set l1_ratio > 0 to add L1 regularization.\n",
      "  model = cd_fast.enet_coordinate_descent_gram(\n",
      "D:\\Anaconda\\Lib\\site-packages\\sklearn\\linear_model\\_coordinate_descent.py:617: ConvergenceWarning: Objective did not converge. You might want to increase the number of iterations. Duality gap: 739263.0235968534, tolerance: 514.5795743589745\n",
      "  model = cd_fast.enet_coordinate_descent_gram(\n",
      "D:\\Anaconda\\Lib\\site-packages\\sklearn\\linear_model\\_coordinate_descent.py:617: UserWarning: Coordinate descent without L1 regularization may lead to unexpected results and is discouraged. Set l1_ratio > 0 to add L1 regularization.\n",
      "  model = cd_fast.enet_coordinate_descent_gram(\n",
      "D:\\Anaconda\\Lib\\site-packages\\sklearn\\linear_model\\_coordinate_descent.py:617: ConvergenceWarning: Objective did not converge. You might want to increase the number of iterations. Duality gap: 723173.9840615324, tolerance: 514.5795743589745\n",
      "  model = cd_fast.enet_coordinate_descent_gram(\n",
      "D:\\Anaconda\\Lib\\site-packages\\sklearn\\linear_model\\_coordinate_descent.py:617: UserWarning: Coordinate descent without L1 regularization may lead to unexpected results and is discouraged. Set l1_ratio > 0 to add L1 regularization.\n",
      "  model = cd_fast.enet_coordinate_descent_gram(\n",
      "D:\\Anaconda\\Lib\\site-packages\\sklearn\\linear_model\\_coordinate_descent.py:617: ConvergenceWarning: Objective did not converge. You might want to increase the number of iterations. Duality gap: 706293.2956634029, tolerance: 514.5795743589745\n",
      "  model = cd_fast.enet_coordinate_descent_gram(\n",
      "D:\\Anaconda\\Lib\\site-packages\\sklearn\\linear_model\\_coordinate_descent.py:617: UserWarning: Coordinate descent without L1 regularization may lead to unexpected results and is discouraged. Set l1_ratio > 0 to add L1 regularization.\n",
      "  model = cd_fast.enet_coordinate_descent_gram(\n",
      "D:\\Anaconda\\Lib\\site-packages\\sklearn\\linear_model\\_coordinate_descent.py:617: ConvergenceWarning: Objective did not converge. You might want to increase the number of iterations. Duality gap: 688500.4791428172, tolerance: 514.5795743589745\n",
      "  model = cd_fast.enet_coordinate_descent_gram(\n",
      "D:\\Anaconda\\Lib\\site-packages\\sklearn\\linear_model\\_coordinate_descent.py:617: UserWarning: Coordinate descent without L1 regularization may lead to unexpected results and is discouraged. Set l1_ratio > 0 to add L1 regularization.\n",
      "  model = cd_fast.enet_coordinate_descent_gram(\n",
      "D:\\Anaconda\\Lib\\site-packages\\sklearn\\linear_model\\_coordinate_descent.py:617: ConvergenceWarning: Objective did not converge. You might want to increase the number of iterations. Duality gap: 669641.5025638175, tolerance: 514.5795743589745\n",
      "  model = cd_fast.enet_coordinate_descent_gram(\n",
      "D:\\Anaconda\\Lib\\site-packages\\sklearn\\linear_model\\_coordinate_descent.py:617: UserWarning: Coordinate descent without L1 regularization may lead to unexpected results and is discouraged. Set l1_ratio > 0 to add L1 regularization.\n",
      "  model = cd_fast.enet_coordinate_descent_gram(\n",
      "D:\\Anaconda\\Lib\\site-packages\\sklearn\\linear_model\\_coordinate_descent.py:617: ConvergenceWarning: Objective did not converge. You might want to increase the number of iterations. Duality gap: 649515.539865624, tolerance: 514.5795743589745\n",
      "  model = cd_fast.enet_coordinate_descent_gram(\n",
      "D:\\Anaconda\\Lib\\site-packages\\sklearn\\linear_model\\_coordinate_descent.py:617: UserWarning: Coordinate descent without L1 regularization may lead to unexpected results and is discouraged. Set l1_ratio > 0 to add L1 regularization.\n",
      "  model = cd_fast.enet_coordinate_descent_gram(\n",
      "D:\\Anaconda\\Lib\\site-packages\\sklearn\\linear_model\\_coordinate_descent.py:617: ConvergenceWarning: Objective did not converge. You might want to increase the number of iterations. Duality gap: 627854.836827685, tolerance: 514.5795743589745\n",
      "  model = cd_fast.enet_coordinate_descent_gram(\n",
      "D:\\Anaconda\\Lib\\site-packages\\sklearn\\linear_model\\_coordinate_descent.py:617: UserWarning: Coordinate descent without L1 regularization may lead to unexpected results and is discouraged. Set l1_ratio > 0 to add L1 regularization.\n",
      "  model = cd_fast.enet_coordinate_descent_gram(\n",
      "D:\\Anaconda\\Lib\\site-packages\\sklearn\\linear_model\\_coordinate_descent.py:617: ConvergenceWarning: Objective did not converge. You might want to increase the number of iterations. Duality gap: 604293.0525376084, tolerance: 514.5795743589745\n",
      "  model = cd_fast.enet_coordinate_descent_gram(\n",
      "D:\\Anaconda\\Lib\\site-packages\\sklearn\\linear_model\\_coordinate_descent.py:617: UserWarning: Coordinate descent without L1 regularization may lead to unexpected results and is discouraged. Set l1_ratio > 0 to add L1 regularization.\n",
      "  model = cd_fast.enet_coordinate_descent_gram(\n",
      "D:\\Anaconda\\Lib\\site-packages\\sklearn\\linear_model\\_coordinate_descent.py:617: ConvergenceWarning: Objective did not converge. You might want to increase the number of iterations. Duality gap: 578313.4248232129, tolerance: 514.5795743589745\n",
      "  model = cd_fast.enet_coordinate_descent_gram(\n",
      "D:\\Anaconda\\Lib\\site-packages\\sklearn\\linear_model\\_coordinate_descent.py:617: UserWarning: Coordinate descent without L1 regularization may lead to unexpected results and is discouraged. Set l1_ratio > 0 to add L1 regularization.\n",
      "  model = cd_fast.enet_coordinate_descent_gram(\n",
      "D:\\Anaconda\\Lib\\site-packages\\sklearn\\linear_model\\_coordinate_descent.py:617: ConvergenceWarning: Objective did not converge. You might want to increase the number of iterations. Duality gap: 549159.4566307059, tolerance: 514.5795743589745\n",
      "  model = cd_fast.enet_coordinate_descent_gram(\n",
      "D:\\Anaconda\\Lib\\site-packages\\sklearn\\linear_model\\_coordinate_descent.py:617: UserWarning: Coordinate descent without L1 regularization may lead to unexpected results and is discouraged. Set l1_ratio > 0 to add L1 regularization.\n",
      "  model = cd_fast.enet_coordinate_descent_gram(\n",
      "D:\\Anaconda\\Lib\\site-packages\\sklearn\\linear_model\\_coordinate_descent.py:617: ConvergenceWarning: Objective did not converge. You might want to increase the number of iterations. Duality gap: 515669.79461501667, tolerance: 514.5795743589745\n",
      "  model = cd_fast.enet_coordinate_descent_gram(\n",
      "D:\\Anaconda\\Lib\\site-packages\\sklearn\\linear_model\\_coordinate_descent.py:617: UserWarning: Coordinate descent without L1 regularization may lead to unexpected results and is discouraged. Set l1_ratio > 0 to add L1 regularization.\n",
      "  model = cd_fast.enet_coordinate_descent_gram(\n",
      "D:\\Anaconda\\Lib\\site-packages\\sklearn\\linear_model\\_coordinate_descent.py:617: ConvergenceWarning: Objective did not converge. You might want to increase the number of iterations. Duality gap: 475934.40273493546, tolerance: 514.5795743589745\n",
      "  model = cd_fast.enet_coordinate_descent_gram(\n",
      "D:\\Anaconda\\Lib\\site-packages\\sklearn\\linear_model\\_coordinate_descent.py:617: UserWarning: Coordinate descent without L1 regularization may lead to unexpected results and is discouraged. Set l1_ratio > 0 to add L1 regularization.\n",
      "  model = cd_fast.enet_coordinate_descent_gram(\n",
      "D:\\Anaconda\\Lib\\site-packages\\sklearn\\linear_model\\_coordinate_descent.py:617: ConvergenceWarning: Objective did not converge. You might want to increase the number of iterations. Duality gap: 426308.2756778435, tolerance: 514.5795743589745\n",
      "  model = cd_fast.enet_coordinate_descent_gram(\n",
      "D:\\Anaconda\\Lib\\site-packages\\sklearn\\linear_model\\_coordinate_descent.py:617: UserWarning: Coordinate descent without L1 regularization may lead to unexpected results and is discouraged. Set l1_ratio > 0 to add L1 regularization.\n",
      "  model = cd_fast.enet_coordinate_descent_gram(\n",
      "D:\\Anaconda\\Lib\\site-packages\\sklearn\\linear_model\\_coordinate_descent.py:617: ConvergenceWarning: Objective did not converge. You might want to increase the number of iterations. Duality gap: 1366042.056697476, tolerance: 498.3715230769231\n",
      "  model = cd_fast.enet_coordinate_descent_gram(\n",
      "D:\\Anaconda\\Lib\\site-packages\\sklearn\\linear_model\\_coordinate_descent.py:617: UserWarning: Coordinate descent without L1 regularization may lead to unexpected results and is discouraged. Set l1_ratio > 0 to add L1 regularization.\n",
      "  model = cd_fast.enet_coordinate_descent_gram(\n",
      "D:\\Anaconda\\Lib\\site-packages\\sklearn\\linear_model\\_coordinate_descent.py:617: ConvergenceWarning: Objective did not converge. You might want to increase the number of iterations. Duality gap: 1362263.4631691184, tolerance: 498.3715230769231\n",
      "  model = cd_fast.enet_coordinate_descent_gram(\n",
      "D:\\Anaconda\\Lib\\site-packages\\sklearn\\linear_model\\_coordinate_descent.py:617: UserWarning: Coordinate descent without L1 regularization may lead to unexpected results and is discouraged. Set l1_ratio > 0 to add L1 regularization.\n",
      "  model = cd_fast.enet_coordinate_descent_gram(\n",
      "D:\\Anaconda\\Lib\\site-packages\\sklearn\\linear_model\\_coordinate_descent.py:617: ConvergenceWarning: Objective did not converge. You might want to increase the number of iterations. Duality gap: 1358442.772977694, tolerance: 498.3715230769231\n",
      "  model = cd_fast.enet_coordinate_descent_gram(\n",
      "D:\\Anaconda\\Lib\\site-packages\\sklearn\\linear_model\\_coordinate_descent.py:617: UserWarning: Coordinate descent without L1 regularization may lead to unexpected results and is discouraged. Set l1_ratio > 0 to add L1 regularization.\n",
      "  model = cd_fast.enet_coordinate_descent_gram(\n",
      "D:\\Anaconda\\Lib\\site-packages\\sklearn\\linear_model\\_coordinate_descent.py:617: ConvergenceWarning: Objective did not converge. You might want to increase the number of iterations. Duality gap: 1354579.2625769787, tolerance: 498.3715230769231\n",
      "  model = cd_fast.enet_coordinate_descent_gram(\n",
      "D:\\Anaconda\\Lib\\site-packages\\sklearn\\linear_model\\_coordinate_descent.py:617: UserWarning: Coordinate descent without L1 regularization may lead to unexpected results and is discouraged. Set l1_ratio > 0 to add L1 regularization.\n",
      "  model = cd_fast.enet_coordinate_descent_gram(\n",
      "D:\\Anaconda\\Lib\\site-packages\\sklearn\\linear_model\\_coordinate_descent.py:617: ConvergenceWarning: Objective did not converge. You might want to increase the number of iterations. Duality gap: 1350672.1912414446, tolerance: 498.3715230769231\n",
      "  model = cd_fast.enet_coordinate_descent_gram(\n",
      "D:\\Anaconda\\Lib\\site-packages\\sklearn\\linear_model\\_coordinate_descent.py:617: UserWarning: Coordinate descent without L1 regularization may lead to unexpected results and is discouraged. Set l1_ratio > 0 to add L1 regularization.\n",
      "  model = cd_fast.enet_coordinate_descent_gram(\n",
      "D:\\Anaconda\\Lib\\site-packages\\sklearn\\linear_model\\_coordinate_descent.py:617: ConvergenceWarning: Objective did not converge. You might want to increase the number of iterations. Duality gap: 1346720.8005288355, tolerance: 498.3715230769231\n",
      "  model = cd_fast.enet_coordinate_descent_gram(\n",
      "D:\\Anaconda\\Lib\\site-packages\\sklearn\\linear_model\\_coordinate_descent.py:617: UserWarning: Coordinate descent without L1 regularization may lead to unexpected results and is discouraged. Set l1_ratio > 0 to add L1 regularization.\n",
      "  model = cd_fast.enet_coordinate_descent_gram(\n",
      "D:\\Anaconda\\Lib\\site-packages\\sklearn\\linear_model\\_coordinate_descent.py:617: ConvergenceWarning: Objective did not converge. You might want to increase the number of iterations. Duality gap: 1342724.3137210382, tolerance: 498.3715230769231\n",
      "  model = cd_fast.enet_coordinate_descent_gram(\n",
      "D:\\Anaconda\\Lib\\site-packages\\sklearn\\linear_model\\_coordinate_descent.py:617: UserWarning: Coordinate descent without L1 regularization may lead to unexpected results and is discouraged. Set l1_ratio > 0 to add L1 regularization.\n",
      "  model = cd_fast.enet_coordinate_descent_gram(\n",
      "D:\\Anaconda\\Lib\\site-packages\\sklearn\\linear_model\\_coordinate_descent.py:617: ConvergenceWarning: Objective did not converge. You might want to increase the number of iterations. Duality gap: 1338681.935242114, tolerance: 498.3715230769231\n",
      "  model = cd_fast.enet_coordinate_descent_gram(\n",
      "D:\\Anaconda\\Lib\\site-packages\\sklearn\\linear_model\\_coordinate_descent.py:617: UserWarning: Coordinate descent without L1 regularization may lead to unexpected results and is discouraged. Set l1_ratio > 0 to add L1 regularization.\n",
      "  model = cd_fast.enet_coordinate_descent_gram(\n"
     ]
    },
    {
     "name": "stderr",
     "output_type": "stream",
     "text": [
      "D:\\Anaconda\\Lib\\site-packages\\sklearn\\linear_model\\_coordinate_descent.py:617: ConvergenceWarning: Objective did not converge. You might want to increase the number of iterations. Duality gap: 1334592.8500523074, tolerance: 498.3715230769231\n",
      "  model = cd_fast.enet_coordinate_descent_gram(\n",
      "D:\\Anaconda\\Lib\\site-packages\\sklearn\\linear_model\\_coordinate_descent.py:617: UserWarning: Coordinate descent without L1 regularization may lead to unexpected results and is discouraged. Set l1_ratio > 0 to add L1 regularization.\n",
      "  model = cd_fast.enet_coordinate_descent_gram(\n",
      "D:\\Anaconda\\Lib\\site-packages\\sklearn\\linear_model\\_coordinate_descent.py:617: ConvergenceWarning: Objective did not converge. You might want to increase the number of iterations. Duality gap: 1330456.2230167561, tolerance: 498.3715230769231\n",
      "  model = cd_fast.enet_coordinate_descent_gram(\n",
      "D:\\Anaconda\\Lib\\site-packages\\sklearn\\linear_model\\_coordinate_descent.py:617: UserWarning: Coordinate descent without L1 regularization may lead to unexpected results and is discouraged. Set l1_ratio > 0 to add L1 regularization.\n",
      "  model = cd_fast.enet_coordinate_descent_gram(\n",
      "D:\\Anaconda\\Lib\\site-packages\\sklearn\\linear_model\\_coordinate_descent.py:617: ConvergenceWarning: Objective did not converge. You might want to increase the number of iterations. Duality gap: 1326271.198247536, tolerance: 498.3715230769231\n",
      "  model = cd_fast.enet_coordinate_descent_gram(\n",
      "D:\\Anaconda\\Lib\\site-packages\\sklearn\\linear_model\\_coordinate_descent.py:617: UserWarning: Coordinate descent without L1 regularization may lead to unexpected results and is discouraged. Set l1_ratio > 0 to add L1 regularization.\n",
      "  model = cd_fast.enet_coordinate_descent_gram(\n",
      "D:\\Anaconda\\Lib\\site-packages\\sklearn\\linear_model\\_coordinate_descent.py:617: ConvergenceWarning: Objective did not converge. You might want to increase the number of iterations. Duality gap: 1322036.8984176065, tolerance: 498.3715230769231\n",
      "  model = cd_fast.enet_coordinate_descent_gram(\n",
      "D:\\Anaconda\\Lib\\site-packages\\sklearn\\linear_model\\_coordinate_descent.py:617: UserWarning: Coordinate descent without L1 regularization may lead to unexpected results and is discouraged. Set l1_ratio > 0 to add L1 regularization.\n",
      "  model = cd_fast.enet_coordinate_descent_gram(\n",
      "D:\\Anaconda\\Lib\\site-packages\\sklearn\\linear_model\\_coordinate_descent.py:617: ConvergenceWarning: Objective did not converge. You might want to increase the number of iterations. Duality gap: 1317752.4240450829, tolerance: 498.3715230769231\n",
      "  model = cd_fast.enet_coordinate_descent_gram(\n",
      "D:\\Anaconda\\Lib\\site-packages\\sklearn\\linear_model\\_coordinate_descent.py:617: UserWarning: Coordinate descent without L1 regularization may lead to unexpected results and is discouraged. Set l1_ratio > 0 to add L1 regularization.\n",
      "  model = cd_fast.enet_coordinate_descent_gram(\n",
      "D:\\Anaconda\\Lib\\site-packages\\sklearn\\linear_model\\_coordinate_descent.py:617: ConvergenceWarning: Objective did not converge. You might want to increase the number of iterations. Duality gap: 1313416.8527461975, tolerance: 498.3715230769231\n",
      "  model = cd_fast.enet_coordinate_descent_gram(\n",
      "D:\\Anaconda\\Lib\\site-packages\\sklearn\\linear_model\\_coordinate_descent.py:617: UserWarning: Coordinate descent without L1 regularization may lead to unexpected results and is discouraged. Set l1_ratio > 0 to add L1 regularization.\n",
      "  model = cd_fast.enet_coordinate_descent_gram(\n",
      "D:\\Anaconda\\Lib\\site-packages\\sklearn\\linear_model\\_coordinate_descent.py:617: ConvergenceWarning: Objective did not converge. You might want to increase the number of iterations. Duality gap: 1309029.23845516, tolerance: 498.3715230769231\n",
      "  model = cd_fast.enet_coordinate_descent_gram(\n",
      "D:\\Anaconda\\Lib\\site-packages\\sklearn\\linear_model\\_coordinate_descent.py:617: UserWarning: Coordinate descent without L1 regularization may lead to unexpected results and is discouraged. Set l1_ratio > 0 to add L1 regularization.\n",
      "  model = cd_fast.enet_coordinate_descent_gram(\n",
      "D:\\Anaconda\\Lib\\site-packages\\sklearn\\linear_model\\_coordinate_descent.py:617: ConvergenceWarning: Objective did not converge. You might want to increase the number of iterations. Duality gap: 1304588.6106090131, tolerance: 498.3715230769231\n",
      "  model = cd_fast.enet_coordinate_descent_gram(\n",
      "D:\\Anaconda\\Lib\\site-packages\\sklearn\\linear_model\\_coordinate_descent.py:617: UserWarning: Coordinate descent without L1 regularization may lead to unexpected results and is discouraged. Set l1_ratio > 0 to add L1 regularization.\n",
      "  model = cd_fast.enet_coordinate_descent_gram(\n",
      "D:\\Anaconda\\Lib\\site-packages\\sklearn\\linear_model\\_coordinate_descent.py:617: ConvergenceWarning: Objective did not converge. You might want to increase the number of iterations. Duality gap: 1300093.9732954355, tolerance: 498.3715230769231\n",
      "  model = cd_fast.enet_coordinate_descent_gram(\n",
      "D:\\Anaconda\\Lib\\site-packages\\sklearn\\linear_model\\_coordinate_descent.py:617: UserWarning: Coordinate descent without L1 regularization may lead to unexpected results and is discouraged. Set l1_ratio > 0 to add L1 regularization.\n",
      "  model = cd_fast.enet_coordinate_descent_gram(\n",
      "D:\\Anaconda\\Lib\\site-packages\\sklearn\\linear_model\\_coordinate_descent.py:617: ConvergenceWarning: Objective did not converge. You might want to increase the number of iterations. Duality gap: 1295544.304361301, tolerance: 498.3715230769231\n",
      "  model = cd_fast.enet_coordinate_descent_gram(\n",
      "D:\\Anaconda\\Lib\\site-packages\\sklearn\\linear_model\\_coordinate_descent.py:617: UserWarning: Coordinate descent without L1 regularization may lead to unexpected results and is discouraged. Set l1_ratio > 0 to add L1 regularization.\n",
      "  model = cd_fast.enet_coordinate_descent_gram(\n",
      "D:\\Anaconda\\Lib\\site-packages\\sklearn\\linear_model\\_coordinate_descent.py:617: ConvergenceWarning: Objective did not converge. You might want to increase the number of iterations. Duality gap: 1290938.5544796214, tolerance: 498.3715230769231\n",
      "  model = cd_fast.enet_coordinate_descent_gram(\n",
      "D:\\Anaconda\\Lib\\site-packages\\sklearn\\linear_model\\_coordinate_descent.py:617: UserWarning: Coordinate descent without L1 regularization may lead to unexpected results and is discouraged. Set l1_ratio > 0 to add L1 regularization.\n",
      "  model = cd_fast.enet_coordinate_descent_gram(\n",
      "D:\\Anaconda\\Lib\\site-packages\\sklearn\\linear_model\\_coordinate_descent.py:617: ConvergenceWarning: Objective did not converge. You might want to increase the number of iterations. Duality gap: 1286275.6461723337, tolerance: 498.3715230769231\n",
      "  model = cd_fast.enet_coordinate_descent_gram(\n",
      "D:\\Anaconda\\Lib\\site-packages\\sklearn\\linear_model\\_coordinate_descent.py:617: UserWarning: Coordinate descent without L1 regularization may lead to unexpected results and is discouraged. Set l1_ratio > 0 to add L1 regularization.\n",
      "  model = cd_fast.enet_coordinate_descent_gram(\n",
      "D:\\Anaconda\\Lib\\site-packages\\sklearn\\linear_model\\_coordinate_descent.py:617: ConvergenceWarning: Objective did not converge. You might want to increase the number of iterations. Duality gap: 1281554.4727861765, tolerance: 498.3715230769231\n",
      "  model = cd_fast.enet_coordinate_descent_gram(\n",
      "D:\\Anaconda\\Lib\\site-packages\\sklearn\\linear_model\\_coordinate_descent.py:617: UserWarning: Coordinate descent without L1 regularization may lead to unexpected results and is discouraged. Set l1_ratio > 0 to add L1 regularization.\n",
      "  model = cd_fast.enet_coordinate_descent_gram(\n",
      "D:\\Anaconda\\Lib\\site-packages\\sklearn\\linear_model\\_coordinate_descent.py:617: ConvergenceWarning: Objective did not converge. You might want to increase the number of iterations. Duality gap: 1276773.8974187053, tolerance: 498.3715230769231\n",
      "  model = cd_fast.enet_coordinate_descent_gram(\n",
      "D:\\Anaconda\\Lib\\site-packages\\sklearn\\linear_model\\_coordinate_descent.py:617: UserWarning: Coordinate descent without L1 regularization may lead to unexpected results and is discouraged. Set l1_ratio > 0 to add L1 regularization.\n",
      "  model = cd_fast.enet_coordinate_descent_gram(\n",
      "D:\\Anaconda\\Lib\\site-packages\\sklearn\\linear_model\\_coordinate_descent.py:617: ConvergenceWarning: Objective did not converge. You might want to increase the number of iterations. Duality gap: 1271932.7517912278, tolerance: 498.3715230769231\n",
      "  model = cd_fast.enet_coordinate_descent_gram(\n",
      "D:\\Anaconda\\Lib\\site-packages\\sklearn\\linear_model\\_coordinate_descent.py:617: UserWarning: Coordinate descent without L1 regularization may lead to unexpected results and is discouraged. Set l1_ratio > 0 to add L1 regularization.\n",
      "  model = cd_fast.enet_coordinate_descent_gram(\n",
      "D:\\Anaconda\\Lib\\site-packages\\sklearn\\linear_model\\_coordinate_descent.py:617: ConvergenceWarning: Objective did not converge. You might want to increase the number of iterations. Duality gap: 1267029.8350652116, tolerance: 498.3715230769231\n",
      "  model = cd_fast.enet_coordinate_descent_gram(\n",
      "D:\\Anaconda\\Lib\\site-packages\\sklearn\\linear_model\\_coordinate_descent.py:617: UserWarning: Coordinate descent without L1 regularization may lead to unexpected results and is discouraged. Set l1_ratio > 0 to add L1 regularization.\n",
      "  model = cd_fast.enet_coordinate_descent_gram(\n",
      "D:\\Anaconda\\Lib\\site-packages\\sklearn\\linear_model\\_coordinate_descent.py:617: ConvergenceWarning: Objective did not converge. You might want to increase the number of iterations. Duality gap: 1262063.9125983836, tolerance: 498.3715230769231\n",
      "  model = cd_fast.enet_coordinate_descent_gram(\n",
      "D:\\Anaconda\\Lib\\site-packages\\sklearn\\linear_model\\_coordinate_descent.py:617: UserWarning: Coordinate descent without L1 regularization may lead to unexpected results and is discouraged. Set l1_ratio > 0 to add L1 regularization.\n",
      "  model = cd_fast.enet_coordinate_descent_gram(\n",
      "D:\\Anaconda\\Lib\\site-packages\\sklearn\\linear_model\\_coordinate_descent.py:617: ConvergenceWarning: Objective did not converge. You might want to increase the number of iterations. Duality gap: 1257033.7146364683, tolerance: 498.3715230769231\n",
      "  model = cd_fast.enet_coordinate_descent_gram(\n",
      "D:\\Anaconda\\Lib\\site-packages\\sklearn\\linear_model\\_coordinate_descent.py:617: UserWarning: Coordinate descent without L1 regularization may lead to unexpected results and is discouraged. Set l1_ratio > 0 to add L1 regularization.\n",
      "  model = cd_fast.enet_coordinate_descent_gram(\n",
      "D:\\Anaconda\\Lib\\site-packages\\sklearn\\linear_model\\_coordinate_descent.py:617: ConvergenceWarning: Objective did not converge. You might want to increase the number of iterations. Duality gap: 1251937.9349361195, tolerance: 498.3715230769231\n",
      "  model = cd_fast.enet_coordinate_descent_gram(\n",
      "D:\\Anaconda\\Lib\\site-packages\\sklearn\\linear_model\\_coordinate_descent.py:617: UserWarning: Coordinate descent without L1 regularization may lead to unexpected results and is discouraged. Set l1_ratio > 0 to add L1 regularization.\n",
      "  model = cd_fast.enet_coordinate_descent_gram(\n",
      "D:\\Anaconda\\Lib\\site-packages\\sklearn\\linear_model\\_coordinate_descent.py:617: ConvergenceWarning: Objective did not converge. You might want to increase the number of iterations. Duality gap: 1246775.2293142388, tolerance: 498.3715230769231\n",
      "  model = cd_fast.enet_coordinate_descent_gram(\n",
      "D:\\Anaconda\\Lib\\site-packages\\sklearn\\linear_model\\_coordinate_descent.py:617: UserWarning: Coordinate descent without L1 regularization may lead to unexpected results and is discouraged. Set l1_ratio > 0 to add L1 regularization.\n",
      "  model = cd_fast.enet_coordinate_descent_gram(\n",
      "D:\\Anaconda\\Lib\\site-packages\\sklearn\\linear_model\\_coordinate_descent.py:617: ConvergenceWarning: Objective did not converge. You might want to increase the number of iterations. Duality gap: 1241544.214118408, tolerance: 498.3715230769231\n",
      "  model = cd_fast.enet_coordinate_descent_gram(\n",
      "D:\\Anaconda\\Lib\\site-packages\\sklearn\\linear_model\\_coordinate_descent.py:617: UserWarning: Coordinate descent without L1 regularization may lead to unexpected results and is discouraged. Set l1_ratio > 0 to add L1 regularization.\n",
      "  model = cd_fast.enet_coordinate_descent_gram(\n",
      "D:\\Anaconda\\Lib\\site-packages\\sklearn\\linear_model\\_coordinate_descent.py:617: ConvergenceWarning: Objective did not converge. You might want to increase the number of iterations. Duality gap: 1236243.4646127294, tolerance: 498.3715230769231\n",
      "  model = cd_fast.enet_coordinate_descent_gram(\n",
      "D:\\Anaconda\\Lib\\site-packages\\sklearn\\linear_model\\_coordinate_descent.py:617: UserWarning: Coordinate descent without L1 regularization may lead to unexpected results and is discouraged. Set l1_ratio > 0 to add L1 regularization.\n",
      "  model = cd_fast.enet_coordinate_descent_gram(\n",
      "D:\\Anaconda\\Lib\\site-packages\\sklearn\\linear_model\\_coordinate_descent.py:617: ConvergenceWarning: Objective did not converge. You might want to increase the number of iterations. Duality gap: 1230871.5132727842, tolerance: 498.3715230769231\n",
      "  model = cd_fast.enet_coordinate_descent_gram(\n",
      "D:\\Anaconda\\Lib\\site-packages\\sklearn\\linear_model\\_coordinate_descent.py:617: UserWarning: Coordinate descent without L1 regularization may lead to unexpected results and is discouraged. Set l1_ratio > 0 to add L1 regularization.\n",
      "  model = cd_fast.enet_coordinate_descent_gram(\n",
      "D:\\Anaconda\\Lib\\site-packages\\sklearn\\linear_model\\_coordinate_descent.py:617: ConvergenceWarning: Objective did not converge. You might want to increase the number of iterations. Duality gap: 1225426.8479828634, tolerance: 498.3715230769231\n",
      "  model = cd_fast.enet_coordinate_descent_gram(\n",
      "D:\\Anaconda\\Lib\\site-packages\\sklearn\\linear_model\\_coordinate_descent.py:617: UserWarning: Coordinate descent without L1 regularization may lead to unexpected results and is discouraged. Set l1_ratio > 0 to add L1 regularization.\n",
      "  model = cd_fast.enet_coordinate_descent_gram(\n",
      "D:\\Anaconda\\Lib\\site-packages\\sklearn\\linear_model\\_coordinate_descent.py:617: ConvergenceWarning: Objective did not converge. You might want to increase the number of iterations. Duality gap: 1219907.9101279383, tolerance: 498.3715230769231\n",
      "  model = cd_fast.enet_coordinate_descent_gram(\n",
      "D:\\Anaconda\\Lib\\site-packages\\sklearn\\linear_model\\_coordinate_descent.py:617: UserWarning: Coordinate descent without L1 regularization may lead to unexpected results and is discouraged. Set l1_ratio > 0 to add L1 regularization.\n",
      "  model = cd_fast.enet_coordinate_descent_gram(\n",
      "D:\\Anaconda\\Lib\\site-packages\\sklearn\\linear_model\\_coordinate_descent.py:617: ConvergenceWarning: Objective did not converge. You might want to increase the number of iterations. Duality gap: 1214313.0925721084, tolerance: 498.3715230769231\n",
      "  model = cd_fast.enet_coordinate_descent_gram(\n",
      "D:\\Anaconda\\Lib\\site-packages\\sklearn\\linear_model\\_coordinate_descent.py:617: UserWarning: Coordinate descent without L1 regularization may lead to unexpected results and is discouraged. Set l1_ratio > 0 to add L1 regularization.\n",
      "  model = cd_fast.enet_coordinate_descent_gram(\n",
      "D:\\Anaconda\\Lib\\site-packages\\sklearn\\linear_model\\_coordinate_descent.py:617: ConvergenceWarning: Objective did not converge. You might want to increase the number of iterations. Duality gap: 1208640.7375144442, tolerance: 498.3715230769231\n",
      "  model = cd_fast.enet_coordinate_descent_gram(\n",
      "D:\\Anaconda\\Lib\\site-packages\\sklearn\\linear_model\\_coordinate_descent.py:617: UserWarning: Coordinate descent without L1 regularization may lead to unexpected results and is discouraged. Set l1_ratio > 0 to add L1 regularization.\n",
      "  model = cd_fast.enet_coordinate_descent_gram(\n",
      "D:\\Anaconda\\Lib\\site-packages\\sklearn\\linear_model\\_coordinate_descent.py:617: ConvergenceWarning: Objective did not converge. You might want to increase the number of iterations. Duality gap: 1202889.1342121707, tolerance: 498.3715230769231\n",
      "  model = cd_fast.enet_coordinate_descent_gram(\n",
      "D:\\Anaconda\\Lib\\site-packages\\sklearn\\linear_model\\_coordinate_descent.py:617: UserWarning: Coordinate descent without L1 regularization may lead to unexpected results and is discouraged. Set l1_ratio > 0 to add L1 regularization.\n",
      "  model = cd_fast.enet_coordinate_descent_gram(\n",
      "D:\\Anaconda\\Lib\\site-packages\\sklearn\\linear_model\\_coordinate_descent.py:617: ConvergenceWarning: Objective did not converge. You might want to increase the number of iterations. Duality gap: 1197056.51656016, tolerance: 498.3715230769231\n",
      "  model = cd_fast.enet_coordinate_descent_gram(\n",
      "D:\\Anaconda\\Lib\\site-packages\\sklearn\\linear_model\\_coordinate_descent.py:617: UserWarning: Coordinate descent without L1 regularization may lead to unexpected results and is discouraged. Set l1_ratio > 0 to add L1 regularization.\n",
      "  model = cd_fast.enet_coordinate_descent_gram(\n",
      "D:\\Anaconda\\Lib\\site-packages\\sklearn\\linear_model\\_coordinate_descent.py:617: ConvergenceWarning: Objective did not converge. You might want to increase the number of iterations. Duality gap: 1191141.0605144477, tolerance: 498.3715230769231\n",
      "  model = cd_fast.enet_coordinate_descent_gram(\n",
      "D:\\Anaconda\\Lib\\site-packages\\sklearn\\linear_model\\_coordinate_descent.py:617: UserWarning: Coordinate descent without L1 regularization may lead to unexpected results and is discouraged. Set l1_ratio > 0 to add L1 regularization.\n",
      "  model = cd_fast.enet_coordinate_descent_gram(\n",
      "D:\\Anaconda\\Lib\\site-packages\\sklearn\\linear_model\\_coordinate_descent.py:617: ConvergenceWarning: Objective did not converge. You might want to increase the number of iterations. Duality gap: 1185140.881346222, tolerance: 498.3715230769231\n",
      "  model = cd_fast.enet_coordinate_descent_gram(\n",
      "D:\\Anaconda\\Lib\\site-packages\\sklearn\\linear_model\\_coordinate_descent.py:617: UserWarning: Coordinate descent without L1 regularization may lead to unexpected results and is discouraged. Set l1_ratio > 0 to add L1 regularization.\n",
      "  model = cd_fast.enet_coordinate_descent_gram(\n",
      "D:\\Anaconda\\Lib\\site-packages\\sklearn\\linear_model\\_coordinate_descent.py:617: ConvergenceWarning: Objective did not converge. You might want to increase the number of iterations. Duality gap: 1179054.0307111898, tolerance: 498.3715230769231\n",
      "  model = cd_fast.enet_coordinate_descent_gram(\n",
      "D:\\Anaconda\\Lib\\site-packages\\sklearn\\linear_model\\_coordinate_descent.py:617: UserWarning: Coordinate descent without L1 regularization may lead to unexpected results and is discouraged. Set l1_ratio > 0 to add L1 regularization.\n",
      "  model = cd_fast.enet_coordinate_descent_gram(\n",
      "D:\\Anaconda\\Lib\\site-packages\\sklearn\\linear_model\\_coordinate_descent.py:617: ConvergenceWarning: Objective did not converge. You might want to increase the number of iterations. Duality gap: 1172878.4935175364, tolerance: 498.3715230769231\n",
      "  model = cd_fast.enet_coordinate_descent_gram(\n",
      "D:\\Anaconda\\Lib\\site-packages\\sklearn\\linear_model\\_coordinate_descent.py:617: UserWarning: Coordinate descent without L1 regularization may lead to unexpected results and is discouraged. Set l1_ratio > 0 to add L1 regularization.\n",
      "  model = cd_fast.enet_coordinate_descent_gram(\n",
      "D:\\Anaconda\\Lib\\site-packages\\sklearn\\linear_model\\_coordinate_descent.py:617: ConvergenceWarning: Objective did not converge. You might want to increase the number of iterations. Duality gap: 1166612.1845737658, tolerance: 498.3715230769231\n",
      "  model = cd_fast.enet_coordinate_descent_gram(\n",
      "D:\\Anaconda\\Lib\\site-packages\\sklearn\\linear_model\\_coordinate_descent.py:617: UserWarning: Coordinate descent without L1 regularization may lead to unexpected results and is discouraged. Set l1_ratio > 0 to add L1 regularization.\n",
      "  model = cd_fast.enet_coordinate_descent_gram(\n",
      "D:\\Anaconda\\Lib\\site-packages\\sklearn\\linear_model\\_coordinate_descent.py:617: ConvergenceWarning: Objective did not converge. You might want to increase the number of iterations. Duality gap: 1160252.9449954908, tolerance: 498.3715230769231\n",
      "  model = cd_fast.enet_coordinate_descent_gram(\n",
      "D:\\Anaconda\\Lib\\site-packages\\sklearn\\linear_model\\_coordinate_descent.py:617: UserWarning: Coordinate descent without L1 regularization may lead to unexpected results and is discouraged. Set l1_ratio > 0 to add L1 regularization.\n",
      "  model = cd_fast.enet_coordinate_descent_gram(\n",
      "D:\\Anaconda\\Lib\\site-packages\\sklearn\\linear_model\\_coordinate_descent.py:617: ConvergenceWarning: Objective did not converge. You might want to increase the number of iterations. Duality gap: 1153798.5383477386, tolerance: 498.3715230769231\n",
      "  model = cd_fast.enet_coordinate_descent_gram(\n",
      "D:\\Anaconda\\Lib\\site-packages\\sklearn\\linear_model\\_coordinate_descent.py:617: UserWarning: Coordinate descent without L1 regularization may lead to unexpected results and is discouraged. Set l1_ratio > 0 to add L1 regularization.\n",
      "  model = cd_fast.enet_coordinate_descent_gram(\n",
      "D:\\Anaconda\\Lib\\site-packages\\sklearn\\linear_model\\_coordinate_descent.py:617: ConvergenceWarning: Objective did not converge. You might want to increase the number of iterations. Duality gap: 1147246.646496468, tolerance: 498.3715230769231\n",
      "  model = cd_fast.enet_coordinate_descent_gram(\n",
      "D:\\Anaconda\\Lib\\site-packages\\sklearn\\linear_model\\_coordinate_descent.py:617: UserWarning: Coordinate descent without L1 regularization may lead to unexpected results and is discouraged. Set l1_ratio > 0 to add L1 regularization.\n",
      "  model = cd_fast.enet_coordinate_descent_gram(\n",
      "D:\\Anaconda\\Lib\\site-packages\\sklearn\\linear_model\\_coordinate_descent.py:617: ConvergenceWarning: Objective did not converge. You might want to increase the number of iterations. Duality gap: 1140594.865139681, tolerance: 498.3715230769231\n",
      "  model = cd_fast.enet_coordinate_descent_gram(\n",
      "D:\\Anaconda\\Lib\\site-packages\\sklearn\\linear_model\\_coordinate_descent.py:617: UserWarning: Coordinate descent without L1 regularization may lead to unexpected results and is discouraged. Set l1_ratio > 0 to add L1 regularization.\n",
      "  model = cd_fast.enet_coordinate_descent_gram(\n",
      "D:\\Anaconda\\Lib\\site-packages\\sklearn\\linear_model\\_coordinate_descent.py:617: ConvergenceWarning: Objective did not converge. You might want to increase the number of iterations. Duality gap: 1133840.698984742, tolerance: 498.3715230769231\n",
      "  model = cd_fast.enet_coordinate_descent_gram(\n",
      "D:\\Anaconda\\Lib\\site-packages\\sklearn\\linear_model\\_coordinate_descent.py:617: UserWarning: Coordinate descent without L1 regularization may lead to unexpected results and is discouraged. Set l1_ratio > 0 to add L1 regularization.\n",
      "  model = cd_fast.enet_coordinate_descent_gram(\n",
      "D:\\Anaconda\\Lib\\site-packages\\sklearn\\linear_model\\_coordinate_descent.py:617: ConvergenceWarning: Objective did not converge. You might want to increase the number of iterations. Duality gap: 1126981.5565341397, tolerance: 498.3715230769231\n",
      "  model = cd_fast.enet_coordinate_descent_gram(\n",
      "D:\\Anaconda\\Lib\\site-packages\\sklearn\\linear_model\\_coordinate_descent.py:617: UserWarning: Coordinate descent without L1 regularization may lead to unexpected results and is discouraged. Set l1_ratio > 0 to add L1 regularization.\n",
      "  model = cd_fast.enet_coordinate_descent_gram(\n",
      "D:\\Anaconda\\Lib\\site-packages\\sklearn\\linear_model\\_coordinate_descent.py:617: ConvergenceWarning: Objective did not converge. You might want to increase the number of iterations. Duality gap: 1120014.7444368945, tolerance: 498.3715230769231\n",
      "  model = cd_fast.enet_coordinate_descent_gram(\n",
      "D:\\Anaconda\\Lib\\site-packages\\sklearn\\linear_model\\_coordinate_descent.py:617: UserWarning: Coordinate descent without L1 regularization may lead to unexpected results and is discouraged. Set l1_ratio > 0 to add L1 regularization.\n",
      "  model = cd_fast.enet_coordinate_descent_gram(\n",
      "D:\\Anaconda\\Lib\\site-packages\\sklearn\\linear_model\\_coordinate_descent.py:617: ConvergenceWarning: Objective did not converge. You might want to increase the number of iterations. Duality gap: 1112937.4613569668, tolerance: 498.3715230769231\n",
      "  model = cd_fast.enet_coordinate_descent_gram(\n",
      "D:\\Anaconda\\Lib\\site-packages\\sklearn\\linear_model\\_coordinate_descent.py:617: UserWarning: Coordinate descent without L1 regularization may lead to unexpected results and is discouraged. Set l1_ratio > 0 to add L1 regularization.\n",
      "  model = cd_fast.enet_coordinate_descent_gram(\n",
      "D:\\Anaconda\\Lib\\site-packages\\sklearn\\linear_model\\_coordinate_descent.py:617: ConvergenceWarning: Objective did not converge. You might want to increase the number of iterations. Duality gap: 1105746.7913032249, tolerance: 498.3715230769231\n",
      "  model = cd_fast.enet_coordinate_descent_gram(\n",
      "D:\\Anaconda\\Lib\\site-packages\\sklearn\\linear_model\\_coordinate_descent.py:617: UserWarning: Coordinate descent without L1 regularization may lead to unexpected results and is discouraged. Set l1_ratio > 0 to add L1 regularization.\n",
      "  model = cd_fast.enet_coordinate_descent_gram(\n",
      "D:\\Anaconda\\Lib\\site-packages\\sklearn\\linear_model\\_coordinate_descent.py:617: ConvergenceWarning: Objective did not converge. You might want to increase the number of iterations. Duality gap: 1098439.6963576323, tolerance: 498.3715230769231\n",
      "  model = cd_fast.enet_coordinate_descent_gram(\n",
      "D:\\Anaconda\\Lib\\site-packages\\sklearn\\linear_model\\_coordinate_descent.py:617: UserWarning: Coordinate descent without L1 regularization may lead to unexpected results and is discouraged. Set l1_ratio > 0 to add L1 regularization.\n",
      "  model = cd_fast.enet_coordinate_descent_gram(\n",
      "D:\\Anaconda\\Lib\\site-packages\\sklearn\\linear_model\\_coordinate_descent.py:617: ConvergenceWarning: Objective did not converge. You might want to increase the number of iterations. Duality gap: 1091013.0087290865, tolerance: 498.3715230769231\n",
      "  model = cd_fast.enet_coordinate_descent_gram(\n",
      "D:\\Anaconda\\Lib\\site-packages\\sklearn\\linear_model\\_coordinate_descent.py:617: UserWarning: Coordinate descent without L1 regularization may lead to unexpected results and is discouraged. Set l1_ratio > 0 to add L1 regularization.\n",
      "  model = cd_fast.enet_coordinate_descent_gram(\n",
      "D:\\Anaconda\\Lib\\site-packages\\sklearn\\linear_model\\_coordinate_descent.py:617: ConvergenceWarning: Objective did not converge. You might want to increase the number of iterations. Duality gap: 1083463.422049467, tolerance: 498.3715230769231\n",
      "  model = cd_fast.enet_coordinate_descent_gram(\n",
      "D:\\Anaconda\\Lib\\site-packages\\sklearn\\linear_model\\_coordinate_descent.py:617: UserWarning: Coordinate descent without L1 regularization may lead to unexpected results and is discouraged. Set l1_ratio > 0 to add L1 regularization.\n",
      "  model = cd_fast.enet_coordinate_descent_gram(\n",
      "D:\\Anaconda\\Lib\\site-packages\\sklearn\\linear_model\\_coordinate_descent.py:617: ConvergenceWarning: Objective did not converge. You might want to increase the number of iterations. Duality gap: 1075787.4818157523, tolerance: 498.3715230769231\n",
      "  model = cd_fast.enet_coordinate_descent_gram(\n",
      "D:\\Anaconda\\Lib\\site-packages\\sklearn\\linear_model\\_coordinate_descent.py:617: UserWarning: Coordinate descent without L1 regularization may lead to unexpected results and is discouraged. Set l1_ratio > 0 to add L1 regularization.\n",
      "  model = cd_fast.enet_coordinate_descent_gram(\n",
      "D:\\Anaconda\\Lib\\site-packages\\sklearn\\linear_model\\_coordinate_descent.py:617: ConvergenceWarning: Objective did not converge. You might want to increase the number of iterations. Duality gap: 1067981.5748670325, tolerance: 498.3715230769231\n",
      "  model = cd_fast.enet_coordinate_descent_gram(\n",
      "D:\\Anaconda\\Lib\\site-packages\\sklearn\\linear_model\\_coordinate_descent.py:617: UserWarning: Coordinate descent without L1 regularization may lead to unexpected results and is discouraged. Set l1_ratio > 0 to add L1 regularization.\n",
      "  model = cd_fast.enet_coordinate_descent_gram(\n",
      "D:\\Anaconda\\Lib\\site-packages\\sklearn\\linear_model\\_coordinate_descent.py:617: ConvergenceWarning: Objective did not converge. You might want to increase the number of iterations. Duality gap: 1060041.9177674074, tolerance: 498.3715230769231\n",
      "  model = cd_fast.enet_coordinate_descent_gram(\n",
      "D:\\Anaconda\\Lib\\site-packages\\sklearn\\linear_model\\_coordinate_descent.py:617: UserWarning: Coordinate descent without L1 regularization may lead to unexpected results and is discouraged. Set l1_ratio > 0 to add L1 regularization.\n",
      "  model = cd_fast.enet_coordinate_descent_gram(\n",
      "D:\\Anaconda\\Lib\\site-packages\\sklearn\\linear_model\\_coordinate_descent.py:617: ConvergenceWarning: Objective did not converge. You might want to increase the number of iterations. Duality gap: 1051964.5439447137, tolerance: 498.3715230769231\n",
      "  model = cd_fast.enet_coordinate_descent_gram(\n",
      "D:\\Anaconda\\Lib\\site-packages\\sklearn\\linear_model\\_coordinate_descent.py:617: UserWarning: Coordinate descent without L1 regularization may lead to unexpected results and is discouraged. Set l1_ratio > 0 to add L1 regularization.\n",
      "  model = cd_fast.enet_coordinate_descent_gram(\n",
      "D:\\Anaconda\\Lib\\site-packages\\sklearn\\linear_model\\_coordinate_descent.py:617: ConvergenceWarning: Objective did not converge. You might want to increase the number of iterations. Duality gap: 1043745.2894097477, tolerance: 498.3715230769231\n",
      "  model = cd_fast.enet_coordinate_descent_gram(\n",
      "D:\\Anaconda\\Lib\\site-packages\\sklearn\\linear_model\\_coordinate_descent.py:617: UserWarning: Coordinate descent without L1 regularization may lead to unexpected results and is discouraged. Set l1_ratio > 0 to add L1 regularization.\n",
      "  model = cd_fast.enet_coordinate_descent_gram(\n",
      "D:\\Anaconda\\Lib\\site-packages\\sklearn\\linear_model\\_coordinate_descent.py:617: ConvergenceWarning: Objective did not converge. You might want to increase the number of iterations. Duality gap: 1035379.7768505613, tolerance: 498.3715230769231\n",
      "  model = cd_fast.enet_coordinate_descent_gram(\n",
      "D:\\Anaconda\\Lib\\site-packages\\sklearn\\linear_model\\_coordinate_descent.py:617: UserWarning: Coordinate descent without L1 regularization may lead to unexpected results and is discouraged. Set l1_ratio > 0 to add L1 regularization.\n",
      "  model = cd_fast.enet_coordinate_descent_gram(\n",
      "D:\\Anaconda\\Lib\\site-packages\\sklearn\\linear_model\\_coordinate_descent.py:617: ConvergenceWarning: Objective did not converge. You might want to increase the number of iterations. Duality gap: 1026863.3978601631, tolerance: 498.3715230769231\n",
      "  model = cd_fast.enet_coordinate_descent_gram(\n",
      "D:\\Anaconda\\Lib\\site-packages\\sklearn\\linear_model\\_coordinate_descent.py:617: UserWarning: Coordinate descent without L1 regularization may lead to unexpected results and is discouraged. Set l1_ratio > 0 to add L1 regularization.\n",
      "  model = cd_fast.enet_coordinate_descent_gram(\n",
      "D:\\Anaconda\\Lib\\site-packages\\sklearn\\linear_model\\_coordinate_descent.py:617: ConvergenceWarning: Objective did not converge. You might want to increase the number of iterations. Duality gap: 1018191.2930122914, tolerance: 498.3715230769231\n",
      "  model = cd_fast.enet_coordinate_descent_gram(\n",
      "D:\\Anaconda\\Lib\\site-packages\\sklearn\\linear_model\\_coordinate_descent.py:617: UserWarning: Coordinate descent without L1 regularization may lead to unexpected results and is discouraged. Set l1_ratio > 0 to add L1 regularization.\n",
      "  model = cd_fast.enet_coordinate_descent_gram(\n",
      "D:\\Anaconda\\Lib\\site-packages\\sklearn\\linear_model\\_coordinate_descent.py:617: ConvergenceWarning: Objective did not converge. You might want to increase the number of iterations. Duality gap: 1009358.3294470101, tolerance: 498.3715230769231\n",
      "  model = cd_fast.enet_coordinate_descent_gram(\n",
      "D:\\Anaconda\\Lib\\site-packages\\sklearn\\linear_model\\_coordinate_descent.py:617: UserWarning: Coordinate descent without L1 regularization may lead to unexpected results and is discouraged. Set l1_ratio > 0 to add L1 regularization.\n",
      "  model = cd_fast.enet_coordinate_descent_gram(\n",
      "D:\\Anaconda\\Lib\\site-packages\\sklearn\\linear_model\\_coordinate_descent.py:617: ConvergenceWarning: Objective did not converge. You might want to increase the number of iterations. Duality gap: 1000359.0755634825, tolerance: 498.3715230769231\n",
      "  model = cd_fast.enet_coordinate_descent_gram(\n",
      "D:\\Anaconda\\Lib\\site-packages\\sklearn\\linear_model\\_coordinate_descent.py:617: UserWarning: Coordinate descent without L1 regularization may lead to unexpected results and is discouraged. Set l1_ratio > 0 to add L1 regularization.\n",
      "  model = cd_fast.enet_coordinate_descent_gram(\n",
      "D:\\Anaconda\\Lib\\site-packages\\sklearn\\linear_model\\_coordinate_descent.py:617: ConvergenceWarning: Objective did not converge. You might want to increase the number of iterations. Duality gap: 991187.7723386703, tolerance: 498.3715230769231\n",
      "  model = cd_fast.enet_coordinate_descent_gram(\n",
      "D:\\Anaconda\\Lib\\site-packages\\sklearn\\linear_model\\_coordinate_descent.py:617: UserWarning: Coordinate descent without L1 regularization may lead to unexpected results and is discouraged. Set l1_ratio > 0 to add L1 regularization.\n",
      "  model = cd_fast.enet_coordinate_descent_gram(\n",
      "D:\\Anaconda\\Lib\\site-packages\\sklearn\\linear_model\\_coordinate_descent.py:617: ConvergenceWarning: Objective did not converge. You might want to increase the number of iterations. Duality gap: 981838.3006940063, tolerance: 498.3715230769231\n",
      "  model = cd_fast.enet_coordinate_descent_gram(\n",
      "D:\\Anaconda\\Lib\\site-packages\\sklearn\\linear_model\\_coordinate_descent.py:617: UserWarning: Coordinate descent without L1 regularization may lead to unexpected results and is discouraged. Set l1_ratio > 0 to add L1 regularization.\n",
      "  model = cd_fast.enet_coordinate_descent_gram(\n",
      "D:\\Anaconda\\Lib\\site-packages\\sklearn\\linear_model\\_coordinate_descent.py:617: ConvergenceWarning: Objective did not converge. You might want to increase the number of iterations. Duality gap: 972304.144212967, tolerance: 498.3715230769231\n",
      "  model = cd_fast.enet_coordinate_descent_gram(\n",
      "D:\\Anaconda\\Lib\\site-packages\\sklearn\\linear_model\\_coordinate_descent.py:617: UserWarning: Coordinate descent without L1 regularization may lead to unexpected results and is discouraged. Set l1_ratio > 0 to add L1 regularization.\n",
      "  model = cd_fast.enet_coordinate_descent_gram(\n",
      "D:\\Anaconda\\Lib\\site-packages\\sklearn\\linear_model\\_coordinate_descent.py:617: ConvergenceWarning: Objective did not converge. You might want to increase the number of iterations. Duality gap: 962578.3463644879, tolerance: 498.3715230769231\n",
      "  model = cd_fast.enet_coordinate_descent_gram(\n",
      "D:\\Anaconda\\Lib\\site-packages\\sklearn\\linear_model\\_coordinate_descent.py:617: UserWarning: Coordinate descent without L1 regularization may lead to unexpected results and is discouraged. Set l1_ratio > 0 to add L1 regularization.\n",
      "  model = cd_fast.enet_coordinate_descent_gram(\n",
      "D:\\Anaconda\\Lib\\site-packages\\sklearn\\linear_model\\_coordinate_descent.py:617: ConvergenceWarning: Objective did not converge. You might want to increase the number of iterations. Duality gap: 952653.4612027464, tolerance: 498.3715230769231\n",
      "  model = cd_fast.enet_coordinate_descent_gram(\n",
      "D:\\Anaconda\\Lib\\site-packages\\sklearn\\linear_model\\_coordinate_descent.py:617: UserWarning: Coordinate descent without L1 regularization may lead to unexpected results and is discouraged. Set l1_ratio > 0 to add L1 regularization.\n",
      "  model = cd_fast.enet_coordinate_descent_gram(\n",
      "D:\\Anaconda\\Lib\\site-packages\\sklearn\\linear_model\\_coordinate_descent.py:617: ConvergenceWarning: Objective did not converge. You might want to increase the number of iterations. Duality gap: 942521.4962823943, tolerance: 498.3715230769231\n",
      "  model = cd_fast.enet_coordinate_descent_gram(\n",
      "D:\\Anaconda\\Lib\\site-packages\\sklearn\\linear_model\\_coordinate_descent.py:617: UserWarning: Coordinate descent without L1 regularization may lead to unexpected results and is discouraged. Set l1_ratio > 0 to add L1 regularization.\n",
      "  model = cd_fast.enet_coordinate_descent_gram(\n",
      "D:\\Anaconda\\Lib\\site-packages\\sklearn\\linear_model\\_coordinate_descent.py:617: ConvergenceWarning: Objective did not converge. You might want to increase the number of iterations. Duality gap: 932173.8462362721, tolerance: 498.3715230769231\n",
      "  model = cd_fast.enet_coordinate_descent_gram(\n",
      "D:\\Anaconda\\Lib\\site-packages\\sklearn\\linear_model\\_coordinate_descent.py:617: UserWarning: Coordinate descent without L1 regularization may lead to unexpected results and is discouraged. Set l1_ratio > 0 to add L1 regularization.\n",
      "  model = cd_fast.enet_coordinate_descent_gram(\n",
      "D:\\Anaconda\\Lib\\site-packages\\sklearn\\linear_model\\_coordinate_descent.py:617: ConvergenceWarning: Objective did not converge. You might want to increase the number of iterations. Duality gap: 921601.2150917645, tolerance: 498.3715230769231\n",
      "  model = cd_fast.enet_coordinate_descent_gram(\n",
      "D:\\Anaconda\\Lib\\site-packages\\sklearn\\linear_model\\_coordinate_descent.py:617: UserWarning: Coordinate descent without L1 regularization may lead to unexpected results and is discouraged. Set l1_ratio > 0 to add L1 regularization.\n",
      "  model = cd_fast.enet_coordinate_descent_gram(\n",
      "D:\\Anaconda\\Lib\\site-packages\\sklearn\\linear_model\\_coordinate_descent.py:617: ConvergenceWarning: Objective did not converge. You might want to increase the number of iterations. Duality gap: 910793.5249277048, tolerance: 498.3715230769231\n",
      "  model = cd_fast.enet_coordinate_descent_gram(\n",
      "D:\\Anaconda\\Lib\\site-packages\\sklearn\\linear_model\\_coordinate_descent.py:617: UserWarning: Coordinate descent without L1 regularization may lead to unexpected results and is discouraged. Set l1_ratio > 0 to add L1 regularization.\n",
      "  model = cd_fast.enet_coordinate_descent_gram(\n",
      "D:\\Anaconda\\Lib\\site-packages\\sklearn\\linear_model\\_coordinate_descent.py:617: ConvergenceWarning: Objective did not converge. You might want to increase the number of iterations. Duality gap: 899739.807863316, tolerance: 498.3715230769231\n",
      "  model = cd_fast.enet_coordinate_descent_gram(\n",
      "D:\\Anaconda\\Lib\\site-packages\\sklearn\\linear_model\\_coordinate_descent.py:617: UserWarning: Coordinate descent without L1 regularization may lead to unexpected results and is discouraged. Set l1_ratio > 0 to add L1 regularization.\n",
      "  model = cd_fast.enet_coordinate_descent_gram(\n",
      "D:\\Anaconda\\Lib\\site-packages\\sklearn\\linear_model\\_coordinate_descent.py:617: ConvergenceWarning: Objective did not converge. You might want to increase the number of iterations. Duality gap: 888428.0775786595, tolerance: 498.3715230769231\n",
      "  model = cd_fast.enet_coordinate_descent_gram(\n",
      "D:\\Anaconda\\Lib\\site-packages\\sklearn\\linear_model\\_coordinate_descent.py:617: UserWarning: Coordinate descent without L1 regularization may lead to unexpected results and is discouraged. Set l1_ratio > 0 to add L1 regularization.\n",
      "  model = cd_fast.enet_coordinate_descent_gram(\n",
      "D:\\Anaconda\\Lib\\site-packages\\sklearn\\linear_model\\_coordinate_descent.py:617: ConvergenceWarning: Objective did not converge. You might want to increase the number of iterations. Duality gap: 876845.1755309547, tolerance: 498.3715230769231\n",
      "  model = cd_fast.enet_coordinate_descent_gram(\n",
      "D:\\Anaconda\\Lib\\site-packages\\sklearn\\linear_model\\_coordinate_descent.py:617: UserWarning: Coordinate descent without L1 regularization may lead to unexpected results and is discouraged. Set l1_ratio > 0 to add L1 regularization.\n",
      "  model = cd_fast.enet_coordinate_descent_gram(\n",
      "D:\\Anaconda\\Lib\\site-packages\\sklearn\\linear_model\\_coordinate_descent.py:617: ConvergenceWarning: Objective did not converge. You might want to increase the number of iterations. Duality gap: 864976.5856662494, tolerance: 498.3715230769231\n",
      "  model = cd_fast.enet_coordinate_descent_gram(\n",
      "D:\\Anaconda\\Lib\\site-packages\\sklearn\\linear_model\\_coordinate_descent.py:617: UserWarning: Coordinate descent without L1 regularization may lead to unexpected results and is discouraged. Set l1_ratio > 0 to add L1 regularization.\n",
      "  model = cd_fast.enet_coordinate_descent_gram(\n",
      "D:\\Anaconda\\Lib\\site-packages\\sklearn\\linear_model\\_coordinate_descent.py:617: ConvergenceWarning: Objective did not converge. You might want to increase the number of iterations. Duality gap: 852806.2096108246, tolerance: 498.3715230769231\n",
      "  model = cd_fast.enet_coordinate_descent_gram(\n",
      "D:\\Anaconda\\Lib\\site-packages\\sklearn\\linear_model\\_coordinate_descent.py:617: UserWarning: Coordinate descent without L1 regularization may lead to unexpected results and is discouraged. Set l1_ratio > 0 to add L1 regularization.\n",
      "  model = cd_fast.enet_coordinate_descent_gram(\n",
      "D:\\Anaconda\\Lib\\site-packages\\sklearn\\linear_model\\_coordinate_descent.py:617: ConvergenceWarning: Objective did not converge. You might want to increase the number of iterations. Duality gap: 840316.0918895449, tolerance: 498.3715230769231\n",
      "  model = cd_fast.enet_coordinate_descent_gram(\n",
      "D:\\Anaconda\\Lib\\site-packages\\sklearn\\linear_model\\_coordinate_descent.py:617: UserWarning: Coordinate descent without L1 regularization may lead to unexpected results and is discouraged. Set l1_ratio > 0 to add L1 regularization.\n",
      "  model = cd_fast.enet_coordinate_descent_gram(\n",
      "D:\\Anaconda\\Lib\\site-packages\\sklearn\\linear_model\\_coordinate_descent.py:617: ConvergenceWarning: Objective did not converge. You might want to increase the number of iterations. Duality gap: 827486.0814127313, tolerance: 498.3715230769231\n",
      "  model = cd_fast.enet_coordinate_descent_gram(\n",
      "D:\\Anaconda\\Lib\\site-packages\\sklearn\\linear_model\\_coordinate_descent.py:617: UserWarning: Coordinate descent without L1 regularization may lead to unexpected results and is discouraged. Set l1_ratio > 0 to add L1 regularization.\n",
      "  model = cd_fast.enet_coordinate_descent_gram(\n",
      "D:\\Anaconda\\Lib\\site-packages\\sklearn\\linear_model\\_coordinate_descent.py:617: ConvergenceWarning: Objective did not converge. You might want to increase the number of iterations. Duality gap: 814293.4109410583, tolerance: 498.3715230769231\n",
      "  model = cd_fast.enet_coordinate_descent_gram(\n",
      "D:\\Anaconda\\Lib\\site-packages\\sklearn\\linear_model\\_coordinate_descent.py:617: UserWarning: Coordinate descent without L1 regularization may lead to unexpected results and is discouraged. Set l1_ratio > 0 to add L1 regularization.\n",
      "  model = cd_fast.enet_coordinate_descent_gram(\n",
      "D:\\Anaconda\\Lib\\site-packages\\sklearn\\linear_model\\_coordinate_descent.py:617: ConvergenceWarning: Objective did not converge. You might want to increase the number of iterations. Duality gap: 800712.1699514012, tolerance: 498.3715230769231\n",
      "  model = cd_fast.enet_coordinate_descent_gram(\n",
      "D:\\Anaconda\\Lib\\site-packages\\sklearn\\linear_model\\_coordinate_descent.py:617: UserWarning: Coordinate descent without L1 regularization may lead to unexpected results and is discouraged. Set l1_ratio > 0 to add L1 regularization.\n",
      "  model = cd_fast.enet_coordinate_descent_gram(\n",
      "D:\\Anaconda\\Lib\\site-packages\\sklearn\\linear_model\\_coordinate_descent.py:617: ConvergenceWarning: Objective did not converge. You might want to increase the number of iterations. Duality gap: 786712.6374968558, tolerance: 498.3715230769231\n",
      "  model = cd_fast.enet_coordinate_descent_gram(\n",
      "D:\\Anaconda\\Lib\\site-packages\\sklearn\\linear_model\\_coordinate_descent.py:617: UserWarning: Coordinate descent without L1 regularization may lead to unexpected results and is discouraged. Set l1_ratio > 0 to add L1 regularization.\n",
      "  model = cd_fast.enet_coordinate_descent_gram(\n",
      "D:\\Anaconda\\Lib\\site-packages\\sklearn\\linear_model\\_coordinate_descent.py:617: ConvergenceWarning: Objective did not converge. You might want to increase the number of iterations. Duality gap: 772260.4290835359, tolerance: 498.3715230769231\n",
      "  model = cd_fast.enet_coordinate_descent_gram(\n",
      "D:\\Anaconda\\Lib\\site-packages\\sklearn\\linear_model\\_coordinate_descent.py:617: UserWarning: Coordinate descent without L1 regularization may lead to unexpected results and is discouraged. Set l1_ratio > 0 to add L1 regularization.\n",
      "  model = cd_fast.enet_coordinate_descent_gram(\n",
      "D:\\Anaconda\\Lib\\site-packages\\sklearn\\linear_model\\_coordinate_descent.py:617: ConvergenceWarning: Objective did not converge. You might want to increase the number of iterations. Duality gap: 757315.393426606, tolerance: 498.3715230769231\n",
      "  model = cd_fast.enet_coordinate_descent_gram(\n",
      "D:\\Anaconda\\Lib\\site-packages\\sklearn\\linear_model\\_coordinate_descent.py:617: UserWarning: Coordinate descent without L1 regularization may lead to unexpected results and is discouraged. Set l1_ratio > 0 to add L1 regularization.\n",
      "  model = cd_fast.enet_coordinate_descent_gram(\n",
      "D:\\Anaconda\\Lib\\site-packages\\sklearn\\linear_model\\_coordinate_descent.py:617: ConvergenceWarning: Objective did not converge. You might want to increase the number of iterations. Duality gap: 741830.1682913944, tolerance: 498.3715230769231\n",
      "  model = cd_fast.enet_coordinate_descent_gram(\n",
      "D:\\Anaconda\\Lib\\site-packages\\sklearn\\linear_model\\_coordinate_descent.py:617: UserWarning: Coordinate descent without L1 regularization may lead to unexpected results and is discouraged. Set l1_ratio > 0 to add L1 regularization.\n",
      "  model = cd_fast.enet_coordinate_descent_gram(\n",
      "D:\\Anaconda\\Lib\\site-packages\\sklearn\\linear_model\\_coordinate_descent.py:617: ConvergenceWarning: Objective did not converge. You might want to increase the number of iterations. Duality gap: 725748.2648110084, tolerance: 498.3715230769231\n",
      "  model = cd_fast.enet_coordinate_descent_gram(\n",
      "D:\\Anaconda\\Lib\\site-packages\\sklearn\\linear_model\\_coordinate_descent.py:617: UserWarning: Coordinate descent without L1 regularization may lead to unexpected results and is discouraged. Set l1_ratio > 0 to add L1 regularization.\n",
      "  model = cd_fast.enet_coordinate_descent_gram(\n",
      "D:\\Anaconda\\Lib\\site-packages\\sklearn\\linear_model\\_coordinate_descent.py:617: ConvergenceWarning: Objective did not converge. You might want to increase the number of iterations. Duality gap: 709001.4890596152, tolerance: 498.3715230769231\n",
      "  model = cd_fast.enet_coordinate_descent_gram(\n",
      "D:\\Anaconda\\Lib\\site-packages\\sklearn\\linear_model\\_coordinate_descent.py:617: UserWarning: Coordinate descent without L1 regularization may lead to unexpected results and is discouraged. Set l1_ratio > 0 to add L1 regularization.\n",
      "  model = cd_fast.enet_coordinate_descent_gram(\n",
      "D:\\Anaconda\\Lib\\site-packages\\sklearn\\linear_model\\_coordinate_descent.py:617: ConvergenceWarning: Objective did not converge. You might want to increase the number of iterations. Duality gap: 691506.4154252349, tolerance: 498.3715230769231\n",
      "  model = cd_fast.enet_coordinate_descent_gram(\n",
      "D:\\Anaconda\\Lib\\site-packages\\sklearn\\linear_model\\_coordinate_descent.py:617: UserWarning: Coordinate descent without L1 regularization may lead to unexpected results and is discouraged. Set l1_ratio > 0 to add L1 regularization.\n",
      "  model = cd_fast.enet_coordinate_descent_gram(\n"
     ]
    },
    {
     "name": "stderr",
     "output_type": "stream",
     "text": [
      "D:\\Anaconda\\Lib\\site-packages\\sklearn\\linear_model\\_coordinate_descent.py:617: ConvergenceWarning: Objective did not converge. You might want to increase the number of iterations. Duality gap: 673159.476361343, tolerance: 498.3715230769231\n",
      "  model = cd_fast.enet_coordinate_descent_gram(\n",
      "D:\\Anaconda\\Lib\\site-packages\\sklearn\\linear_model\\_coordinate_descent.py:617: UserWarning: Coordinate descent without L1 regularization may lead to unexpected results and is discouraged. Set l1_ratio > 0 to add L1 regularization.\n",
      "  model = cd_fast.enet_coordinate_descent_gram(\n",
      "D:\\Anaconda\\Lib\\site-packages\\sklearn\\linear_model\\_coordinate_descent.py:617: ConvergenceWarning: Objective did not converge. You might want to increase the number of iterations. Duality gap: 653829.9881574468, tolerance: 498.3715230769231\n",
      "  model = cd_fast.enet_coordinate_descent_gram(\n",
      "D:\\Anaconda\\Lib\\site-packages\\sklearn\\linear_model\\_coordinate_descent.py:617: UserWarning: Coordinate descent without L1 regularization may lead to unexpected results and is discouraged. Set l1_ratio > 0 to add L1 regularization.\n",
      "  model = cd_fast.enet_coordinate_descent_gram(\n",
      "D:\\Anaconda\\Lib\\site-packages\\sklearn\\linear_model\\_coordinate_descent.py:617: ConvergenceWarning: Objective did not converge. You might want to increase the number of iterations. Duality gap: 633350.0204373673, tolerance: 498.3715230769231\n",
      "  model = cd_fast.enet_coordinate_descent_gram(\n",
      "D:\\Anaconda\\Lib\\site-packages\\sklearn\\linear_model\\_coordinate_descent.py:617: UserWarning: Coordinate descent without L1 regularization may lead to unexpected results and is discouraged. Set l1_ratio > 0 to add L1 regularization.\n",
      "  model = cd_fast.enet_coordinate_descent_gram(\n",
      "D:\\Anaconda\\Lib\\site-packages\\sklearn\\linear_model\\_coordinate_descent.py:617: ConvergenceWarning: Objective did not converge. You might want to increase the number of iterations. Duality gap: 611499.3009520473, tolerance: 498.3715230769231\n",
      "  model = cd_fast.enet_coordinate_descent_gram(\n",
      "D:\\Anaconda\\Lib\\site-packages\\sklearn\\linear_model\\_coordinate_descent.py:617: UserWarning: Coordinate descent without L1 regularization may lead to unexpected results and is discouraged. Set l1_ratio > 0 to add L1 regularization.\n",
      "  model = cd_fast.enet_coordinate_descent_gram(\n",
      "D:\\Anaconda\\Lib\\site-packages\\sklearn\\linear_model\\_coordinate_descent.py:617: ConvergenceWarning: Objective did not converge. You might want to increase the number of iterations. Duality gap: 587982.0538862827, tolerance: 498.3715230769231\n",
      "  model = cd_fast.enet_coordinate_descent_gram(\n",
      "D:\\Anaconda\\Lib\\site-packages\\sklearn\\linear_model\\_coordinate_descent.py:617: UserWarning: Coordinate descent without L1 regularization may lead to unexpected results and is discouraged. Set l1_ratio > 0 to add L1 regularization.\n",
      "  model = cd_fast.enet_coordinate_descent_gram(\n",
      "D:\\Anaconda\\Lib\\site-packages\\sklearn\\linear_model\\_coordinate_descent.py:617: ConvergenceWarning: Objective did not converge. You might want to increase the number of iterations. Duality gap: 562390.2279860387, tolerance: 498.3715230769231\n",
      "  model = cd_fast.enet_coordinate_descent_gram(\n",
      "D:\\Anaconda\\Lib\\site-packages\\sklearn\\linear_model\\_coordinate_descent.py:617: UserWarning: Coordinate descent without L1 regularization may lead to unexpected results and is discouraged. Set l1_ratio > 0 to add L1 regularization.\n",
      "  model = cd_fast.enet_coordinate_descent_gram(\n",
      "D:\\Anaconda\\Lib\\site-packages\\sklearn\\linear_model\\_coordinate_descent.py:617: ConvergenceWarning: Objective did not converge. You might want to increase the number of iterations. Duality gap: 534142.7088674972, tolerance: 498.3715230769231\n",
      "  model = cd_fast.enet_coordinate_descent_gram(\n",
      "D:\\Anaconda\\Lib\\site-packages\\sklearn\\linear_model\\_coordinate_descent.py:617: UserWarning: Coordinate descent without L1 regularization may lead to unexpected results and is discouraged. Set l1_ratio > 0 to add L1 regularization.\n",
      "  model = cd_fast.enet_coordinate_descent_gram(\n",
      "D:\\Anaconda\\Lib\\site-packages\\sklearn\\linear_model\\_coordinate_descent.py:617: ConvergenceWarning: Objective did not converge. You might want to increase the number of iterations. Duality gap: 502379.76739017665, tolerance: 498.3715230769231\n",
      "  model = cd_fast.enet_coordinate_descent_gram(\n",
      "D:\\Anaconda\\Lib\\site-packages\\sklearn\\linear_model\\_coordinate_descent.py:617: UserWarning: Coordinate descent without L1 regularization may lead to unexpected results and is discouraged. Set l1_ratio > 0 to add L1 regularization.\n",
      "  model = cd_fast.enet_coordinate_descent_gram(\n",
      "D:\\Anaconda\\Lib\\site-packages\\sklearn\\linear_model\\_coordinate_descent.py:617: ConvergenceWarning: Objective did not converge. You might want to increase the number of iterations. Duality gap: 465767.931219619, tolerance: 498.3715230769231\n",
      "  model = cd_fast.enet_coordinate_descent_gram(\n",
      "D:\\Anaconda\\Lib\\site-packages\\sklearn\\linear_model\\_coordinate_descent.py:617: UserWarning: Coordinate descent without L1 regularization may lead to unexpected results and is discouraged. Set l1_ratio > 0 to add L1 regularization.\n",
      "  model = cd_fast.enet_coordinate_descent_gram(\n",
      "D:\\Anaconda\\Lib\\site-packages\\sklearn\\linear_model\\_coordinate_descent.py:617: ConvergenceWarning: Objective did not converge. You might want to increase the number of iterations. Duality gap: 422105.5494721335, tolerance: 498.3715230769231\n",
      "  model = cd_fast.enet_coordinate_descent_gram(\n",
      "D:\\Anaconda\\Lib\\site-packages\\sklearn\\linear_model\\_coordinate_descent.py:617: UserWarning: Coordinate descent without L1 regularization may lead to unexpected results and is discouraged. Set l1_ratio > 0 to add L1 regularization.\n",
      "  model = cd_fast.enet_coordinate_descent_gram(\n",
      "D:\\Anaconda\\Lib\\site-packages\\sklearn\\linear_model\\_coordinate_descent.py:617: ConvergenceWarning: Objective did not converge. You might want to increase the number of iterations. Duality gap: 367361.8865805337, tolerance: 498.3715230769231\n",
      "  model = cd_fast.enet_coordinate_descent_gram(\n",
      "D:\\Anaconda\\Lib\\site-packages\\sklearn\\linear_model\\_coordinate_descent.py:617: UserWarning: Coordinate descent without L1 regularization may lead to unexpected results and is discouraged. Set l1_ratio > 0 to add L1 regularization.\n",
      "  model = cd_fast.enet_coordinate_descent_gram(\n",
      "D:\\Anaconda\\Lib\\site-packages\\sklearn\\linear_model\\_coordinate_descent.py:617: ConvergenceWarning: Objective did not converge. You might want to increase the number of iterations. Duality gap: 363858.2960891175, tolerance: 165.04557750000004\n",
      "  model = cd_fast.enet_coordinate_descent_gram(\n",
      "D:\\Anaconda\\Lib\\site-packages\\sklearn\\linear_model\\_coordinate_descent.py:617: UserWarning: Coordinate descent without L1 regularization may lead to unexpected results and is discouraged. Set l1_ratio > 0 to add L1 regularization.\n",
      "  model = cd_fast.enet_coordinate_descent_gram(\n",
      "D:\\Anaconda\\Lib\\site-packages\\sklearn\\linear_model\\_coordinate_descent.py:617: ConvergenceWarning: Objective did not converge. You might want to increase the number of iterations. Duality gap: 363653.74109043967, tolerance: 165.04557750000004\n",
      "  model = cd_fast.enet_coordinate_descent_gram(\n",
      "D:\\Anaconda\\Lib\\site-packages\\sklearn\\linear_model\\_coordinate_descent.py:617: UserWarning: Coordinate descent without L1 regularization may lead to unexpected results and is discouraged. Set l1_ratio > 0 to add L1 regularization.\n",
      "  model = cd_fast.enet_coordinate_descent_gram(\n",
      "D:\\Anaconda\\Lib\\site-packages\\sklearn\\linear_model\\_coordinate_descent.py:617: ConvergenceWarning: Objective did not converge. You might want to increase the number of iterations. Duality gap: 363446.1347094859, tolerance: 165.04557750000004\n",
      "  model = cd_fast.enet_coordinate_descent_gram(\n",
      "D:\\Anaconda\\Lib\\site-packages\\sklearn\\linear_model\\_coordinate_descent.py:617: UserWarning: Coordinate descent without L1 regularization may lead to unexpected results and is discouraged. Set l1_ratio > 0 to add L1 regularization.\n",
      "  model = cd_fast.enet_coordinate_descent_gram(\n",
      "D:\\Anaconda\\Lib\\site-packages\\sklearn\\linear_model\\_coordinate_descent.py:617: ConvergenceWarning: Objective did not converge. You might want to increase the number of iterations. Duality gap: 363235.4017979599, tolerance: 165.04557750000004\n",
      "  model = cd_fast.enet_coordinate_descent_gram(\n",
      "D:\\Anaconda\\Lib\\site-packages\\sklearn\\linear_model\\_coordinate_descent.py:617: UserWarning: Coordinate descent without L1 regularization may lead to unexpected results and is discouraged. Set l1_ratio > 0 to add L1 regularization.\n",
      "  model = cd_fast.enet_coordinate_descent_gram(\n",
      "D:\\Anaconda\\Lib\\site-packages\\sklearn\\linear_model\\_coordinate_descent.py:617: ConvergenceWarning: Objective did not converge. You might want to increase the number of iterations. Duality gap: 363021.46467476484, tolerance: 165.04557750000004\n",
      "  model = cd_fast.enet_coordinate_descent_gram(\n",
      "D:\\Anaconda\\Lib\\site-packages\\sklearn\\linear_model\\_coordinate_descent.py:617: UserWarning: Coordinate descent without L1 regularization may lead to unexpected results and is discouraged. Set l1_ratio > 0 to add L1 regularization.\n",
      "  model = cd_fast.enet_coordinate_descent_gram(\n",
      "D:\\Anaconda\\Lib\\site-packages\\sklearn\\linear_model\\_coordinate_descent.py:617: ConvergenceWarning: Objective did not converge. You might want to increase the number of iterations. Duality gap: 362804.24301633163, tolerance: 165.04557750000004\n",
      "  model = cd_fast.enet_coordinate_descent_gram(\n",
      "D:\\Anaconda\\Lib\\site-packages\\sklearn\\linear_model\\_coordinate_descent.py:617: UserWarning: Coordinate descent without L1 regularization may lead to unexpected results and is discouraged. Set l1_ratio > 0 to add L1 regularization.\n",
      "  model = cd_fast.enet_coordinate_descent_gram(\n",
      "D:\\Anaconda\\Lib\\site-packages\\sklearn\\linear_model\\_coordinate_descent.py:617: ConvergenceWarning: Objective did not converge. You might want to increase the number of iterations. Duality gap: 362583.65374108363, tolerance: 165.04557750000004\n",
      "  model = cd_fast.enet_coordinate_descent_gram(\n",
      "D:\\Anaconda\\Lib\\site-packages\\sklearn\\linear_model\\_coordinate_descent.py:617: UserWarning: Coordinate descent without L1 regularization may lead to unexpected results and is discouraged. Set l1_ratio > 0 to add L1 regularization.\n",
      "  model = cd_fast.enet_coordinate_descent_gram(\n",
      "D:\\Anaconda\\Lib\\site-packages\\sklearn\\linear_model\\_coordinate_descent.py:617: ConvergenceWarning: Objective did not converge. You might want to increase the number of iterations. Duality gap: 362359.61088766495, tolerance: 165.04557750000004\n",
      "  model = cd_fast.enet_coordinate_descent_gram(\n",
      "D:\\Anaconda\\Lib\\site-packages\\sklearn\\linear_model\\_coordinate_descent.py:617: UserWarning: Coordinate descent without L1 regularization may lead to unexpected results and is discouraged. Set l1_ratio > 0 to add L1 regularization.\n",
      "  model = cd_fast.enet_coordinate_descent_gram(\n",
      "D:\\Anaconda\\Lib\\site-packages\\sklearn\\linear_model\\_coordinate_descent.py:617: ConvergenceWarning: Objective did not converge. You might want to increase the number of iterations. Duality gap: 362132.02548651973, tolerance: 165.04557750000004\n",
      "  model = cd_fast.enet_coordinate_descent_gram(\n",
      "D:\\Anaconda\\Lib\\site-packages\\sklearn\\linear_model\\_coordinate_descent.py:617: UserWarning: Coordinate descent without L1 regularization may lead to unexpected results and is discouraged. Set l1_ratio > 0 to add L1 regularization.\n",
      "  model = cd_fast.enet_coordinate_descent_gram(\n",
      "D:\\Anaconda\\Lib\\site-packages\\sklearn\\linear_model\\_coordinate_descent.py:617: ConvergenceWarning: Objective did not converge. You might want to increase the number of iterations. Duality gap: 361900.8054243976, tolerance: 165.04557750000004\n",
      "  model = cd_fast.enet_coordinate_descent_gram(\n",
      "D:\\Anaconda\\Lib\\site-packages\\sklearn\\linear_model\\_coordinate_descent.py:617: UserWarning: Coordinate descent without L1 regularization may lead to unexpected results and is discouraged. Set l1_ratio > 0 to add L1 regularization.\n",
      "  model = cd_fast.enet_coordinate_descent_gram(\n",
      "D:\\Anaconda\\Lib\\site-packages\\sklearn\\linear_model\\_coordinate_descent.py:617: ConvergenceWarning: Objective did not converge. You might want to increase the number of iterations. Duality gap: 361665.85530130647, tolerance: 165.04557750000004\n",
      "  model = cd_fast.enet_coordinate_descent_gram(\n",
      "D:\\Anaconda\\Lib\\site-packages\\sklearn\\linear_model\\_coordinate_descent.py:617: UserWarning: Coordinate descent without L1 regularization may lead to unexpected results and is discouraged. Set l1_ratio > 0 to add L1 regularization.\n",
      "  model = cd_fast.enet_coordinate_descent_gram(\n",
      "D:\\Anaconda\\Lib\\site-packages\\sklearn\\linear_model\\_coordinate_descent.py:617: ConvergenceWarning: Objective did not converge. You might want to increase the number of iterations. Duality gap: 361427.0762794111, tolerance: 165.04557750000004\n",
      "  model = cd_fast.enet_coordinate_descent_gram(\n",
      "D:\\Anaconda\\Lib\\site-packages\\sklearn\\linear_model\\_coordinate_descent.py:617: UserWarning: Coordinate descent without L1 regularization may lead to unexpected results and is discouraged. Set l1_ratio > 0 to add L1 regularization.\n",
      "  model = cd_fast.enet_coordinate_descent_gram(\n",
      "D:\\Anaconda\\Lib\\site-packages\\sklearn\\linear_model\\_coordinate_descent.py:617: ConvergenceWarning: Objective did not converge. You might want to increase the number of iterations. Duality gap: 361184.3659233322, tolerance: 165.04557750000004\n",
      "  model = cd_fast.enet_coordinate_descent_gram(\n",
      "D:\\Anaconda\\Lib\\site-packages\\sklearn\\linear_model\\_coordinate_descent.py:617: UserWarning: Coordinate descent without L1 regularization may lead to unexpected results and is discouraged. Set l1_ratio > 0 to add L1 regularization.\n",
      "  model = cd_fast.enet_coordinate_descent_gram(\n",
      "D:\\Anaconda\\Lib\\site-packages\\sklearn\\linear_model\\_coordinate_descent.py:617: ConvergenceWarning: Objective did not converge. You might want to increase the number of iterations. Duality gap: 360937.61803125456, tolerance: 165.04557750000004\n",
      "  model = cd_fast.enet_coordinate_descent_gram(\n",
      "D:\\Anaconda\\Lib\\site-packages\\sklearn\\linear_model\\_coordinate_descent.py:617: UserWarning: Coordinate descent without L1 regularization may lead to unexpected results and is discouraged. Set l1_ratio > 0 to add L1 regularization.\n",
      "  model = cd_fast.enet_coordinate_descent_gram(\n",
      "D:\\Anaconda\\Lib\\site-packages\\sklearn\\linear_model\\_coordinate_descent.py:617: ConvergenceWarning: Objective did not converge. You might want to increase the number of iterations. Duality gap: 360686.7224562118, tolerance: 165.04557750000004\n",
      "  model = cd_fast.enet_coordinate_descent_gram(\n",
      "D:\\Anaconda\\Lib\\site-packages\\sklearn\\linear_model\\_coordinate_descent.py:617: UserWarning: Coordinate descent without L1 regularization may lead to unexpected results and is discouraged. Set l1_ratio > 0 to add L1 regularization.\n",
      "  model = cd_fast.enet_coordinate_descent_gram(\n",
      "D:\\Anaconda\\Lib\\site-packages\\sklearn\\linear_model\\_coordinate_descent.py:617: ConvergenceWarning: Objective did not converge. You might want to increase the number of iterations. Duality gap: 360431.56491685077, tolerance: 165.04557750000004\n",
      "  model = cd_fast.enet_coordinate_descent_gram(\n",
      "D:\\Anaconda\\Lib\\site-packages\\sklearn\\linear_model\\_coordinate_descent.py:617: UserWarning: Coordinate descent without L1 regularization may lead to unexpected results and is discouraged. Set l1_ratio > 0 to add L1 regularization.\n",
      "  model = cd_fast.enet_coordinate_descent_gram(\n",
      "D:\\Anaconda\\Lib\\site-packages\\sklearn\\linear_model\\_coordinate_descent.py:617: ConvergenceWarning: Objective did not converge. You might want to increase the number of iterations. Duality gap: 360172.02679693926, tolerance: 165.04557750000004\n",
      "  model = cd_fast.enet_coordinate_descent_gram(\n",
      "D:\\Anaconda\\Lib\\site-packages\\sklearn\\linear_model\\_coordinate_descent.py:617: UserWarning: Coordinate descent without L1 regularization may lead to unexpected results and is discouraged. Set l1_ratio > 0 to add L1 regularization.\n",
      "  model = cd_fast.enet_coordinate_descent_gram(\n",
      "D:\\Anaconda\\Lib\\site-packages\\sklearn\\linear_model\\_coordinate_descent.py:617: ConvergenceWarning: Objective did not converge. You might want to increase the number of iterations. Duality gap: 359907.98493280297, tolerance: 165.04557750000004\n",
      "  model = cd_fast.enet_coordinate_descent_gram(\n",
      "D:\\Anaconda\\Lib\\site-packages\\sklearn\\linear_model\\_coordinate_descent.py:617: UserWarning: Coordinate descent without L1 regularization may lead to unexpected results and is discouraged. Set l1_ratio > 0 to add L1 regularization.\n",
      "  model = cd_fast.enet_coordinate_descent_gram(\n",
      "D:\\Anaconda\\Lib\\site-packages\\sklearn\\linear_model\\_coordinate_descent.py:617: ConvergenceWarning: Objective did not converge. You might want to increase the number of iterations. Duality gap: 359639.31138781464, tolerance: 165.04557750000004\n",
      "  model = cd_fast.enet_coordinate_descent_gram(\n",
      "D:\\Anaconda\\Lib\\site-packages\\sklearn\\linear_model\\_coordinate_descent.py:617: UserWarning: Coordinate descent without L1 regularization may lead to unexpected results and is discouraged. Set l1_ratio > 0 to add L1 regularization.\n",
      "  model = cd_fast.enet_coordinate_descent_gram(\n",
      "D:\\Anaconda\\Lib\\site-packages\\sklearn\\linear_model\\_coordinate_descent.py:617: ConvergenceWarning: Objective did not converge. You might want to increase the number of iterations. Duality gap: 359365.87321298925, tolerance: 165.04557750000004\n",
      "  model = cd_fast.enet_coordinate_descent_gram(\n",
      "D:\\Anaconda\\Lib\\site-packages\\sklearn\\linear_model\\_coordinate_descent.py:617: UserWarning: Coordinate descent without L1 regularization may lead to unexpected results and is discouraged. Set l1_ratio > 0 to add L1 regularization.\n",
      "  model = cd_fast.enet_coordinate_descent_gram(\n",
      "D:\\Anaconda\\Lib\\site-packages\\sklearn\\linear_model\\_coordinate_descent.py:617: ConvergenceWarning: Objective did not converge. You might want to increase the number of iterations. Duality gap: 359087.5321926438, tolerance: 165.04557750000004\n",
      "  model = cd_fast.enet_coordinate_descent_gram(\n",
      "D:\\Anaconda\\Lib\\site-packages\\sklearn\\linear_model\\_coordinate_descent.py:617: UserWarning: Coordinate descent without L1 regularization may lead to unexpected results and is discouraged. Set l1_ratio > 0 to add L1 regularization.\n",
      "  model = cd_fast.enet_coordinate_descent_gram(\n",
      "D:\\Anaconda\\Lib\\site-packages\\sklearn\\linear_model\\_coordinate_descent.py:617: ConvergenceWarning: Objective did not converge. You might want to increase the number of iterations. Duality gap: 358804.14457400126, tolerance: 165.04557750000004\n",
      "  model = cd_fast.enet_coordinate_descent_gram(\n",
      "D:\\Anaconda\\Lib\\site-packages\\sklearn\\linear_model\\_coordinate_descent.py:617: UserWarning: Coordinate descent without L1 regularization may lead to unexpected results and is discouraged. Set l1_ratio > 0 to add L1 regularization.\n",
      "  model = cd_fast.enet_coordinate_descent_gram(\n",
      "D:\\Anaconda\\Lib\\site-packages\\sklearn\\linear_model\\_coordinate_descent.py:617: ConvergenceWarning: Objective did not converge. You might want to increase the number of iterations. Duality gap: 358515.5607795122, tolerance: 165.04557750000004\n",
      "  model = cd_fast.enet_coordinate_descent_gram(\n",
      "D:\\Anaconda\\Lib\\site-packages\\sklearn\\linear_model\\_coordinate_descent.py:617: UserWarning: Coordinate descent without L1 regularization may lead to unexpected results and is discouraged. Set l1_ratio > 0 to add L1 regularization.\n",
      "  model = cd_fast.enet_coordinate_descent_gram(\n",
      "D:\\Anaconda\\Lib\\site-packages\\sklearn\\linear_model\\_coordinate_descent.py:617: ConvergenceWarning: Objective did not converge. You might want to increase the number of iterations. Duality gap: 358221.62510055525, tolerance: 165.04557750000004\n",
      "  model = cd_fast.enet_coordinate_descent_gram(\n",
      "D:\\Anaconda\\Lib\\site-packages\\sklearn\\linear_model\\_coordinate_descent.py:617: UserWarning: Coordinate descent without L1 regularization may lead to unexpected results and is discouraged. Set l1_ratio > 0 to add L1 regularization.\n",
      "  model = cd_fast.enet_coordinate_descent_gram(\n",
      "D:\\Anaconda\\Lib\\site-packages\\sklearn\\linear_model\\_coordinate_descent.py:617: ConvergenceWarning: Objective did not converge. You might want to increase the number of iterations. Duality gap: 357922.17537106253, tolerance: 165.04557750000004\n",
      "  model = cd_fast.enet_coordinate_descent_gram(\n",
      "D:\\Anaconda\\Lib\\site-packages\\sklearn\\linear_model\\_coordinate_descent.py:617: UserWarning: Coordinate descent without L1 regularization may lead to unexpected results and is discouraged. Set l1_ratio > 0 to add L1 regularization.\n",
      "  model = cd_fast.enet_coordinate_descent_gram(\n",
      "D:\\Anaconda\\Lib\\site-packages\\sklearn\\linear_model\\_coordinate_descent.py:617: ConvergenceWarning: Objective did not converge. You might want to increase the number of iterations. Duality gap: 357617.04261947086, tolerance: 165.04557750000004\n",
      "  model = cd_fast.enet_coordinate_descent_gram(\n",
      "D:\\Anaconda\\Lib\\site-packages\\sklearn\\linear_model\\_coordinate_descent.py:617: UserWarning: Coordinate descent without L1 regularization may lead to unexpected results and is discouraged. Set l1_ratio > 0 to add L1 regularization.\n",
      "  model = cd_fast.enet_coordinate_descent_gram(\n",
      "D:\\Anaconda\\Lib\\site-packages\\sklearn\\linear_model\\_coordinate_descent.py:617: ConvergenceWarning: Objective did not converge. You might want to increase the number of iterations. Duality gap: 357306.0506972652, tolerance: 165.04557750000004\n",
      "  model = cd_fast.enet_coordinate_descent_gram(\n",
      "D:\\Anaconda\\Lib\\site-packages\\sklearn\\linear_model\\_coordinate_descent.py:617: UserWarning: Coordinate descent without L1 regularization may lead to unexpected results and is discouraged. Set l1_ratio > 0 to add L1 regularization.\n",
      "  model = cd_fast.enet_coordinate_descent_gram(\n",
      "D:\\Anaconda\\Lib\\site-packages\\sklearn\\linear_model\\_coordinate_descent.py:617: ConvergenceWarning: Objective did not converge. You might want to increase the number of iterations. Duality gap: 356989.0158821898, tolerance: 165.04557750000004\n",
      "  model = cd_fast.enet_coordinate_descent_gram(\n",
      "D:\\Anaconda\\Lib\\site-packages\\sklearn\\linear_model\\_coordinate_descent.py:617: UserWarning: Coordinate descent without L1 regularization may lead to unexpected results and is discouraged. Set l1_ratio > 0 to add L1 regularization.\n",
      "  model = cd_fast.enet_coordinate_descent_gram(\n",
      "D:\\Anaconda\\Lib\\site-packages\\sklearn\\linear_model\\_coordinate_descent.py:617: ConvergenceWarning: Objective did not converge. You might want to increase the number of iterations. Duality gap: 356665.7464540514, tolerance: 165.04557750000004\n",
      "  model = cd_fast.enet_coordinate_descent_gram(\n",
      "D:\\Anaconda\\Lib\\site-packages\\sklearn\\linear_model\\_coordinate_descent.py:617: UserWarning: Coordinate descent without L1 regularization may lead to unexpected results and is discouraged. Set l1_ratio > 0 to add L1 regularization.\n",
      "  model = cd_fast.enet_coordinate_descent_gram(\n",
      "D:\\Anaconda\\Lib\\site-packages\\sklearn\\linear_model\\_coordinate_descent.py:617: ConvergenceWarning: Objective did not converge. You might want to increase the number of iterations. Duality gap: 356336.04224080127, tolerance: 165.04557750000004\n",
      "  model = cd_fast.enet_coordinate_descent_gram(\n",
      "D:\\Anaconda\\Lib\\site-packages\\sklearn\\linear_model\\_coordinate_descent.py:617: UserWarning: Coordinate descent without L1 regularization may lead to unexpected results and is discouraged. Set l1_ratio > 0 to add L1 regularization.\n",
      "  model = cd_fast.enet_coordinate_descent_gram(\n",
      "D:\\Anaconda\\Lib\\site-packages\\sklearn\\linear_model\\_coordinate_descent.py:617: ConvergenceWarning: Objective did not converge. You might want to increase the number of iterations. Duality gap: 355999.6941323777, tolerance: 165.04557750000004\n",
      "  model = cd_fast.enet_coordinate_descent_gram(\n",
      "D:\\Anaconda\\Lib\\site-packages\\sklearn\\linear_model\\_coordinate_descent.py:617: UserWarning: Coordinate descent without L1 regularization may lead to unexpected results and is discouraged. Set l1_ratio > 0 to add L1 regularization.\n",
      "  model = cd_fast.enet_coordinate_descent_gram(\n",
      "D:\\Anaconda\\Lib\\site-packages\\sklearn\\linear_model\\_coordinate_descent.py:617: ConvergenceWarning: Objective did not converge. You might want to increase the number of iterations. Duality gap: 355656.4835595225, tolerance: 165.04557750000004\n",
      "  model = cd_fast.enet_coordinate_descent_gram(\n",
      "D:\\Anaconda\\Lib\\site-packages\\sklearn\\linear_model\\_coordinate_descent.py:617: UserWarning: Coordinate descent without L1 regularization may lead to unexpected results and is discouraged. Set l1_ratio > 0 to add L1 regularization.\n",
      "  model = cd_fast.enet_coordinate_descent_gram(\n",
      "D:\\Anaconda\\Lib\\site-packages\\sklearn\\linear_model\\_coordinate_descent.py:617: ConvergenceWarning: Objective did not converge. You might want to increase the number of iterations. Duality gap: 355306.1819345072, tolerance: 165.04557750000004\n",
      "  model = cd_fast.enet_coordinate_descent_gram(\n",
      "D:\\Anaconda\\Lib\\site-packages\\sklearn\\linear_model\\_coordinate_descent.py:617: UserWarning: Coordinate descent without L1 regularization may lead to unexpected results and is discouraged. Set l1_ratio > 0 to add L1 regularization.\n",
      "  model = cd_fast.enet_coordinate_descent_gram(\n",
      "D:\\Anaconda\\Lib\\site-packages\\sklearn\\linear_model\\_coordinate_descent.py:617: ConvergenceWarning: Objective did not converge. You might want to increase the number of iterations. Duality gap: 354948.5500503811, tolerance: 165.04557750000004\n",
      "  model = cd_fast.enet_coordinate_descent_gram(\n",
      "D:\\Anaconda\\Lib\\site-packages\\sklearn\\linear_model\\_coordinate_descent.py:617: UserWarning: Coordinate descent without L1 regularization may lead to unexpected results and is discouraged. Set l1_ratio > 0 to add L1 regularization.\n",
      "  model = cd_fast.enet_coordinate_descent_gram(\n",
      "D:\\Anaconda\\Lib\\site-packages\\sklearn\\linear_model\\_coordinate_descent.py:617: ConvergenceWarning: Objective did not converge. You might want to increase the number of iterations. Duality gap: 354583.3374350043, tolerance: 165.04557750000004\n",
      "  model = cd_fast.enet_coordinate_descent_gram(\n",
      "D:\\Anaconda\\Lib\\site-packages\\sklearn\\linear_model\\_coordinate_descent.py:617: UserWarning: Coordinate descent without L1 regularization may lead to unexpected results and is discouraged. Set l1_ratio > 0 to add L1 regularization.\n",
      "  model = cd_fast.enet_coordinate_descent_gram(\n",
      "D:\\Anaconda\\Lib\\site-packages\\sklearn\\linear_model\\_coordinate_descent.py:617: ConvergenceWarning: Objective did not converge. You might want to increase the number of iterations. Duality gap: 354210.2816557102, tolerance: 165.04557750000004\n",
      "  model = cd_fast.enet_coordinate_descent_gram(\n",
      "D:\\Anaconda\\Lib\\site-packages\\sklearn\\linear_model\\_coordinate_descent.py:617: UserWarning: Coordinate descent without L1 regularization may lead to unexpected results and is discouraged. Set l1_ratio > 0 to add L1 regularization.\n",
      "  model = cd_fast.enet_coordinate_descent_gram(\n",
      "D:\\Anaconda\\Lib\\site-packages\\sklearn\\linear_model\\_coordinate_descent.py:617: ConvergenceWarning: Objective did not converge. You might want to increase the number of iterations. Duality gap: 353829.1075700196, tolerance: 165.04557750000004\n",
      "  model = cd_fast.enet_coordinate_descent_gram(\n",
      "D:\\Anaconda\\Lib\\site-packages\\sklearn\\linear_model\\_coordinate_descent.py:617: UserWarning: Coordinate descent without L1 regularization may lead to unexpected results and is discouraged. Set l1_ratio > 0 to add L1 regularization.\n",
      "  model = cd_fast.enet_coordinate_descent_gram(\n",
      "D:\\Anaconda\\Lib\\site-packages\\sklearn\\linear_model\\_coordinate_descent.py:617: ConvergenceWarning: Objective did not converge. You might want to increase the number of iterations. Duality gap: 353439.5265172849, tolerance: 165.04557750000004\n",
      "  model = cd_fast.enet_coordinate_descent_gram(\n",
      "D:\\Anaconda\\Lib\\site-packages\\sklearn\\linear_model\\_coordinate_descent.py:617: UserWarning: Coordinate descent without L1 regularization may lead to unexpected results and is discouraged. Set l1_ratio > 0 to add L1 regularization.\n",
      "  model = cd_fast.enet_coordinate_descent_gram(\n",
      "D:\\Anaconda\\Lib\\site-packages\\sklearn\\linear_model\\_coordinate_descent.py:617: ConvergenceWarning: Objective did not converge. You might want to increase the number of iterations. Duality gap: 353041.2354456028, tolerance: 165.04557750000004\n",
      "  model = cd_fast.enet_coordinate_descent_gram(\n",
      "D:\\Anaconda\\Lib\\site-packages\\sklearn\\linear_model\\_coordinate_descent.py:617: UserWarning: Coordinate descent without L1 regularization may lead to unexpected results and is discouraged. Set l1_ratio > 0 to add L1 regularization.\n",
      "  model = cd_fast.enet_coordinate_descent_gram(\n",
      "D:\\Anaconda\\Lib\\site-packages\\sklearn\\linear_model\\_coordinate_descent.py:617: ConvergenceWarning: Objective did not converge. You might want to increase the number of iterations. Duality gap: 352633.9159676624, tolerance: 165.04557750000004\n",
      "  model = cd_fast.enet_coordinate_descent_gram(\n",
      "D:\\Anaconda\\Lib\\site-packages\\sklearn\\linear_model\\_coordinate_descent.py:617: UserWarning: Coordinate descent without L1 regularization may lead to unexpected results and is discouraged. Set l1_ratio > 0 to add L1 regularization.\n",
      "  model = cd_fast.enet_coordinate_descent_gram(\n",
      "D:\\Anaconda\\Lib\\site-packages\\sklearn\\linear_model\\_coordinate_descent.py:617: ConvergenceWarning: Objective did not converge. You might want to increase the number of iterations. Duality gap: 352217.2333384625, tolerance: 165.04557750000004\n",
      "  model = cd_fast.enet_coordinate_descent_gram(\n",
      "D:\\Anaconda\\Lib\\site-packages\\sklearn\\linear_model\\_coordinate_descent.py:617: UserWarning: Coordinate descent without L1 regularization may lead to unexpected results and is discouraged. Set l1_ratio > 0 to add L1 regularization.\n",
      "  model = cd_fast.enet_coordinate_descent_gram(\n",
      "D:\\Anaconda\\Lib\\site-packages\\sklearn\\linear_model\\_coordinate_descent.py:617: ConvergenceWarning: Objective did not converge. You might want to increase the number of iterations. Duality gap: 351790.83534701495, tolerance: 165.04557750000004\n",
      "  model = cd_fast.enet_coordinate_descent_gram(\n",
      "D:\\Anaconda\\Lib\\site-packages\\sklearn\\linear_model\\_coordinate_descent.py:617: UserWarning: Coordinate descent without L1 regularization may lead to unexpected results and is discouraged. Set l1_ratio > 0 to add L1 regularization.\n",
      "  model = cd_fast.enet_coordinate_descent_gram(\n",
      "D:\\Anaconda\\Lib\\site-packages\\sklearn\\linear_model\\_coordinate_descent.py:617: ConvergenceWarning: Objective did not converge. You might want to increase the number of iterations. Duality gap: 351354.35111317533, tolerance: 165.04557750000004\n",
      "  model = cd_fast.enet_coordinate_descent_gram(\n",
      "D:\\Anaconda\\Lib\\site-packages\\sklearn\\linear_model\\_coordinate_descent.py:617: UserWarning: Coordinate descent without L1 regularization may lead to unexpected results and is discouraged. Set l1_ratio > 0 to add L1 regularization.\n",
      "  model = cd_fast.enet_coordinate_descent_gram(\n",
      "D:\\Anaconda\\Lib\\site-packages\\sklearn\\linear_model\\_coordinate_descent.py:617: ConvergenceWarning: Objective did not converge. You might want to increase the number of iterations. Duality gap: 350907.3897796736, tolerance: 165.04557750000004\n",
      "  model = cd_fast.enet_coordinate_descent_gram(\n",
      "D:\\Anaconda\\Lib\\site-packages\\sklearn\\linear_model\\_coordinate_descent.py:617: UserWarning: Coordinate descent without L1 regularization may lead to unexpected results and is discouraged. Set l1_ratio > 0 to add L1 regularization.\n",
      "  model = cd_fast.enet_coordinate_descent_gram(\n",
      "D:\\Anaconda\\Lib\\site-packages\\sklearn\\linear_model\\_coordinate_descent.py:617: ConvergenceWarning: Objective did not converge. You might want to increase the number of iterations. Duality gap: 350449.53908818326, tolerance: 165.04557750000004\n",
      "  model = cd_fast.enet_coordinate_descent_gram(\n",
      "D:\\Anaconda\\Lib\\site-packages\\sklearn\\linear_model\\_coordinate_descent.py:617: UserWarning: Coordinate descent without L1 regularization may lead to unexpected results and is discouraged. Set l1_ratio > 0 to add L1 regularization.\n",
      "  model = cd_fast.enet_coordinate_descent_gram(\n",
      "D:\\Anaconda\\Lib\\site-packages\\sklearn\\linear_model\\_coordinate_descent.py:617: ConvergenceWarning: Objective did not converge. You might want to increase the number of iterations. Duality gap: 349980.36382683145, tolerance: 165.04557750000004\n",
      "  model = cd_fast.enet_coordinate_descent_gram(\n",
      "D:\\Anaconda\\Lib\\site-packages\\sklearn\\linear_model\\_coordinate_descent.py:617: UserWarning: Coordinate descent without L1 regularization may lead to unexpected results and is discouraged. Set l1_ratio > 0 to add L1 regularization.\n",
      "  model = cd_fast.enet_coordinate_descent_gram(\n",
      "D:\\Anaconda\\Lib\\site-packages\\sklearn\\linear_model\\_coordinate_descent.py:617: ConvergenceWarning: Objective did not converge. You might want to increase the number of iterations. Duality gap: 349499.40413494664, tolerance: 165.04557750000004\n",
      "  model = cd_fast.enet_coordinate_descent_gram(\n",
      "D:\\Anaconda\\Lib\\site-packages\\sklearn\\linear_model\\_coordinate_descent.py:617: UserWarning: Coordinate descent without L1 regularization may lead to unexpected results and is discouraged. Set l1_ratio > 0 to add L1 regularization.\n",
      "  model = cd_fast.enet_coordinate_descent_gram(\n",
      "D:\\Anaconda\\Lib\\site-packages\\sklearn\\linear_model\\_coordinate_descent.py:617: ConvergenceWarning: Objective did not converge. You might want to increase the number of iterations. Duality gap: 349006.17364894197, tolerance: 165.04557750000004\n",
      "  model = cd_fast.enet_coordinate_descent_gram(\n",
      "D:\\Anaconda\\Lib\\site-packages\\sklearn\\linear_model\\_coordinate_descent.py:617: UserWarning: Coordinate descent without L1 regularization may lead to unexpected results and is discouraged. Set l1_ratio > 0 to add L1 regularization.\n",
      "  model = cd_fast.enet_coordinate_descent_gram(\n",
      "D:\\Anaconda\\Lib\\site-packages\\sklearn\\linear_model\\_coordinate_descent.py:617: ConvergenceWarning: Objective did not converge. You might want to increase the number of iterations. Duality gap: 348500.15747109917, tolerance: 165.04557750000004\n",
      "  model = cd_fast.enet_coordinate_descent_gram(\n",
      "D:\\Anaconda\\Lib\\site-packages\\sklearn\\linear_model\\_coordinate_descent.py:617: UserWarning: Coordinate descent without L1 regularization may lead to unexpected results and is discouraged. Set l1_ratio > 0 to add L1 regularization.\n",
      "  model = cd_fast.enet_coordinate_descent_gram(\n",
      "D:\\Anaconda\\Lib\\site-packages\\sklearn\\linear_model\\_coordinate_descent.py:617: ConvergenceWarning: Objective did not converge. You might want to increase the number of iterations. Duality gap: 347980.80994048517, tolerance: 165.04557750000004\n",
      "  model = cd_fast.enet_coordinate_descent_gram(\n",
      "D:\\Anaconda\\Lib\\site-packages\\sklearn\\linear_model\\_coordinate_descent.py:617: UserWarning: Coordinate descent without L1 regularization may lead to unexpected results and is discouraged. Set l1_ratio > 0 to add L1 regularization.\n",
      "  model = cd_fast.enet_coordinate_descent_gram(\n",
      "D:\\Anaconda\\Lib\\site-packages\\sklearn\\linear_model\\_coordinate_descent.py:617: ConvergenceWarning: Objective did not converge. You might want to increase the number of iterations. Duality gap: 347447.55218235956, tolerance: 165.04557750000004\n",
      "  model = cd_fast.enet_coordinate_descent_gram(\n",
      "D:\\Anaconda\\Lib\\site-packages\\sklearn\\linear_model\\_coordinate_descent.py:617: UserWarning: Coordinate descent without L1 regularization may lead to unexpected results and is discouraged. Set l1_ratio > 0 to add L1 regularization.\n",
      "  model = cd_fast.enet_coordinate_descent_gram(\n",
      "D:\\Anaconda\\Lib\\site-packages\\sklearn\\linear_model\\_coordinate_descent.py:617: ConvergenceWarning: Objective did not converge. You might want to increase the number of iterations. Duality gap: 346899.76940903976, tolerance: 165.04557750000004\n",
      "  model = cd_fast.enet_coordinate_descent_gram(\n",
      "D:\\Anaconda\\Lib\\site-packages\\sklearn\\linear_model\\_coordinate_descent.py:617: UserWarning: Coordinate descent without L1 regularization may lead to unexpected results and is discouraged. Set l1_ratio > 0 to add L1 regularization.\n",
      "  model = cd_fast.enet_coordinate_descent_gram(\n",
      "D:\\Anaconda\\Lib\\site-packages\\sklearn\\linear_model\\_coordinate_descent.py:617: ConvergenceWarning: Objective did not converge. You might want to increase the number of iterations. Duality gap: 346336.80794126075, tolerance: 165.04557750000004\n",
      "  model = cd_fast.enet_coordinate_descent_gram(\n",
      "D:\\Anaconda\\Lib\\site-packages\\sklearn\\linear_model\\_coordinate_descent.py:617: UserWarning: Coordinate descent without L1 regularization may lead to unexpected results and is discouraged. Set l1_ratio > 0 to add L1 regularization.\n",
      "  model = cd_fast.enet_coordinate_descent_gram(\n",
      "D:\\Anaconda\\Lib\\site-packages\\sklearn\\linear_model\\_coordinate_descent.py:617: ConvergenceWarning: Objective did not converge. You might want to increase the number of iterations. Duality gap: 345757.9719144599, tolerance: 165.04557750000004\n",
      "  model = cd_fast.enet_coordinate_descent_gram(\n",
      "D:\\Anaconda\\Lib\\site-packages\\sklearn\\linear_model\\_coordinate_descent.py:617: UserWarning: Coordinate descent without L1 regularization may lead to unexpected results and is discouraged. Set l1_ratio > 0 to add L1 regularization.\n",
      "  model = cd_fast.enet_coordinate_descent_gram(\n",
      "D:\\Anaconda\\Lib\\site-packages\\sklearn\\linear_model\\_coordinate_descent.py:617: ConvergenceWarning: Objective did not converge. You might want to increase the number of iterations. Duality gap: 345162.5196290149, tolerance: 165.04557750000004\n",
      "  model = cd_fast.enet_coordinate_descent_gram(\n",
      "D:\\Anaconda\\Lib\\site-packages\\sklearn\\linear_model\\_coordinate_descent.py:617: UserWarning: Coordinate descent without L1 regularization may lead to unexpected results and is discouraged. Set l1_ratio > 0 to add L1 regularization.\n",
      "  model = cd_fast.enet_coordinate_descent_gram(\n",
      "D:\\Anaconda\\Lib\\site-packages\\sklearn\\linear_model\\_coordinate_descent.py:617: ConvergenceWarning: Objective did not converge. You might want to increase the number of iterations. Duality gap: 344549.65949709376, tolerance: 165.04557750000004\n",
      "  model = cd_fast.enet_coordinate_descent_gram(\n",
      "D:\\Anaconda\\Lib\\site-packages\\sklearn\\linear_model\\_coordinate_descent.py:617: UserWarning: Coordinate descent without L1 regularization may lead to unexpected results and is discouraged. Set l1_ratio > 0 to add L1 regularization.\n",
      "  model = cd_fast.enet_coordinate_descent_gram(\n",
      "D:\\Anaconda\\Lib\\site-packages\\sklearn\\linear_model\\_coordinate_descent.py:617: ConvergenceWarning: Objective did not converge. You might want to increase the number of iterations. Duality gap: 343918.54553126416, tolerance: 165.04557750000004\n",
      "  model = cd_fast.enet_coordinate_descent_gram(\n",
      "D:\\Anaconda\\Lib\\site-packages\\sklearn\\linear_model\\_coordinate_descent.py:617: UserWarning: Coordinate descent without L1 regularization may lead to unexpected results and is discouraged. Set l1_ratio > 0 to add L1 regularization.\n",
      "  model = cd_fast.enet_coordinate_descent_gram(\n",
      "D:\\Anaconda\\Lib\\site-packages\\sklearn\\linear_model\\_coordinate_descent.py:617: ConvergenceWarning: Objective did not converge. You might want to increase the number of iterations. Duality gap: 343268.27231109387, tolerance: 165.04557750000004\n",
      "  model = cd_fast.enet_coordinate_descent_gram(\n",
      "D:\\Anaconda\\Lib\\site-packages\\sklearn\\linear_model\\_coordinate_descent.py:617: UserWarning: Coordinate descent without L1 regularization may lead to unexpected results and is discouraged. Set l1_ratio > 0 to add L1 regularization.\n",
      "  model = cd_fast.enet_coordinate_descent_gram(\n",
      "D:\\Anaconda\\Lib\\site-packages\\sklearn\\linear_model\\_coordinate_descent.py:617: ConvergenceWarning: Objective did not converge. You might want to increase the number of iterations. Duality gap: 342597.8693533801, tolerance: 165.04557750000004\n",
      "  model = cd_fast.enet_coordinate_descent_gram(\n",
      "D:\\Anaconda\\Lib\\site-packages\\sklearn\\linear_model\\_coordinate_descent.py:617: UserWarning: Coordinate descent without L1 regularization may lead to unexpected results and is discouraged. Set l1_ratio > 0 to add L1 regularization.\n",
      "  model = cd_fast.enet_coordinate_descent_gram(\n",
      "D:\\Anaconda\\Lib\\site-packages\\sklearn\\linear_model\\_coordinate_descent.py:617: ConvergenceWarning: Objective did not converge. You might want to increase the number of iterations. Duality gap: 341906.2947989737, tolerance: 165.04557750000004\n",
      "  model = cd_fast.enet_coordinate_descent_gram(\n",
      "D:\\Anaconda\\Lib\\site-packages\\sklearn\\linear_model\\_coordinate_descent.py:617: UserWarning: Coordinate descent without L1 regularization may lead to unexpected results and is discouraged. Set l1_ratio > 0 to add L1 regularization.\n",
      "  model = cd_fast.enet_coordinate_descent_gram(\n",
      "D:\\Anaconda\\Lib\\site-packages\\sklearn\\linear_model\\_coordinate_descent.py:617: ConvergenceWarning: Objective did not converge. You might want to increase the number of iterations. Duality gap: 341192.4283140043, tolerance: 165.04557750000004\n",
      "  model = cd_fast.enet_coordinate_descent_gram(\n",
      "D:\\Anaconda\\Lib\\site-packages\\sklearn\\linear_model\\_coordinate_descent.py:617: UserWarning: Coordinate descent without L1 regularization may lead to unexpected results and is discouraged. Set l1_ratio > 0 to add L1 regularization.\n",
      "  model = cd_fast.enet_coordinate_descent_gram(\n",
      "D:\\Anaconda\\Lib\\site-packages\\sklearn\\linear_model\\_coordinate_descent.py:617: ConvergenceWarning: Objective did not converge. You might want to increase the number of iterations. Duality gap: 340455.06308503513, tolerance: 165.04557750000004\n",
      "  model = cd_fast.enet_coordinate_descent_gram(\n",
      "D:\\Anaconda\\Lib\\site-packages\\sklearn\\linear_model\\_coordinate_descent.py:617: UserWarning: Coordinate descent without L1 regularization may lead to unexpected results and is discouraged. Set l1_ratio > 0 to add L1 regularization.\n",
      "  model = cd_fast.enet_coordinate_descent_gram(\n",
      "D:\\Anaconda\\Lib\\site-packages\\sklearn\\linear_model\\_coordinate_descent.py:617: ConvergenceWarning: Objective did not converge. You might want to increase the number of iterations. Duality gap: 339692.8967656017, tolerance: 165.04557750000004\n",
      "  model = cd_fast.enet_coordinate_descent_gram(\n",
      "D:\\Anaconda\\Lib\\site-packages\\sklearn\\linear_model\\_coordinate_descent.py:617: UserWarning: Coordinate descent without L1 regularization may lead to unexpected results and is discouraged. Set l1_ratio > 0 to add L1 regularization.\n",
      "  model = cd_fast.enet_coordinate_descent_gram(\n",
      "D:\\Anaconda\\Lib\\site-packages\\sklearn\\linear_model\\_coordinate_descent.py:617: ConvergenceWarning: Objective did not converge. You might want to increase the number of iterations. Duality gap: 338904.52120478684, tolerance: 165.04557750000004\n",
      "  model = cd_fast.enet_coordinate_descent_gram(\n",
      "D:\\Anaconda\\Lib\\site-packages\\sklearn\\linear_model\\_coordinate_descent.py:617: UserWarning: Coordinate descent without L1 regularization may lead to unexpected results and is discouraged. Set l1_ratio > 0 to add L1 regularization.\n",
      "  model = cd_fast.enet_coordinate_descent_gram(\n",
      "D:\\Anaconda\\Lib\\site-packages\\sklearn\\linear_model\\_coordinate_descent.py:617: ConvergenceWarning: Objective did not converge. You might want to increase the number of iterations. Duality gap: 338088.41075578606, tolerance: 165.04557750000004\n",
      "  model = cd_fast.enet_coordinate_descent_gram(\n",
      "D:\\Anaconda\\Lib\\site-packages\\sklearn\\linear_model\\_coordinate_descent.py:617: UserWarning: Coordinate descent without L1 regularization may lead to unexpected results and is discouraged. Set l1_ratio > 0 to add L1 regularization.\n",
      "  model = cd_fast.enet_coordinate_descent_gram(\n",
      "D:\\Anaconda\\Lib\\site-packages\\sklearn\\linear_model\\_coordinate_descent.py:617: ConvergenceWarning: Objective did not converge. You might want to increase the number of iterations. Duality gap: 337242.9089223545, tolerance: 165.04557750000004\n",
      "  model = cd_fast.enet_coordinate_descent_gram(\n",
      "D:\\Anaconda\\Lib\\site-packages\\sklearn\\linear_model\\_coordinate_descent.py:617: UserWarning: Coordinate descent without L1 regularization may lead to unexpected results and is discouraged. Set l1_ratio > 0 to add L1 regularization.\n",
      "  model = cd_fast.enet_coordinate_descent_gram(\n",
      "D:\\Anaconda\\Lib\\site-packages\\sklearn\\linear_model\\_coordinate_descent.py:617: ConvergenceWarning: Objective did not converge. You might want to increase the number of iterations. Duality gap: 336366.2130516756, tolerance: 165.04557750000004\n",
      "  model = cd_fast.enet_coordinate_descent_gram(\n",
      "D:\\Anaconda\\Lib\\site-packages\\sklearn\\linear_model\\_coordinate_descent.py:617: UserWarning: Coordinate descent without L1 regularization may lead to unexpected results and is discouraged. Set l1_ratio > 0 to add L1 regularization.\n",
      "  model = cd_fast.enet_coordinate_descent_gram(\n",
      "D:\\Anaconda\\Lib\\site-packages\\sklearn\\linear_model\\_coordinate_descent.py:617: ConvergenceWarning: Objective did not converge. You might want to increase the number of iterations. Duality gap: 335456.3567210835, tolerance: 165.04557750000004\n",
      "  model = cd_fast.enet_coordinate_descent_gram(\n",
      "D:\\Anaconda\\Lib\\site-packages\\sklearn\\linear_model\\_coordinate_descent.py:617: UserWarning: Coordinate descent without L1 regularization may lead to unexpected results and is discouraged. Set l1_ratio > 0 to add L1 regularization.\n",
      "  model = cd_fast.enet_coordinate_descent_gram(\n",
      "D:\\Anaconda\\Lib\\site-packages\\sklearn\\linear_model\\_coordinate_descent.py:617: ConvergenceWarning: Objective did not converge. You might want to increase the number of iterations. Duality gap: 334511.1893899898, tolerance: 165.04557750000004\n",
      "  model = cd_fast.enet_coordinate_descent_gram(\n",
      "D:\\Anaconda\\Lib\\site-packages\\sklearn\\linear_model\\_coordinate_descent.py:617: UserWarning: Coordinate descent without L1 regularization may lead to unexpected results and is discouraged. Set l1_ratio > 0 to add L1 regularization.\n",
      "  model = cd_fast.enet_coordinate_descent_gram(\n",
      "D:\\Anaconda\\Lib\\site-packages\\sklearn\\linear_model\\_coordinate_descent.py:617: ConvergenceWarning: Objective did not converge. You might want to increase the number of iterations. Duality gap: 333528.35279308003, tolerance: 165.04557750000004\n",
      "  model = cd_fast.enet_coordinate_descent_gram(\n",
      "D:\\Anaconda\\Lib\\site-packages\\sklearn\\linear_model\\_coordinate_descent.py:617: UserWarning: Coordinate descent without L1 regularization may lead to unexpected results and is discouraged. Set l1_ratio > 0 to add L1 regularization.\n",
      "  model = cd_fast.enet_coordinate_descent_gram(\n",
      "D:\\Anaconda\\Lib\\site-packages\\sklearn\\linear_model\\_coordinate_descent.py:617: ConvergenceWarning: Objective did not converge. You might want to increase the number of iterations. Duality gap: 332505.2534308064, tolerance: 165.04557750000004\n",
      "  model = cd_fast.enet_coordinate_descent_gram(\n",
      "D:\\Anaconda\\Lib\\site-packages\\sklearn\\linear_model\\_coordinate_descent.py:617: UserWarning: Coordinate descent without L1 regularization may lead to unexpected results and is discouraged. Set l1_ratio > 0 to add L1 regularization.\n",
      "  model = cd_fast.enet_coordinate_descent_gram(\n",
      "D:\\Anaconda\\Lib\\site-packages\\sklearn\\linear_model\\_coordinate_descent.py:617: ConvergenceWarning: Objective did not converge. You might want to increase the number of iterations. Duality gap: 331439.0303609664, tolerance: 165.04557750000004\n",
      "  model = cd_fast.enet_coordinate_descent_gram(\n",
      "D:\\Anaconda\\Lib\\site-packages\\sklearn\\linear_model\\_coordinate_descent.py:617: UserWarning: Coordinate descent without L1 regularization may lead to unexpected results and is discouraged. Set l1_ratio > 0 to add L1 regularization.\n",
      "  model = cd_fast.enet_coordinate_descent_gram(\n",
      "D:\\Anaconda\\Lib\\site-packages\\sklearn\\linear_model\\_coordinate_descent.py:617: ConvergenceWarning: Objective did not converge. You might want to increase the number of iterations. Duality gap: 330326.5173008174, tolerance: 165.04557750000004\n",
      "  model = cd_fast.enet_coordinate_descent_gram(\n",
      "D:\\Anaconda\\Lib\\site-packages\\sklearn\\linear_model\\_coordinate_descent.py:617: UserWarning: Coordinate descent without L1 regularization may lead to unexpected results and is discouraged. Set l1_ratio > 0 to add L1 regularization.\n",
      "  model = cd_fast.enet_coordinate_descent_gram(\n",
      "D:\\Anaconda\\Lib\\site-packages\\sklearn\\linear_model\\_coordinate_descent.py:617: ConvergenceWarning: Objective did not converge. You might want to increase the number of iterations. Duality gap: 329164.19779928983, tolerance: 165.04557750000004\n",
      "  model = cd_fast.enet_coordinate_descent_gram(\n",
      "D:\\Anaconda\\Lib\\site-packages\\sklearn\\linear_model\\_coordinate_descent.py:617: UserWarning: Coordinate descent without L1 regularization may lead to unexpected results and is discouraged. Set l1_ratio > 0 to add L1 regularization.\n",
      "  model = cd_fast.enet_coordinate_descent_gram(\n",
      "D:\\Anaconda\\Lib\\site-packages\\sklearn\\linear_model\\_coordinate_descent.py:617: ConvergenceWarning: Objective did not converge. You might want to increase the number of iterations. Duality gap: 327948.15191514586, tolerance: 165.04557750000004\n",
      "  model = cd_fast.enet_coordinate_descent_gram(\n",
      "D:\\Anaconda\\Lib\\site-packages\\sklearn\\linear_model\\_coordinate_descent.py:617: UserWarning: Coordinate descent without L1 regularization may lead to unexpected results and is discouraged. Set l1_ratio > 0 to add L1 regularization.\n",
      "  model = cd_fast.enet_coordinate_descent_gram(\n",
      "D:\\Anaconda\\Lib\\site-packages\\sklearn\\linear_model\\_coordinate_descent.py:617: ConvergenceWarning: Objective did not converge. You might want to increase the number of iterations. Duality gap: 326673.99241416506, tolerance: 165.04557750000004\n",
      "  model = cd_fast.enet_coordinate_descent_gram(\n",
      "D:\\Anaconda\\Lib\\site-packages\\sklearn\\linear_model\\_coordinate_descent.py:617: UserWarning: Coordinate descent without L1 regularization may lead to unexpected results and is discouraged. Set l1_ratio > 0 to add L1 regularization.\n",
      "  model = cd_fast.enet_coordinate_descent_gram(\n",
      "D:\\Anaconda\\Lib\\site-packages\\sklearn\\linear_model\\_coordinate_descent.py:617: ConvergenceWarning: Objective did not converge. You might want to increase the number of iterations. Duality gap: 325336.78794168937, tolerance: 165.04557750000004\n",
      "  model = cd_fast.enet_coordinate_descent_gram(\n",
      "D:\\Anaconda\\Lib\\site-packages\\sklearn\\linear_model\\_coordinate_descent.py:617: UserWarning: Coordinate descent without L1 regularization may lead to unexpected results and is discouraged. Set l1_ratio > 0 to add L1 regularization.\n",
      "  model = cd_fast.enet_coordinate_descent_gram(\n"
     ]
    },
    {
     "name": "stderr",
     "output_type": "stream",
     "text": [
      "D:\\Anaconda\\Lib\\site-packages\\sklearn\\linear_model\\_coordinate_descent.py:617: ConvergenceWarning: Objective did not converge. You might want to increase the number of iterations. Duality gap: 323930.9698869786, tolerance: 165.04557750000004\n",
      "  model = cd_fast.enet_coordinate_descent_gram(\n",
      "D:\\Anaconda\\Lib\\site-packages\\sklearn\\linear_model\\_coordinate_descent.py:617: UserWarning: Coordinate descent without L1 regularization may lead to unexpected results and is discouraged. Set l1_ratio > 0 to add L1 regularization.\n",
      "  model = cd_fast.enet_coordinate_descent_gram(\n",
      "D:\\Anaconda\\Lib\\site-packages\\sklearn\\linear_model\\_coordinate_descent.py:617: ConvergenceWarning: Objective did not converge. You might want to increase the number of iterations. Duality gap: 322450.21866312117, tolerance: 165.04557750000004\n",
      "  model = cd_fast.enet_coordinate_descent_gram(\n",
      "D:\\Anaconda\\Lib\\site-packages\\sklearn\\linear_model\\_coordinate_descent.py:617: UserWarning: Coordinate descent without L1 regularization may lead to unexpected results and is discouraged. Set l1_ratio > 0 to add L1 regularization.\n",
      "  model = cd_fast.enet_coordinate_descent_gram(\n",
      "D:\\Anaconda\\Lib\\site-packages\\sklearn\\linear_model\\_coordinate_descent.py:617: ConvergenceWarning: Objective did not converge. You might want to increase the number of iterations. Duality gap: 320887.32378063654, tolerance: 165.04557750000004\n",
      "  model = cd_fast.enet_coordinate_descent_gram(\n",
      "D:\\Anaconda\\Lib\\site-packages\\sklearn\\linear_model\\_coordinate_descent.py:617: UserWarning: Coordinate descent without L1 regularization may lead to unexpected results and is discouraged. Set l1_ratio > 0 to add L1 regularization.\n",
      "  model = cd_fast.enet_coordinate_descent_gram(\n",
      "D:\\Anaconda\\Lib\\site-packages\\sklearn\\linear_model\\_coordinate_descent.py:617: ConvergenceWarning: Objective did not converge. You might want to increase the number of iterations. Duality gap: 319234.0102487768, tolerance: 165.04557750000004\n",
      "  model = cd_fast.enet_coordinate_descent_gram(\n",
      "D:\\Anaconda\\Lib\\site-packages\\sklearn\\linear_model\\_coordinate_descent.py:617: UserWarning: Coordinate descent without L1 regularization may lead to unexpected results and is discouraged. Set l1_ratio > 0 to add L1 regularization.\n",
      "  model = cd_fast.enet_coordinate_descent_gram(\n",
      "D:\\Anaconda\\Lib\\site-packages\\sklearn\\linear_model\\_coordinate_descent.py:617: ConvergenceWarning: Objective did not converge. You might want to increase the number of iterations. Duality gap: 317480.72128136246, tolerance: 165.04557750000004\n",
      "  model = cd_fast.enet_coordinate_descent_gram(\n",
      "D:\\Anaconda\\Lib\\site-packages\\sklearn\\linear_model\\_coordinate_descent.py:617: UserWarning: Coordinate descent without L1 regularization may lead to unexpected results and is discouraged. Set l1_ratio > 0 to add L1 regularization.\n",
      "  model = cd_fast.enet_coordinate_descent_gram(\n",
      "D:\\Anaconda\\Lib\\site-packages\\sklearn\\linear_model\\_coordinate_descent.py:617: ConvergenceWarning: Objective did not converge. You might want to increase the number of iterations. Duality gap: 315616.34369278647, tolerance: 165.04557750000004\n",
      "  model = cd_fast.enet_coordinate_descent_gram(\n",
      "D:\\Anaconda\\Lib\\site-packages\\sklearn\\linear_model\\_coordinate_descent.py:617: UserWarning: Coordinate descent without L1 regularization may lead to unexpected results and is discouraged. Set l1_ratio > 0 to add L1 regularization.\n",
      "  model = cd_fast.enet_coordinate_descent_gram(\n",
      "D:\\Anaconda\\Lib\\site-packages\\sklearn\\linear_model\\_coordinate_descent.py:617: ConvergenceWarning: Objective did not converge. You might want to increase the number of iterations. Duality gap: 313627.85725709336, tolerance: 165.04557750000004\n",
      "  model = cd_fast.enet_coordinate_descent_gram(\n",
      "D:\\Anaconda\\Lib\\site-packages\\sklearn\\linear_model\\_coordinate_descent.py:617: UserWarning: Coordinate descent without L1 regularization may lead to unexpected results and is discouraged. Set l1_ratio > 0 to add L1 regularization.\n",
      "  model = cd_fast.enet_coordinate_descent_gram(\n",
      "D:\\Anaconda\\Lib\\site-packages\\sklearn\\linear_model\\_coordinate_descent.py:617: ConvergenceWarning: Objective did not converge. You might want to increase the number of iterations. Duality gap: 311499.88191534585, tolerance: 165.04557750000004\n",
      "  model = cd_fast.enet_coordinate_descent_gram(\n",
      "D:\\Anaconda\\Lib\\site-packages\\sklearn\\linear_model\\_coordinate_descent.py:617: UserWarning: Coordinate descent without L1 regularization may lead to unexpected results and is discouraged. Set l1_ratio > 0 to add L1 regularization.\n",
      "  model = cd_fast.enet_coordinate_descent_gram(\n",
      "D:\\Anaconda\\Lib\\site-packages\\sklearn\\linear_model\\_coordinate_descent.py:617: ConvergenceWarning: Objective did not converge. You might want to increase the number of iterations. Duality gap: 309214.0858681372, tolerance: 165.04557750000004\n",
      "  model = cd_fast.enet_coordinate_descent_gram(\n",
      "D:\\Anaconda\\Lib\\site-packages\\sklearn\\linear_model\\_coordinate_descent.py:617: UserWarning: Coordinate descent without L1 regularization may lead to unexpected results and is discouraged. Set l1_ratio > 0 to add L1 regularization.\n",
      "  model = cd_fast.enet_coordinate_descent_gram(\n",
      "D:\\Anaconda\\Lib\\site-packages\\sklearn\\linear_model\\_coordinate_descent.py:617: ConvergenceWarning: Objective did not converge. You might want to increase the number of iterations. Duality gap: 306748.40137664543, tolerance: 165.04557750000004\n",
      "  model = cd_fast.enet_coordinate_descent_gram(\n",
      "D:\\Anaconda\\Lib\\site-packages\\sklearn\\linear_model\\_coordinate_descent.py:617: UserWarning: Coordinate descent without L1 regularization may lead to unexpected results and is discouraged. Set l1_ratio > 0 to add L1 regularization.\n",
      "  model = cd_fast.enet_coordinate_descent_gram(\n",
      "D:\\Anaconda\\Lib\\site-packages\\sklearn\\linear_model\\_coordinate_descent.py:617: ConvergenceWarning: Objective did not converge. You might want to increase the number of iterations. Duality gap: 304075.97039057204, tolerance: 165.04557750000004\n",
      "  model = cd_fast.enet_coordinate_descent_gram(\n",
      "D:\\Anaconda\\Lib\\site-packages\\sklearn\\linear_model\\_coordinate_descent.py:617: UserWarning: Coordinate descent without L1 regularization may lead to unexpected results and is discouraged. Set l1_ratio > 0 to add L1 regularization.\n",
      "  model = cd_fast.enet_coordinate_descent_gram(\n",
      "D:\\Anaconda\\Lib\\site-packages\\sklearn\\linear_model\\_coordinate_descent.py:617: ConvergenceWarning: Objective did not converge. You might want to increase the number of iterations. Duality gap: 301163.70366443775, tolerance: 165.04557750000004\n",
      "  model = cd_fast.enet_coordinate_descent_gram(\n",
      "D:\\Anaconda\\Lib\\site-packages\\sklearn\\linear_model\\_coordinate_descent.py:617: UserWarning: Coordinate descent without L1 regularization may lead to unexpected results and is discouraged. Set l1_ratio > 0 to add L1 regularization.\n",
      "  model = cd_fast.enet_coordinate_descent_gram(\n",
      "D:\\Anaconda\\Lib\\site-packages\\sklearn\\linear_model\\_coordinate_descent.py:617: ConvergenceWarning: Objective did not converge. You might want to increase the number of iterations. Duality gap: 297970.27572284534, tolerance: 165.04557750000004\n",
      "  model = cd_fast.enet_coordinate_descent_gram(\n",
      "D:\\Anaconda\\Lib\\site-packages\\sklearn\\linear_model\\_coordinate_descent.py:617: UserWarning: Coordinate descent without L1 regularization may lead to unexpected results and is discouraged. Set l1_ratio > 0 to add L1 regularization.\n",
      "  model = cd_fast.enet_coordinate_descent_gram(\n",
      "D:\\Anaconda\\Lib\\site-packages\\sklearn\\linear_model\\_coordinate_descent.py:617: ConvergenceWarning: Objective did not converge. You might want to increase the number of iterations. Duality gap: 294443.2776895779, tolerance: 165.04557750000004\n",
      "  model = cd_fast.enet_coordinate_descent_gram(\n",
      "D:\\Anaconda\\Lib\\site-packages\\sklearn\\linear_model\\_coordinate_descent.py:617: UserWarning: Coordinate descent without L1 regularization may lead to unexpected results and is discouraged. Set l1_ratio > 0 to add L1 regularization.\n",
      "  model = cd_fast.enet_coordinate_descent_gram(\n",
      "D:\\Anaconda\\Lib\\site-packages\\sklearn\\linear_model\\_coordinate_descent.py:617: ConvergenceWarning: Objective did not converge. You might want to increase the number of iterations. Duality gap: 290515.0807289938, tolerance: 165.04557750000004\n",
      "  model = cd_fast.enet_coordinate_descent_gram(\n",
      "D:\\Anaconda\\Lib\\site-packages\\sklearn\\linear_model\\_coordinate_descent.py:617: UserWarning: Coordinate descent without L1 regularization may lead to unexpected results and is discouraged. Set l1_ratio > 0 to add L1 regularization.\n",
      "  model = cd_fast.enet_coordinate_descent_gram(\n",
      "D:\\Anaconda\\Lib\\site-packages\\sklearn\\linear_model\\_coordinate_descent.py:617: ConvergenceWarning: Objective did not converge. You might want to increase the number of iterations. Duality gap: 286096.6673487395, tolerance: 165.04557750000004\n",
      "  model = cd_fast.enet_coordinate_descent_gram(\n",
      "D:\\Anaconda\\Lib\\site-packages\\sklearn\\linear_model\\_coordinate_descent.py:617: UserWarning: Coordinate descent without L1 regularization may lead to unexpected results and is discouraged. Set l1_ratio > 0 to add L1 regularization.\n",
      "  model = cd_fast.enet_coordinate_descent_gram(\n",
      "D:\\Anaconda\\Lib\\site-packages\\sklearn\\linear_model\\_coordinate_descent.py:617: ConvergenceWarning: Objective did not converge. You might want to increase the number of iterations. Duality gap: 281068.150933102, tolerance: 165.04557750000004\n",
      "  model = cd_fast.enet_coordinate_descent_gram(\n",
      "D:\\Anaconda\\Lib\\site-packages\\sklearn\\linear_model\\_coordinate_descent.py:617: UserWarning: Coordinate descent without L1 regularization may lead to unexpected results and is discouraged. Set l1_ratio > 0 to add L1 regularization.\n",
      "  model = cd_fast.enet_coordinate_descent_gram(\n",
      "D:\\Anaconda\\Lib\\site-packages\\sklearn\\linear_model\\_coordinate_descent.py:617: ConvergenceWarning: Objective did not converge. You might want to increase the number of iterations. Duality gap: 275263.68099488225, tolerance: 165.04557750000004\n",
      "  model = cd_fast.enet_coordinate_descent_gram(\n",
      "D:\\Anaconda\\Lib\\site-packages\\sklearn\\linear_model\\_coordinate_descent.py:617: UserWarning: Coordinate descent without L1 regularization may lead to unexpected results and is discouraged. Set l1_ratio > 0 to add L1 regularization.\n",
      "  model = cd_fast.enet_coordinate_descent_gram(\n",
      "D:\\Anaconda\\Lib\\site-packages\\sklearn\\linear_model\\_coordinate_descent.py:617: ConvergenceWarning: Objective did not converge. You might want to increase the number of iterations. Duality gap: 268446.3650534934, tolerance: 165.04557750000004\n",
      "  model = cd_fast.enet_coordinate_descent_gram(\n",
      "D:\\Anaconda\\Lib\\site-packages\\sklearn\\linear_model\\_coordinate_descent.py:617: UserWarning: Coordinate descent without L1 regularization may lead to unexpected results and is discouraged. Set l1_ratio > 0 to add L1 regularization.\n",
      "  model = cd_fast.enet_coordinate_descent_gram(\n",
      "D:\\Anaconda\\Lib\\site-packages\\sklearn\\linear_model\\_coordinate_descent.py:617: ConvergenceWarning: Objective did not converge. You might want to increase the number of iterations. Duality gap: 260264.32730930395, tolerance: 165.04557750000004\n",
      "  model = cd_fast.enet_coordinate_descent_gram(\n",
      "D:\\Anaconda\\Lib\\site-packages\\sklearn\\linear_model\\_coordinate_descent.py:617: UserWarning: Coordinate descent without L1 regularization may lead to unexpected results and is discouraged. Set l1_ratio > 0 to add L1 regularization.\n",
      "  model = cd_fast.enet_coordinate_descent_gram(\n",
      "D:\\Anaconda\\Lib\\site-packages\\sklearn\\linear_model\\_coordinate_descent.py:617: ConvergenceWarning: Objective did not converge. You might want to increase the number of iterations. Duality gap: 250167.98172884044, tolerance: 165.04557750000004\n",
      "  model = cd_fast.enet_coordinate_descent_gram(\n",
      "D:\\Anaconda\\Lib\\site-packages\\sklearn\\linear_model\\_coordinate_descent.py:617: UserWarning: Coordinate descent without L1 regularization may lead to unexpected results and is discouraged. Set l1_ratio > 0 to add L1 regularization.\n",
      "  model = cd_fast.enet_coordinate_descent_gram(\n",
      "D:\\Anaconda\\Lib\\site-packages\\sklearn\\linear_model\\_coordinate_descent.py:617: ConvergenceWarning: Objective did not converge. You might want to increase the number of iterations. Duality gap: 237235.19433595834, tolerance: 165.04557750000004\n",
      "  model = cd_fast.enet_coordinate_descent_gram(\n",
      "D:\\Anaconda\\Lib\\site-packages\\sklearn\\linear_model\\_coordinate_descent.py:617: UserWarning: Coordinate descent without L1 regularization may lead to unexpected results and is discouraged. Set l1_ratio > 0 to add L1 regularization.\n",
      "  model = cd_fast.enet_coordinate_descent_gram(\n",
      "D:\\Anaconda\\Lib\\site-packages\\sklearn\\linear_model\\_coordinate_descent.py:617: ConvergenceWarning: Objective did not converge. You might want to increase the number of iterations. Duality gap: 219676.4754662648, tolerance: 165.04557750000004\n",
      "  model = cd_fast.enet_coordinate_descent_gram(\n"
     ]
    },
    {
     "data": {
      "text/html": [
       "<style>#sk-container-id-2 {color: black;background-color: white;}#sk-container-id-2 pre{padding: 0;}#sk-container-id-2 div.sk-toggleable {background-color: white;}#sk-container-id-2 label.sk-toggleable__label {cursor: pointer;display: block;width: 100%;margin-bottom: 0;padding: 0.3em;box-sizing: border-box;text-align: center;}#sk-container-id-2 label.sk-toggleable__label-arrow:before {content: \"▸\";float: left;margin-right: 0.25em;color: #696969;}#sk-container-id-2 label.sk-toggleable__label-arrow:hover:before {color: black;}#sk-container-id-2 div.sk-estimator:hover label.sk-toggleable__label-arrow:before {color: black;}#sk-container-id-2 div.sk-toggleable__content {max-height: 0;max-width: 0;overflow: hidden;text-align: left;background-color: #f0f8ff;}#sk-container-id-2 div.sk-toggleable__content pre {margin: 0.2em;color: black;border-radius: 0.25em;background-color: #f0f8ff;}#sk-container-id-2 input.sk-toggleable__control:checked~div.sk-toggleable__content {max-height: 200px;max-width: 100%;overflow: auto;}#sk-container-id-2 input.sk-toggleable__control:checked~label.sk-toggleable__label-arrow:before {content: \"▾\";}#sk-container-id-2 div.sk-estimator input.sk-toggleable__control:checked~label.sk-toggleable__label {background-color: #d4ebff;}#sk-container-id-2 div.sk-label input.sk-toggleable__control:checked~label.sk-toggleable__label {background-color: #d4ebff;}#sk-container-id-2 input.sk-hidden--visually {border: 0;clip: rect(1px 1px 1px 1px);clip: rect(1px, 1px, 1px, 1px);height: 1px;margin: -1px;overflow: hidden;padding: 0;position: absolute;width: 1px;}#sk-container-id-2 div.sk-estimator {font-family: monospace;background-color: #f0f8ff;border: 1px dotted black;border-radius: 0.25em;box-sizing: border-box;margin-bottom: 0.5em;}#sk-container-id-2 div.sk-estimator:hover {background-color: #d4ebff;}#sk-container-id-2 div.sk-parallel-item::after {content: \"\";width: 100%;border-bottom: 1px solid gray;flex-grow: 1;}#sk-container-id-2 div.sk-label:hover label.sk-toggleable__label {background-color: #d4ebff;}#sk-container-id-2 div.sk-serial::before {content: \"\";position: absolute;border-left: 1px solid gray;box-sizing: border-box;top: 0;bottom: 0;left: 50%;z-index: 0;}#sk-container-id-2 div.sk-serial {display: flex;flex-direction: column;align-items: center;background-color: white;padding-right: 0.2em;padding-left: 0.2em;position: relative;}#sk-container-id-2 div.sk-item {position: relative;z-index: 1;}#sk-container-id-2 div.sk-parallel {display: flex;align-items: stretch;justify-content: center;background-color: white;position: relative;}#sk-container-id-2 div.sk-item::before, #sk-container-id-2 div.sk-parallel-item::before {content: \"\";position: absolute;border-left: 1px solid gray;box-sizing: border-box;top: 0;bottom: 0;left: 50%;z-index: -1;}#sk-container-id-2 div.sk-parallel-item {display: flex;flex-direction: column;z-index: 1;position: relative;background-color: white;}#sk-container-id-2 div.sk-parallel-item:first-child::after {align-self: flex-end;width: 50%;}#sk-container-id-2 div.sk-parallel-item:last-child::after {align-self: flex-start;width: 50%;}#sk-container-id-2 div.sk-parallel-item:only-child::after {width: 0;}#sk-container-id-2 div.sk-dashed-wrapped {border: 1px dashed gray;margin: 0 0.4em 0.5em 0.4em;box-sizing: border-box;padding-bottom: 0.4em;background-color: white;}#sk-container-id-2 div.sk-label label {font-family: monospace;font-weight: bold;display: inline-block;line-height: 1.2em;}#sk-container-id-2 div.sk-label-container {text-align: center;}#sk-container-id-2 div.sk-container {/* jupyter's `normalize.less` sets `[hidden] { display: none; }` but bootstrap.min.css set `[hidden] { display: none !important; }` so we also need the `!important` here to be able to override the default hidden behavior on the sphinx rendered scikit-learn.org. See: https://github.com/scikit-learn/scikit-learn/issues/21755 */display: inline-block !important;position: relative;}#sk-container-id-2 div.sk-text-repr-fallback {display: none;}</style><div id=\"sk-container-id-2\" class=\"sk-top-container\"><div class=\"sk-text-repr-fallback\"><pre>ElasticNetCV(alphas=array([0.01, 0.02, 0.03, 0.04, 0.05, 0.06, 0.07, 0.08, 0.09, 0.1 , 0.11,\n",
       "       0.12, 0.13, 0.14, 0.15, 0.16, 0.17, 0.18, 0.19, 0.2 , 0.21, 0.22,\n",
       "       0.23, 0.24, 0.25, 0.26, 0.27, 0.28, 0.29, 0.3 , 0.31, 0.32, 0.33,\n",
       "       0.34, 0.35, 0.36, 0.37, 0.38, 0.39, 0.4 , 0.41, 0.42, 0.43, 0.44,\n",
       "       0.45, 0.46, 0.47, 0.48, 0.49, 0.5 , 0.51, 0.52, 0.53, 0.54, 0.55,\n",
       "       0.56, 0.57, 0.58, 0.59, 0.6 , 0.61, 0.62, 0.63, 0.64, 0.65, 0.66...\n",
       "       0.48298298, 0.48348348, 0.48398398, 0.48448448, 0.48498498,\n",
       "       0.48548549, 0.48598599, 0.48648649, 0.48698699, 0.48748749,\n",
       "       0.48798799, 0.48848849, 0.48898899, 0.48948949, 0.48998999,\n",
       "       0.49049049, 0.49099099, 0.49149149, 0.49199199, 0.49249249,\n",
       "       0.49299299, 0.49349349, 0.49399399, 0.49449449, 0.49499499,\n",
       "       0.4954955 , 0.495996  , 0.4964965 , 0.496997  , 0.4974975 ,\n",
       "       0.497998  , 0.4984985 , 0.498999  , 0.4994995 , 0.5       ]),\n",
       "             max_iter=5000, random_state=11110)</pre><b>In a Jupyter environment, please rerun this cell to show the HTML representation or trust the notebook. <br />On GitHub, the HTML representation is unable to render, please try loading this page with nbviewer.org.</b></div><div class=\"sk-container\" hidden><div class=\"sk-item\"><div class=\"sk-estimator sk-toggleable\"><input class=\"sk-toggleable__control sk-hidden--visually\" id=\"sk-estimator-id-2\" type=\"checkbox\" checked><label for=\"sk-estimator-id-2\" class=\"sk-toggleable__label sk-toggleable__label-arrow\">ElasticNetCV</label><div class=\"sk-toggleable__content\"><pre>ElasticNetCV(alphas=array([0.01, 0.02, 0.03, 0.04, 0.05, 0.06, 0.07, 0.08, 0.09, 0.1 , 0.11,\n",
       "       0.12, 0.13, 0.14, 0.15, 0.16, 0.17, 0.18, 0.19, 0.2 , 0.21, 0.22,\n",
       "       0.23, 0.24, 0.25, 0.26, 0.27, 0.28, 0.29, 0.3 , 0.31, 0.32, 0.33,\n",
       "       0.34, 0.35, 0.36, 0.37, 0.38, 0.39, 0.4 , 0.41, 0.42, 0.43, 0.44,\n",
       "       0.45, 0.46, 0.47, 0.48, 0.49, 0.5 , 0.51, 0.52, 0.53, 0.54, 0.55,\n",
       "       0.56, 0.57, 0.58, 0.59, 0.6 , 0.61, 0.62, 0.63, 0.64, 0.65, 0.66...\n",
       "       0.48298298, 0.48348348, 0.48398398, 0.48448448, 0.48498498,\n",
       "       0.48548549, 0.48598599, 0.48648649, 0.48698699, 0.48748749,\n",
       "       0.48798799, 0.48848849, 0.48898899, 0.48948949, 0.48998999,\n",
       "       0.49049049, 0.49099099, 0.49149149, 0.49199199, 0.49249249,\n",
       "       0.49299299, 0.49349349, 0.49399399, 0.49449449, 0.49499499,\n",
       "       0.4954955 , 0.495996  , 0.4964965 , 0.496997  , 0.4974975 ,\n",
       "       0.497998  , 0.4984985 , 0.498999  , 0.4994995 , 0.5       ]),\n",
       "             max_iter=5000, random_state=11110)</pre></div></div></div></div></div>"
      ],
      "text/plain": [
       "ElasticNetCV(alphas=array([0.01, 0.02, 0.03, 0.04, 0.05, 0.06, 0.07, 0.08, 0.09, 0.1 , 0.11,\n",
       "       0.12, 0.13, 0.14, 0.15, 0.16, 0.17, 0.18, 0.19, 0.2 , 0.21, 0.22,\n",
       "       0.23, 0.24, 0.25, 0.26, 0.27, 0.28, 0.29, 0.3 , 0.31, 0.32, 0.33,\n",
       "       0.34, 0.35, 0.36, 0.37, 0.38, 0.39, 0.4 , 0.41, 0.42, 0.43, 0.44,\n",
       "       0.45, 0.46, 0.47, 0.48, 0.49, 0.5 , 0.51, 0.52, 0.53, 0.54, 0.55,\n",
       "       0.56, 0.57, 0.58, 0.59, 0.6 , 0.61, 0.62, 0.63, 0.64, 0.65, 0.66...\n",
       "       0.48298298, 0.48348348, 0.48398398, 0.48448448, 0.48498498,\n",
       "       0.48548549, 0.48598599, 0.48648649, 0.48698699, 0.48748749,\n",
       "       0.48798799, 0.48848849, 0.48898899, 0.48948949, 0.48998999,\n",
       "       0.49049049, 0.49099099, 0.49149149, 0.49199199, 0.49249249,\n",
       "       0.49299299, 0.49349349, 0.49399399, 0.49449449, 0.49499499,\n",
       "       0.4954955 , 0.495996  , 0.4964965 , 0.496997  , 0.4974975 ,\n",
       "       0.497998  , 0.4984985 , 0.498999  , 0.4994995 , 0.5       ]),\n",
       "             max_iter=5000, random_state=11110)"
      ]
     },
     "execution_count": 37,
     "metadata": {},
     "output_type": "execute_result"
    }
   ],
   "source": [
    "regr = ElasticNetCV(n_alphas=100,alphas=alpha_x,eps=0.005,l1_ratio=l1_ratio_x,cv=5, random_state=11110,max_iter=5000)\n",
    "regr.fit(X_train,Y_train)"
   ]
  },
  {
   "cell_type": "code",
   "execution_count": 38,
   "metadata": {
    "id": "Hd4CHUBTJcIF"
   },
   "outputs": [
    {
     "data": {
      "text/html": [
       "<style>#sk-container-id-3 {color: black;background-color: white;}#sk-container-id-3 pre{padding: 0;}#sk-container-id-3 div.sk-toggleable {background-color: white;}#sk-container-id-3 label.sk-toggleable__label {cursor: pointer;display: block;width: 100%;margin-bottom: 0;padding: 0.3em;box-sizing: border-box;text-align: center;}#sk-container-id-3 label.sk-toggleable__label-arrow:before {content: \"▸\";float: left;margin-right: 0.25em;color: #696969;}#sk-container-id-3 label.sk-toggleable__label-arrow:hover:before {color: black;}#sk-container-id-3 div.sk-estimator:hover label.sk-toggleable__label-arrow:before {color: black;}#sk-container-id-3 div.sk-toggleable__content {max-height: 0;max-width: 0;overflow: hidden;text-align: left;background-color: #f0f8ff;}#sk-container-id-3 div.sk-toggleable__content pre {margin: 0.2em;color: black;border-radius: 0.25em;background-color: #f0f8ff;}#sk-container-id-3 input.sk-toggleable__control:checked~div.sk-toggleable__content {max-height: 200px;max-width: 100%;overflow: auto;}#sk-container-id-3 input.sk-toggleable__control:checked~label.sk-toggleable__label-arrow:before {content: \"▾\";}#sk-container-id-3 div.sk-estimator input.sk-toggleable__control:checked~label.sk-toggleable__label {background-color: #d4ebff;}#sk-container-id-3 div.sk-label input.sk-toggleable__control:checked~label.sk-toggleable__label {background-color: #d4ebff;}#sk-container-id-3 input.sk-hidden--visually {border: 0;clip: rect(1px 1px 1px 1px);clip: rect(1px, 1px, 1px, 1px);height: 1px;margin: -1px;overflow: hidden;padding: 0;position: absolute;width: 1px;}#sk-container-id-3 div.sk-estimator {font-family: monospace;background-color: #f0f8ff;border: 1px dotted black;border-radius: 0.25em;box-sizing: border-box;margin-bottom: 0.5em;}#sk-container-id-3 div.sk-estimator:hover {background-color: #d4ebff;}#sk-container-id-3 div.sk-parallel-item::after {content: \"\";width: 100%;border-bottom: 1px solid gray;flex-grow: 1;}#sk-container-id-3 div.sk-label:hover label.sk-toggleable__label {background-color: #d4ebff;}#sk-container-id-3 div.sk-serial::before {content: \"\";position: absolute;border-left: 1px solid gray;box-sizing: border-box;top: 0;bottom: 0;left: 50%;z-index: 0;}#sk-container-id-3 div.sk-serial {display: flex;flex-direction: column;align-items: center;background-color: white;padding-right: 0.2em;padding-left: 0.2em;position: relative;}#sk-container-id-3 div.sk-item {position: relative;z-index: 1;}#sk-container-id-3 div.sk-parallel {display: flex;align-items: stretch;justify-content: center;background-color: white;position: relative;}#sk-container-id-3 div.sk-item::before, #sk-container-id-3 div.sk-parallel-item::before {content: \"\";position: absolute;border-left: 1px solid gray;box-sizing: border-box;top: 0;bottom: 0;left: 50%;z-index: -1;}#sk-container-id-3 div.sk-parallel-item {display: flex;flex-direction: column;z-index: 1;position: relative;background-color: white;}#sk-container-id-3 div.sk-parallel-item:first-child::after {align-self: flex-end;width: 50%;}#sk-container-id-3 div.sk-parallel-item:last-child::after {align-self: flex-start;width: 50%;}#sk-container-id-3 div.sk-parallel-item:only-child::after {width: 0;}#sk-container-id-3 div.sk-dashed-wrapped {border: 1px dashed gray;margin: 0 0.4em 0.5em 0.4em;box-sizing: border-box;padding-bottom: 0.4em;background-color: white;}#sk-container-id-3 div.sk-label label {font-family: monospace;font-weight: bold;display: inline-block;line-height: 1.2em;}#sk-container-id-3 div.sk-label-container {text-align: center;}#sk-container-id-3 div.sk-container {/* jupyter's `normalize.less` sets `[hidden] { display: none; }` but bootstrap.min.css set `[hidden] { display: none !important; }` so we also need the `!important` here to be able to override the default hidden behavior on the sphinx rendered scikit-learn.org. See: https://github.com/scikit-learn/scikit-learn/issues/21755 */display: inline-block !important;position: relative;}#sk-container-id-3 div.sk-text-repr-fallback {display: none;}</style><div id=\"sk-container-id-3\" class=\"sk-top-container\"><div class=\"sk-text-repr-fallback\"><pre>ElasticNetCV(alphas=array([0.01, 0.02, 0.03, 0.04, 0.05, 0.06, 0.07, 0.08, 0.09, 0.1 , 0.11,\n",
       "       0.12, 0.13, 0.14, 0.15, 0.16, 0.17, 0.18, 0.19, 0.2 , 0.21, 0.22,\n",
       "       0.23, 0.24, 0.25, 0.26, 0.27, 0.28, 0.29, 0.3 , 0.31, 0.32, 0.33,\n",
       "       0.34, 0.35, 0.36, 0.37, 0.38, 0.39, 0.4 , 0.41, 0.42, 0.43, 0.44,\n",
       "       0.45, 0.46, 0.47, 0.48, 0.49, 0.5 , 0.51, 0.52, 0.53, 0.54, 0.55,\n",
       "       0.56, 0.57, 0.58, 0.59, 0.6 , 0.61, 0.62, 0.63, 0.64, 0.65, 0.66...\n",
       "       0.48298298, 0.48348348, 0.48398398, 0.48448448, 0.48498498,\n",
       "       0.48548549, 0.48598599, 0.48648649, 0.48698699, 0.48748749,\n",
       "       0.48798799, 0.48848849, 0.48898899, 0.48948949, 0.48998999,\n",
       "       0.49049049, 0.49099099, 0.49149149, 0.49199199, 0.49249249,\n",
       "       0.49299299, 0.49349349, 0.49399399, 0.49449449, 0.49499499,\n",
       "       0.4954955 , 0.495996  , 0.4964965 , 0.496997  , 0.4974975 ,\n",
       "       0.497998  , 0.4984985 , 0.498999  , 0.4994995 , 0.5       ]),\n",
       "             max_iter=5000, random_state=11110)</pre><b>In a Jupyter environment, please rerun this cell to show the HTML representation or trust the notebook. <br />On GitHub, the HTML representation is unable to render, please try loading this page with nbviewer.org.</b></div><div class=\"sk-container\" hidden><div class=\"sk-item\"><div class=\"sk-estimator sk-toggleable\"><input class=\"sk-toggleable__control sk-hidden--visually\" id=\"sk-estimator-id-3\" type=\"checkbox\" checked><label for=\"sk-estimator-id-3\" class=\"sk-toggleable__label sk-toggleable__label-arrow\">ElasticNetCV</label><div class=\"sk-toggleable__content\"><pre>ElasticNetCV(alphas=array([0.01, 0.02, 0.03, 0.04, 0.05, 0.06, 0.07, 0.08, 0.09, 0.1 , 0.11,\n",
       "       0.12, 0.13, 0.14, 0.15, 0.16, 0.17, 0.18, 0.19, 0.2 , 0.21, 0.22,\n",
       "       0.23, 0.24, 0.25, 0.26, 0.27, 0.28, 0.29, 0.3 , 0.31, 0.32, 0.33,\n",
       "       0.34, 0.35, 0.36, 0.37, 0.38, 0.39, 0.4 , 0.41, 0.42, 0.43, 0.44,\n",
       "       0.45, 0.46, 0.47, 0.48, 0.49, 0.5 , 0.51, 0.52, 0.53, 0.54, 0.55,\n",
       "       0.56, 0.57, 0.58, 0.59, 0.6 , 0.61, 0.62, 0.63, 0.64, 0.65, 0.66...\n",
       "       0.48298298, 0.48348348, 0.48398398, 0.48448448, 0.48498498,\n",
       "       0.48548549, 0.48598599, 0.48648649, 0.48698699, 0.48748749,\n",
       "       0.48798799, 0.48848849, 0.48898899, 0.48948949, 0.48998999,\n",
       "       0.49049049, 0.49099099, 0.49149149, 0.49199199, 0.49249249,\n",
       "       0.49299299, 0.49349349, 0.49399399, 0.49449449, 0.49499499,\n",
       "       0.4954955 , 0.495996  , 0.4964965 , 0.496997  , 0.4974975 ,\n",
       "       0.497998  , 0.4984985 , 0.498999  , 0.4994995 , 0.5       ]),\n",
       "             max_iter=5000, random_state=11110)</pre></div></div></div></div></div>"
      ],
      "text/plain": [
       "ElasticNetCV(alphas=array([0.01, 0.02, 0.03, 0.04, 0.05, 0.06, 0.07, 0.08, 0.09, 0.1 , 0.11,\n",
       "       0.12, 0.13, 0.14, 0.15, 0.16, 0.17, 0.18, 0.19, 0.2 , 0.21, 0.22,\n",
       "       0.23, 0.24, 0.25, 0.26, 0.27, 0.28, 0.29, 0.3 , 0.31, 0.32, 0.33,\n",
       "       0.34, 0.35, 0.36, 0.37, 0.38, 0.39, 0.4 , 0.41, 0.42, 0.43, 0.44,\n",
       "       0.45, 0.46, 0.47, 0.48, 0.49, 0.5 , 0.51, 0.52, 0.53, 0.54, 0.55,\n",
       "       0.56, 0.57, 0.58, 0.59, 0.6 , 0.61, 0.62, 0.63, 0.64, 0.65, 0.66...\n",
       "       0.48298298, 0.48348348, 0.48398398, 0.48448448, 0.48498498,\n",
       "       0.48548549, 0.48598599, 0.48648649, 0.48698699, 0.48748749,\n",
       "       0.48798799, 0.48848849, 0.48898899, 0.48948949, 0.48998999,\n",
       "       0.49049049, 0.49099099, 0.49149149, 0.49199199, 0.49249249,\n",
       "       0.49299299, 0.49349349, 0.49399399, 0.49449449, 0.49499499,\n",
       "       0.4954955 , 0.495996  , 0.4964965 , 0.496997  , 0.4974975 ,\n",
       "       0.497998  , 0.4984985 , 0.498999  , 0.4994995 , 0.5       ]),\n",
       "             max_iter=5000, random_state=11110)"
      ]
     },
     "execution_count": 38,
     "metadata": {},
     "output_type": "execute_result"
    }
   ],
   "source": [
    "regr"
   ]
  },
  {
   "cell_type": "code",
   "execution_count": 39,
   "metadata": {
    "id": "Bk4ElNwJJcIG"
   },
   "outputs": [
    {
     "name": "stdout",
     "output_type": "stream",
     "text": [
      "0.01\n"
     ]
    }
   ],
   "source": [
    "print(regr.alpha_)"
   ]
  },
  {
   "cell_type": "code",
   "execution_count": 40,
   "metadata": {
    "id": "UY6TNipBJcIG",
    "outputId": "b8c24226-843e-44fa-98e8-bf953bc1a67c"
   },
   "outputs": [
    {
     "name": "stdout",
     "output_type": "stream",
     "text": [
      "0.5\n"
     ]
    }
   ],
   "source": [
    "print(regr.l1_ratio_)"
   ]
  },
  {
   "cell_type": "code",
   "execution_count": 41,
   "metadata": {
    "id": "6fmbvub_JcIG"
   },
   "outputs": [
    {
     "data": {
      "text/plain": [
       "-2690.9683873965114"
      ]
     },
     "execution_count": 41,
     "metadata": {},
     "output_type": "execute_result"
    }
   ],
   "source": [
    "regr.intercept_"
   ]
  },
  {
   "cell_type": "code",
   "execution_count": 42,
   "metadata": {
    "id": "E32IYSJrJcIH"
   },
   "outputs": [
    {
     "data": {
      "text/plain": [
       "18"
      ]
     },
     "execution_count": 42,
     "metadata": {},
     "output_type": "execute_result"
    }
   ],
   "source": [
    "regr.n_iter_"
   ]
  },
  {
   "cell_type": "code",
   "execution_count": 43,
   "metadata": {
    "id": "O1e6j0aoJcIH"
   },
   "outputs": [
    {
     "data": {
      "text/plain": [
       "2.434346098255613"
      ]
     },
     "execution_count": 43,
     "metadata": {},
     "output_type": "execute_result"
    }
   ],
   "source": [
    "regr.dual_gap_"
   ]
  },
  {
   "cell_type": "code",
   "execution_count": null,
   "metadata": {
    "id": "rAxqKsnfJcII"
   },
   "outputs": [],
   "source": []
  },
  {
   "cell_type": "code",
   "execution_count": 44,
   "metadata": {
    "id": "OzQhhuadJcII"
   },
   "outputs": [],
   "source": [
    "#model=Lasso(alpha=2.40)\n",
    "model=ElasticNet(alpha=0.00001,l1_ratio=0.91,fit_intercept=True,tol=0.00001,max_iter=5000000,random_state=1)\n"
   ]
  },
  {
   "cell_type": "code",
   "execution_count": 45,
   "metadata": {
    "id": "E_OqzUsgJcII",
    "outputId": "d7c664f5-3262-438e-bbbf-cda687d5866d"
   },
   "outputs": [
    {
     "data": {
      "text/html": [
       "<style>#sk-container-id-4 {color: black;background-color: white;}#sk-container-id-4 pre{padding: 0;}#sk-container-id-4 div.sk-toggleable {background-color: white;}#sk-container-id-4 label.sk-toggleable__label {cursor: pointer;display: block;width: 100%;margin-bottom: 0;padding: 0.3em;box-sizing: border-box;text-align: center;}#sk-container-id-4 label.sk-toggleable__label-arrow:before {content: \"▸\";float: left;margin-right: 0.25em;color: #696969;}#sk-container-id-4 label.sk-toggleable__label-arrow:hover:before {color: black;}#sk-container-id-4 div.sk-estimator:hover label.sk-toggleable__label-arrow:before {color: black;}#sk-container-id-4 div.sk-toggleable__content {max-height: 0;max-width: 0;overflow: hidden;text-align: left;background-color: #f0f8ff;}#sk-container-id-4 div.sk-toggleable__content pre {margin: 0.2em;color: black;border-radius: 0.25em;background-color: #f0f8ff;}#sk-container-id-4 input.sk-toggleable__control:checked~div.sk-toggleable__content {max-height: 200px;max-width: 100%;overflow: auto;}#sk-container-id-4 input.sk-toggleable__control:checked~label.sk-toggleable__label-arrow:before {content: \"▾\";}#sk-container-id-4 div.sk-estimator input.sk-toggleable__control:checked~label.sk-toggleable__label {background-color: #d4ebff;}#sk-container-id-4 div.sk-label input.sk-toggleable__control:checked~label.sk-toggleable__label {background-color: #d4ebff;}#sk-container-id-4 input.sk-hidden--visually {border: 0;clip: rect(1px 1px 1px 1px);clip: rect(1px, 1px, 1px, 1px);height: 1px;margin: -1px;overflow: hidden;padding: 0;position: absolute;width: 1px;}#sk-container-id-4 div.sk-estimator {font-family: monospace;background-color: #f0f8ff;border: 1px dotted black;border-radius: 0.25em;box-sizing: border-box;margin-bottom: 0.5em;}#sk-container-id-4 div.sk-estimator:hover {background-color: #d4ebff;}#sk-container-id-4 div.sk-parallel-item::after {content: \"\";width: 100%;border-bottom: 1px solid gray;flex-grow: 1;}#sk-container-id-4 div.sk-label:hover label.sk-toggleable__label {background-color: #d4ebff;}#sk-container-id-4 div.sk-serial::before {content: \"\";position: absolute;border-left: 1px solid gray;box-sizing: border-box;top: 0;bottom: 0;left: 50%;z-index: 0;}#sk-container-id-4 div.sk-serial {display: flex;flex-direction: column;align-items: center;background-color: white;padding-right: 0.2em;padding-left: 0.2em;position: relative;}#sk-container-id-4 div.sk-item {position: relative;z-index: 1;}#sk-container-id-4 div.sk-parallel {display: flex;align-items: stretch;justify-content: center;background-color: white;position: relative;}#sk-container-id-4 div.sk-item::before, #sk-container-id-4 div.sk-parallel-item::before {content: \"\";position: absolute;border-left: 1px solid gray;box-sizing: border-box;top: 0;bottom: 0;left: 50%;z-index: -1;}#sk-container-id-4 div.sk-parallel-item {display: flex;flex-direction: column;z-index: 1;position: relative;background-color: white;}#sk-container-id-4 div.sk-parallel-item:first-child::after {align-self: flex-end;width: 50%;}#sk-container-id-4 div.sk-parallel-item:last-child::after {align-self: flex-start;width: 50%;}#sk-container-id-4 div.sk-parallel-item:only-child::after {width: 0;}#sk-container-id-4 div.sk-dashed-wrapped {border: 1px dashed gray;margin: 0 0.4em 0.5em 0.4em;box-sizing: border-box;padding-bottom: 0.4em;background-color: white;}#sk-container-id-4 div.sk-label label {font-family: monospace;font-weight: bold;display: inline-block;line-height: 1.2em;}#sk-container-id-4 div.sk-label-container {text-align: center;}#sk-container-id-4 div.sk-container {/* jupyter's `normalize.less` sets `[hidden] { display: none; }` but bootstrap.min.css set `[hidden] { display: none !important; }` so we also need the `!important` here to be able to override the default hidden behavior on the sphinx rendered scikit-learn.org. See: https://github.com/scikit-learn/scikit-learn/issues/21755 */display: inline-block !important;position: relative;}#sk-container-id-4 div.sk-text-repr-fallback {display: none;}</style><div id=\"sk-container-id-4\" class=\"sk-top-container\"><div class=\"sk-text-repr-fallback\"><pre>ElasticNet(alpha=1e-05, l1_ratio=0.91, max_iter=5000000, random_state=1,\n",
       "           tol=1e-05)</pre><b>In a Jupyter environment, please rerun this cell to show the HTML representation or trust the notebook. <br />On GitHub, the HTML representation is unable to render, please try loading this page with nbviewer.org.</b></div><div class=\"sk-container\" hidden><div class=\"sk-item\"><div class=\"sk-estimator sk-toggleable\"><input class=\"sk-toggleable__control sk-hidden--visually\" id=\"sk-estimator-id-4\" type=\"checkbox\" checked><label for=\"sk-estimator-id-4\" class=\"sk-toggleable__label sk-toggleable__label-arrow\">ElasticNet</label><div class=\"sk-toggleable__content\"><pre>ElasticNet(alpha=1e-05, l1_ratio=0.91, max_iter=5000000, random_state=1,\n",
       "           tol=1e-05)</pre></div></div></div></div></div>"
      ],
      "text/plain": [
       "ElasticNet(alpha=1e-05, l1_ratio=0.91, max_iter=5000000, random_state=1,\n",
       "           tol=1e-05)"
      ]
     },
     "execution_count": 45,
     "metadata": {},
     "output_type": "execute_result"
    }
   ],
   "source": [
    "model.fit(X_train,Y_train)"
   ]
  },
  {
   "cell_type": "code",
   "execution_count": 46,
   "metadata": {
    "id": "lxkf-JWVJcII",
    "outputId": "ddfa93be-47d2-4065-8707-1bd4830b3452"
   },
   "outputs": [
    {
     "name": "stdout",
     "output_type": "stream",
     "text": [
      "The model performance for training set\n",
      "--------------------------------------\n",
      "RMSE is 78.53879839080429\n",
      "R2 score is 0.9467676333630805\n"
     ]
    }
   ],
   "source": [
    "#### model evaluation for training set\n",
    "y_train_predict = model.predict(X_train)\n",
    "rmse = (np.sqrt(mean_squared_error(Y_train, y_train_predict)))\n",
    "r2 = r2_score(Y_train, y_train_predict)\n",
    "print(\"The model performance for training set\")\n",
    "print(\"--------------------------------------\")\n",
    "print('RMSE is {}'.format(rmse))\n",
    "print('R2 score is {}'.format(r2))\n"
   ]
  },
  {
   "cell_type": "code",
   "execution_count": 47,
   "metadata": {
    "id": "_UbMbGWmJcIJ",
    "outputId": "23f0a680-30ff-469d-ce61-5072f8169517"
   },
   "outputs": [
    {
     "name": "stdout",
     "output_type": "stream",
     "text": [
      "The model performance for testing set\n",
      "--------------------------------------\n",
      "RMSE is 128.84409579928877\n",
      "R2 score is 0.8926600614392\n"
     ]
    }
   ],
   "source": [
    "# model evaluation for test set\n",
    "y_test_predict = model.predict(X_test)\n",
    "rmse_test = (np.sqrt(mean_squared_error(Y_test, y_test_predict)))\n",
    "r2_test = r2_score(Y_test, y_test_predict)\n",
    "print(\"The model performance for testing set\")\n",
    "print(\"--------------------------------------\")\n",
    "print('RMSE is {}'.format(rmse_test))\n",
    "print('R2 score is {}'.format(r2_test))"
   ]
  },
  {
   "cell_type": "code",
   "execution_count": 48,
   "metadata": {
    "id": "vjNCwEB4JcIJ"
   },
   "outputs": [],
   "source": [
    "X_val=X1[84:123]\n",
    "Y_val=Y1[84:123]"
   ]
  },
  {
   "cell_type": "code",
   "execution_count": 49,
   "metadata": {
    "id": "VK8CziElJcIK",
    "outputId": "ffa24728-4de2-47cf-dee3-60a63b02fbd8"
   },
   "outputs": [
    {
     "name": "stdout",
     "output_type": "stream",
     "text": [
      "The model performance for validation set\n",
      "--------------------------------------\n",
      "RMSE is 222.73443248653138\n",
      "R2 score is 0.3773850584327091\n"
     ]
    }
   ],
   "source": [
    "# model evaluation for Validation set\n",
    "y_val_predict = model.predict(X_val)\n",
    "rmse_val = (np.sqrt(mean_squared_error(Y_val, y_val_predict)))\n",
    "r2_val = r2_score(Y_val, y_val_predict)\n",
    "print(\"The model performance for validation set\")\n",
    "print(\"--------------------------------------\")\n",
    "print('RMSE is {}'.format(rmse_val))\n",
    "print('R2 score is {}'.format(r2_val))"
   ]
  },
  {
   "cell_type": "code",
   "execution_count": null,
   "metadata": {
    "id": "0wI3RO3bJcIK"
   },
   "outputs": [],
   "source": []
  },
  {
   "cell_type": "code",
   "execution_count": null,
   "metadata": {
    "id": "YaBKPPDWJcIK"
   },
   "outputs": [],
   "source": []
  },
  {
   "cell_type": "code",
   "execution_count": null,
   "metadata": {
    "id": "ivKFoDBsJcIL"
   },
   "outputs": [],
   "source": []
  },
  {
   "cell_type": "code",
   "execution_count": null,
   "metadata": {
    "id": "GUF7eMmXJcIL"
   },
   "outputs": [],
   "source": []
  },
  {
   "cell_type": "code",
   "execution_count": 50,
   "metadata": {
    "id": "cHpFG-z0JcIL",
    "outputId": "c740a8fa-84fc-4eaf-d42d-a36ca7df35d9"
   },
   "outputs": [
    {
     "name": "stderr",
     "output_type": "stream",
     "text": [
      "C:\\Users\\Samarthya's Laptop\\AppData\\Local\\Temp\\ipykernel_15400\\2507113549.py:21: UserWarning: linestyle is redundantly defined by the 'linestyle' keyword argument and the fmt string \"r-\" (-> linestyle='-'). The keyword argument will take precedence.\n",
      "  plt.plot((0,2500),(0,2500), 'r-',linestyle='dashed',label='y=x line')\n"
     ]
    },
    {
     "data": {
      "image/png": "[encoded data removed]",
      "text/plain": [
       "<Figure size 450x400 with 1 Axes>"
      ]
     },
     "metadata": {},
     "output_type": "display_data"
    }
   ],
   "source": [
    "#### define your data plot here       \n",
    "plt.figure(figsize=(4.5,4),dpi=100)\n",
    "plt.title(' ', fontsize=13) \n",
    "#### define your data plot here       \n",
    "plt.xlim((0,2500))\n",
    "plt.xticks(np.linspace(0,2500,6,endpoint=True))\n",
    "plt.ylim((0,2500))\n",
    "plt.yticks(np.linspace(0,2500,6,endpoint=True))\n",
    "plt.tick_params(axis='both', which='major', labelsize=13)\n",
    "plt.scatter(Y_train, y_train_predict, label='Training',\n",
    "            s=60,marker='o')\n",
    "plt.scatter(Y_test,y_test_predict, label='Primary test',\n",
    "            facecolors='red',alpha=1, edgecolors='none',s=60, marker='s')\n",
    "plt.scatter(Y_val, y_val_predict, label='Secondary test',\n",
    "            facecolors='orange',alpha=1, edgecolors='none',s=60, marker='^')\n",
    "plt.xlabel(\"Observed cycle life\",fontsize=13)\n",
    "plt.ylabel(\"Predicted cycle life\",fontsize=13)\n",
    "\n",
    "#####fitting with a y=x line here (polynomial approach)\n",
    "#p1 = np.polyfit(Y_train, y_train_predict,1)\n",
    "plt.plot((0,2500),(0,2500), 'r-',linestyle='dashed',label='y=x line')\n",
    "leg = plt.legend()\n",
    "leg.get_frame().set_edgecolor('black')\n",
    "plt.tight_layout()"
   ]
  },
  {
   "cell_type": "code",
   "execution_count": 51,
   "metadata": {
    "id": "ViemrUSBJcIM"
   },
   "outputs": [],
   "source": [
    "from sklearn.model_selection import cross_val_score\n",
    "from sklearn.model_selection import RepeatedKFold\n",
    "from numpy import absolute"
   ]
  },
  {
   "cell_type": "code",
   "execution_count": null,
   "metadata": {
    "id": "TWba7498JcIM"
   },
   "outputs": [],
   "source": []
  },
  {
   "cell_type": "code",
   "execution_count": null,
   "metadata": {
    "id": "H8L9r0VMJcIM"
   },
   "outputs": [],
   "source": []
  },
  {
   "cell_type": "code",
   "execution_count": 52,
   "metadata": {
    "id": "szoTdII_JcIM"
   },
   "outputs": [],
   "source": [
    "first_bit= np.log10(dataset[\"discharge_capacity_2\"])/(dataset[\"dq_variance\"])**(1/3)"
   ]
  },
  {
   "cell_type": "code",
   "execution_count": 53,
   "metadata": {
    "id": "L8YzDxoFJcIN"
   },
   "outputs": [],
   "source": [
    "second_bit=(dataset[\"dq_variance\"]**(1/3))*(dataset[\"dq_variance\"]/dataset[\"dq_variance\"])"
   ]
  },
  {
   "cell_type": "code",
   "execution_count": 54,
   "metadata": {
    "id": "LCq6yP7xJcIN",
    "outputId": "c285feab-c2bc-41f5-a184-aca7ca5e64ec"
   },
   "outputs": [
    {
     "data": {
      "text/plain": [
       "<matplotlib.collections.PathCollection at 0x1ec5fb83ad0>"
      ]
     },
     "execution_count": 54,
     "metadata": {},
     "output_type": "execute_result"
    },
    {
     "data": {
      "image/png": "[encoded data removed]",
      "text/plain": [
       "<Figure size 640x480 with 1 Axes>"
      ]
     },
     "metadata": {},
     "output_type": "display_data"
    }
   ],
   "source": [
    "plt.scatter(dataset[\"cycle_life\"], (0.3786262607E+03*first_bit)+(-0.6281856557E+02*second_bit)+0.5522646811E+03)\n",
    "#plt.xlim(0,2000)\n",
    "#plt.ylim(0,2000)"
   ]
  },
  {
   "cell_type": "code",
   "execution_count": 55,
   "metadata": {
    "id": "wJJfsgLxJcIN"
   },
   "outputs": [],
   "source": [
    "df_new= pd. DataFrame({'first_f':first_bit,\n",
    "                     'second_f':second_bit,\n",
    "                      })"
   ]
  },
  {
   "cell_type": "code",
   "execution_count": 56,
   "metadata": {
    "id": "vs2T1WyqJcIN"
   },
   "outputs": [],
   "source": [
    "Y2=dataset[\"cycle_life\"]"
   ]
  },
  {
   "cell_type": "code",
   "execution_count": 57,
   "metadata": {
    "id": "LbWz3d6EJcIO",
    "outputId": "86e15c3b-ea18-4e58-9e4e-e7eca172d0f4"
   },
   "outputs": [
    {
     "data": {
      "text/plain": [
       "(124, 2)"
      ]
     },
     "execution_count": 57,
     "metadata": {},
     "output_type": "execute_result"
    }
   ],
   "source": [
    "df_new.shape"
   ]
  },
  {
   "cell_type": "code",
   "execution_count": 58,
   "metadata": {
    "id": "MGi7VVRzJcIO"
   },
   "outputs": [],
   "source": [
    "X_train, X_test, Y_train, Y_test = train_test_split(df_new[0:82], Y2[0:82],\n",
    "                                                    test_size = 0.5, random_state=1000)"
   ]
  },
  {
   "cell_type": "code",
   "execution_count": null,
   "metadata": {
    "id": "CIh6f4uFJcIO"
   },
   "outputs": [],
   "source": [
    "\n"
   ]
  },
  {
   "cell_type": "code",
   "execution_count": 59,
   "metadata": {
    "id": "1DnqwDCEJcIO"
   },
   "outputs": [],
   "source": [
    "X_val=df_new[84:123]\n",
    "#X_val=X1[84:123]\n",
    "Y_val=Y2[84:123]"
   ]
  },
  {
   "cell_type": "code",
   "execution_count": 60,
   "metadata": {
    "id": "zfh5e_A1JcIP",
    "outputId": "a06fd82c-bf44-4f69-be20-19b873eb7f1f"
   },
   "outputs": [
    {
     "data": {
      "text/html": [
       "<style>#sk-container-id-5 {color: black;background-color: white;}#sk-container-id-5 pre{padding: 0;}#sk-container-id-5 div.sk-toggleable {background-color: white;}#sk-container-id-5 label.sk-toggleable__label {cursor: pointer;display: block;width: 100%;margin-bottom: 0;padding: 0.3em;box-sizing: border-box;text-align: center;}#sk-container-id-5 label.sk-toggleable__label-arrow:before {content: \"▸\";float: left;margin-right: 0.25em;color: #696969;}#sk-container-id-5 label.sk-toggleable__label-arrow:hover:before {color: black;}#sk-container-id-5 div.sk-estimator:hover label.sk-toggleable__label-arrow:before {color: black;}#sk-container-id-5 div.sk-toggleable__content {max-height: 0;max-width: 0;overflow: hidden;text-align: left;background-color: #f0f8ff;}#sk-container-id-5 div.sk-toggleable__content pre {margin: 0.2em;color: black;border-radius: 0.25em;background-color: #f0f8ff;}#sk-container-id-5 input.sk-toggleable__control:checked~div.sk-toggleable__content {max-height: 200px;max-width: 100%;overflow: auto;}#sk-container-id-5 input.sk-toggleable__control:checked~label.sk-toggleable__label-arrow:before {content: \"▾\";}#sk-container-id-5 div.sk-estimator input.sk-toggleable__control:checked~label.sk-toggleable__label {background-color: #d4ebff;}#sk-container-id-5 div.sk-label input.sk-toggleable__control:checked~label.sk-toggleable__label {background-color: #d4ebff;}#sk-container-id-5 input.sk-hidden--visually {border: 0;clip: rect(1px 1px 1px 1px);clip: rect(1px, 1px, 1px, 1px);height: 1px;margin: -1px;overflow: hidden;padding: 0;position: absolute;width: 1px;}#sk-container-id-5 div.sk-estimator {font-family: monospace;background-color: #f0f8ff;border: 1px dotted black;border-radius: 0.25em;box-sizing: border-box;margin-bottom: 0.5em;}#sk-container-id-5 div.sk-estimator:hover {background-color: #d4ebff;}#sk-container-id-5 div.sk-parallel-item::after {content: \"\";width: 100%;border-bottom: 1px solid gray;flex-grow: 1;}#sk-container-id-5 div.sk-label:hover label.sk-toggleable__label {background-color: #d4ebff;}#sk-container-id-5 div.sk-serial::before {content: \"\";position: absolute;border-left: 1px solid gray;box-sizing: border-box;top: 0;bottom: 0;left: 50%;z-index: 0;}#sk-container-id-5 div.sk-serial {display: flex;flex-direction: column;align-items: center;background-color: white;padding-right: 0.2em;padding-left: 0.2em;position: relative;}#sk-container-id-5 div.sk-item {position: relative;z-index: 1;}#sk-container-id-5 div.sk-parallel {display: flex;align-items: stretch;justify-content: center;background-color: white;position: relative;}#sk-container-id-5 div.sk-item::before, #sk-container-id-5 div.sk-parallel-item::before {content: \"\";position: absolute;border-left: 1px solid gray;box-sizing: border-box;top: 0;bottom: 0;left: 50%;z-index: -1;}#sk-container-id-5 div.sk-parallel-item {display: flex;flex-direction: column;z-index: 1;position: relative;background-color: white;}#sk-container-id-5 div.sk-parallel-item:first-child::after {align-self: flex-end;width: 50%;}#sk-container-id-5 div.sk-parallel-item:last-child::after {align-self: flex-start;width: 50%;}#sk-container-id-5 div.sk-parallel-item:only-child::after {width: 0;}#sk-container-id-5 div.sk-dashed-wrapped {border: 1px dashed gray;margin: 0 0.4em 0.5em 0.4em;box-sizing: border-box;padding-bottom: 0.4em;background-color: white;}#sk-container-id-5 div.sk-label label {font-family: monospace;font-weight: bold;display: inline-block;line-height: 1.2em;}#sk-container-id-5 div.sk-label-container {text-align: center;}#sk-container-id-5 div.sk-container {/* jupyter's `normalize.less` sets `[hidden] { display: none; }` but bootstrap.min.css set `[hidden] { display: none !important; }` so we also need the `!important` here to be able to override the default hidden behavior on the sphinx rendered scikit-learn.org. See: https://github.com/scikit-learn/scikit-learn/issues/21755 */display: inline-block !important;position: relative;}#sk-container-id-5 div.sk-text-repr-fallback {display: none;}</style><div id=\"sk-container-id-5\" class=\"sk-top-container\"><div class=\"sk-text-repr-fallback\"><pre>ElasticNet(alpha=1e-05, l1_ratio=0.91, max_iter=5000000, random_state=1,\n",
       "           tol=1e-05)</pre><b>In a Jupyter environment, please rerun this cell to show the HTML representation or trust the notebook. <br />On GitHub, the HTML representation is unable to render, please try loading this page with nbviewer.org.</b></div><div class=\"sk-container\" hidden><div class=\"sk-item\"><div class=\"sk-estimator sk-toggleable\"><input class=\"sk-toggleable__control sk-hidden--visually\" id=\"sk-estimator-id-5\" type=\"checkbox\" checked><label for=\"sk-estimator-id-5\" class=\"sk-toggleable__label sk-toggleable__label-arrow\">ElasticNet</label><div class=\"sk-toggleable__content\"><pre>ElasticNet(alpha=1e-05, l1_ratio=0.91, max_iter=5000000, random_state=1,\n",
       "           tol=1e-05)</pre></div></div></div></div></div>"
      ],
      "text/plain": [
       "ElasticNet(alpha=1e-05, l1_ratio=0.91, max_iter=5000000, random_state=1,\n",
       "           tol=1e-05)"
      ]
     },
     "execution_count": 60,
     "metadata": {},
     "output_type": "execute_result"
    }
   ],
   "source": [
    "model=ElasticNet(alpha=0.00001,l1_ratio=0.91,fit_intercept=True,tol=0.00001,max_iter=5000000,random_state=1)\n",
    "model.fit(X_train,Y_train)"
   ]
  },
  {
   "cell_type": "code",
   "execution_count": 61,
   "metadata": {
    "id": "KZ2aC_P-JcIP",
    "outputId": "3a688aa8-224c-4d56-b2a5-c51cc5b1b0c9"
   },
   "outputs": [
    {
     "name": "stdout",
     "output_type": "stream",
     "text": [
      "The model performance for training set\n",
      "--------------------------------------\n",
      "RMSE is 69.86534636432474\n",
      "R2 score is 0.9624257681492725\n"
     ]
    }
   ],
   "source": [
    "#### model evaluation for training set\n",
    "y_train_predict = model.predict(X_train)\n",
    "rmse = (np.sqrt(mean_squared_error(Y_train, y_train_predict)))\n",
    "r2 = r2_score(Y_train, y_train_predict)\n",
    "print(\"The model performance for training set\")\n",
    "print(\"--------------------------------------\")\n",
    "print('RMSE is {}'.format(rmse))\n",
    "print('R2 score is {}'.format(r2))\n"
   ]
  },
  {
   "cell_type": "code",
   "execution_count": 62,
   "metadata": {
    "id": "1OCVlQTLJcIP",
    "outputId": "681f7206-1efb-478b-95bc-35a8ab49793d"
   },
   "outputs": [
    {
     "name": "stdout",
     "output_type": "stream",
     "text": [
      "The model performance for testing set\n",
      "--------------------------------------\n",
      "RMSE is 126.0339621234447\n",
      "R2 score is 0.8811943482690491\n"
     ]
    }
   ],
   "source": [
    "# model evaluation for test set\n",
    "y_test_predict = model.predict(X_test)\n",
    "rmse_test = (np.sqrt(mean_squared_error(Y_test, y_test_predict)))\n",
    "r2_test = r2_score(Y_test, y_test_predict)\n",
    "print(\"The model performance for testing set\")\n",
    "print(\"--------------------------------------\")\n",
    "print('RMSE is {}'.format(rmse_test))\n",
    "print('R2 score is {}'.format(r2_test))"
   ]
  },
  {
   "cell_type": "code",
   "execution_count": 63,
   "metadata": {
    "id": "n7BhhDDjJcIP",
    "outputId": "3dbad05c-bb1c-4079-d757-46efb06ec204"
   },
   "outputs": [
    {
     "name": "stdout",
     "output_type": "stream",
     "text": [
      "The model performance for validation set\n",
      "--------------------------------------\n",
      "RMSE is 261.80210240648836\n",
      "R2 score is 0.13981655703803098\n"
     ]
    }
   ],
   "source": [
    "# model evaluation for Validation set\n",
    "y_val_predict = model.predict(X_val)\n",
    "rmse_val = (np.sqrt(mean_squared_error(Y_val, y_val_predict)))\n",
    "r2_val = r2_score(Y_val, y_val_predict)\n",
    "print(\"The model performance for validation set\")\n",
    "print(\"--------------------------------------\")\n",
    "print('RMSE is {}'.format(rmse_val))\n",
    "print('R2 score is {}'.format(r2_val))"
   ]
  },
  {
   "cell_type": "code",
   "execution_count": 64,
   "metadata": {
    "id": "zskQ7tiAJcIQ",
    "outputId": "fc73985f-e112-43e0-c04c-c863a2fffc07"
   },
   "outputs": [
    {
     "name": "stderr",
     "output_type": "stream",
     "text": [
      "C:\\Users\\Samarthya's Laptop\\AppData\\Local\\Temp\\ipykernel_15400\\2507113549.py:21: UserWarning: linestyle is redundantly defined by the 'linestyle' keyword argument and the fmt string \"r-\" (-> linestyle='-'). The keyword argument will take precedence.\n",
      "  plt.plot((0,2500),(0,2500), 'r-',linestyle='dashed',label='y=x line')\n"
     ]
    },
    {
     "data": {
      "image/png": "[encoded data removed]",
      "text/plain": [
       "<Figure size 450x400 with 1 Axes>"
      ]
     },
     "metadata": {},
     "output_type": "display_data"
    }
   ],
   "source": [
    "#### define your data plot here       \n",
    "plt.figure(figsize=(4.5,4),dpi=100)\n",
    "plt.title(' ', fontsize=13) \n",
    "#### define your data plot here       \n",
    "plt.xlim((0,2500))\n",
    "plt.xticks(np.linspace(0,2500,6,endpoint=True))\n",
    "plt.ylim((0,2500))\n",
    "plt.yticks(np.linspace(0,2500,6,endpoint=True))\n",
    "plt.tick_params(axis='both', which='major', labelsize=13)\n",
    "plt.scatter(Y_train, y_train_predict, label='Training',\n",
    "            s=60,marker='o')\n",
    "plt.scatter(Y_test,y_test_predict, label='Primary test',\n",
    "            facecolors='red',alpha=1, edgecolors='none',s=60, marker='s')\n",
    "plt.scatter(Y_val, y_val_predict, label='Secondary test',\n",
    "            facecolors='orange',alpha=1, edgecolors='none',s=60, marker='^')\n",
    "plt.xlabel(\"Observed cycle life\",fontsize=13)\n",
    "plt.ylabel(\"Predicted cycle life\",fontsize=13)\n",
    "\n",
    "#####fitting with a y=x line here (polynomial approach)\n",
    "#p1 = np.polyfit(Y_train, y_train_predict,1)\n",
    "plt.plot((0,2500),(0,2500), 'r-',linestyle='dashed',label='y=x line')\n",
    "leg = plt.legend()\n",
    "leg.get_frame().set_edgecolor('black')\n",
    "plt.tight_layout()"
   ]
  },
  {
   "cell_type": "code",
   "execution_count": 65,
   "metadata": {
    "id": "93WnxQVxJcIQ",
    "outputId": "6c8cfbcc-cda4-4964-d26a-7f85a157356e"
   },
   "outputs": [
    {
     "data": {
      "text/plain": [
       "0     -0.000075\n",
       "1     -0.000042\n",
       "2     -0.000014\n",
       "3      0.000039\n",
       "4     -0.000053\n",
       "         ...   \n",
       "119   -0.000155\n",
       "120   -0.000234\n",
       "121   -0.000173\n",
       "122   -0.000106\n",
       "123   -0.000080\n",
       "Name: difference_IR_100_2, Length: 124, dtype: float64"
      ]
     },
     "execution_count": 65,
     "metadata": {},
     "output_type": "execute_result"
    }
   ],
   "source": [
    "dataset[\"difference_IR_100_2\"]"
   ]
  },
  {
   "cell_type": "code",
   "execution_count": 66,
   "metadata": {
    "id": "kH5uyAK8JcIQ"
   },
   "outputs": [],
   "source": [
    "#4D Descriptor\n",
    "onebit= (dataset[\"dq_min\"]/dataset[\"dq_variance\"])*np.log10(dataset[\"discharge_capacity_2\"])\n",
    "#onebit= (dataset[\"dq_min\"]/np.log10(dataset[\"dq_variance\"]))*np.log10(dataset[\"discharge_capacity_2\"])"
   ]
  },
  {
   "cell_type": "code",
   "execution_count": 67,
   "metadata": {
    "id": "khm-Z8b4JcIQ"
   },
   "outputs": [],
   "source": [
    "twobit=(dataset[\"dq_variance\"]*dataset[\"slope_100_2\"])/(dataset[\"dq_variance\"]-dataset[\"slope_100_2\"])\n",
    "#twobit=(np.log10(dataset[\"dq_variance\"])*dataset[\"slope_100_2\"])/(np.log(dataset[\"dq_variance\"])-dataset[\"slope_100_2\"])"
   ]
  },
  {
   "cell_type": "code",
   "execution_count": 68,
   "metadata": {
    "id": "V_O0SKFiJcIR"
   },
   "outputs": [],
   "source": [
    "threebit=np.abs((dataset[\"ave_chg_time_5_1\"]/dataset[\"difference_IR_100_2\"])-(dataset[\"Integral_temp_100_2\"]/dataset[\"difference_IR_100_2\"]))"
   ]
  },
  {
   "cell_type": "code",
   "execution_count": 69,
   "metadata": {
    "id": "Ms3QFyxVJcIR"
   },
   "outputs": [],
   "source": [
    "fourbit=(dataset[\"difference_IR_100_2\"]/dataset[\"dq_variance\"])/(dataset[\"dq_variance\"]+dataset[\"slope_100_2\"])\n",
    "#fourbit=(dataset[\"difference_IR_100_2\"]/(np.log10(dataset[\"dq_variance\"])))/(np.log10(dataset[\"dq_variance\"])+dataset[\"slope_100_2\"])"
   ]
  },
  {
   "cell_type": "code",
   "execution_count": 70,
   "metadata": {
    "id": "TN9ZTRxHJcIR"
   },
   "outputs": [],
   "source": [
    "dq_new=pd.DataFrame({'obe_bit':onebit,\n",
    "                    'two_bit': twobit,\n",
    "                   'three_bit':threebit,\n",
    "                   'fourbit':fourbit})"
   ]
  },
  {
   "cell_type": "code",
   "execution_count": 71,
   "metadata": {
    "id": "TQ8DZnYrJcIR"
   },
   "outputs": [],
   "source": [
    "X_train, X_test, Y_train, Y_test = train_test_split(dq_new[0:83], Y2[0:83],\n",
    "                                                    test_size = 0.2, random_state=1000)"
   ]
  },
  {
   "cell_type": "code",
   "execution_count": 72,
   "metadata": {
    "id": "9Q0wnv7PJcIR"
   },
   "outputs": [],
   "source": [
    "X_val=dq_new[84:123]\n",
    "#X_val=X1[84:123]\n",
    "Y_val=Y2[84:123]"
   ]
  },
  {
   "cell_type": "code",
   "execution_count": 73,
   "metadata": {
    "id": "DP4NJUA6JcIS",
    "outputId": "17f5f02a-c138-4c39-9f06-aee2890884d8"
   },
   "outputs": [
    {
     "data": {
      "text/html": [
       "<style>#sk-container-id-6 {color: black;background-color: white;}#sk-container-id-6 pre{padding: 0;}#sk-container-id-6 div.sk-toggleable {background-color: white;}#sk-container-id-6 label.sk-toggleable__label {cursor: pointer;display: block;width: 100%;margin-bottom: 0;padding: 0.3em;box-sizing: border-box;text-align: center;}#sk-container-id-6 label.sk-toggleable__label-arrow:before {content: \"▸\";float: left;margin-right: 0.25em;color: #696969;}#sk-container-id-6 label.sk-toggleable__label-arrow:hover:before {color: black;}#sk-container-id-6 div.sk-estimator:hover label.sk-toggleable__label-arrow:before {color: black;}#sk-container-id-6 div.sk-toggleable__content {max-height: 0;max-width: 0;overflow: hidden;text-align: left;background-color: #f0f8ff;}#sk-container-id-6 div.sk-toggleable__content pre {margin: 0.2em;color: black;border-radius: 0.25em;background-color: #f0f8ff;}#sk-container-id-6 input.sk-toggleable__control:checked~div.sk-toggleable__content {max-height: 200px;max-width: 100%;overflow: auto;}#sk-container-id-6 input.sk-toggleable__control:checked~label.sk-toggleable__label-arrow:before {content: \"▾\";}#sk-container-id-6 div.sk-estimator input.sk-toggleable__control:checked~label.sk-toggleable__label {background-color: #d4ebff;}#sk-container-id-6 div.sk-label input.sk-toggleable__control:checked~label.sk-toggleable__label {background-color: #d4ebff;}#sk-container-id-6 input.sk-hidden--visually {border: 0;clip: rect(1px 1px 1px 1px);clip: rect(1px, 1px, 1px, 1px);height: 1px;margin: -1px;overflow: hidden;padding: 0;position: absolute;width: 1px;}#sk-container-id-6 div.sk-estimator {font-family: monospace;background-color: #f0f8ff;border: 1px dotted black;border-radius: 0.25em;box-sizing: border-box;margin-bottom: 0.5em;}#sk-container-id-6 div.sk-estimator:hover {background-color: #d4ebff;}#sk-container-id-6 div.sk-parallel-item::after {content: \"\";width: 100%;border-bottom: 1px solid gray;flex-grow: 1;}#sk-container-id-6 div.sk-label:hover label.sk-toggleable__label {background-color: #d4ebff;}#sk-container-id-6 div.sk-serial::before {content: \"\";position: absolute;border-left: 1px solid gray;box-sizing: border-box;top: 0;bottom: 0;left: 50%;z-index: 0;}#sk-container-id-6 div.sk-serial {display: flex;flex-direction: column;align-items: center;background-color: white;padding-right: 0.2em;padding-left: 0.2em;position: relative;}#sk-container-id-6 div.sk-item {position: relative;z-index: 1;}#sk-container-id-6 div.sk-parallel {display: flex;align-items: stretch;justify-content: center;background-color: white;position: relative;}#sk-container-id-6 div.sk-item::before, #sk-container-id-6 div.sk-parallel-item::before {content: \"\";position: absolute;border-left: 1px solid gray;box-sizing: border-box;top: 0;bottom: 0;left: 50%;z-index: -1;}#sk-container-id-6 div.sk-parallel-item {display: flex;flex-direction: column;z-index: 1;position: relative;background-color: white;}#sk-container-id-6 div.sk-parallel-item:first-child::after {align-self: flex-end;width: 50%;}#sk-container-id-6 div.sk-parallel-item:last-child::after {align-self: flex-start;width: 50%;}#sk-container-id-6 div.sk-parallel-item:only-child::after {width: 0;}#sk-container-id-6 div.sk-dashed-wrapped {border: 1px dashed gray;margin: 0 0.4em 0.5em 0.4em;box-sizing: border-box;padding-bottom: 0.4em;background-color: white;}#sk-container-id-6 div.sk-label label {font-family: monospace;font-weight: bold;display: inline-block;line-height: 1.2em;}#sk-container-id-6 div.sk-label-container {text-align: center;}#sk-container-id-6 div.sk-container {/* jupyter's `normalize.less` sets `[hidden] { display: none; }` but bootstrap.min.css set `[hidden] { display: none !important; }` so we also need the `!important` here to be able to override the default hidden behavior on the sphinx rendered scikit-learn.org. See: https://github.com/scikit-learn/scikit-learn/issues/21755 */display: inline-block !important;position: relative;}#sk-container-id-6 div.sk-text-repr-fallback {display: none;}</style><div id=\"sk-container-id-6\" class=\"sk-top-container\"><div class=\"sk-text-repr-fallback\"><pre>ElasticNet(alpha=0.0001, max_iter=5000000, random_state=1)</pre><b>In a Jupyter environment, please rerun this cell to show the HTML representation or trust the notebook. <br />On GitHub, the HTML representation is unable to render, please try loading this page with nbviewer.org.</b></div><div class=\"sk-container\" hidden><div class=\"sk-item\"><div class=\"sk-estimator sk-toggleable\"><input class=\"sk-toggleable__control sk-hidden--visually\" id=\"sk-estimator-id-6\" type=\"checkbox\" checked><label for=\"sk-estimator-id-6\" class=\"sk-toggleable__label sk-toggleable__label-arrow\">ElasticNet</label><div class=\"sk-toggleable__content\"><pre>ElasticNet(alpha=0.0001, max_iter=5000000, random_state=1)</pre></div></div></div></div></div>"
      ],
      "text/plain": [
       "ElasticNet(alpha=0.0001, max_iter=5000000, random_state=1)"
      ]
     },
     "execution_count": 73,
     "metadata": {},
     "output_type": "execute_result"
    }
   ],
   "source": [
    "model=ElasticNet(alpha=0.0001,l1_ratio=0.5,fit_intercept=True,tol=0.0001,max_iter=5000000,random_state=1)\n",
    "from sklearn.linear_model import LinearRegression\n",
    "#model=LinearRegression()\n",
    "model.fit(X_train,Y_train)"
   ]
  },
  {
   "cell_type": "code",
   "execution_count": 74,
   "metadata": {
    "id": "7RFhrWkxJcIS",
    "outputId": "78e34352-6f3b-46d0-cc50-4d85c9d35499"
   },
   "outputs": [
    {
     "name": "stdout",
     "output_type": "stream",
     "text": [
      "The model performance for training set\n",
      "--------------------------------------\n",
      "RMSE is 84.34827238186018\n",
      "R2 score is 0.9461475898661937\n"
     ]
    }
   ],
   "source": [
    "#### model evaluation for training set\n",
    "y_train_predict = model.predict(X_train)\n",
    "rmse = (np.sqrt(mean_squared_error(Y_train, y_train_predict)))\n",
    "r2 = r2_score(Y_train, y_train_predict)\n",
    "print(\"The model performance for training set\")\n",
    "print(\"--------------------------------------\")\n",
    "print('RMSE is {}'.format(rmse))\n",
    "print('R2 score is {}'.format(r2))\n"
   ]
  },
  {
   "cell_type": "code",
   "execution_count": 75,
   "metadata": {
    "id": "mrHmanNuJcIS",
    "outputId": "d266b5d0-9dd3-4bf8-d756-606408ba8011"
   },
   "outputs": [
    {
     "name": "stdout",
     "output_type": "stream",
     "text": [
      "The model performance for testing set\n",
      "--------------------------------------\n",
      "RMSE is 111.61515054109802\n",
      "R2 score is 0.9022134208837613\n"
     ]
    }
   ],
   "source": [
    "# model evaluation for test set\n",
    "y_test_predict = model.predict(X_test)\n",
    "rmse_test = (np.sqrt(mean_squared_error(Y_test, y_test_predict)))\n",
    "r2_test = r2_score(Y_test, y_test_predict)\n",
    "print(\"The model performance for testing set\")\n",
    "print(\"--------------------------------------\")\n",
    "print('RMSE is {}'.format(rmse_test))\n",
    "print('R2 score is {}'.format(r2_test))"
   ]
  },
  {
   "cell_type": "code",
   "execution_count": 76,
   "metadata": {
    "id": "f9Vk1QYDJcIS",
    "outputId": "a5af8049-d465-4c41-a713-80ab2a234125"
   },
   "outputs": [
    {
     "name": "stdout",
     "output_type": "stream",
     "text": [
      "The model performance for validation set\n",
      "--------------------------------------\n",
      "RMSE is 331.2291173325071\n",
      "R2 score is -0.37689820502578164\n"
     ]
    }
   ],
   "source": [
    "# model evaluation for Validation set\n",
    "y_val_predict = model.predict(X_val)\n",
    "rmse_val = (np.sqrt(mean_squared_error(Y_val, y_val_predict)))\n",
    "r2_val = r2_score(Y_val, y_val_predict)\n",
    "print(\"The model performance for validation set\")\n",
    "print(\"--------------------------------------\")\n",
    "print('RMSE is {}'.format(rmse_val))\n",
    "print('R2 score is {}'.format(r2_val))"
   ]
  },
  {
   "cell_type": "code",
   "execution_count": 77,
   "metadata": {
    "id": "-atJ0CfSJcIT",
    "outputId": "5f136cdf-7bd4-4931-8405-0ee30cf32436"
   },
   "outputs": [
    {
     "name": "stderr",
     "output_type": "stream",
     "text": [
      "C:\\Users\\Samarthya's Laptop\\AppData\\Local\\Temp\\ipykernel_15400\\2507113549.py:21: UserWarning: linestyle is redundantly defined by the 'linestyle' keyword argument and the fmt string \"r-\" (-> linestyle='-'). The keyword argument will take precedence.\n",
      "  plt.plot((0,2500),(0,2500), 'r-',linestyle='dashed',label='y=x line')\n"
     ]
    },
    {
     "data": {
      "image/png": "[encoded data removed]",
      "text/plain": [
       "<Figure size 450x400 with 1 Axes>"
      ]
     },
     "metadata": {},
     "output_type": "display_data"
    }
   ],
   "source": [
    "#### define your data plot here       \n",
    "plt.figure(figsize=(4.5,4),dpi=100)\n",
    "plt.title(' ', fontsize=13) \n",
    "#### define your data plot here       \n",
    "plt.xlim((0,2500))\n",
    "plt.xticks(np.linspace(0,2500,6,endpoint=True))\n",
    "plt.ylim((0,2500))\n",
    "plt.yticks(np.linspace(0,2500,6,endpoint=True))\n",
    "plt.tick_params(axis='both', which='major', labelsize=13)\n",
    "plt.scatter(Y_train, y_train_predict, label='Training',\n",
    "            s=60,marker='o')\n",
    "plt.scatter(Y_test,y_test_predict, label='Primary test',\n",
    "            facecolors='red',alpha=1, edgecolors='none',s=60, marker='s')\n",
    "plt.scatter(Y_val, y_val_predict, label='Secondary test',\n",
    "            facecolors='orange',alpha=1, edgecolors='none',s=60, marker='^')\n",
    "plt.xlabel(\"Observed cycle life\",fontsize=13)\n",
    "plt.ylabel(\"Predicted cycle life\",fontsize=13)\n",
    "\n",
    "#####fitting with a y=x line here (polynomial approach)\n",
    "#p1 = np.polyfit(Y_train, y_train_predict,1)\n",
    "plt.plot((0,2500),(0,2500), 'r-',linestyle='dashed',label='y=x line')\n",
    "leg = plt.legend()\n",
    "leg.get_frame().set_edgecolor('black')\n",
    "plt.tight_layout()"
   ]
  }
 ],
 "metadata": {
  "colab": {
   "provenance": []
  },
  "kernelspec": {
   "display_name": "Python 3 (ipykernel)",
   "language": "python",
   "name": "python3"
  },
  "language_info": {
   "codemirror_mode": {
    "name": "ipython",
    "version": 3
   },
   "file_extension": ".py",
   "mimetype": "text/x-python",
   "name": "python",
   "nbconvert_exporter": "python",
   "pygments_lexer": "ipython3",
   "version": "3.11.3"
  }
 },
 "nbformat": 4,
 "nbformat_minor": 1
}
