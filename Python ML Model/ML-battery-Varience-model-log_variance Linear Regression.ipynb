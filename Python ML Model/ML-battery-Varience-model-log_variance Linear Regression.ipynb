{
 "cells": [
  {
   "cell_type": "code",
   "execution_count": 1,
   "metadata": {
    "executionInfo": {
     "elapsed": 1975,
     "status": "ok",
     "timestamp": 1685337279719,
     "user": {
      "displayName": "Vani Nigam",
      "userId": "17076642279981811764"
     },
     "user_tz": -330
    },
    "id": "aL-dvJbtJcHw"
   },
   "outputs": [],
   "source": [
    "%%capture --no-display\n",
    "import pandas as pd\n",
    "import numpy as np\n",
    "from sklearn.model_selection import train_test_split\n",
    "from sklearn import metrics\n",
    "from sklearn.model_selection import cross_val_score\n",
    "from sklearn.metrics import mean_squared_error\n",
    "from sklearn import preprocessing\n",
    "import matplotlib.pyplot as plt\n",
    "#-----------------------------------------------------##\n",
    "from sklearn.linear_model import LinearRegression\n",
    "from sklearn.linear_model import Ridge\n",
    "from sklearn.linear_model import Lasso\n",
    "from sklearn.linear_model import ElasticNet\n",
    "from sklearn.kernel_ridge import KernelRidge\n",
    "from sklearn import ensemble\n",
    "from scipy import stats \n",
    "from sklearn.metrics import mean_squared_error\n",
    "from sklearn.metrics import r2_score\n",
    "from sklearn.model_selection import GridSearchCV\n",
    "from scipy.stats import kurtosis\n",
    "from scipy.stats import skew\n",
    "from sklearn.model_selection import cross_validate\n",
    "from sklearn.preprocessing import *\n",
    "from sklearn.preprocessing import MinMaxScaler"
   ]
  },
  {
   "cell_type": "code",
   "execution_count": 2,
   "metadata": {
    "colab": {
     "base_uri": "https://localhost:8080/",
     "height": 346
    },
    "executionInfo": {
     "elapsed": 1952,
     "status": "error",
     "timestamp": 1685337285436,
     "user": {
      "displayName": "Vani Nigam",
      "userId": "17076642279981811764"
     },
     "user_tz": -330
    },
    "id": "mRaCt-s2JcH1",
    "outputId": "62c642d3-e872-425c-96f3-c1e177fe70c1"
   },
   "outputs": [
    {
     "data": {
      "text/html": [
       "<div>\n",
       "<style scoped>\n",
       "    .dataframe tbody tr th:only-of-type {\n",
       "        vertical-align: middle;\n",
       "    }\n",
       "\n",
       "    .dataframe tbody tr th {\n",
       "        vertical-align: top;\n",
       "    }\n",
       "\n",
       "    .dataframe thead th {\n",
       "        text-align: right;\n",
       "    }\n",
       "</style>\n",
       "<table border=\"1\" class=\"dataframe\">\n",
       "  <thead>\n",
       "    <tr style=\"text-align: right;\">\n",
       "      <th></th>\n",
       "      <th>Unnamed: 0</th>\n",
       "      <th>dq_min</th>\n",
       "      <th>dq_mean</th>\n",
       "      <th>dq_variance</th>\n",
       "      <th>dq_skewness</th>\n",
       "      <th>dq_kurtosis</th>\n",
       "      <th>slope_100_2</th>\n",
       "      <th>intercept_100_2</th>\n",
       "      <th>discharge_capacity_2</th>\n",
       "      <th>discharge_capacity_100</th>\n",
       "      <th>...</th>\n",
       "      <th>slope_100_91</th>\n",
       "      <th>intercept_100_91</th>\n",
       "      <th>ave_chg_time_5_1</th>\n",
       "      <th>max_temp_100_2</th>\n",
       "      <th>min_temp_100_2</th>\n",
       "      <th>Integral_temp_100_2</th>\n",
       "      <th>integral_resistance_2</th>\n",
       "      <th>minimum_IR</th>\n",
       "      <th>difference_IR_100_2</th>\n",
       "      <th>cycle_life</th>\n",
       "    </tr>\n",
       "  </thead>\n",
       "  <tbody>\n",
       "    <tr>\n",
       "      <th>0</th>\n",
       "      <td>0</td>\n",
       "      <td>-0.008460</td>\n",
       "      <td>-0.002873</td>\n",
       "      <td>0.000010</td>\n",
       "      <td>-0.532058</td>\n",
       "      <td>-1.348312</td>\n",
       "      <td>-0.000214</td>\n",
       "      <td>1.091381</td>\n",
       "      <td>1.070689</td>\n",
       "      <td>1.075913</td>\n",
       "      <td>...</td>\n",
       "      <td>0.000046</td>\n",
       "      <td>1.071447</td>\n",
       "      <td>13.374894</td>\n",
       "      <td>31.632496</td>\n",
       "      <td>31.266918</td>\n",
       "      <td>18.742036</td>\n",
       "      <td>0.016742</td>\n",
       "      <td>0.0</td>\n",
       "      <td>-0.000075</td>\n",
       "      <td>1852</td>\n",
       "    </tr>\n",
       "    <tr>\n",
       "      <th>1</th>\n",
       "      <td>1</td>\n",
       "      <td>-0.011004</td>\n",
       "      <td>-0.004100</td>\n",
       "      <td>0.000010</td>\n",
       "      <td>-0.429375</td>\n",
       "      <td>-1.029116</td>\n",
       "      <td>0.000007</td>\n",
       "      <td>1.080926</td>\n",
       "      <td>1.075301</td>\n",
       "      <td>1.080630</td>\n",
       "      <td>...</td>\n",
       "      <td>-0.000037</td>\n",
       "      <td>1.084382</td>\n",
       "      <td>13.409150</td>\n",
       "      <td>31.376623</td>\n",
       "      <td>31.076239</td>\n",
       "      <td>19.743747</td>\n",
       "      <td>0.017039</td>\n",
       "      <td>0.0</td>\n",
       "      <td>-0.000042</td>\n",
       "      <td>2160</td>\n",
       "    </tr>\n",
       "    <tr>\n",
       "      <th>2</th>\n",
       "      <td>2</td>\n",
       "      <td>-0.017216</td>\n",
       "      <td>-0.004487</td>\n",
       "      <td>0.000018</td>\n",
       "      <td>-1.080194</td>\n",
       "      <td>0.348637</td>\n",
       "      <td>0.000011</td>\n",
       "      <td>1.084805</td>\n",
       "      <td>1.079922</td>\n",
       "      <td>1.084940</td>\n",
       "      <td>...</td>\n",
       "      <td>-0.000040</td>\n",
       "      <td>1.088961</td>\n",
       "      <td>13.358242</td>\n",
       "      <td>31.447081</td>\n",
       "      <td>31.146742</td>\n",
       "      <td>19.985985</td>\n",
       "      <td>0.016868</td>\n",
       "      <td>0.0</td>\n",
       "      <td>-0.000014</td>\n",
       "      <td>2237</td>\n",
       "    </tr>\n",
       "    <tr>\n",
       "      <th>3</th>\n",
       "      <td>3</td>\n",
       "      <td>-0.018961</td>\n",
       "      <td>-0.007456</td>\n",
       "      <td>0.000036</td>\n",
       "      <td>-0.439050</td>\n",
       "      <td>-1.095416</td>\n",
       "      <td>0.000018</td>\n",
       "      <td>1.084030</td>\n",
       "      <td>1.079723</td>\n",
       "      <td>1.084750</td>\n",
       "      <td>...</td>\n",
       "      <td>-0.000002</td>\n",
       "      <td>1.084960</td>\n",
       "      <td>12.025140</td>\n",
       "      <td>29.982986</td>\n",
       "      <td>29.857000</td>\n",
       "      <td>18.640968</td>\n",
       "      <td>0.016370</td>\n",
       "      <td>0.0</td>\n",
       "      <td>0.000039</td>\n",
       "      <td>1434</td>\n",
       "    </tr>\n",
       "    <tr>\n",
       "      <th>4</th>\n",
       "      <td>4</td>\n",
       "      <td>-0.013958</td>\n",
       "      <td>-0.005750</td>\n",
       "      <td>0.000023</td>\n",
       "      <td>-0.362548</td>\n",
       "      <td>-1.333831</td>\n",
       "      <td>0.000020</td>\n",
       "      <td>1.081825</td>\n",
       "      <td>1.078417</td>\n",
       "      <td>1.082646</td>\n",
       "      <td>...</td>\n",
       "      <td>-0.000034</td>\n",
       "      <td>1.085988</td>\n",
       "      <td>12.041851</td>\n",
       "      <td>31.433310</td>\n",
       "      <td>31.181360</td>\n",
       "      <td>21.154489</td>\n",
       "      <td>0.016787</td>\n",
       "      <td>0.0</td>\n",
       "      <td>-0.000053</td>\n",
       "      <td>1709</td>\n",
       "    </tr>\n",
       "  </tbody>\n",
       "</table>\n",
       "<p>5 rows × 21 columns</p>\n",
       "</div>"
      ],
      "text/plain": [
       "   Unnamed: 0    dq_min   dq_mean  dq_variance  dq_skewness  dq_kurtosis  \\\n",
       "0           0 -0.008460 -0.002873     0.000010    -0.532058    -1.348312   \n",
       "1           1 -0.011004 -0.004100     0.000010    -0.429375    -1.029116   \n",
       "2           2 -0.017216 -0.004487     0.000018    -1.080194     0.348637   \n",
       "3           3 -0.018961 -0.007456     0.000036    -0.439050    -1.095416   \n",
       "4           4 -0.013958 -0.005750     0.000023    -0.362548    -1.333831   \n",
       "\n",
       "   slope_100_2  intercept_100_2  discharge_capacity_2  discharge_capacity_100  \\\n",
       "0    -0.000214         1.091381              1.070689                1.075913   \n",
       "1     0.000007         1.080926              1.075301                1.080630   \n",
       "2     0.000011         1.084805              1.079922                1.084940   \n",
       "3     0.000018         1.084030              1.079723                1.084750   \n",
       "4     0.000020         1.081825              1.078417                1.082646   \n",
       "\n",
       "   ...  slope_100_91  intercept_100_91  ave_chg_time_5_1  max_temp_100_2  \\\n",
       "0  ...      0.000046          1.071447         13.374894       31.632496   \n",
       "1  ...     -0.000037          1.084382         13.409150       31.376623   \n",
       "2  ...     -0.000040          1.088961         13.358242       31.447081   \n",
       "3  ...     -0.000002          1.084960         12.025140       29.982986   \n",
       "4  ...     -0.000034          1.085988         12.041851       31.433310   \n",
       "\n",
       "   min_temp_100_2  Integral_temp_100_2  integral_resistance_2  minimum_IR  \\\n",
       "0       31.266918            18.742036               0.016742         0.0   \n",
       "1       31.076239            19.743747               0.017039         0.0   \n",
       "2       31.146742            19.985985               0.016868         0.0   \n",
       "3       29.857000            18.640968               0.016370         0.0   \n",
       "4       31.181360            21.154489               0.016787         0.0   \n",
       "\n",
       "   difference_IR_100_2  cycle_life  \n",
       "0            -0.000075        1852  \n",
       "1            -0.000042        2160  \n",
       "2            -0.000014        2237  \n",
       "3             0.000039        1434  \n",
       "4            -0.000053        1709  \n",
       "\n",
       "[5 rows x 21 columns]"
      ]
     },
     "execution_count": 2,
     "metadata": {},
     "output_type": "execute_result"
    }
   ],
   "source": [
    "dataset = pd.read_csv(\"battery_ml (1).csv\")\n",
    "dataset.head()"
   ]
  },
  {
   "cell_type": "code",
   "execution_count": 3,
   "metadata": {
    "colab": {
     "base_uri": "https://localhost:8080/"
    },
    "executionInfo": {
     "elapsed": 422,
     "status": "ok",
     "timestamp": 1682055614689,
     "user": {
      "displayName": "Vani Nigam",
      "userId": "17076642279981811764"
     },
     "user_tz": -330
    },
    "id": "ORWs0xISJcH2",
    "outputId": "868623a3-f7d4-4b1b-a355-ecf46b119b4d"
   },
   "outputs": [
    {
     "data": {
      "text/plain": [
       "0      1852\n",
       "1      2160\n",
       "2      2237\n",
       "3      1434\n",
       "4      1709\n",
       "       ... \n",
       "119    1156\n",
       "120     796\n",
       "121     786\n",
       "122     940\n",
       "123    1801\n",
       "Name: cycle_life, Length: 124, dtype: int64"
      ]
     },
     "execution_count": 3,
     "metadata": {},
     "output_type": "execute_result"
    }
   ],
   "source": [
    "dataset[\"cycle_life\"]\n"
   ]
  },
  {
   "cell_type": "code",
   "execution_count": 4,
   "metadata": {
    "id": "jQqTBUdBJcH3",
    "outputId": "c2c40efc-5b39-4345-fb01-68eb21cc87fd"
   },
   "outputs": [
    {
     "data": {
      "image/png": "[encoded data removed]",
      "text/plain": [
       "<Figure size 640x480 with 1 Axes>"
      ]
     },
     "metadata": {},
     "output_type": "display_data"
    }
   ],
   "source": [
    "ax=dataset.hist(column='cycle_life',bins=25)\n",
    "ax = ax[0] \n",
    "for x in ax:\n",
    "    x.set_title(\"\")\n",
    "    x.set_xlabel(\" Life cycle\", labelpad=10, size=13)\n",
    "    x.set_ylabel(\"Frequency\", labelpad=10, size=13)\n",
    "\n",
    "    x.spines['right'].set_visible(False)\n",
    "    x.spines['top'].set_visible(False)\n",
    "    x.spines['left'].set_visible(False)"
   ]
  },
  {
   "cell_type": "code",
   "execution_count": 5,
   "metadata": {
    "id": "AN7xq9dTJcH4"
   },
   "outputs": [],
   "source": [
    "import seaborn as sns"
   ]
  },
  {
   "cell_type": "code",
   "execution_count": 6,
   "metadata": {
    "id": "aNaZpnZjJcH4",
    "outputId": "491871e9-d593-4973-d207-39afb408a1de"
   },
   "outputs": [
    {
     "name": "stderr",
     "output_type": "stream",
     "text": [
      "C:\\Users\\Samarthya's Laptop\\AppData\\Local\\Temp\\ipykernel_708\\2787820880.py:1: UserWarning: \n",
      "\n",
      "`distplot` is a deprecated function and will be removed in seaborn v0.14.0.\n",
      "\n",
      "Please adapt your code to use either `displot` (a figure-level function with\n",
      "similar flexibility) or `histplot` (an axes-level function for histograms).\n",
      "\n",
      "For a guide to updating your code to use the new functions, please see\n",
      "https://gist.github.com/mwaskom/de44147ed2974457ad6372750bbe5751\n",
      "\n",
      "  sns.distplot(dataset['cycle_life'],bins=25,kde=True,color='k')\n"
     ]
    },
    {
     "data": {
      "text/plain": [
       "<Axes: xlabel='cycle_life', ylabel='Density'>"
      ]
     },
     "execution_count": 6,
     "metadata": {},
     "output_type": "execute_result"
    },
    {
     "data": {
      "image/png": "[encoded data removed]",
      "text/plain": [
       "<Figure size 640x480 with 1 Axes>"
      ]
     },
     "metadata": {},
     "output_type": "display_data"
    }
   ],
   "source": [
    "sns.distplot(dataset['cycle_life'],bins=25,kde=True,color='k')"
   ]
  },
  {
   "cell_type": "code",
   "execution_count": 7,
   "metadata": {
    "id": "rwoeFs8kJcH5",
    "outputId": "45fe2313-676d-4e55-dc92-36f891f8382f"
   },
   "outputs": [
    {
     "data": {
      "text/plain": [
       "<matplotlib.collections.PathCollection at 0x253a8321390>"
      ]
     },
     "execution_count": 7,
     "metadata": {},
     "output_type": "execute_result"
    },
    {
     "data": {
      "image/png": "[encoded data removed]",
      "text/plain": [
       "<Figure size 640x480 with 1 Axes>"
      ]
     },
     "metadata": {},
     "output_type": "display_data"
    }
   ],
   "source": [
    "#dq_variance\n",
    "plt.scatter(np.log10(dataset['dq_variance']),dataset['cycle_life'])\n"
   ]
  },
  {
   "cell_type": "code",
   "execution_count": 8,
   "metadata": {
    "id": "bOttV27fJcH5",
    "outputId": "4239a194-2bdc-459a-eeec-771e6c5a5e72"
   },
   "outputs": [
    {
     "data": {
      "text/plain": [
       "array([[ 1.        , -0.88974274],\n",
       "       [-0.88974274,  1.        ]])"
      ]
     },
     "execution_count": 8,
     "metadata": {},
     "output_type": "execute_result"
    }
   ],
   "source": [
    "np.corrcoef(np.log10(dataset['dq_variance']),dataset['cycle_life'])"
   ]
  },
  {
   "cell_type": "code",
   "execution_count": 9,
   "metadata": {
    "id": "S5XLq1XEJcH6",
    "outputId": "de369daa-4f4f-4167-ee70-4f3b3ef1f307"
   },
   "outputs": [
    {
     "data": {
      "text/plain": [
       "<matplotlib.collections.PathCollection at 0x253a1839390>"
      ]
     },
     "execution_count": 9,
     "metadata": {},
     "output_type": "execute_result"
    },
    {
     "data": {
      "image/png": "[encoded data removed]",
      "text/plain": [
       "<Figure size 640x480 with 1 Axes>"
      ]
     },
     "metadata": {},
     "output_type": "display_data"
    }
   ],
   "source": [
    "plt.scatter(np.cbrt(dataset['dq_variance']),dataset['cycle_life'])"
   ]
  },
  {
   "cell_type": "code",
   "execution_count": 10,
   "metadata": {
    "id": "bET7WyK5JcH7",
    "outputId": "ac8d8ba9-1784-4586-96dd-d26b80a37d9f"
   },
   "outputs": [
    {
     "data": {
      "text/plain": [
       "array([[ 1.        , -0.80846817],\n",
       "       [-0.80846817,  1.        ]])"
      ]
     },
     "execution_count": 10,
     "metadata": {},
     "output_type": "execute_result"
    }
   ],
   "source": [
    "np.corrcoef(np.cbrt(dataset['dq_variance']),dataset['cycle_life'])"
   ]
  },
  {
   "cell_type": "code",
   "execution_count": 11,
   "metadata": {
    "id": "Pnsk2DLtJcH7"
   },
   "outputs": [],
   "source": [
    "#plt.scatter(np.log(dataset['dq_variance']),np.log10(dataset['cycle_life']))"
   ]
  },
  {
   "cell_type": "code",
   "execution_count": 12,
   "metadata": {
    "id": "8TUEB5u6JcH8"
   },
   "outputs": [],
   "source": [
    "#plt.scatter(((dataset['dq_variance']-np.mean(dataset['dq_variance'])/np.std(dataset['dq_variance']))),np.log10(dataset['cycle_life']))"
   ]
  },
  {
   "cell_type": "code",
   "execution_count": 13,
   "metadata": {
    "id": "DXKs6CNmJcH8",
    "outputId": "8a6b36d9-ef54-48c6-d193-419fe441380d"
   },
   "outputs": [
    {
     "name": "stdout",
     "output_type": "stream",
     "text": [
      "*********** Original data*******************\n",
      "count     124.000000\n",
      "mean      801.637097\n",
      "std       379.717082\n",
      "min       148.000000\n",
      "25%       498.750000\n",
      "50%       736.500000\n",
      "75%       946.500000\n",
      "max      2237.000000\n",
      "Name: cycle_life, dtype: float64\n",
      "skew :  1.5722118774617826\n",
      "kurt :  2.9001076537372352\n"
     ]
    }
   ],
   "source": [
    "print(\"*********** Original data*******************\")\n",
    "print(dataset['cycle_life'].describe())\n",
    "print(\"skew : \",skew(dataset['cycle_life']))\n",
    "print(\"kurt : \",kurtosis(dataset['cycle_life']))"
   ]
  },
  {
   "cell_type": "code",
   "execution_count": null,
   "metadata": {
    "id": "BAE_zIemJcH8"
   },
   "outputs": [],
   "source": []
  },
  {
   "cell_type": "code",
   "execution_count": null,
   "metadata": {
    "id": "eN9T0pl0JcH8"
   },
   "outputs": [],
   "source": []
  },
  {
   "cell_type": "code",
   "execution_count": null,
   "metadata": {
    "id": "frIyUW0vJcH9"
   },
   "outputs": [],
   "source": []
  },
  {
   "cell_type": "code",
   "execution_count": 14,
   "metadata": {
    "id": "NenjeDnyJcH9"
   },
   "outputs": [],
   "source": [
    "#Selecting Features and Target,  X1=features, Y1=Target\n",
    "X1=dataset.drop([\"cycle_life\",'Unnamed: 0'],axis=1)"
   ]
  },
  {
   "cell_type": "code",
   "execution_count": 15,
   "metadata": {
    "id": "tEh2bGdgJcH9",
    "outputId": "f8ea7398-5fed-45e9-bde3-f6e934f80e52"
   },
   "outputs": [
    {
     "data": {
      "text/html": [
       "<div>\n",
       "<style scoped>\n",
       "    .dataframe tbody tr th:only-of-type {\n",
       "        vertical-align: middle;\n",
       "    }\n",
       "\n",
       "    .dataframe tbody tr th {\n",
       "        vertical-align: top;\n",
       "    }\n",
       "\n",
       "    .dataframe thead th {\n",
       "        text-align: right;\n",
       "    }\n",
       "</style>\n",
       "<table border=\"1\" class=\"dataframe\">\n",
       "  <thead>\n",
       "    <tr style=\"text-align: right;\">\n",
       "      <th></th>\n",
       "      <th>dq_min</th>\n",
       "      <th>dq_mean</th>\n",
       "      <th>dq_variance</th>\n",
       "      <th>dq_skewness</th>\n",
       "      <th>dq_kurtosis</th>\n",
       "      <th>slope_100_2</th>\n",
       "      <th>intercept_100_2</th>\n",
       "      <th>discharge_capacity_2</th>\n",
       "      <th>discharge_capacity_100</th>\n",
       "      <th>diff_QD_n_2</th>\n",
       "      <th>slope_100_91</th>\n",
       "      <th>intercept_100_91</th>\n",
       "      <th>ave_chg_time_5_1</th>\n",
       "      <th>max_temp_100_2</th>\n",
       "      <th>min_temp_100_2</th>\n",
       "      <th>Integral_temp_100_2</th>\n",
       "      <th>integral_resistance_2</th>\n",
       "      <th>minimum_IR</th>\n",
       "      <th>difference_IR_100_2</th>\n",
       "    </tr>\n",
       "  </thead>\n",
       "  <tbody>\n",
       "    <tr>\n",
       "      <th>0</th>\n",
       "      <td>-0.008460</td>\n",
       "      <td>-0.002873</td>\n",
       "      <td>0.000010</td>\n",
       "      <td>-0.532058</td>\n",
       "      <td>-1.348312</td>\n",
       "      <td>-2.137460e-04</td>\n",
       "      <td>1.091381</td>\n",
       "      <td>1.070689</td>\n",
       "      <td>1.075913</td>\n",
       "      <td>0.468365</td>\n",
       "      <td>0.000046</td>\n",
       "      <td>1.071447</td>\n",
       "      <td>13.374894</td>\n",
       "      <td>31.632496</td>\n",
       "      <td>31.266918</td>\n",
       "      <td>18.742036</td>\n",
       "      <td>0.016742</td>\n",
       "      <td>0.000000</td>\n",
       "      <td>-0.000075</td>\n",
       "    </tr>\n",
       "    <tr>\n",
       "      <th>1</th>\n",
       "      <td>-0.011004</td>\n",
       "      <td>-0.004100</td>\n",
       "      <td>0.000010</td>\n",
       "      <td>-0.429375</td>\n",
       "      <td>-1.029116</td>\n",
       "      <td>6.676023e-06</td>\n",
       "      <td>1.080926</td>\n",
       "      <td>1.075301</td>\n",
       "      <td>1.080630</td>\n",
       "      <td>0.009288</td>\n",
       "      <td>-0.000037</td>\n",
       "      <td>1.084382</td>\n",
       "      <td>13.409150</td>\n",
       "      <td>31.376623</td>\n",
       "      <td>31.076239</td>\n",
       "      <td>19.743747</td>\n",
       "      <td>0.017039</td>\n",
       "      <td>0.000000</td>\n",
       "      <td>-0.000042</td>\n",
       "    </tr>\n",
       "    <tr>\n",
       "      <th>2</th>\n",
       "      <td>-0.017216</td>\n",
       "      <td>-0.004487</td>\n",
       "      <td>0.000018</td>\n",
       "      <td>-1.080194</td>\n",
       "      <td>0.348637</td>\n",
       "      <td>1.149798e-05</td>\n",
       "      <td>1.084805</td>\n",
       "      <td>1.079922</td>\n",
       "      <td>1.084940</td>\n",
       "      <td>0.008131</td>\n",
       "      <td>-0.000040</td>\n",
       "      <td>1.088961</td>\n",
       "      <td>13.358242</td>\n",
       "      <td>31.447081</td>\n",
       "      <td>31.146742</td>\n",
       "      <td>19.985985</td>\n",
       "      <td>0.016868</td>\n",
       "      <td>0.000000</td>\n",
       "      <td>-0.000014</td>\n",
       "    </tr>\n",
       "    <tr>\n",
       "      <th>3</th>\n",
       "      <td>-0.018961</td>\n",
       "      <td>-0.007456</td>\n",
       "      <td>0.000036</td>\n",
       "      <td>-0.439050</td>\n",
       "      <td>-1.095416</td>\n",
       "      <td>1.846790e-05</td>\n",
       "      <td>1.084030</td>\n",
       "      <td>1.079723</td>\n",
       "      <td>1.084750</td>\n",
       "      <td>0.006530</td>\n",
       "      <td>-0.000002</td>\n",
       "      <td>1.084960</td>\n",
       "      <td>12.025140</td>\n",
       "      <td>29.982986</td>\n",
       "      <td>29.857000</td>\n",
       "      <td>18.640968</td>\n",
       "      <td>0.016370</td>\n",
       "      <td>0.000000</td>\n",
       "      <td>0.000039</td>\n",
       "    </tr>\n",
       "    <tr>\n",
       "      <th>4</th>\n",
       "      <td>-0.013958</td>\n",
       "      <td>-0.005750</td>\n",
       "      <td>0.000023</td>\n",
       "      <td>-0.362548</td>\n",
       "      <td>-1.333831</td>\n",
       "      <td>2.046078e-05</td>\n",
       "      <td>1.081825</td>\n",
       "      <td>1.078417</td>\n",
       "      <td>1.082646</td>\n",
       "      <td>0.005900</td>\n",
       "      <td>-0.000034</td>\n",
       "      <td>1.085988</td>\n",
       "      <td>12.041851</td>\n",
       "      <td>31.433310</td>\n",
       "      <td>31.181360</td>\n",
       "      <td>21.154489</td>\n",
       "      <td>0.016787</td>\n",
       "      <td>0.000000</td>\n",
       "      <td>-0.000053</td>\n",
       "    </tr>\n",
       "    <tr>\n",
       "      <th>...</th>\n",
       "      <td>...</td>\n",
       "      <td>...</td>\n",
       "      <td>...</td>\n",
       "      <td>...</td>\n",
       "      <td>...</td>\n",
       "      <td>...</td>\n",
       "      <td>...</td>\n",
       "      <td>...</td>\n",
       "      <td>...</td>\n",
       "      <td>...</td>\n",
       "      <td>...</td>\n",
       "      <td>...</td>\n",
       "      <td>...</td>\n",
       "      <td>...</td>\n",
       "      <td>...</td>\n",
       "      <td>...</td>\n",
       "      <td>...</td>\n",
       "      <td>...</td>\n",
       "      <td>...</td>\n",
       "    </tr>\n",
       "    <tr>\n",
       "      <th>119</th>\n",
       "      <td>-0.017458</td>\n",
       "      <td>-0.006428</td>\n",
       "      <td>0.000035</td>\n",
       "      <td>-0.292539</td>\n",
       "      <td>-1.003013</td>\n",
       "      <td>-5.631454e-06</td>\n",
       "      <td>1.050886</td>\n",
       "      <td>1.047404</td>\n",
       "      <td>1.049504</td>\n",
       "      <td>0.004107</td>\n",
       "      <td>-0.000005</td>\n",
       "      <td>1.050216</td>\n",
       "      <td>10.043833</td>\n",
       "      <td>34.218964</td>\n",
       "      <td>33.899652</td>\n",
       "      <td>51.489886</td>\n",
       "      <td>0.015741</td>\n",
       "      <td>0.015481</td>\n",
       "      <td>-0.000155</td>\n",
       "    </tr>\n",
       "    <tr>\n",
       "      <th>120</th>\n",
       "      <td>-0.022054</td>\n",
       "      <td>-0.009079</td>\n",
       "      <td>0.000051</td>\n",
       "      <td>-0.315431</td>\n",
       "      <td>-1.138513</td>\n",
       "      <td>-6.625013e-06</td>\n",
       "      <td>1.063355</td>\n",
       "      <td>1.059324</td>\n",
       "      <td>1.061757</td>\n",
       "      <td>0.004510</td>\n",
       "      <td>-0.000042</td>\n",
       "      <td>1.066049</td>\n",
       "      <td>10.043563</td>\n",
       "      <td>33.911189</td>\n",
       "      <td>32.981926</td>\n",
       "      <td>66.841951</td>\n",
       "      <td>0.015562</td>\n",
       "      <td>0.014996</td>\n",
       "      <td>-0.000234</td>\n",
       "    </tr>\n",
       "    <tr>\n",
       "      <th>121</th>\n",
       "      <td>-0.024193</td>\n",
       "      <td>-0.009748</td>\n",
       "      <td>0.000060</td>\n",
       "      <td>-0.357134</td>\n",
       "      <td>-1.063130</td>\n",
       "      <td>1.066398e-05</td>\n",
       "      <td>1.053846</td>\n",
       "      <td>1.050522</td>\n",
       "      <td>1.054153</td>\n",
       "      <td>0.004362</td>\n",
       "      <td>-0.000057</td>\n",
       "      <td>1.059706</td>\n",
       "      <td>10.042974</td>\n",
       "      <td>33.621746</td>\n",
       "      <td>32.648149</td>\n",
       "      <td>72.070386</td>\n",
       "      <td>0.018542</td>\n",
       "      <td>0.017007</td>\n",
       "      <td>-0.000173</td>\n",
       "    </tr>\n",
       "    <tr>\n",
       "      <th>122</th>\n",
       "      <td>-0.025985</td>\n",
       "      <td>-0.011231</td>\n",
       "      <td>0.000074</td>\n",
       "      <td>-0.244616</td>\n",
       "      <td>-1.238396</td>\n",
       "      <td>5.494642e-06</td>\n",
       "      <td>1.073051</td>\n",
       "      <td>1.069720</td>\n",
       "      <td>1.072928</td>\n",
       "      <td>0.004185</td>\n",
       "      <td>-0.000028</td>\n",
       "      <td>1.075614</td>\n",
       "      <td>10.043436</td>\n",
       "      <td>33.111576</td>\n",
       "      <td>32.626095</td>\n",
       "      <td>64.641417</td>\n",
       "      <td>0.015723</td>\n",
       "      <td>0.015505</td>\n",
       "      <td>-0.000106</td>\n",
       "    </tr>\n",
       "    <tr>\n",
       "      <th>123</th>\n",
       "      <td>-0.016478</td>\n",
       "      <td>-0.007132</td>\n",
       "      <td>0.000030</td>\n",
       "      <td>-0.328143</td>\n",
       "      <td>-1.177129</td>\n",
       "      <td>4.360338e-07</td>\n",
       "      <td>1.071453</td>\n",
       "      <td>1.069549</td>\n",
       "      <td>1.071125</td>\n",
       "      <td>0.002596</td>\n",
       "      <td>-0.000011</td>\n",
       "      <td>1.072108</td>\n",
       "      <td>11.037650</td>\n",
       "      <td>32.682870</td>\n",
       "      <td>32.265186</td>\n",
       "      <td>77.553560</td>\n",
       "      <td>0.015742</td>\n",
       "      <td>0.015389</td>\n",
       "      <td>-0.000080</td>\n",
       "    </tr>\n",
       "  </tbody>\n",
       "</table>\n",
       "<p>124 rows × 19 columns</p>\n",
       "</div>"
      ],
      "text/plain": [
       "       dq_min   dq_mean  dq_variance  dq_skewness  dq_kurtosis   slope_100_2  \\\n",
       "0   -0.008460 -0.002873     0.000010    -0.532058    -1.348312 -2.137460e-04   \n",
       "1   -0.011004 -0.004100     0.000010    -0.429375    -1.029116  6.676023e-06   \n",
       "2   -0.017216 -0.004487     0.000018    -1.080194     0.348637  1.149798e-05   \n",
       "3   -0.018961 -0.007456     0.000036    -0.439050    -1.095416  1.846790e-05   \n",
       "4   -0.013958 -0.005750     0.000023    -0.362548    -1.333831  2.046078e-05   \n",
       "..        ...       ...          ...          ...          ...           ...   \n",
       "119 -0.017458 -0.006428     0.000035    -0.292539    -1.003013 -5.631454e-06   \n",
       "120 -0.022054 -0.009079     0.000051    -0.315431    -1.138513 -6.625013e-06   \n",
       "121 -0.024193 -0.009748     0.000060    -0.357134    -1.063130  1.066398e-05   \n",
       "122 -0.025985 -0.011231     0.000074    -0.244616    -1.238396  5.494642e-06   \n",
       "123 -0.016478 -0.007132     0.000030    -0.328143    -1.177129  4.360338e-07   \n",
       "\n",
       "     intercept_100_2  discharge_capacity_2  discharge_capacity_100  \\\n",
       "0           1.091381              1.070689                1.075913   \n",
       "1           1.080926              1.075301                1.080630   \n",
       "2           1.084805              1.079922                1.084940   \n",
       "3           1.084030              1.079723                1.084750   \n",
       "4           1.081825              1.078417                1.082646   \n",
       "..               ...                   ...                     ...   \n",
       "119         1.050886              1.047404                1.049504   \n",
       "120         1.063355              1.059324                1.061757   \n",
       "121         1.053846              1.050522                1.054153   \n",
       "122         1.073051              1.069720                1.072928   \n",
       "123         1.071453              1.069549                1.071125   \n",
       "\n",
       "     diff_QD_n_2  slope_100_91  intercept_100_91  ave_chg_time_5_1  \\\n",
       "0       0.468365      0.000046          1.071447         13.374894   \n",
       "1       0.009288     -0.000037          1.084382         13.409150   \n",
       "2       0.008131     -0.000040          1.088961         13.358242   \n",
       "3       0.006530     -0.000002          1.084960         12.025140   \n",
       "4       0.005900     -0.000034          1.085988         12.041851   \n",
       "..           ...           ...               ...               ...   \n",
       "119     0.004107     -0.000005          1.050216         10.043833   \n",
       "120     0.004510     -0.000042          1.066049         10.043563   \n",
       "121     0.004362     -0.000057          1.059706         10.042974   \n",
       "122     0.004185     -0.000028          1.075614         10.043436   \n",
       "123     0.002596     -0.000011          1.072108         11.037650   \n",
       "\n",
       "     max_temp_100_2  min_temp_100_2  Integral_temp_100_2  \\\n",
       "0         31.632496       31.266918            18.742036   \n",
       "1         31.376623       31.076239            19.743747   \n",
       "2         31.447081       31.146742            19.985985   \n",
       "3         29.982986       29.857000            18.640968   \n",
       "4         31.433310       31.181360            21.154489   \n",
       "..              ...             ...                  ...   \n",
       "119       34.218964       33.899652            51.489886   \n",
       "120       33.911189       32.981926            66.841951   \n",
       "121       33.621746       32.648149            72.070386   \n",
       "122       33.111576       32.626095            64.641417   \n",
       "123       32.682870       32.265186            77.553560   \n",
       "\n",
       "     integral_resistance_2  minimum_IR  difference_IR_100_2  \n",
       "0                 0.016742    0.000000            -0.000075  \n",
       "1                 0.017039    0.000000            -0.000042  \n",
       "2                 0.016868    0.000000            -0.000014  \n",
       "3                 0.016370    0.000000             0.000039  \n",
       "4                 0.016787    0.000000            -0.000053  \n",
       "..                     ...         ...                  ...  \n",
       "119               0.015741    0.015481            -0.000155  \n",
       "120               0.015562    0.014996            -0.000234  \n",
       "121               0.018542    0.017007            -0.000173  \n",
       "122               0.015723    0.015505            -0.000106  \n",
       "123               0.015742    0.015389            -0.000080  \n",
       "\n",
       "[124 rows x 19 columns]"
      ]
     },
     "execution_count": 15,
     "metadata": {},
     "output_type": "execute_result"
    }
   ],
   "source": [
    "X1"
   ]
  },
  {
   "cell_type": "code",
   "execution_count": null,
   "metadata": {
    "id": "88WAcEQMJcH9"
   },
   "outputs": [],
   "source": []
  },
  {
   "cell_type": "code",
   "execution_count": 16,
   "metadata": {
    "id": "0h1zIKzlJcH9"
   },
   "outputs": [],
   "source": [
    "X1=X1[['dq_variance']]"
   ]
  },
  {
   "cell_type": "code",
   "execution_count": 17,
   "metadata": {
    "id": "gPAMXmAVJcH-",
    "outputId": "7fb783e0-e0cc-451c-9604-b34d88c8f2d4"
   },
   "outputs": [
    {
     "data": {
      "text/html": [
       "<div>\n",
       "<style scoped>\n",
       "    .dataframe tbody tr th:only-of-type {\n",
       "        vertical-align: middle;\n",
       "    }\n",
       "\n",
       "    .dataframe tbody tr th {\n",
       "        vertical-align: top;\n",
       "    }\n",
       "\n",
       "    .dataframe thead th {\n",
       "        text-align: right;\n",
       "    }\n",
       "</style>\n",
       "<table border=\"1\" class=\"dataframe\">\n",
       "  <thead>\n",
       "    <tr style=\"text-align: right;\">\n",
       "      <th></th>\n",
       "      <th>dq_variance</th>\n",
       "    </tr>\n",
       "  </thead>\n",
       "  <tbody>\n",
       "    <tr>\n",
       "      <th>0</th>\n",
       "      <td>0.000010</td>\n",
       "    </tr>\n",
       "    <tr>\n",
       "      <th>1</th>\n",
       "      <td>0.000010</td>\n",
       "    </tr>\n",
       "    <tr>\n",
       "      <th>2</th>\n",
       "      <td>0.000018</td>\n",
       "    </tr>\n",
       "    <tr>\n",
       "      <th>3</th>\n",
       "      <td>0.000036</td>\n",
       "    </tr>\n",
       "    <tr>\n",
       "      <th>4</th>\n",
       "      <td>0.000023</td>\n",
       "    </tr>\n",
       "    <tr>\n",
       "      <th>...</th>\n",
       "      <td>...</td>\n",
       "    </tr>\n",
       "    <tr>\n",
       "      <th>119</th>\n",
       "      <td>0.000035</td>\n",
       "    </tr>\n",
       "    <tr>\n",
       "      <th>120</th>\n",
       "      <td>0.000051</td>\n",
       "    </tr>\n",
       "    <tr>\n",
       "      <th>121</th>\n",
       "      <td>0.000060</td>\n",
       "    </tr>\n",
       "    <tr>\n",
       "      <th>122</th>\n",
       "      <td>0.000074</td>\n",
       "    </tr>\n",
       "    <tr>\n",
       "      <th>123</th>\n",
       "      <td>0.000030</td>\n",
       "    </tr>\n",
       "  </tbody>\n",
       "</table>\n",
       "<p>124 rows × 1 columns</p>\n",
       "</div>"
      ],
      "text/plain": [
       "     dq_variance\n",
       "0       0.000010\n",
       "1       0.000010\n",
       "2       0.000018\n",
       "3       0.000036\n",
       "4       0.000023\n",
       "..           ...\n",
       "119     0.000035\n",
       "120     0.000051\n",
       "121     0.000060\n",
       "122     0.000074\n",
       "123     0.000030\n",
       "\n",
       "[124 rows x 1 columns]"
      ]
     },
     "execution_count": 17,
     "metadata": {},
     "output_type": "execute_result"
    }
   ],
   "source": [
    "X1"
   ]
  },
  {
   "cell_type": "code",
   "execution_count": 18,
   "metadata": {
    "id": "9NOpg0DWJcH-"
   },
   "outputs": [],
   "source": [
    "export=pd.concat([X1,dataset[\"cycle_life\"]],axis=1)"
   ]
  },
  {
   "cell_type": "code",
   "execution_count": 19,
   "metadata": {
    "id": "d2esHE_QJcH-"
   },
   "outputs": [],
   "source": [
    "export.to_csv('sisso.csv',sep=' ')"
   ]
  },
  {
   "cell_type": "code",
   "execution_count": null,
   "metadata": {
    "id": "LJrOi4ipJcH-"
   },
   "outputs": [],
   "source": []
  },
  {
   "cell_type": "code",
   "execution_count": 20,
   "metadata": {
    "id": "LS4st6JUJcH-",
    "outputId": "592e14ec-eb08-4642-fd52-cdf759c47b58"
   },
   "outputs": [
    {
     "name": "stderr",
     "output_type": "stream",
     "text": [
      "C:\\Users\\Samarthya's Laptop\\AppData\\Local\\Temp\\ipykernel_708\\3541331533.py:1: SettingWithCopyWarning: \n",
      "A value is trying to be set on a copy of a slice from a DataFrame.\n",
      "Try using .loc[row_indexer,col_indexer] = value instead\n",
      "\n",
      "See the caveats in the documentation: https://pandas.pydata.org/pandas-docs/stable/user_guide/indexing.html#returning-a-view-versus-a-copy\n",
      "  X1['dq_variance']=np.log10(X1['dq_variance'])\n"
     ]
    }
   ],
   "source": [
    "X1['dq_variance']=np.log10(X1['dq_variance'])"
   ]
  },
  {
   "cell_type": "code",
   "execution_count": null,
   "metadata": {
    "id": "ygufMQayJcH-"
   },
   "outputs": [],
   "source": []
  },
  {
   "cell_type": "code",
   "execution_count": 21,
   "metadata": {
    "id": "sJUrIZ2vJcH-"
   },
   "outputs": [],
   "source": [
    "#X1 = preprocessing.scale(X1)"
   ]
  },
  {
   "cell_type": "code",
   "execution_count": 22,
   "metadata": {
    "id": "RGUlalOuJcH_"
   },
   "outputs": [],
   "source": [
    "Y1=dataset[\"cycle_life\"]"
   ]
  },
  {
   "cell_type": "code",
   "execution_count": 23,
   "metadata": {
    "id": "-JlwCIzdJcH_"
   },
   "outputs": [],
   "source": [
    "#Y1=Y.apply(lambda x: np.sqrt(x))\n",
    "#Y1=Y.apply(lambda x: x**(1/3))\n",
    "#Y1=Y.apply(lambda x: np.log(x))\n",
    "#Y1=Y.apply(lambda x: x**(-0.375))\n",
    "#Y1=Y\n",
    "#Y1.hist(bins=20)\n",
    "#print(\"*********** Original data*******************\")\n",
    "#print(Y1.describe())\n",
    "#print(\"skew : \",skew(Y1))\n",
    "#print(\"kurt : \",kurtosis(Y1))"
   ]
  },
  {
   "cell_type": "code",
   "execution_count": null,
   "metadata": {
    "id": "mvdzPJGUJcH_"
   },
   "outputs": [],
   "source": []
  },
  {
   "cell_type": "code",
   "execution_count": 24,
   "metadata": {
    "id": "YdjoaNHMJcH_"
   },
   "outputs": [],
   "source": [
    "X_train, X_test, Y_train, Y_test = train_test_split(X1[0:83], Y1[0:83],\n",
    "                                                    test_size = 0.4, random_state=1000)"
   ]
  },
  {
   "cell_type": "code",
   "execution_count": 25,
   "metadata": {
    "id": "rlmDjxYOJcH_"
   },
   "outputs": [],
   "source": [
    "#X_train=X1[0:40]\n",
    "#Y_train=Y1[0:40]"
   ]
  },
  {
   "cell_type": "code",
   "execution_count": 26,
   "metadata": {
    "id": "YI9skETxJcH_"
   },
   "outputs": [],
   "source": [
    "#X_test=X1[41:83]\n",
    "#Y_test=Y1[41:83]"
   ]
  },
  {
   "cell_type": "code",
   "execution_count": 27,
   "metadata": {
    "id": "_bAc-qzSJcIA"
   },
   "outputs": [],
   "source": [
    "X_val=X1[84:123]\n",
    "Y_val=Y1[84:123]"
   ]
  },
  {
   "cell_type": "markdown",
   "metadata": {
    "id": "jdhoe75bJcIA"
   },
   "source": [
    "# Regression with ElasticNet"
   ]
  },
  {
   "cell_type": "code",
   "execution_count": 28,
   "metadata": {
    "id": "af5tCbiLJcIB"
   },
   "outputs": [],
   "source": [
    "model = LinearRegression()\n",
    "#model=ElasticNet()"
   ]
  },
  {
   "cell_type": "code",
   "execution_count": 29,
   "metadata": {
    "id": "bSp1RPdKJcIB",
    "outputId": "bcb90a28-f52f-43ed-8b0f-368ed2d89489"
   },
   "outputs": [
    {
     "data": {
      "text/html": [
       "<style>#sk-container-id-1 {color: black;background-color: white;}#sk-container-id-1 pre{padding: 0;}#sk-container-id-1 div.sk-toggleable {background-color: white;}#sk-container-id-1 label.sk-toggleable__label {cursor: pointer;display: block;width: 100%;margin-bottom: 0;padding: 0.3em;box-sizing: border-box;text-align: center;}#sk-container-id-1 label.sk-toggleable__label-arrow:before {content: \"▸\";float: left;margin-right: 0.25em;color: #696969;}#sk-container-id-1 label.sk-toggleable__label-arrow:hover:before {color: black;}#sk-container-id-1 div.sk-estimator:hover label.sk-toggleable__label-arrow:before {color: black;}#sk-container-id-1 div.sk-toggleable__content {max-height: 0;max-width: 0;overflow: hidden;text-align: left;background-color: #f0f8ff;}#sk-container-id-1 div.sk-toggleable__content pre {margin: 0.2em;color: black;border-radius: 0.25em;background-color: #f0f8ff;}#sk-container-id-1 input.sk-toggleable__control:checked~div.sk-toggleable__content {max-height: 200px;max-width: 100%;overflow: auto;}#sk-container-id-1 input.sk-toggleable__control:checked~label.sk-toggleable__label-arrow:before {content: \"▾\";}#sk-container-id-1 div.sk-estimator input.sk-toggleable__control:checked~label.sk-toggleable__label {background-color: #d4ebff;}#sk-container-id-1 div.sk-label input.sk-toggleable__control:checked~label.sk-toggleable__label {background-color: #d4ebff;}#sk-container-id-1 input.sk-hidden--visually {border: 0;clip: rect(1px 1px 1px 1px);clip: rect(1px, 1px, 1px, 1px);height: 1px;margin: -1px;overflow: hidden;padding: 0;position: absolute;width: 1px;}#sk-container-id-1 div.sk-estimator {font-family: monospace;background-color: #f0f8ff;border: 1px dotted black;border-radius: 0.25em;box-sizing: border-box;margin-bottom: 0.5em;}#sk-container-id-1 div.sk-estimator:hover {background-color: #d4ebff;}#sk-container-id-1 div.sk-parallel-item::after {content: \"\";width: 100%;border-bottom: 1px solid gray;flex-grow: 1;}#sk-container-id-1 div.sk-label:hover label.sk-toggleable__label {background-color: #d4ebff;}#sk-container-id-1 div.sk-serial::before {content: \"\";position: absolute;border-left: 1px solid gray;box-sizing: border-box;top: 0;bottom: 0;left: 50%;z-index: 0;}#sk-container-id-1 div.sk-serial {display: flex;flex-direction: column;align-items: center;background-color: white;padding-right: 0.2em;padding-left: 0.2em;position: relative;}#sk-container-id-1 div.sk-item {position: relative;z-index: 1;}#sk-container-id-1 div.sk-parallel {display: flex;align-items: stretch;justify-content: center;background-color: white;position: relative;}#sk-container-id-1 div.sk-item::before, #sk-container-id-1 div.sk-parallel-item::before {content: \"\";position: absolute;border-left: 1px solid gray;box-sizing: border-box;top: 0;bottom: 0;left: 50%;z-index: -1;}#sk-container-id-1 div.sk-parallel-item {display: flex;flex-direction: column;z-index: 1;position: relative;background-color: white;}#sk-container-id-1 div.sk-parallel-item:first-child::after {align-self: flex-end;width: 50%;}#sk-container-id-1 div.sk-parallel-item:last-child::after {align-self: flex-start;width: 50%;}#sk-container-id-1 div.sk-parallel-item:only-child::after {width: 0;}#sk-container-id-1 div.sk-dashed-wrapped {border: 1px dashed gray;margin: 0 0.4em 0.5em 0.4em;box-sizing: border-box;padding-bottom: 0.4em;background-color: white;}#sk-container-id-1 div.sk-label label {font-family: monospace;font-weight: bold;display: inline-block;line-height: 1.2em;}#sk-container-id-1 div.sk-label-container {text-align: center;}#sk-container-id-1 div.sk-container {/* jupyter's `normalize.less` sets `[hidden] { display: none; }` but bootstrap.min.css set `[hidden] { display: none !important; }` so we also need the `!important` here to be able to override the default hidden behavior on the sphinx rendered scikit-learn.org. See: https://github.com/scikit-learn/scikit-learn/issues/21755 */display: inline-block !important;position: relative;}#sk-container-id-1 div.sk-text-repr-fallback {display: none;}</style><div id=\"sk-container-id-1\" class=\"sk-top-container\"><div class=\"sk-text-repr-fallback\"><pre>LinearRegression()</pre><b>In a Jupyter environment, please rerun this cell to show the HTML representation or trust the notebook. <br />On GitHub, the HTML representation is unable to render, please try loading this page with nbviewer.org.</b></div><div class=\"sk-container\" hidden><div class=\"sk-item\"><div class=\"sk-estimator sk-toggleable\"><input class=\"sk-toggleable__control sk-hidden--visually\" id=\"sk-estimator-id-1\" type=\"checkbox\" checked><label for=\"sk-estimator-id-1\" class=\"sk-toggleable__label sk-toggleable__label-arrow\">LinearRegression</label><div class=\"sk-toggleable__content\"><pre>LinearRegression()</pre></div></div></div></div></div>"
      ],
      "text/plain": [
       "LinearRegression()"
      ]
     },
     "execution_count": 29,
     "metadata": {},
     "output_type": "execute_result"
    }
   ],
   "source": [
    "model.fit(X_train,Y_train)"
   ]
  },
  {
   "cell_type": "code",
   "execution_count": 30,
   "metadata": {
    "id": "4iqtlsFfJcIB",
    "outputId": "fc3a6285-d69a-4e8b-8170-14e5f26eaa19"
   },
   "outputs": [
    {
     "name": "stdout",
     "output_type": "stream",
     "text": [
      "The model performance for training set\n",
      "--------------------------------------\n",
      "RMSE is 132.738785016254\n",
      "R2 score is 0.8483628642542727\n"
     ]
    }
   ],
   "source": [
    "##### model evaluation for training set\n",
    "y_train_predict = model.predict(X_train)\n",
    "rmse = (np.sqrt(mean_squared_error(Y_train, y_train_predict)))\n",
    "r2 = r2_score(Y_train, y_train_predict)\n",
    "print(\"The model performance for training set\")\n",
    "print(\"--------------------------------------\")\n",
    "print('RMSE is {}'.format(rmse))\n",
    "print('R2 score is {}'.format(r2))"
   ]
  },
  {
   "cell_type": "code",
   "execution_count": 31,
   "metadata": {
    "id": "qEdFKv78JcIC",
    "outputId": "0ba5c033-41f0-4a09-cab0-ff8e25332aed"
   },
   "outputs": [
    {
     "name": "stdout",
     "output_type": "stream",
     "text": [
      "The model performance for testing set\n",
      "--------------------------------------\n",
      "RMSE is 177.15941984586985\n",
      "R2 score is 0.7918359351836254\n"
     ]
    }
   ],
   "source": [
    "# model evaluation for test set\n",
    "y_test_predict = model.predict(X_test)\n",
    "rmse_test = (np.sqrt(mean_squared_error(Y_test, y_test_predict)))\n",
    "r2_test = r2_score(Y_test, y_test_predict)\n",
    "print(\"The model performance for testing set\")\n",
    "print(\"--------------------------------------\")\n",
    "print('RMSE is {}'.format(rmse_test))\n",
    "print('R2 score is {}'.format(r2_test))"
   ]
  },
  {
   "cell_type": "code",
   "execution_count": 32,
   "metadata": {
    "id": "IdgsR_f9JcIC",
    "outputId": "12bd89f1-8232-45da-bac8-b03b0da680e8"
   },
   "outputs": [
    {
     "name": "stderr",
     "output_type": "stream",
     "text": [
      "C:\\Users\\Samarthya's Laptop\\AppData\\Local\\Temp\\ipykernel_708\\2881953538.py:19: UserWarning: linestyle is redundantly defined by the 'linestyle' keyword argument and the fmt string \"r-\" (-> linestyle='-'). The keyword argument will take precedence.\n",
      "  plt.plot((0,2500),(0,2500), 'r-',linestyle='dashed',label='y=x line')\n"
     ]
    },
    {
     "data": {
      "image/png": "[encoded data removed]",
      "text/plain": [
       "<Figure size 400x400 with 1 Axes>"
      ]
     },
     "metadata": {},
     "output_type": "display_data"
    }
   ],
   "source": [
    "#### define your data plot here       \n",
    "plt.figure(figsize=(4,4),dpi=100)\n",
    "plt.title(' ', fontsize=13) \n",
    "#### define your data plot here       \n",
    "plt.xlim((0,2500))\n",
    "# plt.xticks(np.linspace(0,2,0.5,endpoint=True))\n",
    "plt.ylim((0,2500))\n",
    "# plt.yticks(np.linspace(0,2,0.5,endpoint=True))\n",
    "plt.tick_params(axis='both', which='major', labelsize=13)\n",
    "plt.scatter(Y_train, y_train_predict, label='Training',\n",
    "            s=60,marker='o')\n",
    "plt.scatter(Y_test,y_test_predict, label='Testing',\n",
    "            facecolors='red',alpha=1, edgecolors='none',s=60, marker='s')\n",
    "plt.xlabel(\"Observed cycle life\",fontsize=13)\n",
    "plt.ylabel(\"Predicted cycle life\",fontsize=13)\n",
    "\n",
    "#####fitting with a y=x line here (polynomial approach)\n",
    "#p1 = np.polyfit(Y_train, y_train_predict,1)\n",
    "plt.plot((0,2500),(0,2500), 'r-',linestyle='dashed',label='y=x line')\n",
    "plt.tight_layout()\n",
    "leg = plt.legend()\n",
    "leg.get_frame().set_edgecolor('black')"
   ]
  },
  {
   "cell_type": "code",
   "execution_count": 33,
   "metadata": {
    "id": "ohF-EcoyJcIC",
    "outputId": "2cb5d450-20ff-4a6c-d3e0-42f9c5cba956"
   },
   "outputs": [
    {
     "name": "stdout",
     "output_type": "stream",
     "text": [
      "The model performance for validation set\n",
      "--------------------------------------\n",
      "RMSE is 197.16712097582126\n",
      "R2 score is 0.5121191080979439\n"
     ]
    }
   ],
   "source": [
    "# model evaluation for Validation set\n",
    "y_val_predict = model.predict(X_val)\n",
    "rmse_val = (np.sqrt(mean_squared_error(Y_val, y_val_predict)))\n",
    "r2_val = r2_score(Y_val, y_val_predict)\n",
    "print(\"The model performance for validation set\")\n",
    "print(\"--------------------------------------\")\n",
    "print('RMSE is {}'.format(rmse_val))\n",
    "print('R2 score is {}'.format(r2_val))"
   ]
  },
  {
   "cell_type": "code",
   "execution_count": 34,
   "metadata": {
    "id": "zzyJUqydJcIC",
    "outputId": "607453e6-d46c-4a03-fc19-6823b59c702d",
    "scrolled": false
   },
   "outputs": [
    {
     "name": "stderr",
     "output_type": "stream",
     "text": [
      "C:\\Users\\Samarthya's Laptop\\AppData\\Local\\Temp\\ipykernel_708\\3761464373.py:21: UserWarning: linestyle is redundantly defined by the 'linestyle' keyword argument and the fmt string \"r-\" (-> linestyle='-'). The keyword argument will take precedence.\n",
      "  plt.plot((0,2500),(0,2500), 'r-',linestyle='dashed',label='y=x line')\n"
     ]
    },
    {
     "data": {
      "image/png": "[encoded data removed]",
      "text/plain": [
       "<Figure size 400x400 with 1 Axes>"
      ]
     },
     "metadata": {},
     "output_type": "display_data"
    }
   ],
   "source": [
    "#### define your data plot here       \n",
    "plt.figure(figsize=(4,4),dpi=100)\n",
    "plt.title(' ', fontsize=13) \n",
    "#### define your data plot here       \n",
    "plt.xlim((0,2500))\n",
    "# plt.xticks(np.linspace(0,2,0.5,endpoint=True))\n",
    "plt.ylim((0,2500))\n",
    "# plt.yticks(np.linspace(0,2,0.5,endpoint=True))\n",
    "plt.tick_params(axis='both', which='major', labelsize=13)\n",
    "plt.scatter(Y_train, y_train_predict, label='Training',\n",
    "            s=60,marker='o')\n",
    "plt.scatter(Y_test,y_test_predict, label='Testing',\n",
    "            facecolors='red',alpha=1, edgecolors='none',s=60, marker='s')\n",
    "plt.scatter(Y_val, y_val_predict, label='Validation',\n",
    "            facecolors='orange',alpha=1, edgecolors='none',s=60, marker='^')\n",
    "plt.xlabel(\"Observed cycle life\",fontsize=13)\n",
    "plt.ylabel(\"Predicted cycle life\",fontsize=13)\n",
    "\n",
    "#####fitting with a y=x line here (polynomial approach)\n",
    "#p1 = np.polyfit(Y_train, y_train_predict,1)\n",
    "plt.plot((0,2500),(0,2500), 'r-',linestyle='dashed',label='y=x line')\n",
    "plt.tight_layout()\n",
    "leg = plt.legend()\n",
    "leg.get_frame().set_edgecolor('black')"
   ]
  },
  {
   "cell_type": "code",
   "execution_count": null,
   "metadata": {
    "id": "-4ON5FkxJcID"
   },
   "outputs": [],
   "source": []
  },
  {
   "cell_type": "code",
   "execution_count": null,
   "metadata": {
    "id": "9X6P4nToJcID"
   },
   "outputs": [],
   "source": []
  },
  {
   "cell_type": "markdown",
   "metadata": {
    "id": "GTSiVl3qJcID"
   },
   "source": []
  },
  {
   "cell_type": "markdown",
   "metadata": {
    "id": "8JwfnRFlJcID"
   },
   "source": [
    "### Optimization of Hyperparameters, e.g., alpha, and l1_ratio\n",
    "$ 1/(2*n_{samples}) * ||y - Xw||^2\n",
    "+ \\alpha * L1_{ratio} * ||w||\n",
    "+ 0.5 * \\alpha * (1 - L1_{ratio}) * ||w||^2 $\n",
    "1. Here I am using GridSearchCV/ElasticNetCV tools of sklearn"
   ]
  },
  {
   "cell_type": "code",
   "execution_count": 35,
   "metadata": {
    "id": "I70iNOcAJcIE"
   },
   "outputs": [],
   "source": [
    "from sklearn.linear_model import ElasticNetCV"
   ]
  },
  {
   "cell_type": "code",
   "execution_count": null,
   "metadata": {
    "id": "NYOkCI7rJcIE"
   },
   "outputs": [],
   "source": []
  },
  {
   "cell_type": "code",
   "execution_count": 36,
   "metadata": {
    "id": "yMG0f9pXJcIE"
   },
   "outputs": [],
   "source": [
    "alpha_x=np.linspace(0.01,1,100)\n",
    "l1_ratio_x=np.linspace(0,0.5,1000)"
   ]
  },
  {
   "cell_type": "code",
   "execution_count": 37,
   "metadata": {
    "id": "YDqFr0kqJcIF",
    "outputId": "05942b3c-4da4-4fa4-d946-64b3b0cf5139"
   },
   "outputs": [
    {
     "name": "stderr",
     "output_type": "stream",
     "text": [
      "D:\\Anaconda\\Lib\\site-packages\\sklearn\\linear_model\\_coordinate_descent.py:617: UserWarning: Coordinate descent without L1 regularization may lead to unexpected results and is discouraged. Set l1_ratio > 0 to add L1 regularization.\n",
      "  model = cd_fast.enet_coordinate_descent_gram(\n",
      "D:\\Anaconda\\Lib\\site-packages\\sklearn\\linear_model\\_coordinate_descent.py:617: ConvergenceWarning: Objective did not converge. You might want to increase the number of iterations. Duality gap: 2285318.968402135, tolerance: 529.3429897435898\n",
      "  model = cd_fast.enet_coordinate_descent_gram(\n",
      "D:\\Anaconda\\Lib\\site-packages\\sklearn\\linear_model\\_coordinate_descent.py:617: UserWarning: Coordinate descent without L1 regularization may lead to unexpected results and is discouraged. Set l1_ratio > 0 to add L1 regularization.\n",
      "  model = cd_fast.enet_coordinate_descent_gram(\n",
      "D:\\Anaconda\\Lib\\site-packages\\sklearn\\linear_model\\_coordinate_descent.py:617: ConvergenceWarning: Objective did not converge. You might want to increase the number of iterations. Duality gap: 2282260.2545897732, tolerance: 529.3429897435898\n",
      "  model = cd_fast.enet_coordinate_descent_gram(\n",
      "D:\\Anaconda\\Lib\\site-packages\\sklearn\\linear_model\\_coordinate_descent.py:617: UserWarning: Coordinate descent without L1 regularization may lead to unexpected results and is discouraged. Set l1_ratio > 0 to add L1 regularization.\n",
      "  model = cd_fast.enet_coordinate_descent_gram(\n",
      "D:\\Anaconda\\Lib\\site-packages\\sklearn\\linear_model\\_coordinate_descent.py:617: ConvergenceWarning: Objective did not converge. You might want to increase the number of iterations. Duality gap: 2279149.323321621, tolerance: 529.3429897435898\n",
      "  model = cd_fast.enet_coordinate_descent_gram(\n",
      "D:\\Anaconda\\Lib\\site-packages\\sklearn\\linear_model\\_coordinate_descent.py:617: UserWarning: Coordinate descent without L1 regularization may lead to unexpected results and is discouraged. Set l1_ratio > 0 to add L1 regularization.\n",
      "  model = cd_fast.enet_coordinate_descent_gram(\n",
      "D:\\Anaconda\\Lib\\site-packages\\sklearn\\linear_model\\_coordinate_descent.py:617: ConvergenceWarning: Objective did not converge. You might want to increase the number of iterations. Duality gap: 2275984.825924204, tolerance: 529.3429897435898\n",
      "  model = cd_fast.enet_coordinate_descent_gram(\n",
      "D:\\Anaconda\\Lib\\site-packages\\sklearn\\linear_model\\_coordinate_descent.py:617: UserWarning: Coordinate descent without L1 regularization may lead to unexpected results and is discouraged. Set l1_ratio > 0 to add L1 regularization.\n",
      "  model = cd_fast.enet_coordinate_descent_gram(\n",
      "D:\\Anaconda\\Lib\\site-packages\\sklearn\\linear_model\\_coordinate_descent.py:617: ConvergenceWarning: Objective did not converge. You might want to increase the number of iterations. Duality gap: 2272765.366875964, tolerance: 529.3429897435898\n",
      "  model = cd_fast.enet_coordinate_descent_gram(\n",
      "D:\\Anaconda\\Lib\\site-packages\\sklearn\\linear_model\\_coordinate_descent.py:617: UserWarning: Coordinate descent without L1 regularization may lead to unexpected results and is discouraged. Set l1_ratio > 0 to add L1 regularization.\n",
      "  model = cd_fast.enet_coordinate_descent_gram(\n",
      "D:\\Anaconda\\Lib\\site-packages\\sklearn\\linear_model\\_coordinate_descent.py:617: UserWarning: Coordinate descent without L1 regularization may lead to unexpected results and is discouraged. Set l1_ratio > 0 to add L1 regularization.\n",
      "  model = cd_fast.enet_coordinate_descent_gram(\n",
      "D:\\Anaconda\\Lib\\site-packages\\sklearn\\linear_model\\_coordinate_descent.py:617: ConvergenceWarning: Objective did not converge. You might want to increase the number of iterations. Duality gap: 2266155.735079626, tolerance: 529.3429897435898\n",
      "  model = cd_fast.enet_coordinate_descent_gram(\n",
      "D:\\Anaconda\\Lib\\site-packages\\sklearn\\linear_model\\_coordinate_descent.py:617: UserWarning: Coordinate descent without L1 regularization may lead to unexpected results and is discouraged. Set l1_ratio > 0 to add L1 regularization.\n",
      "  model = cd_fast.enet_coordinate_descent_gram(\n",
      "D:\\Anaconda\\Lib\\site-packages\\sklearn\\linear_model\\_coordinate_descent.py:617: UserWarning: Coordinate descent without L1 regularization may lead to unexpected results and is discouraged. Set l1_ratio > 0 to add L1 regularization.\n",
      "  model = cd_fast.enet_coordinate_descent_gram(\n",
      "D:\\Anaconda\\Lib\\site-packages\\sklearn\\linear_model\\_coordinate_descent.py:617: UserWarning: Coordinate descent without L1 regularization may lead to unexpected results and is discouraged. Set l1_ratio > 0 to add L1 regularization.\n",
      "  model = cd_fast.enet_coordinate_descent_gram(\n",
      "D:\\Anaconda\\Lib\\site-packages\\sklearn\\linear_model\\_coordinate_descent.py:617: ConvergenceWarning: Objective did not converge. You might want to increase the number of iterations. Duality gap: 2255791.2563127186, tolerance: 529.3429897435898\n",
      "  model = cd_fast.enet_coordinate_descent_gram(\n",
      "D:\\Anaconda\\Lib\\site-packages\\sklearn\\linear_model\\_coordinate_descent.py:617: UserWarning: Coordinate descent without L1 regularization may lead to unexpected results and is discouraged. Set l1_ratio > 0 to add L1 regularization.\n",
      "  model = cd_fast.enet_coordinate_descent_gram(\n",
      "D:\\Anaconda\\Lib\\site-packages\\sklearn\\linear_model\\_coordinate_descent.py:617: ConvergenceWarning: Objective did not converge. You might want to increase the number of iterations. Duality gap: 2252209.8250654037, tolerance: 529.3429897435898\n",
      "  model = cd_fast.enet_coordinate_descent_gram(\n",
      "D:\\Anaconda\\Lib\\site-packages\\sklearn\\linear_model\\_coordinate_descent.py:617: UserWarning: Coordinate descent without L1 regularization may lead to unexpected results and is discouraged. Set l1_ratio > 0 to add L1 regularization.\n",
      "  model = cd_fast.enet_coordinate_descent_gram(\n",
      "D:\\Anaconda\\Lib\\site-packages\\sklearn\\linear_model\\_coordinate_descent.py:617: ConvergenceWarning: Objective did not converge. You might want to increase the number of iterations. Duality gap: 2248562.1647949982, tolerance: 529.3429897435898\n",
      "  model = cd_fast.enet_coordinate_descent_gram(\n",
      "D:\\Anaconda\\Lib\\site-packages\\sklearn\\linear_model\\_coordinate_descent.py:617: UserWarning: Coordinate descent without L1 regularization may lead to unexpected results and is discouraged. Set l1_ratio > 0 to add L1 regularization.\n",
      "  model = cd_fast.enet_coordinate_descent_gram(\n",
      "D:\\Anaconda\\Lib\\site-packages\\sklearn\\linear_model\\_coordinate_descent.py:617: ConvergenceWarning: Objective did not converge. You might want to increase the number of iterations. Duality gap: 2244846.421263072, tolerance: 529.3429897435898\n",
      "  model = cd_fast.enet_coordinate_descent_gram(\n",
      "D:\\Anaconda\\Lib\\site-packages\\sklearn\\linear_model\\_coordinate_descent.py:617: UserWarning: Coordinate descent without L1 regularization may lead to unexpected results and is discouraged. Set l1_ratio > 0 to add L1 regularization.\n",
      "  model = cd_fast.enet_coordinate_descent_gram(\n",
      "D:\\Anaconda\\Lib\\site-packages\\sklearn\\linear_model\\_coordinate_descent.py:617: UserWarning: Coordinate descent without L1 regularization may lead to unexpected results and is discouraged. Set l1_ratio > 0 to add L1 regularization.\n",
      "  model = cd_fast.enet_coordinate_descent_gram(\n",
      "D:\\Anaconda\\Lib\\site-packages\\sklearn\\linear_model\\_coordinate_descent.py:617: ConvergenceWarning: Objective did not converge. You might want to increase the number of iterations. Duality gap: 2237202.914786313, tolerance: 529.3429897435898\n",
      "  model = cd_fast.enet_coordinate_descent_gram(\n",
      "D:\\Anaconda\\Lib\\site-packages\\sklearn\\linear_model\\_coordinate_descent.py:617: UserWarning: Coordinate descent without L1 regularization may lead to unexpected results and is discouraged. Set l1_ratio > 0 to add L1 regularization.\n",
      "  model = cd_fast.enet_coordinate_descent_gram(\n",
      "D:\\Anaconda\\Lib\\site-packages\\sklearn\\linear_model\\_coordinate_descent.py:617: ConvergenceWarning: Objective did not converge. You might want to increase the number of iterations. Duality gap: 2233271.0805316223, tolerance: 529.3429897435898\n",
      "  model = cd_fast.enet_coordinate_descent_gram(\n",
      "D:\\Anaconda\\Lib\\site-packages\\sklearn\\linear_model\\_coordinate_descent.py:617: UserWarning: Coordinate descent without L1 regularization may lead to unexpected results and is discouraged. Set l1_ratio > 0 to add L1 regularization.\n",
      "  model = cd_fast.enet_coordinate_descent_gram(\n",
      "D:\\Anaconda\\Lib\\site-packages\\sklearn\\linear_model\\_coordinate_descent.py:617: ConvergenceWarning: Objective did not converge. You might want to increase the number of iterations. Duality gap: 2229263.0131638823, tolerance: 529.3429897435898\n",
      "  model = cd_fast.enet_coordinate_descent_gram(\n",
      "D:\\Anaconda\\Lib\\site-packages\\sklearn\\linear_model\\_coordinate_descent.py:617: UserWarning: Coordinate descent without L1 regularization may lead to unexpected results and is discouraged. Set l1_ratio > 0 to add L1 regularization.\n",
      "  model = cd_fast.enet_coordinate_descent_gram(\n",
      "D:\\Anaconda\\Lib\\site-packages\\sklearn\\linear_model\\_coordinate_descent.py:617: UserWarning: Coordinate descent without L1 regularization may lead to unexpected results and is discouraged. Set l1_ratio > 0 to add L1 regularization.\n",
      "  model = cd_fast.enet_coordinate_descent_gram(\n",
      "D:\\Anaconda\\Lib\\site-packages\\sklearn\\linear_model\\_coordinate_descent.py:617: ConvergenceWarning: Objective did not converge. You might want to increase the number of iterations. Duality gap: 2221009.13538274, tolerance: 529.3429897435898\n",
      "  model = cd_fast.enet_coordinate_descent_gram(\n",
      "D:\\Anaconda\\Lib\\site-packages\\sklearn\\linear_model\\_coordinate_descent.py:617: UserWarning: Coordinate descent without L1 regularization may lead to unexpected results and is discouraged. Set l1_ratio > 0 to add L1 regularization.\n",
      "  model = cd_fast.enet_coordinate_descent_gram(\n",
      "D:\\Anaconda\\Lib\\site-packages\\sklearn\\linear_model\\_coordinate_descent.py:617: ConvergenceWarning: Objective did not converge. You might want to increase the number of iterations. Duality gap: 2216758.5773686413, tolerance: 529.3429897435898\n",
      "  model = cd_fast.enet_coordinate_descent_gram(\n",
      "D:\\Anaconda\\Lib\\site-packages\\sklearn\\linear_model\\_coordinate_descent.py:617: UserWarning: Coordinate descent without L1 regularization may lead to unexpected results and is discouraged. Set l1_ratio > 0 to add L1 regularization.\n",
      "  model = cd_fast.enet_coordinate_descent_gram(\n",
      "D:\\Anaconda\\Lib\\site-packages\\sklearn\\linear_model\\_coordinate_descent.py:617: UserWarning: Coordinate descent without L1 regularization may lead to unexpected results and is discouraged. Set l1_ratio > 0 to add L1 regularization.\n",
      "  model = cd_fast.enet_coordinate_descent_gram(\n",
      "D:\\Anaconda\\Lib\\site-packages\\sklearn\\linear_model\\_coordinate_descent.py:617: ConvergenceWarning: Objective did not converge. You might want to increase the number of iterations. Duality gap: 2207997.6285502403, tolerance: 529.3429897435898\n",
      "  model = cd_fast.enet_coordinate_descent_gram(\n",
      "D:\\Anaconda\\Lib\\site-packages\\sklearn\\linear_model\\_coordinate_descent.py:617: UserWarning: Coordinate descent without L1 regularization may lead to unexpected results and is discouraged. Set l1_ratio > 0 to add L1 regularization.\n",
      "  model = cd_fast.enet_coordinate_descent_gram(\n",
      "D:\\Anaconda\\Lib\\site-packages\\sklearn\\linear_model\\_coordinate_descent.py:617: ConvergenceWarning: Objective did not converge. You might want to increase the number of iterations. Duality gap: 2203481.8888016194, tolerance: 529.3429897435898\n",
      "  model = cd_fast.enet_coordinate_descent_gram(\n",
      "D:\\Anaconda\\Lib\\site-packages\\sklearn\\linear_model\\_coordinate_descent.py:617: UserWarning: Coordinate descent without L1 regularization may lead to unexpected results and is discouraged. Set l1_ratio > 0 to add L1 regularization.\n",
      "  model = cd_fast.enet_coordinate_descent_gram(\n",
      "D:\\Anaconda\\Lib\\site-packages\\sklearn\\linear_model\\_coordinate_descent.py:617: ConvergenceWarning: Objective did not converge. You might want to increase the number of iterations. Duality gap: 2198872.220765323, tolerance: 529.3429897435898\n",
      "  model = cd_fast.enet_coordinate_descent_gram(\n",
      "D:\\Anaconda\\Lib\\site-packages\\sklearn\\linear_model\\_coordinate_descent.py:617: UserWarning: Coordinate descent without L1 regularization may lead to unexpected results and is discouraged. Set l1_ratio > 0 to add L1 regularization.\n",
      "  model = cd_fast.enet_coordinate_descent_gram(\n",
      "D:\\Anaconda\\Lib\\site-packages\\sklearn\\linear_model\\_coordinate_descent.py:617: ConvergenceWarning: Objective did not converge. You might want to increase the number of iterations. Duality gap: 2194165.6630519223, tolerance: 529.3429897435898\n",
      "  model = cd_fast.enet_coordinate_descent_gram(\n",
      "D:\\Anaconda\\Lib\\site-packages\\sklearn\\linear_model\\_coordinate_descent.py:617: UserWarning: Coordinate descent without L1 regularization may lead to unexpected results and is discouraged. Set l1_ratio > 0 to add L1 regularization.\n",
      "  model = cd_fast.enet_coordinate_descent_gram(\n",
      "D:\\Anaconda\\Lib\\site-packages\\sklearn\\linear_model\\_coordinate_descent.py:617: ConvergenceWarning: Objective did not converge. You might want to increase the number of iterations. Duality gap: 2189359.1284600934, tolerance: 529.3429897435898\n",
      "  model = cd_fast.enet_coordinate_descent_gram(\n",
      "D:\\Anaconda\\Lib\\site-packages\\sklearn\\linear_model\\_coordinate_descent.py:617: UserWarning: Coordinate descent without L1 regularization may lead to unexpected results and is discouraged. Set l1_ratio > 0 to add L1 regularization.\n",
      "  model = cd_fast.enet_coordinate_descent_gram(\n",
      "D:\\Anaconda\\Lib\\site-packages\\sklearn\\linear_model\\_coordinate_descent.py:617: ConvergenceWarning: Objective did not converge. You might want to increase the number of iterations. Duality gap: 2184449.3972236416, tolerance: 529.3429897435898\n",
      "  model = cd_fast.enet_coordinate_descent_gram(\n",
      "D:\\Anaconda\\Lib\\site-packages\\sklearn\\linear_model\\_coordinate_descent.py:617: UserWarning: Coordinate descent without L1 regularization may lead to unexpected results and is discouraged. Set l1_ratio > 0 to add L1 regularization.\n",
      "  model = cd_fast.enet_coordinate_descent_gram(\n",
      "D:\\Anaconda\\Lib\\site-packages\\sklearn\\linear_model\\_coordinate_descent.py:617: UserWarning: Coordinate descent without L1 regularization may lead to unexpected results and is discouraged. Set l1_ratio > 0 to add L1 regularization.\n",
      "  model = cd_fast.enet_coordinate_descent_gram(\n",
      "D:\\Anaconda\\Lib\\site-packages\\sklearn\\linear_model\\_coordinate_descent.py:617: ConvergenceWarning: Objective did not converge. You might want to increase the number of iterations. Duality gap: 2174306.7592983553, tolerance: 529.3429897435898\n",
      "  model = cd_fast.enet_coordinate_descent_gram(\n",
      "D:\\Anaconda\\Lib\\site-packages\\sklearn\\linear_model\\_coordinate_descent.py:617: UserWarning: Coordinate descent without L1 regularization may lead to unexpected results and is discouraged. Set l1_ratio > 0 to add L1 regularization.\n",
      "  model = cd_fast.enet_coordinate_descent_gram(\n",
      "D:\\Anaconda\\Lib\\site-packages\\sklearn\\linear_model\\_coordinate_descent.py:617: UserWarning: Coordinate descent without L1 regularization may lead to unexpected results and is discouraged. Set l1_ratio > 0 to add L1 regularization.\n",
      "  model = cd_fast.enet_coordinate_descent_gram(\n",
      "D:\\Anaconda\\Lib\\site-packages\\sklearn\\linear_model\\_coordinate_descent.py:617: ConvergenceWarning: Objective did not converge. You might want to increase the number of iterations. Duality gap: 2163709.0543946177, tolerance: 529.3429897435898\n",
      "  model = cd_fast.enet_coordinate_descent_gram(\n",
      "D:\\Anaconda\\Lib\\site-packages\\sklearn\\linear_model\\_coordinate_descent.py:617: UserWarning: Coordinate descent without L1 regularization may lead to unexpected results and is discouraged. Set l1_ratio > 0 to add L1 regularization.\n",
      "  model = cd_fast.enet_coordinate_descent_gram(\n",
      "D:\\Anaconda\\Lib\\site-packages\\sklearn\\linear_model\\_coordinate_descent.py:617: ConvergenceWarning: Objective did not converge. You might want to increase the number of iterations. Duality gap: 2158229.872616713, tolerance: 529.3429897435898\n",
      "  model = cd_fast.enet_coordinate_descent_gram(\n",
      "D:\\Anaconda\\Lib\\site-packages\\sklearn\\linear_model\\_coordinate_descent.py:617: UserWarning: Coordinate descent without L1 regularization may lead to unexpected results and is discouraged. Set l1_ratio > 0 to add L1 regularization.\n",
      "  model = cd_fast.enet_coordinate_descent_gram(\n",
      "D:\\Anaconda\\Lib\\site-packages\\sklearn\\linear_model\\_coordinate_descent.py:617: ConvergenceWarning: Objective did not converge. You might want to increase the number of iterations. Duality gap: 2152624.9536510594, tolerance: 529.3429897435898\n",
      "  model = cd_fast.enet_coordinate_descent_gram(\n",
      "D:\\Anaconda\\Lib\\site-packages\\sklearn\\linear_model\\_coordinate_descent.py:617: UserWarning: Coordinate descent without L1 regularization may lead to unexpected results and is discouraged. Set l1_ratio > 0 to add L1 regularization.\n",
      "  model = cd_fast.enet_coordinate_descent_gram(\n",
      "D:\\Anaconda\\Lib\\site-packages\\sklearn\\linear_model\\_coordinate_descent.py:617: ConvergenceWarning: Objective did not converge. You might want to increase the number of iterations. Duality gap: 2146889.9191022855, tolerance: 529.3429897435898\n",
      "  model = cd_fast.enet_coordinate_descent_gram(\n",
      "D:\\Anaconda\\Lib\\site-packages\\sklearn\\linear_model\\_coordinate_descent.py:617: UserWarning: Coordinate descent without L1 regularization may lead to unexpected results and is discouraged. Set l1_ratio > 0 to add L1 regularization.\n",
      "  model = cd_fast.enet_coordinate_descent_gram(\n",
      "D:\\Anaconda\\Lib\\site-packages\\sklearn\\linear_model\\_coordinate_descent.py:617: ConvergenceWarning: Objective did not converge. You might want to increase the number of iterations. Duality gap: 2141020.1849029097, tolerance: 529.3429897435898\n",
      "  model = cd_fast.enet_coordinate_descent_gram(\n",
      "D:\\Anaconda\\Lib\\site-packages\\sklearn\\linear_model\\_coordinate_descent.py:617: UserWarning: Coordinate descent without L1 regularization may lead to unexpected results and is discouraged. Set l1_ratio > 0 to add L1 regularization.\n",
      "  model = cd_fast.enet_coordinate_descent_gram(\n",
      "D:\\Anaconda\\Lib\\site-packages\\sklearn\\linear_model\\_coordinate_descent.py:617: ConvergenceWarning: Objective did not converge. You might want to increase the number of iterations. Duality gap: 2135010.949093202, tolerance: 529.3429897435898\n",
      "  model = cd_fast.enet_coordinate_descent_gram(\n",
      "D:\\Anaconda\\Lib\\site-packages\\sklearn\\linear_model\\_coordinate_descent.py:617: UserWarning: Coordinate descent without L1 regularization may lead to unexpected results and is discouraged. Set l1_ratio > 0 to add L1 regularization.\n",
      "  model = cd_fast.enet_coordinate_descent_gram(\n",
      "D:\\Anaconda\\Lib\\site-packages\\sklearn\\linear_model\\_coordinate_descent.py:617: UserWarning: Coordinate descent without L1 regularization may lead to unexpected results and is discouraged. Set l1_ratio > 0 to add L1 regularization.\n",
      "  model = cd_fast.enet_coordinate_descent_gram(\n",
      "D:\\Anaconda\\Lib\\site-packages\\sklearn\\linear_model\\_coordinate_descent.py:617: ConvergenceWarning: Objective did not converge. You might want to increase the number of iterations. Duality gap: 2122553.59577433, tolerance: 529.3429897435898\n",
      "  model = cd_fast.enet_coordinate_descent_gram(\n",
      "D:\\Anaconda\\Lib\\site-packages\\sklearn\\linear_model\\_coordinate_descent.py:617: UserWarning: Coordinate descent without L1 regularization may lead to unexpected results and is discouraged. Set l1_ratio > 0 to add L1 regularization.\n",
      "  model = cd_fast.enet_coordinate_descent_gram(\n",
      "D:\\Anaconda\\Lib\\site-packages\\sklearn\\linear_model\\_coordinate_descent.py:617: UserWarning: Coordinate descent without L1 regularization may lead to unexpected results and is discouraged. Set l1_ratio > 0 to add L1 regularization.\n",
      "  model = cd_fast.enet_coordinate_descent_gram(\n",
      "D:\\Anaconda\\Lib\\site-packages\\sklearn\\linear_model\\_coordinate_descent.py:617: UserWarning: Coordinate descent without L1 regularization may lead to unexpected results and is discouraged. Set l1_ratio > 0 to add L1 regularization.\n",
      "  model = cd_fast.enet_coordinate_descent_gram(\n",
      "D:\\Anaconda\\Lib\\site-packages\\sklearn\\linear_model\\_coordinate_descent.py:617: ConvergenceWarning: Objective did not converge. You might want to increase the number of iterations. Duality gap: 2102687.190576973, tolerance: 529.3429897435898\n",
      "  model = cd_fast.enet_coordinate_descent_gram(\n",
      "D:\\Anaconda\\Lib\\site-packages\\sklearn\\linear_model\\_coordinate_descent.py:617: UserWarning: Coordinate descent without L1 regularization may lead to unexpected results and is discouraged. Set l1_ratio > 0 to add L1 regularization.\n",
      "  model = cd_fast.enet_coordinate_descent_gram(\n",
      "D:\\Anaconda\\Lib\\site-packages\\sklearn\\linear_model\\_coordinate_descent.py:617: UserWarning: Coordinate descent without L1 regularization may lead to unexpected results and is discouraged. Set l1_ratio > 0 to add L1 regularization.\n",
      "  model = cd_fast.enet_coordinate_descent_gram(\n",
      "D:\\Anaconda\\Lib\\site-packages\\sklearn\\linear_model\\_coordinate_descent.py:617: UserWarning: Coordinate descent without L1 regularization may lead to unexpected results and is discouraged. Set l1_ratio > 0 to add L1 regularization.\n",
      "  model = cd_fast.enet_coordinate_descent_gram(\n",
      "D:\\Anaconda\\Lib\\site-packages\\sklearn\\linear_model\\_coordinate_descent.py:617: UserWarning: Coordinate descent without L1 regularization may lead to unexpected results and is discouraged. Set l1_ratio > 0 to add L1 regularization.\n",
      "  model = cd_fast.enet_coordinate_descent_gram(\n",
      "D:\\Anaconda\\Lib\\site-packages\\sklearn\\linear_model\\_coordinate_descent.py:617: ConvergenceWarning: Objective did not converge. You might want to increase the number of iterations. Duality gap: 2073731.4172081817, tolerance: 529.3429897435898\n",
      "  model = cd_fast.enet_coordinate_descent_gram(\n",
      "D:\\Anaconda\\Lib\\site-packages\\sklearn\\linear_model\\_coordinate_descent.py:617: UserWarning: Coordinate descent without L1 regularization may lead to unexpected results and is discouraged. Set l1_ratio > 0 to add L1 regularization.\n",
      "  model = cd_fast.enet_coordinate_descent_gram(\n",
      "D:\\Anaconda\\Lib\\site-packages\\sklearn\\linear_model\\_coordinate_descent.py:617: UserWarning: Coordinate descent without L1 regularization may lead to unexpected results and is discouraged. Set l1_ratio > 0 to add L1 regularization.\n",
      "  model = cd_fast.enet_coordinate_descent_gram(\n",
      "D:\\Anaconda\\Lib\\site-packages\\sklearn\\linear_model\\_coordinate_descent.py:617: UserWarning: Coordinate descent without L1 regularization may lead to unexpected results and is discouraged. Set l1_ratio > 0 to add L1 regularization.\n",
      "  model = cd_fast.enet_coordinate_descent_gram(\n",
      "D:\\Anaconda\\Lib\\site-packages\\sklearn\\linear_model\\_coordinate_descent.py:617: UserWarning: Coordinate descent without L1 regularization may lead to unexpected results and is discouraged. Set l1_ratio > 0 to add L1 regularization.\n",
      "  model = cd_fast.enet_coordinate_descent_gram(\n",
      "D:\\Anaconda\\Lib\\site-packages\\sklearn\\linear_model\\_coordinate_descent.py:617: UserWarning: Coordinate descent without L1 regularization may lead to unexpected results and is discouraged. Set l1_ratio > 0 to add L1 regularization.\n",
      "  model = cd_fast.enet_coordinate_descent_gram(\n",
      "D:\\Anaconda\\Lib\\site-packages\\sklearn\\linear_model\\_coordinate_descent.py:617: UserWarning: Coordinate descent without L1 regularization may lead to unexpected results and is discouraged. Set l1_ratio > 0 to add L1 regularization.\n",
      "  model = cd_fast.enet_coordinate_descent_gram(\n",
      "D:\\Anaconda\\Lib\\site-packages\\sklearn\\linear_model\\_coordinate_descent.py:617: UserWarning: Coordinate descent without L1 regularization may lead to unexpected results and is discouraged. Set l1_ratio > 0 to add L1 regularization.\n",
      "  model = cd_fast.enet_coordinate_descent_gram(\n",
      "D:\\Anaconda\\Lib\\site-packages\\sklearn\\linear_model\\_coordinate_descent.py:617: ConvergenceWarning: Objective did not converge. You might want to increase the number of iterations. Duality gap: 2014880.1678293168, tolerance: 529.3429897435898\n",
      "  model = cd_fast.enet_coordinate_descent_gram(\n",
      "D:\\Anaconda\\Lib\\site-packages\\sklearn\\linear_model\\_coordinate_descent.py:617: UserWarning: Coordinate descent without L1 regularization may lead to unexpected results and is discouraged. Set l1_ratio > 0 to add L1 regularization.\n",
      "  model = cd_fast.enet_coordinate_descent_gram(\n",
      "D:\\Anaconda\\Lib\\site-packages\\sklearn\\linear_model\\_coordinate_descent.py:617: UserWarning: Coordinate descent without L1 regularization may lead to unexpected results and is discouraged. Set l1_ratio > 0 to add L1 regularization.\n",
      "  model = cd_fast.enet_coordinate_descent_gram(\n",
      "D:\\Anaconda\\Lib\\site-packages\\sklearn\\linear_model\\_coordinate_descent.py:617: UserWarning: Coordinate descent without L1 regularization may lead to unexpected results and is discouraged. Set l1_ratio > 0 to add L1 regularization.\n",
      "  model = cd_fast.enet_coordinate_descent_gram(\n",
      "D:\\Anaconda\\Lib\\site-packages\\sklearn\\linear_model\\_coordinate_descent.py:617: UserWarning: Coordinate descent without L1 regularization may lead to unexpected results and is discouraged. Set l1_ratio > 0 to add L1 regularization.\n",
      "  model = cd_fast.enet_coordinate_descent_gram(\n",
      "D:\\Anaconda\\Lib\\site-packages\\sklearn\\linear_model\\_coordinate_descent.py:617: UserWarning: Coordinate descent without L1 regularization may lead to unexpected results and is discouraged. Set l1_ratio > 0 to add L1 regularization.\n",
      "  model = cd_fast.enet_coordinate_descent_gram(\n",
      "D:\\Anaconda\\Lib\\site-packages\\sklearn\\linear_model\\_coordinate_descent.py:617: ConvergenceWarning: Objective did not converge. You might want to increase the number of iterations. Duality gap: 1964855.9771956496, tolerance: 529.3429897435898\n",
      "  model = cd_fast.enet_coordinate_descent_gram(\n",
      "D:\\Anaconda\\Lib\\site-packages\\sklearn\\linear_model\\_coordinate_descent.py:617: UserWarning: Coordinate descent without L1 regularization may lead to unexpected results and is discouraged. Set l1_ratio > 0 to add L1 regularization.\n",
      "  model = cd_fast.enet_coordinate_descent_gram(\n",
      "D:\\Anaconda\\Lib\\site-packages\\sklearn\\linear_model\\_coordinate_descent.py:617: UserWarning: Coordinate descent without L1 regularization may lead to unexpected results and is discouraged. Set l1_ratio > 0 to add L1 regularization.\n",
      "  model = cd_fast.enet_coordinate_descent_gram(\n",
      "D:\\Anaconda\\Lib\\site-packages\\sklearn\\linear_model\\_coordinate_descent.py:617: UserWarning: Coordinate descent without L1 regularization may lead to unexpected results and is discouraged. Set l1_ratio > 0 to add L1 regularization.\n",
      "  model = cd_fast.enet_coordinate_descent_gram(\n",
      "D:\\Anaconda\\Lib\\site-packages\\sklearn\\linear_model\\_coordinate_descent.py:617: UserWarning: Coordinate descent without L1 regularization may lead to unexpected results and is discouraged. Set l1_ratio > 0 to add L1 regularization.\n",
      "  model = cd_fast.enet_coordinate_descent_gram(\n",
      "D:\\Anaconda\\Lib\\site-packages\\sklearn\\linear_model\\_coordinate_descent.py:617: UserWarning: Coordinate descent without L1 regularization may lead to unexpected results and is discouraged. Set l1_ratio > 0 to add L1 regularization.\n",
      "  model = cd_fast.enet_coordinate_descent_gram(\n",
      "D:\\Anaconda\\Lib\\site-packages\\sklearn\\linear_model\\_coordinate_descent.py:617: UserWarning: Coordinate descent without L1 regularization may lead to unexpected results and is discouraged. Set l1_ratio > 0 to add L1 regularization.\n",
      "  model = cd_fast.enet_coordinate_descent_gram(\n",
      "D:\\Anaconda\\Lib\\site-packages\\sklearn\\linear_model\\_coordinate_descent.py:617: ConvergenceWarning: Objective did not converge. You might want to increase the number of iterations. Duality gap: 1893273.3957688184, tolerance: 529.3429897435898\n",
      "  model = cd_fast.enet_coordinate_descent_gram(\n",
      "D:\\Anaconda\\Lib\\site-packages\\sklearn\\linear_model\\_coordinate_descent.py:617: UserWarning: Coordinate descent without L1 regularization may lead to unexpected results and is discouraged. Set l1_ratio > 0 to add L1 regularization.\n",
      "  model = cd_fast.enet_coordinate_descent_gram(\n",
      "D:\\Anaconda\\Lib\\site-packages\\sklearn\\linear_model\\_coordinate_descent.py:617: UserWarning: Coordinate descent without L1 regularization may lead to unexpected results and is discouraged. Set l1_ratio > 0 to add L1 regularization.\n",
      "  model = cd_fast.enet_coordinate_descent_gram(\n",
      "D:\\Anaconda\\Lib\\site-packages\\sklearn\\linear_model\\_coordinate_descent.py:617: ConvergenceWarning: Objective did not converge. You might want to increase the number of iterations. Duality gap: 1865951.487894571, tolerance: 529.3429897435898\n",
      "  model = cd_fast.enet_coordinate_descent_gram(\n",
      "D:\\Anaconda\\Lib\\site-packages\\sklearn\\linear_model\\_coordinate_descent.py:617: UserWarning: Coordinate descent without L1 regularization may lead to unexpected results and is discouraged. Set l1_ratio > 0 to add L1 regularization.\n",
      "  model = cd_fast.enet_coordinate_descent_gram(\n",
      "D:\\Anaconda\\Lib\\site-packages\\sklearn\\linear_model\\_coordinate_descent.py:617: ConvergenceWarning: Objective did not converge. You might want to increase the number of iterations. Duality gap: 1851533.735268533, tolerance: 529.3429897435898\n",
      "  model = cd_fast.enet_coordinate_descent_gram(\n",
      "D:\\Anaconda\\Lib\\site-packages\\sklearn\\linear_model\\_coordinate_descent.py:617: UserWarning: Coordinate descent without L1 regularization may lead to unexpected results and is discouraged. Set l1_ratio > 0 to add L1 regularization.\n",
      "  model = cd_fast.enet_coordinate_descent_gram(\n",
      "D:\\Anaconda\\Lib\\site-packages\\sklearn\\linear_model\\_coordinate_descent.py:617: UserWarning: Coordinate descent without L1 regularization may lead to unexpected results and is discouraged. Set l1_ratio > 0 to add L1 regularization.\n",
      "  model = cd_fast.enet_coordinate_descent_gram(\n",
      "D:\\Anaconda\\Lib\\site-packages\\sklearn\\linear_model\\_coordinate_descent.py:617: UserWarning: Coordinate descent without L1 regularization may lead to unexpected results and is discouraged. Set l1_ratio > 0 to add L1 regularization.\n",
      "  model = cd_fast.enet_coordinate_descent_gram(\n",
      "D:\\Anaconda\\Lib\\site-packages\\sklearn\\linear_model\\_coordinate_descent.py:617: ConvergenceWarning: Objective did not converge. You might want to increase the number of iterations. Duality gap: 1804898.2067730553, tolerance: 529.3429897435898\n",
      "  model = cd_fast.enet_coordinate_descent_gram(\n",
      "D:\\Anaconda\\Lib\\site-packages\\sklearn\\linear_model\\_coordinate_descent.py:617: UserWarning: Coordinate descent without L1 regularization may lead to unexpected results and is discouraged. Set l1_ratio > 0 to add L1 regularization.\n",
      "  model = cd_fast.enet_coordinate_descent_gram(\n",
      "D:\\Anaconda\\Lib\\site-packages\\sklearn\\linear_model\\_coordinate_descent.py:617: UserWarning: Coordinate descent without L1 regularization may lead to unexpected results and is discouraged. Set l1_ratio > 0 to add L1 regularization.\n",
      "  model = cd_fast.enet_coordinate_descent_gram(\n",
      "D:\\Anaconda\\Lib\\site-packages\\sklearn\\linear_model\\_coordinate_descent.py:617: ConvergenceWarning: Objective did not converge. You might want to increase the number of iterations. Duality gap: 1770645.2397027574, tolerance: 529.3429897435898\n",
      "  model = cd_fast.enet_coordinate_descent_gram(\n",
      "D:\\Anaconda\\Lib\\site-packages\\sklearn\\linear_model\\_coordinate_descent.py:617: UserWarning: Coordinate descent without L1 regularization may lead to unexpected results and is discouraged. Set l1_ratio > 0 to add L1 regularization.\n",
      "  model = cd_fast.enet_coordinate_descent_gram(\n",
      "D:\\Anaconda\\Lib\\site-packages\\sklearn\\linear_model\\_coordinate_descent.py:617: ConvergenceWarning: Objective did not converge. You might want to increase the number of iterations. Duality gap: 1752451.7503361884, tolerance: 529.3429897435898\n",
      "  model = cd_fast.enet_coordinate_descent_gram(\n",
      "D:\\Anaconda\\Lib\\site-packages\\sklearn\\linear_model\\_coordinate_descent.py:617: UserWarning: Coordinate descent without L1 regularization may lead to unexpected results and is discouraged. Set l1_ratio > 0 to add L1 regularization.\n",
      "  model = cd_fast.enet_coordinate_descent_gram(\n",
      "D:\\Anaconda\\Lib\\site-packages\\sklearn\\linear_model\\_coordinate_descent.py:617: ConvergenceWarning: Objective did not converge. You might want to increase the number of iterations. Duality gap: 1733486.5807487424, tolerance: 529.3429897435898\n",
      "  model = cd_fast.enet_coordinate_descent_gram(\n",
      "D:\\Anaconda\\Lib\\site-packages\\sklearn\\linear_model\\_coordinate_descent.py:617: UserWarning: Coordinate descent without L1 regularization may lead to unexpected results and is discouraged. Set l1_ratio > 0 to add L1 regularization.\n",
      "  model = cd_fast.enet_coordinate_descent_gram(\n",
      "D:\\Anaconda\\Lib\\site-packages\\sklearn\\linear_model\\_coordinate_descent.py:617: ConvergenceWarning: Objective did not converge. You might want to increase the number of iterations. Duality gap: 1713699.5707237576, tolerance: 529.3429897435898\n",
      "  model = cd_fast.enet_coordinate_descent_gram(\n",
      "D:\\Anaconda\\Lib\\site-packages\\sklearn\\linear_model\\_coordinate_descent.py:617: UserWarning: Coordinate descent without L1 regularization may lead to unexpected results and is discouraged. Set l1_ratio > 0 to add L1 regularization.\n",
      "  model = cd_fast.enet_coordinate_descent_gram(\n",
      "D:\\Anaconda\\Lib\\site-packages\\sklearn\\linear_model\\_coordinate_descent.py:617: ConvergenceWarning: Objective did not converge. You might want to increase the number of iterations. Duality gap: 1693036.1164593222, tolerance: 529.3429897435898\n",
      "  model = cd_fast.enet_coordinate_descent_gram(\n",
      "D:\\Anaconda\\Lib\\site-packages\\sklearn\\linear_model\\_coordinate_descent.py:617: UserWarning: Coordinate descent without L1 regularization may lead to unexpected results and is discouraged. Set l1_ratio > 0 to add L1 regularization.\n",
      "  model = cd_fast.enet_coordinate_descent_gram(\n",
      "D:\\Anaconda\\Lib\\site-packages\\sklearn\\linear_model\\_coordinate_descent.py:617: ConvergenceWarning: Objective did not converge. You might want to increase the number of iterations. Duality gap: 1671436.6673643105, tolerance: 529.3429897435898\n",
      "  model = cd_fast.enet_coordinate_descent_gram(\n",
      "D:\\Anaconda\\Lib\\site-packages\\sklearn\\linear_model\\_coordinate_descent.py:617: UserWarning: Coordinate descent without L1 regularization may lead to unexpected results and is discouraged. Set l1_ratio > 0 to add L1 regularization.\n",
      "  model = cd_fast.enet_coordinate_descent_gram(\n",
      "D:\\Anaconda\\Lib\\site-packages\\sklearn\\linear_model\\_coordinate_descent.py:617: ConvergenceWarning: Objective did not converge. You might want to increase the number of iterations. Duality gap: 1648836.1528887423, tolerance: 529.3429897435898\n",
      "  model = cd_fast.enet_coordinate_descent_gram(\n",
      "D:\\Anaconda\\Lib\\site-packages\\sklearn\\linear_model\\_coordinate_descent.py:617: UserWarning: Coordinate descent without L1 regularization may lead to unexpected results and is discouraged. Set l1_ratio > 0 to add L1 regularization.\n",
      "  model = cd_fast.enet_coordinate_descent_gram(\n",
      "D:\\Anaconda\\Lib\\site-packages\\sklearn\\linear_model\\_coordinate_descent.py:617: ConvergenceWarning: Objective did not converge. You might want to increase the number of iterations. Duality gap: 1625163.327769808, tolerance: 529.3429897435898\n",
      "  model = cd_fast.enet_coordinate_descent_gram(\n",
      "D:\\Anaconda\\Lib\\site-packages\\sklearn\\linear_model\\_coordinate_descent.py:617: UserWarning: Coordinate descent without L1 regularization may lead to unexpected results and is discouraged. Set l1_ratio > 0 to add L1 regularization.\n",
      "  model = cd_fast.enet_coordinate_descent_gram(\n",
      "D:\\Anaconda\\Lib\\site-packages\\sklearn\\linear_model\\_coordinate_descent.py:617: ConvergenceWarning: Objective did not converge. You might want to increase the number of iterations. Duality gap: 1600340.0218163072, tolerance: 529.3429897435898\n",
      "  model = cd_fast.enet_coordinate_descent_gram(\n",
      "D:\\Anaconda\\Lib\\site-packages\\sklearn\\linear_model\\_coordinate_descent.py:617: UserWarning: Coordinate descent without L1 regularization may lead to unexpected results and is discouraged. Set l1_ratio > 0 to add L1 regularization.\n",
      "  model = cd_fast.enet_coordinate_descent_gram(\n",
      "D:\\Anaconda\\Lib\\site-packages\\sklearn\\linear_model\\_coordinate_descent.py:617: UserWarning: Coordinate descent without L1 regularization may lead to unexpected results and is discouraged. Set l1_ratio > 0 to add L1 regularization.\n",
      "  model = cd_fast.enet_coordinate_descent_gram(\n",
      "D:\\Anaconda\\Lib\\site-packages\\sklearn\\linear_model\\_coordinate_descent.py:617: ConvergenceWarning: Objective did not converge. You might want to increase the number of iterations. Duality gap: 1546889.3559365675, tolerance: 529.3429897435898\n",
      "  model = cd_fast.enet_coordinate_descent_gram(\n",
      "D:\\Anaconda\\Lib\\site-packages\\sklearn\\linear_model\\_coordinate_descent.py:617: UserWarning: Coordinate descent without L1 regularization may lead to unexpected results and is discouraged. Set l1_ratio > 0 to add L1 regularization.\n",
      "  model = cd_fast.enet_coordinate_descent_gram(\n",
      "D:\\Anaconda\\Lib\\site-packages\\sklearn\\linear_model\\_coordinate_descent.py:617: ConvergenceWarning: Objective did not converge. You might want to increase the number of iterations. Duality gap: 1518062.5851351714, tolerance: 529.3429897435898\n",
      "  model = cd_fast.enet_coordinate_descent_gram(\n",
      "D:\\Anaconda\\Lib\\site-packages\\sklearn\\linear_model\\_coordinate_descent.py:617: UserWarning: Coordinate descent without L1 regularization may lead to unexpected results and is discouraged. Set l1_ratio > 0 to add L1 regularization.\n",
      "  model = cd_fast.enet_coordinate_descent_gram(\n",
      "D:\\Anaconda\\Lib\\site-packages\\sklearn\\linear_model\\_coordinate_descent.py:617: UserWarning: Coordinate descent without L1 regularization may lead to unexpected results and is discouraged. Set l1_ratio > 0 to add L1 regularization.\n",
      "  model = cd_fast.enet_coordinate_descent_gram(\n",
      "D:\\Anaconda\\Lib\\site-packages\\sklearn\\linear_model\\_coordinate_descent.py:617: ConvergenceWarning: Objective did not converge. You might want to increase the number of iterations. Duality gap: 1455624.9042116422, tolerance: 529.3429897435898\n",
      "  model = cd_fast.enet_coordinate_descent_gram(\n",
      "D:\\Anaconda\\Lib\\site-packages\\sklearn\\linear_model\\_coordinate_descent.py:617: UserWarning: Coordinate descent without L1 regularization may lead to unexpected results and is discouraged. Set l1_ratio > 0 to add L1 regularization.\n",
      "  model = cd_fast.enet_coordinate_descent_gram(\n",
      "D:\\Anaconda\\Lib\\site-packages\\sklearn\\linear_model\\_coordinate_descent.py:617: UserWarning: Coordinate descent without L1 regularization may lead to unexpected results and is discouraged. Set l1_ratio > 0 to add L1 regularization.\n",
      "  model = cd_fast.enet_coordinate_descent_gram(\n",
      "D:\\Anaconda\\Lib\\site-packages\\sklearn\\linear_model\\_coordinate_descent.py:617: ConvergenceWarning: Objective did not converge. You might want to increase the number of iterations. Duality gap: 1385874.5046348954, tolerance: 529.3429897435898\n",
      "  model = cd_fast.enet_coordinate_descent_gram(\n",
      "D:\\Anaconda\\Lib\\site-packages\\sklearn\\linear_model\\_coordinate_descent.py:617: UserWarning: Coordinate descent without L1 regularization may lead to unexpected results and is discouraged. Set l1_ratio > 0 to add L1 regularization.\n",
      "  model = cd_fast.enet_coordinate_descent_gram(\n",
      "D:\\Anaconda\\Lib\\site-packages\\sklearn\\linear_model\\_coordinate_descent.py:617: UserWarning: Coordinate descent without L1 regularization may lead to unexpected results and is discouraged. Set l1_ratio > 0 to add L1 regularization.\n",
      "  model = cd_fast.enet_coordinate_descent_gram(\n",
      "D:\\Anaconda\\Lib\\site-packages\\sklearn\\linear_model\\_coordinate_descent.py:617: ConvergenceWarning: Objective did not converge. You might want to increase the number of iterations. Duality gap: 1307446.7729703824, tolerance: 529.3429897435898\n",
      "  model = cd_fast.enet_coordinate_descent_gram(\n",
      "D:\\Anaconda\\Lib\\site-packages\\sklearn\\linear_model\\_coordinate_descent.py:617: UserWarning: Coordinate descent without L1 regularization may lead to unexpected results and is discouraged. Set l1_ratio > 0 to add L1 regularization.\n",
      "  model = cd_fast.enet_coordinate_descent_gram(\n",
      "D:\\Anaconda\\Lib\\site-packages\\sklearn\\linear_model\\_coordinate_descent.py:617: ConvergenceWarning: Objective did not converge. You might want to increase the number of iterations. Duality gap: 1264456.6453060233, tolerance: 529.3429897435898\n",
      "  model = cd_fast.enet_coordinate_descent_gram(\n",
      "D:\\Anaconda\\Lib\\site-packages\\sklearn\\linear_model\\_coordinate_descent.py:617: UserWarning: Coordinate descent without L1 regularization may lead to unexpected results and is discouraged. Set l1_ratio > 0 to add L1 regularization.\n",
      "  model = cd_fast.enet_coordinate_descent_gram(\n",
      "D:\\Anaconda\\Lib\\site-packages\\sklearn\\linear_model\\_coordinate_descent.py:617: ConvergenceWarning: Objective did not converge. You might want to increase the number of iterations. Duality gap: 1218615.0444113165, tolerance: 529.3429897435898\n",
      "  model = cd_fast.enet_coordinate_descent_gram(\n",
      "D:\\Anaconda\\Lib\\site-packages\\sklearn\\linear_model\\_coordinate_descent.py:617: UserWarning: Coordinate descent without L1 regularization may lead to unexpected results and is discouraged. Set l1_ratio > 0 to add L1 regularization.\n",
      "  model = cd_fast.enet_coordinate_descent_gram(\n",
      "D:\\Anaconda\\Lib\\site-packages\\sklearn\\linear_model\\_coordinate_descent.py:617: ConvergenceWarning: Objective did not converge. You might want to increase the number of iterations. Duality gap: 1169628.5376371322, tolerance: 529.3429897435898\n",
      "  model = cd_fast.enet_coordinate_descent_gram(\n",
      "D:\\Anaconda\\Lib\\site-packages\\sklearn\\linear_model\\_coordinate_descent.py:617: UserWarning: Coordinate descent without L1 regularization may lead to unexpected results and is discouraged. Set l1_ratio > 0 to add L1 regularization.\n",
      "  model = cd_fast.enet_coordinate_descent_gram(\n",
      "D:\\Anaconda\\Lib\\site-packages\\sklearn\\linear_model\\_coordinate_descent.py:617: ConvergenceWarning: Objective did not converge. You might want to increase the number of iterations. Duality gap: 1117162.0010840613, tolerance: 529.3429897435898\n",
      "  model = cd_fast.enet_coordinate_descent_gram(\n",
      "D:\\Anaconda\\Lib\\site-packages\\sklearn\\linear_model\\_coordinate_descent.py:617: UserWarning: Coordinate descent without L1 regularization may lead to unexpected results and is discouraged. Set l1_ratio > 0 to add L1 regularization.\n",
      "  model = cd_fast.enet_coordinate_descent_gram(\n",
      "D:\\Anaconda\\Lib\\site-packages\\sklearn\\linear_model\\_coordinate_descent.py:617: UserWarning: Coordinate descent without L1 regularization may lead to unexpected results and is discouraged. Set l1_ratio > 0 to add L1 regularization.\n",
      "  model = cd_fast.enet_coordinate_descent_gram(\n",
      "D:\\Anaconda\\Lib\\site-packages\\sklearn\\linear_model\\_coordinate_descent.py:617: ConvergenceWarning: Objective did not converge. You might want to increase the number of iterations. Duality gap: 1000192.0627893494, tolerance: 529.3429897435898\n",
      "  model = cd_fast.enet_coordinate_descent_gram(\n",
      "D:\\Anaconda\\Lib\\site-packages\\sklearn\\linear_model\\_coordinate_descent.py:617: UserWarning: Coordinate descent without L1 regularization may lead to unexpected results and is discouraged. Set l1_ratio > 0 to add L1 regularization.\n",
      "  model = cd_fast.enet_coordinate_descent_gram(\n",
      "D:\\Anaconda\\Lib\\site-packages\\sklearn\\linear_model\\_coordinate_descent.py:617: UserWarning: Coordinate descent without L1 regularization may lead to unexpected results and is discouraged. Set l1_ratio > 0 to add L1 regularization.\n",
      "  model = cd_fast.enet_coordinate_descent_gram(\n",
      "D:\\Anaconda\\Lib\\site-packages\\sklearn\\linear_model\\_coordinate_descent.py:617: UserWarning: Coordinate descent without L1 regularization may lead to unexpected results and is discouraged. Set l1_ratio > 0 to add L1 regularization.\n",
      "  model = cd_fast.enet_coordinate_descent_gram(\n",
      "D:\\Anaconda\\Lib\\site-packages\\sklearn\\linear_model\\_coordinate_descent.py:617: ConvergenceWarning: Objective did not converge. You might want to increase the number of iterations. Duality gap: 786846.7126174172, tolerance: 529.3429897435898\n",
      "  model = cd_fast.enet_coordinate_descent_gram(\n",
      "D:\\Anaconda\\Lib\\site-packages\\sklearn\\linear_model\\_coordinate_descent.py:617: UserWarning: Coordinate descent without L1 regularization may lead to unexpected results and is discouraged. Set l1_ratio > 0 to add L1 regularization.\n",
      "  model = cd_fast.enet_coordinate_descent_gram(\n",
      "D:\\Anaconda\\Lib\\site-packages\\sklearn\\linear_model\\_coordinate_descent.py:617: ConvergenceWarning: Objective did not converge. You might want to increase the number of iterations. Duality gap: 702890.8319324537, tolerance: 529.3429897435898\n",
      "  model = cd_fast.enet_coordinate_descent_gram(\n",
      "D:\\Anaconda\\Lib\\site-packages\\sklearn\\linear_model\\_coordinate_descent.py:617: UserWarning: Coordinate descent without L1 regularization may lead to unexpected results and is discouraged. Set l1_ratio > 0 to add L1 regularization.\n",
      "  model = cd_fast.enet_coordinate_descent_gram(\n",
      "D:\\Anaconda\\Lib\\site-packages\\sklearn\\linear_model\\_coordinate_descent.py:617: ConvergenceWarning: Objective did not converge. You might want to increase the number of iterations. Duality gap: 610996.9582715495, tolerance: 529.3429897435898\n",
      "  model = cd_fast.enet_coordinate_descent_gram(\n",
      "D:\\Anaconda\\Lib\\site-packages\\sklearn\\linear_model\\_coordinate_descent.py:617: UserWarning: Coordinate descent without L1 regularization may lead to unexpected results and is discouraged. Set l1_ratio > 0 to add L1 regularization.\n",
      "  model = cd_fast.enet_coordinate_descent_gram(\n",
      "D:\\Anaconda\\Lib\\site-packages\\sklearn\\linear_model\\_coordinate_descent.py:617: ConvergenceWarning: Objective did not converge. You might want to increase the number of iterations. Duality gap: 509983.4279197351, tolerance: 529.3429897435898\n",
      "  model = cd_fast.enet_coordinate_descent_gram(\n",
      "D:\\Anaconda\\Lib\\site-packages\\sklearn\\linear_model\\_coordinate_descent.py:617: UserWarning: Coordinate descent without L1 regularization may lead to unexpected results and is discouraged. Set l1_ratio > 0 to add L1 regularization.\n",
      "  model = cd_fast.enet_coordinate_descent_gram(\n",
      "D:\\Anaconda\\Lib\\site-packages\\sklearn\\linear_model\\_coordinate_descent.py:617: UserWarning: Coordinate descent without L1 regularization may lead to unexpected results and is discouraged. Set l1_ratio > 0 to add L1 regularization.\n",
      "  model = cd_fast.enet_coordinate_descent_gram(\n",
      "D:\\Anaconda\\Lib\\site-packages\\sklearn\\linear_model\\_coordinate_descent.py:617: ConvergenceWarning: Objective did not converge. You might want to increase the number of iterations. Duality gap: 2303954.068569419, tolerance: 533.2848\n",
      "  model = cd_fast.enet_coordinate_descent_gram(\n",
      "D:\\Anaconda\\Lib\\site-packages\\sklearn\\linear_model\\_coordinate_descent.py:617: UserWarning: Coordinate descent without L1 regularization may lead to unexpected results and is discouraged. Set l1_ratio > 0 to add L1 regularization.\n",
      "  model = cd_fast.enet_coordinate_descent_gram(\n",
      "D:\\Anaconda\\Lib\\site-packages\\sklearn\\linear_model\\_coordinate_descent.py:617: ConvergenceWarning: Objective did not converge. You might want to increase the number of iterations. Duality gap: 2300851.0626992825, tolerance: 533.2848\n",
      "  model = cd_fast.enet_coordinate_descent_gram(\n",
      "D:\\Anaconda\\Lib\\site-packages\\sklearn\\linear_model\\_coordinate_descent.py:617: UserWarning: Coordinate descent without L1 regularization may lead to unexpected results and is discouraged. Set l1_ratio > 0 to add L1 regularization.\n",
      "  model = cd_fast.enet_coordinate_descent_gram(\n",
      "D:\\Anaconda\\Lib\\site-packages\\sklearn\\linear_model\\_coordinate_descent.py:617: UserWarning: Coordinate descent without L1 regularization may lead to unexpected results and is discouraged. Set l1_ratio > 0 to add L1 regularization.\n",
      "  model = cd_fast.enet_coordinate_descent_gram(\n",
      "D:\\Anaconda\\Lib\\site-packages\\sklearn\\linear_model\\_coordinate_descent.py:617: UserWarning: Coordinate descent without L1 regularization may lead to unexpected results and is discouraged. Set l1_ratio > 0 to add L1 regularization.\n",
      "  model = cd_fast.enet_coordinate_descent_gram(\n",
      "D:\\Anaconda\\Lib\\site-packages\\sklearn\\linear_model\\_coordinate_descent.py:617: UserWarning: Coordinate descent without L1 regularization may lead to unexpected results and is discouraged. Set l1_ratio > 0 to add L1 regularization.\n",
      "  model = cd_fast.enet_coordinate_descent_gram(\n",
      "D:\\Anaconda\\Lib\\site-packages\\sklearn\\linear_model\\_coordinate_descent.py:617: ConvergenceWarning: Objective did not converge. You might want to increase the number of iterations. Duality gap: 2287888.92192606, tolerance: 533.2848\n",
      "  model = cd_fast.enet_coordinate_descent_gram(\n",
      "D:\\Anaconda\\Lib\\site-packages\\sklearn\\linear_model\\_coordinate_descent.py:617: UserWarning: Coordinate descent without L1 regularization may lead to unexpected results and is discouraged. Set l1_ratio > 0 to add L1 regularization.\n",
      "  model = cd_fast.enet_coordinate_descent_gram(\n",
      "D:\\Anaconda\\Lib\\site-packages\\sklearn\\linear_model\\_coordinate_descent.py:617: ConvergenceWarning: Objective did not converge. You might want to increase the number of iterations. Duality gap: 2284503.4774136054, tolerance: 533.2848\n",
      "  model = cd_fast.enet_coordinate_descent_gram(\n",
      "D:\\Anaconda\\Lib\\site-packages\\sklearn\\linear_model\\_coordinate_descent.py:617: UserWarning: Coordinate descent without L1 regularization may lead to unexpected results and is discouraged. Set l1_ratio > 0 to add L1 regularization.\n",
      "  model = cd_fast.enet_coordinate_descent_gram(\n",
      "D:\\Anaconda\\Lib\\site-packages\\sklearn\\linear_model\\_coordinate_descent.py:617: ConvergenceWarning: Objective did not converge. You might want to increase the number of iterations. Duality gap: 2281056.930698074, tolerance: 533.2848\n",
      "  model = cd_fast.enet_coordinate_descent_gram(\n",
      "D:\\Anaconda\\Lib\\site-packages\\sklearn\\linear_model\\_coordinate_descent.py:617: UserWarning: Coordinate descent without L1 regularization may lead to unexpected results and is discouraged. Set l1_ratio > 0 to add L1 regularization.\n",
      "  model = cd_fast.enet_coordinate_descent_gram(\n",
      "D:\\Anaconda\\Lib\\site-packages\\sklearn\\linear_model\\_coordinate_descent.py:617: UserWarning: Coordinate descent without L1 regularization may lead to unexpected results and is discouraged. Set l1_ratio > 0 to add L1 regularization.\n",
      "  model = cd_fast.enet_coordinate_descent_gram(\n",
      "D:\\Anaconda\\Lib\\site-packages\\sklearn\\linear_model\\_coordinate_descent.py:617: ConvergenceWarning: Objective did not converge. You might want to increase the number of iterations. Duality gap: 2273973.792219547, tolerance: 533.2848\n",
      "  model = cd_fast.enet_coordinate_descent_gram(\n",
      "D:\\Anaconda\\Lib\\site-packages\\sklearn\\linear_model\\_coordinate_descent.py:617: UserWarning: Coordinate descent without L1 regularization may lead to unexpected results and is discouraged. Set l1_ratio > 0 to add L1 regularization.\n",
      "  model = cd_fast.enet_coordinate_descent_gram(\n",
      "D:\\Anaconda\\Lib\\site-packages\\sklearn\\linear_model\\_coordinate_descent.py:617: UserWarning: Coordinate descent without L1 regularization may lead to unexpected results and is discouraged. Set l1_ratio > 0 to add L1 regularization.\n",
      "  model = cd_fast.enet_coordinate_descent_gram(\n",
      "D:\\Anaconda\\Lib\\site-packages\\sklearn\\linear_model\\_coordinate_descent.py:617: ConvergenceWarning: Objective did not converge. You might want to increase the number of iterations. Duality gap: 2266625.3987480486, tolerance: 533.2848\n",
      "  model = cd_fast.enet_coordinate_descent_gram(\n",
      "D:\\Anaconda\\Lib\\site-packages\\sklearn\\linear_model\\_coordinate_descent.py:617: UserWarning: Coordinate descent without L1 regularization may lead to unexpected results and is discouraged. Set l1_ratio > 0 to add L1 regularization.\n",
      "  model = cd_fast.enet_coordinate_descent_gram(\n",
      "D:\\Anaconda\\Lib\\site-packages\\sklearn\\linear_model\\_coordinate_descent.py:617: UserWarning: Coordinate descent without L1 regularization may lead to unexpected results and is discouraged. Set l1_ratio > 0 to add L1 regularization.\n",
      "  model = cd_fast.enet_coordinate_descent_gram(\n",
      "D:\\Anaconda\\Lib\\site-packages\\sklearn\\linear_model\\_coordinate_descent.py:617: UserWarning: Coordinate descent without L1 regularization may lead to unexpected results and is discouraged. Set l1_ratio > 0 to add L1 regularization.\n",
      "  model = cd_fast.enet_coordinate_descent_gram(\n",
      "D:\\Anaconda\\Lib\\site-packages\\sklearn\\linear_model\\_coordinate_descent.py:617: UserWarning: Coordinate descent without L1 regularization may lead to unexpected results and is discouraged. Set l1_ratio > 0 to add L1 regularization.\n",
      "  model = cd_fast.enet_coordinate_descent_gram(\n",
      "D:\\Anaconda\\Lib\\site-packages\\sklearn\\linear_model\\_coordinate_descent.py:617: ConvergenceWarning: Objective did not converge. You might want to increase the number of iterations. Duality gap: 2251070.92713087, tolerance: 533.2848\n",
      "  model = cd_fast.enet_coordinate_descent_gram(\n",
      "D:\\Anaconda\\Lib\\site-packages\\sklearn\\linear_model\\_coordinate_descent.py:617: UserWarning: Coordinate descent without L1 regularization may lead to unexpected results and is discouraged. Set l1_ratio > 0 to add L1 regularization.\n",
      "  model = cd_fast.enet_coordinate_descent_gram(\n",
      "D:\\Anaconda\\Lib\\site-packages\\sklearn\\linear_model\\_coordinate_descent.py:617: ConvergenceWarning: Objective did not converge. You might want to increase the number of iterations. Duality gap: 2246991.3396900445, tolerance: 533.2848\n",
      "  model = cd_fast.enet_coordinate_descent_gram(\n",
      "D:\\Anaconda\\Lib\\site-packages\\sklearn\\linear_model\\_coordinate_descent.py:617: UserWarning: Coordinate descent without L1 regularization may lead to unexpected results and is discouraged. Set l1_ratio > 0 to add L1 regularization.\n",
      "  model = cd_fast.enet_coordinate_descent_gram(\n",
      "D:\\Anaconda\\Lib\\site-packages\\sklearn\\linear_model\\_coordinate_descent.py:617: UserWarning: Coordinate descent without L1 regularization may lead to unexpected results and is discouraged. Set l1_ratio > 0 to add L1 regularization.\n",
      "  model = cd_fast.enet_coordinate_descent_gram(\n",
      "D:\\Anaconda\\Lib\\site-packages\\sklearn\\linear_model\\_coordinate_descent.py:617: ConvergenceWarning: Objective did not converge. You might want to increase the number of iterations. Duality gap: 2238586.9297923045, tolerance: 533.2848\n",
      "  model = cd_fast.enet_coordinate_descent_gram(\n",
      "D:\\Anaconda\\Lib\\site-packages\\sklearn\\linear_model\\_coordinate_descent.py:617: UserWarning: Coordinate descent without L1 regularization may lead to unexpected results and is discouraged. Set l1_ratio > 0 to add L1 regularization.\n",
      "  model = cd_fast.enet_coordinate_descent_gram(\n",
      "D:\\Anaconda\\Lib\\site-packages\\sklearn\\linear_model\\_coordinate_descent.py:617: ConvergenceWarning: Objective did not converge. You might want to increase the number of iterations. Duality gap: 2234257.143692743, tolerance: 533.2848\n",
      "  model = cd_fast.enet_coordinate_descent_gram(\n",
      "D:\\Anaconda\\Lib\\site-packages\\sklearn\\linear_model\\_coordinate_descent.py:617: UserWarning: Coordinate descent without L1 regularization may lead to unexpected results and is discouraged. Set l1_ratio > 0 to add L1 regularization.\n",
      "  model = cd_fast.enet_coordinate_descent_gram(\n",
      "D:\\Anaconda\\Lib\\site-packages\\sklearn\\linear_model\\_coordinate_descent.py:617: UserWarning: Coordinate descent without L1 regularization may lead to unexpected results and is discouraged. Set l1_ratio > 0 to add L1 regularization.\n",
      "  model = cd_fast.enet_coordinate_descent_gram(\n",
      "D:\\Anaconda\\Lib\\site-packages\\sklearn\\linear_model\\_coordinate_descent.py:617: UserWarning: Coordinate descent without L1 regularization may lead to unexpected results and is discouraged. Set l1_ratio > 0 to add L1 regularization.\n",
      "  model = cd_fast.enet_coordinate_descent_gram(\n",
      "D:\\Anaconda\\Lib\\site-packages\\sklearn\\linear_model\\_coordinate_descent.py:617: ConvergenceWarning: Objective did not converge. You might want to increase the number of iterations. Duality gap: 2220725.503092489, tolerance: 533.2848\n",
      "  model = cd_fast.enet_coordinate_descent_gram(\n",
      "D:\\Anaconda\\Lib\\site-packages\\sklearn\\linear_model\\_coordinate_descent.py:617: UserWarning: Coordinate descent without L1 regularization may lead to unexpected results and is discouraged. Set l1_ratio > 0 to add L1 regularization.\n",
      "  model = cd_fast.enet_coordinate_descent_gram(\n",
      "D:\\Anaconda\\Lib\\site-packages\\sklearn\\linear_model\\_coordinate_descent.py:617: ConvergenceWarning: Objective did not converge. You might want to increase the number of iterations. Duality gap: 2216024.662921624, tolerance: 533.2848\n",
      "  model = cd_fast.enet_coordinate_descent_gram(\n",
      "D:\\Anaconda\\Lib\\site-packages\\sklearn\\linear_model\\_coordinate_descent.py:617: UserWarning: Coordinate descent without L1 regularization may lead to unexpected results and is discouraged. Set l1_ratio > 0 to add L1 regularization.\n",
      "  model = cd_fast.enet_coordinate_descent_gram(\n",
      "D:\\Anaconda\\Lib\\site-packages\\sklearn\\linear_model\\_coordinate_descent.py:617: UserWarning: Coordinate descent without L1 regularization may lead to unexpected results and is discouraged. Set l1_ratio > 0 to add L1 regularization.\n",
      "  model = cd_fast.enet_coordinate_descent_gram(\n",
      "D:\\Anaconda\\Lib\\site-packages\\sklearn\\linear_model\\_coordinate_descent.py:617: UserWarning: Coordinate descent without L1 regularization may lead to unexpected results and is discouraged. Set l1_ratio > 0 to add L1 regularization.\n",
      "  model = cd_fast.enet_coordinate_descent_gram(\n",
      "D:\\Anaconda\\Lib\\site-packages\\sklearn\\linear_model\\_coordinate_descent.py:617: ConvergenceWarning: Objective did not converge. You might want to increase the number of iterations. Duality gap: 2201307.737284218, tolerance: 533.2848\n",
      "  model = cd_fast.enet_coordinate_descent_gram(\n",
      "D:\\Anaconda\\Lib\\site-packages\\sklearn\\linear_model\\_coordinate_descent.py:617: UserWarning: Coordinate descent without L1 regularization may lead to unexpected results and is discouraged. Set l1_ratio > 0 to add L1 regularization.\n",
      "  model = cd_fast.enet_coordinate_descent_gram(\n",
      "D:\\Anaconda\\Lib\\site-packages\\sklearn\\linear_model\\_coordinate_descent.py:617: UserWarning: Coordinate descent without L1 regularization may lead to unexpected results and is discouraged. Set l1_ratio > 0 to add L1 regularization.\n",
      "  model = cd_fast.enet_coordinate_descent_gram(\n",
      "D:\\Anaconda\\Lib\\site-packages\\sklearn\\linear_model\\_coordinate_descent.py:617: UserWarning: Coordinate descent without L1 regularization may lead to unexpected results and is discouraged. Set l1_ratio > 0 to add L1 regularization.\n",
      "  model = cd_fast.enet_coordinate_descent_gram(\n",
      "D:\\Anaconda\\Lib\\site-packages\\sklearn\\linear_model\\_coordinate_descent.py:617: ConvergenceWarning: Objective did not converge. You might want to increase the number of iterations. Duality gap: 2185596.564945411, tolerance: 533.2848\n",
      "  model = cd_fast.enet_coordinate_descent_gram(\n",
      "D:\\Anaconda\\Lib\\site-packages\\sklearn\\linear_model\\_coordinate_descent.py:617: UserWarning: Coordinate descent without L1 regularization may lead to unexpected results and is discouraged. Set l1_ratio > 0 to add L1 regularization.\n",
      "  model = cd_fast.enet_coordinate_descent_gram(\n",
      "D:\\Anaconda\\Lib\\site-packages\\sklearn\\linear_model\\_coordinate_descent.py:617: UserWarning: Coordinate descent without L1 regularization may lead to unexpected results and is discouraged. Set l1_ratio > 0 to add L1 regularization.\n",
      "  model = cd_fast.enet_coordinate_descent_gram(\n",
      "D:\\Anaconda\\Lib\\site-packages\\sklearn\\linear_model\\_coordinate_descent.py:617: UserWarning: Coordinate descent without L1 regularization may lead to unexpected results and is discouraged. Set l1_ratio > 0 to add L1 regularization.\n",
      "  model = cd_fast.enet_coordinate_descent_gram(\n",
      "D:\\Anaconda\\Lib\\site-packages\\sklearn\\linear_model\\_coordinate_descent.py:617: UserWarning: Coordinate descent without L1 regularization may lead to unexpected results and is discouraged. Set l1_ratio > 0 to add L1 regularization.\n",
      "  model = cd_fast.enet_coordinate_descent_gram(\n",
      "D:\\Anaconda\\Lib\\site-packages\\sklearn\\linear_model\\_coordinate_descent.py:617: UserWarning: Coordinate descent without L1 regularization may lead to unexpected results and is discouraged. Set l1_ratio > 0 to add L1 regularization.\n",
      "  model = cd_fast.enet_coordinate_descent_gram(\n",
      "D:\\Anaconda\\Lib\\site-packages\\sklearn\\linear_model\\_coordinate_descent.py:617: UserWarning: Coordinate descent without L1 regularization may lead to unexpected results and is discouraged. Set l1_ratio > 0 to add L1 regularization.\n",
      "  model = cd_fast.enet_coordinate_descent_gram(\n",
      "D:\\Anaconda\\Lib\\site-packages\\sklearn\\linear_model\\_coordinate_descent.py:617: UserWarning: Coordinate descent without L1 regularization may lead to unexpected results and is discouraged. Set l1_ratio > 0 to add L1 regularization.\n",
      "  model = cd_fast.enet_coordinate_descent_gram(\n",
      "D:\\Anaconda\\Lib\\site-packages\\sklearn\\linear_model\\_coordinate_descent.py:617: UserWarning: Coordinate descent without L1 regularization may lead to unexpected results and is discouraged. Set l1_ratio > 0 to add L1 regularization.\n",
      "  model = cd_fast.enet_coordinate_descent_gram(\n",
      "D:\\Anaconda\\Lib\\site-packages\\sklearn\\linear_model\\_coordinate_descent.py:617: ConvergenceWarning: Objective did not converge. You might want to increase the number of iterations. Duality gap: 2137997.2630147003, tolerance: 533.2848\n",
      "  model = cd_fast.enet_coordinate_descent_gram(\n",
      "D:\\Anaconda\\Lib\\site-packages\\sklearn\\linear_model\\_coordinate_descent.py:617: UserWarning: Coordinate descent without L1 regularization may lead to unexpected results and is discouraged. Set l1_ratio > 0 to add L1 regularization.\n",
      "  model = cd_fast.enet_coordinate_descent_gram(\n",
      "D:\\Anaconda\\Lib\\site-packages\\sklearn\\linear_model\\_coordinate_descent.py:617: ConvergenceWarning: Objective did not converge. You might want to increase the number of iterations. Duality gap: 2131376.4127374804, tolerance: 533.2848\n",
      "  model = cd_fast.enet_coordinate_descent_gram(\n",
      "D:\\Anaconda\\Lib\\site-packages\\sklearn\\linear_model\\_coordinate_descent.py:617: UserWarning: Coordinate descent without L1 regularization may lead to unexpected results and is discouraged. Set l1_ratio > 0 to add L1 regularization.\n",
      "  model = cd_fast.enet_coordinate_descent_gram(\n",
      "D:\\Anaconda\\Lib\\site-packages\\sklearn\\linear_model\\_coordinate_descent.py:617: ConvergenceWarning: Objective did not converge. You might want to increase the number of iterations. Duality gap: 2124587.547267217, tolerance: 533.2848\n",
      "  model = cd_fast.enet_coordinate_descent_gram(\n",
      "D:\\Anaconda\\Lib\\site-packages\\sklearn\\linear_model\\_coordinate_descent.py:617: UserWarning: Coordinate descent without L1 regularization may lead to unexpected results and is discouraged. Set l1_ratio > 0 to add L1 regularization.\n",
      "  model = cd_fast.enet_coordinate_descent_gram(\n",
      "D:\\Anaconda\\Lib\\site-packages\\sklearn\\linear_model\\_coordinate_descent.py:617: UserWarning: Coordinate descent without L1 regularization may lead to unexpected results and is discouraged. Set l1_ratio > 0 to add L1 regularization.\n",
      "  model = cd_fast.enet_coordinate_descent_gram(\n",
      "D:\\Anaconda\\Lib\\site-packages\\sklearn\\linear_model\\_coordinate_descent.py:617: UserWarning: Coordinate descent without L1 regularization may lead to unexpected results and is discouraged. Set l1_ratio > 0 to add L1 regularization.\n",
      "  model = cd_fast.enet_coordinate_descent_gram(\n",
      "D:\\Anaconda\\Lib\\site-packages\\sklearn\\linear_model\\_coordinate_descent.py:617: UserWarning: Coordinate descent without L1 regularization may lead to unexpected results and is discouraged. Set l1_ratio > 0 to add L1 regularization.\n",
      "  model = cd_fast.enet_coordinate_descent_gram(\n",
      "D:\\Anaconda\\Lib\\site-packages\\sklearn\\linear_model\\_coordinate_descent.py:617: UserWarning: Coordinate descent without L1 regularization may lead to unexpected results and is discouraged. Set l1_ratio > 0 to add L1 regularization.\n",
      "  model = cd_fast.enet_coordinate_descent_gram(\n",
      "D:\\Anaconda\\Lib\\site-packages\\sklearn\\linear_model\\_coordinate_descent.py:617: ConvergenceWarning: Objective did not converge. You might want to increase the number of iterations. Duality gap: 2087883.9865566026, tolerance: 533.2848\n",
      "  model = cd_fast.enet_coordinate_descent_gram(\n",
      "D:\\Anaconda\\Lib\\site-packages\\sklearn\\linear_model\\_coordinate_descent.py:617: UserWarning: Coordinate descent without L1 regularization may lead to unexpected results and is discouraged. Set l1_ratio > 0 to add L1 regularization.\n",
      "  model = cd_fast.enet_coordinate_descent_gram(\n",
      "D:\\Anaconda\\Lib\\site-packages\\sklearn\\linear_model\\_coordinate_descent.py:617: UserWarning: Coordinate descent without L1 regularization may lead to unexpected results and is discouraged. Set l1_ratio > 0 to add L1 regularization.\n",
      "  model = cd_fast.enet_coordinate_descent_gram(\n",
      "D:\\Anaconda\\Lib\\site-packages\\sklearn\\linear_model\\_coordinate_descent.py:617: ConvergenceWarning: Objective did not converge. You might want to increase the number of iterations. Duality gap: 2071771.4751616644, tolerance: 533.2848\n",
      "  model = cd_fast.enet_coordinate_descent_gram(\n",
      "D:\\Anaconda\\Lib\\site-packages\\sklearn\\linear_model\\_coordinate_descent.py:617: UserWarning: Coordinate descent without L1 regularization may lead to unexpected results and is discouraged. Set l1_ratio > 0 to add L1 regularization.\n",
      "  model = cd_fast.enet_coordinate_descent_gram(\n",
      "D:\\Anaconda\\Lib\\site-packages\\sklearn\\linear_model\\_coordinate_descent.py:617: ConvergenceWarning: Objective did not converge. You might want to increase the number of iterations. Duality gap: 2063373.913046712, tolerance: 533.2848\n",
      "  model = cd_fast.enet_coordinate_descent_gram(\n",
      "D:\\Anaconda\\Lib\\site-packages\\sklearn\\linear_model\\_coordinate_descent.py:617: UserWarning: Coordinate descent without L1 regularization may lead to unexpected results and is discouraged. Set l1_ratio > 0 to add L1 regularization.\n",
      "  model = cd_fast.enet_coordinate_descent_gram(\n",
      "D:\\Anaconda\\Lib\\site-packages\\sklearn\\linear_model\\_coordinate_descent.py:617: ConvergenceWarning: Objective did not converge. You might want to increase the number of iterations. Duality gap: 2054735.7762536462, tolerance: 533.2848\n",
      "  model = cd_fast.enet_coordinate_descent_gram(\n",
      "D:\\Anaconda\\Lib\\site-packages\\sklearn\\linear_model\\_coordinate_descent.py:617: UserWarning: Coordinate descent without L1 regularization may lead to unexpected results and is discouraged. Set l1_ratio > 0 to add L1 regularization.\n",
      "  model = cd_fast.enet_coordinate_descent_gram(\n",
      "D:\\Anaconda\\Lib\\site-packages\\sklearn\\linear_model\\_coordinate_descent.py:617: ConvergenceWarning: Objective did not converge. You might want to increase the number of iterations. Duality gap: 2045846.5765159833, tolerance: 533.2848\n",
      "  model = cd_fast.enet_coordinate_descent_gram(\n",
      "D:\\Anaconda\\Lib\\site-packages\\sklearn\\linear_model\\_coordinate_descent.py:617: UserWarning: Coordinate descent without L1 regularization may lead to unexpected results and is discouraged. Set l1_ratio > 0 to add L1 regularization.\n",
      "  model = cd_fast.enet_coordinate_descent_gram(\n",
      "D:\\Anaconda\\Lib\\site-packages\\sklearn\\linear_model\\_coordinate_descent.py:617: UserWarning: Coordinate descent without L1 regularization may lead to unexpected results and is discouraged. Set l1_ratio > 0 to add L1 regularization.\n",
      "  model = cd_fast.enet_coordinate_descent_gram(\n",
      "D:\\Anaconda\\Lib\\site-packages\\sklearn\\linear_model\\_coordinate_descent.py:617: ConvergenceWarning: Objective did not converge. You might want to increase the number of iterations. Duality gap: 2027269.8955297584, tolerance: 533.2848\n",
      "  model = cd_fast.enet_coordinate_descent_gram(\n",
      "D:\\Anaconda\\Lib\\site-packages\\sklearn\\linear_model\\_coordinate_descent.py:617: UserWarning: Coordinate descent without L1 regularization may lead to unexpected results and is discouraged. Set l1_ratio > 0 to add L1 regularization.\n",
      "  model = cd_fast.enet_coordinate_descent_gram(\n",
      "D:\\Anaconda\\Lib\\site-packages\\sklearn\\linear_model\\_coordinate_descent.py:617: UserWarning: Coordinate descent without L1 regularization may lead to unexpected results and is discouraged. Set l1_ratio > 0 to add L1 regularization.\n",
      "  model = cd_fast.enet_coordinate_descent_gram(\n",
      "D:\\Anaconda\\Lib\\site-packages\\sklearn\\linear_model\\_coordinate_descent.py:617: UserWarning: Coordinate descent without L1 regularization may lead to unexpected results and is discouraged. Set l1_ratio > 0 to add L1 regularization.\n",
      "  model = cd_fast.enet_coordinate_descent_gram(\n",
      "D:\\Anaconda\\Lib\\site-packages\\sklearn\\linear_model\\_coordinate_descent.py:617: ConvergenceWarning: Objective did not converge. You might want to increase the number of iterations. Duality gap: 1997221.5233522365, tolerance: 533.2848\n",
      "  model = cd_fast.enet_coordinate_descent_gram(\n",
      "D:\\Anaconda\\Lib\\site-packages\\sklearn\\linear_model\\_coordinate_descent.py:617: UserWarning: Coordinate descent without L1 regularization may lead to unexpected results and is discouraged. Set l1_ratio > 0 to add L1 regularization.\n",
      "  model = cd_fast.enet_coordinate_descent_gram(\n",
      "D:\\Anaconda\\Lib\\site-packages\\sklearn\\linear_model\\_coordinate_descent.py:617: ConvergenceWarning: Objective did not converge. You might want to increase the number of iterations. Duality gap: 1986567.556757451, tolerance: 533.2848\n",
      "  model = cd_fast.enet_coordinate_descent_gram(\n",
      "D:\\Anaconda\\Lib\\site-packages\\sklearn\\linear_model\\_coordinate_descent.py:617: UserWarning: Coordinate descent without L1 regularization may lead to unexpected results and is discouraged. Set l1_ratio > 0 to add L1 regularization.\n",
      "  model = cd_fast.enet_coordinate_descent_gram(\n",
      "D:\\Anaconda\\Lib\\site-packages\\sklearn\\linear_model\\_coordinate_descent.py:617: UserWarning: Coordinate descent without L1 regularization may lead to unexpected results and is discouraged. Set l1_ratio > 0 to add L1 regularization.\n",
      "  model = cd_fast.enet_coordinate_descent_gram(\n",
      "D:\\Anaconda\\Lib\\site-packages\\sklearn\\linear_model\\_coordinate_descent.py:617: ConvergenceWarning: Objective did not converge. You might want to increase the number of iterations. Duality gap: 1964208.4617204873, tolerance: 533.2848\n",
      "  model = cd_fast.enet_coordinate_descent_gram(\n",
      "D:\\Anaconda\\Lib\\site-packages\\sklearn\\linear_model\\_coordinate_descent.py:617: UserWarning: Coordinate descent without L1 regularization may lead to unexpected results and is discouraged. Set l1_ratio > 0 to add L1 regularization.\n",
      "  model = cd_fast.enet_coordinate_descent_gram(\n",
      "D:\\Anaconda\\Lib\\site-packages\\sklearn\\linear_model\\_coordinate_descent.py:617: ConvergenceWarning: Objective did not converge. You might want to increase the number of iterations. Duality gap: 1952468.1847218163, tolerance: 533.2848\n",
      "  model = cd_fast.enet_coordinate_descent_gram(\n",
      "D:\\Anaconda\\Lib\\site-packages\\sklearn\\linear_model\\_coordinate_descent.py:617: UserWarning: Coordinate descent without L1 regularization may lead to unexpected results and is discouraged. Set l1_ratio > 0 to add L1 regularization.\n",
      "  model = cd_fast.enet_coordinate_descent_gram(\n",
      "D:\\Anaconda\\Lib\\site-packages\\sklearn\\linear_model\\_coordinate_descent.py:617: ConvergenceWarning: Objective did not converge. You might want to increase the number of iterations. Duality gap: 1940328.663574267, tolerance: 533.2848\n",
      "  model = cd_fast.enet_coordinate_descent_gram(\n",
      "D:\\Anaconda\\Lib\\site-packages\\sklearn\\linear_model\\_coordinate_descent.py:617: UserWarning: Coordinate descent without L1 regularization may lead to unexpected results and is discouraged. Set l1_ratio > 0 to add L1 regularization.\n",
      "  model = cd_fast.enet_coordinate_descent_gram(\n",
      "D:\\Anaconda\\Lib\\site-packages\\sklearn\\linear_model\\_coordinate_descent.py:617: ConvergenceWarning: Objective did not converge. You might want to increase the number of iterations. Duality gap: 1927769.1807503533, tolerance: 533.2848\n",
      "  model = cd_fast.enet_coordinate_descent_gram(\n",
      "D:\\Anaconda\\Lib\\site-packages\\sklearn\\linear_model\\_coordinate_descent.py:617: UserWarning: Coordinate descent without L1 regularization may lead to unexpected results and is discouraged. Set l1_ratio > 0 to add L1 regularization.\n",
      "  model = cd_fast.enet_coordinate_descent_gram(\n",
      "D:\\Anaconda\\Lib\\site-packages\\sklearn\\linear_model\\_coordinate_descent.py:617: ConvergenceWarning: Objective did not converge. You might want to increase the number of iterations. Duality gap: 1914767.5600632667, tolerance: 533.2848\n",
      "  model = cd_fast.enet_coordinate_descent_gram(\n",
      "D:\\Anaconda\\Lib\\site-packages\\sklearn\\linear_model\\_coordinate_descent.py:617: UserWarning: Coordinate descent without L1 regularization may lead to unexpected results and is discouraged. Set l1_ratio > 0 to add L1 regularization.\n",
      "  model = cd_fast.enet_coordinate_descent_gram(\n",
      "D:\\Anaconda\\Lib\\site-packages\\sklearn\\linear_model\\_coordinate_descent.py:617: ConvergenceWarning: Objective did not converge. You might want to increase the number of iterations. Duality gap: 1901300.0359919583, tolerance: 533.2848\n",
      "  model = cd_fast.enet_coordinate_descent_gram(\n",
      "D:\\Anaconda\\Lib\\site-packages\\sklearn\\linear_model\\_coordinate_descent.py:617: UserWarning: Coordinate descent without L1 regularization may lead to unexpected results and is discouraged. Set l1_ratio > 0 to add L1 regularization.\n",
      "  model = cd_fast.enet_coordinate_descent_gram(\n",
      "D:\\Anaconda\\Lib\\site-packages\\sklearn\\linear_model\\_coordinate_descent.py:617: UserWarning: Coordinate descent without L1 regularization may lead to unexpected results and is discouraged. Set l1_ratio > 0 to add L1 regularization.\n",
      "  model = cd_fast.enet_coordinate_descent_gram(\n",
      "D:\\Anaconda\\Lib\\site-packages\\sklearn\\linear_model\\_coordinate_descent.py:617: UserWarning: Coordinate descent without L1 regularization may lead to unexpected results and is discouraged. Set l1_ratio > 0 to add L1 regularization.\n",
      "  model = cd_fast.enet_coordinate_descent_gram(\n",
      "D:\\Anaconda\\Lib\\site-packages\\sklearn\\linear_model\\_coordinate_descent.py:617: ConvergenceWarning: Objective did not converge. You might want to increase the number of iterations. Duality gap: 1857837.3883898978, tolerance: 533.2848\n",
      "  model = cd_fast.enet_coordinate_descent_gram(\n",
      "D:\\Anaconda\\Lib\\site-packages\\sklearn\\linear_model\\_coordinate_descent.py:617: UserWarning: Coordinate descent without L1 regularization may lead to unexpected results and is discouraged. Set l1_ratio > 0 to add L1 regularization.\n",
      "  model = cd_fast.enet_coordinate_descent_gram(\n",
      "D:\\Anaconda\\Lib\\site-packages\\sklearn\\linear_model\\_coordinate_descent.py:617: ConvergenceWarning: Objective did not converge. You might want to increase the number of iterations. Duality gap: 1842231.3798248526, tolerance: 533.2848\n",
      "  model = cd_fast.enet_coordinate_descent_gram(\n",
      "D:\\Anaconda\\Lib\\site-packages\\sklearn\\linear_model\\_coordinate_descent.py:617: UserWarning: Coordinate descent without L1 regularization may lead to unexpected results and is discouraged. Set l1_ratio > 0 to add L1 regularization.\n",
      "  model = cd_fast.enet_coordinate_descent_gram(\n",
      "D:\\Anaconda\\Lib\\site-packages\\sklearn\\linear_model\\_coordinate_descent.py:617: ConvergenceWarning: Objective did not converge. You might want to increase the number of iterations. Duality gap: 1826011.1128469356, tolerance: 533.2848\n",
      "  model = cd_fast.enet_coordinate_descent_gram(\n",
      "D:\\Anaconda\\Lib\\site-packages\\sklearn\\linear_model\\_coordinate_descent.py:617: UserWarning: Coordinate descent without L1 regularization may lead to unexpected results and is discouraged. Set l1_ratio > 0 to add L1 regularization.\n",
      "  model = cd_fast.enet_coordinate_descent_gram(\n",
      "D:\\Anaconda\\Lib\\site-packages\\sklearn\\linear_model\\_coordinate_descent.py:617: ConvergenceWarning: Objective did not converge. You might want to increase the number of iterations. Duality gap: 1809139.5932369363, tolerance: 533.2848\n",
      "  model = cd_fast.enet_coordinate_descent_gram(\n",
      "D:\\Anaconda\\Lib\\site-packages\\sklearn\\linear_model\\_coordinate_descent.py:617: UserWarning: Coordinate descent without L1 regularization may lead to unexpected results and is discouraged. Set l1_ratio > 0 to add L1 regularization.\n",
      "  model = cd_fast.enet_coordinate_descent_gram(\n",
      "D:\\Anaconda\\Lib\\site-packages\\sklearn\\linear_model\\_coordinate_descent.py:617: ConvergenceWarning: Objective did not converge. You might want to increase the number of iterations. Duality gap: 1791576.7952402793, tolerance: 533.2848\n",
      "  model = cd_fast.enet_coordinate_descent_gram(\n",
      "D:\\Anaconda\\Lib\\site-packages\\sklearn\\linear_model\\_coordinate_descent.py:617: UserWarning: Coordinate descent without L1 regularization may lead to unexpected results and is discouraged. Set l1_ratio > 0 to add L1 regularization.\n",
      "  model = cd_fast.enet_coordinate_descent_gram(\n",
      "D:\\Anaconda\\Lib\\site-packages\\sklearn\\linear_model\\_coordinate_descent.py:617: ConvergenceWarning: Objective did not converge. You might want to increase the number of iterations. Duality gap: 1773279.344543843, tolerance: 533.2848\n",
      "  model = cd_fast.enet_coordinate_descent_gram(\n",
      "D:\\Anaconda\\Lib\\site-packages\\sklearn\\linear_model\\_coordinate_descent.py:617: UserWarning: Coordinate descent without L1 regularization may lead to unexpected results and is discouraged. Set l1_ratio > 0 to add L1 regularization.\n",
      "  model = cd_fast.enet_coordinate_descent_gram(\n",
      "D:\\Anaconda\\Lib\\site-packages\\sklearn\\linear_model\\_coordinate_descent.py:617: ConvergenceWarning: Objective did not converge. You might want to increase the number of iterations. Duality gap: 1754200.160619652, tolerance: 533.2848\n",
      "  model = cd_fast.enet_coordinate_descent_gram(\n",
      "D:\\Anaconda\\Lib\\site-packages\\sklearn\\linear_model\\_coordinate_descent.py:617: UserWarning: Coordinate descent without L1 regularization may lead to unexpected results and is discouraged. Set l1_ratio > 0 to add L1 regularization.\n",
      "  model = cd_fast.enet_coordinate_descent_gram(\n",
      "D:\\Anaconda\\Lib\\site-packages\\sklearn\\linear_model\\_coordinate_descent.py:617: UserWarning: Coordinate descent without L1 regularization may lead to unexpected results and is discouraged. Set l1_ratio > 0 to add L1 regularization.\n",
      "  model = cd_fast.enet_coordinate_descent_gram(\n",
      "D:\\Anaconda\\Lib\\site-packages\\sklearn\\linear_model\\_coordinate_descent.py:617: ConvergenceWarning: Objective did not converge. You might want to increase the number of iterations. Duality gap: 1713487.2587548352, tolerance: 533.2848\n",
      "  model = cd_fast.enet_coordinate_descent_gram(\n",
      "D:\\Anaconda\\Lib\\site-packages\\sklearn\\linear_model\\_coordinate_descent.py:617: UserWarning: Coordinate descent without L1 regularization may lead to unexpected results and is discouraged. Set l1_ratio > 0 to add L1 regularization.\n",
      "  model = cd_fast.enet_coordinate_descent_gram(\n",
      "D:\\Anaconda\\Lib\\site-packages\\sklearn\\linear_model\\_coordinate_descent.py:617: ConvergenceWarning: Objective did not converge. You might want to increase the number of iterations. Duality gap: 1691736.9287549863, tolerance: 533.2848\n",
      "  model = cd_fast.enet_coordinate_descent_gram(\n",
      "D:\\Anaconda\\Lib\\site-packages\\sklearn\\linear_model\\_coordinate_descent.py:617: UserWarning: Coordinate descent without L1 regularization may lead to unexpected results and is discouraged. Set l1_ratio > 0 to add L1 regularization.\n",
      "  model = cd_fast.enet_coordinate_descent_gram(\n",
      "D:\\Anaconda\\Lib\\site-packages\\sklearn\\linear_model\\_coordinate_descent.py:617: UserWarning: Coordinate descent without L1 regularization may lead to unexpected results and is discouraged. Set l1_ratio > 0 to add L1 regularization.\n",
      "  model = cd_fast.enet_coordinate_descent_gram(\n",
      "D:\\Anaconda\\Lib\\site-packages\\sklearn\\linear_model\\_coordinate_descent.py:617: UserWarning: Coordinate descent without L1 regularization may lead to unexpected results and is discouraged. Set l1_ratio > 0 to add L1 regularization.\n",
      "  model = cd_fast.enet_coordinate_descent_gram(\n",
      "D:\\Anaconda\\Lib\\site-packages\\sklearn\\linear_model\\_coordinate_descent.py:617: UserWarning: Coordinate descent without L1 regularization may lead to unexpected results and is discouraged. Set l1_ratio > 0 to add L1 regularization.\n",
      "  model = cd_fast.enet_coordinate_descent_gram(\n",
      "D:\\Anaconda\\Lib\\site-packages\\sklearn\\linear_model\\_coordinate_descent.py:617: ConvergenceWarning: Objective did not converge. You might want to increase the number of iterations. Duality gap: 1593809.2314878302, tolerance: 533.2848\n",
      "  model = cd_fast.enet_coordinate_descent_gram(\n",
      "D:\\Anaconda\\Lib\\site-packages\\sklearn\\linear_model\\_coordinate_descent.py:617: UserWarning: Coordinate descent without L1 regularization may lead to unexpected results and is discouraged. Set l1_ratio > 0 to add L1 regularization.\n",
      "  model = cd_fast.enet_coordinate_descent_gram(\n",
      "D:\\Anaconda\\Lib\\site-packages\\sklearn\\linear_model\\_coordinate_descent.py:617: UserWarning: Coordinate descent without L1 regularization may lead to unexpected results and is discouraged. Set l1_ratio > 0 to add L1 regularization.\n",
      "  model = cd_fast.enet_coordinate_descent_gram(\n",
      "D:\\Anaconda\\Lib\\site-packages\\sklearn\\linear_model\\_coordinate_descent.py:617: ConvergenceWarning: Objective did not converge. You might want to increase the number of iterations. Duality gap: 1537075.916513389, tolerance: 533.2848\n",
      "  model = cd_fast.enet_coordinate_descent_gram(\n",
      "D:\\Anaconda\\Lib\\site-packages\\sklearn\\linear_model\\_coordinate_descent.py:617: UserWarning: Coordinate descent without L1 regularization may lead to unexpected results and is discouraged. Set l1_ratio > 0 to add L1 regularization.\n",
      "  model = cd_fast.enet_coordinate_descent_gram(\n",
      "D:\\Anaconda\\Lib\\site-packages\\sklearn\\linear_model\\_coordinate_descent.py:617: UserWarning: Coordinate descent without L1 regularization may lead to unexpected results and is discouraged. Set l1_ratio > 0 to add L1 regularization.\n",
      "  model = cd_fast.enet_coordinate_descent_gram(\n",
      "D:\\Anaconda\\Lib\\site-packages\\sklearn\\linear_model\\_coordinate_descent.py:617: ConvergenceWarning: Objective did not converge. You might want to increase the number of iterations. Duality gap: 1474005.8995216386, tolerance: 533.2848\n",
      "  model = cd_fast.enet_coordinate_descent_gram(\n",
      "D:\\Anaconda\\Lib\\site-packages\\sklearn\\linear_model\\_coordinate_descent.py:617: UserWarning: Coordinate descent without L1 regularization may lead to unexpected results and is discouraged. Set l1_ratio > 0 to add L1 regularization.\n",
      "  model = cd_fast.enet_coordinate_descent_gram(\n",
      "D:\\Anaconda\\Lib\\site-packages\\sklearn\\linear_model\\_coordinate_descent.py:617: UserWarning: Coordinate descent without L1 regularization may lead to unexpected results and is discouraged. Set l1_ratio > 0 to add L1 regularization.\n",
      "  model = cd_fast.enet_coordinate_descent_gram(\n",
      "D:\\Anaconda\\Lib\\site-packages\\sklearn\\linear_model\\_coordinate_descent.py:617: ConvergenceWarning: Objective did not converge. You might want to increase the number of iterations. Duality gap: 1403474.7386344403, tolerance: 533.2848\n",
      "  model = cd_fast.enet_coordinate_descent_gram(\n",
      "D:\\Anaconda\\Lib\\site-packages\\sklearn\\linear_model\\_coordinate_descent.py:617: UserWarning: Coordinate descent without L1 regularization may lead to unexpected results and is discouraged. Set l1_ratio > 0 to add L1 regularization.\n",
      "  model = cd_fast.enet_coordinate_descent_gram(\n",
      "D:\\Anaconda\\Lib\\site-packages\\sklearn\\linear_model\\_coordinate_descent.py:617: ConvergenceWarning: Objective did not converge. You might want to increase the number of iterations. Duality gap: 1364984.8783941208, tolerance: 533.2848\n",
      "  model = cd_fast.enet_coordinate_descent_gram(\n",
      "D:\\Anaconda\\Lib\\site-packages\\sklearn\\linear_model\\_coordinate_descent.py:617: UserWarning: Coordinate descent without L1 regularization may lead to unexpected results and is discouraged. Set l1_ratio > 0 to add L1 regularization.\n",
      "  model = cd_fast.enet_coordinate_descent_gram(\n",
      "D:\\Anaconda\\Lib\\site-packages\\sklearn\\linear_model\\_coordinate_descent.py:617: ConvergenceWarning: Objective did not converge. You might want to increase the number of iterations. Duality gap: 1324075.2248312002, tolerance: 533.2848\n",
      "  model = cd_fast.enet_coordinate_descent_gram(\n",
      "D:\\Anaconda\\Lib\\site-packages\\sklearn\\linear_model\\_coordinate_descent.py:617: UserWarning: Coordinate descent without L1 regularization may lead to unexpected results and is discouraged. Set l1_ratio > 0 to add L1 regularization.\n",
      "  model = cd_fast.enet_coordinate_descent_gram(\n",
      "D:\\Anaconda\\Lib\\site-packages\\sklearn\\linear_model\\_coordinate_descent.py:617: UserWarning: Coordinate descent without L1 regularization may lead to unexpected results and is discouraged. Set l1_ratio > 0 to add L1 regularization.\n",
      "  model = cd_fast.enet_coordinate_descent_gram(\n",
      "D:\\Anaconda\\Lib\\site-packages\\sklearn\\linear_model\\_coordinate_descent.py:617: ConvergenceWarning: Objective did not converge. You might want to increase the number of iterations. Duality gap: 1234022.5334911896, tolerance: 533.2848\n",
      "  model = cd_fast.enet_coordinate_descent_gram(\n",
      "D:\\Anaconda\\Lib\\site-packages\\sklearn\\linear_model\\_coordinate_descent.py:617: UserWarning: Coordinate descent without L1 regularization may lead to unexpected results and is discouraged. Set l1_ratio > 0 to add L1 regularization.\n",
      "  model = cd_fast.enet_coordinate_descent_gram(\n",
      "D:\\Anaconda\\Lib\\site-packages\\sklearn\\linear_model\\_coordinate_descent.py:617: ConvergenceWarning: Objective did not converge. You might want to increase the number of iterations. Duality gap: 1184307.9813469194, tolerance: 533.2848\n",
      "  model = cd_fast.enet_coordinate_descent_gram(\n",
      "D:\\Anaconda\\Lib\\site-packages\\sklearn\\linear_model\\_coordinate_descent.py:617: UserWarning: Coordinate descent without L1 regularization may lead to unexpected results and is discouraged. Set l1_ratio > 0 to add L1 regularization.\n",
      "  model = cd_fast.enet_coordinate_descent_gram(\n",
      "D:\\Anaconda\\Lib\\site-packages\\sklearn\\linear_model\\_coordinate_descent.py:617: ConvergenceWarning: Objective did not converge. You might want to increase the number of iterations. Duality gap: 1131018.4525839682, tolerance: 533.2848\n",
      "  model = cd_fast.enet_coordinate_descent_gram(\n",
      "D:\\Anaconda\\Lib\\site-packages\\sklearn\\linear_model\\_coordinate_descent.py:617: UserWarning: Coordinate descent without L1 regularization may lead to unexpected results and is discouraged. Set l1_ratio > 0 to add L1 regularization.\n",
      "  model = cd_fast.enet_coordinate_descent_gram(\n",
      "D:\\Anaconda\\Lib\\site-packages\\sklearn\\linear_model\\_coordinate_descent.py:617: ConvergenceWarning: Objective did not converge. You might want to increase the number of iterations. Duality gap: 1073753.9500983553, tolerance: 533.2848\n",
      "  model = cd_fast.enet_coordinate_descent_gram(\n",
      "D:\\Anaconda\\Lib\\site-packages\\sklearn\\linear_model\\_coordinate_descent.py:617: UserWarning: Coordinate descent without L1 regularization may lead to unexpected results and is discouraged. Set l1_ratio > 0 to add L1 regularization.\n",
      "  model = cd_fast.enet_coordinate_descent_gram(\n",
      "D:\\Anaconda\\Lib\\site-packages\\sklearn\\linear_model\\_coordinate_descent.py:617: ConvergenceWarning: Objective did not converge. You might want to increase the number of iterations. Duality gap: 1012052.4918077865, tolerance: 533.2848\n",
      "  model = cd_fast.enet_coordinate_descent_gram(\n",
      "D:\\Anaconda\\Lib\\site-packages\\sklearn\\linear_model\\_coordinate_descent.py:617: UserWarning: Coordinate descent without L1 regularization may lead to unexpected results and is discouraged. Set l1_ratio > 0 to add L1 regularization.\n",
      "  model = cd_fast.enet_coordinate_descent_gram(\n",
      "D:\\Anaconda\\Lib\\site-packages\\sklearn\\linear_model\\_coordinate_descent.py:617: UserWarning: Coordinate descent without L1 regularization may lead to unexpected results and is discouraged. Set l1_ratio > 0 to add L1 regularization.\n",
      "  model = cd_fast.enet_coordinate_descent_gram(\n",
      "D:\\Anaconda\\Lib\\site-packages\\sklearn\\linear_model\\_coordinate_descent.py:617: ConvergenceWarning: Objective did not converge. You might want to increase the number of iterations. Duality gap: 873102.7633412732, tolerance: 533.2848\n",
      "  model = cd_fast.enet_coordinate_descent_gram(\n",
      "D:\\Anaconda\\Lib\\site-packages\\sklearn\\linear_model\\_coordinate_descent.py:617: UserWarning: Coordinate descent without L1 regularization may lead to unexpected results and is discouraged. Set l1_ratio > 0 to add L1 regularization.\n",
      "  model = cd_fast.enet_coordinate_descent_gram(\n",
      "D:\\Anaconda\\Lib\\site-packages\\sklearn\\linear_model\\_coordinate_descent.py:617: ConvergenceWarning: Objective did not converge. You might want to increase the number of iterations. Duality gap: 794491.4861211618, tolerance: 533.2848\n",
      "  model = cd_fast.enet_coordinate_descent_gram(\n",
      "D:\\Anaconda\\Lib\\site-packages\\sklearn\\linear_model\\_coordinate_descent.py:617: UserWarning: Coordinate descent without L1 regularization may lead to unexpected results and is discouraged. Set l1_ratio > 0 to add L1 regularization.\n",
      "  model = cd_fast.enet_coordinate_descent_gram(\n",
      "D:\\Anaconda\\Lib\\site-packages\\sklearn\\linear_model\\_coordinate_descent.py:617: ConvergenceWarning: Objective did not converge. You might want to increase the number of iterations. Duality gap: 708672.3042963565, tolerance: 533.2848\n",
      "  model = cd_fast.enet_coordinate_descent_gram(\n",
      "D:\\Anaconda\\Lib\\site-packages\\sklearn\\linear_model\\_coordinate_descent.py:617: UserWarning: Coordinate descent without L1 regularization may lead to unexpected results and is discouraged. Set l1_ratio > 0 to add L1 regularization.\n",
      "  model = cd_fast.enet_coordinate_descent_gram(\n",
      "D:\\Anaconda\\Lib\\site-packages\\sklearn\\linear_model\\_coordinate_descent.py:617: ConvergenceWarning: Objective did not converge. You might want to increase the number of iterations. Duality gap: 614606.2415632606, tolerance: 533.2848\n",
      "  model = cd_fast.enet_coordinate_descent_gram(\n",
      "D:\\Anaconda\\Lib\\site-packages\\sklearn\\linear_model\\_coordinate_descent.py:617: UserWarning: Coordinate descent without L1 regularization may lead to unexpected results and is discouraged. Set l1_ratio > 0 to add L1 regularization.\n",
      "  model = cd_fast.enet_coordinate_descent_gram(\n",
      "D:\\Anaconda\\Lib\\site-packages\\sklearn\\linear_model\\_coordinate_descent.py:617: ConvergenceWarning: Objective did not converge. You might want to increase the number of iterations. Duality gap: 511044.5600395598, tolerance: 533.2848\n",
      "  model = cd_fast.enet_coordinate_descent_gram(\n",
      "D:\\Anaconda\\Lib\\site-packages\\sklearn\\linear_model\\_coordinate_descent.py:617: UserWarning: Coordinate descent without L1 regularization may lead to unexpected results and is discouraged. Set l1_ratio > 0 to add L1 regularization.\n",
      "  model = cd_fast.enet_coordinate_descent_gram(\n",
      "D:\\Anaconda\\Lib\\site-packages\\sklearn\\linear_model\\_coordinate_descent.py:617: UserWarning: Coordinate descent without L1 regularization may lead to unexpected results and is discouraged. Set l1_ratio > 0 to add L1 regularization.\n",
      "  model = cd_fast.enet_coordinate_descent_gram(\n",
      "D:\\Anaconda\\Lib\\site-packages\\sklearn\\linear_model\\_coordinate_descent.py:617: UserWarning: Coordinate descent without L1 regularization may lead to unexpected results and is discouraged. Set l1_ratio > 0 to add L1 regularization.\n",
      "  model = cd_fast.enet_coordinate_descent_gram(\n",
      "D:\\Anaconda\\Lib\\site-packages\\sklearn\\linear_model\\_coordinate_descent.py:617: ConvergenceWarning: Objective did not converge. You might want to increase the number of iterations. Duality gap: 2291677.0370661034, tolerance: 529.628358974359\n",
      "  model = cd_fast.enet_coordinate_descent_gram(\n",
      "D:\\Anaconda\\Lib\\site-packages\\sklearn\\linear_model\\_coordinate_descent.py:617: UserWarning: Coordinate descent without L1 regularization may lead to unexpected results and is discouraged. Set l1_ratio > 0 to add L1 regularization.\n",
      "  model = cd_fast.enet_coordinate_descent_gram(\n",
      "D:\\Anaconda\\Lib\\site-packages\\sklearn\\linear_model\\_coordinate_descent.py:617: UserWarning: Coordinate descent without L1 regularization may lead to unexpected results and is discouraged. Set l1_ratio > 0 to add L1 regularization.\n",
      "  model = cd_fast.enet_coordinate_descent_gram(\n",
      "D:\\Anaconda\\Lib\\site-packages\\sklearn\\linear_model\\_coordinate_descent.py:617: UserWarning: Coordinate descent without L1 regularization may lead to unexpected results and is discouraged. Set l1_ratio > 0 to add L1 regularization.\n",
      "  model = cd_fast.enet_coordinate_descent_gram(\n",
      "D:\\Anaconda\\Lib\\site-packages\\sklearn\\linear_model\\_coordinate_descent.py:617: UserWarning: Coordinate descent without L1 regularization may lead to unexpected results and is discouraged. Set l1_ratio > 0 to add L1 regularization.\n",
      "  model = cd_fast.enet_coordinate_descent_gram(\n",
      "D:\\Anaconda\\Lib\\site-packages\\sklearn\\linear_model\\_coordinate_descent.py:617: UserWarning: Coordinate descent without L1 regularization may lead to unexpected results and is discouraged. Set l1_ratio > 0 to add L1 regularization.\n",
      "  model = cd_fast.enet_coordinate_descent_gram(\n",
      "D:\\Anaconda\\Lib\\site-packages\\sklearn\\linear_model\\_coordinate_descent.py:617: UserWarning: Coordinate descent without L1 regularization may lead to unexpected results and is discouraged. Set l1_ratio > 0 to add L1 regularization.\n",
      "  model = cd_fast.enet_coordinate_descent_gram(\n",
      "D:\\Anaconda\\Lib\\site-packages\\sklearn\\linear_model\\_coordinate_descent.py:617: UserWarning: Coordinate descent without L1 regularization may lead to unexpected results and is discouraged. Set l1_ratio > 0 to add L1 regularization.\n",
      "  model = cd_fast.enet_coordinate_descent_gram(\n",
      "D:\\Anaconda\\Lib\\site-packages\\sklearn\\linear_model\\_coordinate_descent.py:617: UserWarning: Coordinate descent without L1 regularization may lead to unexpected results and is discouraged. Set l1_ratio > 0 to add L1 regularization.\n",
      "  model = cd_fast.enet_coordinate_descent_gram(\n",
      "D:\\Anaconda\\Lib\\site-packages\\sklearn\\linear_model\\_coordinate_descent.py:617: UserWarning: Coordinate descent without L1 regularization may lead to unexpected results and is discouraged. Set l1_ratio > 0 to add L1 regularization.\n",
      "  model = cd_fast.enet_coordinate_descent_gram(\n",
      "D:\\Anaconda\\Lib\\site-packages\\sklearn\\linear_model\\_coordinate_descent.py:617: UserWarning: Coordinate descent without L1 regularization may lead to unexpected results and is discouraged. Set l1_ratio > 0 to add L1 regularization.\n",
      "  model = cd_fast.enet_coordinate_descent_gram(\n",
      "D:\\Anaconda\\Lib\\site-packages\\sklearn\\linear_model\\_coordinate_descent.py:617: ConvergenceWarning: Objective did not converge. You might want to increase the number of iterations. Duality gap: 2257974.4878370995, tolerance: 529.628358974359\n",
      "  model = cd_fast.enet_coordinate_descent_gram(\n",
      "D:\\Anaconda\\Lib\\site-packages\\sklearn\\linear_model\\_coordinate_descent.py:617: UserWarning: Coordinate descent without L1 regularization may lead to unexpected results and is discouraged. Set l1_ratio > 0 to add L1 regularization.\n",
      "  model = cd_fast.enet_coordinate_descent_gram(\n",
      "D:\\Anaconda\\Lib\\site-packages\\sklearn\\linear_model\\_coordinate_descent.py:617: UserWarning: Coordinate descent without L1 regularization may lead to unexpected results and is discouraged. Set l1_ratio > 0 to add L1 regularization.\n",
      "  model = cd_fast.enet_coordinate_descent_gram(\n",
      "D:\\Anaconda\\Lib\\site-packages\\sklearn\\linear_model\\_coordinate_descent.py:617: UserWarning: Coordinate descent without L1 regularization may lead to unexpected results and is discouraged. Set l1_ratio > 0 to add L1 regularization.\n",
      "  model = cd_fast.enet_coordinate_descent_gram(\n",
      "D:\\Anaconda\\Lib\\site-packages\\sklearn\\linear_model\\_coordinate_descent.py:617: ConvergenceWarning: Objective did not converge. You might want to increase the number of iterations. Duality gap: 2246584.7249321747, tolerance: 529.628358974359\n",
      "  model = cd_fast.enet_coordinate_descent_gram(\n",
      "D:\\Anaconda\\Lib\\site-packages\\sklearn\\linear_model\\_coordinate_descent.py:617: UserWarning: Coordinate descent without L1 regularization may lead to unexpected results and is discouraged. Set l1_ratio > 0 to add L1 regularization.\n",
      "  model = cd_fast.enet_coordinate_descent_gram(\n",
      "D:\\Anaconda\\Lib\\site-packages\\sklearn\\linear_model\\_coordinate_descent.py:617: UserWarning: Coordinate descent without L1 regularization may lead to unexpected results and is discouraged. Set l1_ratio > 0 to add L1 regularization.\n",
      "  model = cd_fast.enet_coordinate_descent_gram(\n",
      "D:\\Anaconda\\Lib\\site-packages\\sklearn\\linear_model\\_coordinate_descent.py:617: UserWarning: Coordinate descent without L1 regularization may lead to unexpected results and is discouraged. Set l1_ratio > 0 to add L1 regularization.\n",
      "  model = cd_fast.enet_coordinate_descent_gram(\n",
      "D:\\Anaconda\\Lib\\site-packages\\sklearn\\linear_model\\_coordinate_descent.py:617: UserWarning: Coordinate descent without L1 regularization may lead to unexpected results and is discouraged. Set l1_ratio > 0 to add L1 regularization.\n",
      "  model = cd_fast.enet_coordinate_descent_gram(\n",
      "D:\\Anaconda\\Lib\\site-packages\\sklearn\\linear_model\\_coordinate_descent.py:617: UserWarning: Coordinate descent without L1 regularization may lead to unexpected results and is discouraged. Set l1_ratio > 0 to add L1 regularization.\n",
      "  model = cd_fast.enet_coordinate_descent_gram(\n",
      "D:\\Anaconda\\Lib\\site-packages\\sklearn\\linear_model\\_coordinate_descent.py:617: UserWarning: Coordinate descent without L1 regularization may lead to unexpected results and is discouraged. Set l1_ratio > 0 to add L1 regularization.\n",
      "  model = cd_fast.enet_coordinate_descent_gram(\n",
      "D:\\Anaconda\\Lib\\site-packages\\sklearn\\linear_model\\_coordinate_descent.py:617: UserWarning: Coordinate descent without L1 regularization may lead to unexpected results and is discouraged. Set l1_ratio > 0 to add L1 regularization.\n",
      "  model = cd_fast.enet_coordinate_descent_gram(\n",
      "D:\\Anaconda\\Lib\\site-packages\\sklearn\\linear_model\\_coordinate_descent.py:617: UserWarning: Coordinate descent without L1 regularization may lead to unexpected results and is discouraged. Set l1_ratio > 0 to add L1 regularization.\n",
      "  model = cd_fast.enet_coordinate_descent_gram(\n",
      "D:\\Anaconda\\Lib\\site-packages\\sklearn\\linear_model\\_coordinate_descent.py:617: UserWarning: Coordinate descent without L1 regularization may lead to unexpected results and is discouraged. Set l1_ratio > 0 to add L1 regularization.\n",
      "  model = cd_fast.enet_coordinate_descent_gram(\n",
      "D:\\Anaconda\\Lib\\site-packages\\sklearn\\linear_model\\_coordinate_descent.py:617: UserWarning: Coordinate descent without L1 regularization may lead to unexpected results and is discouraged. Set l1_ratio > 0 to add L1 regularization.\n",
      "  model = cd_fast.enet_coordinate_descent_gram(\n",
      "D:\\Anaconda\\Lib\\site-packages\\sklearn\\linear_model\\_coordinate_descent.py:617: ConvergenceWarning: Objective did not converge. You might want to increase the number of iterations. Duality gap: 2203298.5121673737, tolerance: 529.628358974359\n",
      "  model = cd_fast.enet_coordinate_descent_gram(\n",
      "D:\\Anaconda\\Lib\\site-packages\\sklearn\\linear_model\\_coordinate_descent.py:617: UserWarning: Coordinate descent without L1 regularization may lead to unexpected results and is discouraged. Set l1_ratio > 0 to add L1 regularization.\n",
      "  model = cd_fast.enet_coordinate_descent_gram(\n",
      "D:\\Anaconda\\Lib\\site-packages\\sklearn\\linear_model\\_coordinate_descent.py:617: UserWarning: Coordinate descent without L1 regularization may lead to unexpected results and is discouraged. Set l1_ratio > 0 to add L1 regularization.\n",
      "  model = cd_fast.enet_coordinate_descent_gram(\n",
      "D:\\Anaconda\\Lib\\site-packages\\sklearn\\linear_model\\_coordinate_descent.py:617: UserWarning: Coordinate descent without L1 regularization may lead to unexpected results and is discouraged. Set l1_ratio > 0 to add L1 regularization.\n",
      "  model = cd_fast.enet_coordinate_descent_gram(\n",
      "D:\\Anaconda\\Lib\\site-packages\\sklearn\\linear_model\\_coordinate_descent.py:617: UserWarning: Coordinate descent without L1 regularization may lead to unexpected results and is discouraged. Set l1_ratio > 0 to add L1 regularization.\n",
      "  model = cd_fast.enet_coordinate_descent_gram(\n",
      "D:\\Anaconda\\Lib\\site-packages\\sklearn\\linear_model\\_coordinate_descent.py:617: ConvergenceWarning: Objective did not converge. You might want to increase the number of iterations. Duality gap: 2183253.278513254, tolerance: 529.628358974359\n",
      "  model = cd_fast.enet_coordinate_descent_gram(\n",
      "D:\\Anaconda\\Lib\\site-packages\\sklearn\\linear_model\\_coordinate_descent.py:617: UserWarning: Coordinate descent without L1 regularization may lead to unexpected results and is discouraged. Set l1_ratio > 0 to add L1 regularization.\n",
      "  model = cd_fast.enet_coordinate_descent_gram(\n",
      "D:\\Anaconda\\Lib\\site-packages\\sklearn\\linear_model\\_coordinate_descent.py:617: UserWarning: Coordinate descent without L1 regularization may lead to unexpected results and is discouraged. Set l1_ratio > 0 to add L1 regularization.\n",
      "  model = cd_fast.enet_coordinate_descent_gram(\n",
      "D:\\Anaconda\\Lib\\site-packages\\sklearn\\linear_model\\_coordinate_descent.py:617: UserWarning: Coordinate descent without L1 regularization may lead to unexpected results and is discouraged. Set l1_ratio > 0 to add L1 regularization.\n",
      "  model = cd_fast.enet_coordinate_descent_gram(\n",
      "D:\\Anaconda\\Lib\\site-packages\\sklearn\\linear_model\\_coordinate_descent.py:617: UserWarning: Coordinate descent without L1 regularization may lead to unexpected results and is discouraged. Set l1_ratio > 0 to add L1 regularization.\n",
      "  model = cd_fast.enet_coordinate_descent_gram(\n",
      "D:\\Anaconda\\Lib\\site-packages\\sklearn\\linear_model\\_coordinate_descent.py:617: UserWarning: Coordinate descent without L1 regularization may lead to unexpected results and is discouraged. Set l1_ratio > 0 to add L1 regularization.\n",
      "  model = cd_fast.enet_coordinate_descent_gram(\n",
      "D:\\Anaconda\\Lib\\site-packages\\sklearn\\linear_model\\_coordinate_descent.py:617: UserWarning: Coordinate descent without L1 regularization may lead to unexpected results and is discouraged. Set l1_ratio > 0 to add L1 regularization.\n",
      "  model = cd_fast.enet_coordinate_descent_gram(\n",
      "D:\\Anaconda\\Lib\\site-packages\\sklearn\\linear_model\\_coordinate_descent.py:617: UserWarning: Coordinate descent without L1 regularization may lead to unexpected results and is discouraged. Set l1_ratio > 0 to add L1 regularization.\n",
      "  model = cd_fast.enet_coordinate_descent_gram(\n",
      "D:\\Anaconda\\Lib\\site-packages\\sklearn\\linear_model\\_coordinate_descent.py:617: UserWarning: Coordinate descent without L1 regularization may lead to unexpected results and is discouraged. Set l1_ratio > 0 to add L1 regularization.\n",
      "  model = cd_fast.enet_coordinate_descent_gram(\n",
      "D:\\Anaconda\\Lib\\site-packages\\sklearn\\linear_model\\_coordinate_descent.py:617: UserWarning: Coordinate descent without L1 regularization may lead to unexpected results and is discouraged. Set l1_ratio > 0 to add L1 regularization.\n",
      "  model = cd_fast.enet_coordinate_descent_gram(\n",
      "D:\\Anaconda\\Lib\\site-packages\\sklearn\\linear_model\\_coordinate_descent.py:617: UserWarning: Coordinate descent without L1 regularization may lead to unexpected results and is discouraged. Set l1_ratio > 0 to add L1 regularization.\n",
      "  model = cd_fast.enet_coordinate_descent_gram(\n",
      "D:\\Anaconda\\Lib\\site-packages\\sklearn\\linear_model\\_coordinate_descent.py:617: UserWarning: Coordinate descent without L1 regularization may lead to unexpected results and is discouraged. Set l1_ratio > 0 to add L1 regularization.\n",
      "  model = cd_fast.enet_coordinate_descent_gram(\n",
      "D:\\Anaconda\\Lib\\site-packages\\sklearn\\linear_model\\_coordinate_descent.py:617: UserWarning: Coordinate descent without L1 regularization may lead to unexpected results and is discouraged. Set l1_ratio > 0 to add L1 regularization.\n",
      "  model = cd_fast.enet_coordinate_descent_gram(\n",
      "D:\\Anaconda\\Lib\\site-packages\\sklearn\\linear_model\\_coordinate_descent.py:617: ConvergenceWarning: Objective did not converge. You might want to increase the number of iterations. Duality gap: 2110584.0665523745, tolerance: 529.628358974359\n",
      "  model = cd_fast.enet_coordinate_descent_gram(\n",
      "D:\\Anaconda\\Lib\\site-packages\\sklearn\\linear_model\\_coordinate_descent.py:617: UserWarning: Coordinate descent without L1 regularization may lead to unexpected results and is discouraged. Set l1_ratio > 0 to add L1 regularization.\n",
      "  model = cd_fast.enet_coordinate_descent_gram(\n",
      "D:\\Anaconda\\Lib\\site-packages\\sklearn\\linear_model\\_coordinate_descent.py:617: UserWarning: Coordinate descent without L1 regularization may lead to unexpected results and is discouraged. Set l1_ratio > 0 to add L1 regularization.\n",
      "  model = cd_fast.enet_coordinate_descent_gram(\n",
      "D:\\Anaconda\\Lib\\site-packages\\sklearn\\linear_model\\_coordinate_descent.py:617: UserWarning: Coordinate descent without L1 regularization may lead to unexpected results and is discouraged. Set l1_ratio > 0 to add L1 regularization.\n",
      "  model = cd_fast.enet_coordinate_descent_gram(\n",
      "D:\\Anaconda\\Lib\\site-packages\\sklearn\\linear_model\\_coordinate_descent.py:617: UserWarning: Coordinate descent without L1 regularization may lead to unexpected results and is discouraged. Set l1_ratio > 0 to add L1 regularization.\n",
      "  model = cd_fast.enet_coordinate_descent_gram(\n",
      "D:\\Anaconda\\Lib\\site-packages\\sklearn\\linear_model\\_coordinate_descent.py:617: ConvergenceWarning: Objective did not converge. You might want to increase the number of iterations. Duality gap: 2081034.895042784, tolerance: 529.628358974359\n",
      "  model = cd_fast.enet_coordinate_descent_gram(\n",
      "D:\\Anaconda\\Lib\\site-packages\\sklearn\\linear_model\\_coordinate_descent.py:617: UserWarning: Coordinate descent without L1 regularization may lead to unexpected results and is discouraged. Set l1_ratio > 0 to add L1 regularization.\n",
      "  model = cd_fast.enet_coordinate_descent_gram(\n",
      "D:\\Anaconda\\Lib\\site-packages\\sklearn\\linear_model\\_coordinate_descent.py:617: UserWarning: Coordinate descent without L1 regularization may lead to unexpected results and is discouraged. Set l1_ratio > 0 to add L1 regularization.\n",
      "  model = cd_fast.enet_coordinate_descent_gram(\n",
      "D:\\Anaconda\\Lib\\site-packages\\sklearn\\linear_model\\_coordinate_descent.py:617: UserWarning: Coordinate descent without L1 regularization may lead to unexpected results and is discouraged. Set l1_ratio > 0 to add L1 regularization.\n",
      "  model = cd_fast.enet_coordinate_descent_gram(\n",
      "D:\\Anaconda\\Lib\\site-packages\\sklearn\\linear_model\\_coordinate_descent.py:617: UserWarning: Coordinate descent without L1 regularization may lead to unexpected results and is discouraged. Set l1_ratio > 0 to add L1 regularization.\n",
      "  model = cd_fast.enet_coordinate_descent_gram(\n",
      "D:\\Anaconda\\Lib\\site-packages\\sklearn\\linear_model\\_coordinate_descent.py:617: ConvergenceWarning: Objective did not converge. You might want to increase the number of iterations. Duality gap: 2048048.1690857399, tolerance: 529.628358974359\n",
      "  model = cd_fast.enet_coordinate_descent_gram(\n",
      "D:\\Anaconda\\Lib\\site-packages\\sklearn\\linear_model\\_coordinate_descent.py:617: UserWarning: Coordinate descent without L1 regularization may lead to unexpected results and is discouraged. Set l1_ratio > 0 to add L1 regularization.\n",
      "  model = cd_fast.enet_coordinate_descent_gram(\n",
      "D:\\Anaconda\\Lib\\site-packages\\sklearn\\linear_model\\_coordinate_descent.py:617: UserWarning: Coordinate descent without L1 regularization may lead to unexpected results and is discouraged. Set l1_ratio > 0 to add L1 regularization.\n",
      "  model = cd_fast.enet_coordinate_descent_gram(\n",
      "D:\\Anaconda\\Lib\\site-packages\\sklearn\\linear_model\\_coordinate_descent.py:617: UserWarning: Coordinate descent without L1 regularization may lead to unexpected results and is discouraged. Set l1_ratio > 0 to add L1 regularization.\n",
      "  model = cd_fast.enet_coordinate_descent_gram(\n",
      "D:\\Anaconda\\Lib\\site-packages\\sklearn\\linear_model\\_coordinate_descent.py:617: UserWarning: Coordinate descent without L1 regularization may lead to unexpected results and is discouraged. Set l1_ratio > 0 to add L1 regularization.\n",
      "  model = cd_fast.enet_coordinate_descent_gram(\n",
      "D:\\Anaconda\\Lib\\site-packages\\sklearn\\linear_model\\_coordinate_descent.py:617: UserWarning: Coordinate descent without L1 regularization may lead to unexpected results and is discouraged. Set l1_ratio > 0 to add L1 regularization.\n",
      "  model = cd_fast.enet_coordinate_descent_gram(\n",
      "D:\\Anaconda\\Lib\\site-packages\\sklearn\\linear_model\\_coordinate_descent.py:617: UserWarning: Coordinate descent without L1 regularization may lead to unexpected results and is discouraged. Set l1_ratio > 0 to add L1 regularization.\n",
      "  model = cd_fast.enet_coordinate_descent_gram(\n",
      "D:\\Anaconda\\Lib\\site-packages\\sklearn\\linear_model\\_coordinate_descent.py:617: ConvergenceWarning: Objective did not converge. You might want to increase the number of iterations. Duality gap: 1990685.054678452, tolerance: 529.628358974359\n",
      "  model = cd_fast.enet_coordinate_descent_gram(\n",
      "D:\\Anaconda\\Lib\\site-packages\\sklearn\\linear_model\\_coordinate_descent.py:617: UserWarning: Coordinate descent without L1 regularization may lead to unexpected results and is discouraged. Set l1_ratio > 0 to add L1 regularization.\n",
      "  model = cd_fast.enet_coordinate_descent_gram(\n",
      "D:\\Anaconda\\Lib\\site-packages\\sklearn\\linear_model\\_coordinate_descent.py:617: ConvergenceWarning: Objective did not converge. You might want to increase the number of iterations. Duality gap: 1980041.0660020893, tolerance: 529.628358974359\n",
      "  model = cd_fast.enet_coordinate_descent_gram(\n",
      "D:\\Anaconda\\Lib\\site-packages\\sklearn\\linear_model\\_coordinate_descent.py:617: UserWarning: Coordinate descent without L1 regularization may lead to unexpected results and is discouraged. Set l1_ratio > 0 to add L1 regularization.\n",
      "  model = cd_fast.enet_coordinate_descent_gram(\n",
      "D:\\Anaconda\\Lib\\site-packages\\sklearn\\linear_model\\_coordinate_descent.py:617: ConvergenceWarning: Objective did not converge. You might want to increase the number of iterations. Duality gap: 1969046.7611185184, tolerance: 529.628358974359\n",
      "  model = cd_fast.enet_coordinate_descent_gram(\n",
      "D:\\Anaconda\\Lib\\site-packages\\sklearn\\linear_model\\_coordinate_descent.py:617: UserWarning: Coordinate descent without L1 regularization may lead to unexpected results and is discouraged. Set l1_ratio > 0 to add L1 regularization.\n",
      "  model = cd_fast.enet_coordinate_descent_gram(\n",
      "D:\\Anaconda\\Lib\\site-packages\\sklearn\\linear_model\\_coordinate_descent.py:617: UserWarning: Coordinate descent without L1 regularization may lead to unexpected results and is discouraged. Set l1_ratio > 0 to add L1 regularization.\n",
      "  model = cd_fast.enet_coordinate_descent_gram(\n",
      "D:\\Anaconda\\Lib\\site-packages\\sklearn\\linear_model\\_coordinate_descent.py:617: ConvergenceWarning: Objective did not converge. You might want to increase the number of iterations. Duality gap: 1945935.6705654655, tolerance: 529.628358974359\n",
      "  model = cd_fast.enet_coordinate_descent_gram(\n",
      "D:\\Anaconda\\Lib\\site-packages\\sklearn\\linear_model\\_coordinate_descent.py:617: UserWarning: Coordinate descent without L1 regularization may lead to unexpected results and is discouraged. Set l1_ratio > 0 to add L1 regularization.\n",
      "  model = cd_fast.enet_coordinate_descent_gram(\n",
      "D:\\Anaconda\\Lib\\site-packages\\sklearn\\linear_model\\_coordinate_descent.py:617: ConvergenceWarning: Objective did not converge. You might want to increase the number of iterations. Duality gap: 1933780.0231424314, tolerance: 529.628358974359\n",
      "  model = cd_fast.enet_coordinate_descent_gram(\n",
      "D:\\Anaconda\\Lib\\site-packages\\sklearn\\linear_model\\_coordinate_descent.py:617: UserWarning: Coordinate descent without L1 regularization may lead to unexpected results and is discouraged. Set l1_ratio > 0 to add L1 regularization.\n",
      "  model = cd_fast.enet_coordinate_descent_gram(\n",
      "D:\\Anaconda\\Lib\\site-packages\\sklearn\\linear_model\\_coordinate_descent.py:617: ConvergenceWarning: Objective did not converge. You might want to increase the number of iterations. Duality gap: 1921196.117876752, tolerance: 529.628358974359\n",
      "  model = cd_fast.enet_coordinate_descent_gram(\n",
      "D:\\Anaconda\\Lib\\site-packages\\sklearn\\linear_model\\_coordinate_descent.py:617: UserWarning: Coordinate descent without L1 regularization may lead to unexpected results and is discouraged. Set l1_ratio > 0 to add L1 regularization.\n",
      "  model = cd_fast.enet_coordinate_descent_gram(\n",
      "D:\\Anaconda\\Lib\\site-packages\\sklearn\\linear_model\\_coordinate_descent.py:617: UserWarning: Coordinate descent without L1 regularization may lead to unexpected results and is discouraged. Set l1_ratio > 0 to add L1 regularization.\n",
      "  model = cd_fast.enet_coordinate_descent_gram(\n",
      "D:\\Anaconda\\Lib\\site-packages\\sklearn\\linear_model\\_coordinate_descent.py:617: ConvergenceWarning: Objective did not converge. You might want to increase the number of iterations. Duality gap: 1894649.6997488295, tolerance: 529.628358974359\n",
      "  model = cd_fast.enet_coordinate_descent_gram(\n",
      "D:\\Anaconda\\Lib\\site-packages\\sklearn\\linear_model\\_coordinate_descent.py:617: UserWarning: Coordinate descent without L1 regularization may lead to unexpected results and is discouraged. Set l1_ratio > 0 to add L1 regularization.\n",
      "  model = cd_fast.enet_coordinate_descent_gram(\n",
      "D:\\Anaconda\\Lib\\site-packages\\sklearn\\linear_model\\_coordinate_descent.py:617: UserWarning: Coordinate descent without L1 regularization may lead to unexpected results and is discouraged. Set l1_ratio > 0 to add L1 regularization.\n",
      "  model = cd_fast.enet_coordinate_descent_gram(\n",
      "D:\\Anaconda\\Lib\\site-packages\\sklearn\\linear_model\\_coordinate_descent.py:617: UserWarning: Coordinate descent without L1 regularization may lead to unexpected results and is discouraged. Set l1_ratio > 0 to add L1 regularization.\n",
      "  model = cd_fast.enet_coordinate_descent_gram(\n",
      "D:\\Anaconda\\Lib\\site-packages\\sklearn\\linear_model\\_coordinate_descent.py:617: ConvergenceWarning: Objective did not converge. You might want to increase the number of iterations. Duality gap: 1850984.095267057, tolerance: 529.628358974359\n",
      "  model = cd_fast.enet_coordinate_descent_gram(\n",
      "D:\\Anaconda\\Lib\\site-packages\\sklearn\\linear_model\\_coordinate_descent.py:617: UserWarning: Coordinate descent without L1 regularization may lead to unexpected results and is discouraged. Set l1_ratio > 0 to add L1 regularization.\n",
      "  model = cd_fast.enet_coordinate_descent_gram(\n",
      "D:\\Anaconda\\Lib\\site-packages\\sklearn\\linear_model\\_coordinate_descent.py:617: ConvergenceWarning: Objective did not converge. You might want to increase the number of iterations. Duality gap: 1835282.0900752505, tolerance: 529.628358974359\n",
      "  model = cd_fast.enet_coordinate_descent_gram(\n",
      "D:\\Anaconda\\Lib\\site-packages\\sklearn\\linear_model\\_coordinate_descent.py:617: UserWarning: Coordinate descent without L1 regularization may lead to unexpected results and is discouraged. Set l1_ratio > 0 to add L1 regularization.\n",
      "  model = cd_fast.enet_coordinate_descent_gram(\n",
      "D:\\Anaconda\\Lib\\site-packages\\sklearn\\linear_model\\_coordinate_descent.py:617: ConvergenceWarning: Objective did not converge. You might want to increase the number of iterations. Duality gap: 1818949.0754255666, tolerance: 529.628358974359\n",
      "  model = cd_fast.enet_coordinate_descent_gram(\n",
      "D:\\Anaconda\\Lib\\site-packages\\sklearn\\linear_model\\_coordinate_descent.py:617: UserWarning: Coordinate descent without L1 regularization may lead to unexpected results and is discouraged. Set l1_ratio > 0 to add L1 regularization.\n",
      "  model = cd_fast.enet_coordinate_descent_gram(\n",
      "D:\\Anaconda\\Lib\\site-packages\\sklearn\\linear_model\\_coordinate_descent.py:617: UserWarning: Coordinate descent without L1 regularization may lead to unexpected results and is discouraged. Set l1_ratio > 0 to add L1 regularization.\n",
      "  model = cd_fast.enet_coordinate_descent_gram(\n",
      "D:\\Anaconda\\Lib\\site-packages\\sklearn\\linear_model\\_coordinate_descent.py:617: UserWarning: Coordinate descent without L1 regularization may lead to unexpected results and is discouraged. Set l1_ratio > 0 to add L1 regularization.\n",
      "  model = cd_fast.enet_coordinate_descent_gram(\n",
      "D:\\Anaconda\\Lib\\site-packages\\sklearn\\linear_model\\_coordinate_descent.py:617: UserWarning: Coordinate descent without L1 regularization may lead to unexpected results and is discouraged. Set l1_ratio > 0 to add L1 regularization.\n",
      "  model = cd_fast.enet_coordinate_descent_gram(\n",
      "D:\\Anaconda\\Lib\\site-packages\\sklearn\\linear_model\\_coordinate_descent.py:617: ConvergenceWarning: Objective did not converge. You might want to increase the number of iterations. Duality gap: 1746479.692370575, tolerance: 529.628358974359\n",
      "  model = cd_fast.enet_coordinate_descent_gram(\n",
      "D:\\Anaconda\\Lib\\site-packages\\sklearn\\linear_model\\_coordinate_descent.py:617: UserWarning: Coordinate descent without L1 regularization may lead to unexpected results and is discouraged. Set l1_ratio > 0 to add L1 regularization.\n",
      "  model = cd_fast.enet_coordinate_descent_gram(\n",
      "D:\\Anaconda\\Lib\\site-packages\\sklearn\\linear_model\\_coordinate_descent.py:617: ConvergenceWarning: Objective did not converge. You might want to increase the number of iterations. Duality gap: 1726338.8711804128, tolerance: 529.628358974359\n",
      "  model = cd_fast.enet_coordinate_descent_gram(\n",
      "D:\\Anaconda\\Lib\\site-packages\\sklearn\\linear_model\\_coordinate_descent.py:617: UserWarning: Coordinate descent without L1 regularization may lead to unexpected results and is discouraged. Set l1_ratio > 0 to add L1 regularization.\n",
      "  model = cd_fast.enet_coordinate_descent_gram(\n",
      "D:\\Anaconda\\Lib\\site-packages\\sklearn\\linear_model\\_coordinate_descent.py:617: UserWarning: Coordinate descent without L1 regularization may lead to unexpected results and is discouraged. Set l1_ratio > 0 to add L1 regularization.\n",
      "  model = cd_fast.enet_coordinate_descent_gram(\n",
      "D:\\Anaconda\\Lib\\site-packages\\sklearn\\linear_model\\_coordinate_descent.py:617: ConvergenceWarning: Objective did not converge. You might want to increase the number of iterations. Duality gap: 1683231.629448854, tolerance: 529.628358974359\n",
      "  model = cd_fast.enet_coordinate_descent_gram(\n",
      "D:\\Anaconda\\Lib\\site-packages\\sklearn\\linear_model\\_coordinate_descent.py:617: UserWarning: Coordinate descent without L1 regularization may lead to unexpected results and is discouraged. Set l1_ratio > 0 to add L1 regularization.\n",
      "  model = cd_fast.enet_coordinate_descent_gram(\n",
      "D:\\Anaconda\\Lib\\site-packages\\sklearn\\linear_model\\_coordinate_descent.py:617: UserWarning: Coordinate descent without L1 regularization may lead to unexpected results and is discouraged. Set l1_ratio > 0 to add L1 regularization.\n",
      "  model = cd_fast.enet_coordinate_descent_gram(\n",
      "D:\\Anaconda\\Lib\\site-packages\\sklearn\\linear_model\\_coordinate_descent.py:617: UserWarning: Coordinate descent without L1 regularization may lead to unexpected results and is discouraged. Set l1_ratio > 0 to add L1 regularization.\n",
      "  model = cd_fast.enet_coordinate_descent_gram(\n",
      "D:\\Anaconda\\Lib\\site-packages\\sklearn\\linear_model\\_coordinate_descent.py:617: UserWarning: Coordinate descent without L1 regularization may lead to unexpected results and is discouraged. Set l1_ratio > 0 to add L1 regularization.\n",
      "  model = cd_fast.enet_coordinate_descent_gram(\n",
      "D:\\Anaconda\\Lib\\site-packages\\sklearn\\linear_model\\_coordinate_descent.py:617: ConvergenceWarning: Objective did not converge. You might want to increase the number of iterations. Duality gap: 1583673.967452566, tolerance: 529.628358974359\n",
      "  model = cd_fast.enet_coordinate_descent_gram(\n",
      "D:\\Anaconda\\Lib\\site-packages\\sklearn\\linear_model\\_coordinate_descent.py:617: UserWarning: Coordinate descent without L1 regularization may lead to unexpected results and is discouraged. Set l1_ratio > 0 to add L1 regularization.\n",
      "  model = cd_fast.enet_coordinate_descent_gram(\n",
      "D:\\Anaconda\\Lib\\site-packages\\sklearn\\linear_model\\_coordinate_descent.py:617: UserWarning: Coordinate descent without L1 regularization may lead to unexpected results and is discouraged. Set l1_ratio > 0 to add L1 regularization.\n",
      "  model = cd_fast.enet_coordinate_descent_gram(\n",
      "D:\\Anaconda\\Lib\\site-packages\\sklearn\\linear_model\\_coordinate_descent.py:617: ConvergenceWarning: Objective did not converge. You might want to increase the number of iterations. Duality gap: 1525771.9351531593, tolerance: 529.628358974359\n",
      "  model = cd_fast.enet_coordinate_descent_gram(\n",
      "D:\\Anaconda\\Lib\\site-packages\\sklearn\\linear_model\\_coordinate_descent.py:617: UserWarning: Coordinate descent without L1 regularization may lead to unexpected results and is discouraged. Set l1_ratio > 0 to add L1 regularization.\n",
      "  model = cd_fast.enet_coordinate_descent_gram(\n",
      "D:\\Anaconda\\Lib\\site-packages\\sklearn\\linear_model\\_coordinate_descent.py:617: ConvergenceWarning: Objective did not converge. You might want to increase the number of iterations. Duality gap: 1494392.678359813, tolerance: 529.628358974359\n",
      "  model = cd_fast.enet_coordinate_descent_gram(\n",
      "D:\\Anaconda\\Lib\\site-packages\\sklearn\\linear_model\\_coordinate_descent.py:617: UserWarning: Coordinate descent without L1 regularization may lead to unexpected results and is discouraged. Set l1_ratio > 0 to add L1 regularization.\n",
      "  model = cd_fast.enet_coordinate_descent_gram(\n",
      "D:\\Anaconda\\Lib\\site-packages\\sklearn\\linear_model\\_coordinate_descent.py:617: ConvergenceWarning: Objective did not converge. You might want to increase the number of iterations. Duality gap: 1461208.3505525407, tolerance: 529.628358974359\n",
      "  model = cd_fast.enet_coordinate_descent_gram(\n",
      "D:\\Anaconda\\Lib\\site-packages\\sklearn\\linear_model\\_coordinate_descent.py:617: UserWarning: Coordinate descent without L1 regularization may lead to unexpected results and is discouraged. Set l1_ratio > 0 to add L1 regularization.\n",
      "  model = cd_fast.enet_coordinate_descent_gram(\n",
      "D:\\Anaconda\\Lib\\site-packages\\sklearn\\linear_model\\_coordinate_descent.py:617: UserWarning: Coordinate descent without L1 regularization may lead to unexpected results and is discouraged. Set l1_ratio > 0 to add L1 regularization.\n",
      "  model = cd_fast.enet_coordinate_descent_gram(\n",
      "D:\\Anaconda\\Lib\\site-packages\\sklearn\\linear_model\\_coordinate_descent.py:617: UserWarning: Coordinate descent without L1 regularization may lead to unexpected results and is discouraged. Set l1_ratio > 0 to add L1 regularization.\n",
      "  model = cd_fast.enet_coordinate_descent_gram(\n",
      "D:\\Anaconda\\Lib\\site-packages\\sklearn\\linear_model\\_coordinate_descent.py:617: ConvergenceWarning: Objective did not converge. You might want to increase the number of iterations. Duality gap: 1349120.3227215665, tolerance: 529.628358974359\n",
      "  model = cd_fast.enet_coordinate_descent_gram(\n",
      "D:\\Anaconda\\Lib\\site-packages\\sklearn\\linear_model\\_coordinate_descent.py:617: UserWarning: Coordinate descent without L1 regularization may lead to unexpected results and is discouraged. Set l1_ratio > 0 to add L1 regularization.\n",
      "  model = cd_fast.enet_coordinate_descent_gram(\n",
      "D:\\Anaconda\\Lib\\site-packages\\sklearn\\linear_model\\_coordinate_descent.py:617: UserWarning: Coordinate descent without L1 regularization may lead to unexpected results and is discouraged. Set l1_ratio > 0 to add L1 regularization.\n",
      "  model = cd_fast.enet_coordinate_descent_gram(\n",
      "D:\\Anaconda\\Lib\\site-packages\\sklearn\\linear_model\\_coordinate_descent.py:617: ConvergenceWarning: Objective did not converge. You might want to increase the number of iterations. Duality gap: 1261843.6365725263, tolerance: 529.628358974359\n",
      "  model = cd_fast.enet_coordinate_descent_gram(\n",
      "D:\\Anaconda\\Lib\\site-packages\\sklearn\\linear_model\\_coordinate_descent.py:617: UserWarning: Coordinate descent without L1 regularization may lead to unexpected results and is discouraged. Set l1_ratio > 0 to add L1 regularization.\n",
      "  model = cd_fast.enet_coordinate_descent_gram(\n",
      "D:\\Anaconda\\Lib\\site-packages\\sklearn\\linear_model\\_coordinate_descent.py:617: UserWarning: Coordinate descent without L1 regularization may lead to unexpected results and is discouraged. Set l1_ratio > 0 to add L1 regularization.\n",
      "  model = cd_fast.enet_coordinate_descent_gram(\n",
      "D:\\Anaconda\\Lib\\site-packages\\sklearn\\linear_model\\_coordinate_descent.py:617: ConvergenceWarning: Objective did not converge. You might want to increase the number of iterations. Duality gap: 1161994.6331613753, tolerance: 529.628358974359\n",
      "  model = cd_fast.enet_coordinate_descent_gram(\n",
      "D:\\Anaconda\\Lib\\site-packages\\sklearn\\linear_model\\_coordinate_descent.py:617: UserWarning: Coordinate descent without L1 regularization may lead to unexpected results and is discouraged. Set l1_ratio > 0 to add L1 regularization.\n",
      "  model = cd_fast.enet_coordinate_descent_gram(\n",
      "D:\\Anaconda\\Lib\\site-packages\\sklearn\\linear_model\\_coordinate_descent.py:617: ConvergenceWarning: Objective did not converge. You might want to increase the number of iterations. Duality gap: 1106474.8643126935, tolerance: 529.628358974359\n",
      "  model = cd_fast.enet_coordinate_descent_gram(\n",
      "D:\\Anaconda\\Lib\\site-packages\\sklearn\\linear_model\\_coordinate_descent.py:617: UserWarning: Coordinate descent without L1 regularization may lead to unexpected results and is discouraged. Set l1_ratio > 0 to add L1 regularization.\n",
      "  model = cd_fast.enet_coordinate_descent_gram(\n",
      "D:\\Anaconda\\Lib\\site-packages\\sklearn\\linear_model\\_coordinate_descent.py:617: UserWarning: Coordinate descent without L1 regularization may lead to unexpected results and is discouraged. Set l1_ratio > 0 to add L1 regularization.\n",
      "  model = cd_fast.enet_coordinate_descent_gram(\n",
      "D:\\Anaconda\\Lib\\site-packages\\sklearn\\linear_model\\_coordinate_descent.py:617: ConvergenceWarning: Objective did not converge. You might want to increase the number of iterations. Duality gap: 981985.7114178746, tolerance: 529.628358974359\n",
      "  model = cd_fast.enet_coordinate_descent_gram(\n",
      "D:\\Anaconda\\Lib\\site-packages\\sklearn\\linear_model\\_coordinate_descent.py:617: UserWarning: Coordinate descent without L1 regularization may lead to unexpected results and is discouraged. Set l1_ratio > 0 to add L1 regularization.\n",
      "  model = cd_fast.enet_coordinate_descent_gram(\n",
      "D:\\Anaconda\\Lib\\site-packages\\sklearn\\linear_model\\_coordinate_descent.py:617: UserWarning: Coordinate descent without L1 regularization may lead to unexpected results and is discouraged. Set l1_ratio > 0 to add L1 regularization.\n",
      "  model = cd_fast.enet_coordinate_descent_gram(\n",
      "D:\\Anaconda\\Lib\\site-packages\\sklearn\\linear_model\\_coordinate_descent.py:617: ConvergenceWarning: Objective did not converge. You might want to increase the number of iterations. Duality gap: 835625.5562638859, tolerance: 529.628358974359\n",
      "  model = cd_fast.enet_coordinate_descent_gram(\n",
      "D:\\Anaconda\\Lib\\site-packages\\sklearn\\linear_model\\_coordinate_descent.py:617: UserWarning: Coordinate descent without L1 regularization may lead to unexpected results and is discouraged. Set l1_ratio > 0 to add L1 regularization.\n",
      "  model = cd_fast.enet_coordinate_descent_gram(\n",
      "D:\\Anaconda\\Lib\\site-packages\\sklearn\\linear_model\\_coordinate_descent.py:617: UserWarning: Coordinate descent without L1 regularization may lead to unexpected results and is discouraged. Set l1_ratio > 0 to add L1 regularization.\n",
      "  model = cd_fast.enet_coordinate_descent_gram(\n",
      "D:\\Anaconda\\Lib\\site-packages\\sklearn\\linear_model\\_coordinate_descent.py:617: ConvergenceWarning: Objective did not converge. You might want to increase the number of iterations. Duality gap: 661075.7019301372, tolerance: 529.628358974359\n",
      "  model = cd_fast.enet_coordinate_descent_gram(\n",
      "D:\\Anaconda\\Lib\\site-packages\\sklearn\\linear_model\\_coordinate_descent.py:617: UserWarning: Coordinate descent without L1 regularization may lead to unexpected results and is discouraged. Set l1_ratio > 0 to add L1 regularization.\n",
      "  model = cd_fast.enet_coordinate_descent_gram(\n",
      "D:\\Anaconda\\Lib\\site-packages\\sklearn\\linear_model\\_coordinate_descent.py:617: ConvergenceWarning: Objective did not converge. You might want to increase the number of iterations. Duality gap: 560555.8225444553, tolerance: 529.628358974359\n",
      "  model = cd_fast.enet_coordinate_descent_gram(\n",
      "D:\\Anaconda\\Lib\\site-packages\\sklearn\\linear_model\\_coordinate_descent.py:617: UserWarning: Coordinate descent without L1 regularization may lead to unexpected results and is discouraged. Set l1_ratio > 0 to add L1 regularization.\n",
      "  model = cd_fast.enet_coordinate_descent_gram(\n",
      "D:\\Anaconda\\Lib\\site-packages\\sklearn\\linear_model\\_coordinate_descent.py:617: ConvergenceWarning: Objective did not converge. You might want to increase the number of iterations. Duality gap: 449324.0442621476, tolerance: 529.628358974359\n",
      "  model = cd_fast.enet_coordinate_descent_gram(\n",
      "D:\\Anaconda\\Lib\\site-packages\\sklearn\\linear_model\\_coordinate_descent.py:617: UserWarning: Coordinate descent without L1 regularization may lead to unexpected results and is discouraged. Set l1_ratio > 0 to add L1 regularization.\n",
      "  model = cd_fast.enet_coordinate_descent_gram(\n",
      "D:\\Anaconda\\Lib\\site-packages\\sklearn\\linear_model\\_coordinate_descent.py:617: UserWarning: Coordinate descent without L1 regularization may lead to unexpected results and is discouraged. Set l1_ratio > 0 to add L1 regularization.\n",
      "  model = cd_fast.enet_coordinate_descent_gram(\n",
      "D:\\Anaconda\\Lib\\site-packages\\sklearn\\linear_model\\_coordinate_descent.py:617: ConvergenceWarning: Objective did not converge. You might want to increase the number of iterations. Duality gap: 2228697.808356857, tolerance: 505.02214358974373\n",
      "  model = cd_fast.enet_coordinate_descent_gram(\n",
      "D:\\Anaconda\\Lib\\site-packages\\sklearn\\linear_model\\_coordinate_descent.py:617: UserWarning: Coordinate descent without L1 regularization may lead to unexpected results and is discouraged. Set l1_ratio > 0 to add L1 regularization.\n",
      "  model = cd_fast.enet_coordinate_descent_gram(\n",
      "D:\\Anaconda\\Lib\\site-packages\\sklearn\\linear_model\\_coordinate_descent.py:617: UserWarning: Coordinate descent without L1 regularization may lead to unexpected results and is discouraged. Set l1_ratio > 0 to add L1 regularization.\n",
      "  model = cd_fast.enet_coordinate_descent_gram(\n",
      "D:\\Anaconda\\Lib\\site-packages\\sklearn\\linear_model\\_coordinate_descent.py:617: UserWarning: Coordinate descent without L1 regularization may lead to unexpected results and is discouraged. Set l1_ratio > 0 to add L1 regularization.\n",
      "  model = cd_fast.enet_coordinate_descent_gram(\n",
      "D:\\Anaconda\\Lib\\site-packages\\sklearn\\linear_model\\_coordinate_descent.py:617: UserWarning: Coordinate descent without L1 regularization may lead to unexpected results and is discouraged. Set l1_ratio > 0 to add L1 regularization.\n",
      "  model = cd_fast.enet_coordinate_descent_gram(\n",
      "D:\\Anaconda\\Lib\\site-packages\\sklearn\\linear_model\\_coordinate_descent.py:617: UserWarning: Coordinate descent without L1 regularization may lead to unexpected results and is discouraged. Set l1_ratio > 0 to add L1 regularization.\n",
      "  model = cd_fast.enet_coordinate_descent_gram(\n",
      "D:\\Anaconda\\Lib\\site-packages\\sklearn\\linear_model\\_coordinate_descent.py:617: UserWarning: Coordinate descent without L1 regularization may lead to unexpected results and is discouraged. Set l1_ratio > 0 to add L1 regularization.\n",
      "  model = cd_fast.enet_coordinate_descent_gram(\n",
      "D:\\Anaconda\\Lib\\site-packages\\sklearn\\linear_model\\_coordinate_descent.py:617: ConvergenceWarning: Objective did not converge. You might want to increase the number of iterations. Duality gap: 2212224.5500570554, tolerance: 505.02214358974373\n",
      "  model = cd_fast.enet_coordinate_descent_gram(\n",
      "D:\\Anaconda\\Lib\\site-packages\\sklearn\\linear_model\\_coordinate_descent.py:617: UserWarning: Coordinate descent without L1 regularization may lead to unexpected results and is discouraged. Set l1_ratio > 0 to add L1 regularization.\n",
      "  model = cd_fast.enet_coordinate_descent_gram(\n",
      "D:\\Anaconda\\Lib\\site-packages\\sklearn\\linear_model\\_coordinate_descent.py:617: UserWarning: Coordinate descent without L1 regularization may lead to unexpected results and is discouraged. Set l1_ratio > 0 to add L1 regularization.\n",
      "  model = cd_fast.enet_coordinate_descent_gram(\n",
      "D:\\Anaconda\\Lib\\site-packages\\sklearn\\linear_model\\_coordinate_descent.py:617: ConvergenceWarning: Objective did not converge. You might want to increase the number of iterations. Duality gap: 2206318.891737066, tolerance: 505.02214358974373\n",
      "  model = cd_fast.enet_coordinate_descent_gram(\n",
      "D:\\Anaconda\\Lib\\site-packages\\sklearn\\linear_model\\_coordinate_descent.py:617: UserWarning: Coordinate descent without L1 regularization may lead to unexpected results and is discouraged. Set l1_ratio > 0 to add L1 regularization.\n",
      "  model = cd_fast.enet_coordinate_descent_gram(\n",
      "D:\\Anaconda\\Lib\\site-packages\\sklearn\\linear_model\\_coordinate_descent.py:617: UserWarning: Coordinate descent without L1 regularization may lead to unexpected results and is discouraged. Set l1_ratio > 0 to add L1 regularization.\n",
      "  model = cd_fast.enet_coordinate_descent_gram(\n",
      "D:\\Anaconda\\Lib\\site-packages\\sklearn\\linear_model\\_coordinate_descent.py:617: UserWarning: Coordinate descent without L1 regularization may lead to unexpected results and is discouraged. Set l1_ratio > 0 to add L1 regularization.\n",
      "  model = cd_fast.enet_coordinate_descent_gram(\n",
      "D:\\Anaconda\\Lib\\site-packages\\sklearn\\linear_model\\_coordinate_descent.py:617: UserWarning: Coordinate descent without L1 regularization may lead to unexpected results and is discouraged. Set l1_ratio > 0 to add L1 regularization.\n",
      "  model = cd_fast.enet_coordinate_descent_gram(\n",
      "D:\\Anaconda\\Lib\\site-packages\\sklearn\\linear_model\\_coordinate_descent.py:617: UserWarning: Coordinate descent without L1 regularization may lead to unexpected results and is discouraged. Set l1_ratio > 0 to add L1 regularization.\n",
      "  model = cd_fast.enet_coordinate_descent_gram(\n",
      "D:\\Anaconda\\Lib\\site-packages\\sklearn\\linear_model\\_coordinate_descent.py:617: UserWarning: Coordinate descent without L1 regularization may lead to unexpected results and is discouraged. Set l1_ratio > 0 to add L1 regularization.\n",
      "  model = cd_fast.enet_coordinate_descent_gram(\n",
      "D:\\Anaconda\\Lib\\site-packages\\sklearn\\linear_model\\_coordinate_descent.py:617: ConvergenceWarning: Objective did not converge. You might want to increase the number of iterations. Duality gap: 2187184.012699264, tolerance: 505.02214358974373\n",
      "  model = cd_fast.enet_coordinate_descent_gram(\n",
      "D:\\Anaconda\\Lib\\site-packages\\sklearn\\linear_model\\_coordinate_descent.py:617: UserWarning: Coordinate descent without L1 regularization may lead to unexpected results and is discouraged. Set l1_ratio > 0 to add L1 regularization.\n",
      "  model = cd_fast.enet_coordinate_descent_gram(\n",
      "D:\\Anaconda\\Lib\\site-packages\\sklearn\\linear_model\\_coordinate_descent.py:617: UserWarning: Coordinate descent without L1 regularization may lead to unexpected results and is discouraged. Set l1_ratio > 0 to add L1 regularization.\n",
      "  model = cd_fast.enet_coordinate_descent_gram(\n",
      "D:\\Anaconda\\Lib\\site-packages\\sklearn\\linear_model\\_coordinate_descent.py:617: ConvergenceWarning: Objective did not converge. You might want to increase the number of iterations. Duality gap: 2180284.838003491, tolerance: 505.02214358974373\n",
      "  model = cd_fast.enet_coordinate_descent_gram(\n",
      "D:\\Anaconda\\Lib\\site-packages\\sklearn\\linear_model\\_coordinate_descent.py:617: UserWarning: Coordinate descent without L1 regularization may lead to unexpected results and is discouraged. Set l1_ratio > 0 to add L1 regularization.\n",
      "  model = cd_fast.enet_coordinate_descent_gram(\n",
      "D:\\Anaconda\\Lib\\site-packages\\sklearn\\linear_model\\_coordinate_descent.py:617: UserWarning: Coordinate descent without L1 regularization may lead to unexpected results and is discouraged. Set l1_ratio > 0 to add L1 regularization.\n",
      "  model = cd_fast.enet_coordinate_descent_gram(\n",
      "D:\\Anaconda\\Lib\\site-packages\\sklearn\\linear_model\\_coordinate_descent.py:617: ConvergenceWarning: Objective did not converge. You might want to increase the number of iterations. Duality gap: 2173098.0823237244, tolerance: 505.02214358974373\n",
      "  model = cd_fast.enet_coordinate_descent_gram(\n",
      "D:\\Anaconda\\Lib\\site-packages\\sklearn\\linear_model\\_coordinate_descent.py:617: UserWarning: Coordinate descent without L1 regularization may lead to unexpected results and is discouraged. Set l1_ratio > 0 to add L1 regularization.\n",
      "  model = cd_fast.enet_coordinate_descent_gram(\n",
      "D:\\Anaconda\\Lib\\site-packages\\sklearn\\linear_model\\_coordinate_descent.py:617: UserWarning: Coordinate descent without L1 regularization may lead to unexpected results and is discouraged. Set l1_ratio > 0 to add L1 regularization.\n",
      "  model = cd_fast.enet_coordinate_descent_gram(\n",
      "D:\\Anaconda\\Lib\\site-packages\\sklearn\\linear_model\\_coordinate_descent.py:617: ConvergenceWarning: Objective did not converge. You might want to increase the number of iterations. Duality gap: 2165605.381903028, tolerance: 505.02214358974373\n",
      "  model = cd_fast.enet_coordinate_descent_gram(\n",
      "D:\\Anaconda\\Lib\\site-packages\\sklearn\\linear_model\\_coordinate_descent.py:617: UserWarning: Coordinate descent without L1 regularization may lead to unexpected results and is discouraged. Set l1_ratio > 0 to add L1 regularization.\n",
      "  model = cd_fast.enet_coordinate_descent_gram(\n",
      "D:\\Anaconda\\Lib\\site-packages\\sklearn\\linear_model\\_coordinate_descent.py:617: ConvergenceWarning: Objective did not converge. You might want to increase the number of iterations. Duality gap: 2161738.1316186297, tolerance: 505.02214358974373\n",
      "  model = cd_fast.enet_coordinate_descent_gram(\n",
      "D:\\Anaconda\\Lib\\site-packages\\sklearn\\linear_model\\_coordinate_descent.py:617: UserWarning: Coordinate descent without L1 regularization may lead to unexpected results and is discouraged. Set l1_ratio > 0 to add L1 regularization.\n",
      "  model = cd_fast.enet_coordinate_descent_gram(\n",
      "D:\\Anaconda\\Lib\\site-packages\\sklearn\\linear_model\\_coordinate_descent.py:617: UserWarning: Coordinate descent without L1 regularization may lead to unexpected results and is discouraged. Set l1_ratio > 0 to add L1 regularization.\n",
      "  model = cd_fast.enet_coordinate_descent_gram(\n",
      "D:\\Anaconda\\Lib\\site-packages\\sklearn\\linear_model\\_coordinate_descent.py:617: UserWarning: Coordinate descent without L1 regularization may lead to unexpected results and is discouraged. Set l1_ratio > 0 to add L1 regularization.\n",
      "  model = cd_fast.enet_coordinate_descent_gram(\n",
      "D:\\Anaconda\\Lib\\site-packages\\sklearn\\linear_model\\_coordinate_descent.py:617: UserWarning: Coordinate descent without L1 regularization may lead to unexpected results and is discouraged. Set l1_ratio > 0 to add L1 regularization.\n",
      "  model = cd_fast.enet_coordinate_descent_gram(\n",
      "D:\\Anaconda\\Lib\\site-packages\\sklearn\\linear_model\\_coordinate_descent.py:617: UserWarning: Coordinate descent without L1 regularization may lead to unexpected results and is discouraged. Set l1_ratio > 0 to add L1 regularization.\n",
      "  model = cd_fast.enet_coordinate_descent_gram(\n",
      "D:\\Anaconda\\Lib\\site-packages\\sklearn\\linear_model\\_coordinate_descent.py:617: UserWarning: Coordinate descent without L1 regularization may lead to unexpected results and is discouraged. Set l1_ratio > 0 to add L1 regularization.\n",
      "  model = cd_fast.enet_coordinate_descent_gram(\n",
      "D:\\Anaconda\\Lib\\site-packages\\sklearn\\linear_model\\_coordinate_descent.py:617: UserWarning: Coordinate descent without L1 regularization may lead to unexpected results and is discouraged. Set l1_ratio > 0 to add L1 regularization.\n",
      "  model = cd_fast.enet_coordinate_descent_gram(\n",
      "D:\\Anaconda\\Lib\\site-packages\\sklearn\\linear_model\\_coordinate_descent.py:617: ConvergenceWarning: Objective did not converge. You might want to increase the number of iterations. Duality gap: 2132148.0419089254, tolerance: 505.02214358974373\n",
      "  model = cd_fast.enet_coordinate_descent_gram(\n",
      "D:\\Anaconda\\Lib\\site-packages\\sklearn\\linear_model\\_coordinate_descent.py:617: UserWarning: Coordinate descent without L1 regularization may lead to unexpected results and is discouraged. Set l1_ratio > 0 to add L1 regularization.\n",
      "  model = cd_fast.enet_coordinate_descent_gram(\n",
      "D:\\Anaconda\\Lib\\site-packages\\sklearn\\linear_model\\_coordinate_descent.py:617: UserWarning: Coordinate descent without L1 regularization may lead to unexpected results and is discouraged. Set l1_ratio > 0 to add L1 regularization.\n",
      "  model = cd_fast.enet_coordinate_descent_gram(\n",
      "D:\\Anaconda\\Lib\\site-packages\\sklearn\\linear_model\\_coordinate_descent.py:617: UserWarning: Coordinate descent without L1 regularization may lead to unexpected results and is discouraged. Set l1_ratio > 0 to add L1 regularization.\n",
      "  model = cd_fast.enet_coordinate_descent_gram(\n",
      "D:\\Anaconda\\Lib\\site-packages\\sklearn\\linear_model\\_coordinate_descent.py:617: ConvergenceWarning: Objective did not converge. You might want to increase the number of iterations. Duality gap: 2117937.9780057957, tolerance: 505.02214358974373\n",
      "  model = cd_fast.enet_coordinate_descent_gram(\n",
      "D:\\Anaconda\\Lib\\site-packages\\sklearn\\linear_model\\_coordinate_descent.py:617: UserWarning: Coordinate descent without L1 regularization may lead to unexpected results and is discouraged. Set l1_ratio > 0 to add L1 regularization.\n",
      "  model = cd_fast.enet_coordinate_descent_gram(\n",
      "D:\\Anaconda\\Lib\\site-packages\\sklearn\\linear_model\\_coordinate_descent.py:617: UserWarning: Coordinate descent without L1 regularization may lead to unexpected results and is discouraged. Set l1_ratio > 0 to add L1 regularization.\n",
      "  model = cd_fast.enet_coordinate_descent_gram(\n",
      "D:\\Anaconda\\Lib\\site-packages\\sklearn\\linear_model\\_coordinate_descent.py:617: UserWarning: Coordinate descent without L1 regularization may lead to unexpected results and is discouraged. Set l1_ratio > 0 to add L1 regularization.\n",
      "  model = cd_fast.enet_coordinate_descent_gram(\n",
      "D:\\Anaconda\\Lib\\site-packages\\sklearn\\linear_model\\_coordinate_descent.py:617: UserWarning: Coordinate descent without L1 regularization may lead to unexpected results and is discouraged. Set l1_ratio > 0 to add L1 regularization.\n",
      "  model = cd_fast.enet_coordinate_descent_gram(\n",
      "D:\\Anaconda\\Lib\\site-packages\\sklearn\\linear_model\\_coordinate_descent.py:617: UserWarning: Coordinate descent without L1 regularization may lead to unexpected results and is discouraged. Set l1_ratio > 0 to add L1 regularization.\n",
      "  model = cd_fast.enet_coordinate_descent_gram(\n"
     ]
    },
    {
     "name": "stderr",
     "output_type": "stream",
     "text": [
      "D:\\Anaconda\\Lib\\site-packages\\sklearn\\linear_model\\_coordinate_descent.py:617: UserWarning: Coordinate descent without L1 regularization may lead to unexpected results and is discouraged. Set l1_ratio > 0 to add L1 regularization.\n",
      "  model = cd_fast.enet_coordinate_descent_gram(\n",
      "D:\\Anaconda\\Lib\\site-packages\\sklearn\\linear_model\\_coordinate_descent.py:617: UserWarning: Coordinate descent without L1 regularization may lead to unexpected results and is discouraged. Set l1_ratio > 0 to add L1 regularization.\n",
      "  model = cd_fast.enet_coordinate_descent_gram(\n",
      "D:\\Anaconda\\Lib\\site-packages\\sklearn\\linear_model\\_coordinate_descent.py:617: UserWarning: Coordinate descent without L1 regularization may lead to unexpected results and is discouraged. Set l1_ratio > 0 to add L1 regularization.\n",
      "  model = cd_fast.enet_coordinate_descent_gram(\n",
      "D:\\Anaconda\\Lib\\site-packages\\sklearn\\linear_model\\_coordinate_descent.py:617: UserWarning: Coordinate descent without L1 regularization may lead to unexpected results and is discouraged. Set l1_ratio > 0 to add L1 regularization.\n",
      "  model = cd_fast.enet_coordinate_descent_gram(\n",
      "D:\\Anaconda\\Lib\\site-packages\\sklearn\\linear_model\\_coordinate_descent.py:617: UserWarning: Coordinate descent without L1 regularization may lead to unexpected results and is discouraged. Set l1_ratio > 0 to add L1 regularization.\n",
      "  model = cd_fast.enet_coordinate_descent_gram(\n",
      "D:\\Anaconda\\Lib\\site-packages\\sklearn\\linear_model\\_coordinate_descent.py:617: ConvergenceWarning: Objective did not converge. You might want to increase the number of iterations. Duality gap: 2062131.447996878, tolerance: 505.02214358974373\n",
      "  model = cd_fast.enet_coordinate_descent_gram(\n",
      "D:\\Anaconda\\Lib\\site-packages\\sklearn\\linear_model\\_coordinate_descent.py:617: UserWarning: Coordinate descent without L1 regularization may lead to unexpected results and is discouraged. Set l1_ratio > 0 to add L1 regularization.\n",
      "  model = cd_fast.enet_coordinate_descent_gram(\n",
      "D:\\Anaconda\\Lib\\site-packages\\sklearn\\linear_model\\_coordinate_descent.py:617: UserWarning: Coordinate descent without L1 regularization may lead to unexpected results and is discouraged. Set l1_ratio > 0 to add L1 regularization.\n",
      "  model = cd_fast.enet_coordinate_descent_gram(\n",
      "D:\\Anaconda\\Lib\\site-packages\\sklearn\\linear_model\\_coordinate_descent.py:617: ConvergenceWarning: Objective did not converge. You might want to increase the number of iterations. Duality gap: 2049082.7002549553, tolerance: 505.02214358974373\n",
      "  model = cd_fast.enet_coordinate_descent_gram(\n",
      "D:\\Anaconda\\Lib\\site-packages\\sklearn\\linear_model\\_coordinate_descent.py:617: UserWarning: Coordinate descent without L1 regularization may lead to unexpected results and is discouraged. Set l1_ratio > 0 to add L1 regularization.\n",
      "  model = cd_fast.enet_coordinate_descent_gram(\n",
      "D:\\Anaconda\\Lib\\site-packages\\sklearn\\linear_model\\_coordinate_descent.py:617: UserWarning: Coordinate descent without L1 regularization may lead to unexpected results and is discouraged. Set l1_ratio > 0 to add L1 regularization.\n",
      "  model = cd_fast.enet_coordinate_descent_gram(\n",
      "D:\\Anaconda\\Lib\\site-packages\\sklearn\\linear_model\\_coordinate_descent.py:617: ConvergenceWarning: Objective did not converge. You might want to increase the number of iterations. Duality gap: 2035277.080910742, tolerance: 505.02214358974373\n",
      "  model = cd_fast.enet_coordinate_descent_gram(\n",
      "D:\\Anaconda\\Lib\\site-packages\\sklearn\\linear_model\\_coordinate_descent.py:617: UserWarning: Coordinate descent without L1 regularization may lead to unexpected results and is discouraged. Set l1_ratio > 0 to add L1 regularization.\n",
      "  model = cd_fast.enet_coordinate_descent_gram(\n",
      "D:\\Anaconda\\Lib\\site-packages\\sklearn\\linear_model\\_coordinate_descent.py:617: UserWarning: Coordinate descent without L1 regularization may lead to unexpected results and is discouraged. Set l1_ratio > 0 to add L1 regularization.\n",
      "  model = cd_fast.enet_coordinate_descent_gram(\n",
      "D:\\Anaconda\\Lib\\site-packages\\sklearn\\linear_model\\_coordinate_descent.py:617: UserWarning: Coordinate descent without L1 regularization may lead to unexpected results and is discouraged. Set l1_ratio > 0 to add L1 regularization.\n",
      "  model = cd_fast.enet_coordinate_descent_gram(\n",
      "D:\\Anaconda\\Lib\\site-packages\\sklearn\\linear_model\\_coordinate_descent.py:617: UserWarning: Coordinate descent without L1 regularization may lead to unexpected results and is discouraged. Set l1_ratio > 0 to add L1 regularization.\n",
      "  model = cd_fast.enet_coordinate_descent_gram(\n",
      "D:\\Anaconda\\Lib\\site-packages\\sklearn\\linear_model\\_coordinate_descent.py:617: UserWarning: Coordinate descent without L1 regularization may lead to unexpected results and is discouraged. Set l1_ratio > 0 to add L1 regularization.\n",
      "  model = cd_fast.enet_coordinate_descent_gram(\n",
      "D:\\Anaconda\\Lib\\site-packages\\sklearn\\linear_model\\_coordinate_descent.py:617: UserWarning: Coordinate descent without L1 regularization may lead to unexpected results and is discouraged. Set l1_ratio > 0 to add L1 regularization.\n",
      "  model = cd_fast.enet_coordinate_descent_gram(\n",
      "D:\\Anaconda\\Lib\\site-packages\\sklearn\\linear_model\\_coordinate_descent.py:617: ConvergenceWarning: Objective did not converge. You might want to increase the number of iterations. Duality gap: 1988597.7222384242, tolerance: 505.02214358974373\n",
      "  model = cd_fast.enet_coordinate_descent_gram(\n",
      "D:\\Anaconda\\Lib\\site-packages\\sklearn\\linear_model\\_coordinate_descent.py:617: UserWarning: Coordinate descent without L1 regularization may lead to unexpected results and is discouraged. Set l1_ratio > 0 to add L1 regularization.\n",
      "  model = cd_fast.enet_coordinate_descent_gram(\n",
      "D:\\Anaconda\\Lib\\site-packages\\sklearn\\linear_model\\_coordinate_descent.py:617: UserWarning: Coordinate descent without L1 regularization may lead to unexpected results and is discouraged. Set l1_ratio > 0 to add L1 regularization.\n",
      "  model = cd_fast.enet_coordinate_descent_gram(\n",
      "D:\\Anaconda\\Lib\\site-packages\\sklearn\\linear_model\\_coordinate_descent.py:617: UserWarning: Coordinate descent without L1 regularization may lead to unexpected results and is discouraged. Set l1_ratio > 0 to add L1 regularization.\n",
      "  model = cd_fast.enet_coordinate_descent_gram(\n",
      "D:\\Anaconda\\Lib\\site-packages\\sklearn\\linear_model\\_coordinate_descent.py:617: ConvergenceWarning: Objective did not converge. You might want to increase the number of iterations. Duality gap: 1961754.8423407928, tolerance: 505.02214358974373\n",
      "  model = cd_fast.enet_coordinate_descent_gram(\n",
      "D:\\Anaconda\\Lib\\site-packages\\sklearn\\linear_model\\_coordinate_descent.py:617: UserWarning: Coordinate descent without L1 regularization may lead to unexpected results and is discouraged. Set l1_ratio > 0 to add L1 regularization.\n",
      "  model = cd_fast.enet_coordinate_descent_gram(\n",
      "D:\\Anaconda\\Lib\\site-packages\\sklearn\\linear_model\\_coordinate_descent.py:617: UserWarning: Coordinate descent without L1 regularization may lead to unexpected results and is discouraged. Set l1_ratio > 0 to add L1 regularization.\n",
      "  model = cd_fast.enet_coordinate_descent_gram(\n",
      "D:\\Anaconda\\Lib\\site-packages\\sklearn\\linear_model\\_coordinate_descent.py:617: UserWarning: Coordinate descent without L1 regularization may lead to unexpected results and is discouraged. Set l1_ratio > 0 to add L1 regularization.\n",
      "  model = cd_fast.enet_coordinate_descent_gram(\n",
      "D:\\Anaconda\\Lib\\site-packages\\sklearn\\linear_model\\_coordinate_descent.py:617: UserWarning: Coordinate descent without L1 regularization may lead to unexpected results and is discouraged. Set l1_ratio > 0 to add L1 regularization.\n",
      "  model = cd_fast.enet_coordinate_descent_gram(\n",
      "D:\\Anaconda\\Lib\\site-packages\\sklearn\\linear_model\\_coordinate_descent.py:617: ConvergenceWarning: Objective did not converge. You might want to increase the number of iterations. Duality gap: 1921487.443571123, tolerance: 505.02214358974373\n",
      "  model = cd_fast.enet_coordinate_descent_gram(\n",
      "D:\\Anaconda\\Lib\\site-packages\\sklearn\\linear_model\\_coordinate_descent.py:617: UserWarning: Coordinate descent without L1 regularization may lead to unexpected results and is discouraged. Set l1_ratio > 0 to add L1 regularization.\n",
      "  model = cd_fast.enet_coordinate_descent_gram(\n",
      "D:\\Anaconda\\Lib\\site-packages\\sklearn\\linear_model\\_coordinate_descent.py:617: UserWarning: Coordinate descent without L1 regularization may lead to unexpected results and is discouraged. Set l1_ratio > 0 to add L1 regularization.\n",
      "  model = cd_fast.enet_coordinate_descent_gram(\n",
      "D:\\Anaconda\\Lib\\site-packages\\sklearn\\linear_model\\_coordinate_descent.py:617: ConvergenceWarning: Objective did not converge. You might want to increase the number of iterations. Duality gap: 1899115.0698353772, tolerance: 505.02214358974373\n",
      "  model = cd_fast.enet_coordinate_descent_gram(\n",
      "D:\\Anaconda\\Lib\\site-packages\\sklearn\\linear_model\\_coordinate_descent.py:617: UserWarning: Coordinate descent without L1 regularization may lead to unexpected results and is discouraged. Set l1_ratio > 0 to add L1 regularization.\n",
      "  model = cd_fast.enet_coordinate_descent_gram(\n",
      "D:\\Anaconda\\Lib\\site-packages\\sklearn\\linear_model\\_coordinate_descent.py:617: ConvergenceWarning: Objective did not converge. You might want to increase the number of iterations. Duality gap: 1887295.242133999, tolerance: 505.02214358974373\n",
      "  model = cd_fast.enet_coordinate_descent_gram(\n",
      "D:\\Anaconda\\Lib\\site-packages\\sklearn\\linear_model\\_coordinate_descent.py:617: UserWarning: Coordinate descent without L1 regularization may lead to unexpected results and is discouraged. Set l1_ratio > 0 to add L1 regularization.\n",
      "  model = cd_fast.enet_coordinate_descent_gram(\n",
      "D:\\Anaconda\\Lib\\site-packages\\sklearn\\linear_model\\_coordinate_descent.py:617: UserWarning: Coordinate descent without L1 regularization may lead to unexpected results and is discouraged. Set l1_ratio > 0 to add L1 regularization.\n",
      "  model = cd_fast.enet_coordinate_descent_gram(\n",
      "D:\\Anaconda\\Lib\\site-packages\\sklearn\\linear_model\\_coordinate_descent.py:617: ConvergenceWarning: Objective did not converge. You might want to increase the number of iterations. Duality gap: 1862263.9678688338, tolerance: 505.02214358974373\n",
      "  model = cd_fast.enet_coordinate_descent_gram(\n",
      "D:\\Anaconda\\Lib\\site-packages\\sklearn\\linear_model\\_coordinate_descent.py:617: UserWarning: Coordinate descent without L1 regularization may lead to unexpected results and is discouraged. Set l1_ratio > 0 to add L1 regularization.\n",
      "  model = cd_fast.enet_coordinate_descent_gram(\n",
      "D:\\Anaconda\\Lib\\site-packages\\sklearn\\linear_model\\_coordinate_descent.py:617: UserWarning: Coordinate descent without L1 regularization may lead to unexpected results and is discouraged. Set l1_ratio > 0 to add L1 regularization.\n",
      "  model = cd_fast.enet_coordinate_descent_gram(\n",
      "D:\\Anaconda\\Lib\\site-packages\\sklearn\\linear_model\\_coordinate_descent.py:617: ConvergenceWarning: Objective did not converge. You might want to increase the number of iterations. Duality gap: 1835187.7169552702, tolerance: 505.02214358974373\n",
      "  model = cd_fast.enet_coordinate_descent_gram(\n",
      "D:\\Anaconda\\Lib\\site-packages\\sklearn\\linear_model\\_coordinate_descent.py:617: UserWarning: Coordinate descent without L1 regularization may lead to unexpected results and is discouraged. Set l1_ratio > 0 to add L1 regularization.\n",
      "  model = cd_fast.enet_coordinate_descent_gram(\n",
      "D:\\Anaconda\\Lib\\site-packages\\sklearn\\linear_model\\_coordinate_descent.py:617: ConvergenceWarning: Objective did not converge. You might want to increase the number of iterations. Duality gap: 1820802.7792095405, tolerance: 505.02214358974373\n",
      "  model = cd_fast.enet_coordinate_descent_gram(\n",
      "D:\\Anaconda\\Lib\\site-packages\\sklearn\\linear_model\\_coordinate_descent.py:617: UserWarning: Coordinate descent without L1 regularization may lead to unexpected results and is discouraged. Set l1_ratio > 0 to add L1 regularization.\n",
      "  model = cd_fast.enet_coordinate_descent_gram(\n",
      "D:\\Anaconda\\Lib\\site-packages\\sklearn\\linear_model\\_coordinate_descent.py:617: ConvergenceWarning: Objective did not converge. You might want to increase the number of iterations. Duality gap: 1805805.2144477887, tolerance: 505.02214358974373\n",
      "  model = cd_fast.enet_coordinate_descent_gram(\n",
      "D:\\Anaconda\\Lib\\site-packages\\sklearn\\linear_model\\_coordinate_descent.py:617: UserWarning: Coordinate descent without L1 regularization may lead to unexpected results and is discouraged. Set l1_ratio > 0 to add L1 regularization.\n",
      "  model = cd_fast.enet_coordinate_descent_gram(\n",
      "D:\\Anaconda\\Lib\\site-packages\\sklearn\\linear_model\\_coordinate_descent.py:617: UserWarning: Coordinate descent without L1 regularization may lead to unexpected results and is discouraged. Set l1_ratio > 0 to add L1 regularization.\n",
      "  model = cd_fast.enet_coordinate_descent_gram(\n",
      "D:\\Anaconda\\Lib\\site-packages\\sklearn\\linear_model\\_coordinate_descent.py:617: ConvergenceWarning: Objective did not converge. You might want to increase the number of iterations. Duality gap: 1773808.6967343325, tolerance: 505.02214358974373\n",
      "  model = cd_fast.enet_coordinate_descent_gram(\n",
      "D:\\Anaconda\\Lib\\site-packages\\sklearn\\linear_model\\_coordinate_descent.py:617: UserWarning: Coordinate descent without L1 regularization may lead to unexpected results and is discouraged. Set l1_ratio > 0 to add L1 regularization.\n",
      "  model = cd_fast.enet_coordinate_descent_gram(\n",
      "D:\\Anaconda\\Lib\\site-packages\\sklearn\\linear_model\\_coordinate_descent.py:617: ConvergenceWarning: Objective did not converge. You might want to increase the number of iterations. Duality gap: 1756718.691894341, tolerance: 505.02214358974373\n",
      "  model = cd_fast.enet_coordinate_descent_gram(\n",
      "D:\\Anaconda\\Lib\\site-packages\\sklearn\\linear_model\\_coordinate_descent.py:617: UserWarning: Coordinate descent without L1 regularization may lead to unexpected results and is discouraged. Set l1_ratio > 0 to add L1 regularization.\n",
      "  model = cd_fast.enet_coordinate_descent_gram(\n",
      "D:\\Anaconda\\Lib\\site-packages\\sklearn\\linear_model\\_coordinate_descent.py:617: UserWarning: Coordinate descent without L1 regularization may lead to unexpected results and is discouraged. Set l1_ratio > 0 to add L1 regularization.\n",
      "  model = cd_fast.enet_coordinate_descent_gram(\n",
      "D:\\Anaconda\\Lib\\site-packages\\sklearn\\linear_model\\_coordinate_descent.py:617: ConvergenceWarning: Objective did not converge. You might want to increase the number of iterations. Duality gap: 1720095.0121492923, tolerance: 505.02214358974373\n",
      "  model = cd_fast.enet_coordinate_descent_gram(\n",
      "D:\\Anaconda\\Lib\\site-packages\\sklearn\\linear_model\\_coordinate_descent.py:617: UserWarning: Coordinate descent without L1 regularization may lead to unexpected results and is discouraged. Set l1_ratio > 0 to add L1 regularization.\n",
      "  model = cd_fast.enet_coordinate_descent_gram(\n",
      "D:\\Anaconda\\Lib\\site-packages\\sklearn\\linear_model\\_coordinate_descent.py:617: UserWarning: Coordinate descent without L1 regularization may lead to unexpected results and is discouraged. Set l1_ratio > 0 to add L1 regularization.\n",
      "  model = cd_fast.enet_coordinate_descent_gram(\n",
      "D:\\Anaconda\\Lib\\site-packages\\sklearn\\linear_model\\_coordinate_descent.py:617: ConvergenceWarning: Objective did not converge. You might want to increase the number of iterations. Duality gap: 1679805.4347883314, tolerance: 505.02214358974373\n",
      "  model = cd_fast.enet_coordinate_descent_gram(\n",
      "D:\\Anaconda\\Lib\\site-packages\\sklearn\\linear_model\\_coordinate_descent.py:617: UserWarning: Coordinate descent without L1 regularization may lead to unexpected results and is discouraged. Set l1_ratio > 0 to add L1 regularization.\n",
      "  model = cd_fast.enet_coordinate_descent_gram(\n",
      "D:\\Anaconda\\Lib\\site-packages\\sklearn\\linear_model\\_coordinate_descent.py:617: ConvergenceWarning: Objective did not converge. You might want to increase the number of iterations. Duality gap: 1658109.515206718, tolerance: 505.02214358974373\n",
      "  model = cd_fast.enet_coordinate_descent_gram(\n",
      "D:\\Anaconda\\Lib\\site-packages\\sklearn\\linear_model\\_coordinate_descent.py:617: UserWarning: Coordinate descent without L1 regularization may lead to unexpected results and is discouraged. Set l1_ratio > 0 to add L1 regularization.\n",
      "  model = cd_fast.enet_coordinate_descent_gram(\n",
      "D:\\Anaconda\\Lib\\site-packages\\sklearn\\linear_model\\_coordinate_descent.py:617: UserWarning: Coordinate descent without L1 regularization may lead to unexpected results and is discouraged. Set l1_ratio > 0 to add L1 regularization.\n",
      "  model = cd_fast.enet_coordinate_descent_gram(\n",
      "D:\\Anaconda\\Lib\\site-packages\\sklearn\\linear_model\\_coordinate_descent.py:617: UserWarning: Coordinate descent without L1 regularization may lead to unexpected results and is discouraged. Set l1_ratio > 0 to add L1 regularization.\n",
      "  model = cd_fast.enet_coordinate_descent_gram(\n",
      "D:\\Anaconda\\Lib\\site-packages\\sklearn\\linear_model\\_coordinate_descent.py:617: UserWarning: Coordinate descent without L1 regularization may lead to unexpected results and is discouraged. Set l1_ratio > 0 to add L1 regularization.\n",
      "  model = cd_fast.enet_coordinate_descent_gram(\n",
      "D:\\Anaconda\\Lib\\site-packages\\sklearn\\linear_model\\_coordinate_descent.py:617: UserWarning: Coordinate descent without L1 regularization may lead to unexpected results and is discouraged. Set l1_ratio > 0 to add L1 regularization.\n",
      "  model = cd_fast.enet_coordinate_descent_gram(\n",
      "D:\\Anaconda\\Lib\\site-packages\\sklearn\\linear_model\\_coordinate_descent.py:617: ConvergenceWarning: Objective did not converge. You might want to increase the number of iterations. Duality gap: 1530464.749637701, tolerance: 505.02214358974373\n",
      "  model = cd_fast.enet_coordinate_descent_gram(\n",
      "D:\\Anaconda\\Lib\\site-packages\\sklearn\\linear_model\\_coordinate_descent.py:617: UserWarning: Coordinate descent without L1 regularization may lead to unexpected results and is discouraged. Set l1_ratio > 0 to add L1 regularization.\n",
      "  model = cd_fast.enet_coordinate_descent_gram(\n",
      "D:\\Anaconda\\Lib\\site-packages\\sklearn\\linear_model\\_coordinate_descent.py:617: ConvergenceWarning: Objective did not converge. You might want to increase the number of iterations. Duality gap: 1500288.7452583944, tolerance: 505.02214358974373\n",
      "  model = cd_fast.enet_coordinate_descent_gram(\n",
      "D:\\Anaconda\\Lib\\site-packages\\sklearn\\linear_model\\_coordinate_descent.py:617: UserWarning: Coordinate descent without L1 regularization may lead to unexpected results and is discouraged. Set l1_ratio > 0 to add L1 regularization.\n",
      "  model = cd_fast.enet_coordinate_descent_gram(\n",
      "D:\\Anaconda\\Lib\\site-packages\\sklearn\\linear_model\\_coordinate_descent.py:617: ConvergenceWarning: Objective did not converge. You might want to increase the number of iterations. Duality gap: 1468224.4679948024, tolerance: 505.02214358974373\n",
      "  model = cd_fast.enet_coordinate_descent_gram(\n",
      "D:\\Anaconda\\Lib\\site-packages\\sklearn\\linear_model\\_coordinate_descent.py:617: UserWarning: Coordinate descent without L1 regularization may lead to unexpected results and is discouraged. Set l1_ratio > 0 to add L1 regularization.\n",
      "  model = cd_fast.enet_coordinate_descent_gram(\n",
      "D:\\Anaconda\\Lib\\site-packages\\sklearn\\linear_model\\_coordinate_descent.py:617: ConvergenceWarning: Objective did not converge. You might want to increase the number of iterations. Duality gap: 1434088.9544543773, tolerance: 505.02214358974373\n",
      "  model = cd_fast.enet_coordinate_descent_gram(\n",
      "D:\\Anaconda\\Lib\\site-packages\\sklearn\\linear_model\\_coordinate_descent.py:617: UserWarning: Coordinate descent without L1 regularization may lead to unexpected results and is discouraged. Set l1_ratio > 0 to add L1 regularization.\n",
      "  model = cd_fast.enet_coordinate_descent_gram(\n",
      "D:\\Anaconda\\Lib\\site-packages\\sklearn\\linear_model\\_coordinate_descent.py:617: UserWarning: Coordinate descent without L1 regularization may lead to unexpected results and is discouraged. Set l1_ratio > 0 to add L1 regularization.\n",
      "  model = cd_fast.enet_coordinate_descent_gram(\n",
      "D:\\Anaconda\\Lib\\site-packages\\sklearn\\linear_model\\_coordinate_descent.py:617: ConvergenceWarning: Objective did not converge. You might want to increase the number of iterations. Duality gap: 1358746.0155252623, tolerance: 505.02214358974373\n",
      "  model = cd_fast.enet_coordinate_descent_gram(\n",
      "D:\\Anaconda\\Lib\\site-packages\\sklearn\\linear_model\\_coordinate_descent.py:617: UserWarning: Coordinate descent without L1 regularization may lead to unexpected results and is discouraged. Set l1_ratio > 0 to add L1 regularization.\n",
      "  model = cd_fast.enet_coordinate_descent_gram(\n",
      "D:\\Anaconda\\Lib\\site-packages\\sklearn\\linear_model\\_coordinate_descent.py:617: UserWarning: Coordinate descent without L1 regularization may lead to unexpected results and is discouraged. Set l1_ratio > 0 to add L1 regularization.\n",
      "  model = cd_fast.enet_coordinate_descent_gram(\n",
      "D:\\Anaconda\\Lib\\site-packages\\sklearn\\linear_model\\_coordinate_descent.py:617: UserWarning: Coordinate descent without L1 regularization may lead to unexpected results and is discouraged. Set l1_ratio > 0 to add L1 regularization.\n",
      "  model = cd_fast.enet_coordinate_descent_gram(\n",
      "D:\\Anaconda\\Lib\\site-packages\\sklearn\\linear_model\\_coordinate_descent.py:617: ConvergenceWarning: Objective did not converge. You might want to increase the number of iterations. Duality gap: 1223965.825858815, tolerance: 505.02214358974373\n",
      "  model = cd_fast.enet_coordinate_descent_gram(\n",
      "D:\\Anaconda\\Lib\\site-packages\\sklearn\\linear_model\\_coordinate_descent.py:617: UserWarning: Coordinate descent without L1 regularization may lead to unexpected results and is discouraged. Set l1_ratio > 0 to add L1 regularization.\n",
      "  model = cd_fast.enet_coordinate_descent_gram(\n",
      "D:\\Anaconda\\Lib\\site-packages\\sklearn\\linear_model\\_coordinate_descent.py:617: UserWarning: Coordinate descent without L1 regularization may lead to unexpected results and is discouraged. Set l1_ratio > 0 to add L1 regularization.\n",
      "  model = cd_fast.enet_coordinate_descent_gram(\n",
      "D:\\Anaconda\\Lib\\site-packages\\sklearn\\linear_model\\_coordinate_descent.py:617: ConvergenceWarning: Objective did not converge. You might want to increase the number of iterations. Duality gap: 1115362.807520681, tolerance: 505.02214358974373\n",
      "  model = cd_fast.enet_coordinate_descent_gram(\n",
      "D:\\Anaconda\\Lib\\site-packages\\sklearn\\linear_model\\_coordinate_descent.py:617: UserWarning: Coordinate descent without L1 regularization may lead to unexpected results and is discouraged. Set l1_ratio > 0 to add L1 regularization.\n",
      "  model = cd_fast.enet_coordinate_descent_gram(\n",
      "D:\\Anaconda\\Lib\\site-packages\\sklearn\\linear_model\\_coordinate_descent.py:617: UserWarning: Coordinate descent without L1 regularization may lead to unexpected results and is discouraged. Set l1_ratio > 0 to add L1 regularization.\n",
      "  model = cd_fast.enet_coordinate_descent_gram(\n",
      "D:\\Anaconda\\Lib\\site-packages\\sklearn\\linear_model\\_coordinate_descent.py:617: ConvergenceWarning: Objective did not converge. You might want to increase the number of iterations. Duality gap: 986979.1578240084, tolerance: 505.02214358974373\n",
      "  model = cd_fast.enet_coordinate_descent_gram(\n",
      "D:\\Anaconda\\Lib\\site-packages\\sklearn\\linear_model\\_coordinate_descent.py:617: UserWarning: Coordinate descent without L1 regularization may lead to unexpected results and is discouraged. Set l1_ratio > 0 to add L1 regularization.\n",
      "  model = cd_fast.enet_coordinate_descent_gram(\n",
      "D:\\Anaconda\\Lib\\site-packages\\sklearn\\linear_model\\_coordinate_descent.py:617: ConvergenceWarning: Objective did not converge. You might want to increase the number of iterations. Duality gap: 913600.2234493146, tolerance: 505.02214358974373\n",
      "  model = cd_fast.enet_coordinate_descent_gram(\n",
      "D:\\Anaconda\\Lib\\site-packages\\sklearn\\linear_model\\_coordinate_descent.py:617: UserWarning: Coordinate descent without L1 regularization may lead to unexpected results and is discouraged. Set l1_ratio > 0 to add L1 regularization.\n",
      "  model = cd_fast.enet_coordinate_descent_gram(\n",
      "D:\\Anaconda\\Lib\\site-packages\\sklearn\\linear_model\\_coordinate_descent.py:617: ConvergenceWarning: Objective did not converge. You might want to increase the number of iterations. Duality gap: 832869.238065721, tolerance: 505.02214358974373\n",
      "  model = cd_fast.enet_coordinate_descent_gram(\n",
      "D:\\Anaconda\\Lib\\site-packages\\sklearn\\linear_model\\_coordinate_descent.py:617: UserWarning: Coordinate descent without L1 regularization may lead to unexpected results and is discouraged. Set l1_ratio > 0 to add L1 regularization.\n",
      "  model = cd_fast.enet_coordinate_descent_gram(\n",
      "D:\\Anaconda\\Lib\\site-packages\\sklearn\\linear_model\\_coordinate_descent.py:617: ConvergenceWarning: Objective did not converge. You might want to increase the number of iterations. Duality gap: 743622.9936755977, tolerance: 505.02214358974373\n",
      "  model = cd_fast.enet_coordinate_descent_gram(\n",
      "D:\\Anaconda\\Lib\\site-packages\\sklearn\\linear_model\\_coordinate_descent.py:617: UserWarning: Coordinate descent without L1 regularization may lead to unexpected results and is discouraged. Set l1_ratio > 0 to add L1 regularization.\n",
      "  model = cd_fast.enet_coordinate_descent_gram(\n",
      "D:\\Anaconda\\Lib\\site-packages\\sklearn\\linear_model\\_coordinate_descent.py:617: ConvergenceWarning: Objective did not converge. You might want to increase the number of iterations. Duality gap: 644439.2373560724, tolerance: 505.02214358974373\n",
      "  model = cd_fast.enet_coordinate_descent_gram(\n",
      "D:\\Anaconda\\Lib\\site-packages\\sklearn\\linear_model\\_coordinate_descent.py:617: UserWarning: Coordinate descent without L1 regularization may lead to unexpected results and is discouraged. Set l1_ratio > 0 to add L1 regularization.\n",
      "  model = cd_fast.enet_coordinate_descent_gram(\n",
      "D:\\Anaconda\\Lib\\site-packages\\sklearn\\linear_model\\_coordinate_descent.py:617: ConvergenceWarning: Objective did not converge. You might want to increase the number of iterations. Duality gap: 533560.308576582, tolerance: 505.02214358974373\n",
      "  model = cd_fast.enet_coordinate_descent_gram(\n",
      "D:\\Anaconda\\Lib\\site-packages\\sklearn\\linear_model\\_coordinate_descent.py:617: UserWarning: Coordinate descent without L1 regularization may lead to unexpected results and is discouraged. Set l1_ratio > 0 to add L1 regularization.\n",
      "  model = cd_fast.enet_coordinate_descent_gram(\n",
      "D:\\Anaconda\\Lib\\site-packages\\sklearn\\linear_model\\_coordinate_descent.py:617: ConvergenceWarning: Objective did not converge. You might want to increase the number of iterations. Duality gap: 408788.07141505356, tolerance: 505.02214358974373\n",
      "  model = cd_fast.enet_coordinate_descent_gram(\n",
      "D:\\Anaconda\\Lib\\site-packages\\sklearn\\linear_model\\_coordinate_descent.py:617: UserWarning: Coordinate descent without L1 regularization may lead to unexpected results and is discouraged. Set l1_ratio > 0 to add L1 regularization.\n",
      "  model = cd_fast.enet_coordinate_descent_gram(\n",
      "D:\\Anaconda\\Lib\\site-packages\\sklearn\\linear_model\\_coordinate_descent.py:617: UserWarning: Coordinate descent without L1 regularization may lead to unexpected results and is discouraged. Set l1_ratio > 0 to add L1 regularization.\n",
      "  model = cd_fast.enet_coordinate_descent_gram(\n",
      "D:\\Anaconda\\Lib\\site-packages\\sklearn\\linear_model\\_coordinate_descent.py:617: UserWarning: Coordinate descent without L1 regularization may lead to unexpected results and is discouraged. Set l1_ratio > 0 to add L1 regularization.\n",
      "  model = cd_fast.enet_coordinate_descent_gram(\n",
      "D:\\Anaconda\\Lib\\site-packages\\sklearn\\linear_model\\_coordinate_descent.py:617: UserWarning: Coordinate descent without L1 regularization may lead to unexpected results and is discouraged. Set l1_ratio > 0 to add L1 regularization.\n",
      "  model = cd_fast.enet_coordinate_descent_gram(\n",
      "D:\\Anaconda\\Lib\\site-packages\\sklearn\\linear_model\\_coordinate_descent.py:617: ConvergenceWarning: Objective did not converge. You might want to increase the number of iterations. Duality gap: 760827.5719840431, tolerance: 161.88624\n",
      "  model = cd_fast.enet_coordinate_descent_gram(\n",
      "D:\\Anaconda\\Lib\\site-packages\\sklearn\\linear_model\\_coordinate_descent.py:617: UserWarning: Coordinate descent without L1 regularization may lead to unexpected results and is discouraged. Set l1_ratio > 0 to add L1 regularization.\n",
      "  model = cd_fast.enet_coordinate_descent_gram(\n",
      "D:\\Anaconda\\Lib\\site-packages\\sklearn\\linear_model\\_coordinate_descent.py:617: UserWarning: Coordinate descent without L1 regularization may lead to unexpected results and is discouraged. Set l1_ratio > 0 to add L1 regularization.\n",
      "  model = cd_fast.enet_coordinate_descent_gram(\n",
      "D:\\Anaconda\\Lib\\site-packages\\sklearn\\linear_model\\_coordinate_descent.py:617: UserWarning: Coordinate descent without L1 regularization may lead to unexpected results and is discouraged. Set l1_ratio > 0 to add L1 regularization.\n",
      "  model = cd_fast.enet_coordinate_descent_gram(\n",
      "D:\\Anaconda\\Lib\\site-packages\\sklearn\\linear_model\\_coordinate_descent.py:617: UserWarning: Coordinate descent without L1 regularization may lead to unexpected results and is discouraged. Set l1_ratio > 0 to add L1 regularization.\n",
      "  model = cd_fast.enet_coordinate_descent_gram(\n",
      "D:\\Anaconda\\Lib\\site-packages\\sklearn\\linear_model\\_coordinate_descent.py:617: UserWarning: Coordinate descent without L1 regularization may lead to unexpected results and is discouraged. Set l1_ratio > 0 to add L1 regularization.\n",
      "  model = cd_fast.enet_coordinate_descent_gram(\n",
      "D:\\Anaconda\\Lib\\site-packages\\sklearn\\linear_model\\_coordinate_descent.py:617: UserWarning: Coordinate descent without L1 regularization may lead to unexpected results and is discouraged. Set l1_ratio > 0 to add L1 regularization.\n",
      "  model = cd_fast.enet_coordinate_descent_gram(\n",
      "D:\\Anaconda\\Lib\\site-packages\\sklearn\\linear_model\\_coordinate_descent.py:617: UserWarning: Coordinate descent without L1 regularization may lead to unexpected results and is discouraged. Set l1_ratio > 0 to add L1 regularization.\n",
      "  model = cd_fast.enet_coordinate_descent_gram(\n",
      "D:\\Anaconda\\Lib\\site-packages\\sklearn\\linear_model\\_coordinate_descent.py:617: UserWarning: Coordinate descent without L1 regularization may lead to unexpected results and is discouraged. Set l1_ratio > 0 to add L1 regularization.\n",
      "  model = cd_fast.enet_coordinate_descent_gram(\n",
      "D:\\Anaconda\\Lib\\site-packages\\sklearn\\linear_model\\_coordinate_descent.py:617: ConvergenceWarning: Objective did not converge. You might want to increase the number of iterations. Duality gap: 756847.8074361449, tolerance: 161.88624\n",
      "  model = cd_fast.enet_coordinate_descent_gram(\n",
      "D:\\Anaconda\\Lib\\site-packages\\sklearn\\linear_model\\_coordinate_descent.py:617: UserWarning: Coordinate descent without L1 regularization may lead to unexpected results and is discouraged. Set l1_ratio > 0 to add L1 regularization.\n",
      "  model = cd_fast.enet_coordinate_descent_gram(\n",
      "D:\\Anaconda\\Lib\\site-packages\\sklearn\\linear_model\\_coordinate_descent.py:617: UserWarning: Coordinate descent without L1 regularization may lead to unexpected results and is discouraged. Set l1_ratio > 0 to add L1 regularization.\n",
      "  model = cd_fast.enet_coordinate_descent_gram(\n",
      "D:\\Anaconda\\Lib\\site-packages\\sklearn\\linear_model\\_coordinate_descent.py:617: ConvergenceWarning: Objective did not converge. You might want to increase the number of iterations. Duality gap: 755748.9033534415, tolerance: 161.88624\n",
      "  model = cd_fast.enet_coordinate_descent_gram(\n",
      "D:\\Anaconda\\Lib\\site-packages\\sklearn\\linear_model\\_coordinate_descent.py:617: UserWarning: Coordinate descent without L1 regularization may lead to unexpected results and is discouraged. Set l1_ratio > 0 to add L1 regularization.\n",
      "  model = cd_fast.enet_coordinate_descent_gram(\n",
      "D:\\Anaconda\\Lib\\site-packages\\sklearn\\linear_model\\_coordinate_descent.py:617: UserWarning: Coordinate descent without L1 regularization may lead to unexpected results and is discouraged. Set l1_ratio > 0 to add L1 regularization.\n",
      "  model = cd_fast.enet_coordinate_descent_gram(\n",
      "D:\\Anaconda\\Lib\\site-packages\\sklearn\\linear_model\\_coordinate_descent.py:617: UserWarning: Coordinate descent without L1 regularization may lead to unexpected results and is discouraged. Set l1_ratio > 0 to add L1 regularization.\n",
      "  model = cd_fast.enet_coordinate_descent_gram(\n",
      "D:\\Anaconda\\Lib\\site-packages\\sklearn\\linear_model\\_coordinate_descent.py:617: UserWarning: Coordinate descent without L1 regularization may lead to unexpected results and is discouraged. Set l1_ratio > 0 to add L1 regularization.\n",
      "  model = cd_fast.enet_coordinate_descent_gram(\n",
      "D:\\Anaconda\\Lib\\site-packages\\sklearn\\linear_model\\_coordinate_descent.py:617: UserWarning: Coordinate descent without L1 regularization may lead to unexpected results and is discouraged. Set l1_ratio > 0 to add L1 regularization.\n",
      "  model = cd_fast.enet_coordinate_descent_gram(\n",
      "D:\\Anaconda\\Lib\\site-packages\\sklearn\\linear_model\\_coordinate_descent.py:617: ConvergenceWarning: Objective did not converge. You might want to increase the number of iterations. Duality gap: 752789.6199899625, tolerance: 161.88624\n",
      "  model = cd_fast.enet_coordinate_descent_gram(\n",
      "D:\\Anaconda\\Lib\\site-packages\\sklearn\\linear_model\\_coordinate_descent.py:617: UserWarning: Coordinate descent without L1 regularization may lead to unexpected results and is discouraged. Set l1_ratio > 0 to add L1 regularization.\n",
      "  model = cd_fast.enet_coordinate_descent_gram(\n",
      "D:\\Anaconda\\Lib\\site-packages\\sklearn\\linear_model\\_coordinate_descent.py:617: ConvergenceWarning: Objective did not converge. You might want to increase the number of iterations. Duality gap: 752158.1749106322, tolerance: 161.88624\n",
      "  model = cd_fast.enet_coordinate_descent_gram(\n",
      "D:\\Anaconda\\Lib\\site-packages\\sklearn\\linear_model\\_coordinate_descent.py:617: UserWarning: Coordinate descent without L1 regularization may lead to unexpected results and is discouraged. Set l1_ratio > 0 to add L1 regularization.\n",
      "  model = cd_fast.enet_coordinate_descent_gram(\n",
      "D:\\Anaconda\\Lib\\site-packages\\sklearn\\linear_model\\_coordinate_descent.py:617: UserWarning: Coordinate descent without L1 regularization may lead to unexpected results and is discouraged. Set l1_ratio > 0 to add L1 regularization.\n",
      "  model = cd_fast.enet_coordinate_descent_gram(\n",
      "D:\\Anaconda\\Lib\\site-packages\\sklearn\\linear_model\\_coordinate_descent.py:617: UserWarning: Coordinate descent without L1 regularization may lead to unexpected results and is discouraged. Set l1_ratio > 0 to add L1 regularization.\n",
      "  model = cd_fast.enet_coordinate_descent_gram(\n",
      "D:\\Anaconda\\Lib\\site-packages\\sklearn\\linear_model\\_coordinate_descent.py:617: UserWarning: Coordinate descent without L1 regularization may lead to unexpected results and is discouraged. Set l1_ratio > 0 to add L1 regularization.\n",
      "  model = cd_fast.enet_coordinate_descent_gram(\n",
      "D:\\Anaconda\\Lib\\site-packages\\sklearn\\linear_model\\_coordinate_descent.py:617: ConvergenceWarning: Objective did not converge. You might want to increase the number of iterations. Duality gap: 749485.0354521825, tolerance: 161.88624\n",
      "  model = cd_fast.enet_coordinate_descent_gram(\n",
      "D:\\Anaconda\\Lib\\site-packages\\sklearn\\linear_model\\_coordinate_descent.py:617: UserWarning: Coordinate descent without L1 regularization may lead to unexpected results and is discouraged. Set l1_ratio > 0 to add L1 regularization.\n",
      "  model = cd_fast.enet_coordinate_descent_gram(\n",
      "D:\\Anaconda\\Lib\\site-packages\\sklearn\\linear_model\\_coordinate_descent.py:617: UserWarning: Coordinate descent without L1 regularization may lead to unexpected results and is discouraged. Set l1_ratio > 0 to add L1 regularization.\n",
      "  model = cd_fast.enet_coordinate_descent_gram(\n",
      "D:\\Anaconda\\Lib\\site-packages\\sklearn\\linear_model\\_coordinate_descent.py:617: UserWarning: Coordinate descent without L1 regularization may lead to unexpected results and is discouraged. Set l1_ratio > 0 to add L1 regularization.\n",
      "  model = cd_fast.enet_coordinate_descent_gram(\n",
      "D:\\Anaconda\\Lib\\site-packages\\sklearn\\linear_model\\_coordinate_descent.py:617: ConvergenceWarning: Objective did not converge. You might want to increase the number of iterations. Duality gap: 747310.4864794364, tolerance: 161.88624\n",
      "  model = cd_fast.enet_coordinate_descent_gram(\n",
      "D:\\Anaconda\\Lib\\site-packages\\sklearn\\linear_model\\_coordinate_descent.py:617: UserWarning: Coordinate descent without L1 regularization may lead to unexpected results and is discouraged. Set l1_ratio > 0 to add L1 regularization.\n",
      "  model = cd_fast.enet_coordinate_descent_gram(\n",
      "D:\\Anaconda\\Lib\\site-packages\\sklearn\\linear_model\\_coordinate_descent.py:617: ConvergenceWarning: Objective did not converge. You might want to increase the number of iterations. Duality gap: 746550.1491244218, tolerance: 161.88624\n",
      "  model = cd_fast.enet_coordinate_descent_gram(\n",
      "D:\\Anaconda\\Lib\\site-packages\\sklearn\\linear_model\\_coordinate_descent.py:617: UserWarning: Coordinate descent without L1 regularization may lead to unexpected results and is discouraged. Set l1_ratio > 0 to add L1 regularization.\n",
      "  model = cd_fast.enet_coordinate_descent_gram(\n",
      "D:\\Anaconda\\Lib\\site-packages\\sklearn\\linear_model\\_coordinate_descent.py:617: UserWarning: Coordinate descent without L1 regularization may lead to unexpected results and is discouraged. Set l1_ratio > 0 to add L1 regularization.\n",
      "  model = cd_fast.enet_coordinate_descent_gram(\n",
      "D:\\Anaconda\\Lib\\site-packages\\sklearn\\linear_model\\_coordinate_descent.py:617: UserWarning: Coordinate descent without L1 regularization may lead to unexpected results and is discouraged. Set l1_ratio > 0 to add L1 regularization.\n",
      "  model = cd_fast.enet_coordinate_descent_gram(\n",
      "D:\\Anaconda\\Lib\\site-packages\\sklearn\\linear_model\\_coordinate_descent.py:617: ConvergenceWarning: Objective did not converge. You might want to increase the number of iterations. Duality gap: 744153.20475102, tolerance: 161.88624\n",
      "  model = cd_fast.enet_coordinate_descent_gram(\n",
      "D:\\Anaconda\\Lib\\site-packages\\sklearn\\linear_model\\_coordinate_descent.py:617: UserWarning: Coordinate descent without L1 regularization may lead to unexpected results and is discouraged. Set l1_ratio > 0 to add L1 regularization.\n",
      "  model = cd_fast.enet_coordinate_descent_gram(\n",
      "D:\\Anaconda\\Lib\\site-packages\\sklearn\\linear_model\\_coordinate_descent.py:617: UserWarning: Coordinate descent without L1 regularization may lead to unexpected results and is discouraged. Set l1_ratio > 0 to add L1 regularization.\n",
      "  model = cd_fast.enet_coordinate_descent_gram(\n",
      "D:\\Anaconda\\Lib\\site-packages\\sklearn\\linear_model\\_coordinate_descent.py:617: ConvergenceWarning: Objective did not converge. You might want to increase the number of iterations. Duality gap: 742451.0742108491, tolerance: 161.88624\n",
      "  model = cd_fast.enet_coordinate_descent_gram(\n",
      "D:\\Anaconda\\Lib\\site-packages\\sklearn\\linear_model\\_coordinate_descent.py:617: UserWarning: Coordinate descent without L1 regularization may lead to unexpected results and is discouraged. Set l1_ratio > 0 to add L1 regularization.\n",
      "  model = cd_fast.enet_coordinate_descent_gram(\n",
      "D:\\Anaconda\\Lib\\site-packages\\sklearn\\linear_model\\_coordinate_descent.py:617: ConvergenceWarning: Objective did not converge. You might want to increase the number of iterations. Duality gap: 741566.2817977422, tolerance: 161.88624\n",
      "  model = cd_fast.enet_coordinate_descent_gram(\n",
      "D:\\Anaconda\\Lib\\site-packages\\sklearn\\linear_model\\_coordinate_descent.py:617: UserWarning: Coordinate descent without L1 regularization may lead to unexpected results and is discouraged. Set l1_ratio > 0 to add L1 regularization.\n",
      "  model = cd_fast.enet_coordinate_descent_gram(\n",
      "D:\\Anaconda\\Lib\\site-packages\\sklearn\\linear_model\\_coordinate_descent.py:617: ConvergenceWarning: Objective did not converge. You might want to increase the number of iterations. Duality gap: 740657.800643712, tolerance: 161.88624\n",
      "  model = cd_fast.enet_coordinate_descent_gram(\n",
      "D:\\Anaconda\\Lib\\site-packages\\sklearn\\linear_model\\_coordinate_descent.py:617: UserWarning: Coordinate descent without L1 regularization may lead to unexpected results and is discouraged. Set l1_ratio > 0 to add L1 regularization.\n",
      "  model = cd_fast.enet_coordinate_descent_gram(\n",
      "D:\\Anaconda\\Lib\\site-packages\\sklearn\\linear_model\\_coordinate_descent.py:617: UserWarning: Coordinate descent without L1 regularization may lead to unexpected results and is discouraged. Set l1_ratio > 0 to add L1 regularization.\n",
      "  model = cd_fast.enet_coordinate_descent_gram(\n",
      "D:\\Anaconda\\Lib\\site-packages\\sklearn\\linear_model\\_coordinate_descent.py:617: ConvergenceWarning: Objective did not converge. You might want to increase the number of iterations. Duality gap: 738765.862085799, tolerance: 161.88624\n",
      "  model = cd_fast.enet_coordinate_descent_gram(\n",
      "D:\\Anaconda\\Lib\\site-packages\\sklearn\\linear_model\\_coordinate_descent.py:617: UserWarning: Coordinate descent without L1 regularization may lead to unexpected results and is discouraged. Set l1_ratio > 0 to add L1 regularization.\n",
      "  model = cd_fast.enet_coordinate_descent_gram(\n",
      "D:\\Anaconda\\Lib\\site-packages\\sklearn\\linear_model\\_coordinate_descent.py:617: UserWarning: Coordinate descent without L1 regularization may lead to unexpected results and is discouraged. Set l1_ratio > 0 to add L1 regularization.\n",
      "  model = cd_fast.enet_coordinate_descent_gram(\n",
      "D:\\Anaconda\\Lib\\site-packages\\sklearn\\linear_model\\_coordinate_descent.py:617: UserWarning: Coordinate descent without L1 regularization may lead to unexpected results and is discouraged. Set l1_ratio > 0 to add L1 regularization.\n",
      "  model = cd_fast.enet_coordinate_descent_gram(\n",
      "D:\\Anaconda\\Lib\\site-packages\\sklearn\\linear_model\\_coordinate_descent.py:617: UserWarning: Coordinate descent without L1 regularization may lead to unexpected results and is discouraged. Set l1_ratio > 0 to add L1 regularization.\n",
      "  model = cd_fast.enet_coordinate_descent_gram(\n",
      "D:\\Anaconda\\Lib\\site-packages\\sklearn\\linear_model\\_coordinate_descent.py:617: ConvergenceWarning: Objective did not converge. You might want to increase the number of iterations. Duality gap: 734651.5226384905, tolerance: 161.88624\n",
      "  model = cd_fast.enet_coordinate_descent_gram(\n",
      "D:\\Anaconda\\Lib\\site-packages\\sklearn\\linear_model\\_coordinate_descent.py:617: UserWarning: Coordinate descent without L1 regularization may lead to unexpected results and is discouraged. Set l1_ratio > 0 to add L1 regularization.\n",
      "  model = cd_fast.enet_coordinate_descent_gram(\n",
      "D:\\Anaconda\\Lib\\site-packages\\sklearn\\linear_model\\_coordinate_descent.py:617: UserWarning: Coordinate descent without L1 regularization may lead to unexpected results and is discouraged. Set l1_ratio > 0 to add L1 regularization.\n",
      "  model = cd_fast.enet_coordinate_descent_gram(\n",
      "D:\\Anaconda\\Lib\\site-packages\\sklearn\\linear_model\\_coordinate_descent.py:617: UserWarning: Coordinate descent without L1 regularization may lead to unexpected results and is discouraged. Set l1_ratio > 0 to add L1 regularization.\n",
      "  model = cd_fast.enet_coordinate_descent_gram(\n",
      "D:\\Anaconda\\Lib\\site-packages\\sklearn\\linear_model\\_coordinate_descent.py:617: ConvergenceWarning: Objective did not converge. You might want to increase the number of iterations. Duality gap: 731237.0042151279, tolerance: 161.88624\n",
      "  model = cd_fast.enet_coordinate_descent_gram(\n",
      "D:\\Anaconda\\Lib\\site-packages\\sklearn\\linear_model\\_coordinate_descent.py:617: UserWarning: Coordinate descent without L1 regularization may lead to unexpected results and is discouraged. Set l1_ratio > 0 to add L1 regularization.\n",
      "  model = cd_fast.enet_coordinate_descent_gram(\n",
      "D:\\Anaconda\\Lib\\site-packages\\sklearn\\linear_model\\_coordinate_descent.py:617: UserWarning: Coordinate descent without L1 regularization may lead to unexpected results and is discouraged. Set l1_ratio > 0 to add L1 regularization.\n",
      "  model = cd_fast.enet_coordinate_descent_gram(\n",
      "D:\\Anaconda\\Lib\\site-packages\\sklearn\\linear_model\\_coordinate_descent.py:617: ConvergenceWarning: Objective did not converge. You might want to increase the number of iterations. Duality gap: 728781.9857980149, tolerance: 161.88624\n",
      "  model = cd_fast.enet_coordinate_descent_gram(\n",
      "D:\\Anaconda\\Lib\\site-packages\\sklearn\\linear_model\\_coordinate_descent.py:617: UserWarning: Coordinate descent without L1 regularization may lead to unexpected results and is discouraged. Set l1_ratio > 0 to add L1 regularization.\n",
      "  model = cd_fast.enet_coordinate_descent_gram(\n",
      "D:\\Anaconda\\Lib\\site-packages\\sklearn\\linear_model\\_coordinate_descent.py:617: UserWarning: Coordinate descent without L1 regularization may lead to unexpected results and is discouraged. Set l1_ratio > 0 to add L1 regularization.\n",
      "  model = cd_fast.enet_coordinate_descent_gram(\n",
      "D:\\Anaconda\\Lib\\site-packages\\sklearn\\linear_model\\_coordinate_descent.py:617: ConvergenceWarning: Objective did not converge. You might want to increase the number of iterations. Duality gap: 726167.8128815312, tolerance: 161.88624\n",
      "  model = cd_fast.enet_coordinate_descent_gram(\n",
      "D:\\Anaconda\\Lib\\site-packages\\sklearn\\linear_model\\_coordinate_descent.py:617: UserWarning: Coordinate descent without L1 regularization may lead to unexpected results and is discouraged. Set l1_ratio > 0 to add L1 regularization.\n",
      "  model = cd_fast.enet_coordinate_descent_gram(\n",
      "D:\\Anaconda\\Lib\\site-packages\\sklearn\\linear_model\\_coordinate_descent.py:617: UserWarning: Coordinate descent without L1 regularization may lead to unexpected results and is discouraged. Set l1_ratio > 0 to add L1 regularization.\n",
      "  model = cd_fast.enet_coordinate_descent_gram(\n",
      "D:\\Anaconda\\Lib\\site-packages\\sklearn\\linear_model\\_coordinate_descent.py:617: ConvergenceWarning: Objective did not converge. You might want to increase the number of iterations. Duality gap: 723378.4904444038, tolerance: 161.88624\n",
      "  model = cd_fast.enet_coordinate_descent_gram(\n",
      "D:\\Anaconda\\Lib\\site-packages\\sklearn\\linear_model\\_coordinate_descent.py:617: UserWarning: Coordinate descent without L1 regularization may lead to unexpected results and is discouraged. Set l1_ratio > 0 to add L1 regularization.\n",
      "  model = cd_fast.enet_coordinate_descent_gram(\n",
      "D:\\Anaconda\\Lib\\site-packages\\sklearn\\linear_model\\_coordinate_descent.py:617: UserWarning: Coordinate descent without L1 regularization may lead to unexpected results and is discouraged. Set l1_ratio > 0 to add L1 regularization.\n",
      "  model = cd_fast.enet_coordinate_descent_gram(\n",
      "D:\\Anaconda\\Lib\\site-packages\\sklearn\\linear_model\\_coordinate_descent.py:617: UserWarning: Coordinate descent without L1 regularization may lead to unexpected results and is discouraged. Set l1_ratio > 0 to add L1 regularization.\n",
      "  model = cd_fast.enet_coordinate_descent_gram(\n",
      "D:\\Anaconda\\Lib\\site-packages\\sklearn\\linear_model\\_coordinate_descent.py:617: ConvergenceWarning: Objective did not converge. You might want to increase the number of iterations. Duality gap: 718825.5586499954, tolerance: 161.88624\n",
      "  model = cd_fast.enet_coordinate_descent_gram(\n",
      "D:\\Anaconda\\Lib\\site-packages\\sklearn\\linear_model\\_coordinate_descent.py:617: UserWarning: Coordinate descent without L1 regularization may lead to unexpected results and is discouraged. Set l1_ratio > 0 to add L1 regularization.\n",
      "  model = cd_fast.enet_coordinate_descent_gram(\n",
      "D:\\Anaconda\\Lib\\site-packages\\sklearn\\linear_model\\_coordinate_descent.py:617: UserWarning: Coordinate descent without L1 regularization may lead to unexpected results and is discouraged. Set l1_ratio > 0 to add L1 regularization.\n",
      "  model = cd_fast.enet_coordinate_descent_gram(\n",
      "D:\\Anaconda\\Lib\\site-packages\\sklearn\\linear_model\\_coordinate_descent.py:617: UserWarning: Coordinate descent without L1 regularization may lead to unexpected results and is discouraged. Set l1_ratio > 0 to add L1 regularization.\n",
      "  model = cd_fast.enet_coordinate_descent_gram(\n",
      "D:\\Anaconda\\Lib\\site-packages\\sklearn\\linear_model\\_coordinate_descent.py:617: UserWarning: Coordinate descent without L1 regularization may lead to unexpected results and is discouraged. Set l1_ratio > 0 to add L1 regularization.\n",
      "  model = cd_fast.enet_coordinate_descent_gram(\n",
      "D:\\Anaconda\\Lib\\site-packages\\sklearn\\linear_model\\_coordinate_descent.py:617: ConvergenceWarning: Objective did not converge. You might want to increase the number of iterations. Duality gap: 711948.6677661142, tolerance: 161.88624\n",
      "  model = cd_fast.enet_coordinate_descent_gram(\n",
      "D:\\Anaconda\\Lib\\site-packages\\sklearn\\linear_model\\_coordinate_descent.py:617: UserWarning: Coordinate descent without L1 regularization may lead to unexpected results and is discouraged. Set l1_ratio > 0 to add L1 regularization.\n",
      "  model = cd_fast.enet_coordinate_descent_gram(\n",
      "D:\\Anaconda\\Lib\\site-packages\\sklearn\\linear_model\\_coordinate_descent.py:617: ConvergenceWarning: Objective did not converge. You might want to increase the number of iterations. Duality gap: 710063.1807940981, tolerance: 161.88624\n",
      "  model = cd_fast.enet_coordinate_descent_gram(\n",
      "D:\\Anaconda\\Lib\\site-packages\\sklearn\\linear_model\\_coordinate_descent.py:617: UserWarning: Coordinate descent without L1 regularization may lead to unexpected results and is discouraged. Set l1_ratio > 0 to add L1 regularization.\n",
      "  model = cd_fast.enet_coordinate_descent_gram(\n",
      "D:\\Anaconda\\Lib\\site-packages\\sklearn\\linear_model\\_coordinate_descent.py:617: ConvergenceWarning: Objective did not converge. You might want to increase the number of iterations. Duality gap: 708103.317859689, tolerance: 161.88624\n",
      "  model = cd_fast.enet_coordinate_descent_gram(\n",
      "D:\\Anaconda\\Lib\\site-packages\\sklearn\\linear_model\\_coordinate_descent.py:617: UserWarning: Coordinate descent without L1 regularization may lead to unexpected results and is discouraged. Set l1_ratio > 0 to add L1 regularization.\n",
      "  model = cd_fast.enet_coordinate_descent_gram(\n",
      "D:\\Anaconda\\Lib\\site-packages\\sklearn\\linear_model\\_coordinate_descent.py:617: UserWarning: Coordinate descent without L1 regularization may lead to unexpected results and is discouraged. Set l1_ratio > 0 to add L1 regularization.\n",
      "  model = cd_fast.enet_coordinate_descent_gram(\n",
      "D:\\Anaconda\\Lib\\site-packages\\sklearn\\linear_model\\_coordinate_descent.py:617: ConvergenceWarning: Objective did not converge. You might want to increase the number of iterations. Duality gap: 703942.1379478041, tolerance: 161.88624\n",
      "  model = cd_fast.enet_coordinate_descent_gram(\n",
      "D:\\Anaconda\\Lib\\site-packages\\sklearn\\linear_model\\_coordinate_descent.py:617: UserWarning: Coordinate descent without L1 regularization may lead to unexpected results and is discouraged. Set l1_ratio > 0 to add L1 regularization.\n",
      "  model = cd_fast.enet_coordinate_descent_gram(\n",
      "D:\\Anaconda\\Lib\\site-packages\\sklearn\\linear_model\\_coordinate_descent.py:617: ConvergenceWarning: Objective did not converge. You might want to increase the number of iterations. Duality gap: 701730.697432532, tolerance: 161.88624\n",
      "  model = cd_fast.enet_coordinate_descent_gram(\n",
      "D:\\Anaconda\\Lib\\site-packages\\sklearn\\linear_model\\_coordinate_descent.py:617: UserWarning: Coordinate descent without L1 regularization may lead to unexpected results and is discouraged. Set l1_ratio > 0 to add L1 regularization.\n",
      "  model = cd_fast.enet_coordinate_descent_gram(\n",
      "D:\\Anaconda\\Lib\\site-packages\\sklearn\\linear_model\\_coordinate_descent.py:617: ConvergenceWarning: Objective did not converge. You might want to increase the number of iterations. Duality gap: 699424.5516155727, tolerance: 161.88624\n",
      "  model = cd_fast.enet_coordinate_descent_gram(\n",
      "D:\\Anaconda\\Lib\\site-packages\\sklearn\\linear_model\\_coordinate_descent.py:617: UserWarning: Coordinate descent without L1 regularization may lead to unexpected results and is discouraged. Set l1_ratio > 0 to add L1 regularization.\n",
      "  model = cd_fast.enet_coordinate_descent_gram(\n",
      "D:\\Anaconda\\Lib\\site-packages\\sklearn\\linear_model\\_coordinate_descent.py:617: UserWarning: Coordinate descent without L1 regularization may lead to unexpected results and is discouraged. Set l1_ratio > 0 to add L1 regularization.\n",
      "  model = cd_fast.enet_coordinate_descent_gram(\n",
      "D:\\Anaconda\\Lib\\site-packages\\sklearn\\linear_model\\_coordinate_descent.py:617: ConvergenceWarning: Objective did not converge. You might want to increase the number of iterations. Duality gap: 694502.7206959733, tolerance: 161.88624\n",
      "  model = cd_fast.enet_coordinate_descent_gram(\n",
      "D:\\Anaconda\\Lib\\site-packages\\sklearn\\linear_model\\_coordinate_descent.py:617: UserWarning: Coordinate descent without L1 regularization may lead to unexpected results and is discouraged. Set l1_ratio > 0 to add L1 regularization.\n",
      "  model = cd_fast.enet_coordinate_descent_gram(\n",
      "D:\\Anaconda\\Lib\\site-packages\\sklearn\\linear_model\\_coordinate_descent.py:617: ConvergenceWarning: Objective did not converge. You might want to increase the number of iterations. Duality gap: 691872.8695266221, tolerance: 161.88624\n",
      "  model = cd_fast.enet_coordinate_descent_gram(\n",
      "D:\\Anaconda\\Lib\\site-packages\\sklearn\\linear_model\\_coordinate_descent.py:617: UserWarning: Coordinate descent without L1 regularization may lead to unexpected results and is discouraged. Set l1_ratio > 0 to add L1 regularization.\n",
      "  model = cd_fast.enet_coordinate_descent_gram(\n",
      "D:\\Anaconda\\Lib\\site-packages\\sklearn\\linear_model\\_coordinate_descent.py:617: ConvergenceWarning: Objective did not converge. You might want to increase the number of iterations. Duality gap: 689119.8446856454, tolerance: 161.88624\n",
      "  model = cd_fast.enet_coordinate_descent_gram(\n",
      "D:\\Anaconda\\Lib\\site-packages\\sklearn\\linear_model\\_coordinate_descent.py:617: UserWarning: Coordinate descent without L1 regularization may lead to unexpected results and is discouraged. Set l1_ratio > 0 to add L1 regularization.\n",
      "  model = cd_fast.enet_coordinate_descent_gram(\n",
      "D:\\Anaconda\\Lib\\site-packages\\sklearn\\linear_model\\_coordinate_descent.py:617: ConvergenceWarning: Objective did not converge. You might want to increase the number of iterations. Duality gap: 686234.7850796675, tolerance: 161.88624\n",
      "  model = cd_fast.enet_coordinate_descent_gram(\n",
      "D:\\Anaconda\\Lib\\site-packages\\sklearn\\linear_model\\_coordinate_descent.py:617: UserWarning: Coordinate descent without L1 regularization may lead to unexpected results and is discouraged. Set l1_ratio > 0 to add L1 regularization.\n",
      "  model = cd_fast.enet_coordinate_descent_gram(\n",
      "D:\\Anaconda\\Lib\\site-packages\\sklearn\\linear_model\\_coordinate_descent.py:617: UserWarning: Coordinate descent without L1 regularization may lead to unexpected results and is discouraged. Set l1_ratio > 0 to add L1 regularization.\n",
      "  model = cd_fast.enet_coordinate_descent_gram(\n",
      "D:\\Anaconda\\Lib\\site-packages\\sklearn\\linear_model\\_coordinate_descent.py:617: ConvergenceWarning: Objective did not converge. You might want to increase the number of iterations. Duality gap: 680028.6533426185, tolerance: 161.88624\n",
      "  model = cd_fast.enet_coordinate_descent_gram(\n",
      "D:\\Anaconda\\Lib\\site-packages\\sklearn\\linear_model\\_coordinate_descent.py:617: UserWarning: Coordinate descent without L1 regularization may lead to unexpected results and is discouraged. Set l1_ratio > 0 to add L1 regularization.\n",
      "  model = cd_fast.enet_coordinate_descent_gram(\n",
      "D:\\Anaconda\\Lib\\site-packages\\sklearn\\linear_model\\_coordinate_descent.py:617: ConvergenceWarning: Objective did not converge. You might want to increase the number of iterations. Duality gap: 676685.0491463576, tolerance: 161.88624\n",
      "  model = cd_fast.enet_coordinate_descent_gram(\n",
      "D:\\Anaconda\\Lib\\site-packages\\sklearn\\linear_model\\_coordinate_descent.py:617: UserWarning: Coordinate descent without L1 regularization may lead to unexpected results and is discouraged. Set l1_ratio > 0 to add L1 regularization.\n",
      "  model = cd_fast.enet_coordinate_descent_gram(\n",
      "D:\\Anaconda\\Lib\\site-packages\\sklearn\\linear_model\\_coordinate_descent.py:617: ConvergenceWarning: Objective did not converge. You might want to increase the number of iterations. Duality gap: 673164.0725431415, tolerance: 161.88624\n",
      "  model = cd_fast.enet_coordinate_descent_gram(\n",
      "D:\\Anaconda\\Lib\\site-packages\\sklearn\\linear_model\\_coordinate_descent.py:617: UserWarning: Coordinate descent without L1 regularization may lead to unexpected results and is discouraged. Set l1_ratio > 0 to add L1 regularization.\n",
      "  model = cd_fast.enet_coordinate_descent_gram(\n",
      "D:\\Anaconda\\Lib\\site-packages\\sklearn\\linear_model\\_coordinate_descent.py:617: ConvergenceWarning: Objective did not converge. You might want to increase the number of iterations. Duality gap: 669451.2250244899, tolerance: 161.88624\n",
      "  model = cd_fast.enet_coordinate_descent_gram(\n",
      "D:\\Anaconda\\Lib\\site-packages\\sklearn\\linear_model\\_coordinate_descent.py:617: UserWarning: Coordinate descent without L1 regularization may lead to unexpected results and is discouraged. Set l1_ratio > 0 to add L1 regularization.\n",
      "  model = cd_fast.enet_coordinate_descent_gram(\n",
      "D:\\Anaconda\\Lib\\site-packages\\sklearn\\linear_model\\_coordinate_descent.py:617: UserWarning: Coordinate descent without L1 regularization may lead to unexpected results and is discouraged. Set l1_ratio > 0 to add L1 regularization.\n",
      "  model = cd_fast.enet_coordinate_descent_gram(\n",
      "D:\\Anaconda\\Lib\\site-packages\\sklearn\\linear_model\\_coordinate_descent.py:617: ConvergenceWarning: Objective did not converge. You might want to increase the number of iterations. Duality gap: 661383.5670826512, tolerance: 161.88624\n",
      "  model = cd_fast.enet_coordinate_descent_gram(\n",
      "D:\\Anaconda\\Lib\\site-packages\\sklearn\\linear_model\\_coordinate_descent.py:617: UserWarning: Coordinate descent without L1 regularization may lead to unexpected results and is discouraged. Set l1_ratio > 0 to add L1 regularization.\n",
      "  model = cd_fast.enet_coordinate_descent_gram(\n",
      "D:\\Anaconda\\Lib\\site-packages\\sklearn\\linear_model\\_coordinate_descent.py:617: ConvergenceWarning: Objective did not converge. You might want to increase the number of iterations. Duality gap: 656990.6596829969, tolerance: 161.88624\n",
      "  model = cd_fast.enet_coordinate_descent_gram(\n",
      "D:\\Anaconda\\Lib\\site-packages\\sklearn\\linear_model\\_coordinate_descent.py:617: UserWarning: Coordinate descent without L1 regularization may lead to unexpected results and is discouraged. Set l1_ratio > 0 to add L1 regularization.\n",
      "  model = cd_fast.enet_coordinate_descent_gram(\n",
      "D:\\Anaconda\\Lib\\site-packages\\sklearn\\linear_model\\_coordinate_descent.py:617: ConvergenceWarning: Objective did not converge. You might want to increase the number of iterations. Duality gap: 652329.0853759036, tolerance: 161.88624\n",
      "  model = cd_fast.enet_coordinate_descent_gram(\n",
      "D:\\Anaconda\\Lib\\site-packages\\sklearn\\linear_model\\_coordinate_descent.py:617: UserWarning: Coordinate descent without L1 regularization may lead to unexpected results and is discouraged. Set l1_ratio > 0 to add L1 regularization.\n",
      "  model = cd_fast.enet_coordinate_descent_gram(\n",
      "D:\\Anaconda\\Lib\\site-packages\\sklearn\\linear_model\\_coordinate_descent.py:617: ConvergenceWarning: Objective did not converge. You might want to increase the number of iterations. Duality gap: 647373.4194858565, tolerance: 161.88624\n",
      "  model = cd_fast.enet_coordinate_descent_gram(\n",
      "D:\\Anaconda\\Lib\\site-packages\\sklearn\\linear_model\\_coordinate_descent.py:617: UserWarning: Coordinate descent without L1 regularization may lead to unexpected results and is discouraged. Set l1_ratio > 0 to add L1 regularization.\n",
      "  model = cd_fast.enet_coordinate_descent_gram(\n",
      "D:\\Anaconda\\Lib\\site-packages\\sklearn\\linear_model\\_coordinate_descent.py:617: UserWarning: Coordinate descent without L1 regularization may lead to unexpected results and is discouraged. Set l1_ratio > 0 to add L1 regularization.\n",
      "  model = cd_fast.enet_coordinate_descent_gram(\n",
      "D:\\Anaconda\\Lib\\site-packages\\sklearn\\linear_model\\_coordinate_descent.py:617: ConvergenceWarning: Objective did not converge. You might want to increase the number of iterations. Duality gap: 636460.9941343068, tolerance: 161.88624\n",
      "  model = cd_fast.enet_coordinate_descent_gram(\n",
      "D:\\Anaconda\\Lib\\site-packages\\sklearn\\linear_model\\_coordinate_descent.py:617: UserWarning: Coordinate descent without L1 regularization may lead to unexpected results and is discouraged. Set l1_ratio > 0 to add L1 regularization.\n",
      "  model = cd_fast.enet_coordinate_descent_gram(\n",
      "D:\\Anaconda\\Lib\\site-packages\\sklearn\\linear_model\\_coordinate_descent.py:617: UserWarning: Coordinate descent without L1 regularization may lead to unexpected results and is discouraged. Set l1_ratio > 0 to add L1 regularization.\n",
      "  model = cd_fast.enet_coordinate_descent_gram(\n",
      "D:\\Anaconda\\Lib\\site-packages\\sklearn\\linear_model\\_coordinate_descent.py:617: ConvergenceWarning: Objective did not converge. You might want to increase the number of iterations. Duality gap: 623972.8534466812, tolerance: 161.88624\n",
      "  model = cd_fast.enet_coordinate_descent_gram(\n",
      "D:\\Anaconda\\Lib\\site-packages\\sklearn\\linear_model\\_coordinate_descent.py:617: UserWarning: Coordinate descent without L1 regularization may lead to unexpected results and is discouraged. Set l1_ratio > 0 to add L1 regularization.\n",
      "  model = cd_fast.enet_coordinate_descent_gram(\n",
      "D:\\Anaconda\\Lib\\site-packages\\sklearn\\linear_model\\_coordinate_descent.py:617: UserWarning: Coordinate descent without L1 regularization may lead to unexpected results and is discouraged. Set l1_ratio > 0 to add L1 regularization.\n",
      "  model = cd_fast.enet_coordinate_descent_gram(\n",
      "D:\\Anaconda\\Lib\\site-packages\\sklearn\\linear_model\\_coordinate_descent.py:617: ConvergenceWarning: Objective did not converge. You might want to increase the number of iterations. Duality gap: 609541.1478172552, tolerance: 161.88624\n",
      "  model = cd_fast.enet_coordinate_descent_gram(\n",
      "D:\\Anaconda\\Lib\\site-packages\\sklearn\\linear_model\\_coordinate_descent.py:617: UserWarning: Coordinate descent without L1 regularization may lead to unexpected results and is discouraged. Set l1_ratio > 0 to add L1 regularization.\n",
      "  model = cd_fast.enet_coordinate_descent_gram(\n",
      "D:\\Anaconda\\Lib\\site-packages\\sklearn\\linear_model\\_coordinate_descent.py:617: UserWarning: Coordinate descent without L1 regularization may lead to unexpected results and is discouraged. Set l1_ratio > 0 to add L1 regularization.\n",
      "  model = cd_fast.enet_coordinate_descent_gram(\n",
      "D:\\Anaconda\\Lib\\site-packages\\sklearn\\linear_model\\_coordinate_descent.py:617: UserWarning: Coordinate descent without L1 regularization may lead to unexpected results and is discouraged. Set l1_ratio > 0 to add L1 regularization.\n",
      "  model = cd_fast.enet_coordinate_descent_gram(\n",
      "D:\\Anaconda\\Lib\\site-packages\\sklearn\\linear_model\\_coordinate_descent.py:617: ConvergenceWarning: Objective did not converge. You might want to increase the number of iterations. Duality gap: 583125.7228200692, tolerance: 161.88624\n",
      "  model = cd_fast.enet_coordinate_descent_gram(\n",
      "D:\\Anaconda\\Lib\\site-packages\\sklearn\\linear_model\\_coordinate_descent.py:617: UserWarning: Coordinate descent without L1 regularization may lead to unexpected results and is discouraged. Set l1_ratio > 0 to add L1 regularization.\n",
      "  model = cd_fast.enet_coordinate_descent_gram(\n",
      "D:\\Anaconda\\Lib\\site-packages\\sklearn\\linear_model\\_coordinate_descent.py:617: ConvergenceWarning: Objective did not converge. You might want to increase the number of iterations. Duality gap: 572697.6268447873, tolerance: 161.88624\n",
      "  model = cd_fast.enet_coordinate_descent_gram(\n",
      "D:\\Anaconda\\Lib\\site-packages\\sklearn\\linear_model\\_coordinate_descent.py:617: UserWarning: Coordinate descent without L1 regularization may lead to unexpected results and is discouraged. Set l1_ratio > 0 to add L1 regularization.\n",
      "  model = cd_fast.enet_coordinate_descent_gram(\n",
      "D:\\Anaconda\\Lib\\site-packages\\sklearn\\linear_model\\_coordinate_descent.py:617: UserWarning: Coordinate descent without L1 regularization may lead to unexpected results and is discouraged. Set l1_ratio > 0 to add L1 regularization.\n",
      "  model = cd_fast.enet_coordinate_descent_gram(\n",
      "D:\\Anaconda\\Lib\\site-packages\\sklearn\\linear_model\\_coordinate_descent.py:617: UserWarning: Coordinate descent without L1 regularization may lead to unexpected results and is discouraged. Set l1_ratio > 0 to add L1 regularization.\n",
      "  model = cd_fast.enet_coordinate_descent_gram(\n",
      "D:\\Anaconda\\Lib\\site-packages\\sklearn\\linear_model\\_coordinate_descent.py:617: UserWarning: Coordinate descent without L1 regularization may lead to unexpected results and is discouraged. Set l1_ratio > 0 to add L1 regularization.\n",
      "  model = cd_fast.enet_coordinate_descent_gram(\n",
      "D:\\Anaconda\\Lib\\site-packages\\sklearn\\linear_model\\_coordinate_descent.py:617: ConvergenceWarning: Objective did not converge. You might want to increase the number of iterations. Duality gap: 519203.09186334244, tolerance: 161.88624\n",
      "  model = cd_fast.enet_coordinate_descent_gram(\n",
      "D:\\Anaconda\\Lib\\site-packages\\sklearn\\linear_model\\_coordinate_descent.py:617: UserWarning: Coordinate descent without L1 regularization may lead to unexpected results and is discouraged. Set l1_ratio > 0 to add L1 regularization.\n",
      "  model = cd_fast.enet_coordinate_descent_gram(\n",
      "D:\\Anaconda\\Lib\\site-packages\\sklearn\\linear_model\\_coordinate_descent.py:617: ConvergenceWarning: Objective did not converge. You might want to increase the number of iterations. Duality gap: 501825.7392768223, tolerance: 161.88624\n",
      "  model = cd_fast.enet_coordinate_descent_gram(\n",
      "D:\\Anaconda\\Lib\\site-packages\\sklearn\\linear_model\\_coordinate_descent.py:617: UserWarning: Coordinate descent without L1 regularization may lead to unexpected results and is discouraged. Set l1_ratio > 0 to add L1 regularization.\n",
      "  model = cd_fast.enet_coordinate_descent_gram(\n",
      "D:\\Anaconda\\Lib\\site-packages\\sklearn\\linear_model\\_coordinate_descent.py:617: ConvergenceWarning: Objective did not converge. You might want to increase the number of iterations. Duality gap: 482234.9247388602, tolerance: 161.88624\n",
      "  model = cd_fast.enet_coordinate_descent_gram(\n",
      "D:\\Anaconda\\Lib\\site-packages\\sklearn\\linear_model\\_coordinate_descent.py:617: UserWarning: Coordinate descent without L1 regularization may lead to unexpected results and is discouraged. Set l1_ratio > 0 to add L1 regularization.\n",
      "  model = cd_fast.enet_coordinate_descent_gram(\n",
      "D:\\Anaconda\\Lib\\site-packages\\sklearn\\linear_model\\_coordinate_descent.py:617: ConvergenceWarning: Objective did not converge. You might want to increase the number of iterations. Duality gap: 459978.96785939357, tolerance: 161.88624\n",
      "  model = cd_fast.enet_coordinate_descent_gram(\n",
      "D:\\Anaconda\\Lib\\site-packages\\sklearn\\linear_model\\_coordinate_descent.py:617: UserWarning: Coordinate descent without L1 regularization may lead to unexpected results and is discouraged. Set l1_ratio > 0 to add L1 regularization.\n",
      "  model = cd_fast.enet_coordinate_descent_gram(\n",
      "D:\\Anaconda\\Lib\\site-packages\\sklearn\\linear_model\\_coordinate_descent.py:617: ConvergenceWarning: Objective did not converge. You might want to increase the number of iterations. Duality gap: 434474.3253403932, tolerance: 161.88624\n",
      "  model = cd_fast.enet_coordinate_descent_gram(\n",
      "D:\\Anaconda\\Lib\\site-packages\\sklearn\\linear_model\\_coordinate_descent.py:617: UserWarning: Coordinate descent without L1 regularization may lead to unexpected results and is discouraged. Set l1_ratio > 0 to add L1 regularization.\n",
      "  model = cd_fast.enet_coordinate_descent_gram(\n",
      "D:\\Anaconda\\Lib\\site-packages\\sklearn\\linear_model\\_coordinate_descent.py:617: UserWarning: Coordinate descent without L1 regularization may lead to unexpected results and is discouraged. Set l1_ratio > 0 to add L1 regularization.\n",
      "  model = cd_fast.enet_coordinate_descent_gram(\n",
      "D:\\Anaconda\\Lib\\site-packages\\sklearn\\linear_model\\_coordinate_descent.py:617: ConvergenceWarning: Objective did not converge. You might want to increase the number of iterations. Duality gap: 370387.4293954402, tolerance: 161.88624\n",
      "  model = cd_fast.enet_coordinate_descent_gram(\n",
      "D:\\Anaconda\\Lib\\site-packages\\sklearn\\linear_model\\_coordinate_descent.py:617: UserWarning: Coordinate descent without L1 regularization may lead to unexpected results and is discouraged. Set l1_ratio > 0 to add L1 regularization.\n",
      "  model = cd_fast.enet_coordinate_descent_gram(\n",
      "D:\\Anaconda\\Lib\\site-packages\\sklearn\\linear_model\\_coordinate_descent.py:617: UserWarning: Coordinate descent without L1 regularization may lead to unexpected results and is discouraged. Set l1_ratio > 0 to add L1 regularization.\n",
      "  model = cd_fast.enet_coordinate_descent_gram(\n",
      "D:\\Anaconda\\Lib\\site-packages\\sklearn\\linear_model\\_coordinate_descent.py:617: ConvergenceWarning: Objective did not converge. You might want to increase the number of iterations. Duality gap: 279877.07339917665, tolerance: 161.88624\n",
      "  model = cd_fast.enet_coordinate_descent_gram(\n"
     ]
    },
    {
     "data": {
      "text/html": [
       "<style>#sk-container-id-2 {color: black;background-color: white;}#sk-container-id-2 pre{padding: 0;}#sk-container-id-2 div.sk-toggleable {background-color: white;}#sk-container-id-2 label.sk-toggleable__label {cursor: pointer;display: block;width: 100%;margin-bottom: 0;padding: 0.3em;box-sizing: border-box;text-align: center;}#sk-container-id-2 label.sk-toggleable__label-arrow:before {content: \"▸\";float: left;margin-right: 0.25em;color: #696969;}#sk-container-id-2 label.sk-toggleable__label-arrow:hover:before {color: black;}#sk-container-id-2 div.sk-estimator:hover label.sk-toggleable__label-arrow:before {color: black;}#sk-container-id-2 div.sk-toggleable__content {max-height: 0;max-width: 0;overflow: hidden;text-align: left;background-color: #f0f8ff;}#sk-container-id-2 div.sk-toggleable__content pre {margin: 0.2em;color: black;border-radius: 0.25em;background-color: #f0f8ff;}#sk-container-id-2 input.sk-toggleable__control:checked~div.sk-toggleable__content {max-height: 200px;max-width: 100%;overflow: auto;}#sk-container-id-2 input.sk-toggleable__control:checked~label.sk-toggleable__label-arrow:before {content: \"▾\";}#sk-container-id-2 div.sk-estimator input.sk-toggleable__control:checked~label.sk-toggleable__label {background-color: #d4ebff;}#sk-container-id-2 div.sk-label input.sk-toggleable__control:checked~label.sk-toggleable__label {background-color: #d4ebff;}#sk-container-id-2 input.sk-hidden--visually {border: 0;clip: rect(1px 1px 1px 1px);clip: rect(1px, 1px, 1px, 1px);height: 1px;margin: -1px;overflow: hidden;padding: 0;position: absolute;width: 1px;}#sk-container-id-2 div.sk-estimator {font-family: monospace;background-color: #f0f8ff;border: 1px dotted black;border-radius: 0.25em;box-sizing: border-box;margin-bottom: 0.5em;}#sk-container-id-2 div.sk-estimator:hover {background-color: #d4ebff;}#sk-container-id-2 div.sk-parallel-item::after {content: \"\";width: 100%;border-bottom: 1px solid gray;flex-grow: 1;}#sk-container-id-2 div.sk-label:hover label.sk-toggleable__label {background-color: #d4ebff;}#sk-container-id-2 div.sk-serial::before {content: \"\";position: absolute;border-left: 1px solid gray;box-sizing: border-box;top: 0;bottom: 0;left: 50%;z-index: 0;}#sk-container-id-2 div.sk-serial {display: flex;flex-direction: column;align-items: center;background-color: white;padding-right: 0.2em;padding-left: 0.2em;position: relative;}#sk-container-id-2 div.sk-item {position: relative;z-index: 1;}#sk-container-id-2 div.sk-parallel {display: flex;align-items: stretch;justify-content: center;background-color: white;position: relative;}#sk-container-id-2 div.sk-item::before, #sk-container-id-2 div.sk-parallel-item::before {content: \"\";position: absolute;border-left: 1px solid gray;box-sizing: border-box;top: 0;bottom: 0;left: 50%;z-index: -1;}#sk-container-id-2 div.sk-parallel-item {display: flex;flex-direction: column;z-index: 1;position: relative;background-color: white;}#sk-container-id-2 div.sk-parallel-item:first-child::after {align-self: flex-end;width: 50%;}#sk-container-id-2 div.sk-parallel-item:last-child::after {align-self: flex-start;width: 50%;}#sk-container-id-2 div.sk-parallel-item:only-child::after {width: 0;}#sk-container-id-2 div.sk-dashed-wrapped {border: 1px dashed gray;margin: 0 0.4em 0.5em 0.4em;box-sizing: border-box;padding-bottom: 0.4em;background-color: white;}#sk-container-id-2 div.sk-label label {font-family: monospace;font-weight: bold;display: inline-block;line-height: 1.2em;}#sk-container-id-2 div.sk-label-container {text-align: center;}#sk-container-id-2 div.sk-container {/* jupyter's `normalize.less` sets `[hidden] { display: none; }` but bootstrap.min.css set `[hidden] { display: none !important; }` so we also need the `!important` here to be able to override the default hidden behavior on the sphinx rendered scikit-learn.org. See: https://github.com/scikit-learn/scikit-learn/issues/21755 */display: inline-block !important;position: relative;}#sk-container-id-2 div.sk-text-repr-fallback {display: none;}</style><div id=\"sk-container-id-2\" class=\"sk-top-container\"><div class=\"sk-text-repr-fallback\"><pre>ElasticNetCV(alphas=array([0.01, 0.02, 0.03, 0.04, 0.05, 0.06, 0.07, 0.08, 0.09, 0.1 , 0.11,\n",
       "       0.12, 0.13, 0.14, 0.15, 0.16, 0.17, 0.18, 0.19, 0.2 , 0.21, 0.22,\n",
       "       0.23, 0.24, 0.25, 0.26, 0.27, 0.28, 0.29, 0.3 , 0.31, 0.32, 0.33,\n",
       "       0.34, 0.35, 0.36, 0.37, 0.38, 0.39, 0.4 , 0.41, 0.42, 0.43, 0.44,\n",
       "       0.45, 0.46, 0.47, 0.48, 0.49, 0.5 , 0.51, 0.52, 0.53, 0.54, 0.55,\n",
       "       0.56, 0.57, 0.58, 0.59, 0.6 , 0.61, 0.62, 0.63, 0.64, 0.65, 0.66...\n",
       "       0.48298298, 0.48348348, 0.48398398, 0.48448448, 0.48498498,\n",
       "       0.48548549, 0.48598599, 0.48648649, 0.48698699, 0.48748749,\n",
       "       0.48798799, 0.48848849, 0.48898899, 0.48948949, 0.48998999,\n",
       "       0.49049049, 0.49099099, 0.49149149, 0.49199199, 0.49249249,\n",
       "       0.49299299, 0.49349349, 0.49399399, 0.49449449, 0.49499499,\n",
       "       0.4954955 , 0.495996  , 0.4964965 , 0.496997  , 0.4974975 ,\n",
       "       0.497998  , 0.4984985 , 0.498999  , 0.4994995 , 0.5       ]),\n",
       "             max_iter=5000, random_state=11110)</pre><b>In a Jupyter environment, please rerun this cell to show the HTML representation or trust the notebook. <br />On GitHub, the HTML representation is unable to render, please try loading this page with nbviewer.org.</b></div><div class=\"sk-container\" hidden><div class=\"sk-item\"><div class=\"sk-estimator sk-toggleable\"><input class=\"sk-toggleable__control sk-hidden--visually\" id=\"sk-estimator-id-2\" type=\"checkbox\" checked><label for=\"sk-estimator-id-2\" class=\"sk-toggleable__label sk-toggleable__label-arrow\">ElasticNetCV</label><div class=\"sk-toggleable__content\"><pre>ElasticNetCV(alphas=array([0.01, 0.02, 0.03, 0.04, 0.05, 0.06, 0.07, 0.08, 0.09, 0.1 , 0.11,\n",
       "       0.12, 0.13, 0.14, 0.15, 0.16, 0.17, 0.18, 0.19, 0.2 , 0.21, 0.22,\n",
       "       0.23, 0.24, 0.25, 0.26, 0.27, 0.28, 0.29, 0.3 , 0.31, 0.32, 0.33,\n",
       "       0.34, 0.35, 0.36, 0.37, 0.38, 0.39, 0.4 , 0.41, 0.42, 0.43, 0.44,\n",
       "       0.45, 0.46, 0.47, 0.48, 0.49, 0.5 , 0.51, 0.52, 0.53, 0.54, 0.55,\n",
       "       0.56, 0.57, 0.58, 0.59, 0.6 , 0.61, 0.62, 0.63, 0.64, 0.65, 0.66...\n",
       "       0.48298298, 0.48348348, 0.48398398, 0.48448448, 0.48498498,\n",
       "       0.48548549, 0.48598599, 0.48648649, 0.48698699, 0.48748749,\n",
       "       0.48798799, 0.48848849, 0.48898899, 0.48948949, 0.48998999,\n",
       "       0.49049049, 0.49099099, 0.49149149, 0.49199199, 0.49249249,\n",
       "       0.49299299, 0.49349349, 0.49399399, 0.49449449, 0.49499499,\n",
       "       0.4954955 , 0.495996  , 0.4964965 , 0.496997  , 0.4974975 ,\n",
       "       0.497998  , 0.4984985 , 0.498999  , 0.4994995 , 0.5       ]),\n",
       "             max_iter=5000, random_state=11110)</pre></div></div></div></div></div>"
      ],
      "text/plain": [
       "ElasticNetCV(alphas=array([0.01, 0.02, 0.03, 0.04, 0.05, 0.06, 0.07, 0.08, 0.09, 0.1 , 0.11,\n",
       "       0.12, 0.13, 0.14, 0.15, 0.16, 0.17, 0.18, 0.19, 0.2 , 0.21, 0.22,\n",
       "       0.23, 0.24, 0.25, 0.26, 0.27, 0.28, 0.29, 0.3 , 0.31, 0.32, 0.33,\n",
       "       0.34, 0.35, 0.36, 0.37, 0.38, 0.39, 0.4 , 0.41, 0.42, 0.43, 0.44,\n",
       "       0.45, 0.46, 0.47, 0.48, 0.49, 0.5 , 0.51, 0.52, 0.53, 0.54, 0.55,\n",
       "       0.56, 0.57, 0.58, 0.59, 0.6 , 0.61, 0.62, 0.63, 0.64, 0.65, 0.66...\n",
       "       0.48298298, 0.48348348, 0.48398398, 0.48448448, 0.48498498,\n",
       "       0.48548549, 0.48598599, 0.48648649, 0.48698699, 0.48748749,\n",
       "       0.48798799, 0.48848849, 0.48898899, 0.48948949, 0.48998999,\n",
       "       0.49049049, 0.49099099, 0.49149149, 0.49199199, 0.49249249,\n",
       "       0.49299299, 0.49349349, 0.49399399, 0.49449449, 0.49499499,\n",
       "       0.4954955 , 0.495996  , 0.4964965 , 0.496997  , 0.4974975 ,\n",
       "       0.497998  , 0.4984985 , 0.498999  , 0.4994995 , 0.5       ]),\n",
       "             max_iter=5000, random_state=11110)"
      ]
     },
     "execution_count": 37,
     "metadata": {},
     "output_type": "execute_result"
    }
   ],
   "source": [
    "regr = ElasticNetCV(n_alphas=100,alphas=alpha_x,eps=0.005,l1_ratio=l1_ratio_x,cv=5, random_state=11110,max_iter=5000)\n",
    "regr.fit(X_train,Y_train)"
   ]
  },
  {
   "cell_type": "code",
   "execution_count": 38,
   "metadata": {
    "id": "Hd4CHUBTJcIF"
   },
   "outputs": [
    {
     "data": {
      "text/html": [
       "<style>#sk-container-id-3 {color: black;background-color: white;}#sk-container-id-3 pre{padding: 0;}#sk-container-id-3 div.sk-toggleable {background-color: white;}#sk-container-id-3 label.sk-toggleable__label {cursor: pointer;display: block;width: 100%;margin-bottom: 0;padding: 0.3em;box-sizing: border-box;text-align: center;}#sk-container-id-3 label.sk-toggleable__label-arrow:before {content: \"▸\";float: left;margin-right: 0.25em;color: #696969;}#sk-container-id-3 label.sk-toggleable__label-arrow:hover:before {color: black;}#sk-container-id-3 div.sk-estimator:hover label.sk-toggleable__label-arrow:before {color: black;}#sk-container-id-3 div.sk-toggleable__content {max-height: 0;max-width: 0;overflow: hidden;text-align: left;background-color: #f0f8ff;}#sk-container-id-3 div.sk-toggleable__content pre {margin: 0.2em;color: black;border-radius: 0.25em;background-color: #f0f8ff;}#sk-container-id-3 input.sk-toggleable__control:checked~div.sk-toggleable__content {max-height: 200px;max-width: 100%;overflow: auto;}#sk-container-id-3 input.sk-toggleable__control:checked~label.sk-toggleable__label-arrow:before {content: \"▾\";}#sk-container-id-3 div.sk-estimator input.sk-toggleable__control:checked~label.sk-toggleable__label {background-color: #d4ebff;}#sk-container-id-3 div.sk-label input.sk-toggleable__control:checked~label.sk-toggleable__label {background-color: #d4ebff;}#sk-container-id-3 input.sk-hidden--visually {border: 0;clip: rect(1px 1px 1px 1px);clip: rect(1px, 1px, 1px, 1px);height: 1px;margin: -1px;overflow: hidden;padding: 0;position: absolute;width: 1px;}#sk-container-id-3 div.sk-estimator {font-family: monospace;background-color: #f0f8ff;border: 1px dotted black;border-radius: 0.25em;box-sizing: border-box;margin-bottom: 0.5em;}#sk-container-id-3 div.sk-estimator:hover {background-color: #d4ebff;}#sk-container-id-3 div.sk-parallel-item::after {content: \"\";width: 100%;border-bottom: 1px solid gray;flex-grow: 1;}#sk-container-id-3 div.sk-label:hover label.sk-toggleable__label {background-color: #d4ebff;}#sk-container-id-3 div.sk-serial::before {content: \"\";position: absolute;border-left: 1px solid gray;box-sizing: border-box;top: 0;bottom: 0;left: 50%;z-index: 0;}#sk-container-id-3 div.sk-serial {display: flex;flex-direction: column;align-items: center;background-color: white;padding-right: 0.2em;padding-left: 0.2em;position: relative;}#sk-container-id-3 div.sk-item {position: relative;z-index: 1;}#sk-container-id-3 div.sk-parallel {display: flex;align-items: stretch;justify-content: center;background-color: white;position: relative;}#sk-container-id-3 div.sk-item::before, #sk-container-id-3 div.sk-parallel-item::before {content: \"\";position: absolute;border-left: 1px solid gray;box-sizing: border-box;top: 0;bottom: 0;left: 50%;z-index: -1;}#sk-container-id-3 div.sk-parallel-item {display: flex;flex-direction: column;z-index: 1;position: relative;background-color: white;}#sk-container-id-3 div.sk-parallel-item:first-child::after {align-self: flex-end;width: 50%;}#sk-container-id-3 div.sk-parallel-item:last-child::after {align-self: flex-start;width: 50%;}#sk-container-id-3 div.sk-parallel-item:only-child::after {width: 0;}#sk-container-id-3 div.sk-dashed-wrapped {border: 1px dashed gray;margin: 0 0.4em 0.5em 0.4em;box-sizing: border-box;padding-bottom: 0.4em;background-color: white;}#sk-container-id-3 div.sk-label label {font-family: monospace;font-weight: bold;display: inline-block;line-height: 1.2em;}#sk-container-id-3 div.sk-label-container {text-align: center;}#sk-container-id-3 div.sk-container {/* jupyter's `normalize.less` sets `[hidden] { display: none; }` but bootstrap.min.css set `[hidden] { display: none !important; }` so we also need the `!important` here to be able to override the default hidden behavior on the sphinx rendered scikit-learn.org. See: https://github.com/scikit-learn/scikit-learn/issues/21755 */display: inline-block !important;position: relative;}#sk-container-id-3 div.sk-text-repr-fallback {display: none;}</style><div id=\"sk-container-id-3\" class=\"sk-top-container\"><div class=\"sk-text-repr-fallback\"><pre>ElasticNetCV(alphas=array([0.01, 0.02, 0.03, 0.04, 0.05, 0.06, 0.07, 0.08, 0.09, 0.1 , 0.11,\n",
       "       0.12, 0.13, 0.14, 0.15, 0.16, 0.17, 0.18, 0.19, 0.2 , 0.21, 0.22,\n",
       "       0.23, 0.24, 0.25, 0.26, 0.27, 0.28, 0.29, 0.3 , 0.31, 0.32, 0.33,\n",
       "       0.34, 0.35, 0.36, 0.37, 0.38, 0.39, 0.4 , 0.41, 0.42, 0.43, 0.44,\n",
       "       0.45, 0.46, 0.47, 0.48, 0.49, 0.5 , 0.51, 0.52, 0.53, 0.54, 0.55,\n",
       "       0.56, 0.57, 0.58, 0.59, 0.6 , 0.61, 0.62, 0.63, 0.64, 0.65, 0.66...\n",
       "       0.48298298, 0.48348348, 0.48398398, 0.48448448, 0.48498498,\n",
       "       0.48548549, 0.48598599, 0.48648649, 0.48698699, 0.48748749,\n",
       "       0.48798799, 0.48848849, 0.48898899, 0.48948949, 0.48998999,\n",
       "       0.49049049, 0.49099099, 0.49149149, 0.49199199, 0.49249249,\n",
       "       0.49299299, 0.49349349, 0.49399399, 0.49449449, 0.49499499,\n",
       "       0.4954955 , 0.495996  , 0.4964965 , 0.496997  , 0.4974975 ,\n",
       "       0.497998  , 0.4984985 , 0.498999  , 0.4994995 , 0.5       ]),\n",
       "             max_iter=5000, random_state=11110)</pre><b>In a Jupyter environment, please rerun this cell to show the HTML representation or trust the notebook. <br />On GitHub, the HTML representation is unable to render, please try loading this page with nbviewer.org.</b></div><div class=\"sk-container\" hidden><div class=\"sk-item\"><div class=\"sk-estimator sk-toggleable\"><input class=\"sk-toggleable__control sk-hidden--visually\" id=\"sk-estimator-id-3\" type=\"checkbox\" checked><label for=\"sk-estimator-id-3\" class=\"sk-toggleable__label sk-toggleable__label-arrow\">ElasticNetCV</label><div class=\"sk-toggleable__content\"><pre>ElasticNetCV(alphas=array([0.01, 0.02, 0.03, 0.04, 0.05, 0.06, 0.07, 0.08, 0.09, 0.1 , 0.11,\n",
       "       0.12, 0.13, 0.14, 0.15, 0.16, 0.17, 0.18, 0.19, 0.2 , 0.21, 0.22,\n",
       "       0.23, 0.24, 0.25, 0.26, 0.27, 0.28, 0.29, 0.3 , 0.31, 0.32, 0.33,\n",
       "       0.34, 0.35, 0.36, 0.37, 0.38, 0.39, 0.4 , 0.41, 0.42, 0.43, 0.44,\n",
       "       0.45, 0.46, 0.47, 0.48, 0.49, 0.5 , 0.51, 0.52, 0.53, 0.54, 0.55,\n",
       "       0.56, 0.57, 0.58, 0.59, 0.6 , 0.61, 0.62, 0.63, 0.64, 0.65, 0.66...\n",
       "       0.48298298, 0.48348348, 0.48398398, 0.48448448, 0.48498498,\n",
       "       0.48548549, 0.48598599, 0.48648649, 0.48698699, 0.48748749,\n",
       "       0.48798799, 0.48848849, 0.48898899, 0.48948949, 0.48998999,\n",
       "       0.49049049, 0.49099099, 0.49149149, 0.49199199, 0.49249249,\n",
       "       0.49299299, 0.49349349, 0.49399399, 0.49449449, 0.49499499,\n",
       "       0.4954955 , 0.495996  , 0.4964965 , 0.496997  , 0.4974975 ,\n",
       "       0.497998  , 0.4984985 , 0.498999  , 0.4994995 , 0.5       ]),\n",
       "             max_iter=5000, random_state=11110)</pre></div></div></div></div></div>"
      ],
      "text/plain": [
       "ElasticNetCV(alphas=array([0.01, 0.02, 0.03, 0.04, 0.05, 0.06, 0.07, 0.08, 0.09, 0.1 , 0.11,\n",
       "       0.12, 0.13, 0.14, 0.15, 0.16, 0.17, 0.18, 0.19, 0.2 , 0.21, 0.22,\n",
       "       0.23, 0.24, 0.25, 0.26, 0.27, 0.28, 0.29, 0.3 , 0.31, 0.32, 0.33,\n",
       "       0.34, 0.35, 0.36, 0.37, 0.38, 0.39, 0.4 , 0.41, 0.42, 0.43, 0.44,\n",
       "       0.45, 0.46, 0.47, 0.48, 0.49, 0.5 , 0.51, 0.52, 0.53, 0.54, 0.55,\n",
       "       0.56, 0.57, 0.58, 0.59, 0.6 , 0.61, 0.62, 0.63, 0.64, 0.65, 0.66...\n",
       "       0.48298298, 0.48348348, 0.48398398, 0.48448448, 0.48498498,\n",
       "       0.48548549, 0.48598599, 0.48648649, 0.48698699, 0.48748749,\n",
       "       0.48798799, 0.48848849, 0.48898899, 0.48948949, 0.48998999,\n",
       "       0.49049049, 0.49099099, 0.49149149, 0.49199199, 0.49249249,\n",
       "       0.49299299, 0.49349349, 0.49399399, 0.49449449, 0.49499499,\n",
       "       0.4954955 , 0.495996  , 0.4964965 , 0.496997  , 0.4974975 ,\n",
       "       0.497998  , 0.4984985 , 0.498999  , 0.4994995 , 0.5       ]),\n",
       "             max_iter=5000, random_state=11110)"
      ]
     },
     "execution_count": 38,
     "metadata": {},
     "output_type": "execute_result"
    }
   ],
   "source": [
    "regr"
   ]
  },
  {
   "cell_type": "code",
   "execution_count": 39,
   "metadata": {
    "id": "Bk4ElNwJJcIG"
   },
   "outputs": [
    {
     "name": "stdout",
     "output_type": "stream",
     "text": [
      "0.01\n"
     ]
    }
   ],
   "source": [
    "print(regr.alpha_)"
   ]
  },
  {
   "cell_type": "code",
   "execution_count": 40,
   "metadata": {
    "id": "UY6TNipBJcIG",
    "outputId": "b8c24226-843e-44fa-98e8-bf953bc1a67c"
   },
   "outputs": [
    {
     "name": "stdout",
     "output_type": "stream",
     "text": [
      "0.5\n"
     ]
    }
   ],
   "source": [
    "print(regr.l1_ratio_)"
   ]
  },
  {
   "cell_type": "code",
   "execution_count": 41,
   "metadata": {
    "id": "6fmbvub_JcIG"
   },
   "outputs": [
    {
     "data": {
      "text/plain": [
       "-2122.9130122510373"
      ]
     },
     "execution_count": 41,
     "metadata": {},
     "output_type": "execute_result"
    }
   ],
   "source": [
    "regr.intercept_"
   ]
  },
  {
   "cell_type": "code",
   "execution_count": 42,
   "metadata": {
    "id": "E32IYSJrJcIH"
   },
   "outputs": [
    {
     "data": {
      "text/plain": [
       "2"
      ]
     },
     "execution_count": 42,
     "metadata": {},
     "output_type": "execute_result"
    }
   ],
   "source": [
    "regr.n_iter_"
   ]
  },
  {
   "cell_type": "code",
   "execution_count": 43,
   "metadata": {
    "id": "O1e6j0aoJcIH"
   },
   "outputs": [
    {
     "data": {
      "text/plain": [
       "0.0"
      ]
     },
     "execution_count": 43,
     "metadata": {},
     "output_type": "execute_result"
    }
   ],
   "source": [
    "regr.dual_gap_"
   ]
  },
  {
   "cell_type": "code",
   "execution_count": null,
   "metadata": {
    "id": "rAxqKsnfJcII"
   },
   "outputs": [],
   "source": []
  },
  {
   "cell_type": "code",
   "execution_count": 44,
   "metadata": {
    "id": "OzQhhuadJcII"
   },
   "outputs": [],
   "source": [
    "model = LinearRegression()\n",
    "#model=Lasso(alpha=2.40)\n",
    "#model=ElasticNet(alpha=0.00001,l1_ratio=0.91,fit_intercept=True,tol=0.00001,max_iter=5000000,random_state=1)\n"
   ]
  },
  {
   "cell_type": "code",
   "execution_count": 45,
   "metadata": {
    "id": "E_OqzUsgJcII",
    "outputId": "d7c664f5-3262-438e-bbbf-cda687d5866d"
   },
   "outputs": [
    {
     "data": {
      "text/html": [
       "<style>#sk-container-id-4 {color: black;background-color: white;}#sk-container-id-4 pre{padding: 0;}#sk-container-id-4 div.sk-toggleable {background-color: white;}#sk-container-id-4 label.sk-toggleable__label {cursor: pointer;display: block;width: 100%;margin-bottom: 0;padding: 0.3em;box-sizing: border-box;text-align: center;}#sk-container-id-4 label.sk-toggleable__label-arrow:before {content: \"▸\";float: left;margin-right: 0.25em;color: #696969;}#sk-container-id-4 label.sk-toggleable__label-arrow:hover:before {color: black;}#sk-container-id-4 div.sk-estimator:hover label.sk-toggleable__label-arrow:before {color: black;}#sk-container-id-4 div.sk-toggleable__content {max-height: 0;max-width: 0;overflow: hidden;text-align: left;background-color: #f0f8ff;}#sk-container-id-4 div.sk-toggleable__content pre {margin: 0.2em;color: black;border-radius: 0.25em;background-color: #f0f8ff;}#sk-container-id-4 input.sk-toggleable__control:checked~div.sk-toggleable__content {max-height: 200px;max-width: 100%;overflow: auto;}#sk-container-id-4 input.sk-toggleable__control:checked~label.sk-toggleable__label-arrow:before {content: \"▾\";}#sk-container-id-4 div.sk-estimator input.sk-toggleable__control:checked~label.sk-toggleable__label {background-color: #d4ebff;}#sk-container-id-4 div.sk-label input.sk-toggleable__control:checked~label.sk-toggleable__label {background-color: #d4ebff;}#sk-container-id-4 input.sk-hidden--visually {border: 0;clip: rect(1px 1px 1px 1px);clip: rect(1px, 1px, 1px, 1px);height: 1px;margin: -1px;overflow: hidden;padding: 0;position: absolute;width: 1px;}#sk-container-id-4 div.sk-estimator {font-family: monospace;background-color: #f0f8ff;border: 1px dotted black;border-radius: 0.25em;box-sizing: border-box;margin-bottom: 0.5em;}#sk-container-id-4 div.sk-estimator:hover {background-color: #d4ebff;}#sk-container-id-4 div.sk-parallel-item::after {content: \"\";width: 100%;border-bottom: 1px solid gray;flex-grow: 1;}#sk-container-id-4 div.sk-label:hover label.sk-toggleable__label {background-color: #d4ebff;}#sk-container-id-4 div.sk-serial::before {content: \"\";position: absolute;border-left: 1px solid gray;box-sizing: border-box;top: 0;bottom: 0;left: 50%;z-index: 0;}#sk-container-id-4 div.sk-serial {display: flex;flex-direction: column;align-items: center;background-color: white;padding-right: 0.2em;padding-left: 0.2em;position: relative;}#sk-container-id-4 div.sk-item {position: relative;z-index: 1;}#sk-container-id-4 div.sk-parallel {display: flex;align-items: stretch;justify-content: center;background-color: white;position: relative;}#sk-container-id-4 div.sk-item::before, #sk-container-id-4 div.sk-parallel-item::before {content: \"\";position: absolute;border-left: 1px solid gray;box-sizing: border-box;top: 0;bottom: 0;left: 50%;z-index: -1;}#sk-container-id-4 div.sk-parallel-item {display: flex;flex-direction: column;z-index: 1;position: relative;background-color: white;}#sk-container-id-4 div.sk-parallel-item:first-child::after {align-self: flex-end;width: 50%;}#sk-container-id-4 div.sk-parallel-item:last-child::after {align-self: flex-start;width: 50%;}#sk-container-id-4 div.sk-parallel-item:only-child::after {width: 0;}#sk-container-id-4 div.sk-dashed-wrapped {border: 1px dashed gray;margin: 0 0.4em 0.5em 0.4em;box-sizing: border-box;padding-bottom: 0.4em;background-color: white;}#sk-container-id-4 div.sk-label label {font-family: monospace;font-weight: bold;display: inline-block;line-height: 1.2em;}#sk-container-id-4 div.sk-label-container {text-align: center;}#sk-container-id-4 div.sk-container {/* jupyter's `normalize.less` sets `[hidden] { display: none; }` but bootstrap.min.css set `[hidden] { display: none !important; }` so we also need the `!important` here to be able to override the default hidden behavior on the sphinx rendered scikit-learn.org. See: https://github.com/scikit-learn/scikit-learn/issues/21755 */display: inline-block !important;position: relative;}#sk-container-id-4 div.sk-text-repr-fallback {display: none;}</style><div id=\"sk-container-id-4\" class=\"sk-top-container\"><div class=\"sk-text-repr-fallback\"><pre>LinearRegression()</pre><b>In a Jupyter environment, please rerun this cell to show the HTML representation or trust the notebook. <br />On GitHub, the HTML representation is unable to render, please try loading this page with nbviewer.org.</b></div><div class=\"sk-container\" hidden><div class=\"sk-item\"><div class=\"sk-estimator sk-toggleable\"><input class=\"sk-toggleable__control sk-hidden--visually\" id=\"sk-estimator-id-4\" type=\"checkbox\" checked><label for=\"sk-estimator-id-4\" class=\"sk-toggleable__label sk-toggleable__label-arrow\">LinearRegression</label><div class=\"sk-toggleable__content\"><pre>LinearRegression()</pre></div></div></div></div></div>"
      ],
      "text/plain": [
       "LinearRegression()"
      ]
     },
     "execution_count": 45,
     "metadata": {},
     "output_type": "execute_result"
    }
   ],
   "source": [
    "model.fit(X_train,Y_train)"
   ]
  },
  {
   "cell_type": "code",
   "execution_count": 46,
   "metadata": {
    "id": "lxkf-JWVJcII",
    "outputId": "ddfa93be-47d2-4065-8707-1bd4830b3452"
   },
   "outputs": [
    {
     "name": "stdout",
     "output_type": "stream",
     "text": [
      "The model performance for training set\n",
      "--------------------------------------\n",
      "RMSE is 132.738785016254\n",
      "R2 score is 0.8483628642542727\n"
     ]
    }
   ],
   "source": [
    "#### model evaluation for training set\n",
    "y_train_predict = model.predict(X_train)\n",
    "rmse = (np.sqrt(mean_squared_error(Y_train, y_train_predict)))\n",
    "r2 = r2_score(Y_train, y_train_predict)\n",
    "print(\"The model performance for training set\")\n",
    "print(\"--------------------------------------\")\n",
    "print('RMSE is {}'.format(rmse))\n",
    "print('R2 score is {}'.format(r2))\n"
   ]
  },
  {
   "cell_type": "code",
   "execution_count": 47,
   "metadata": {
    "id": "_UbMbGWmJcIJ",
    "outputId": "23f0a680-30ff-469d-ce61-5072f8169517"
   },
   "outputs": [
    {
     "name": "stdout",
     "output_type": "stream",
     "text": [
      "The model performance for testing set\n",
      "--------------------------------------\n",
      "RMSE is 177.15941984586985\n",
      "R2 score is 0.7918359351836254\n"
     ]
    }
   ],
   "source": [
    "# model evaluation for test set\n",
    "y_test_predict = model.predict(X_test)\n",
    "rmse_test = (np.sqrt(mean_squared_error(Y_test, y_test_predict)))\n",
    "r2_test = r2_score(Y_test, y_test_predict)\n",
    "print(\"The model performance for testing set\")\n",
    "print(\"--------------------------------------\")\n",
    "print('RMSE is {}'.format(rmse_test))\n",
    "print('R2 score is {}'.format(r2_test))"
   ]
  },
  {
   "cell_type": "code",
   "execution_count": 48,
   "metadata": {
    "id": "vjNCwEB4JcIJ"
   },
   "outputs": [],
   "source": [
    "X_val=X1[84:123]\n",
    "Y_val=Y1[84:123]"
   ]
  },
  {
   "cell_type": "code",
   "execution_count": 49,
   "metadata": {
    "id": "VK8CziElJcIK",
    "outputId": "ffa24728-4de2-47cf-dee3-60a63b02fbd8"
   },
   "outputs": [
    {
     "name": "stdout",
     "output_type": "stream",
     "text": [
      "The model performance for validation set\n",
      "--------------------------------------\n",
      "RMSE is 197.16712097582126\n",
      "R2 score is 0.5121191080979439\n"
     ]
    }
   ],
   "source": [
    "# model evaluation for Validation set\n",
    "y_val_predict = model.predict(X_val)\n",
    "rmse_val = (np.sqrt(mean_squared_error(Y_val, y_val_predict)))\n",
    "r2_val = r2_score(Y_val, y_val_predict)\n",
    "print(\"The model performance for validation set\")\n",
    "print(\"--------------------------------------\")\n",
    "print('RMSE is {}'.format(rmse_val))\n",
    "print('R2 score is {}'.format(r2_val))"
   ]
  },
  {
   "cell_type": "code",
   "execution_count": null,
   "metadata": {
    "id": "0wI3RO3bJcIK"
   },
   "outputs": [],
   "source": []
  },
  {
   "cell_type": "code",
   "execution_count": null,
   "metadata": {
    "id": "YaBKPPDWJcIK"
   },
   "outputs": [],
   "source": []
  },
  {
   "cell_type": "code",
   "execution_count": null,
   "metadata": {
    "id": "ivKFoDBsJcIL"
   },
   "outputs": [],
   "source": []
  },
  {
   "cell_type": "code",
   "execution_count": null,
   "metadata": {
    "id": "GUF7eMmXJcIL"
   },
   "outputs": [],
   "source": []
  },
  {
   "cell_type": "code",
   "execution_count": 50,
   "metadata": {
    "id": "cHpFG-z0JcIL",
    "outputId": "c740a8fa-84fc-4eaf-d42d-a36ca7df35d9"
   },
   "outputs": [
    {
     "name": "stderr",
     "output_type": "stream",
     "text": [
      "C:\\Users\\Samarthya's Laptop\\AppData\\Local\\Temp\\ipykernel_708\\2507113549.py:21: UserWarning: linestyle is redundantly defined by the 'linestyle' keyword argument and the fmt string \"r-\" (-> linestyle='-'). The keyword argument will take precedence.\n",
      "  plt.plot((0,2500),(0,2500), 'r-',linestyle='dashed',label='y=x line')\n"
     ]
    },
    {
     "data": {
      "image/png": "[encoded data removed]",
      "text/plain": [
       "<Figure size 450x400 with 1 Axes>"
      ]
     },
     "metadata": {},
     "output_type": "display_data"
    }
   ],
   "source": [
    "#### define your data plot here       \n",
    "plt.figure(figsize=(4.5,4),dpi=100)\n",
    "plt.title(' ', fontsize=13) \n",
    "#### define your data plot here       \n",
    "plt.xlim((0,2500))\n",
    "plt.xticks(np.linspace(0,2500,6,endpoint=True))\n",
    "plt.ylim((0,2500))\n",
    "plt.yticks(np.linspace(0,2500,6,endpoint=True))\n",
    "plt.tick_params(axis='both', which='major', labelsize=13)\n",
    "plt.scatter(Y_train, y_train_predict, label='Training',\n",
    "            s=60,marker='o')\n",
    "plt.scatter(Y_test,y_test_predict, label='Primary test',\n",
    "            facecolors='red',alpha=1, edgecolors='none',s=60, marker='s')\n",
    "plt.scatter(Y_val, y_val_predict, label='Secondary test',\n",
    "            facecolors='orange',alpha=1, edgecolors='none',s=60, marker='^')\n",
    "plt.xlabel(\"Observed cycle life\",fontsize=13)\n",
    "plt.ylabel(\"Predicted cycle life\",fontsize=13)\n",
    "\n",
    "#####fitting with a y=x line here (polynomial approach)\n",
    "#p1 = np.polyfit(Y_train, y_train_predict,1)\n",
    "plt.plot((0,2500),(0,2500), 'r-',linestyle='dashed',label='y=x line')\n",
    "leg = plt.legend()\n",
    "leg.get_frame().set_edgecolor('black')\n",
    "plt.tight_layout()"
   ]
  },
  {
   "cell_type": "code",
   "execution_count": 51,
   "metadata": {
    "id": "ViemrUSBJcIM"
   },
   "outputs": [],
   "source": [
    "from sklearn.model_selection import cross_val_score\n",
    "from sklearn.model_selection import RepeatedKFold\n",
    "from numpy import absolute"
   ]
  },
  {
   "cell_type": "code",
   "execution_count": null,
   "metadata": {
    "id": "TWba7498JcIM"
   },
   "outputs": [],
   "source": []
  },
  {
   "cell_type": "code",
   "execution_count": null,
   "metadata": {
    "id": "H8L9r0VMJcIM"
   },
   "outputs": [],
   "source": []
  },
  {
   "cell_type": "code",
   "execution_count": 52,
   "metadata": {
    "id": "szoTdII_JcIM"
   },
   "outputs": [],
   "source": [
    "first_bit= np.log10(dataset[\"discharge_capacity_2\"])/(dataset[\"dq_variance\"])**(1/3)"
   ]
  },
  {
   "cell_type": "code",
   "execution_count": 53,
   "metadata": {
    "id": "L8YzDxoFJcIN"
   },
   "outputs": [],
   "source": [
    "second_bit=(dataset[\"dq_variance\"]**(1/3))*(dataset[\"dq_variance\"]/dataset[\"dq_variance\"])"
   ]
  },
  {
   "cell_type": "code",
   "execution_count": 54,
   "metadata": {
    "id": "LCq6yP7xJcIN",
    "outputId": "c285feab-c2bc-41f5-a184-aca7ca5e64ec"
   },
   "outputs": [
    {
     "data": {
      "text/plain": [
       "<matplotlib.collections.PathCollection at 0x253a9ec63d0>"
      ]
     },
     "execution_count": 54,
     "metadata": {},
     "output_type": "execute_result"
    },
    {
     "data": {
      "image/png": "[encoded data removed]",
      "text/plain": [
       "<Figure size 640x480 with 1 Axes>"
      ]
     },
     "metadata": {},
     "output_type": "display_data"
    }
   ],
   "source": [
    "plt.scatter(dataset[\"cycle_life\"], (0.3786262607E+03*first_bit)+(-0.6281856557E+02*second_bit)+0.5522646811E+03)\n",
    "#plt.xlim(0,2000)\n",
    "#plt.ylim(0,2000)"
   ]
  },
  {
   "cell_type": "code",
   "execution_count": 55,
   "metadata": {
    "id": "wJJfsgLxJcIN"
   },
   "outputs": [],
   "source": [
    "df_new= pd. DataFrame({'first_f':first_bit,\n",
    "                     'second_f':second_bit,\n",
    "                      })"
   ]
  },
  {
   "cell_type": "code",
   "execution_count": 56,
   "metadata": {
    "id": "vs2T1WyqJcIN"
   },
   "outputs": [],
   "source": [
    "Y2=dataset[\"cycle_life\"]"
   ]
  },
  {
   "cell_type": "code",
   "execution_count": 57,
   "metadata": {
    "id": "LbWz3d6EJcIO",
    "outputId": "86e15c3b-ea18-4e58-9e4e-e7eca172d0f4"
   },
   "outputs": [
    {
     "data": {
      "text/plain": [
       "(124, 2)"
      ]
     },
     "execution_count": 57,
     "metadata": {},
     "output_type": "execute_result"
    }
   ],
   "source": [
    "df_new.shape"
   ]
  },
  {
   "cell_type": "code",
   "execution_count": 58,
   "metadata": {
    "id": "MGi7VVRzJcIO"
   },
   "outputs": [],
   "source": [
    "X_train, X_test, Y_train, Y_test = train_test_split(df_new[0:83], Y2[0:83],\n",
    "                                                    test_size = 0.4, random_state=1000)"
   ]
  },
  {
   "cell_type": "code",
   "execution_count": null,
   "metadata": {
    "id": "CIh6f4uFJcIO"
   },
   "outputs": [],
   "source": [
    "\n"
   ]
  },
  {
   "cell_type": "code",
   "execution_count": 59,
   "metadata": {
    "id": "1DnqwDCEJcIO"
   },
   "outputs": [],
   "source": [
    "X_val=df_new[84:123]\n",
    "#X_val=X1[84:123]\n",
    "Y_val=Y2[84:123]"
   ]
  },
  {
   "cell_type": "code",
   "execution_count": 60,
   "metadata": {
    "id": "zfh5e_A1JcIP",
    "outputId": "a06fd82c-bf44-4f69-be20-19b873eb7f1f"
   },
   "outputs": [
    {
     "data": {
      "text/html": [
       "<style>#sk-container-id-5 {color: black;background-color: white;}#sk-container-id-5 pre{padding: 0;}#sk-container-id-5 div.sk-toggleable {background-color: white;}#sk-container-id-5 label.sk-toggleable__label {cursor: pointer;display: block;width: 100%;margin-bottom: 0;padding: 0.3em;box-sizing: border-box;text-align: center;}#sk-container-id-5 label.sk-toggleable__label-arrow:before {content: \"▸\";float: left;margin-right: 0.25em;color: #696969;}#sk-container-id-5 label.sk-toggleable__label-arrow:hover:before {color: black;}#sk-container-id-5 div.sk-estimator:hover label.sk-toggleable__label-arrow:before {color: black;}#sk-container-id-5 div.sk-toggleable__content {max-height: 0;max-width: 0;overflow: hidden;text-align: left;background-color: #f0f8ff;}#sk-container-id-5 div.sk-toggleable__content pre {margin: 0.2em;color: black;border-radius: 0.25em;background-color: #f0f8ff;}#sk-container-id-5 input.sk-toggleable__control:checked~div.sk-toggleable__content {max-height: 200px;max-width: 100%;overflow: auto;}#sk-container-id-5 input.sk-toggleable__control:checked~label.sk-toggleable__label-arrow:before {content: \"▾\";}#sk-container-id-5 div.sk-estimator input.sk-toggleable__control:checked~label.sk-toggleable__label {background-color: #d4ebff;}#sk-container-id-5 div.sk-label input.sk-toggleable__control:checked~label.sk-toggleable__label {background-color: #d4ebff;}#sk-container-id-5 input.sk-hidden--visually {border: 0;clip: rect(1px 1px 1px 1px);clip: rect(1px, 1px, 1px, 1px);height: 1px;margin: -1px;overflow: hidden;padding: 0;position: absolute;width: 1px;}#sk-container-id-5 div.sk-estimator {font-family: monospace;background-color: #f0f8ff;border: 1px dotted black;border-radius: 0.25em;box-sizing: border-box;margin-bottom: 0.5em;}#sk-container-id-5 div.sk-estimator:hover {background-color: #d4ebff;}#sk-container-id-5 div.sk-parallel-item::after {content: \"\";width: 100%;border-bottom: 1px solid gray;flex-grow: 1;}#sk-container-id-5 div.sk-label:hover label.sk-toggleable__label {background-color: #d4ebff;}#sk-container-id-5 div.sk-serial::before {content: \"\";position: absolute;border-left: 1px solid gray;box-sizing: border-box;top: 0;bottom: 0;left: 50%;z-index: 0;}#sk-container-id-5 div.sk-serial {display: flex;flex-direction: column;align-items: center;background-color: white;padding-right: 0.2em;padding-left: 0.2em;position: relative;}#sk-container-id-5 div.sk-item {position: relative;z-index: 1;}#sk-container-id-5 div.sk-parallel {display: flex;align-items: stretch;justify-content: center;background-color: white;position: relative;}#sk-container-id-5 div.sk-item::before, #sk-container-id-5 div.sk-parallel-item::before {content: \"\";position: absolute;border-left: 1px solid gray;box-sizing: border-box;top: 0;bottom: 0;left: 50%;z-index: -1;}#sk-container-id-5 div.sk-parallel-item {display: flex;flex-direction: column;z-index: 1;position: relative;background-color: white;}#sk-container-id-5 div.sk-parallel-item:first-child::after {align-self: flex-end;width: 50%;}#sk-container-id-5 div.sk-parallel-item:last-child::after {align-self: flex-start;width: 50%;}#sk-container-id-5 div.sk-parallel-item:only-child::after {width: 0;}#sk-container-id-5 div.sk-dashed-wrapped {border: 1px dashed gray;margin: 0 0.4em 0.5em 0.4em;box-sizing: border-box;padding-bottom: 0.4em;background-color: white;}#sk-container-id-5 div.sk-label label {font-family: monospace;font-weight: bold;display: inline-block;line-height: 1.2em;}#sk-container-id-5 div.sk-label-container {text-align: center;}#sk-container-id-5 div.sk-container {/* jupyter's `normalize.less` sets `[hidden] { display: none; }` but bootstrap.min.css set `[hidden] { display: none !important; }` so we also need the `!important` here to be able to override the default hidden behavior on the sphinx rendered scikit-learn.org. See: https://github.com/scikit-learn/scikit-learn/issues/21755 */display: inline-block !important;position: relative;}#sk-container-id-5 div.sk-text-repr-fallback {display: none;}</style><div id=\"sk-container-id-5\" class=\"sk-top-container\"><div class=\"sk-text-repr-fallback\"><pre>LinearRegression()</pre><b>In a Jupyter environment, please rerun this cell to show the HTML representation or trust the notebook. <br />On GitHub, the HTML representation is unable to render, please try loading this page with nbviewer.org.</b></div><div class=\"sk-container\" hidden><div class=\"sk-item\"><div class=\"sk-estimator sk-toggleable\"><input class=\"sk-toggleable__control sk-hidden--visually\" id=\"sk-estimator-id-5\" type=\"checkbox\" checked><label for=\"sk-estimator-id-5\" class=\"sk-toggleable__label sk-toggleable__label-arrow\">LinearRegression</label><div class=\"sk-toggleable__content\"><pre>LinearRegression()</pre></div></div></div></div></div>"
      ],
      "text/plain": [
       "LinearRegression()"
      ]
     },
     "execution_count": 60,
     "metadata": {},
     "output_type": "execute_result"
    }
   ],
   "source": [
    "model= LinearRegression()\n",
    "#model=ElasticNet(alpha=0.00001,l1_ratio=0.91,fit_intercept=True,tol=0.00001,max_iter=5000000,random_state=1)\n",
    "model.fit(X_train,Y_train)"
   ]
  },
  {
   "cell_type": "code",
   "execution_count": 61,
   "metadata": {
    "id": "KZ2aC_P-JcIP",
    "outputId": "3a688aa8-224c-4d56-b2a5-c51cc5b1b0c9"
   },
   "outputs": [
    {
     "name": "stdout",
     "output_type": "stream",
     "text": [
      "The model performance for training set\n",
      "--------------------------------------\n",
      "RMSE is 81.88464980764405\n",
      "R2 score is 0.9422948082769338\n"
     ]
    }
   ],
   "source": [
    "#### model evaluation for training set\n",
    "y_train_predict = model.predict(X_train)\n",
    "rmse = (np.sqrt(mean_squared_error(Y_train, y_train_predict)))\n",
    "r2 = r2_score(Y_train, y_train_predict)\n",
    "print(\"The model performance for training set\")\n",
    "print(\"--------------------------------------\")\n",
    "print('RMSE is {}'.format(rmse))\n",
    "print('R2 score is {}'.format(r2))\n"
   ]
  },
  {
   "cell_type": "code",
   "execution_count": 62,
   "metadata": {
    "id": "1OCVlQTLJcIP",
    "outputId": "681f7206-1efb-478b-95bc-35a8ab49793d"
   },
   "outputs": [
    {
     "name": "stdout",
     "output_type": "stream",
     "text": [
      "The model performance for testing set\n",
      "--------------------------------------\n",
      "RMSE is 126.61132124782779\n",
      "R2 score is 0.8936781945617294\n"
     ]
    }
   ],
   "source": [
    "# model evaluation for test set\n",
    "y_test_predict = model.predict(X_test)\n",
    "rmse_test = (np.sqrt(mean_squared_error(Y_test, y_test_predict)))\n",
    "r2_test = r2_score(Y_test, y_test_predict)\n",
    "print(\"The model performance for testing set\")\n",
    "print(\"--------------------------------------\")\n",
    "print('RMSE is {}'.format(rmse_test))\n",
    "print('R2 score is {}'.format(r2_test))"
   ]
  },
  {
   "cell_type": "code",
   "execution_count": 63,
   "metadata": {
    "id": "n7BhhDDjJcIP",
    "outputId": "3dbad05c-bb1c-4079-d757-46efb06ec204"
   },
   "outputs": [
    {
     "name": "stdout",
     "output_type": "stream",
     "text": [
      "The model performance for validation set\n",
      "--------------------------------------\n",
      "RMSE is 263.2355048082493\n",
      "R2 score is 0.13037152666071838\n"
     ]
    }
   ],
   "source": [
    "# model evaluation for Validation set\n",
    "y_val_predict = model.predict(X_val)\n",
    "rmse_val = (np.sqrt(mean_squared_error(Y_val, y_val_predict)))\n",
    "r2_val = r2_score(Y_val, y_val_predict)\n",
    "print(\"The model performance for validation set\")\n",
    "print(\"--------------------------------------\")\n",
    "print('RMSE is {}'.format(rmse_val))\n",
    "print('R2 score is {}'.format(r2_val))"
   ]
  },
  {
   "cell_type": "code",
   "execution_count": 64,
   "metadata": {
    "id": "zskQ7tiAJcIQ",
    "outputId": "fc73985f-e112-43e0-c04c-c863a2fffc07"
   },
   "outputs": [
    {
     "name": "stderr",
     "output_type": "stream",
     "text": [
      "C:\\Users\\Samarthya's Laptop\\AppData\\Local\\Temp\\ipykernel_708\\2507113549.py:21: UserWarning: linestyle is redundantly defined by the 'linestyle' keyword argument and the fmt string \"r-\" (-> linestyle='-'). The keyword argument will take precedence.\n",
      "  plt.plot((0,2500),(0,2500), 'r-',linestyle='dashed',label='y=x line')\n"
     ]
    },
    {
     "data": {
      "image/png": "[encoded data removed]",
      "text/plain": [
       "<Figure size 450x400 with 1 Axes>"
      ]
     },
     "metadata": {},
     "output_type": "display_data"
    }
   ],
   "source": [
    "#### define your data plot here       \n",
    "plt.figure(figsize=(4.5,4),dpi=100)\n",
    "plt.title(' ', fontsize=13) \n",
    "#### define your data plot here       \n",
    "plt.xlim((0,2500))\n",
    "plt.xticks(np.linspace(0,2500,6,endpoint=True))\n",
    "plt.ylim((0,2500))\n",
    "plt.yticks(np.linspace(0,2500,6,endpoint=True))\n",
    "plt.tick_params(axis='both', which='major', labelsize=13)\n",
    "plt.scatter(Y_train, y_train_predict, label='Training',\n",
    "            s=60,marker='o')\n",
    "plt.scatter(Y_test,y_test_predict, label='Primary test',\n",
    "            facecolors='red',alpha=1, edgecolors='none',s=60, marker='s')\n",
    "plt.scatter(Y_val, y_val_predict, label='Secondary test',\n",
    "            facecolors='orange',alpha=1, edgecolors='none',s=60, marker='^')\n",
    "plt.xlabel(\"Observed cycle life\",fontsize=13)\n",
    "plt.ylabel(\"Predicted cycle life\",fontsize=13)\n",
    "\n",
    "#####fitting with a y=x line here (polynomial approach)\n",
    "#p1 = np.polyfit(Y_train, y_train_predict,1)\n",
    "plt.plot((0,2500),(0,2500), 'r-',linestyle='dashed',label='y=x line')\n",
    "leg = plt.legend()\n",
    "leg.get_frame().set_edgecolor('black')\n",
    "plt.tight_layout()"
   ]
  },
  {
   "cell_type": "code",
   "execution_count": 65,
   "metadata": {
    "id": "93WnxQVxJcIQ",
    "outputId": "6c8cfbcc-cda4-4964-d26a-7f85a157356e"
   },
   "outputs": [
    {
     "data": {
      "text/plain": [
       "0     -0.000075\n",
       "1     -0.000042\n",
       "2     -0.000014\n",
       "3      0.000039\n",
       "4     -0.000053\n",
       "         ...   \n",
       "119   -0.000155\n",
       "120   -0.000234\n",
       "121   -0.000173\n",
       "122   -0.000106\n",
       "123   -0.000080\n",
       "Name: difference_IR_100_2, Length: 124, dtype: float64"
      ]
     },
     "execution_count": 65,
     "metadata": {},
     "output_type": "execute_result"
    }
   ],
   "source": [
    "dataset[\"difference_IR_100_2\"]"
   ]
  },
  {
   "cell_type": "code",
   "execution_count": 66,
   "metadata": {
    "id": "kH5uyAK8JcIQ"
   },
   "outputs": [],
   "source": [
    "#4D Descriptor\n",
    "onebit= (dataset[\"dq_min\"]/dataset[\"dq_variance\"])*np.log10(dataset[\"discharge_capacity_2\"])\n",
    "#onebit= (dataset[\"dq_min\"]/np.log10(dataset[\"dq_variance\"]))*np.log10(dataset[\"discharge_capacity_2\"])"
   ]
  },
  {
   "cell_type": "code",
   "execution_count": 67,
   "metadata": {
    "id": "khm-Z8b4JcIQ"
   },
   "outputs": [],
   "source": [
    "twobit=(dataset[\"dq_variance\"]*dataset[\"slope_100_2\"])/(dataset[\"dq_variance\"]-dataset[\"slope_100_2\"])\n",
    "#twobit=(np.log10(dataset[\"dq_variance\"])*dataset[\"slope_100_2\"])/(np.log(dataset[\"dq_variance\"])-dataset[\"slope_100_2\"])"
   ]
  },
  {
   "cell_type": "code",
   "execution_count": 68,
   "metadata": {
    "id": "V_O0SKFiJcIR"
   },
   "outputs": [],
   "source": [
    "threebit=np.abs((dataset[\"ave_chg_time_5_1\"]/dataset[\"difference_IR_100_2\"])-(dataset[\"Integral_temp_100_2\"]/dataset[\"difference_IR_100_2\"]))"
   ]
  },
  {
   "cell_type": "code",
   "execution_count": 69,
   "metadata": {
    "id": "Ms3QFyxVJcIR"
   },
   "outputs": [],
   "source": [
    "fourbit=(dataset[\"difference_IR_100_2\"]/dataset[\"dq_variance\"])/(dataset[\"dq_variance\"]+dataset[\"slope_100_2\"])\n",
    "#fourbit=(dataset[\"difference_IR_100_2\"]/(np.log10(dataset[\"dq_variance\"])))/(np.log10(dataset[\"dq_variance\"])+dataset[\"slope_100_2\"])"
   ]
  },
  {
   "cell_type": "code",
   "execution_count": 70,
   "metadata": {
    "id": "TN9ZTRxHJcIR"
   },
   "outputs": [],
   "source": [
    "dq_new=pd.DataFrame({'obe_bit':onebit,\n",
    "                    'two_bit': twobit,\n",
    "                   'three_bit':threebit,\n",
    "                   'fourbit':fourbit})"
   ]
  },
  {
   "cell_type": "code",
   "execution_count": 71,
   "metadata": {
    "id": "TQ8DZnYrJcIR"
   },
   "outputs": [],
   "source": [
    "X_train, X_test, Y_train, Y_test = train_test_split(dq_new[0:83], Y2[0:83],\n",
    "                                                    test_size = 0.4, random_state=1000)"
   ]
  },
  {
   "cell_type": "code",
   "execution_count": 72,
   "metadata": {
    "id": "9Q0wnv7PJcIR"
   },
   "outputs": [],
   "source": [
    "X_val=dq_new[84:123]\n",
    "#X_val=X1[84:123]\n",
    "Y_val=Y2[84:123]"
   ]
  },
  {
   "cell_type": "code",
   "execution_count": 73,
   "metadata": {
    "id": "DP4NJUA6JcIS",
    "outputId": "17f5f02a-c138-4c39-9f06-aee2890884d8"
   },
   "outputs": [
    {
     "data": {
      "text/html": [
       "<style>#sk-container-id-6 {color: black;background-color: white;}#sk-container-id-6 pre{padding: 0;}#sk-container-id-6 div.sk-toggleable {background-color: white;}#sk-container-id-6 label.sk-toggleable__label {cursor: pointer;display: block;width: 100%;margin-bottom: 0;padding: 0.3em;box-sizing: border-box;text-align: center;}#sk-container-id-6 label.sk-toggleable__label-arrow:before {content: \"▸\";float: left;margin-right: 0.25em;color: #696969;}#sk-container-id-6 label.sk-toggleable__label-arrow:hover:before {color: black;}#sk-container-id-6 div.sk-estimator:hover label.sk-toggleable__label-arrow:before {color: black;}#sk-container-id-6 div.sk-toggleable__content {max-height: 0;max-width: 0;overflow: hidden;text-align: left;background-color: #f0f8ff;}#sk-container-id-6 div.sk-toggleable__content pre {margin: 0.2em;color: black;border-radius: 0.25em;background-color: #f0f8ff;}#sk-container-id-6 input.sk-toggleable__control:checked~div.sk-toggleable__content {max-height: 200px;max-width: 100%;overflow: auto;}#sk-container-id-6 input.sk-toggleable__control:checked~label.sk-toggleable__label-arrow:before {content: \"▾\";}#sk-container-id-6 div.sk-estimator input.sk-toggleable__control:checked~label.sk-toggleable__label {background-color: #d4ebff;}#sk-container-id-6 div.sk-label input.sk-toggleable__control:checked~label.sk-toggleable__label {background-color: #d4ebff;}#sk-container-id-6 input.sk-hidden--visually {border: 0;clip: rect(1px 1px 1px 1px);clip: rect(1px, 1px, 1px, 1px);height: 1px;margin: -1px;overflow: hidden;padding: 0;position: absolute;width: 1px;}#sk-container-id-6 div.sk-estimator {font-family: monospace;background-color: #f0f8ff;border: 1px dotted black;border-radius: 0.25em;box-sizing: border-box;margin-bottom: 0.5em;}#sk-container-id-6 div.sk-estimator:hover {background-color: #d4ebff;}#sk-container-id-6 div.sk-parallel-item::after {content: \"\";width: 100%;border-bottom: 1px solid gray;flex-grow: 1;}#sk-container-id-6 div.sk-label:hover label.sk-toggleable__label {background-color: #d4ebff;}#sk-container-id-6 div.sk-serial::before {content: \"\";position: absolute;border-left: 1px solid gray;box-sizing: border-box;top: 0;bottom: 0;left: 50%;z-index: 0;}#sk-container-id-6 div.sk-serial {display: flex;flex-direction: column;align-items: center;background-color: white;padding-right: 0.2em;padding-left: 0.2em;position: relative;}#sk-container-id-6 div.sk-item {position: relative;z-index: 1;}#sk-container-id-6 div.sk-parallel {display: flex;align-items: stretch;justify-content: center;background-color: white;position: relative;}#sk-container-id-6 div.sk-item::before, #sk-container-id-6 div.sk-parallel-item::before {content: \"\";position: absolute;border-left: 1px solid gray;box-sizing: border-box;top: 0;bottom: 0;left: 50%;z-index: -1;}#sk-container-id-6 div.sk-parallel-item {display: flex;flex-direction: column;z-index: 1;position: relative;background-color: white;}#sk-container-id-6 div.sk-parallel-item:first-child::after {align-self: flex-end;width: 50%;}#sk-container-id-6 div.sk-parallel-item:last-child::after {align-self: flex-start;width: 50%;}#sk-container-id-6 div.sk-parallel-item:only-child::after {width: 0;}#sk-container-id-6 div.sk-dashed-wrapped {border: 1px dashed gray;margin: 0 0.4em 0.5em 0.4em;box-sizing: border-box;padding-bottom: 0.4em;background-color: white;}#sk-container-id-6 div.sk-label label {font-family: monospace;font-weight: bold;display: inline-block;line-height: 1.2em;}#sk-container-id-6 div.sk-label-container {text-align: center;}#sk-container-id-6 div.sk-container {/* jupyter's `normalize.less` sets `[hidden] { display: none; }` but bootstrap.min.css set `[hidden] { display: none !important; }` so we also need the `!important` here to be able to override the default hidden behavior on the sphinx rendered scikit-learn.org. See: https://github.com/scikit-learn/scikit-learn/issues/21755 */display: inline-block !important;position: relative;}#sk-container-id-6 div.sk-text-repr-fallback {display: none;}</style><div id=\"sk-container-id-6\" class=\"sk-top-container\"><div class=\"sk-text-repr-fallback\"><pre>LinearRegression()</pre><b>In a Jupyter environment, please rerun this cell to show the HTML representation or trust the notebook. <br />On GitHub, the HTML representation is unable to render, please try loading this page with nbviewer.org.</b></div><div class=\"sk-container\" hidden><div class=\"sk-item\"><div class=\"sk-estimator sk-toggleable\"><input class=\"sk-toggleable__control sk-hidden--visually\" id=\"sk-estimator-id-6\" type=\"checkbox\" checked><label for=\"sk-estimator-id-6\" class=\"sk-toggleable__label sk-toggleable__label-arrow\">LinearRegression</label><div class=\"sk-toggleable__content\"><pre>LinearRegression()</pre></div></div></div></div></div>"
      ],
      "text/plain": [
       "LinearRegression()"
      ]
     },
     "execution_count": 73,
     "metadata": {},
     "output_type": "execute_result"
    }
   ],
   "source": [
    "#model=ElasticNet(alpha=0.0001,l1_ratio=0.5,fit_intercept=True,tol=0.0001,max_iter=5000000,random_state=1)\n",
    "from sklearn.linear_model import LinearRegression\n",
    "model=LinearRegression()\n",
    "model.fit(X_train,Y_train)"
   ]
  },
  {
   "cell_type": "code",
   "execution_count": 74,
   "metadata": {
    "id": "7RFhrWkxJcIS",
    "outputId": "78e34352-6f3b-46d0-cc50-4d85c9d35499"
   },
   "outputs": [
    {
     "name": "stdout",
     "output_type": "stream",
     "text": [
      "The model performance for training set\n",
      "--------------------------------------\n",
      "RMSE is 78.89407942127242\n",
      "R2 score is 0.946432827619902\n"
     ]
    }
   ],
   "source": [
    "#### model evaluation for training set\n",
    "y_train_predict = model.predict(X_train)\n",
    "rmse = (np.sqrt(mean_squared_error(Y_train, y_train_predict)))\n",
    "r2 = r2_score(Y_train, y_train_predict)\n",
    "print(\"The model performance for training set\")\n",
    "print(\"--------------------------------------\")\n",
    "print('RMSE is {}'.format(rmse))\n",
    "print('R2 score is {}'.format(r2))\n"
   ]
  },
  {
   "cell_type": "code",
   "execution_count": 75,
   "metadata": {
    "id": "mrHmanNuJcIS",
    "outputId": "d266b5d0-9dd3-4bf8-d756-606408ba8011"
   },
   "outputs": [
    {
     "name": "stdout",
     "output_type": "stream",
     "text": [
      "The model performance for testing set\n",
      "--------------------------------------\n",
      "RMSE is 103.1727632470033\n",
      "R2 score is 0.9293995636051264\n"
     ]
    }
   ],
   "source": [
    "# model evaluation for test set\n",
    "y_test_predict = model.predict(X_test)\n",
    "rmse_test = (np.sqrt(mean_squared_error(Y_test, y_test_predict)))\n",
    "r2_test = r2_score(Y_test, y_test_predict)\n",
    "print(\"The model performance for testing set\")\n",
    "print(\"--------------------------------------\")\n",
    "print('RMSE is {}'.format(rmse_test))\n",
    "print('R2 score is {}'.format(r2_test))"
   ]
  },
  {
   "cell_type": "code",
   "execution_count": 76,
   "metadata": {
    "id": "f9Vk1QYDJcIS",
    "outputId": "a5af8049-d465-4c41-a713-80ab2a234125"
   },
   "outputs": [
    {
     "name": "stdout",
     "output_type": "stream",
     "text": [
      "The model performance for validation set\n",
      "--------------------------------------\n",
      "RMSE is 338.12734350214225\n",
      "R2 score is -0.4348463727167933\n"
     ]
    }
   ],
   "source": [
    "# model evaluation for Validation set\n",
    "y_val_predict = model.predict(X_val)\n",
    "rmse_val = (np.sqrt(mean_squared_error(Y_val, y_val_predict)))\n",
    "r2_val = r2_score(Y_val, y_val_predict)\n",
    "print(\"The model performance for validation set\")\n",
    "print(\"--------------------------------------\")\n",
    "print('RMSE is {}'.format(rmse_val))\n",
    "print('R2 score is {}'.format(r2_val))"
   ]
  },
  {
   "cell_type": "code",
   "execution_count": 77,
   "metadata": {
    "id": "-atJ0CfSJcIT",
    "outputId": "5f136cdf-7bd4-4931-8405-0ee30cf32436"
   },
   "outputs": [
    {
     "name": "stderr",
     "output_type": "stream",
     "text": [
      "C:\\Users\\Samarthya's Laptop\\AppData\\Local\\Temp\\ipykernel_708\\2507113549.py:21: UserWarning: linestyle is redundantly defined by the 'linestyle' keyword argument and the fmt string \"r-\" (-> linestyle='-'). The keyword argument will take precedence.\n",
      "  plt.plot((0,2500),(0,2500), 'r-',linestyle='dashed',label='y=x line')\n"
     ]
    },
    {
     "data": {
      "image/png": "[encoded data removed]",
      "text/plain": [
       "<Figure size 450x400 with 1 Axes>"
      ]
     },
     "metadata": {},
     "output_type": "display_data"
    }
   ],
   "source": [
    "#### define your data plot here       \n",
    "plt.figure(figsize=(4.5,4),dpi=100)\n",
    "plt.title(' ', fontsize=13) \n",
    "#### define your data plot here       \n",
    "plt.xlim((0,2500))\n",
    "plt.xticks(np.linspace(0,2500,6,endpoint=True))\n",
    "plt.ylim((0,2500))\n",
    "plt.yticks(np.linspace(0,2500,6,endpoint=True))\n",
    "plt.tick_params(axis='both', which='major', labelsize=13)\n",
    "plt.scatter(Y_train, y_train_predict, label='Training',\n",
    "            s=60,marker='o')\n",
    "plt.scatter(Y_test,y_test_predict, label='Primary test',\n",
    "            facecolors='red',alpha=1, edgecolors='none',s=60, marker='s')\n",
    "plt.scatter(Y_val, y_val_predict, label='Secondary test',\n",
    "            facecolors='orange',alpha=1, edgecolors='none',s=60, marker='^')\n",
    "plt.xlabel(\"Observed cycle life\",fontsize=13)\n",
    "plt.ylabel(\"Predicted cycle life\",fontsize=13)\n",
    "\n",
    "#####fitting with a y=x line here (polynomial approach)\n",
    "#p1 = np.polyfit(Y_train, y_train_predict,1)\n",
    "plt.plot((0,2500),(0,2500), 'r-',linestyle='dashed',label='y=x line')\n",
    "leg = plt.legend()\n",
    "leg.get_frame().set_edgecolor('black')\n",
    "plt.tight_layout()"
   ]
  }
 ],
 "metadata": {
  "colab": {
   "provenance": []
  },
  "kernelspec": {
   "display_name": "Python 3 (ipykernel)",
   "language": "python",
   "name": "python3"
  },
  "language_info": {
   "codemirror_mode": {
    "name": "ipython",
    "version": 3
   },
   "file_extension": ".py",
   "mimetype": "text/x-python",
   "name": "python",
   "nbconvert_exporter": "python",
   "pygments_lexer": "ipython3",
   "version": "3.11.3"
  }
 },
 "nbformat": 4,
 "nbformat_minor": 1
}
